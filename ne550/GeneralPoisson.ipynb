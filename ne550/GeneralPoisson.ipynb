{
 "cells": [
  {
   "cell_type": "code",
   "execution_count": 14,
   "metadata": {
    "collapsed": true
   },
   "outputs": [],
   "source": [
    "%matplotlib inline\n",
    "import numpy as np"
   ]
  },
  {
   "cell_type": "code",
   "execution_count": 84,
   "metadata": {
    "code_folding": [],
    "collapsed": false
   },
   "outputs": [],
   "source": [
    "class Measurement(object):\n",
    "    def __init__(self, num, error=None):\n",
    "        self._num = num\n",
    "        if error is None:\n",
    "            self._error = num ** 0.5 # Assume Poisson statistics\n",
    "        else:\n",
    "            self._error = error\n",
    "            \n",
    "    def __repr__(self):\n",
    "        return u\"{0}{1}{2:.1}\".format(self._num, unichr(2213), self._error).encode('ascii', 'replace')\n",
    "    \n",
    "    def __add__(self, other):\n",
    "        \"\"\" Add two measurements and their errors\n",
    "        \"\"\"\n",
    "        if type(other) is type(5):\n",
    "            o = Measurement(other, 0)\n",
    "        else:\n",
    "            o = other\n",
    "        s = self._num + o._num\n",
    "        e = (self._error ** 2 + o._error ** 2) ** 0.5\n",
    "        return Measurement(s, e)\n",
    "    \n",
    "    def __radd__(self, other):\n",
    "        return self.__add__(other)\n",
    "    \n",
    "    def __div__(self, other):\n",
    "        s = self._num / other._num\n",
    "        e = (self._error ** 2 / other._num ** 2 - self._num ** 2 / other._num ** 4 * other._error ** 2) ** 0.5\n",
    "        return Measurement(s, e)"
   ]
  },
  {
   "cell_type": "code",
   "execution_count": 85,
   "metadata": {
    "code_folding": [
     0
    ],
    "collapsed": false
   },
   "outputs": [],
   "source": [
    "class SimpleExperiment(object):\n",
    "    def __init__(self):\n",
    "        self._background_filename = None\n",
    "        self._data_file = None\n",
    "        self._data = None\n",
    "        self._background = None\n",
    "        self._background_rate = None\n",
    "        self._count_rate = None\n",
    "        self._data_times = None\n",
    "        self._background_times = None\n",
    "        self._deadtime = None\n",
    "    \n",
    "    @property\n",
    "    def background_file(self):\n",
    "        return self._background_file\n",
    "    \n",
    "    @background_file.setter\n",
    "    def background_file(self, filename):\n",
    "        self._background_file = filename\n",
    "    \n",
    "    @property\n",
    "    def data_file(self):\n",
    "        return self._data_file\n",
    "    \n",
    "    @data_file.setter\n",
    "    def data_file(self, filename):\n",
    "        self._data_file = filename\n",
    "    \n",
    "    def fileread(self, filename):\n",
    "        with open(filename, 'r') as f:\n",
    "            lines = f.readlines()\n",
    "            lines = lines[11:]\n",
    "            splitlines = [l.split(\"\\t\") for l in lines]\n",
    "            return splitlines\n",
    "    \n",
    "    @property\n",
    "    def data(self):\n",
    "        if self._data is None:\n",
    "            self._data = [Measurement(int(l[2])) for l in self.fileread(self.data_file)]\n",
    "        return self._data\n",
    "    \n",
    "    @property\n",
    "    def background(self):\n",
    "        if self._background is None:\n",
    "            self._background = [Measurement(int(l[2])) for l in self.fileread(self.background_file)]\n",
    "        return self._background\n",
    "    \n",
    "    @property\n",
    "    def count_errors(self):\n",
    "        return [n**0.5 for n in self.data]\n",
    "    \n",
    "    @property\n",
    "    def background_errors(self):\n",
    "        return [n**0.5 for n in self.data]\n",
    "    \n",
    "    @property\n",
    "    def deadtime(self):\n",
    "        return self._deadtime\n",
    "    \n",
    "    @deadtime.setter\n",
    "    def deadtime(self, time):\n",
    "        self._deadtime = time\n",
    "        \n",
    "    @property\n",
    "    def background_times(self):\n",
    "        if self._background_times is None:\n",
    "            self._background_times = [Measurement(float(l[3])) for l in self.fileread(self.background_file)]\n",
    "        return self._background_times\n",
    "        \n",
    "    @property\n",
    "    def count_times(self):\n",
    "        if self._count_times is None:\n",
    "            self._count_times = [Measurement(float(l[3])) for l in self.fileread(self.data_file)]\n",
    "        return self._count_times\n",
    "        \n",
    "    @property\n",
    "    def background_countrate(self):\n",
    "        return sum(self.background) / sum(self.background_times)\n",
    "    \n",
    "    def deadtimecorrect(self):\n",
    "        self._data = [c / (1 - c * self.deadtime) for c in self.data]"
   ]
  },
  {
   "cell_type": "code",
   "execution_count": 86,
   "metadata": {
    "code_folding": [],
    "collapsed": false
   },
   "outputs": [
    {
     "name": "stdout",
     "output_type": "stream",
     "text": [
      "[['1', '900', '35', '60.00', '02/16/2017 06:06:28 PM', '\\n'], ['2', '900', '25', '60.00', '02/16/2017 06:07:29 PM', '\\n'], ['3', '900', '47', '60.00', '02/16/2017 06:08:30 PM', '\\n'], ['4', '900', '29', '60.00', '02/16/2017 06:09:31 PM', '\\n'], ['5', '900', '35', '60.00', '02/16/2017 06:10:32 PM', '\\n']]\n"
     ]
    }
   ],
   "source": [
    "fn = \"Lab 5/background.tsv\"\n",
    "with open(fn, 'r') as f:\n",
    "    lines = f.readlines()\n",
    "    lines = lines[11:]\n",
    "    splitlines = [l.split(\"\\t\") for l in lines]\n",
    "    print(splitlines)"
   ]
  },
  {
   "cell_type": "code",
   "execution_count": 87,
   "metadata": {
    "collapsed": true
   },
   "outputs": [],
   "source": [
    "exp = SimpleExperiment()"
   ]
  },
  {
   "cell_type": "code",
   "execution_count": 88,
   "metadata": {
    "collapsed": true
   },
   "outputs": [],
   "source": [
    "exp.data_file = \"Lab 5/Co-60_point.tsv\"\n",
    "exp.background_file = \"Lab 5/background.tsv\""
   ]
  },
  {
   "cell_type": "code",
   "execution_count": 89,
   "metadata": {
    "collapsed": false
   },
   "outputs": [
    {
     "data": {
      "text/plain": [
       "[426?2e+01, 661?3e+01, 1302?4e+01, 3694?6e+01, 16014?1e+02]"
      ]
     },
     "execution_count": 89,
     "metadata": {},
     "output_type": "execute_result"
    }
   ],
   "source": [
    "exp.data"
   ]
  },
  {
   "cell_type": "code",
   "execution_count": 90,
   "metadata": {
    "collapsed": false
   },
   "outputs": [
    {
     "data": {
      "text/plain": [
       "[35?6e+00, 25?5e+00, 47?7e+00, 29?5e+00, 35?6e+00]"
      ]
     },
     "execution_count": 90,
     "metadata": {},
     "output_type": "execute_result"
    }
   ],
   "source": [
    "exp.background"
   ]
  },
  {
   "cell_type": "code",
   "execution_count": 91,
   "metadata": {
    "collapsed": false
   },
   "outputs": [
    {
     "data": {
      "text/plain": [
       "<bound method SimpleExperiment.deadtimecorrect of <__main__.SimpleExperiment object at 0x000000000782FD68>>"
      ]
     },
     "execution_count": 91,
     "metadata": {},
     "output_type": "execute_result"
    }
   ],
   "source": [
    "exp.deadtimecorrect"
   ]
  },
  {
   "cell_type": "code",
   "execution_count": 92,
   "metadata": {
    "collapsed": true
   },
   "outputs": [],
   "source": [
    "exp.deadtime = 266"
   ]
  },
  {
   "cell_type": "code",
   "execution_count": 93,
   "metadata": {
    "collapsed": false
   },
   "outputs": [
    {
     "data": {
      "text/plain": [
       "[426?2e+01, 661?3e+01, 1302?4e+01, 3694?6e+01, 16014?1e+02]"
      ]
     },
     "execution_count": 93,
     "metadata": {},
     "output_type": "execute_result"
    }
   ],
   "source": [
    "exp.data"
   ]
  },
  {
   "cell_type": "code",
   "execution_count": 94,
   "metadata": {
    "collapsed": false
   },
   "outputs": [],
   "source": [
    "m = Measurement(1.5, .2)"
   ]
  },
  {
   "cell_type": "code",
   "execution_count": 95,
   "metadata": {
    "collapsed": false
   },
   "outputs": [
    {
     "data": {
      "text/plain": [
       "1.5?0.2"
      ]
     },
     "execution_count": 95,
     "metadata": {},
     "output_type": "execute_result"
    }
   ],
   "source": [
    "m"
   ]
  },
  {
   "cell_type": "code",
   "execution_count": 96,
   "metadata": {
    "collapsed": false
   },
   "outputs": [
    {
     "data": {
      "text/plain": [
       "u'\\u08a5'"
      ]
     },
     "execution_count": 96,
     "metadata": {},
     "output_type": "execute_result"
    }
   ],
   "source": [
    "unichr(2213)"
   ]
  },
  {
   "cell_type": "code",
   "execution_count": 97,
   "metadata": {
    "collapsed": false
   },
   "outputs": [
    {
     "data": {
      "text/plain": [
       "20.639767440550294"
      ]
     },
     "execution_count": 97,
     "metadata": {},
     "output_type": "execute_result"
    }
   ],
   "source": [
    "exp.data[0]._error"
   ]
  },
  {
   "cell_type": "code",
   "execution_count": 98,
   "metadata": {
    "collapsed": false
   },
   "outputs": [
    {
     "data": {
      "text/plain": [
       "0.57?0.03"
      ]
     },
     "execution_count": 98,
     "metadata": {},
     "output_type": "execute_result"
    }
   ],
   "source": [
    "exp.background_countrate"
   ]
  },
  {
   "cell_type": "code",
   "execution_count": null,
   "metadata": {
    "collapsed": true
   },
   "outputs": [],
   "source": []
  },
  {
   "cell_type": "code",
   "execution_count": null,
   "metadata": {
    "collapsed": true
   },
   "outputs": [],
   "source": []
  }
 ],
 "metadata": {
  "anaconda-cloud": {},
  "kernelspec": {
   "display_name": "Python [conda env:nuc]",
   "language": "python",
   "name": "conda-env-nuc-py"
  },
  "language_info": {
   "codemirror_mode": {
    "name": "ipython",
    "version": 2
   },
   "file_extension": ".py",
   "mimetype": "text/x-python",
   "name": "python",
   "nbconvert_exporter": "python",
   "pygments_lexer": "ipython2",
   "version": "2.7.12"
  },
  "latex_envs": {
   "bibliofile": "biblio.bib",
   "cite_by": "apalike",
   "current_citInitial": 1,
   "eqLabelWithNumbers": true,
   "eqNumInitial": 0
  }
 },
 "nbformat": 4,
 "nbformat_minor": 1
}
