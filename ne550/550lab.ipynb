{
 "cells": [
  {
   "cell_type": "code",
   "execution_count": 4,
   "metadata": {
    "collapsed": false
   },
   "outputs": [],
   "source": [
    "import uncertainties\n",
    "from uncertainties import ufloat\n",
    "from uncertainties.umath import *\n",
    "import numpy as np"
   ]
  },
  {
   "cell_type": "code",
   "execution_count": 6,
   "metadata": {
    "collapsed": false
   },
   "outputs": [],
   "source": [
    "d = np.array([\n",
    "    map(lambda (x, s): ufloat(x, s), \n",
    "       [\n",
    "           (167, 6),\n",
    "           (163, 8),\n",
    "           (169, 12),\n",
    "           (176, 20)\n",
    "       ])\n",
    "])"
   ]
  },
  {
   "cell_type": "code",
   "execution_count": 7,
   "metadata": {
    "collapsed": false
   },
   "outputs": [
    {
     "data": {
      "text/plain": [
       "array([[167.0+/-6.0, 163.0+/-8.0, 169.0+/-12.0, 176.0+/-20.0]], dtype=object)"
      ]
     },
     "execution_count": 7,
     "metadata": {},
     "output_type": "execute_result"
    }
   ],
   "source": [
    "d"
   ]
  },
  {
   "cell_type": "code",
   "execution_count": 8,
   "metadata": {
    "collapsed": false
   },
   "outputs": [
    {
     "data": {
      "text/plain": [
       "168.75+/-6.34428877022476"
      ]
     },
     "execution_count": 8,
     "metadata": {},
     "output_type": "execute_result"
    }
   ],
   "source": [
    "np.mean(d)"
   ]
  },
  {
   "cell_type": "code",
   "execution_count": 11,
   "metadata": {
    "collapsed": true
   },
   "outputs": [],
   "source": [
    "def weird(a, b, c):\n",
    "    return a / (b ** 2 - a) + c"
   ]
  },
  {
   "cell_type": "code",
   "execution_count": 12,
   "metadata": {
    "collapsed": false
   },
   "outputs": [
    {
     "data": {
      "text/plain": [
       "26.0+/-37.311660375812814"
      ]
     },
     "execution_count": 12,
     "metadata": {},
     "output_type": "execute_result"
    }
   ],
   "source": [
    "a = ufloat(1500, 60)\n",
    "b = ufloat(40, 3)\n",
    "c = ufloat(11.0, 2.0)\n",
    "weird(a, b, c)"
   ]
  },
  {
   "cell_type": "code",
   "execution_count": 13,
   "metadata": {
    "collapsed": true
   },
   "outputs": [],
   "source": [
    "def bg_corr(count, time, background_count, background_time, deadtime):\n",
    "    \"\"\" Corrects cout rate for deadtime and background\n",
    "    \n",
    "    Assumes that counts follow poisson errors and that there is no error in\n",
    "    count time.\n",
    "    \n",
    "    Parameters\n",
    "    ----------\n",
    "    count : int\n",
    "        Counts measured in experiment\n",
    "    time : float\n",
    "        Time counter was measured (seconds)\n",
    "    background_count : int\n",
    "        Number of counts observed in background\n",
    "    background_time : float\n",
    "        Amount of time background recorded\n",
    "    deadtime : float\n",
    "        Deadtime for counter apparatus (given)\n",
    "    \n",
    "    Returns\n",
    "    -------\n",
    "    uncertainties.ufloat\n",
    "        Measurement plus associated error, in units of counts/sec\n",
    "    \"\"\"\n",
    "    count = ufloat(count, count ** 0.5)\n",
    "    background_count = ufloat(background_count, background_count ** 0.5)\n",
    "    \n",
    "    countrate = count / time\n",
    "    bgrate = background_count / background_time\n",
    "    \n",
    "    countrate = countrate / (1 - countrate * deadtime)\n",
    "    bgrate = bgrate / (1 - bgrate * deadtime)\n",
    "    \n",
    "    return countrate - bgrate"
   ]
  },
  {
   "cell_type": "code",
   "execution_count": 14,
   "metadata": {
    "collapsed": false
   },
   "outputs": [
    {
     "data": {
      "text/plain": [
       "3.2862463340285117+/-0.33404108414786704"
      ]
     },
     "execution_count": 14,
     "metadata": {},
     "output_type": "execute_result"
    }
   ],
   "source": [
    "bg_corr(100, 30, 30, 600, 262e-6)"
   ]
  },
  {
   "cell_type": "code",
   "execution_count": null,
   "metadata": {
    "collapsed": true
   },
   "outputs": [],
   "source": []
  }
 ],
 "metadata": {
  "anaconda-cloud": {},
  "kernelspec": {
   "display_name": "Python [conda env:nuc]",
   "language": "python",
   "name": "conda-env-nuc-py"
  },
  "language_info": {
   "codemirror_mode": {
    "name": "ipython",
    "version": 2
   },
   "file_extension": ".py",
   "mimetype": "text/x-python",
   "name": "python",
   "nbconvert_exporter": "python",
   "pygments_lexer": "ipython2",
   "version": "2.7.12"
  }
 },
 "nbformat": 4,
 "nbformat_minor": 1
}
