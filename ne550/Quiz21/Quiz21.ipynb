{
 "cells": [
  {
   "cell_type": "code",
   "execution_count": 1,
   "metadata": {
    "collapsed": true
   },
   "outputs": [],
   "source": [
    "import numpy as np"
   ]
  },
  {
   "cell_type": "markdown",
   "metadata": {},
   "source": [
    "# A"
   ]
  },
  {
   "cell_type": "code",
   "execution_count": 2,
   "metadata": {
    "collapsed": false
   },
   "outputs": [
    {
     "name": "stdout",
     "output_type": "stream",
     "text": [
      "0.562037494057\n"
     ]
    }
   ],
   "source": [
    "V0 = 0.0253 * np.log(1e15 * 1e15 / (1.5e10) ** 2)\n",
    "print(V0)"
   ]
  },
  {
   "cell_type": "code",
   "execution_count": 5,
   "metadata": {
    "collapsed": false
   },
   "outputs": [
    {
     "name": "stdout",
     "output_type": "stream",
     "text": [
      "0.000739040714129\n"
     ]
    }
   ],
   "source": [
    "X0 = ((2 * 12 * 8.8542e-14 * (20 + V0) / 1.6e-19) * (2e15 / 1e30)) ** 0.5\n",
    "print(X0)"
   ]
  },
  {
   "cell_type": "markdown",
   "metadata": {},
   "source": [
    "# B"
   ]
  },
  {
   "cell_type": "code",
   "execution_count": 6,
   "metadata": {
    "collapsed": false
   },
   "outputs": [
    {
     "name": "stdout",
     "output_type": "stream",
     "text": [
      "34.6590536512\n"
     ]
    }
   ],
   "source": [
    "Rair = (0.05 * 5 + 2.85) * 5 ** 1.5\n",
    "print(Rair)"
   ]
  },
  {
   "cell_type": "code",
   "execution_count": 7,
   "metadata": {
    "collapsed": false
   },
   "outputs": [
    {
     "name": "stdout",
     "output_type": "stream",
     "text": [
      "0.0264585173984\n"
     ]
    }
   ],
   "source": [
    "Rsi = 0.336 * 28 ** 0.5 / 2329 * Rair\n",
    "print(Rsi)"
   ]
  },
  {
   "cell_type": "markdown",
   "metadata": {},
   "source": [
    "# C"
   ]
  },
  {
   "cell_type": "markdown",
   "metadata": {},
   "source": [
    "This range is greater  than the sensitive volume of the voltage, so we must increase the voltage to detect all of the energy of this $\\alpha$ particle."
   ]
  },
  {
   "cell_type": "markdown",
   "metadata": {},
   "source": [
    "\\begin{align*}\n",
    "    X_0 &= \\frac{2 \\epsilon_s \\left(V_0+V_b\\right)}{e} \\frac{N_a + N_d}{N_a N_d} \\\\\n",
    "    V_b &= \\frac{X_0^2 N_a N_d}{N_a + N_b} \\frac{e}{2 \\epsilon_s} - V_0\n",
    "\\end{align*}"
   ]
  },
  {
   "cell_type": "code",
   "execution_count": 11,
   "metadata": {
    "collapsed": false
   },
   "outputs": [
    {
     "data": {
      "text/plain": [
       "262.98638883430749"
      ]
     },
     "execution_count": 11,
     "metadata": {},
     "output_type": "execute_result"
    }
   ],
   "source": [
    "(Rsi / 10) ** 2 * 1e30 / 2e15 * 1.6e-19 / (2 * 12 * 8.8542e-14) - V0"
   ]
  },
  {
   "cell_type": "markdown",
   "metadata": {},
   "source": [
    "# D"
   ]
  },
  {
   "cell_type": "code",
   "execution_count": 10,
   "metadata": {
    "collapsed": false
   },
   "outputs": [
    {
     "name": "stdout",
     "output_type": "stream",
     "text": [
      "0.00200808127326\n"
     ]
    }
   ],
   "source": [
    "R = 2.36 / (5e6 / 3.62) ** 0.5\n",
    "print(R)"
   ]
  },
  {
   "cell_type": "code",
   "execution_count": null,
   "metadata": {
    "collapsed": true
   },
   "outputs": [],
   "source": []
  }
 ],
 "metadata": {
  "anaconda-cloud": {},
  "kernelspec": {
   "display_name": "Python [Root]",
   "language": "python",
   "name": "Python [Root]"
  },
  "language_info": {
   "codemirror_mode": {
    "name": "ipython",
    "version": 2
   },
   "file_extension": ".py",
   "mimetype": "text/x-python",
   "name": "python",
   "nbconvert_exporter": "python",
   "pygments_lexer": "ipython2",
   "version": "2.7.12"
  }
 },
 "nbformat": 4,
 "nbformat_minor": 0
}
