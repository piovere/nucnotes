{
 "cells": [
  {
   "cell_type": "code",
   "execution_count": 1,
   "metadata": {
    "collapsed": true
   },
   "outputs": [],
   "source": [
    "import numpy as np"
   ]
  },
  {
   "cell_type": "markdown",
   "metadata": {},
   "source": [
    "Write a “function” m-file called zscore1 that scales a data matrix so that each column has a unit variance and zero mean and returns the scaling parameters (mean and standard deviation)."
   ]
  },
  {
   "cell_type": "code",
   "execution_count": 2,
   "metadata": {
    "collapsed": true
   },
   "outputs": [],
   "source": [
    "def zscore1(x):\n",
    "    means = np.mean(x, axis=0)\n",
    "    stds = np.std(x, axis=0)\n",
    "\n",
    "    xs = (x - means[np.newaxis, :]) / stds[np.newaxis, :]\n",
    "\n",
    "    return xs, means, stds"
   ]
  },
  {
   "cell_type": "markdown",
   "metadata": {},
   "source": [
    "## Create a matrix of random test data that meets the criteria above [sic]"
   ]
  },
  {
   "cell_type": "markdown",
   "metadata": {},
   "source": [
    "\"generate a matrix of random test data with 4 variables (columns) and 20 observations (rows). **Each column should have a different mean and standard deviation**.\""
   ]
  },
  {
   "cell_type": "code",
   "execution_count": 3,
   "metadata": {},
   "outputs": [
    {
     "name": "stdout",
     "output_type": "stream",
     "text": [
      "Means:\t[56 59 26 79]\n",
      "Stds:\t[41 89 87 82]\n"
     ]
    }
   ],
   "source": [
    "means = np.random.randint(100, size=4)\n",
    "stds = np.random.randint(100, size=4)\n",
    "print(f'Means:\\t{means}\\n'\n",
    "      f'Stds:\\t{stds}')"
   ]
  },
  {
   "cell_type": "code",
   "execution_count": 4,
   "metadata": {},
   "outputs": [
    {
     "name": "stdout",
     "output_type": "stream",
     "text": [
      "[[  81.97872012  262.39794313  -20.54081847   49.02232236]\n",
      " [  23.10888748  -39.83676434  139.49528058   80.44426904]\n",
      " [   7.01938763   -2.56516069  -16.30432222   12.81275072]\n",
      " [  31.03721713  118.72725126   46.17633453  184.82719221]\n",
      " [  81.0576051   145.44875754   81.20749627  111.25392181]\n",
      " [  72.92329611  -36.98267391   49.82523581  -57.36656922]\n",
      " [ -14.96941455  -54.31770777   81.87236673   80.34789761]\n",
      " [  87.15165403   67.57952044   21.21701085   71.41868841]\n",
      " [  40.30659039    7.24685416  127.44042432  316.34990049]\n",
      " [   8.00709333    8.16317024   78.20359787   64.2711651 ]\n",
      " [  93.19058451  -73.61194529   98.54099942   70.65968925]\n",
      " [  63.71598878  221.35721038   -9.68757349   56.91578947]\n",
      " [  23.33697539  240.48801988   -4.83663602  120.62924749]\n",
      " [  83.3239407   266.95946776  -24.50743851   62.06656755]\n",
      " [  -5.52407743  151.80993746   84.81115589  208.14389772]\n",
      " [  57.85111409  143.60404909   88.95300427  139.38141115]\n",
      " [ -65.18255248   -7.24267748  117.69497951  242.25921437]\n",
      " [  93.60740134  102.67735666   74.99817836  128.15041983]\n",
      " [ 118.35240093   47.37998195   -5.08942829   84.67380603]\n",
      " [  28.07668605  112.96636155  -11.31707667  108.90721476]]\n"
     ]
    }
   ],
   "source": [
    "x = np.random.randn(20, 4)\n",
    "x = (x * stds[np.newaxis, :]) + means[np.newaxis, :]\n",
    "print(x)"
   ]
  },
  {
   "cell_type": "markdown",
   "metadata": {},
   "source": [
    "## Call the `zscore1` function to give the calculated standardized data matrix, mean vector, and standard deviation vector."
   ]
  },
  {
   "cell_type": "code",
   "execution_count": 5,
   "metadata": {},
   "outputs": [
    {
     "name": "stdout",
     "output_type": "stream",
     "text": [
      "[[  8.19332873e-01   1.67719392e+00  -1.32879776e+00  -7.15537842e-01]\n",
      " [ -4.99968703e-01  -1.16603353e+00   1.68980078e+00  -3.26117962e-01]\n",
      " [ -8.60542219e-01  -8.15406534e-01  -1.24888903e+00  -1.16429193e+00]\n",
      " [ -3.22290981e-01   3.25633547e-01  -7.03798013e-02   9.67525166e-01]\n",
      " [  7.98690238e-01   5.77012090e-01   5.90377455e-01   5.57136092e-02]\n",
      " [  6.16396418e-01  -1.13918410e+00  -1.55427904e-03  -2.03404143e+00]\n",
      " [ -1.35332197e+00  -1.30226082e+00   6.02918232e-01  -3.27312317e-01]\n",
      " [  9.35260837e-01  -1.55531020e-01  -5.41162197e-01  -4.37974193e-01]\n",
      " [ -1.14559818e-01  -7.23101483e-01   1.46242226e+00   2.59751830e+00]\n",
      " [ -8.38407254e-01  -7.14481378e-01   5.33717968e-01  -5.26555200e-01]\n",
      " [  1.07059621e+00  -1.48376845e+00   9.17321736e-01  -4.47380655e-01]\n",
      " [  4.10056183e-01   1.29110942e+00  -1.12408401e+00  -6.17712171e-01]\n",
      " [ -4.94857143e-01   1.47107962e+00  -1.03258570e+00   1.71904316e-01]\n",
      " [  8.49479920e-01   1.72010578e+00  -1.40361609e+00  -5.53877317e-01]\n",
      " [ -1.14164737e+00   6.36853931e-01   6.58349630e-01   1.25649481e+00]\n",
      " [  2.78621489e-01   5.59658273e-01   7.36473113e-01   4.04304472e-01]\n",
      " [ -2.47862281e+00  -8.59409568e-01   1.27860383e+00   1.67929428e+00]\n",
      " [  1.07993727e+00   1.74646583e-01   4.73257392e-01   2.65116047e-01]\n",
      " [  1.63448475e+00  -3.45555133e-01  -1.03735386e+00  -2.73700274e-01]\n",
      " [ -3.88637922e-01   2.71438846e-01  -1.15481968e+00   2.66302942e-02]]\n",
      "Means:\t[  45.41847493   84.1124476    49.90763854  106.75843981]\n",
      "Stds:\t[  44.62196793  106.29986969   53.01668864   80.68911814]\n"
     ]
    }
   ],
   "source": [
    "xs, xmeans, xstds = zscore1(x)\n",
    "print(xs)\n",
    "print(f'Means:\\t{xmeans}')\n",
    "print(f'Stds:\\t{xstds}')"
   ]
  },
  {
   "cell_type": "markdown",
   "metadata": {},
   "source": [
    "## Visually compare the calculated mean and standard deviation vectors to those you expect (based on how you generated your random test data)."
   ]
  },
  {
   "cell_type": "markdown",
   "metadata": {
    "collapsed": true
   },
   "source": [
    "Not very close to our true values. It may be that our sample is not large enough to be representative. To test, try larger sample (say, 2000000 rows)."
   ]
  },
  {
   "cell_type": "code",
   "execution_count": 6,
   "metadata": {
    "collapsed": true
   },
   "outputs": [],
   "source": [
    "y = np.random.randn(2000000, 4)\n",
    "y = (y * stds[np.newaxis, :]) + means[np.newaxis, :]"
   ]
  },
  {
   "cell_type": "code",
   "execution_count": 7,
   "metadata": {},
   "outputs": [
    {
     "name": "stdout",
     "output_type": "stream",
     "text": [
      "Means:\t[ 55.98381515  58.93500643  25.90269363  79.01524845]\n",
      "Stds:\t[ 40.99823858  88.98156703  87.05420662  82.0168006 ]\n"
     ]
    }
   ],
   "source": [
    "ys, ymeans, ystds = zscore1(y)\n",
    "print(f'Means:\\t{ymeans}')\n",
    "print(f'Stds:\\t{ystds}')"
   ]
  },
  {
   "cell_type": "markdown",
   "metadata": {},
   "source": [
    "Much better!"
   ]
  },
  {
   "cell_type": "markdown",
   "metadata": {},
   "source": [
    "## Check the mean and standard deviation of the columns in xs."
   ]
  },
  {
   "cell_type": "code",
   "execution_count": 8,
   "metadata": {},
   "outputs": [
    {
     "data": {
      "text/plain": [
       "array([  7.49400542e-17,  -3.05311332e-17,   6.66133815e-17,\n",
       "         2.08340289e-16])"
      ]
     },
     "execution_count": 8,
     "metadata": {},
     "output_type": "execute_result"
    }
   ],
   "source": [
    "np.mean(xs, axis=0)"
   ]
  },
  {
   "cell_type": "markdown",
   "metadata": {},
   "source": [
    "Very close to zero (thanks to floating point precision)"
   ]
  },
  {
   "cell_type": "code",
   "execution_count": 9,
   "metadata": {},
   "outputs": [
    {
     "data": {
      "text/plain": [
       "array([ 1.,  1.,  1.,  1.])"
      ]
     },
     "execution_count": 9,
     "metadata": {},
     "output_type": "execute_result"
    }
   ],
   "source": [
    "np.std(xs, axis=0)"
   ]
  },
  {
   "cell_type": "markdown",
   "metadata": {
    "collapsed": true
   },
   "source": [
    "Precisely at unity (I don't know why these values don't suffer from floating point precision problems)"
   ]
  },
  {
   "cell_type": "code",
   "execution_count": null,
   "metadata": {
    "collapsed": true
   },
   "outputs": [],
   "source": []
  }
 ],
 "metadata": {
  "kernelspec": {
   "display_name": "Python [conda root]",
   "language": "python",
   "name": "conda-root-py"
  },
  "language_info": {
   "codemirror_mode": {
    "name": "ipython",
    "version": 3
   },
   "file_extension": ".py",
   "mimetype": "text/x-python",
   "name": "python",
   "nbconvert_exporter": "python",
   "pygments_lexer": "ipython3",
   "version": "3.6.3"
  }
 },
 "nbformat": 4,
 "nbformat_minor": 2
}
