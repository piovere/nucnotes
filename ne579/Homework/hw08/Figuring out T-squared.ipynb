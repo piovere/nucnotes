{
 "cells": [
  {
   "cell_type": "code",
   "execution_count": 108,
   "metadata": {},
   "outputs": [],
   "source": [
    "import numpy as np\n",
    "import numpy.linalg as la\n",
    "from sklearn.preprocessing import StandardScaler\n",
    "from sklearn.pipeline import Pipeline\n",
    "from sklearn.decomposition import PCA\n",
    "import matplotlib.pyplot as plt"
   ]
  },
  {
   "cell_type": "code",
   "execution_count": 70,
   "metadata": {},
   "outputs": [],
   "source": [
    "data = np.random.randn(30).reshape(-1, 3)\n",
    "stds = np.array([6, 10, 2])\n",
    "means = np.array([104, 52, 20])\n",
    "du = data * stds + means"
   ]
  },
  {
   "cell_type": "code",
   "execution_count": 71,
   "metadata": {},
   "outputs": [
    {
     "data": {
      "text/plain": [
       "array([[106.33961251,  57.19159987,  20.54263502],\n",
       "       [100.91789008,  57.20769026,  18.81691721],\n",
       "       [107.30883851,  51.08598363,  19.2997037 ],\n",
       "       [102.16204917,  57.59535257,  19.37148792],\n",
       "       [ 98.6411562 ,  72.58150687,  20.86846469],\n",
       "       [ 90.80638254,  64.36367229,  22.81264433],\n",
       "       [ 99.82876911,  59.50852452,  16.99452295],\n",
       "       [112.81578512,  58.65128748,  19.90478748],\n",
       "       [109.39080672,  58.61634957,  17.21099551],\n",
       "       [105.09485486,  43.7108809 ,  24.67325945]])"
      ]
     },
     "execution_count": 71,
     "metadata": {},
     "output_type": "execute_result"
    }
   ],
   "source": [
    "du"
   ]
  },
  {
   "cell_type": "markdown",
   "metadata": {},
   "source": [
    "Add some bad rows to the data"
   ]
  },
  {
   "cell_type": "code",
   "execution_count": 72,
   "metadata": {},
   "outputs": [],
   "source": [
    "bad_q = np.array([\n",
    "    [120, 38, 17]\n",
    "])"
   ]
  },
  {
   "cell_type": "code",
   "execution_count": 73,
   "metadata": {},
   "outputs": [],
   "source": [
    "bad_t = np.array([\n",
    "    [130, 73, 27]\n",
    "])"
   ]
  },
  {
   "cell_type": "code",
   "execution_count": 74,
   "metadata": {},
   "outputs": [],
   "source": [
    "bd = np.vstack([du, bad_q, bad_t])"
   ]
  },
  {
   "cell_type": "code",
   "execution_count": 75,
   "metadata": {},
   "outputs": [
    {
     "data": {
      "text/plain": [
       "Pipeline(memory=None,\n",
       "     steps=[('scale', StandardScaler(copy=True, with_mean=True, with_std=True)), ('pca', PCA(copy=True, iterated_power='auto', n_components=None, random_state=None,\n",
       "  svd_solver='auto', tol=0.0, whiten=False))])"
      ]
     },
     "execution_count": 75,
     "metadata": {},
     "output_type": "execute_result"
    }
   ],
   "source": [
    "model = Pipeline([\n",
    "    ('scale', StandardScaler()),\n",
    "    ('pca', PCA())\n",
    "])\n",
    "model.fit(bd)"
   ]
  },
  {
   "cell_type": "code",
   "execution_count": 76,
   "metadata": {},
   "outputs": [
    {
     "data": {
      "text/plain": [
       "array([1.45665791, 1.30936347, 0.56731196])"
      ]
     },
     "execution_count": 76,
     "metadata": {},
     "output_type": "execute_result"
    }
   ],
   "source": [
    "pca.explained_variance_"
   ]
  },
  {
   "cell_type": "code",
   "execution_count": 77,
   "metadata": {},
   "outputs": [],
   "source": [
    "u, s, vt = la.svd(data)"
   ]
  },
  {
   "cell_type": "code",
   "execution_count": 78,
   "metadata": {},
   "outputs": [
    {
     "data": {
      "text/plain": [
       "array([3.82887979, 3.52611313, 2.01735804])"
      ]
     },
     "execution_count": 78,
     "metadata": {},
     "output_type": "execute_result"
    }
   ],
   "source": [
    "s"
   ]
  },
  {
   "cell_type": "code",
   "execution_count": 79,
   "metadata": {},
   "outputs": [
    {
     "data": {
      "text/plain": [
       "array([0.40852928, 0.37622504, 0.21524568])"
      ]
     },
     "execution_count": 79,
     "metadata": {},
     "output_type": "execute_result"
    }
   ],
   "source": [
    "s / np.sum(s)"
   ]
  },
  {
   "cell_type": "code",
   "execution_count": 80,
   "metadata": {},
   "outputs": [
    {
     "data": {
      "text/plain": [
       "array([0.43699737, 0.39280904, 0.17019359])"
      ]
     },
     "execution_count": 80,
     "metadata": {},
     "output_type": "execute_result"
    }
   ],
   "source": [
    "pca.explained_variance_ratio_"
   ]
  },
  {
   "cell_type": "code",
   "execution_count": 81,
   "metadata": {},
   "outputs": [
    {
     "data": {
      "text/plain": [
       "array([0.47043199, 0.39897517, 0.13059284])"
      ]
     },
     "execution_count": 81,
     "metadata": {},
     "output_type": "execute_result"
    }
   ],
   "source": [
    "s ** 2 / np.sum(s**2)"
   ]
  },
  {
   "cell_type": "code",
   "execution_count": 82,
   "metadata": {},
   "outputs": [
    {
     "data": {
      "text/plain": [
       "array([10.06435373,  9.49581543,  7.17371352])"
      ]
     },
     "execution_count": 82,
     "metadata": {},
     "output_type": "execute_result"
    }
   ],
   "source": [
    "s ** 2 / pca.explained_variance_"
   ]
  },
  {
   "cell_type": "code",
   "execution_count": 83,
   "metadata": {},
   "outputs": [
    {
     "data": {
      "text/plain": [
       "array([[ 0.06032202, -0.04920172, -0.69937855],\n",
       "       [ 0.02474458, -0.91973219,  0.19614859],\n",
       "       [-0.63348681,  0.08248823, -0.1642276 ],\n",
       "       [ 0.09918835, -0.70116949, -0.06476627],\n",
       "       [ 1.36374356, -1.55535552, -0.97124399],\n",
       "       [ 2.73138471, -0.93653149,  0.06413196],\n",
       "       [-0.46433037, -1.68753127,  0.49188231],\n",
       "       [-0.84052873,  0.0977899 , -1.37384366],\n",
       "       [-1.44444634, -0.91758707, -0.51112662],\n",
       "       [ 1.38425076,  2.02266904, -0.41580119]])"
      ]
     },
     "execution_count": 83,
     "metadata": {},
     "output_type": "execute_result"
    }
   ],
   "source": [
    "u[:, :3] * s "
   ]
  },
  {
   "cell_type": "code",
   "execution_count": 84,
   "metadata": {},
   "outputs": [
    {
     "data": {
      "text/plain": [
       "array([[ 0.35114213, -0.60398238, -0.08422827],\n",
       "       [-0.00952751,  0.01302391,  0.94060272],\n",
       "       [-0.50936186, -0.3980109 , -0.1312188 ],\n",
       "       [ 0.15552223, -0.14619795,  0.67831456],\n",
       "       [ 1.72864936, -0.57495276,  1.37965317],\n",
       "       [ 2.49858902,  1.03668139,  1.01193437],\n",
       "       [-0.53465446, -0.07446147,  1.73606244],\n",
       "       [-0.18959728, -1.55551495, -0.38460877],\n",
       "       [-1.0433526 , -1.23479514,  0.75916928],\n",
       "       [ 1.31759202,  0.59317491, -2.02294974]])"
      ]
     },
     "execution_count": 84,
     "metadata": {},
     "output_type": "execute_result"
    }
   ],
   "source": [
    "pca.transform(data)"
   ]
  },
  {
   "cell_type": "code",
   "execution_count": 85,
   "metadata": {},
   "outputs": [
    {
     "data": {
      "text/plain": [
       "array([-0.11156425,  0.60512848,  0.02477091])"
      ]
     },
     "execution_count": 85,
     "metadata": {},
     "output_type": "execute_result"
    }
   ],
   "source": [
    "np.mean(data, axis=0)"
   ]
  },
  {
   "cell_type": "code",
   "execution_count": 86,
   "metadata": {},
   "outputs": [],
   "source": [
    "scale = StandardScaler().fit(du)"
   ]
  },
  {
   "cell_type": "code",
   "execution_count": 87,
   "metadata": {},
   "outputs": [],
   "source": [
    "ds = scale.transform(du)"
   ]
  },
  {
   "cell_type": "code",
   "execution_count": 88,
   "metadata": {},
   "outputs": [],
   "source": [
    "u, s, vt = la.svd(ds)"
   ]
  },
  {
   "cell_type": "code",
   "execution_count": 89,
   "metadata": {},
   "outputs": [],
   "source": [
    "pca = PCA().fit(ds)"
   ]
  },
  {
   "cell_type": "code",
   "execution_count": 90,
   "metadata": {},
   "outputs": [
    {
     "data": {
      "text/plain": [
       "array([1.62767844, 1.32273102, 0.38292388])"
      ]
     },
     "execution_count": 90,
     "metadata": {},
     "output_type": "execute_result"
    }
   ],
   "source": [
    "pca.explained_variance_"
   ]
  },
  {
   "cell_type": "code",
   "execution_count": 91,
   "metadata": {},
   "outputs": [
    {
     "data": {
      "text/plain": [
       "array([9., 9., 9.])"
      ]
     },
     "execution_count": 91,
     "metadata": {},
     "output_type": "execute_result"
    }
   ],
   "source": [
    "s**2 / pca.explained_variance_"
   ]
  },
  {
   "cell_type": "code",
   "execution_count": 92,
   "metadata": {},
   "outputs": [
    {
     "data": {
      "text/plain": [
       "array([[ 0.43188447,  0.10229913, -0.35036996],\n",
       "       [-0.16879349, -0.32442788,  0.59138682],\n",
       "       [ 1.17978544, -0.08834761,  0.33676796],\n",
       "       [-0.07422021, -0.18624277,  0.30780244],\n",
       "       [-1.99192896, -0.2743606 , -0.92596868],\n",
       "       [-2.23757672,  1.30819542,  0.19526605],\n",
       "       [-0.45412206, -1.116704  ,  0.8982976 ],\n",
       "       [ 1.10834965, -0.52815972, -1.02599614],\n",
       "       [ 0.79274548, -1.42352156, -0.08479489],\n",
       "       [ 1.41387639,  2.5312696 ,  0.0576088 ]])"
      ]
     },
     "execution_count": 92,
     "metadata": {},
     "output_type": "execute_result"
    }
   ],
   "source": [
    "u[:, :3] * s"
   ]
  },
  {
   "cell_type": "code",
   "execution_count": 93,
   "metadata": {},
   "outputs": [
    {
     "data": {
      "text/plain": [
       "array([[-0.43188447,  0.10229913,  0.35036996],\n",
       "       [ 0.16879349, -0.32442788, -0.59138682],\n",
       "       [-1.17978544, -0.08834761, -0.33676796],\n",
       "       [ 0.07422021, -0.18624277, -0.30780244],\n",
       "       [ 1.99192896, -0.2743606 ,  0.92596868],\n",
       "       [ 2.23757672,  1.30819542, -0.19526605],\n",
       "       [ 0.45412206, -1.116704  , -0.8982976 ],\n",
       "       [-1.10834965, -0.52815972,  1.02599614],\n",
       "       [-0.79274548, -1.42352156,  0.08479489],\n",
       "       [-1.41387639,  2.5312696 , -0.0576088 ]])"
      ]
     },
     "execution_count": 93,
     "metadata": {},
     "output_type": "execute_result"
    }
   ],
   "source": [
    "pca.transform(ds)"
   ]
  },
  {
   "cell_type": "code",
   "execution_count": 94,
   "metadata": {},
   "outputs": [],
   "source": [
    "t2 = [d @ np.diag(pca.explained_variance_) @ d.T for d in pca.transform(ds)]"
   ]
  },
  {
   "cell_type": "code",
   "execution_count": 95,
   "metadata": {},
   "outputs": [
    {
     "data": {
      "text/plain": [
       "[0.36445133343636477,\n",
       " 0.31951975885660855,\n",
       " 2.319308051332997,\n",
       " 0.0911261334897685,\n",
       " 6.886164257954029,\n",
       " 10.427667914333238,\n",
       " 2.2941494110268312,\n",
       " 2.771574699799383,\n",
       " 3.7060604754324875,\n",
       " 11.730244175426183]"
      ]
     },
     "execution_count": 95,
     "metadata": {},
     "output_type": "execute_result"
    }
   ],
   "source": [
    "t2"
   ]
  },
  {
   "cell_type": "code",
   "execution_count": 96,
   "metadata": {},
   "outputs": [],
   "source": [
    "def t2(data, pca):\n",
    "    l = np.diag(pca.explained_variance_)\n",
    "    t = pca.transform(data)\n",
    "    return np.array([tt @ l @ tt.T for tt in t])"
   ]
  },
  {
   "cell_type": "code",
   "execution_count": 97,
   "metadata": {},
   "outputs": [
    {
     "data": {
      "text/plain": [
       "array([ 0.36445133,  0.31951976,  2.31930805,  0.09112613,  6.88616426,\n",
       "       10.42766791,  2.29414941,  2.7715747 ,  3.70606048, 11.73024418])"
      ]
     },
     "execution_count": 97,
     "metadata": {},
     "output_type": "execute_result"
    }
   ],
   "source": [
    "t2(ds, pca)"
   ]
  },
  {
   "cell_type": "code",
   "execution_count": 98,
   "metadata": {},
   "outputs": [
    {
     "data": {
      "text/plain": [
       "array([[-0.72677047,  0.68185602,  0.08292793],\n",
       "       [-0.27430417, -0.39879754,  0.875053  ],\n",
       "       [ 0.62973161,  0.6132152 ,  0.47687023]])"
      ]
     },
     "execution_count": 98,
     "metadata": {},
     "output_type": "execute_result"
    }
   ],
   "source": [
    "pca.components_"
   ]
  },
  {
   "cell_type": "code",
   "execution_count": 99,
   "metadata": {},
   "outputs": [
    {
     "data": {
      "text/plain": [
       "array([[ 1.00000000e+00,  4.84290503e-17, -7.19240871e-17],\n",
       "       [ 4.84290503e-17,  1.00000000e+00,  6.60674706e-17],\n",
       "       [-7.19240871e-17,  6.60674706e-17,  1.00000000e+00]])"
      ]
     },
     "execution_count": 99,
     "metadata": {},
     "output_type": "execute_result"
    }
   ],
   "source": [
    "pp = pca.components_\n",
    "pp @ pp.T"
   ]
  },
  {
   "cell_type": "code",
   "execution_count": 100,
   "metadata": {},
   "outputs": [],
   "source": [
    "def q(data, pca):\n",
    "    # Get dimensionality of the data\n",
    "    i = data.shape[1]\n",
    "    \n",
    "    pp = pca.components_ @ pca.components_.T\n",
    "    \n",
    "    return np.array([x @ (np.eye(i) - pp) @ x.T for x in data])"
   ]
  },
  {
   "cell_type": "code",
   "execution_count": 101,
   "metadata": {},
   "outputs": [
    {
     "data": {
      "text/plain": [
       "array([-3.14490571e-17, -1.76441670e-17, -1.11898506e-16, -3.77909992e-18,\n",
       "       -1.22973674e-16, -1.32586713e-15,  8.73881380e-17, -5.93107907e-16,\n",
       "       -4.12036911e-16,  6.76163306e-16])"
      ]
     },
     "execution_count": 101,
     "metadata": {},
     "output_type": "execute_result"
    }
   ],
   "source": [
    "q(ds, pca)"
   ]
  },
  {
   "cell_type": "code",
   "execution_count": 102,
   "metadata": {},
   "outputs": [
    {
     "data": {
      "text/plain": [
       "array([ 0.36445133,  0.31951976,  2.31930805,  0.09112613,  6.88616426,\n",
       "       10.42766791,  2.29414941,  2.7715747 ,  3.70606048, 11.73024418,\n",
       "       28.01391708, 16.60245223])"
      ]
     },
     "execution_count": 102,
     "metadata": {},
     "output_type": "execute_result"
    }
   ],
   "source": [
    "t2(scale.transform(bd), pca)"
   ]
  },
  {
   "cell_type": "code",
   "execution_count": 103,
   "metadata": {},
   "outputs": [
    {
     "data": {
      "text/plain": [
       "array([-3.14490571e-17, -1.76441670e-17, -1.11898506e-16, -3.77909992e-18,\n",
       "       -1.22973674e-16, -1.32586713e-15,  8.73881380e-17, -5.93107907e-16,\n",
       "       -4.12036911e-16,  6.76163306e-16, -2.04247061e-15, -4.23621479e-15])"
      ]
     },
     "execution_count": 103,
     "metadata": {},
     "output_type": "execute_result"
    }
   ],
   "source": [
    "q(scale.transform(bd), pca)"
   ]
  },
  {
   "cell_type": "code",
   "execution_count": 118,
   "metadata": {},
   "outputs": [
    {
     "data": {
      "text/plain": [
       "<matplotlib.lines.Line2D at 0x1a24d15f60>"
      ]
     },
     "execution_count": 118,
     "metadata": {},
     "output_type": "execute_result"
    },
    {
     "data": {
      "image/png": "[encoded data removed]",
      "text/plain": [
       "<Figure size 432x288 with 1 Axes>"
      ]
     },
     "metadata": {
      "needs_background": "light"
     },
     "output_type": "display_data"
    }
   ],
   "source": [
    "plt.plot(t2(scale.transform(bd), pca), 'o')\n",
    "plt.axhline(y=15, color='r', linestyle=':', alpha=0.3)"
   ]
  },
  {
   "cell_type": "code",
   "execution_count": 119,
   "metadata": {},
   "outputs": [
    {
     "data": {
      "text/plain": [
       "<matplotlib.lines.Line2D at 0x1a24e5c0b8>"
      ]
     },
     "execution_count": 119,
     "metadata": {},
     "output_type": "execute_result"
    },
    {
     "data": {
      "image/png": "[encoded data removed]",
      "text/plain": [
       "<Figure size 432x288 with 1 Axes>"
      ]
     },
     "metadata": {
      "needs_background": "light"
     },
     "output_type": "display_data"
    }
   ],
   "source": [
    "plt.plot(q(scale.transform(bd), pca),'o')\n",
    "plt.axhline(y=-1.5e-15, color='r', linestyle=':', alpha=0.3)"
   ]
  },
  {
   "cell_type": "code",
   "execution_count": null,
   "metadata": {},
   "outputs": [],
   "source": []
  }
 ],
 "metadata": {
  "kernelspec": {
   "display_name": "Python [conda env:579]",
   "language": "python",
   "name": "conda-env-579-py"
  },
  "language_info": {
   "codemirror_mode": {
    "name": "ipython",
    "version": 3
   },
   "file_extension": ".py",
   "mimetype": "text/x-python",
   "name": "python",
   "nbconvert_exporter": "python",
   "pygments_lexer": "ipython3",
   "version": "3.6.6"
  }
 },
 "nbformat": 4,
 "nbformat_minor": 2
}
