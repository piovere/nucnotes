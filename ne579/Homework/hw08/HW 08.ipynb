{
 "cells": [
  {
   "cell_type": "code",
   "execution_count": 39,
   "metadata": {},
   "outputs": [],
   "source": [
    "import numpy as np\n",
    "import numpy.linalg as la\n",
    "import matplotlib.pyplot as plt\n",
    "import seaborn as sns\n",
    "import pandas as pd\n",
    "from utilities import train_test_val_split, rmse, load_matlab_data\n",
    "from scipy.io import loadmat\n",
    "from sklearn.preprocessing import StandardScaler\n",
    "from sklearn.decomposition import PCA\n",
    "from sklearn.pipeline import Pipeline"
   ]
  },
  {
   "cell_type": "code",
   "execution_count": 3,
   "metadata": {},
   "outputs": [
    {
     "name": "stdout",
     "output_type": "stream",
     "text": [
      "dict_keys(['__header__', '__version__', '__globals__', 'data', 'test1', 'test2'])\n"
     ]
    }
   ],
   "source": [
    "matlab_data = loadmat(\"data/hwk8data.mat\")\n",
    "print(matlab_data.keys())"
   ]
  },
  {
   "cell_type": "code",
   "execution_count": 4,
   "metadata": {},
   "outputs": [],
   "source": [
    "data = matlab_data['data']\n",
    "test1 = matlab_data['test1']\n",
    "test2 = matlab_data['test2']"
   ]
  },
  {
   "cell_type": "code",
   "execution_count": 6,
   "metadata": {},
   "outputs": [
    {
     "name": "stdout",
     "output_type": "stream",
     "text": [
      "(450, 21)\n"
     ]
    }
   ],
   "source": [
    "print(data.shape)"
   ]
  },
  {
   "cell_type": "code",
   "execution_count": 10,
   "metadata": {},
   "outputs": [],
   "source": [
    "pca = Pipeline([\n",
    "    ('scale', StandardScaler()),\n",
    "    ('pca', PCA())\n",
    "])"
   ]
  },
  {
   "cell_type": "code",
   "execution_count": 11,
   "metadata": {},
   "outputs": [
    {
     "data": {
      "text/plain": [
       "Pipeline(memory=None,\n",
       "     steps=[('scale', StandardScaler(copy=True, with_mean=True, with_std=True)), ('pca', PCA(copy=True, iterated_power='auto', n_components=None, random_state=None,\n",
       "  svd_solver='auto', tol=0.0, whiten=False))])"
      ]
     },
     "execution_count": 11,
     "metadata": {},
     "output_type": "execute_result"
    }
   ],
   "source": [
    "pca.fit(data)"
   ]
  },
  {
   "cell_type": "code",
   "execution_count": 12,
   "metadata": {},
   "outputs": [],
   "source": [
    "pca_step = pca.named_steps['pca']"
   ]
  },
  {
   "cell_type": "code",
   "execution_count": 13,
   "metadata": {},
   "outputs": [
    {
     "data": {
      "text/plain": [
       "array([3.63701261e-01, 3.02539076e-01, 1.01252075e-01, 8.71841161e-02,\n",
       "       3.90287586e-02, 2.92970581e-02, 2.00417346e-02, 1.46178454e-02,\n",
       "       1.09556989e-02, 8.79849632e-03, 6.21427966e-03, 4.54049314e-03,\n",
       "       3.66956009e-03, 2.97681955e-03, 2.09816267e-03, 1.16138422e-03,\n",
       "       8.86980050e-04, 4.21982828e-04, 3.83308129e-04, 1.55319273e-04,\n",
       "       7.55899108e-05])"
      ]
     },
     "execution_count": 13,
     "metadata": {},
     "output_type": "execute_result"
    }
   ],
   "source": [
    "pca_step.explained_variance_ratio_"
   ]
  },
  {
   "cell_type": "code",
   "execution_count": 18,
   "metadata": {},
   "outputs": [
    {
     "data": {
      "text/plain": [
       "<matplotlib.lines.Line2D at 0x1a19af1d68>"
      ]
     },
     "execution_count": 18,
     "metadata": {},
     "output_type": "execute_result"
    },
    {
     "data": {
      "image/png": "[encoded data removed]",
      "text/plain": [
       "<Figure size 432x288 with 1 Axes>"
      ]
     },
     "metadata": {
      "needs_background": "light"
     },
     "output_type": "display_data"
    }
   ],
   "source": [
    "plt.plot(np.cumsum(pca_step.explained_variance_ratio_), 'x-')\n",
    "plt.axhline(y=0.95, color='r', linestyle=':', alpha=0.3)"
   ]
  },
  {
   "cell_type": "code",
   "execution_count": 22,
   "metadata": {},
   "outputs": [
    {
     "data": {
      "text/plain": [
       "array([7])"
      ]
     },
     "execution_count": 22,
     "metadata": {},
     "output_type": "execute_result"
    }
   ],
   "source": [
    "np.argwhere(np.cumsum(pca_step.explained_variance_ratio_) >= 0.95)[0]"
   ]
  },
  {
   "cell_type": "markdown",
   "metadata": {},
   "source": [
    "Must include the first 8 PC's (zero-index)"
   ]
  },
  {
   "cell_type": "code",
   "execution_count": 23,
   "metadata": {},
   "outputs": [],
   "source": [
    "pca95 = Pipeline([\n",
    "    ('scale', StandardScaler()),\n",
    "    ('pca', PCA(n_components=0.95))\n",
    "])"
   ]
  },
  {
   "cell_type": "code",
   "execution_count": 24,
   "metadata": {},
   "outputs": [
    {
     "data": {
      "text/plain": [
       "Pipeline(memory=None,\n",
       "     steps=[('scale', StandardScaler(copy=True, with_mean=True, with_std=True)), ('pca', PCA(copy=True, iterated_power='auto', n_components=0.95, random_state=None,\n",
       "  svd_solver='auto', tol=0.0, whiten=False))])"
      ]
     },
     "execution_count": 24,
     "metadata": {},
     "output_type": "execute_result"
    }
   ],
   "source": [
    "pca95.fit(data)"
   ]
  },
  {
   "cell_type": "code",
   "execution_count": 25,
   "metadata": {},
   "outputs": [],
   "source": [
    "pca = pca95.named_steps['pca']"
   ]
  },
  {
   "cell_type": "code",
   "execution_count": 26,
   "metadata": {},
   "outputs": [
    {
     "data": {
      "text/plain": [
       "8"
      ]
     },
     "execution_count": 26,
     "metadata": {},
     "output_type": "execute_result"
    }
   ],
   "source": [
    "pca.n_components_"
   ]
  },
  {
   "cell_type": "code",
   "execution_count": 29,
   "metadata": {},
   "outputs": [
    {
     "data": {
      "text/plain": [
       "Text(0, 0.5, 'PC1')"
      ]
     },
     "execution_count": 29,
     "metadata": {},
     "output_type": "execute_result"
    },
    {
     "data": {
      "image/png": "[encoded data removed]",
      "text/plain": [
       "<Figure size 432x288 with 1 Axes>"
      ]
     },
     "metadata": {
      "needs_background": "light"
     },
     "output_type": "display_data"
    }
   ],
   "source": [
    "pca_data = pca95.transform(data)\n",
    "plt.plot(pca_data[:,0], pca_data[:,1], '.')\n",
    "plt.xlabel(\"PC0\")\n",
    "plt.ylabel(\"PC1\")"
   ]
  },
  {
   "cell_type": "code",
   "execution_count": 31,
   "metadata": {},
   "outputs": [
    {
     "data": {
      "text/plain": [
       "[<matplotlib.lines.Line2D at 0x1a19e802b0>]"
      ]
     },
     "execution_count": 31,
     "metadata": {},
     "output_type": "execute_result"
    },
    {
     "data": {
      "image/png": "[encoded data removed]",
      "text/plain": [
       "<Figure size 432x288 with 1 Axes>"
      ]
     },
     "metadata": {
      "needs_background": "light"
     },
     "output_type": "display_data"
    }
   ],
   "source": [
    "plt.plot(pca95.inverse_transform(pca_data)[:,0], color='b')\n",
    "plt.plot(data[:,0], alpha=0.3, color='b')"
   ]
  },
  {
   "cell_type": "code",
   "execution_count": 35,
   "metadata": {},
   "outputs": [],
   "source": [
    "df = pd.DataFrame(data)\n",
    "df = df.append(pd.DataFrame(test1))\n",
    "df = df.append(pd.DataFrame(test2))"
   ]
  },
  {
   "cell_type": "code",
   "execution_count": 36,
   "metadata": {},
   "outputs": [
    {
     "data": {
      "text/html": [
       "<div>\n",
       "<style scoped>\n",
       "    .dataframe tbody tr th:only-of-type {\n",
       "        vertical-align: middle;\n",
       "    }\n",
       "\n",
       "    .dataframe tbody tr th {\n",
       "        vertical-align: top;\n",
       "    }\n",
       "\n",
       "    .dataframe thead th {\n",
       "        text-align: right;\n",
       "    }\n",
       "</style>\n",
       "<table border=\"1\" class=\"dataframe\">\n",
       "  <thead>\n",
       "    <tr style=\"text-align: right;\">\n",
       "      <th></th>\n",
       "      <th>0</th>\n",
       "      <th>1</th>\n",
       "      <th>2</th>\n",
       "      <th>3</th>\n",
       "      <th>4</th>\n",
       "      <th>5</th>\n",
       "      <th>6</th>\n",
       "      <th>7</th>\n",
       "      <th>8</th>\n",
       "      <th>9</th>\n",
       "      <th>10</th>\n",
       "      <th>11</th>\n",
       "      <th>12</th>\n",
       "      <th>13</th>\n",
       "      <th>14</th>\n",
       "      <th>15</th>\n",
       "      <th>16</th>\n",
       "      <th>17</th>\n",
       "      <th>18</th>\n",
       "      <th>19</th>\n",
       "      <th>20</th>\n",
       "    </tr>\n",
       "  </thead>\n",
       "  <tbody>\n",
       "    <tr>\n",
       "      <th>0</th>\n",
       "      <td>1129.625000</td>\n",
       "      <td>1123.437988</td>\n",
       "      <td>1122.687988</td>\n",
       "      <td>1104.0</td>\n",
       "      <td>1104.0</td>\n",
       "      <td>1091.0</td>\n",
       "      <td>1073.0</td>\n",
       "      <td>1003.0</td>\n",
       "      <td>740.0</td>\n",
       "      <td>479.0</td>\n",
       "      <td>1167.687988</td>\n",
       "      <td>1168.125000</td>\n",
       "      <td>1162.000000</td>\n",
       "      <td>1151.562988</td>\n",
       "      <td>1123.062988</td>\n",
       "      <td>1092.750000</td>\n",
       "      <td>1002.093994</td>\n",
       "      <td>822.781006</td>\n",
       "      <td>633.093994</td>\n",
       "      <td>483.687988</td>\n",
       "      <td>20.839001</td>\n",
       "    </tr>\n",
       "    <tr>\n",
       "      <th>1</th>\n",
       "      <td>1144.687988</td>\n",
       "      <td>1144.625000</td>\n",
       "      <td>1140.187988</td>\n",
       "      <td>1120.0</td>\n",
       "      <td>1123.0</td>\n",
       "      <td>1107.0</td>\n",
       "      <td>1091.0</td>\n",
       "      <td>1033.0</td>\n",
       "      <td>774.0</td>\n",
       "      <td>477.0</td>\n",
       "      <td>1176.875000</td>\n",
       "      <td>1167.687988</td>\n",
       "      <td>1168.562988</td>\n",
       "      <td>1159.750000</td>\n",
       "      <td>1136.187988</td>\n",
       "      <td>1111.750000</td>\n",
       "      <td>1039.000000</td>\n",
       "      <td>861.281006</td>\n",
       "      <td>658.875000</td>\n",
       "      <td>479.187988</td>\n",
       "      <td>21.020000</td>\n",
       "    </tr>\n",
       "    <tr>\n",
       "      <th>2</th>\n",
       "      <td>1141.250000</td>\n",
       "      <td>1138.875000</td>\n",
       "      <td>1135.187988</td>\n",
       "      <td>1115.0</td>\n",
       "      <td>1122.0</td>\n",
       "      <td>1110.0</td>\n",
       "      <td>1091.0</td>\n",
       "      <td>1025.0</td>\n",
       "      <td>766.0</td>\n",
       "      <td>475.0</td>\n",
       "      <td>1172.312988</td>\n",
       "      <td>1168.937988</td>\n",
       "      <td>1161.000000</td>\n",
       "      <td>1152.375000</td>\n",
       "      <td>1127.250000</td>\n",
       "      <td>1107.375000</td>\n",
       "      <td>1038.062988</td>\n",
       "      <td>853.281006</td>\n",
       "      <td>665.375000</td>\n",
       "      <td>484.296997</td>\n",
       "      <td>21.139000</td>\n",
       "    </tr>\n",
       "    <tr>\n",
       "      <th>3</th>\n",
       "      <td>1140.187988</td>\n",
       "      <td>1141.062988</td>\n",
       "      <td>1139.250000</td>\n",
       "      <td>1118.0</td>\n",
       "      <td>1118.0</td>\n",
       "      <td>1103.0</td>\n",
       "      <td>1081.0</td>\n",
       "      <td>1025.0</td>\n",
       "      <td>781.0</td>\n",
       "      <td>482.0</td>\n",
       "      <td>1170.125000</td>\n",
       "      <td>1157.250000</td>\n",
       "      <td>1162.125000</td>\n",
       "      <td>1146.562988</td>\n",
       "      <td>1124.375000</td>\n",
       "      <td>1104.562988</td>\n",
       "      <td>1043.687988</td>\n",
       "      <td>865.375000</td>\n",
       "      <td>673.187988</td>\n",
       "      <td>493.093994</td>\n",
       "      <td>20.896000</td>\n",
       "    </tr>\n",
       "    <tr>\n",
       "      <th>4</th>\n",
       "      <td>1140.687988</td>\n",
       "      <td>1138.375000</td>\n",
       "      <td>1136.125000</td>\n",
       "      <td>1114.0</td>\n",
       "      <td>1124.0</td>\n",
       "      <td>1114.0</td>\n",
       "      <td>1101.0</td>\n",
       "      <td>1048.0</td>\n",
       "      <td>807.0</td>\n",
       "      <td>487.0</td>\n",
       "      <td>1163.812988</td>\n",
       "      <td>1154.750000</td>\n",
       "      <td>1157.062988</td>\n",
       "      <td>1148.062988</td>\n",
       "      <td>1124.062988</td>\n",
       "      <td>1105.187988</td>\n",
       "      <td>1042.687988</td>\n",
       "      <td>870.468994</td>\n",
       "      <td>671.593994</td>\n",
       "      <td>484.390991</td>\n",
       "      <td>21.132000</td>\n",
       "    </tr>\n",
       "  </tbody>\n",
       "</table>\n",
       "</div>"
      ],
      "text/plain": [
       "            0            1     ...              19         20\n",
       "0  1129.625000  1123.437988    ...      483.687988  20.839001\n",
       "1  1144.687988  1144.625000    ...      479.187988  21.020000\n",
       "2  1141.250000  1138.875000    ...      484.296997  21.139000\n",
       "3  1140.187988  1141.062988    ...      493.093994  20.896000\n",
       "4  1140.687988  1138.375000    ...      484.390991  21.132000\n",
       "\n",
       "[5 rows x 21 columns]"
      ]
     },
     "execution_count": 36,
     "metadata": {},
     "output_type": "execute_result"
    }
   ],
   "source": [
    "df.head()"
   ]
  },
  {
   "cell_type": "code",
   "execution_count": 38,
   "metadata": {},
   "outputs": [
    {
     "data": {
      "text/html": [
       "<div>\n",
       "<style scoped>\n",
       "    .dataframe tbody tr th:only-of-type {\n",
       "        vertical-align: middle;\n",
       "    }\n",
       "\n",
       "    .dataframe tbody tr th {\n",
       "        vertical-align: top;\n",
       "    }\n",
       "\n",
       "    .dataframe thead th {\n",
       "        text-align: right;\n",
       "    }\n",
       "</style>\n",
       "<table border=\"1\" class=\"dataframe\">\n",
       "  <thead>\n",
       "    <tr style=\"text-align: right;\">\n",
       "      <th></th>\n",
       "      <th>0</th>\n",
       "      <th>1</th>\n",
       "      <th>2</th>\n",
       "      <th>3</th>\n",
       "      <th>4</th>\n",
       "      <th>5</th>\n",
       "      <th>6</th>\n",
       "      <th>7</th>\n",
       "      <th>8</th>\n",
       "      <th>9</th>\n",
       "      <th>10</th>\n",
       "      <th>11</th>\n",
       "      <th>12</th>\n",
       "      <th>13</th>\n",
       "      <th>14</th>\n",
       "      <th>15</th>\n",
       "      <th>16</th>\n",
       "      <th>17</th>\n",
       "      <th>18</th>\n",
       "      <th>19</th>\n",
       "      <th>20</th>\n",
       "      <th>label</th>\n",
       "    </tr>\n",
       "  </thead>\n",
       "  <tbody>\n",
       "    <tr>\n",
       "      <th>0</th>\n",
       "      <td>1129.625000</td>\n",
       "      <td>1123.437988</td>\n",
       "      <td>1122.687988</td>\n",
       "      <td>1104.0</td>\n",
       "      <td>1104.0</td>\n",
       "      <td>1091.0</td>\n",
       "      <td>1073.0</td>\n",
       "      <td>1003.0</td>\n",
       "      <td>740.0</td>\n",
       "      <td>479.0</td>\n",
       "      <td>1167.687988</td>\n",
       "      <td>1168.125000</td>\n",
       "      <td>1162.000000</td>\n",
       "      <td>1151.562988</td>\n",
       "      <td>1123.062988</td>\n",
       "      <td>1092.750000</td>\n",
       "      <td>1002.093994</td>\n",
       "      <td>822.781006</td>\n",
       "      <td>633.093994</td>\n",
       "      <td>483.687988</td>\n",
       "      <td>20.839001</td>\n",
       "      <td>data</td>\n",
       "    </tr>\n",
       "    <tr>\n",
       "      <th>1</th>\n",
       "      <td>1144.687988</td>\n",
       "      <td>1144.625000</td>\n",
       "      <td>1140.187988</td>\n",
       "      <td>1120.0</td>\n",
       "      <td>1123.0</td>\n",
       "      <td>1107.0</td>\n",
       "      <td>1091.0</td>\n",
       "      <td>1033.0</td>\n",
       "      <td>774.0</td>\n",
       "      <td>477.0</td>\n",
       "      <td>1176.875000</td>\n",
       "      <td>1167.687988</td>\n",
       "      <td>1168.562988</td>\n",
       "      <td>1159.750000</td>\n",
       "      <td>1136.187988</td>\n",
       "      <td>1111.750000</td>\n",
       "      <td>1039.000000</td>\n",
       "      <td>861.281006</td>\n",
       "      <td>658.875000</td>\n",
       "      <td>479.187988</td>\n",
       "      <td>21.020000</td>\n",
       "      <td>data</td>\n",
       "    </tr>\n",
       "    <tr>\n",
       "      <th>2</th>\n",
       "      <td>1141.250000</td>\n",
       "      <td>1138.875000</td>\n",
       "      <td>1135.187988</td>\n",
       "      <td>1115.0</td>\n",
       "      <td>1122.0</td>\n",
       "      <td>1110.0</td>\n",
       "      <td>1091.0</td>\n",
       "      <td>1025.0</td>\n",
       "      <td>766.0</td>\n",
       "      <td>475.0</td>\n",
       "      <td>1172.312988</td>\n",
       "      <td>1168.937988</td>\n",
       "      <td>1161.000000</td>\n",
       "      <td>1152.375000</td>\n",
       "      <td>1127.250000</td>\n",
       "      <td>1107.375000</td>\n",
       "      <td>1038.062988</td>\n",
       "      <td>853.281006</td>\n",
       "      <td>665.375000</td>\n",
       "      <td>484.296997</td>\n",
       "      <td>21.139000</td>\n",
       "      <td>data</td>\n",
       "    </tr>\n",
       "    <tr>\n",
       "      <th>3</th>\n",
       "      <td>1140.187988</td>\n",
       "      <td>1141.062988</td>\n",
       "      <td>1139.250000</td>\n",
       "      <td>1118.0</td>\n",
       "      <td>1118.0</td>\n",
       "      <td>1103.0</td>\n",
       "      <td>1081.0</td>\n",
       "      <td>1025.0</td>\n",
       "      <td>781.0</td>\n",
       "      <td>482.0</td>\n",
       "      <td>1170.125000</td>\n",
       "      <td>1157.250000</td>\n",
       "      <td>1162.125000</td>\n",
       "      <td>1146.562988</td>\n",
       "      <td>1124.375000</td>\n",
       "      <td>1104.562988</td>\n",
       "      <td>1043.687988</td>\n",
       "      <td>865.375000</td>\n",
       "      <td>673.187988</td>\n",
       "      <td>493.093994</td>\n",
       "      <td>20.896000</td>\n",
       "      <td>data</td>\n",
       "    </tr>\n",
       "    <tr>\n",
       "      <th>4</th>\n",
       "      <td>1140.687988</td>\n",
       "      <td>1138.375000</td>\n",
       "      <td>1136.125000</td>\n",
       "      <td>1114.0</td>\n",
       "      <td>1124.0</td>\n",
       "      <td>1114.0</td>\n",
       "      <td>1101.0</td>\n",
       "      <td>1048.0</td>\n",
       "      <td>807.0</td>\n",
       "      <td>487.0</td>\n",
       "      <td>1163.812988</td>\n",
       "      <td>1154.750000</td>\n",
       "      <td>1157.062988</td>\n",
       "      <td>1148.062988</td>\n",
       "      <td>1124.062988</td>\n",
       "      <td>1105.187988</td>\n",
       "      <td>1042.687988</td>\n",
       "      <td>870.468994</td>\n",
       "      <td>671.593994</td>\n",
       "      <td>484.390991</td>\n",
       "      <td>21.132000</td>\n",
       "      <td>data</td>\n",
       "    </tr>\n",
       "  </tbody>\n",
       "</table>\n",
       "</div>"
      ],
      "text/plain": [
       "             0            1            2  ...            19         20  label\n",
       "0  1129.625000  1123.437988  1122.687988  ...    483.687988  20.839001   data\n",
       "1  1144.687988  1144.625000  1140.187988  ...    479.187988  21.020000   data\n",
       "2  1141.250000  1138.875000  1135.187988  ...    484.296997  21.139000   data\n",
       "3  1140.187988  1141.062988  1139.250000  ...    493.093994  20.896000   data\n",
       "4  1140.687988  1138.375000  1136.125000  ...    484.390991  21.132000   data\n",
       "\n",
       "[5 rows x 22 columns]"
      ]
     },
     "execution_count": 38,
     "metadata": {},
     "output_type": "execute_result"
    }
   ],
   "source": [
    "labels = [\"data\"] * data.shape[0]\n",
    "labels.extend([\"test1\"] * test1.shape[0])\n",
    "labels.extend([\"test2\"] * test2.shape[0])\n",
    "df[\"label\"] = labels\n",
    "df.head()"
   ]
  },
  {
   "cell_type": "code",
   "execution_count": 41,
   "metadata": {},
   "outputs": [
    {
     "data": {
      "text/plain": [
       "<matplotlib.axes._subplots.AxesSubplot at 0x1a1a2519e8>"
      ]
     },
     "execution_count": 41,
     "metadata": {},
     "output_type": "execute_result"
    },
    {
     "data": {
      "image/png": "[encoded data removed]",
      "text/plain": [
       "<Figure size 432x288 with 1 Axes>"
      ]
     },
     "metadata": {
      "needs_background": "light"
     },
     "output_type": "display_data"
    }
   ],
   "source": [
    "sns.scatterplot(x=0, y=1, hue=\"label\", data=df)"
   ]
  },
  {
   "cell_type": "markdown",
   "metadata": {},
   "source": [
    "Sure enough, `test1` is mostly grouped with `data` while some of `test2` is clearly separate"
   ]
  },
  {
   "cell_type": "code",
   "execution_count": null,
   "metadata": {},
   "outputs": [],
   "source": [
    "def tstat1(data, pca_model, num_pcs=None):\n",
    "    observations, inputs = data.shape\n",
    "    "
   ]
  }
 ],
 "metadata": {
  "kernelspec": {
   "display_name": "Python [conda env:579]",
   "language": "python",
   "name": "conda-env-579-py"
  },
  "language_info": {
   "codemirror_mode": {
    "name": "ipython",
    "version": 3
   },
   "file_extension": ".py",
   "mimetype": "text/x-python",
   "name": "python",
   "nbconvert_exporter": "python",
   "pygments_lexer": "ipython3",
   "version": "3.7.0"
  }
 },
 "nbformat": 4,
 "nbformat_minor": 2
}
