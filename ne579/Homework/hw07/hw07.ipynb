{
 "cells": [
  {
   "cell_type": "code",
   "execution_count": 4,
   "metadata": {},
   "outputs": [],
   "source": [
    "import matplotlib.pyplot as plt\n",
    "import numpy as np\n",
    "import numpy.linalg as la\n",
    "from sklearn.pipeline import Pipeline\n",
    "from sklearn.preprocessing import StandardScaler\n",
    "from sklearn.metrics import make_scorer\n",
    "from sklearn.model_selection import GridSearchCV\n",
    "from utilities import train_test_val_split, load_matlab_data, rmse\n",
    "from scipy.io import savemat\n",
    "from sklearn.linear_model import LinearRegression\n",
    "from scipy.spatial.distance import cdist\n",
    "from scipy.stats import norm"
   ]
  },
  {
   "cell_type": "code",
   "execution_count": 5,
   "metadata": {},
   "outputs": [],
   "source": [
    "x, y = load_matlab_data(\"data/hwkdataNEW.mat\")\n",
    "xtr, ytr, xts, yts, xv, yv = train_test_val_split(x, y, seed=3)"
   ]
  },
  {
   "cell_type": "code",
   "execution_count": 24,
   "metadata": {},
   "outputs": [],
   "source": [
    "class LocalWeightedRegression():\n",
    "    def __init__(self, kernel='gaussian', distance='l2', bandwidth=0.25):\n",
    "        self.xscaler = None\n",
    "        self.yscaler = None\n",
    "        self.xs_vec = None\n",
    "        self.ys_vec = None\n",
    "        self.bandwidth = bandwidth\n",
    "        \n",
    "        distances = {\n",
    "            'l2': self.l2,\n",
    "            'euclidean': self.l2,\n",
    "        }\n",
    "        kernels = {\n",
    "            'gaussian': norm.pdf,\n",
    "            'pyramid': np.vectorize(self.pyramid_kernel),\n",
    "            'boxcar': np.vectorize(self.boxcar_kernel)\n",
    "        }\n",
    "        \n",
    "        self.kernel = kernels[kernel]\n",
    "        self.distance = distances[distance]\n",
    "    \n",
    "    def fit(self, x, y):\n",
    "        self.xscaler = StandardScaler().fit(x)\n",
    "        self.yscaler = StandardScaler().fit(y)\n",
    "        xs = self.xscaler.transform(x)\n",
    "        ys = self.yscaler.transform(y)\n",
    "        self.xs_vec = xs\n",
    "        self.ys_vec = ys\n",
    "    \n",
    "    def predict(self, x):\n",
    "        xs = self.xscaler.transform(x)\n",
    "        \n",
    "        # Calculate distance for every point\n",
    "        d = cdist(self.xs_vec, xs)\n",
    "        \n",
    "        # Calculate the weight for every point\n",
    "        w = self.kernel(d, self.bandwidth)\n",
    "        \n",
    "        ypu = [self.lin(xs[i], w[:,i]) for i in range(xs.shape[0])]\n",
    "        \n",
    "        yp = self.yscaler.inverse_transform(ypu)\n",
    "        \n",
    "        return yp\n",
    "    \n",
    "    def lin(self, x, w):\n",
    "        l = LinearRegression()\n",
    "        l.fit(self.xs_vec, self.ys_vec, sample_weight=w)\n",
    "        return l.predict(x.reshape(1, -1))\n",
    "    \n",
    "    # Distance measures\n",
    "    def l2(self, x):\n",
    "        return cdist(self.xs_vec, x)\n",
    "    \n",
    "    # Kernels\n",
    "    def gaussian_kernel(self, d, bw):\n",
    "        return norm.pdf(d, scale=bw)\n",
    "    \n",
    "    def pyramid_kernel(self, d, bw):\n",
    "        c = 1 / (2 - 1/bw)\n",
    "        if d > bw:\n",
    "            return 0.\n",
    "        else:\n",
    "            return c * (1. - d / bw)\n",
    "    \n",
    "    def boxcar_kernel(self, d, bw):\n",
    "        if d > bw:\n",
    "            return 0.\n",
    "        else:\n",
    "            return 1."
   ]
  },
  {
   "cell_type": "code",
   "execution_count": 25,
   "metadata": {},
   "outputs": [],
   "source": [
    "lwr = LocalWeightedRegression()"
   ]
  },
  {
   "cell_type": "code",
   "execution_count": 26,
   "metadata": {},
   "outputs": [
    {
     "name": "stdout",
     "output_type": "stream",
     "text": [
      "(100,)\n"
     ]
    }
   ],
   "source": [
    "l = 100\n",
    "x = (np.linspace(0, 10, l) + np.random.randn(l))\n",
    "y = (10 * np.sin(x) + 3 * x + np.random.randn(l))\n",
    "print(y.shape)"
   ]
  },
  {
   "cell_type": "code",
   "execution_count": 27,
   "metadata": {},
   "outputs": [
    {
     "data": {
      "text/plain": [
       "[<matplotlib.lines.Line2D at 0x11da03160>]"
      ]
     },
     "execution_count": 27,
     "metadata": {},
     "output_type": "execute_result"
    },
    {
     "data": {
      "image/png": "[encoded data removed]",
      "text/plain": [
       "<Figure size 432x288 with 1 Axes>"
      ]
     },
     "metadata": {
      "needs_background": "light"
     },
     "output_type": "display_data"
    }
   ],
   "source": [
    "xc = np.linspace(np.min(x), np.max(x), l)\n",
    "plt.plot(x, y, '.')\n",
    "plt.plot(xc, 10 * np.sin(xc) + 3 * xc)"
   ]
  },
  {
   "cell_type": "code",
   "execution_count": 28,
   "metadata": {},
   "outputs": [],
   "source": [
    "lwr.fit(x.reshape(-1, 1), y.reshape(-1, 1))"
   ]
  },
  {
   "cell_type": "code",
   "execution_count": 30,
   "metadata": {},
   "outputs": [
    {
     "data": {
      "text/plain": [
       "array([[[ 24.69061205]]])"
      ]
     },
     "execution_count": 30,
     "metadata": {},
     "output_type": "execute_result"
    }
   ],
   "source": [
    "lwr.predict([[8]])"
   ]
  },
  {
   "cell_type": "code",
   "execution_count": null,
   "metadata": {},
   "outputs": [],
   "source": []
  }
 ],
 "metadata": {
  "kernelspec": {
   "display_name": "Python [conda env:579]",
   "language": "python",
   "name": "conda-env-579-py"
  },
  "language_info": {
   "codemirror_mode": {
    "name": "ipython",
    "version": 3
   },
   "file_extension": ".py",
   "mimetype": "text/x-python",
   "name": "python",
   "nbconvert_exporter": "python",
   "pygments_lexer": "ipython3",
   "version": "3.6.6"
  }
 },
 "nbformat": 4,
 "nbformat_minor": 2
}
