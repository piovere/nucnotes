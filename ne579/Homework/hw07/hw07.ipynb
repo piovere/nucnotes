{
 "cells": [
  {
   "cell_type": "code",
   "execution_count": 22,
   "metadata": {},
   "outputs": [],
   "source": [
    "import matplotlib.pyplot as plt\n",
    "import numpy as np\n",
    "import numpy.linalg as la\n",
    "from sklearn.pipeline import Pipeline\n",
    "from sklearn.preprocessing import StandardScaler\n",
    "from sklearn.metrics import make_scorer\n",
    "from sklearn.model_selection import GridSearchCV\n",
    "from utilities import train_test_val_split, load_matlab_data, rmse\n",
    "from scipy.io import savemat\n",
    "from sklearn.linear_model import LinearRegression\n",
    "from scipy.spatial.distance import cdist\n",
    "from scipy.stats import norm"
   ]
  },
  {
   "cell_type": "code",
   "execution_count": 2,
   "metadata": {},
   "outputs": [],
   "source": [
    "x, y = load_matlab_data(\"data/hwkdataNEW.mat\")\n",
    "xtr, ytr, xts, yts, xv, yv = train_test_val_split(x, y, seed=3)"
   ]
  },
  {
   "cell_type": "code",
   "execution_count": 76,
   "metadata": {},
   "outputs": [],
   "source": [
    "class LocalWeightedRegression():\n",
    "    def __init__(self, kernel='gaussian', distance='l2', bandwidth=0.25):\n",
    "        self.xscaler = None\n",
    "        self.yscaler = None\n",
    "        self.xs_vec = None\n",
    "        self.ys_vec = None\n",
    "        self.bandwidth = bandwidth\n",
    "        \n",
    "        distances = {\n",
    "            'l2': self.l2,\n",
    "            'euclidean': self.l2,\n",
    "        }\n",
    "        kernels = {\n",
    "            'gaussian': norm.pdf,\n",
    "            'pyramid': np.vectorize(self.pyramid_kernel),\n",
    "            'boxcar': np.vectorize(self.boxcar_kernel)\n",
    "        }\n",
    "        \n",
    "        self.kernel = kernels[kernel]\n",
    "        self.distance = distances[distance]\n",
    "    \n",
    "    def fit(self, x, y):\n",
    "        self.xscaler = StandardScaler().fit(x)\n",
    "        self.yscaler = StandardScaler().fit(y)\n",
    "        xs = self.xscaler.transform(x)\n",
    "        ys = self.yscaler.transform(y)\n",
    "        self.xs_vec = xs\n",
    "        self.ys_vec = ys\n",
    "    \n",
    "    def predict(self, x):\n",
    "        xs = self.xscaler.transform(x)\n",
    "        \n",
    "        # Calculate distance for every point\n",
    "        d = cdist(self.xs_vec, xs)\n",
    "        \n",
    "        # Calculate the weight for every point\n",
    "        w = self.kernel(d, self.bandwidth)\n",
    "        \n",
    "        xt = self.xs_vec\n",
    "        yt = self.ys_vec\n",
    "        \n",
    "        lr = LinearRegression()\n",
    "        lr.fit(xt, yt, sample_weight=w)\n",
    "        \n",
    "        yp_u = lr.predict(xs)\n",
    "        yp = self.yscaler.inverse_transform(yp_u)\n",
    "        \n",
    "        return yp\n",
    "    \n",
    "    # Distance measures\n",
    "    def l2(self, x):\n",
    "        return cdist(self.xs_vec, x)\n",
    "    \n",
    "    # Kernels\n",
    "    def gaussian_kernel(self, d, bw):\n",
    "        return norm.pdf(d, scale=bw)\n",
    "    \n",
    "    def pyramid_kernel(self, d, bw):\n",
    "        c = 1 / (2 - 1/bw)\n",
    "        if d > bw:\n",
    "            return 0.\n",
    "        else:\n",
    "            return c * (1. - d / bw)\n",
    "    \n",
    "    def boxcar_kernel(self, d, bw):\n",
    "        if d > bw:\n",
    "            return 0.\n",
    "        else:\n",
    "            return 1."
   ]
  },
  {
   "cell_type": "code",
   "execution_count": 77,
   "metadata": {},
   "outputs": [],
   "source": [
    "lwr = LocalWeightedRegression()"
   ]
  },
  {
   "cell_type": "code",
   "execution_count": 78,
   "metadata": {},
   "outputs": [
    {
     "name": "stdout",
     "output_type": "stream",
     "text": [
      "(100,)\n"
     ]
    }
   ],
   "source": [
    "l = 100\n",
    "x = (np.linspace(0, 10, l) + np.random.randn(l))\n",
    "y = (10 * np.sin(x) + 3 * x + np.random.randn(l))\n",
    "print(y.shape)"
   ]
  },
  {
   "cell_type": "code",
   "execution_count": 79,
   "metadata": {},
   "outputs": [
    {
     "data": {
      "text/plain": [
       "[<matplotlib.lines.Line2D at 0x114680cf8>]"
      ]
     },
     "execution_count": 79,
     "metadata": {},
     "output_type": "execute_result"
    },
    {
     "data": {
      "image/png": "[encoded data removed]",
      "text/plain": [
       "<Figure size 432x288 with 1 Axes>"
      ]
     },
     "metadata": {
      "needs_background": "light"
     },
     "output_type": "display_data"
    }
   ],
   "source": [
    "xc = np.linspace(np.min(x), np.max(x), l)\n",
    "plt.plot(x, y, '.')\n",
    "plt.plot(xc, 10 * np.sin(xc) + 3 * xc)"
   ]
  },
  {
   "cell_type": "code",
   "execution_count": 80,
   "metadata": {},
   "outputs": [],
   "source": [
    "lwr.fit(x.reshape(-1, 1), y.reshape(-1, 1))"
   ]
  },
  {
   "cell_type": "code",
   "execution_count": 81,
   "metadata": {},
   "outputs": [
    {
     "ename": "ValueError",
     "evalue": "Sample weights must be 1D array or scalar",
     "output_type": "error",
     "traceback": [
      "\u001b[0;31m---------------------------------------------------------------------------\u001b[0m",
      "\u001b[0;31mValueError\u001b[0m                                Traceback (most recent call last)",
      "\u001b[0;32m<ipython-input-81-3d48bc14fdc9>\u001b[0m in \u001b[0;36m<module>\u001b[0;34m()\u001b[0m\n\u001b[0;32m----> 1\u001b[0;31m \u001b[0mlwr\u001b[0m\u001b[0;34m.\u001b[0m\u001b[0mpredict\u001b[0m\u001b[0;34m(\u001b[0m\u001b[0;34m[\u001b[0m\u001b[0;34m[\u001b[0m\u001b[0;36m0\u001b[0m\u001b[0;34m]\u001b[0m\u001b[0;34m]\u001b[0m\u001b[0;34m)\u001b[0m\u001b[0;34m\u001b[0m\u001b[0m\n\u001b[0m",
      "\u001b[0;32m<ipython-input-76-e56ff29c4c39>\u001b[0m in \u001b[0;36mpredict\u001b[0;34m(self, x)\u001b[0m\n\u001b[1;32m     41\u001b[0m \u001b[0;34m\u001b[0m\u001b[0m\n\u001b[1;32m     42\u001b[0m         \u001b[0mlr\u001b[0m \u001b[0;34m=\u001b[0m \u001b[0mLinearRegression\u001b[0m\u001b[0;34m(\u001b[0m\u001b[0;34m)\u001b[0m\u001b[0;34m\u001b[0m\u001b[0m\n\u001b[0;32m---> 43\u001b[0;31m         \u001b[0mlr\u001b[0m\u001b[0;34m.\u001b[0m\u001b[0mfit\u001b[0m\u001b[0;34m(\u001b[0m\u001b[0mxt\u001b[0m\u001b[0;34m,\u001b[0m \u001b[0myt\u001b[0m\u001b[0;34m,\u001b[0m \u001b[0msample_weight\u001b[0m\u001b[0;34m=\u001b[0m\u001b[0mw\u001b[0m\u001b[0;34m)\u001b[0m\u001b[0;34m\u001b[0m\u001b[0m\n\u001b[0m\u001b[1;32m     44\u001b[0m \u001b[0;34m\u001b[0m\u001b[0m\n\u001b[1;32m     45\u001b[0m         \u001b[0myp_u\u001b[0m \u001b[0;34m=\u001b[0m \u001b[0mlr\u001b[0m\u001b[0;34m.\u001b[0m\u001b[0mpredict\u001b[0m\u001b[0;34m(\u001b[0m\u001b[0mxs\u001b[0m\u001b[0;34m)\u001b[0m\u001b[0;34m\u001b[0m\u001b[0m\n",
      "\u001b[0;32m~/miniconda3/envs/579/lib/python3.6/site-packages/sklearn/linear_model/base.py\u001b[0m in \u001b[0;36mfit\u001b[0;34m(self, X, y, sample_weight)\u001b[0m\n\u001b[1;32m    483\u001b[0m \u001b[0;34m\u001b[0m\u001b[0m\n\u001b[1;32m    484\u001b[0m         \u001b[0;32mif\u001b[0m \u001b[0msample_weight\u001b[0m \u001b[0;32mis\u001b[0m \u001b[0;32mnot\u001b[0m \u001b[0;32mNone\u001b[0m \u001b[0;32mand\u001b[0m \u001b[0mnp\u001b[0m\u001b[0;34m.\u001b[0m\u001b[0matleast_1d\u001b[0m\u001b[0;34m(\u001b[0m\u001b[0msample_weight\u001b[0m\u001b[0;34m)\u001b[0m\u001b[0;34m.\u001b[0m\u001b[0mndim\u001b[0m \u001b[0;34m>\u001b[0m \u001b[0;36m1\u001b[0m\u001b[0;34m:\u001b[0m\u001b[0;34m\u001b[0m\u001b[0m\n\u001b[0;32m--> 485\u001b[0;31m             \u001b[0;32mraise\u001b[0m \u001b[0mValueError\u001b[0m\u001b[0;34m(\u001b[0m\u001b[0;34m\"Sample weights must be 1D array or scalar\"\u001b[0m\u001b[0;34m)\u001b[0m\u001b[0;34m\u001b[0m\u001b[0m\n\u001b[0m\u001b[1;32m    486\u001b[0m \u001b[0;34m\u001b[0m\u001b[0m\n\u001b[1;32m    487\u001b[0m         X, y, X_offset, y_offset, X_scale = self._preprocess_data(\n",
      "\u001b[0;31mValueError\u001b[0m: Sample weights must be 1D array or scalar"
     ]
    }
   ],
   "source": [
    "lwr.predict([[0]])"
   ]
  },
  {
   "cell_type": "code",
   "execution_count": null,
   "metadata": {},
   "outputs": [],
   "source": []
  }
 ],
 "metadata": {
  "kernelspec": {
   "display_name": "Python [conda env:579]",
   "language": "python",
   "name": "conda-env-579-py"
  },
  "language_info": {
   "codemirror_mode": {
    "name": "ipython",
    "version": 3
   },
   "file_extension": ".py",
   "mimetype": "text/x-python",
   "name": "python",
   "nbconvert_exporter": "python",
   "pygments_lexer": "ipython3",
   "version": "3.6.6"
  }
 },
 "nbformat": 4,
 "nbformat_minor": 2
}
