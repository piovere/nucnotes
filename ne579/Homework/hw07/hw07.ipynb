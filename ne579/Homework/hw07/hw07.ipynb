{
 "cells": [
  {
   "cell_type": "code",
   "execution_count": 792,
   "metadata": {},
   "outputs": [],
   "source": [
    "import matplotlib.pyplot as plt\n",
    "import numpy as np\n",
    "import numpy.linalg as la\n",
    "from sklearn.pipeline import Pipeline\n",
    "from sklearn.preprocessing import StandardScaler\n",
    "from sklearn.metrics import make_scorer\n",
    "from sklearn.model_selection import GridSearchCV\n",
    "from utilities import train_test_val_split, load_matlab_data, rmse\n",
    "from sklearn.linear_model import LinearRegression\n",
    "from scipy.spatial.distance import cdist\n",
    "from scipy.stats import norm\n",
    "from sklearn.base import BaseEstimator, RegressorMixin"
   ]
  },
  {
   "cell_type": "code",
   "execution_count": 793,
   "metadata": {},
   "outputs": [],
   "source": [
    "x, y = load_matlab_data(\"data/hwkdataNEW.mat\")\n",
    "xtr, ytr, xts, yts, xv, yv = train_test_val_split(x, y, seed=3)"
   ]
  },
  {
   "cell_type": "code",
   "execution_count": 794,
   "metadata": {},
   "outputs": [],
   "source": [
    "class LocalWeightedRegression(BaseEstimator, RegressorMixin):\n",
    "    def __init__(self, kernel_name='gaussian', distance_name='l2', bandwidth=0.25, order=1):\n",
    "        self.xscaler_ = None\n",
    "        self.yscaler_ = None\n",
    "        self.xs_vec_ = None\n",
    "        self.ys_vec_ = None\n",
    "        self.order = order\n",
    "        self.bandwidth = bandwidth\n",
    "        self._no_neighbors_ = []\n",
    "        self.kernel_name = kernel_name\n",
    "        self.distance_name = distance_name\n",
    "        \n",
    "        distances = {\n",
    "            'l2': self.l2,\n",
    "            'euclidean': self.l2,\n",
    "        }\n",
    "        kernels = {\n",
    "            'gaussian': self.gaussian_kernel,\n",
    "            'pyramid': np.vectorize(self.pyramid_kernel),\n",
    "            'boxcar': np.vectorize(self.boxcar_kernel)\n",
    "        }\n",
    "        \n",
    "        self.kernel = kernels[kernel_name]\n",
    "        self.distance = distances[distance_name]\n",
    "    \n",
    "    def fit(self, x, y):\n",
    "        self.xscaler_ = StandardScaler().fit(x)\n",
    "        self.yscaler_ = StandardScaler().fit(y)\n",
    "        xs = self.xscaler_.transform(x)\n",
    "        ys = self.yscaler_.transform(y)\n",
    "        self.xs_vec_ = xs\n",
    "        self.ys_vec_ = ys\n",
    "        return self\n",
    "    \n",
    "    def predict(self, x):\n",
    "        try:\n",
    "            getattr(self, 'xs_vec_')\n",
    "        except AttributeError:\n",
    "            raise RuntimeError(\"You must train before you predict...\")\n",
    "        \n",
    "        xs = self.xscaler_.transform(x)\n",
    "        xt = self.xs_vec_\n",
    "        yt = self.ys_vec_\n",
    "        \n",
    "        # Calculate distance for every point\n",
    "        d = cdist(self.xs_vec_, xs)\n",
    "        assert np.all(d >= 0)\n",
    "        \n",
    "        # Calculate the weight for every point\n",
    "        w = self.kernel(d)\n",
    "\n",
    "        ypu = [self.lin(xs[i], w[:, i]) for i in range(xs.shape[0])]\n",
    "        \n",
    "        yp = self.yscaler_.inverse_transform(ypu)\n",
    "         \n",
    "        return yp\n",
    "        \n",
    "    def score(self, x, y):\n",
    "        yp = self.predict(x)\n",
    "        return -rmse(y, yp)\n",
    "    \n",
    "    def lin(self, x, w):\n",
    "        l = LinearRegression(fit_intercept=True)\n",
    "        #print(w.shape)\n",
    "        if np.all(w == 0.0):\n",
    "            self._no_neighbors_.append(x)\n",
    "            d = cdist(self.xs_vec_, np.atleast_2d(x))\n",
    "            return self.ys_vec_[np.argmin(d)][0]\n",
    "        try:\n",
    "            l.fit(self.xs_vec_, self.ys_vec_, sample_weight=w)\n",
    "        except ValueError as v:\n",
    "            print(\"Weights:\")\n",
    "            print(w)\n",
    "            raise v\n",
    "        return l.predict(x.reshape(1, -1))[0][0]\n",
    "    \n",
    "    # Distance measures\n",
    "    def l2(self, x):\n",
    "        return cdist(self.xs_vec_, x)\n",
    "    \n",
    "    # Kernels\n",
    "    def gaussian_kernel(self, d):\n",
    "        return norm.pdf(d, scale=self.bandwidth, loc=0.0)\n",
    "    \n",
    "    def pyramid_kernel(self, d):\n",
    "        if d > self.bandwidth:\n",
    "            return 0.\n",
    "        else:\n",
    "            return (1. - d / self.bandwidth)\n",
    "    \n",
    "    def boxcar_kernel(self, d):\n",
    "        if d > self.bandwidth:\n",
    "            return 0.\n",
    "        else:\n",
    "            return 1.\n",
    "        \n",
    "    @property\n",
    "    def no_neighbors_(self):\n",
    "        return np.array(self._no_neighbors_).reshape(-1, 1)"
   ]
  },
  {
   "cell_type": "code",
   "execution_count": 795,
   "metadata": {},
   "outputs": [],
   "source": [
    "l = 400\n",
    "f = lambda x: 10 * np.sin(x) + 3 * x + np.random.randn(l)\n",
    "ft = lambda x: 10 * np.sin(x) + 3 * x\n",
    "x = (np.linspace(0, 10, l) + np.random.randn(l))\n",
    "y = f(x)"
   ]
  },
  {
   "cell_type": "code",
   "execution_count": 796,
   "metadata": {},
   "outputs": [
    {
     "data": {
      "text/plain": [
       "LocalWeightedRegression(bandwidth=0.01, distance_name='l2',\n",
       "            kernel_name='gaussian', order=1)"
      ]
     },
     "execution_count": 796,
     "metadata": {},
     "output_type": "execute_result"
    }
   ],
   "source": [
    "lp=100\n",
    "xt = np.linspace(0, 10, lp) + np.random.randn(lp)\n",
    "lwr = LocalWeightedRegression(bandwidth=0.01, kernel_name='gaussian')\n",
    "lwr.fit(x.reshape(-1, 1), y.reshape(-1, 1))"
   ]
  },
  {
   "cell_type": "code",
   "execution_count": 797,
   "metadata": {},
   "outputs": [],
   "source": [
    "yp = lwr.predict(xt.reshape(-1, 1))"
   ]
  },
  {
   "cell_type": "code",
   "execution_count": 815,
   "metadata": {},
   "outputs": [
    {
     "data": {
      "image/png": "[encoded data removed]",
      "text/plain": [
       "<Figure size 432x288 with 1 Axes>"
      ]
     },
     "metadata": {
      "needs_background": "light"
     },
     "output_type": "display_data"
    }
   ],
   "source": [
    "bw = 0.2\n",
    "\n",
    "lp=100\n",
    "xt = np.linspace(0, 10, lp) + np.random.randn(lp)\n",
    "lwr = LocalWeightedRegression(bandwidth=bw, kernel_name='gaussian')\n",
    "lwr.fit(x.reshape(-1, 1), y.reshape(-1, 1))\n",
    "yp = lwr.predict(xt.reshape(-1, 1))\n",
    "\n",
    "xc = np.linspace(np.min(x1), np.max(x1), l)\n",
    "plt.plot(xc, ft(xc), label=\"true\")\n",
    "plt.plot(x, y, '.', label=\"measured\", color='g', alpha=0.3)\n",
    "plt.plot(xt, yp, '*', label=\"fit\", color='r')\n",
    "plt.legend(loc=\"lower right\")\n",
    "\n",
    "plt.text(x=0, y=30, s=f\"Bandwidth {bw}\")\n",
    "plt.savefig(f\"lwr_{bw}.png\", dpi=300)"
   ]
  },
  {
   "cell_type": "code",
   "execution_count": 786,
   "metadata": {},
   "outputs": [],
   "source": [
    "scorer = make_scorer(rmse, greater_is_better=False)\n",
    "params = {\n",
    "    'bandwidth': (0.15, 0.25, 0.5, 0.75, 1.0, 1.5, 2.0, 3.0, 7.0, 10.0, 11.0, 12.0, 13.0, 14.0, 15.0, 17.0, 20.0),\n",
    "    'kernel_name': ('gaussian', 'pyramid', 'boxcar'),\n",
    "    'order': (0, 1, 2)\n",
    "}\n",
    "grid = GridSearchCV(LocalWeightedRegression(), param_grid=params, n_jobs=-1)"
   ]
  },
  {
   "cell_type": "code",
   "execution_count": 787,
   "metadata": {},
   "outputs": [
    {
     "data": {
      "text/plain": [
       "GridSearchCV(cv=None, error_score='raise',\n",
       "       estimator=LocalWeightedRegression(bandwidth=0.25, distance_name='l2',\n",
       "            kernel_name='gaussian', order=1),\n",
       "       fit_params=None, iid=True, n_jobs=-1,\n",
       "       param_grid={'bandwidth': (0.15, 0.25, 0.5, 0.75, 1.0, 1.5, 2.0, 3.0, 7.0, 10.0, 11.0, 12.0, 13.0, 14.0, 15.0, 17.0, 20.0), 'kernel_name': ('gaussian', 'pyramid', 'boxcar'), 'order': (0, 1, 2)},\n",
       "       pre_dispatch='2*n_jobs', refit=True, return_train_score='warn',\n",
       "       scoring=None, verbose=0)"
      ]
     },
     "execution_count": 787,
     "metadata": {},
     "output_type": "execute_result"
    }
   ],
   "source": [
    "grid.fit(xtr, ytr)"
   ]
  },
  {
   "cell_type": "code",
   "execution_count": 788,
   "metadata": {},
   "outputs": [
    {
     "data": {
      "text/plain": [
       "LocalWeightedRegression(bandwidth=3.0, distance_name='l2',\n",
       "            kernel_name='gaussian', order=0)"
      ]
     },
     "execution_count": 788,
     "metadata": {},
     "output_type": "execute_result"
    }
   ],
   "source": [
    "grid.best_estimator_"
   ]
  },
  {
   "cell_type": "code",
   "execution_count": 789,
   "metadata": {},
   "outputs": [
    {
     "data": {
      "text/plain": [
       "-83.90423501014946"
      ]
     },
     "execution_count": 789,
     "metadata": {},
     "output_type": "execute_result"
    }
   ],
   "source": [
    "grid.best_score_"
   ]
  },
  {
   "cell_type": "code",
   "execution_count": 790,
   "metadata": {},
   "outputs": [
    {
     "name": "stdout",
     "output_type": "stream",
     "text": [
      "RMSE for this model: 63.61891506160178\n"
     ]
    }
   ],
   "source": [
    "yp = grid.predict(xts)\n",
    "print(f\"RMSE for this model: {rmse(yp, yts)}\")"
   ]
  },
  {
   "cell_type": "code",
   "execution_count": null,
   "metadata": {},
   "outputs": [],
   "source": []
  }
 ],
 "metadata": {
  "kernelspec": {
   "display_name": "Python [conda env:579]",
   "language": "python",
   "name": "conda-env-579-py"
  },
  "language_info": {
   "codemirror_mode": {
    "name": "ipython",
    "version": 3
   },
   "file_extension": ".py",
   "mimetype": "text/x-python",
   "name": "python",
   "nbconvert_exporter": "python",
   "pygments_lexer": "ipython3",
   "version": "3.6.6"
  }
 },
 "nbformat": 4,
 "nbformat_minor": 2
}
