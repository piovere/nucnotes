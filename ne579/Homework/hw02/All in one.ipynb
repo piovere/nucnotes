{
 "cells": [
  {
   "cell_type": "markdown",
   "metadata": {},
   "source": [
    "# NE 579 Homework Number 2: Data Statistics"
   ]
  },
  {
   "cell_type": "markdown",
   "metadata": {},
   "source": [
    "## Import required libraries"
   ]
  },
  {
   "cell_type": "code",
   "execution_count": 105,
   "metadata": {},
   "outputs": [],
   "source": [
    "%matplotlib inline\n",
    "import matplotlib.pyplot as plt\n",
    "import seaborn as sns\n",
    "import pandas as pd\n",
    "import numpy as np\n",
    "import scipy.io as sio\n",
    "from scipy.stats import trim_mean, skew, kurtosis"
   ]
  },
  {
   "cell_type": "code",
   "execution_count": 102,
   "metadata": {},
   "outputs": [
    {
     "data": {
      "text/plain": [
       "[(0.4044212904941176, 0.5346434904470588, 0.9320019126352941),\n",
       " (0.603162067917647, 0.7315274773529412, 0.9995652785372549),\n",
       " (0.7867207013568628, 0.8448072103686275, 0.9398103849490196),\n",
       " (0.9306685963333333, 0.818876999654902, 0.7591463906980392),\n",
       " (0.9673165156666667, 0.6574708288078431, 0.5381601507294118),\n",
       " (0.8846434386941177, 0.41001709788235297, 0.32250654924705885)]"
      ]
     },
     "execution_count": 102,
     "metadata": {},
     "output_type": "execute_result"
    }
   ],
   "source": [
    "sns.color_palette('coolwarm')"
   ]
  },
  {
   "cell_type": "markdown",
   "metadata": {},
   "source": [
    "## Load the data from the file"
   ]
  },
  {
   "cell_type": "code",
   "execution_count": 2,
   "metadata": {},
   "outputs": [
    {
     "name": "stdout",
     "output_type": "stream",
     "text": [
      "dict_keys(['__header__', '__version__', '__globals__', 'x', 'y'])\n"
     ]
    }
   ],
   "source": [
    "fn = 'hwkdata.mat'\n",
    "data_dict = sio.loadmat(fn)\n",
    "print(data_dict.keys())"
   ]
  },
  {
   "cell_type": "code",
   "execution_count": 3,
   "metadata": {},
   "outputs": [
    {
     "data": {
      "text/plain": [
       "(252, 14)"
      ]
     },
     "execution_count": 3,
     "metadata": {},
     "output_type": "execute_result"
    }
   ],
   "source": [
    "data_dict['x'].shape"
   ]
  },
  {
   "cell_type": "code",
   "execution_count": 4,
   "metadata": {},
   "outputs": [
    {
     "data": {
      "text/plain": [
       "(252, 1)"
      ]
     },
     "execution_count": 4,
     "metadata": {},
     "output_type": "execute_result"
    }
   ],
   "source": [
    "data_dict['y'].shape"
   ]
  },
  {
   "cell_type": "code",
   "execution_count": 5,
   "metadata": {},
   "outputs": [],
   "source": [
    "data = np.append(data_dict['x'], data_dict['y'], 1)"
   ]
  },
  {
   "cell_type": "code",
   "execution_count": 6,
   "metadata": {},
   "outputs": [
    {
     "data": {
      "text/plain": [
       "(252, 15)"
      ]
     },
     "execution_count": 6,
     "metadata": {},
     "output_type": "execute_result"
    }
   ],
   "source": [
    "data.shape"
   ]
  },
  {
   "cell_type": "markdown",
   "metadata": {},
   "source": [
    "Now the 2-d array `data` contains 252 samples, each with 14 input variables and 1 output variable"
   ]
  },
  {
   "cell_type": "markdown",
   "metadata": {},
   "source": [
    "I will want to label the columns later..."
   ]
  },
  {
   "cell_type": "code",
   "execution_count": 115,
   "metadata": {},
   "outputs": [],
   "source": [
    "parameter_names = [\n",
    "    'Age',\n",
    "    'Weight',\n",
    "    'Height',\n",
    "    'Adiposity Index',\n",
    "    'Neck circumference',\n",
    "    'Chest circumference',\n",
    "    'Abdomen circumference',\n",
    "    'Hip circumference',\n",
    "    'Thigh circumference',\n",
    "    'Knee circumference',\n",
    "    'Ankle circumference',\n",
    "    'Extended bicep circumference',\n",
    "    'Forearm circumference',\n",
    "    'Wrist circumference',\n",
    "    '% Bodyweight'\n",
    "]"
   ]
  },
  {
   "cell_type": "markdown",
   "metadata": {},
   "source": [
    "## Calculate statistical properties of the data:\n",
    "- Maximum\n",
    "- Minimum\n",
    "- Mean\n",
    "- Median\n",
    "- 20% trimmed mean\n",
    "- Standard deviation\n",
    "- Variance\n",
    "- Skewness\n",
    "- Kurtosis"
   ]
  },
  {
   "cell_type": "markdown",
   "metadata": {},
   "source": [
    "### Maximum"
   ]
  },
  {
   "cell_type": "code",
   "execution_count": 7,
   "metadata": {},
   "outputs": [
    {
     "data": {
      "text/plain": [
       "array([ 81.  , 363.15,  77.75,  48.9 ,  51.2 , 136.2 , 148.1 , 147.7 ,\n",
       "        87.3 ,  49.1 ,  33.9 ,  45.  ,  34.9 ,  21.4 ,  45.1 ])"
      ]
     },
     "execution_count": 7,
     "metadata": {},
     "output_type": "execute_result"
    }
   ],
   "source": [
    "np.max(data, axis=0)"
   ]
  },
  {
   "cell_type": "markdown",
   "metadata": {},
   "source": [
    "### Minimum"
   ]
  },
  {
   "cell_type": "code",
   "execution_count": 8,
   "metadata": {},
   "outputs": [
    {
     "data": {
      "text/plain": [
       "array([ 22. , 118.5,  29.5,  18.1,  31.1,  79.3,  69.4,  85. ,  47.2,\n",
       "        33. ,  19.1,  24.8,  21. ,  15.8,   0. ])"
      ]
     },
     "execution_count": 8,
     "metadata": {},
     "output_type": "execute_result"
    }
   ],
   "source": [
    "np.min(data, axis=0)"
   ]
  },
  {
   "cell_type": "markdown",
   "metadata": {},
   "source": [
    "### Mean"
   ]
  },
  {
   "cell_type": "code",
   "execution_count": 9,
   "metadata": {},
   "outputs": [
    {
     "data": {
      "text/plain": [
       "array([ 44.88492063, 178.92440476,  70.14880952,  25.43690476,\n",
       "        37.99206349, 100.82420635,  92.55595238,  99.9047619 ,\n",
       "        59.40595238,  38.59047619,  23.10238095,  32.2734127 ,\n",
       "        28.66388889,  18.2297619 ,  18.93849206])"
      ]
     },
     "execution_count": 9,
     "metadata": {},
     "output_type": "execute_result"
    }
   ],
   "source": [
    "np.mean(data, axis=0)"
   ]
  },
  {
   "cell_type": "markdown",
   "metadata": {},
   "source": [
    "### Median"
   ]
  },
  {
   "cell_type": "code",
   "execution_count": 10,
   "metadata": {},
   "outputs": [
    {
     "data": {
      "text/plain": [
       "array([ 43.  , 176.5 ,  70.  ,  25.05,  38.  ,  99.65,  90.95,  99.3 ,\n",
       "        59.  ,  38.5 ,  22.8 ,  32.05,  28.7 ,  18.3 ,  19.  ])"
      ]
     },
     "execution_count": 10,
     "metadata": {},
     "output_type": "execute_result"
    }
   ],
   "source": [
    "np.median(data, axis=0)"
   ]
  },
  {
   "cell_type": "markdown",
   "metadata": {},
   "source": [
    "### 20% Trimmed Mean"
   ]
  },
  {
   "cell_type": "code",
   "execution_count": 11,
   "metadata": {},
   "outputs": [
    {
     "name": "stderr",
     "output_type": "stream",
     "text": [
      "/Users/jrpowers-luhn/miniconda3/envs/579/lib/python3.6/site-packages/scipy/stats/stats.py:2831: FutureWarning: Using a non-tuple sequence for multidimensional indexing is deprecated; use `arr[tuple(seq)]` instead of `arr[seq]`. In the future this will be interpreted as an array index, `arr[np.array(seq)]`, which will result either in an error or a different result.\n",
      "  return np.mean(atmp[sl], axis=axis)\n"
     ]
    },
    {
     "data": {
      "text/plain": [
       "array([ 44.44078947, 176.55361842,  70.25      ,  25.05986842,\n",
       "        37.92894737, 100.12763158,  91.80789474,  99.32828947,\n",
       "        59.13092105,  38.49144737,  22.91381579,  32.16118421,\n",
       "        28.69934211,  18.21776316,  18.86578947])"
      ]
     },
     "execution_count": 11,
     "metadata": {},
     "output_type": "execute_result"
    }
   ],
   "source": [
    "trim_mean(data, 0.2, axis=0)"
   ]
  },
  {
   "cell_type": "markdown",
   "metadata": {},
   "source": [
    "### Standard Deviation"
   ]
  },
  {
   "cell_type": "code",
   "execution_count": 12,
   "metadata": {},
   "outputs": [
    {
     "data": {
      "text/plain": [
       "array([12.57701082, 29.3307901 ,  3.65558099,  3.64086527,  2.4260852 ,\n",
       "        8.41373177, 10.76166054,  7.14982914,  5.2395251 ,  2.4070145 ,\n",
       "        1.69152717,  3.0152732 ,  2.01667787,  0.93173074,  7.73546169])"
      ]
     },
     "execution_count": 12,
     "metadata": {},
     "output_type": "execute_result"
    }
   ],
   "source": [
    "np.std(data, axis=0)"
   ]
  },
  {
   "cell_type": "markdown",
   "metadata": {},
   "source": [
    "### Variance"
   ]
  },
  {
   "cell_type": "code",
   "execution_count": 13,
   "metadata": {},
   "outputs": [
    {
     "data": {
      "text/plain": [
       "array([158.18120118, 860.29524766,  13.36327239,  13.25589994,\n",
       "         5.88588939,  70.79088231, 115.81333759,  51.12005669,\n",
       "        27.4526233 ,   5.79371882,   2.86126417,   9.09187248,\n",
       "         4.06698964,   0.86812217,  59.83736757])"
      ]
     },
     "execution_count": 13,
     "metadata": {},
     "output_type": "execute_result"
    }
   ],
   "source": [
    "np.var(data, axis=0)"
   ]
  },
  {
   "cell_type": "markdown",
   "metadata": {},
   "source": [
    "### Skewness"
   ]
  },
  {
   "cell_type": "code",
   "execution_count": 14,
   "metadata": {},
   "outputs": [
    {
     "data": {
      "text/plain": [
       "array([ 0.28183067,  1.19807685, -5.35287991,  1.55239101,  0.54932508,\n",
       "        0.6774921 ,  0.83341904,  1.48820106,  0.81631331,  0.51366304,\n",
       "        2.24168861,  0.28382759, -0.21802506,  0.27993485,  0.14338879])"
      ]
     },
     "execution_count": 14,
     "metadata": {},
     "output_type": "execute_result"
    }
   ],
   "source": [
    "skew(data, axis=0)"
   ]
  },
  {
   "cell_type": "markdown",
   "metadata": {},
   "source": [
    "### Kurtosis"
   ]
  },
  {
   "cell_type": "code",
   "execution_count": 15,
   "metadata": {},
   "outputs": [
    {
     "data": {
      "text/plain": [
       "array([-0.43193939,  5.14182358, 58.34569713,  6.55632326,  2.64223799,\n",
       "        0.94408639,  2.18073601,  7.30021682,  2.5894009 ,  1.01687492,\n",
       "       11.68578418,  0.46494688,  0.82550054,  0.36415485, -0.32445733])"
      ]
     },
     "execution_count": 15,
     "metadata": {},
     "output_type": "execute_result"
    }
   ],
   "source": [
    "kurtosis(data, axis=0)"
   ]
  },
  {
   "cell_type": "markdown",
   "metadata": {},
   "source": [
    "#### Also calculate $Kurt - 3$"
   ]
  },
  {
   "cell_type": "code",
   "execution_count": 16,
   "metadata": {},
   "outputs": [
    {
     "data": {
      "text/plain": [
       "array([-3.43193939,  2.14182358, 55.34569713,  3.55632326, -0.35776201,\n",
       "       -2.05591361, -0.81926399,  4.30021682, -0.4105991 , -1.98312508,\n",
       "        8.68578418, -2.53505312, -2.17449946, -2.63584515, -3.32445733])"
      ]
     },
     "execution_count": 16,
     "metadata": {},
     "output_type": "execute_result"
    }
   ],
   "source": [
    "kurtosis(data, axis=0) - 3 * np.ones_like(kurtosis(data, axis=0))"
   ]
  },
  {
   "cell_type": "code",
   "execution_count": 43,
   "metadata": {},
   "outputs": [
    {
     "ename": "ValueError",
     "evalue": "invalid number of arguments",
     "output_type": "error",
     "traceback": [
      "\u001b[0;31m---------------------------------------------------------------------------\u001b[0m",
      "\u001b[0;31mValueError\u001b[0m                                Traceback (most recent call last)",
      "\u001b[0;32m<ipython-input-43-374201aa3c0d>\u001b[0m in \u001b[0;36m<module>\u001b[0;34m()\u001b[0m\n\u001b[0;32m----> 1\u001b[0;31m \u001b[0mnp\u001b[0m\u001b[0;34m.\u001b[0m\u001b[0mmaximum\u001b[0m\u001b[0;34m(\u001b[0m\u001b[0mkurtosis\u001b[0m\u001b[0;34m(\u001b[0m\u001b[0mdata\u001b[0m\u001b[0;34m,\u001b[0m \u001b[0maxis\u001b[0m\u001b[0;34m=\u001b[0m\u001b[0;36m0\u001b[0m\u001b[0;34m)\u001b[0m\u001b[0;34m)\u001b[0m\u001b[0;34m\u001b[0m\u001b[0m\n\u001b[0m",
      "\u001b[0;31mValueError\u001b[0m: invalid number of arguments"
     ]
    }
   ],
   "source": [
    "np.maximum(kurtosis(data, axis=0))"
   ]
  },
  {
   "cell_type": "markdown",
   "metadata": {},
   "source": [
    "#### Difference between mean and median"
   ]
  },
  {
   "cell_type": "code",
   "execution_count": 108,
   "metadata": {},
   "outputs": [
    {
     "data": {
      "image/png": "[encoded data removed]",
      "text/plain": [
       "<Figure size 432x288 with 1 Axes>"
      ]
     },
     "metadata": {
      "needs_background": "light"
     },
     "output_type": "display_data"
    }
   ],
   "source": [
    "with sns.color_palette('coolwarm'):\n",
    "    s = np.divide(np.mean(data, axis=0) - np.median(data, axis=0), np.std(data, axis=0))\n",
    "    #plt.bar(np.arange(s.shape[0]), s, alpha=0.5, label=r'$\\mu$ - median')\n",
    "    plt.bar(np.arange(s.shape[0]), np.mean(data, axis=0) - np.median(data, axis=0), label=r'$\\mu$ - median')\n",
    "    #plt.bar(np.arange(s.shape[0]), kurtosis(data, axis=0) / kurtosis(data, axis=0).max(axis=0),\n",
    "    #        alpha=0.5, label='Kurtosis')\n",
    "    #plt.bar(np.arange(s.shape[0]), skew(data, axis=0),\n",
    "    #        alpha=0.5, label='Skewness')\n",
    "    plt.legend(loc=\"upper right\")\n",
    "    plt.show()"
   ]
  },
  {
   "cell_type": "markdown",
   "metadata": {},
   "source": [
    "From this plot we see that the mean (sensitive to outliers) exceeds the median (insensitive to outliers) "
   ]
  },
  {
   "cell_type": "code",
   "execution_count": 109,
   "metadata": {},
   "outputs": [
    {
     "name": "stderr",
     "output_type": "stream",
     "text": [
      "/Users/jrpowers-luhn/miniconda3/envs/579/lib/python3.6/site-packages/scipy/stats/stats.py:2831: FutureWarning: Using a non-tuple sequence for multidimensional indexing is deprecated; use `arr[tuple(seq)]` instead of `arr[seq]`. In the future this will be interpreted as an array index, `arr[np.array(seq)]`, which will result either in an error or a different result.\n",
      "  >>> from scipy import stats\n"
     ]
    },
    {
     "data": {
      "image/png": "[encoded data removed]",
      "text/plain": [
       "<Figure size 432x288 with 1 Axes>"
      ]
     },
     "metadata": {
      "needs_background": "light"
     },
     "output_type": "display_data"
    }
   ],
   "source": [
    "with sns.color_palette('coolwarm'):\n",
    "    plt.bar(np.arange(np.mean(data, axis=0).shape[0]),\n",
    "        np.mean(data, axis=0) - trim_mean(data, 0.2, axis=0), label=r'$\\mu$ - trim mean')\n",
    "    plt.legend(loc='upper right')\n",
    "    #plt.bar(np.arange(trim_mean(data, 0.2, axis=0).shape[0]),\n",
    "    #        trim_mean(data, 0.2, axis=0))\n",
    "    plt.show()"
   ]
  },
  {
   "cell_type": "markdown",
   "metadata": {},
   "source": [
    "# Now look at covariance and correlation"
   ]
  },
  {
   "cell_type": "code",
   "execution_count": 85,
   "metadata": {},
   "outputs": [
    {
     "data": {
      "image/png": "[encoded data removed]",
      "text/plain": [
       "<Figure size 864x720 with 2 Axes>"
      ]
     },
     "metadata": {
      "needs_background": "light"
     },
     "output_type": "display_data"
    }
   ],
   "source": [
    "w, h = plt.figaspect(1)\n",
    "plt.figure(figsize=(3*w, 2.5*h))\n",
    "sns.heatmap(np.corrcoef(data.T), vmin=-1, vmax=1, center=0, cmap='coolwarm')\n",
    "plt.show()"
   ]
  },
  {
   "cell_type": "markdown",
   "metadata": {},
   "source": [
    "# Pandas"
   ]
  },
  {
   "cell_type": "code",
   "execution_count": 119,
   "metadata": {},
   "outputs": [],
   "source": [
    "stat_names = [\n",
    "    \"Parameter\", \"Max\", \"Min\", \"Mean\", \"Median\", \"20% Trimmed Mean\",\n",
    "    \"Standard Deviation\", \"Variance\", \"Skewness\", \"Kurtosis\"\n",
    "]"
   ]
  },
  {
   "cell_type": "code",
   "execution_count": 120,
   "metadata": {},
   "outputs": [
    {
     "name": "stderr",
     "output_type": "stream",
     "text": [
      "/Users/jrpowers-luhn/miniconda3/envs/579/lib/python3.6/site-packages/scipy/stats/stats.py:2831: FutureWarning: Using a non-tuple sequence for multidimensional indexing is deprecated; use `arr[tuple(seq)]` instead of `arr[seq]`. In the future this will be interpreted as an array index, `arr[np.array(seq)]`, which will result either in an error or a different result.\n",
      "  >>> from scipy import stats\n"
     ]
    }
   ],
   "source": [
    "summary_statistics = pd.DataFrame(columns=stat_names)\n",
    "summary_statistics['Parameter'] = parameter_names\n",
    "summary_statistics['Max'] = np.max(data, axis=0)\n",
    "summary_statistics['Min'] = np.min(data, axis=0)\n",
    "summary_statistics['Mean'] = np.mean(data, axis=0)\n",
    "summary_statistics['Median'] = np.median(data, axis=0)\n",
    "summary_statistics['20% Trimmed Mean'] = trim_mean(data, 0.2, axis=0)\n",
    "summary_statistics['Standard Deviation'] = np.std(data, axis=0)\n",
    "summary_statistics['Variance'] = np.var(data, axis=0)\n",
    "summary_statistics['Skewness'] = skew(data, axis=0)\n",
    "summary_statistics['Kurtosis'] = kurtosis(data, axis=0)"
   ]
  },
  {
   "cell_type": "code",
   "execution_count": 124,
   "metadata": {},
   "outputs": [
    {
     "data": {
      "text/html": [
       "<div>\n",
       "<style scoped>\n",
       "    .dataframe tbody tr th:only-of-type {\n",
       "        vertical-align: middle;\n",
       "    }\n",
       "\n",
       "    .dataframe tbody tr th {\n",
       "        vertical-align: top;\n",
       "    }\n",
       "\n",
       "    .dataframe thead th {\n",
       "        text-align: right;\n",
       "    }\n",
       "</style>\n",
       "<table border=\"1\" class=\"dataframe\">\n",
       "  <thead>\n",
       "    <tr style=\"text-align: right;\">\n",
       "      <th></th>\n",
       "      <th>Parameter</th>\n",
       "      <th>Max</th>\n",
       "      <th>Min</th>\n",
       "      <th>Mean</th>\n",
       "      <th>Median</th>\n",
       "      <th>20% Trimmed Mean</th>\n",
       "      <th>Standard Deviation</th>\n",
       "      <th>Variance</th>\n",
       "      <th>Skewness</th>\n",
       "      <th>Kurtosis</th>\n",
       "    </tr>\n",
       "  </thead>\n",
       "  <tbody>\n",
       "    <tr>\n",
       "      <th>0</th>\n",
       "      <td>Age</td>\n",
       "      <td>81.00</td>\n",
       "      <td>22.0</td>\n",
       "      <td>44.884921</td>\n",
       "      <td>43.00</td>\n",
       "      <td>44.440789</td>\n",
       "      <td>12.577011</td>\n",
       "      <td>158.181201</td>\n",
       "      <td>0.281831</td>\n",
       "      <td>-0.431939</td>\n",
       "    </tr>\n",
       "    <tr>\n",
       "      <th>1</th>\n",
       "      <td>Weight</td>\n",
       "      <td>363.15</td>\n",
       "      <td>118.5</td>\n",
       "      <td>178.924405</td>\n",
       "      <td>176.50</td>\n",
       "      <td>176.553618</td>\n",
       "      <td>29.330790</td>\n",
       "      <td>860.295248</td>\n",
       "      <td>1.198077</td>\n",
       "      <td>5.141824</td>\n",
       "    </tr>\n",
       "    <tr>\n",
       "      <th>2</th>\n",
       "      <td>Height</td>\n",
       "      <td>77.75</td>\n",
       "      <td>29.5</td>\n",
       "      <td>70.148810</td>\n",
       "      <td>70.00</td>\n",
       "      <td>70.250000</td>\n",
       "      <td>3.655581</td>\n",
       "      <td>13.363272</td>\n",
       "      <td>-5.352880</td>\n",
       "      <td>58.345697</td>\n",
       "    </tr>\n",
       "    <tr>\n",
       "      <th>3</th>\n",
       "      <td>Adiposity Index</td>\n",
       "      <td>48.90</td>\n",
       "      <td>18.1</td>\n",
       "      <td>25.436905</td>\n",
       "      <td>25.05</td>\n",
       "      <td>25.059868</td>\n",
       "      <td>3.640865</td>\n",
       "      <td>13.255900</td>\n",
       "      <td>1.552391</td>\n",
       "      <td>6.556323</td>\n",
       "    </tr>\n",
       "    <tr>\n",
       "      <th>4</th>\n",
       "      <td>Neck circumference</td>\n",
       "      <td>51.20</td>\n",
       "      <td>31.1</td>\n",
       "      <td>37.992063</td>\n",
       "      <td>38.00</td>\n",
       "      <td>37.928947</td>\n",
       "      <td>2.426085</td>\n",
       "      <td>5.885889</td>\n",
       "      <td>0.549325</td>\n",
       "      <td>2.642238</td>\n",
       "    </tr>\n",
       "    <tr>\n",
       "      <th>5</th>\n",
       "      <td>Chest circumference</td>\n",
       "      <td>136.20</td>\n",
       "      <td>79.3</td>\n",
       "      <td>100.824206</td>\n",
       "      <td>99.65</td>\n",
       "      <td>100.127632</td>\n",
       "      <td>8.413732</td>\n",
       "      <td>70.790882</td>\n",
       "      <td>0.677492</td>\n",
       "      <td>0.944086</td>\n",
       "    </tr>\n",
       "    <tr>\n",
       "      <th>6</th>\n",
       "      <td>Abdomen circumference</td>\n",
       "      <td>148.10</td>\n",
       "      <td>69.4</td>\n",
       "      <td>92.555952</td>\n",
       "      <td>90.95</td>\n",
       "      <td>91.807895</td>\n",
       "      <td>10.761661</td>\n",
       "      <td>115.813338</td>\n",
       "      <td>0.833419</td>\n",
       "      <td>2.180736</td>\n",
       "    </tr>\n",
       "    <tr>\n",
       "      <th>7</th>\n",
       "      <td>Hip circumference</td>\n",
       "      <td>147.70</td>\n",
       "      <td>85.0</td>\n",
       "      <td>99.904762</td>\n",
       "      <td>99.30</td>\n",
       "      <td>99.328289</td>\n",
       "      <td>7.149829</td>\n",
       "      <td>51.120057</td>\n",
       "      <td>1.488201</td>\n",
       "      <td>7.300217</td>\n",
       "    </tr>\n",
       "    <tr>\n",
       "      <th>8</th>\n",
       "      <td>Thigh circumference</td>\n",
       "      <td>87.30</td>\n",
       "      <td>47.2</td>\n",
       "      <td>59.405952</td>\n",
       "      <td>59.00</td>\n",
       "      <td>59.130921</td>\n",
       "      <td>5.239525</td>\n",
       "      <td>27.452623</td>\n",
       "      <td>0.816313</td>\n",
       "      <td>2.589401</td>\n",
       "    </tr>\n",
       "    <tr>\n",
       "      <th>9</th>\n",
       "      <td>Knee circumference</td>\n",
       "      <td>49.10</td>\n",
       "      <td>33.0</td>\n",
       "      <td>38.590476</td>\n",
       "      <td>38.50</td>\n",
       "      <td>38.491447</td>\n",
       "      <td>2.407015</td>\n",
       "      <td>5.793719</td>\n",
       "      <td>0.513663</td>\n",
       "      <td>1.016875</td>\n",
       "    </tr>\n",
       "    <tr>\n",
       "      <th>10</th>\n",
       "      <td>Ankle circumference</td>\n",
       "      <td>33.90</td>\n",
       "      <td>19.1</td>\n",
       "      <td>23.102381</td>\n",
       "      <td>22.80</td>\n",
       "      <td>22.913816</td>\n",
       "      <td>1.691527</td>\n",
       "      <td>2.861264</td>\n",
       "      <td>2.241689</td>\n",
       "      <td>11.685784</td>\n",
       "    </tr>\n",
       "    <tr>\n",
       "      <th>11</th>\n",
       "      <td>Extended bicep circumference</td>\n",
       "      <td>45.00</td>\n",
       "      <td>24.8</td>\n",
       "      <td>32.273413</td>\n",
       "      <td>32.05</td>\n",
       "      <td>32.161184</td>\n",
       "      <td>3.015273</td>\n",
       "      <td>9.091872</td>\n",
       "      <td>0.283828</td>\n",
       "      <td>0.464947</td>\n",
       "    </tr>\n",
       "    <tr>\n",
       "      <th>12</th>\n",
       "      <td>Forearm circumference</td>\n",
       "      <td>34.90</td>\n",
       "      <td>21.0</td>\n",
       "      <td>28.663889</td>\n",
       "      <td>28.70</td>\n",
       "      <td>28.699342</td>\n",
       "      <td>2.016678</td>\n",
       "      <td>4.066990</td>\n",
       "      <td>-0.218025</td>\n",
       "      <td>0.825501</td>\n",
       "    </tr>\n",
       "    <tr>\n",
       "      <th>13</th>\n",
       "      <td>Wrist circumference</td>\n",
       "      <td>21.40</td>\n",
       "      <td>15.8</td>\n",
       "      <td>18.229762</td>\n",
       "      <td>18.30</td>\n",
       "      <td>18.217763</td>\n",
       "      <td>0.931731</td>\n",
       "      <td>0.868122</td>\n",
       "      <td>0.279935</td>\n",
       "      <td>0.364155</td>\n",
       "    </tr>\n",
       "    <tr>\n",
       "      <th>14</th>\n",
       "      <td>% Bodyweight</td>\n",
       "      <td>45.10</td>\n",
       "      <td>0.0</td>\n",
       "      <td>18.938492</td>\n",
       "      <td>19.00</td>\n",
       "      <td>18.865789</td>\n",
       "      <td>7.735462</td>\n",
       "      <td>59.837368</td>\n",
       "      <td>0.143389</td>\n",
       "      <td>-0.324457</td>\n",
       "    </tr>\n",
       "  </tbody>\n",
       "</table>\n",
       "</div>"
      ],
      "text/plain": [
       "                       Parameter     Max    Min        Mean  Median  \\\n",
       "0                            Age   81.00   22.0   44.884921   43.00   \n",
       "1                         Weight  363.15  118.5  178.924405  176.50   \n",
       "2                         Height   77.75   29.5   70.148810   70.00   \n",
       "3                Adiposity Index   48.90   18.1   25.436905   25.05   \n",
       "4             Neck circumference   51.20   31.1   37.992063   38.00   \n",
       "5            Chest circumference  136.20   79.3  100.824206   99.65   \n",
       "6          Abdomen circumference  148.10   69.4   92.555952   90.95   \n",
       "7              Hip circumference  147.70   85.0   99.904762   99.30   \n",
       "8            Thigh circumference   87.30   47.2   59.405952   59.00   \n",
       "9             Knee circumference   49.10   33.0   38.590476   38.50   \n",
       "10           Ankle circumference   33.90   19.1   23.102381   22.80   \n",
       "11  Extended bicep circumference   45.00   24.8   32.273413   32.05   \n",
       "12         Forearm circumference   34.90   21.0   28.663889   28.70   \n",
       "13           Wrist circumference   21.40   15.8   18.229762   18.30   \n",
       "14                  % Bodyweight   45.10    0.0   18.938492   19.00   \n",
       "\n",
       "    20% Trimmed Mean  Standard Deviation    Variance  Skewness   Kurtosis  \n",
       "0          44.440789           12.577011  158.181201  0.281831  -0.431939  \n",
       "1         176.553618           29.330790  860.295248  1.198077   5.141824  \n",
       "2          70.250000            3.655581   13.363272 -5.352880  58.345697  \n",
       "3          25.059868            3.640865   13.255900  1.552391   6.556323  \n",
       "4          37.928947            2.426085    5.885889  0.549325   2.642238  \n",
       "5         100.127632            8.413732   70.790882  0.677492   0.944086  \n",
       "6          91.807895           10.761661  115.813338  0.833419   2.180736  \n",
       "7          99.328289            7.149829   51.120057  1.488201   7.300217  \n",
       "8          59.130921            5.239525   27.452623  0.816313   2.589401  \n",
       "9          38.491447            2.407015    5.793719  0.513663   1.016875  \n",
       "10         22.913816            1.691527    2.861264  2.241689  11.685784  \n",
       "11         32.161184            3.015273    9.091872  0.283828   0.464947  \n",
       "12         28.699342            2.016678    4.066990 -0.218025   0.825501  \n",
       "13         18.217763            0.931731    0.868122  0.279935   0.364155  \n",
       "14         18.865789            7.735462   59.837368  0.143389  -0.324457  "
      ]
     },
     "execution_count": 124,
     "metadata": {},
     "output_type": "execute_result"
    }
   ],
   "source": [
    "summary_statistics"
   ]
  },
  {
   "cell_type": "code",
   "execution_count": 130,
   "metadata": {},
   "outputs": [
    {
     "data": {
      "text/plain": [
       "0      4.691099\n",
       "1      8.341064\n",
       "2     13.198996\n",
       "3      8.459528\n",
       "4      8.284952\n",
       "5      6.762754\n",
       "6      7.312998\n",
       "7      8.769440\n",
       "8      7.653365\n",
       "9      6.688784\n",
       "10     8.749490\n",
       "11     6.699227\n",
       "12     6.892524\n",
       "13     6.010320\n",
       "14     5.830292\n",
       "dtype: float64"
      ]
     },
     "execution_count": 130,
     "metadata": {},
     "output_type": "execute_result"
    }
   ],
   "source": [
    "(summary_statistics['Max'] - summary_statistics['Min'] ) / summary_statistics['Standard Deviation']"
   ]
  },
  {
   "cell_type": "code",
   "execution_count": 127,
   "metadata": {},
   "outputs": [
    {
     "data": {
      "text/plain": [
       "0      44.884921\n",
       "1     178.924405\n",
       "2      70.148810\n",
       "3      25.436905\n",
       "4      37.992063\n",
       "5     100.824206\n",
       "6      92.555952\n",
       "7      99.904762\n",
       "8      59.405952\n",
       "9      38.590476\n",
       "10     23.102381\n",
       "11     32.273413\n",
       "12     28.663889\n",
       "13     18.229762\n",
       "14     18.938492\n",
       "Name: Mean, dtype: float64"
      ]
     },
     "execution_count": 127,
     "metadata": {},
     "output_type": "execute_result"
    }
   ],
   "source": [
    "summary_statistics['Mean']"
   ]
  },
  {
   "cell_type": "code",
   "execution_count": 143,
   "metadata": {},
   "outputs": [
    {
     "data": {
      "image/png": "[encoded data removed]",
      "text/plain": [
       "<Figure size 1440x1080 with 16 Axes>"
      ]
     },
     "metadata": {
      "needs_background": "light"
     },
     "output_type": "display_data"
    }
   ],
   "source": [
    "with sns.color_palette('coolwarm'):\n",
    "    f, ax = plt.subplots(4, 4, figsize=(20,15), sharey=True)\n",
    "#    for i in range(len(parameter_names)):\n",
    "    for i in range(4):\n",
    "        for j in range(4):\n",
    "            if (i*4+j) < len(parameter_names):\n",
    "                ax[i,j].hist(data[:,i*4+j], bins=25)\n",
    "                ax[i,j].set_title(parameter_names[i*4+j])\n",
    "plt.show()"
   ]
  },
  {
   "cell_type": "code",
   "execution_count": 141,
   "metadata": {},
   "outputs": [
    {
     "data": {
      "text/plain": [
       "list"
      ]
     },
     "execution_count": 141,
     "metadata": {},
     "output_type": "execute_result"
    }
   ],
   "source": [
    "type(parameter_names)"
   ]
  },
  {
   "cell_type": "code",
   "execution_count": 142,
   "metadata": {},
   "outputs": [
    {
     "data": {
      "text/plain": [
       "2"
      ]
     },
     "execution_count": 142,
     "metadata": {},
     "output_type": "execute_result"
    }
   ],
   "source": [
    "len([1,2])"
   ]
  },
  {
   "cell_type": "code",
   "execution_count": null,
   "metadata": {},
   "outputs": [],
   "source": []
  }
 ],
 "metadata": {
  "kernelspec": {
   "display_name": "Python [conda env:579]",
   "language": "python",
   "name": "conda-env-579-py"
  },
  "language_info": {
   "codemirror_mode": {
    "name": "ipython",
    "version": 3
   },
   "file_extension": ".py",
   "mimetype": "text/x-python",
   "name": "python",
   "nbconvert_exporter": "python",
   "pygments_lexer": "ipython3",
   "version": "3.6.6"
  }
 },
 "nbformat": 4,
 "nbformat_minor": 2
}
