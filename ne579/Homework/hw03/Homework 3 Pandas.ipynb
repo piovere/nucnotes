{
 "cells": [
  {
   "cell_type": "markdown",
   "metadata": {},
   "source": [
    "# Imports"
   ]
  },
  {
   "cell_type": "code",
   "execution_count": 1,
   "metadata": {},
   "outputs": [],
   "source": [
    "%matplotlib inline\n",
    "import matplotlib.pyplot as plt\n",
    "import seaborn as sns\n",
    "import pandas as pd\n",
    "import numpy as np\n",
    "import scipy.io as sio"
   ]
  },
  {
   "cell_type": "markdown",
   "metadata": {},
   "source": [
    "# Load the data"
   ]
  },
  {
   "cell_type": "code",
   "execution_count": 2,
   "metadata": {},
   "outputs": [
    {
     "name": "stdout",
     "output_type": "stream",
     "text": [
      "dict_keys(['__header__', '__version__', '__globals__', 'x', 'y'])\n"
     ]
    }
   ],
   "source": [
    "file = 'hwkdataNEW.mat'\n",
    "data_dict = sio.loadmat(file)\n",
    "print(data_dict.keys())"
   ]
  },
  {
   "cell_type": "markdown",
   "metadata": {},
   "source": [
    "Extract the parts we want and examine them"
   ]
  },
  {
   "cell_type": "code",
   "execution_count": 3,
   "metadata": {},
   "outputs": [],
   "source": [
    "x = data_dict['x']\n",
    "y = data_dict['y']"
   ]
  },
  {
   "cell_type": "code",
   "execution_count": 4,
   "metadata": {},
   "outputs": [
    {
     "data": {
      "text/plain": [
       "(247, 14)"
      ]
     },
     "execution_count": 4,
     "metadata": {},
     "output_type": "execute_result"
    }
   ],
   "source": [
    "x.shape"
   ]
  },
  {
   "cell_type": "code",
   "execution_count": 5,
   "metadata": {},
   "outputs": [
    {
     "data": {
      "text/plain": [
       "(247, 1)"
      ]
     },
     "execution_count": 5,
     "metadata": {},
     "output_type": "execute_result"
    }
   ],
   "source": [
    "y.shape"
   ]
  },
  {
   "cell_type": "markdown",
   "metadata": {},
   "source": [
    "We want to put this all into the `pandas` data format"
   ]
  },
  {
   "cell_type": "code",
   "execution_count": 6,
   "metadata": {},
   "outputs": [],
   "source": [
    "column_names = ['Age', 'Weight', 'Height', 'Adiposity Index', \n",
    "                'Neck Circumference', 'Chest Circumference', \n",
    "                'Abdomen Circumference', 'Hip Circumference',\n",
    "                'Thigh Circumference', 'Knee Circumference',\n",
    "                'Ankle Circumference', 'Extended Bicep Circumference',\n",
    "                'Forearm Circumference', 'Wrist Circumference',\n",
    "                'Body Fat Percentage']"
   ]
  },
  {
   "cell_type": "code",
   "execution_count": 7,
   "metadata": {},
   "outputs": [],
   "source": [
    "data = pd.DataFrame(x, columns=column_names[:-1]) # Last column contains y"
   ]
  },
  {
   "cell_type": "code",
   "execution_count": 8,
   "metadata": {},
   "outputs": [],
   "source": [
    "data[column_names[-1]] = y"
   ]
  },
  {
   "cell_type": "code",
   "execution_count": 9,
   "metadata": {},
   "outputs": [
    {
     "data": {
      "text/html": [
       "<div>\n",
       "<style scoped>\n",
       "    .dataframe tbody tr th:only-of-type {\n",
       "        vertical-align: middle;\n",
       "    }\n",
       "\n",
       "    .dataframe tbody tr th {\n",
       "        vertical-align: top;\n",
       "    }\n",
       "\n",
       "    .dataframe thead th {\n",
       "        text-align: right;\n",
       "    }\n",
       "</style>\n",
       "<table border=\"1\" class=\"dataframe\">\n",
       "  <thead>\n",
       "    <tr style=\"text-align: right;\">\n",
       "      <th></th>\n",
       "      <th>Age</th>\n",
       "      <th>Weight</th>\n",
       "      <th>Height</th>\n",
       "      <th>Adiposity Index</th>\n",
       "      <th>Neck Circumference</th>\n",
       "      <th>Chest Circumference</th>\n",
       "      <th>Abdomen Circumference</th>\n",
       "      <th>Hip Circumference</th>\n",
       "      <th>Thigh Circumference</th>\n",
       "      <th>Knee Circumference</th>\n",
       "      <th>Ankle Circumference</th>\n",
       "      <th>Extended Bicep Circumference</th>\n",
       "      <th>Forearm Circumference</th>\n",
       "      <th>Wrist Circumference</th>\n",
       "      <th>Body Fat Percentage</th>\n",
       "    </tr>\n",
       "  </thead>\n",
       "  <tbody>\n",
       "    <tr>\n",
       "      <th>0</th>\n",
       "      <td>23.0</td>\n",
       "      <td>154.25</td>\n",
       "      <td>67.75</td>\n",
       "      <td>23.7</td>\n",
       "      <td>36.2</td>\n",
       "      <td>93.1</td>\n",
       "      <td>85.2</td>\n",
       "      <td>94.5</td>\n",
       "      <td>59.0</td>\n",
       "      <td>37.3</td>\n",
       "      <td>21.9</td>\n",
       "      <td>32.0</td>\n",
       "      <td>27.4</td>\n",
       "      <td>17.1</td>\n",
       "      <td>12.6</td>\n",
       "    </tr>\n",
       "    <tr>\n",
       "      <th>1</th>\n",
       "      <td>22.0</td>\n",
       "      <td>173.25</td>\n",
       "      <td>72.25</td>\n",
       "      <td>23.4</td>\n",
       "      <td>38.5</td>\n",
       "      <td>93.6</td>\n",
       "      <td>83.0</td>\n",
       "      <td>98.7</td>\n",
       "      <td>58.7</td>\n",
       "      <td>37.3</td>\n",
       "      <td>23.4</td>\n",
       "      <td>30.5</td>\n",
       "      <td>28.9</td>\n",
       "      <td>18.2</td>\n",
       "      <td>6.9</td>\n",
       "    </tr>\n",
       "    <tr>\n",
       "      <th>2</th>\n",
       "      <td>22.0</td>\n",
       "      <td>154.00</td>\n",
       "      <td>66.25</td>\n",
       "      <td>24.7</td>\n",
       "      <td>34.0</td>\n",
       "      <td>95.8</td>\n",
       "      <td>87.9</td>\n",
       "      <td>99.2</td>\n",
       "      <td>59.6</td>\n",
       "      <td>38.9</td>\n",
       "      <td>24.0</td>\n",
       "      <td>28.8</td>\n",
       "      <td>25.2</td>\n",
       "      <td>16.6</td>\n",
       "      <td>24.6</td>\n",
       "    </tr>\n",
       "    <tr>\n",
       "      <th>3</th>\n",
       "      <td>26.0</td>\n",
       "      <td>184.75</td>\n",
       "      <td>72.25</td>\n",
       "      <td>24.9</td>\n",
       "      <td>37.4</td>\n",
       "      <td>101.8</td>\n",
       "      <td>86.4</td>\n",
       "      <td>101.2</td>\n",
       "      <td>60.1</td>\n",
       "      <td>37.3</td>\n",
       "      <td>22.8</td>\n",
       "      <td>32.4</td>\n",
       "      <td>29.4</td>\n",
       "      <td>18.2</td>\n",
       "      <td>10.9</td>\n",
       "    </tr>\n",
       "    <tr>\n",
       "      <th>4</th>\n",
       "      <td>24.0</td>\n",
       "      <td>184.25</td>\n",
       "      <td>71.25</td>\n",
       "      <td>25.6</td>\n",
       "      <td>34.4</td>\n",
       "      <td>97.3</td>\n",
       "      <td>100.0</td>\n",
       "      <td>101.9</td>\n",
       "      <td>63.2</td>\n",
       "      <td>42.2</td>\n",
       "      <td>24.0</td>\n",
       "      <td>32.2</td>\n",
       "      <td>27.7</td>\n",
       "      <td>17.7</td>\n",
       "      <td>27.8</td>\n",
       "    </tr>\n",
       "  </tbody>\n",
       "</table>\n",
       "</div>"
      ],
      "text/plain": [
       "    Age  Weight  Height  Adiposity Index  Neck Circumference  \\\n",
       "0  23.0  154.25   67.75             23.7                36.2   \n",
       "1  22.0  173.25   72.25             23.4                38.5   \n",
       "2  22.0  154.00   66.25             24.7                34.0   \n",
       "3  26.0  184.75   72.25             24.9                37.4   \n",
       "4  24.0  184.25   71.25             25.6                34.4   \n",
       "\n",
       "   Chest Circumference  Abdomen Circumference  Hip Circumference  \\\n",
       "0                 93.1                   85.2               94.5   \n",
       "1                 93.6                   83.0               98.7   \n",
       "2                 95.8                   87.9               99.2   \n",
       "3                101.8                   86.4              101.2   \n",
       "4                 97.3                  100.0              101.9   \n",
       "\n",
       "   Thigh Circumference  Knee Circumference  Ankle Circumference  \\\n",
       "0                 59.0                37.3                 21.9   \n",
       "1                 58.7                37.3                 23.4   \n",
       "2                 59.6                38.9                 24.0   \n",
       "3                 60.1                37.3                 22.8   \n",
       "4                 63.2                42.2                 24.0   \n",
       "\n",
       "   Extended Bicep Circumference  Forearm Circumference  Wrist Circumference  \\\n",
       "0                          32.0                   27.4                 17.1   \n",
       "1                          30.5                   28.9                 18.2   \n",
       "2                          28.8                   25.2                 16.6   \n",
       "3                          32.4                   29.4                 18.2   \n",
       "4                          32.2                   27.7                 17.7   \n",
       "\n",
       "   Body Fat Percentage  \n",
       "0                 12.6  \n",
       "1                  6.9  \n",
       "2                 24.6  \n",
       "3                 10.9  \n",
       "4                 27.8  "
      ]
     },
     "execution_count": 9,
     "metadata": {},
     "output_type": "execute_result"
    }
   ],
   "source": [
    "data.head()"
   ]
  },
  {
   "cell_type": "markdown",
   "metadata": {},
   "source": [
    "Data is now a pandas DataFrame that contains the information we need"
   ]
  },
  {
   "cell_type": "markdown",
   "metadata": {},
   "source": [
    "# Sort into Train, Test, and Validation"
   ]
  },
  {
   "cell_type": "markdown",
   "metadata": {},
   "source": [
    "Since the rows of data should be indpendent and uncorrelated, I have chosen to simply shuffle them then tag them as belonging to one of the named data sets (`train`, `test`, or `validation`). I will use the `.sample` method for this, which randomly selects the fraction provided as an argument."
   ]
  },
  {
   "cell_type": "code",
   "execution_count": 58,
   "metadata": {},
   "outputs": [],
   "source": [
    "train = data.sample(frac=0.7)\n",
    "valid = data.sample(frac=0.15)\n",
    "test = data.sample(frac=0.15)"
   ]
  },
  {
   "cell_type": "code",
   "execution_count": 59,
   "metadata": {},
   "outputs": [
    {
     "data": {
      "text/plain": [
       "173.0"
      ]
     },
     "execution_count": 59,
     "metadata": {},
     "output_type": "execute_result"
    }
   ],
   "source": [
    "train.size / 15"
   ]
  },
  {
   "cell_type": "code",
   "execution_count": 60,
   "metadata": {},
   "outputs": [
    {
     "data": {
      "text/plain": [
       "37.0"
      ]
     },
     "execution_count": 60,
     "metadata": {},
     "output_type": "execute_result"
    }
   ],
   "source": [
    "valid.size / 15"
   ]
  },
  {
   "cell_type": "code",
   "execution_count": 61,
   "metadata": {},
   "outputs": [
    {
     "data": {
      "text/plain": [
       "247.0"
      ]
     },
     "execution_count": 61,
     "metadata": {},
     "output_type": "execute_result"
    }
   ],
   "source": [
    "data.size  / 15"
   ]
  },
  {
   "cell_type": "code",
   "execution_count": 62,
   "metadata": {},
   "outputs": [
    {
     "data": {
      "text/plain": [
       "37.0"
      ]
     },
     "execution_count": 62,
     "metadata": {},
     "output_type": "execute_result"
    }
   ],
   "source": [
    "test.size / 15"
   ]
  },
  {
   "cell_type": "code",
   "execution_count": 63,
   "metadata": {},
   "outputs": [
    {
     "data": {
      "text/html": [
       "<div>\n",
       "<style scoped>\n",
       "    .dataframe tbody tr th:only-of-type {\n",
       "        vertical-align: middle;\n",
       "    }\n",
       "\n",
       "    .dataframe tbody tr th {\n",
       "        vertical-align: top;\n",
       "    }\n",
       "\n",
       "    .dataframe thead th {\n",
       "        text-align: right;\n",
       "    }\n",
       "</style>\n",
       "<table border=\"1\" class=\"dataframe\">\n",
       "  <thead>\n",
       "    <tr style=\"text-align: right;\">\n",
       "      <th></th>\n",
       "      <th>Age</th>\n",
       "      <th>Weight</th>\n",
       "      <th>Height</th>\n",
       "      <th>Adiposity Index</th>\n",
       "      <th>Neck Circumference</th>\n",
       "      <th>Chest Circumference</th>\n",
       "      <th>Abdomen Circumference</th>\n",
       "      <th>Hip Circumference</th>\n",
       "      <th>Thigh Circumference</th>\n",
       "      <th>Knee Circumference</th>\n",
       "      <th>Ankle Circumference</th>\n",
       "      <th>Extended Bicep Circumference</th>\n",
       "      <th>Forearm Circumference</th>\n",
       "      <th>Wrist Circumference</th>\n",
       "      <th>Body Fat Percentage</th>\n",
       "    </tr>\n",
       "  </thead>\n",
       "  <tbody>\n",
       "    <tr>\n",
       "      <th>192</th>\n",
       "      <td>42.0</td>\n",
       "      <td>168.00</td>\n",
       "      <td>71.50</td>\n",
       "      <td>23.1</td>\n",
       "      <td>36.5</td>\n",
       "      <td>92.0</td>\n",
       "      <td>89.7</td>\n",
       "      <td>101.0</td>\n",
       "      <td>62.3</td>\n",
       "      <td>38.0</td>\n",
       "      <td>22.3</td>\n",
       "      <td>30.8</td>\n",
       "      <td>27.8</td>\n",
       "      <td>16.9</td>\n",
       "      <td>17.6</td>\n",
       "    </tr>\n",
       "    <tr>\n",
       "      <th>240</th>\n",
       "      <td>68.0</td>\n",
       "      <td>155.50</td>\n",
       "      <td>69.25</td>\n",
       "      <td>22.8</td>\n",
       "      <td>36.3</td>\n",
       "      <td>97.4</td>\n",
       "      <td>84.3</td>\n",
       "      <td>94.4</td>\n",
       "      <td>54.3</td>\n",
       "      <td>37.5</td>\n",
       "      <td>22.6</td>\n",
       "      <td>29.2</td>\n",
       "      <td>27.3</td>\n",
       "      <td>18.5</td>\n",
       "      <td>15.3</td>\n",
       "    </tr>\n",
       "    <tr>\n",
       "      <th>86</th>\n",
       "      <td>48.0</td>\n",
       "      <td>176.00</td>\n",
       "      <td>73.00</td>\n",
       "      <td>23.3</td>\n",
       "      <td>36.7</td>\n",
       "      <td>96.7</td>\n",
       "      <td>86.5</td>\n",
       "      <td>98.3</td>\n",
       "      <td>60.4</td>\n",
       "      <td>39.9</td>\n",
       "      <td>24.4</td>\n",
       "      <td>28.8</td>\n",
       "      <td>29.6</td>\n",
       "      <td>18.7</td>\n",
       "      <td>14.3</td>\n",
       "    </tr>\n",
       "    <tr>\n",
       "      <th>19</th>\n",
       "      <td>33.0</td>\n",
       "      <td>211.75</td>\n",
       "      <td>73.50</td>\n",
       "      <td>27.6</td>\n",
       "      <td>40.0</td>\n",
       "      <td>106.2</td>\n",
       "      <td>100.5</td>\n",
       "      <td>109.0</td>\n",
       "      <td>65.8</td>\n",
       "      <td>40.6</td>\n",
       "      <td>24.0</td>\n",
       "      <td>37.1</td>\n",
       "      <td>30.1</td>\n",
       "      <td>18.2</td>\n",
       "      <td>16.5</td>\n",
       "    </tr>\n",
       "    <tr>\n",
       "      <th>110</th>\n",
       "      <td>48.0</td>\n",
       "      <td>175.25</td>\n",
       "      <td>71.75</td>\n",
       "      <td>24.0</td>\n",
       "      <td>38.0</td>\n",
       "      <td>100.7</td>\n",
       "      <td>92.4</td>\n",
       "      <td>97.5</td>\n",
       "      <td>59.3</td>\n",
       "      <td>38.1</td>\n",
       "      <td>21.8</td>\n",
       "      <td>31.8</td>\n",
       "      <td>27.3</td>\n",
       "      <td>17.5</td>\n",
       "      <td>25.9</td>\n",
       "    </tr>\n",
       "  </tbody>\n",
       "</table>\n",
       "</div>"
      ],
      "text/plain": [
       "      Age  Weight  Height  Adiposity Index  Neck Circumference  \\\n",
       "192  42.0  168.00   71.50             23.1                36.5   \n",
       "240  68.0  155.50   69.25             22.8                36.3   \n",
       "86   48.0  176.00   73.00             23.3                36.7   \n",
       "19   33.0  211.75   73.50             27.6                40.0   \n",
       "110  48.0  175.25   71.75             24.0                38.0   \n",
       "\n",
       "     Chest Circumference  Abdomen Circumference  Hip Circumference  \\\n",
       "192                 92.0                   89.7              101.0   \n",
       "240                 97.4                   84.3               94.4   \n",
       "86                  96.7                   86.5               98.3   \n",
       "19                 106.2                  100.5              109.0   \n",
       "110                100.7                   92.4               97.5   \n",
       "\n",
       "     Thigh Circumference  Knee Circumference  Ankle Circumference  \\\n",
       "192                 62.3                38.0                 22.3   \n",
       "240                 54.3                37.5                 22.6   \n",
       "86                  60.4                39.9                 24.4   \n",
       "19                  65.8                40.6                 24.0   \n",
       "110                 59.3                38.1                 21.8   \n",
       "\n",
       "     Extended Bicep Circumference  Forearm Circumference  Wrist Circumference  \\\n",
       "192                          30.8                   27.8                 16.9   \n",
       "240                          29.2                   27.3                 18.5   \n",
       "86                           28.8                   29.6                 18.7   \n",
       "19                           37.1                   30.1                 18.2   \n",
       "110                          31.8                   27.3                 17.5   \n",
       "\n",
       "     Body Fat Percentage  \n",
       "192                 17.6  \n",
       "240                 15.3  \n",
       "86                  14.3  \n",
       "19                  16.5  \n",
       "110                 25.9  "
      ]
     },
     "execution_count": 63,
     "metadata": {},
     "output_type": "execute_result"
    }
   ],
   "source": [
    "train.head()"
   ]
  },
  {
   "cell_type": "markdown",
   "metadata": {},
   "source": [
    "# Ensure that the training dataset contains the rows with the highest value of each column"
   ]
  },
  {
   "cell_type": "code",
   "execution_count": 64,
   "metadata": {},
   "outputs": [
    {
     "name": "stdout",
     "output_type": "stream",
     "text": [
      "This min-row was in the training data already\n",
      "This min-row was in the training data already\n",
      "This min-row was in the training data already\n",
      "This max-row was in the training data already\n",
      "This max-row was in the training data already\n",
      "This min-row was in the training data already\n",
      "This max-row was in the training data already\n",
      "This min-row was in the training data already\n",
      "This max-row was in the training data already\n",
      "This min-row was in the training data already\n",
      "This max-row was in the training data already\n",
      "This min-row was in the training data already\n",
      "This max-row was in the training data already\n",
      "This min-row was in the training data already\n",
      "This max-row was in the training data already\n",
      "This max-row was in the training data already\n",
      "This min-row was in the training data already\n",
      "This max-row was in the training data already\n",
      "This min-row was in the training data already\n",
      "This max-row was in the training data already\n",
      "This min-row was in the training data already\n",
      "This max-row was in the training data already\n",
      "This min-row was in the training data already\n",
      "This min-row was in the training data already\n",
      "Appended 6 rows\n"
     ]
    }
   ],
   "source": [
    "rows_appended = 0\n",
    "for col in column_names:\n",
    "    try:\n",
    "        train = train.append(data.loc[data[col].idxmax()], verify_integrity=True)\n",
    "        rows_appended += 1\n",
    "    except ValueError:\n",
    "        print('This max-row was in the training data already')\n",
    "    try:\n",
    "        train = train.append(data.loc[data[col].idxmin()], verify_integrity=True)\n",
    "        rows_appended += 1\n",
    "    except ValueError:\n",
    "        print('This min-row was in the training data already')\n",
    "print(f'Appended {rows_appended} rows')"
   ]
  },
  {
   "cell_type": "code",
   "execution_count": 65,
   "metadata": {},
   "outputs": [
    {
     "data": {
      "text/plain": [
       "179.0"
      ]
     },
     "execution_count": 65,
     "metadata": {},
     "output_type": "execute_result"
    }
   ],
   "source": [
    "train.size / 15"
   ]
  },
  {
   "cell_type": "code",
   "execution_count": null,
   "metadata": {},
   "outputs": [],
   "source": []
  }
 ],
 "metadata": {
  "kernelspec": {
   "display_name": "Python [conda env:579]",
   "language": "python",
   "name": "conda-env-579-py"
  },
  "language_info": {
   "codemirror_mode": {
    "name": "ipython",
    "version": 3
   },
   "file_extension": ".py",
   "mimetype": "text/x-python",
   "name": "python",
   "nbconvert_exporter": "python",
   "pygments_lexer": "ipython3",
   "version": "3.6.6"
  }
 },
 "nbformat": 4,
 "nbformat_minor": 2
}
