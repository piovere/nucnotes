{
 "cells": [
  {
   "cell_type": "code",
   "execution_count": 62,
   "metadata": {},
   "outputs": [],
   "source": [
    "%matplotlib inline\n",
    "import matplotlib.pyplot as plt\n",
    "import numpy as np\n",
    "import numpy.linalg as la\n",
    "from sklearn.linear_model import LinearRegression, Ridge\n",
    "from sklearn.preprocessing import StandardScaler\n",
    "from sklearn.model_selection import GridSearchCV, LeaveOneOut\n",
    "from utilities import train_test_val_split, load_matlab_data, rmse\n",
    "from sklearn.metrics import make_scorer"
   ]
  },
  {
   "cell_type": "code",
   "execution_count": 63,
   "metadata": {},
   "outputs": [],
   "source": [
    "t = np.arange(1, 101)\n",
    "x1 = np.sin(t) + 0.01 * np.random.rand(t.shape[0])\n",
    "x2 = 10 * np.sin(t) + 0.01 * np.random.rand(t.shape[0])\n",
    "x = np.hstack([x1.reshape((-1, 1)), x2.reshape((-1, 1))])\n",
    "y = 0.1 * x[:,0] + 0.9 * x[:,1] + np.random.rand(t.shape[0])"
   ]
  },
  {
   "cell_type": "code",
   "execution_count": 64,
   "metadata": {},
   "outputs": [],
   "source": [
    "xtr, ytr, xts, yts, xv, yv = train_test_val_split(x, y)\n",
    "ytr = ytr.reshape((-1, 1))\n",
    "yts = yts.reshape((-1, 1))\n",
    "yv = yv.reshape((-1, 1))"
   ]
  },
  {
   "cell_type": "code",
   "execution_count": 65,
   "metadata": {},
   "outputs": [],
   "source": [
    "xscaler = StandardScaler().fit(xtr)\n",
    "yscaler = StandardScaler().fit(ytr)"
   ]
  },
  {
   "cell_type": "code",
   "execution_count": 66,
   "metadata": {},
   "outputs": [],
   "source": [
    "xs = xscaler.transform(xtr)\n",
    "ys = yscaler.transform(ytr)"
   ]
  },
  {
   "cell_type": "code",
   "execution_count": 67,
   "metadata": {},
   "outputs": [],
   "source": [
    "lin = LinearRegression().fit(xs, ys)"
   ]
  },
  {
   "cell_type": "code",
   "execution_count": 68,
   "metadata": {},
   "outputs": [
    {
     "name": "stdout",
     "output_type": "stream",
     "text": [
      "Best alpha was 0.030888435964774818\n"
     ]
    }
   ],
   "source": [
    "# Find best alpha value with Leave One Out Cross validation\n",
    "alpha_params = np.logspace(-2, 2)\n",
    "params = {'alpha': alpha_params}\n",
    "ridge_loo = GridSearchCV(Ridge(fit_intercept=False), param_grid=params, \n",
    "                     scoring=make_scorer(rmse, greater_is_better=False), \n",
    "                     cv=LeaveOneOut())\n",
    "ridge_loo.fit(xs, ys)\n",
    "a = ridge_loo.best_estimator_.alpha\n",
    "print(f\"Best alpha was {a}\")"
   ]
  },
  {
   "cell_type": "code",
   "execution_count": 69,
   "metadata": {},
   "outputs": [
    {
     "data": {
      "text/plain": [
       "0.3306703625334227"
      ]
     },
     "execution_count": 69,
     "metadata": {},
     "output_type": "execute_result"
    }
   ],
   "source": [
    "rmse(yts, yscaler.inverse_transform(lin.predict(xscaler.transform(xts))))"
   ]
  },
  {
   "cell_type": "code",
   "execution_count": 70,
   "metadata": {},
   "outputs": [
    {
     "data": {
      "text/plain": [
       "0.33052968553871737"
      ]
     },
     "execution_count": 70,
     "metadata": {},
     "output_type": "execute_result"
    }
   ],
   "source": [
    "rmse(yts, yscaler.inverse_transform(ridge.predict(xscaler.transform(xts))))"
   ]
  },
  {
   "cell_type": "code",
   "execution_count": 71,
   "metadata": {},
   "outputs": [
    {
     "data": {
      "text/plain": [
       "2240834.378161672"
      ]
     },
     "execution_count": 71,
     "metadata": {},
     "output_type": "execute_result"
    }
   ],
   "source": [
    "np.linalg.cond(xtr.T @ xtr)"
   ]
  },
  {
   "cell_type": "code",
   "execution_count": 72,
   "metadata": {},
   "outputs": [
    {
     "data": {
      "text/plain": [
       "242093.64636974662"
      ]
     },
     "execution_count": 72,
     "metadata": {},
     "output_type": "execute_result"
    }
   ],
   "source": [
    "np.linalg.cond(xs.T @ xs)"
   ]
  },
  {
   "cell_type": "code",
   "execution_count": 73,
   "metadata": {},
   "outputs": [],
   "source": [
    "def cond_ridge(x, alpha):\n",
    "    s = np.linalg.svd(x.T @ x)[1]\n",
    "    return (np.max(s) + alpha**2) / (np.min(s) + alpha**2)"
   ]
  },
  {
   "cell_type": "code",
   "execution_count": 74,
   "metadata": {},
   "outputs": [
    {
     "data": {
      "text/plain": [
       "93760.33592045252"
      ]
     },
     "execution_count": 74,
     "metadata": {},
     "output_type": "execute_result"
    }
   ],
   "source": [
    "cond_ridge(xs, a)"
   ]
  },
  {
   "cell_type": "code",
   "execution_count": 75,
   "metadata": {},
   "outputs": [
    {
     "name": "stdout",
     "output_type": "stream",
     "text": [
      "Best alpha was 0.0655128556859551\n"
     ]
    }
   ],
   "source": [
    "# Find best alpha value with 10-fold cross validation\n",
    "alpha_params = np.logspace(-2, 2)\n",
    "params = {'alpha': alpha_params}\n",
    "ridge_cv10 = GridSearchCV(Ridge(fit_intercept=False), param_grid=params, \n",
    "                     scoring=make_scorer(rmse, greater_is_better=False), \n",
    "                     cv=10)\n",
    "ridge_cv10.fit(xs, ys)\n",
    "a = ridge_cv10.best_estimator_.alpha\n",
    "print(f\"Best alpha was {a}\")"
   ]
  },
  {
   "cell_type": "code",
   "execution_count": 76,
   "metadata": {},
   "outputs": [
    {
     "name": "stdout",
     "output_type": "stream",
     "text": [
      "Best alpha was 0.030888435964774818\n"
     ]
    }
   ],
   "source": [
    "# Find best alpha value with 3-fold cross validation\n",
    "alpha_params = np.logspace(-2, 2)\n",
    "params = {'alpha': alpha_params}\n",
    "ridge_cv3 = GridSearchCV(Ridge(fit_intercept=False), param_grid=params, \n",
    "                     scoring=make_scorer(rmse, greater_is_better=False), \n",
    "                     cv=3)\n",
    "ridge_cv3.fit(xs, ys)\n",
    "a = ridge_cv3.best_estimator_.alpha\n",
    "print(f\"Best alpha was {a}\")"
   ]
  },
  {
   "cell_type": "code",
   "execution_count": 77,
   "metadata": {},
   "outputs": [],
   "source": [
    "def best_alpha(folds, x, y):\n",
    "    alpha_params = np.logspace(-2, 2)\n",
    "    params = {'alpha': alpha_params}\n",
    "    r = GridSearchCV(Ridge(fit_intercept=False), \n",
    "                     param_grid=params, \n",
    "                     scoring=make_scorer(rmse, greater_is_better=False), \n",
    "                     cv=folds)\n",
    "    r.fit(x, y)\n",
    "    a = r.best_estimator_.alpha\n",
    "    return a"
   ]
  },
  {
   "cell_type": "code",
   "execution_count": 78,
   "metadata": {},
   "outputs": [
    {
     "data": {
      "image/png": "[encoded data removed]",
      "text/plain": [
       "<Figure size 432x288 with 1 Axes>"
      ]
     },
     "metadata": {
      "needs_background": "light"
     },
     "output_type": "display_data"
    }
   ],
   "source": [
    "folds = np.arange(2, xs.shape[0])\n",
    "alphas = [best_alpha(f, xs, ys) for f in folds]\n",
    "plt.plot(folds, alphas)\n",
    "plt.xlabel(\"Number of folds\")\n",
    "plt.ylabel(r\"Optimal $\\alpha$\")\n",
    "plt.show()"
   ]
  },
  {
   "cell_type": "code",
   "execution_count": 89,
   "metadata": {},
   "outputs": [],
   "source": [
    "alpha_params = np.logspace(-3, 2)\n",
    "# Generate a model for each alpha value\n",
    "models = [Ridge(alpha=a, fit_intercept=False).fit(xs, ys) for a in alpha_params]\n",
    "norm_b = [la.norm(m.coef_) for m in models]\n",
    "yts_scaled_pred = [m.predict(xscaler.transform(xts)) for m in models]\n",
    "rmse_vals = [rmse(yts, yscaler.inverse_transform(y)) for y in yts_scaled_pred]"
   ]
  },
  {
   "cell_type": "code",
   "execution_count": 90,
   "metadata": {},
   "outputs": [
    {
     "data": {
      "image/png": "[encoded data removed]",
      "text/plain": [
       "<Figure size 432x288 with 1 Axes>"
      ]
     },
     "metadata": {
      "needs_background": "light"
     },
     "output_type": "display_data"
    }
   ],
   "source": [
    "plt.plot(rmse_vals, norm_b)\n",
    "plt.ylabel(\"|B|\")\n",
    "plt.xlabel(\"RMSE\")\n",
    "plt.show()"
   ]
  },
  {
   "cell_type": "code",
   "execution_count": 103,
   "metadata": {},
   "outputs": [
    {
     "name": "stdout",
     "output_type": "stream",
     "text": [
      "(array([11]),)\n",
      "0.6081077078487092\n",
      "0.013257113655901095\n"
     ]
    }
   ],
   "source": [
    "opt_b = np.array(rmse_vals) ** 2 + np.array(norm_b) ** 2\n",
    "print(np.where(opt_b == np.min(opt_b)))\n",
    "print(min(opt_b))\n",
    "print(alpha_params[11])"
   ]
  },
  {
   "cell_type": "code",
   "execution_count": 104,
   "metadata": {},
   "outputs": [
    {
     "data": {
      "image/png": "[encoded data removed]",
      "text/plain": [
       "<Figure size 432x288 with 1 Axes>"
      ]
     },
     "metadata": {
      "needs_background": "light"
     },
     "output_type": "display_data"
    }
   ],
   "source": [
    "opt_b_loc = np.where(opt_b == np.min(opt_b))[0][0]\n",
    "start_ind = max([0, opt_b_loc-10])\n",
    "end_ind = min([opt_b.shape[0], opt_b_loc+10])\n",
    "plt.plot(rmse_vals[start_ind:end_ind], norm_b[start_ind:end_ind], 'x-')\n",
    "plt.plot(rmse_vals[opt_b_loc], norm_b[opt_b_loc], 'r*')\n",
    "plt.ylabel(\"|B|\")\n",
    "plt.xlabel(\"RMSE\")\n",
    "plt.show()"
   ]
  },
  {
   "cell_type": "code",
   "execution_count": 81,
   "metadata": {},
   "outputs": [
    {
     "data": {
      "image/png": "[encoded data removed]",
      "text/plain": [
       "<Figure size 432x288 with 1 Axes>"
      ]
     },
     "metadata": {
      "needs_background": "light"
     },
     "output_type": "display_data"
    }
   ],
   "source": [
    "plt.plot(alpha_params, rmse_vals)\n",
    "plt.xscale('log')\n",
    "plt.xlabel(r\"$\\alpha$\")\n",
    "plt.ylabel(\"RMSE\")\n",
    "plt.show()"
   ]
  },
  {
   "cell_type": "code",
   "execution_count": 82,
   "metadata": {},
   "outputs": [
    {
     "data": {
      "image/png": "[encoded data removed]",
      "text/plain": [
       "<Figure size 432x288 with 1 Axes>"
      ]
     },
     "metadata": {
      "needs_background": "light"
     },
     "output_type": "display_data"
    }
   ],
   "source": [
    "plt.plot(alpha_params, norm_b)\n",
    "plt.xscale('log')\n",
    "plt.xlabel(r\"$\\alpha$\")\n",
    "plt.ylabel(\"|B|\")\n",
    "plt.show()"
   ]
  },
  {
   "cell_type": "code",
   "execution_count": 83,
   "metadata": {},
   "outputs": [
    {
     "data": {
      "image/png": "[encoded data removed]",
      "text/plain": [
       "<Figure size 432x288 with 1 Axes>"
      ]
     },
     "metadata": {
      "needs_background": "light"
     },
     "output_type": "display_data"
    }
   ],
   "source": [
    "plt.plot(alpha_params, [cond_ridge(xs, a) for a in alpha_params])\n",
    "plt.xscale('log')\n",
    "plt.xlabel(r\"$\\alpha$\")\n",
    "plt.ylabel(\"Condition number\")\n",
    "plt.show()"
   ]
  },
  {
   "cell_type": "code",
   "execution_count": null,
   "metadata": {},
   "outputs": [],
   "source": []
  }
 ],
 "metadata": {
  "kernelspec": {
   "display_name": "Python [conda env:579]",
   "language": "python",
   "name": "conda-env-579-py"
  },
  "language_info": {
   "codemirror_mode": {
    "name": "ipython",
    "version": 3
   },
   "file_extension": ".py",
   "mimetype": "text/x-python",
   "name": "python",
   "nbconvert_exporter": "python",
   "pygments_lexer": "ipython3",
   "version": "3.6.6"
  }
 },
 "nbformat": 4,
 "nbformat_minor": 2
}
