{
 "cells": [
  {
   "cell_type": "code",
   "execution_count": 1,
   "metadata": {},
   "outputs": [],
   "source": [
    "%matplotlib inline\n",
    "import matplotlib.pyplot as plt\n",
    "import numpy as np\n",
    "import numpy.linalg as la\n",
    "from sklearn.linear_model import LinearRegression, Ridge\n",
    "from sklearn.preprocessing import StandardScaler\n",
    "from sklearn.model_selection import GridSearchCV, LeaveOneOut\n",
    "from utilities import train_test_val_split, load_matlab_data, rmse\n",
    "from sklearn.metrics import make_scorer"
   ]
  },
  {
   "cell_type": "code",
   "execution_count": 2,
   "metadata": {},
   "outputs": [],
   "source": [
    "x, y = load_matlab_data(\"data/hwkdataNEW.mat\")\n",
    "xtr, ytr, xts, yts, xv, yv = train_test_val_split(x, y, seed=3)\n",
    "ytr = ytr.reshape((-1, 1))\n",
    "yts = yts.reshape((-1, 1))\n",
    "yv = yv.reshape((-1, 1))"
   ]
  },
  {
   "cell_type": "code",
   "execution_count": 3,
   "metadata": {},
   "outputs": [],
   "source": [
    "xscaler = StandardScaler().fit(xtr)\n",
    "yscaler = StandardScaler().fit(ytr)"
   ]
  },
  {
   "cell_type": "code",
   "execution_count": 4,
   "metadata": {},
   "outputs": [],
   "source": [
    "xs = xscaler.transform(xtr)\n",
    "ys = yscaler.transform(ytr)"
   ]
  },
  {
   "cell_type": "markdown",
   "metadata": {},
   "source": [
    "# Linear baseline"
   ]
  },
  {
   "cell_type": "code",
   "execution_count": 5,
   "metadata": {},
   "outputs": [],
   "source": [
    "lin = LinearRegression(fit_intercept=False).fit(xs, ys)"
   ]
  },
  {
   "cell_type": "code",
   "execution_count": 6,
   "metadata": {},
   "outputs": [],
   "source": [
    "x_test_scaled = xscaler.transform(xts)\n",
    "y_test_scaled = yscaler.transform(yts)"
   ]
  },
  {
   "cell_type": "code",
   "execution_count": 7,
   "metadata": {},
   "outputs": [
    {
     "name": "stdout",
     "output_type": "stream",
     "text": [
      "Error for linear regression: 19.353197665296634\n"
     ]
    }
   ],
   "source": [
    "lin_error = rmse(yts, lin.predict(x_test_scaled))\n",
    "print(f\"Error for linear regression: {lin_error}\")"
   ]
  },
  {
   "cell_type": "markdown",
   "metadata": {},
   "source": [
    "# $\\alpha$ determination"
   ]
  },
  {
   "cell_type": "markdown",
   "metadata": {},
   "source": [
    "## Leave-one-out cross validation method"
   ]
  },
  {
   "cell_type": "code",
   "execution_count": 8,
   "metadata": {},
   "outputs": [
    {
     "data": {
      "text/plain": [
       "GridSearchCV(cv=LeaveOneOut(), error_score='raise-deprecating',\n",
       "       estimator=Ridge(alpha=1.0, copy_X=True, fit_intercept=False, max_iter=None,\n",
       "   normalize=False, random_state=None, solver='auto', tol=0.001),\n",
       "       fit_params=None, iid='warn', n_jobs=None,\n",
       "       param_grid={'alpha': array([1.00000e-02, 1.26486e-02, 1.59986e-02, 2.02359e-02, 2.55955e-02,\n",
       "       3.23746e-02, 4.09492e-02, 5.17947e-02, 6.55129e-02, 8.28643e-02,\n",
       "       1.04811e-01, 1.32571e-01, 1.67683e-01, 2.12095e-01, 2.68270e-01,\n",
       "       3.39322e-01, 4.29193e-01, 5.42868e-01, 6.86649e-01, 8.68... 2.44205e+02, 3.08884e+02,\n",
       "       3.90694e+02, 4.94171e+02, 6.25055e+02, 7.90604e+02, 1.00000e+03])},\n",
       "       pre_dispatch='2*n_jobs', refit=True, return_train_score='warn',\n",
       "       scoring=make_scorer(rmse, greater_is_better=False), verbose=0)"
      ]
     },
     "execution_count": 8,
     "metadata": {},
     "output_type": "execute_result"
    }
   ],
   "source": [
    "alpha_parameters = np.logspace(-2, 3)\n",
    "params = {'alpha': alpha_parameters}\n",
    "ridge_loo = GridSearchCV(Ridge(fit_intercept=False), \n",
    "                         param_grid=params, cv=LeaveOneOut(), \n",
    "                         scoring=make_scorer(rmse, greater_is_better=False))\n",
    "ridge_loo.fit(xs, ys)"
   ]
  },
  {
   "cell_type": "code",
   "execution_count": 9,
   "metadata": {},
   "outputs": [
    {
     "data": {
      "text/plain": [
       "{'alpha': 0.10481131341546858}"
      ]
     },
     "execution_count": 9,
     "metadata": {},
     "output_type": "execute_result"
    }
   ],
   "source": [
    "ridge_loo.best_params_"
   ]
  },
  {
   "cell_type": "code",
   "execution_count": 10,
   "metadata": {},
   "outputs": [
    {
     "data": {
      "image/png": "[encoded data removed]",
      "text/plain": [
       "<Figure size 432x288 with 1 Axes>"
      ]
     },
     "metadata": {
      "needs_background": "light"
     },
     "output_type": "display_data"
    }
   ],
   "source": [
    "plt.plot(ridge_loo.cv_results_['param_alpha'], -ridge_loo.cv_results_['mean_test_score'])\n",
    "plt.plot(ridge_loo.best_params_['alpha'], -ridge_loo.best_score_, 'ro')\n",
    "plt.xlabel(r\"$\\alpha$\")\n",
    "plt.ylabel(\"RMSE\")\n",
    "plt.xscale(\"log\")\n",
    "plt.show()"
   ]
  },
  {
   "cell_type": "markdown",
   "metadata": {},
   "source": [
    "## L-curve method"
   ]
  },
  {
   "cell_type": "code",
   "execution_count": 11,
   "metadata": {},
   "outputs": [],
   "source": [
    "models = [Ridge(alpha=a, fit_intercept=False).fit(xs, ys) for a in alpha_parameters]"
   ]
  },
  {
   "cell_type": "code",
   "execution_count": 12,
   "metadata": {},
   "outputs": [],
   "source": [
    "norm_b = [la.norm(m.coef_) for m in models]\n",
    "rmse_vs_alpha = [rmse(yts, yscaler.inverse_transform(m.predict(x_test_scaled))) for m in models]"
   ]
  },
  {
   "cell_type": "code",
   "execution_count": 13,
   "metadata": {},
   "outputs": [],
   "source": [
    "rmse_vs_alpha = [rmse(ytr, yscaler.inverse_transform(m.predict(xs))) for m in models]"
   ]
  },
  {
   "cell_type": "code",
   "execution_count": 14,
   "metadata": {},
   "outputs": [
    {
     "data": {
      "image/png": "[encoded data removed]",
      "text/plain": [
       "<Figure size 432x288 with 1 Axes>"
      ]
     },
     "metadata": {
      "needs_background": "light"
     },
     "output_type": "display_data"
    }
   ],
   "source": [
    "plt.plot(rmse_vs_alpha, norm_b)\n",
    "plt.xlabel(\"RMSE\")\n",
    "plt.ylabel(\"|B|\")\n",
    "plt.show()"
   ]
  },
  {
   "cell_type": "markdown",
   "metadata": {},
   "source": [
    "### Find the point closest to the origin"
   ]
  },
  {
   "cell_type": "code",
   "execution_count": 15,
   "metadata": {},
   "outputs": [],
   "source": [
    "paired_points = np.array([_ for _ in zip(rmse_vs_alpha, norm_b)])"
   ]
  },
  {
   "cell_type": "code",
   "execution_count": 16,
   "metadata": {},
   "outputs": [
    {
     "name": "stdout",
     "output_type": "stream",
     "text": [
      "Minimum distance from origin is at index 24\n"
     ]
    }
   ],
   "source": [
    "min_norm_ind = np.where(la.norm(paired_points, axis=1) == np.min(la.norm(paired_points, axis=1)))[0][0]\n",
    "print(f\"Minimum distance from origin is at index {min_norm_ind}\")"
   ]
  },
  {
   "cell_type": "code",
   "execution_count": 17,
   "metadata": {},
   "outputs": [
    {
     "name": "stdout",
     "output_type": "stream",
     "text": [
      "The best alpha is 2.8117686979742307\n"
     ]
    }
   ],
   "source": [
    "a = alpha_parameters[min_norm_ind]\n",
    "print(f\"The best alpha is {a}\")"
   ]
  },
  {
   "cell_type": "code",
   "execution_count": 18,
   "metadata": {},
   "outputs": [
    {
     "data": {
      "image/png": "[encoded data removed]",
      "text/plain": [
       "<Figure size 432x288 with 1 Axes>"
      ]
     },
     "metadata": {
      "needs_background": "light"
     },
     "output_type": "display_data"
    }
   ],
   "source": [
    "plt.plot(rmse_vs_alpha, norm_b, \"x-\")\n",
    "plt.plot(rmse_vs_alpha[min_norm_ind], norm_b[min_norm_ind], 'ro')\n",
    "plt.xlabel(\"RMSE\")\n",
    "plt.ylabel(\"|B|\")\n",
    "plt.show()"
   ]
  },
  {
   "cell_type": "code",
   "execution_count": 19,
   "metadata": {},
   "outputs": [],
   "source": [
    "ridge_lc = Ridge(alpha=a, fit_intercept=False).fit(xs, ys)"
   ]
  },
  {
   "cell_type": "markdown",
   "metadata": {},
   "source": [
    "## Compare the two"
   ]
  },
  {
   "cell_type": "code",
   "execution_count": 20,
   "metadata": {},
   "outputs": [
    {
     "name": "stdout",
     "output_type": "stream",
     "text": [
      "Leave one out CV\talpha: 0.10\t\tRMSE: 3.83\n",
      "L-curve method\t\talpha: 2.81\t\tRMSE: 3.86\n",
      "Linear regression\t\t\t\tRMSE: 19.35\n"
     ]
    }
   ],
   "source": [
    "error_loo = rmse(yts, yscaler.inverse_transform(ridge_loo.predict(x_test_scaled)))\n",
    "error_lc = rmse(yts, yscaler.inverse_transform(ridge_lc.predict(x_test_scaled)))\n",
    "print(f\"Leave one out CV\\talpha: {ridge_loo.best_params_['alpha']:0.2f}\\t\\tRMSE: {error_loo:0.2f}\")\n",
    "print(f\"L-curve method\\t\\talpha: {ridge_lc.alpha:0.2f}\\t\\tRMSE: {error_lc:0.2f}\")\n",
    "print(f\"Linear regression\\t\\t\\t\\tRMSE: {lin_error:0.2f}\")"
   ]
  },
  {
   "cell_type": "markdown",
   "metadata": {},
   "source": [
    "# Condition number"
   ]
  },
  {
   "cell_type": "code",
   "execution_count": 21,
   "metadata": {},
   "outputs": [
    {
     "name": "stdout",
     "output_type": "stream",
     "text": [
      "Condition no. of training matrix: 605.56\n"
     ]
    }
   ],
   "source": [
    "# Training matrix condition number\n",
    "print(f\"Condition no. of training matrix: {la.cond(xtr):0.2f}\")"
   ]
  },
  {
   "cell_type": "code",
   "execution_count": 22,
   "metadata": {},
   "outputs": [
    {
     "name": "stdout",
     "output_type": "stream",
     "text": [
      "Condition no. of scaled training matrix: 45.35\n"
     ]
    }
   ],
   "source": [
    "# Scaled training matrix condition number\n",
    "print(f\"Condition no. of scaled training matrix: {la.cond(xs):0.2f}\")"
   ]
  },
  {
   "cell_type": "code",
   "execution_count": 23,
   "metadata": {},
   "outputs": [],
   "source": [
    "def cond_ridge(x, alpha):\n",
    "    u, s, v = la.svd(x)\n",
    "    c_n = np.max(s) + alpha ** 2\n",
    "    c_d = np.min(s) + alpha ** 2\n",
    "    c = c_n / c_d\n",
    "    return c"
   ]
  },
  {
   "cell_type": "code",
   "execution_count": 24,
   "metadata": {},
   "outputs": [
    {
     "name": "stdout",
     "output_type": "stream",
     "text": [
      "Condition no. for ridge regression: 5.58\n"
     ]
    }
   ],
   "source": [
    "print(f\"Condition no. for ridge regression: {cond_ridge(xs, ridge_lc.alpha):0.2f}\")"
   ]
  },
  {
   "cell_type": "code",
   "execution_count": null,
   "metadata": {},
   "outputs": [],
   "source": []
  }
 ],
 "metadata": {
  "kernelspec": {
   "display_name": "Python [conda env:579]",
   "language": "python",
   "name": "conda-env-579-py"
  },
  "language_info": {
   "codemirror_mode": {
    "name": "ipython",
    "version": 3
   },
   "file_extension": ".py",
   "mimetype": "text/x-python",
   "name": "python",
   "nbconvert_exporter": "python",
   "pygments_lexer": "ipython3",
   "version": "3.7.0"
  }
 },
 "nbformat": 4,
 "nbformat_minor": 2
}
