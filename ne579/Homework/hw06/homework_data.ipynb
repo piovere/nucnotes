{
 "cells": [
  {
   "cell_type": "code",
   "execution_count": 7,
   "metadata": {},
   "outputs": [],
   "source": [
    "%matplotlib inline\n",
    "import matplotlib.pyplot as plt\n",
    "import numpy as np\n",
    "from sklearn.linear_model import LinearRegression, Ridge\n",
    "from sklearn.preprocessing import StandardScaler\n",
    "from sklearn.model_selection import GridSearchCV\n",
    "from utilities import train_test_val_split, load_matlab_data, rmse\n",
    "from sklearn.metrics import make_scorer"
   ]
  },
  {
   "cell_type": "code",
   "execution_count": 18,
   "metadata": {},
   "outputs": [],
   "source": [
    "x, y = load_matlab_data(\"data/hwkdataNEW.mat\")\n",
    "xtr, ytr, xts, yts, xv, yv = train_test_val_split(x, y, seed=3)\n",
    "ytr = ytr.reshape((-1, 1))\n",
    "yts = yts.reshape((-1, 1))\n",
    "yv = yv.reshape((-1, 1))"
   ]
  },
  {
   "cell_type": "code",
   "execution_count": 19,
   "metadata": {},
   "outputs": [],
   "source": [
    "xscaler = StandardScaler().fit(xtr)\n",
    "yscaler = StandardScaler().fit(ytr)"
   ]
  },
  {
   "cell_type": "code",
   "execution_count": 20,
   "metadata": {},
   "outputs": [],
   "source": [
    "xs = xscaler.transform(xtr)\n",
    "ys = yscaler.transform(ytr)"
   ]
  },
  {
   "cell_type": "code",
   "execution_count": 21,
   "metadata": {},
   "outputs": [],
   "source": [
    "lin = LinearRegression().fit(xs, ys)"
   ]
  },
  {
   "cell_type": "code",
   "execution_count": 25,
   "metadata": {},
   "outputs": [
    {
     "name": "stdout",
     "output_type": "stream",
     "text": [
      "Best alpha was 1.151395399326447\n"
     ]
    }
   ],
   "source": [
    "alpha_candidates = np.logspace(-3, 3)\n",
    "params = {'alpha': alpha_candidates}\n",
    "ridge = GridSearchCV(Ridge(), param_grid=params, scoring=make_scorer(rmse, greater_is_better=False))\n",
    "ridge.fit(xs, ys)\n",
    "a = ridge.best_estimator_.alpha\n",
    "print(f\"Best alpha was {a}\")"
   ]
  },
  {
   "cell_type": "code",
   "execution_count": 27,
   "metadata": {},
   "outputs": [
    {
     "name": "stdout",
     "output_type": "stream",
     "text": [
      "Best alpha was 1.151395399326447\n"
     ]
    }
   ],
   "source": [
    "ridge2 = GridSearchCV(Ridge(), param_grid=params, scoring=make_scorer(rmse, greater_is_better=False), cv=10)\n",
    "ridge2.fit(xs, ys)\n",
    "a = ridge.best_estimator_.alpha\n",
    "print(f\"Best alpha was {a}\")"
   ]
  },
  {
   "cell_type": "code",
   "execution_count": 17,
   "metadata": {},
   "outputs": [
    {
     "data": {
      "text/plain": [
       "(247, 1)"
      ]
     },
     "execution_count": 17,
     "metadata": {},
     "output_type": "execute_result"
    }
   ],
   "source": [
    "y.shape"
   ]
  },
  {
   "cell_type": "code",
   "execution_count": null,
   "metadata": {},
   "outputs": [],
   "source": []
  }
 ],
 "metadata": {
  "kernelspec": {
   "display_name": "Python [conda env:579]",
   "language": "python",
   "name": "conda-env-579-py"
  },
  "language_info": {
   "codemirror_mode": {
    "name": "ipython",
    "version": 3
   },
   "file_extension": ".py",
   "mimetype": "text/x-python",
   "name": "python",
   "nbconvert_exporter": "python",
   "pygments_lexer": "ipython3",
   "version": "3.6.6"
  }
 },
 "nbformat": 4,
 "nbformat_minor": 2
}
