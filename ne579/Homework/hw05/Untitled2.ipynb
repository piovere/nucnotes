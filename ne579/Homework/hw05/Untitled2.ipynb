{
 "cells": [
  {
   "cell_type": "code",
   "execution_count": 55,
   "metadata": {},
   "outputs": [],
   "source": [
    "%matplotlib inline\n",
    "import matplotlib.pyplot as plt\n",
    "import numpy as np\n",
    "from utilities import load_matlab_data, rmse\n",
    "from sklearn.preprocessing import StandardScaler, PolynomialFeatures\n",
    "from sklearn.cross_validation import train_test_split\n",
    "from sklearn.cross_decomposition import PLSRegression\n",
    "from sklearn.model_selection import GridSearchCV\n",
    "from sklearn.pipeline import Pipeline\n",
    "from sklearn.metrics import make_scorer\n",
    "from sklearn.feature_selection import RFECV\n",
    "from sklearn.linear_model import LinearRegression"
   ]
  },
  {
   "cell_type": "code",
   "execution_count": 3,
   "metadata": {},
   "outputs": [],
   "source": [
    "x, y = load_matlab_data('data/hwkdataNEW.mat')\n",
    "xt, xv, yt, yv = train_test_split(x, y)"
   ]
  },
  {
   "cell_type": "code",
   "execution_count": 45,
   "metadata": {},
   "outputs": [],
   "source": [
    "pipe = Pipeline([\n",
    "    ('poly', PolynomialFeatures()),\n",
    "    ('plsr', PLSRegression())\n",
    "])\n",
    "hyperparameters = {\n",
    "    'poly__degree': [i for i in range(1, 4)],\n",
    "    'plsr__n_components': [i for i in range(1, xt.shape[1])]\n",
    "}\n",
    "model = GridSearchCV(pipe, hyperparameters, scoring=make_scorer(rmse, greater_is_better=False))"
   ]
  },
  {
   "cell_type": "code",
   "execution_count": 46,
   "metadata": {},
   "outputs": [
    {
     "data": {
      "text/plain": [
       "GridSearchCV(cv=None, error_score='raise',\n",
       "       estimator=Pipeline(memory=None,\n",
       "     steps=[('poly', PolynomialFeatures(degree=2, include_bias=True, interaction_only=False)), ('plsr', PLSRegression(copy=True, max_iter=500, n_components=2, scale=True, tol=1e-06))]),\n",
       "       fit_params=None, iid=True, n_jobs=1,\n",
       "       param_grid={'poly__degree': [1, 2, 3], 'plsr__n_components': [1, 2, 3, 4, 5, 6, 7, 8, 9, 10, 11, 12, 13]},\n",
       "       pre_dispatch='2*n_jobs', refit=True, return_train_score=True,\n",
       "       scoring=make_scorer(rmse, greater_is_better=False), verbose=0)"
      ]
     },
     "execution_count": 46,
     "metadata": {},
     "output_type": "execute_result"
    }
   ],
   "source": [
    "model.fit(xt, yt)"
   ]
  },
  {
   "cell_type": "code",
   "execution_count": 47,
   "metadata": {},
   "outputs": [
    {
     "data": {
      "image/png": "[encoded data removed]",
      "text/plain": [
       "<Figure size 432x288 with 1 Axes>"
      ]
     },
     "metadata": {
      "needs_background": "light"
     },
     "output_type": "display_data"
    }
   ],
   "source": [
    "plt.plot(yv, model.predict(xv), '.')\n",
    "plt.show()"
   ]
  },
  {
   "cell_type": "code",
   "execution_count": 48,
   "metadata": {},
   "outputs": [
    {
     "data": {
      "text/plain": [
       "{'mean_fit_time': array([ 0.00149608,  0.00292889,  0.01547201,  0.00118367,  0.0033586 ,\n",
       "         0.01215537,  0.00135104,  0.00366894,  0.01316714,  0.00150267,\n",
       "         0.00311462,  0.01472457,  0.00165343,  0.00338364,  0.01552375,\n",
       "         0.0018065 ,  0.0036389 ,  0.0145026 ,  0.00234564,  0.00420403,\n",
       "         0.01533437,  0.00209649,  0.00405232,  0.01579428,  0.00238657,\n",
       "         0.0042367 ,  0.01891041,  0.00242607,  0.00438039,  0.01983937,\n",
       "         0.00276764,  0.0049293 ,  0.01742832,  0.00308665,  0.00507251,\n",
       "         0.01788044,  0.00307894,  0.00528622,  0.01867803]),\n",
       " 'std_fit_time': array([  3.75056650e-04,   6.97167706e-05,   1.32207718e-03,\n",
       "          7.44238615e-05,   4.39292168e-04,   1.87720917e-04,\n",
       "          2.06323544e-05,   6.37574740e-04,   4.37386318e-04,\n",
       "          6.15561292e-05,   3.40086273e-05,   1.39505291e-03,\n",
       "          4.21576367e-05,   7.42910150e-05,   1.73579119e-03,\n",
       "          5.04422949e-05,   6.46802650e-05,   3.28030484e-04,\n",
       "          2.74593923e-04,   6.16148279e-04,   2.96617818e-04,\n",
       "          2.53669102e-05,   2.24155930e-04,   1.15521285e-04,\n",
       "          2.83895031e-05,   1.36722332e-04,   1.95824651e-03,\n",
       "          5.23256213e-05,   5.33710994e-05,   4.32588171e-03,\n",
       "          1.27136706e-05,   1.68257427e-04,   1.21155169e-04,\n",
       "          2.52683079e-04,   1.26968334e-04,   6.04910114e-05,\n",
       "          4.57829894e-05,   9.92132636e-05,   1.57265243e-04]),\n",
       " 'mean_score_time': array([ 0.00038203,  0.00175238,  0.00999069,  0.00033164,  0.00200001,\n",
       "         0.00936238,  0.00032465,  0.00188891,  0.00903932,  0.00032735,\n",
       "         0.0016373 ,  0.00922561,  0.00032838,  0.0016551 ,  0.00914272,\n",
       "         0.00032918,  0.0016617 ,  0.00936842,  0.00037877,  0.00177638,\n",
       "         0.00910672,  0.00032711,  0.00163468,  0.00916425,  0.00036208,\n",
       "         0.00165184,  0.00920693,  0.00032783,  0.00164358,  0.00973034,\n",
       "         0.00034873,  0.00173569,  0.00956408,  0.00036716,  0.00170986,\n",
       "         0.00943398,  0.00034944,  0.00170596,  0.009993  ]),\n",
       " 'std_score_time': array([  4.07578791e-05,   9.29728527e-05,   3.12772282e-04,\n",
       "          7.61696677e-06,   3.90358536e-04,   2.00628192e-04,\n",
       "          1.79826554e-06,   2.79193303e-04,   6.05318223e-05,\n",
       "          6.84390073e-06,   5.07020651e-05,   1.65050532e-04,\n",
       "          4.49566384e-07,   5.17201653e-05,   3.33878716e-05,\n",
       "          1.74478677e-06,   3.22152429e-05,   4.66544690e-04,\n",
       "          3.78724659e-05,   2.46373453e-04,   7.76508811e-05,\n",
       "          2.86763804e-06,   3.59025626e-05,   1.36093136e-04,\n",
       "          1.38259937e-05,   4.54779230e-05,   2.03288748e-04,\n",
       "          2.24502037e-06,   4.69679894e-05,   8.39903209e-04,\n",
       "          1.80877156e-06,   5.74949753e-05,   9.89206956e-05,\n",
       "          2.44608632e-05,   2.15311324e-06,   1.09036474e-04,\n",
       "          9.60274217e-07,   3.02414856e-06,   1.00777301e-03]),\n",
       " 'param_plsr__n_components': masked_array(data = [1 1 1 2 2 2 3 3 3 4 4 4 5 5 5 6 6 6 7 7 7 8 8 8 9 9 9 10 10 10 11 11 11 12\n",
       "  12 12 13 13 13],\n",
       "              mask = [False False False False False False False False False False False False\n",
       "  False False False False False False False False False False False False\n",
       "  False False False False False False False False False False False False\n",
       "  False False False],\n",
       "        fill_value = ?),\n",
       " 'param_poly__degree': masked_array(data = [1 2 3 1 2 3 1 2 3 1 2 3 1 2 3 1 2 3 1 2 3 1 2 3 1 2 3 1 2 3 1 2 3 1 2 3 1\n",
       "  2 3],\n",
       "              mask = [False False False False False False False False False False False False\n",
       "  False False False False False False False False False False False False\n",
       "  False False False False False False False False False False False False\n",
       "  False False False],\n",
       "        fill_value = ?),\n",
       " 'params': [{'plsr__n_components': 1, 'poly__degree': 1},\n",
       "  {'plsr__n_components': 1, 'poly__degree': 2},\n",
       "  {'plsr__n_components': 1, 'poly__degree': 3},\n",
       "  {'plsr__n_components': 2, 'poly__degree': 1},\n",
       "  {'plsr__n_components': 2, 'poly__degree': 2},\n",
       "  {'plsr__n_components': 2, 'poly__degree': 3},\n",
       "  {'plsr__n_components': 3, 'poly__degree': 1},\n",
       "  {'plsr__n_components': 3, 'poly__degree': 2},\n",
       "  {'plsr__n_components': 3, 'poly__degree': 3},\n",
       "  {'plsr__n_components': 4, 'poly__degree': 1},\n",
       "  {'plsr__n_components': 4, 'poly__degree': 2},\n",
       "  {'plsr__n_components': 4, 'poly__degree': 3},\n",
       "  {'plsr__n_components': 5, 'poly__degree': 1},\n",
       "  {'plsr__n_components': 5, 'poly__degree': 2},\n",
       "  {'plsr__n_components': 5, 'poly__degree': 3},\n",
       "  {'plsr__n_components': 6, 'poly__degree': 1},\n",
       "  {'plsr__n_components': 6, 'poly__degree': 2},\n",
       "  {'plsr__n_components': 6, 'poly__degree': 3},\n",
       "  {'plsr__n_components': 7, 'poly__degree': 1},\n",
       "  {'plsr__n_components': 7, 'poly__degree': 2},\n",
       "  {'plsr__n_components': 7, 'poly__degree': 3},\n",
       "  {'plsr__n_components': 8, 'poly__degree': 1},\n",
       "  {'plsr__n_components': 8, 'poly__degree': 2},\n",
       "  {'plsr__n_components': 8, 'poly__degree': 3},\n",
       "  {'plsr__n_components': 9, 'poly__degree': 1},\n",
       "  {'plsr__n_components': 9, 'poly__degree': 2},\n",
       "  {'plsr__n_components': 9, 'poly__degree': 3},\n",
       "  {'plsr__n_components': 10, 'poly__degree': 1},\n",
       "  {'plsr__n_components': 10, 'poly__degree': 2},\n",
       "  {'plsr__n_components': 10, 'poly__degree': 3},\n",
       "  {'plsr__n_components': 11, 'poly__degree': 1},\n",
       "  {'plsr__n_components': 11, 'poly__degree': 2},\n",
       "  {'plsr__n_components': 11, 'poly__degree': 3},\n",
       "  {'plsr__n_components': 12, 'poly__degree': 1},\n",
       "  {'plsr__n_components': 12, 'poly__degree': 2},\n",
       "  {'plsr__n_components': 12, 'poly__degree': 3},\n",
       "  {'plsr__n_components': 13, 'poly__degree': 1},\n",
       "  {'plsr__n_components': 13, 'poly__degree': 2},\n",
       "  {'plsr__n_components': 13, 'poly__degree': 3}],\n",
       " 'split0_test_score': array([-5.49561483, -5.53925803, -5.58707936, -4.8134514 , -4.96283165,\n",
       "        -5.23904877, -4.57848824, -4.68438005, -4.7726824 , -4.54263621,\n",
       "        -4.64085485, -4.66294758, -4.56637938, -4.35669935, -4.34187527,\n",
       "        -4.28471224, -4.1563771 , -4.05748972, -4.15521655, -4.00576433,\n",
       "        -3.94652279, -4.07021786, -3.94329473, -3.91679751, -4.0623827 ,\n",
       "        -4.08632111, -4.11022502, -4.06355479, -4.19147354, -4.29829528,\n",
       "        -4.04886643, -4.21450448, -4.30009375, -4.04768549, -4.2435198 ,\n",
       "        -4.3327253 , -4.04772918, -4.22195788, -4.3402563 ]),\n",
       " 'split1_test_score': array([-5.99763989, -6.07037972, -6.11652244, -4.78959192, -5.31061471,\n",
       "        -5.65608543, -4.80545357, -4.67804896, -4.67114822, -4.6926651 ,\n",
       "        -4.66572955, -4.51590917, -4.419695  , -4.38921954, -4.48352397,\n",
       "        -4.36868957, -4.24159038, -4.2720227 , -4.29184375, -4.30240648,\n",
       "        -4.34409179, -4.35155063, -4.32542261, -4.31247375, -4.36338094,\n",
       "        -4.36533858, -4.36254245, -4.358172  , -4.35972003, -4.40023372,\n",
       "        -4.34242928, -4.29505364, -4.31257568, -4.38382821, -4.36767615,\n",
       "        -4.41357921, -4.41600917, -4.36683079, -4.47602246]),\n",
       " 'split2_test_score': array([-5.40340811, -5.74821518, -6.28174105, -4.89082065, -5.56523078,\n",
       "        -6.33235504, -4.64482855, -5.58417209, -6.86245248, -4.2211933 ,\n",
       "        -4.77985913, -4.87481256, -3.53068287, -3.70268551, -3.66043473,\n",
       "        -3.44218008, -3.57685136, -3.53122102, -3.44276231, -3.5351428 ,\n",
       "        -3.47871019, -3.42987943, -3.40202928, -3.50908244, -3.39072785,\n",
       "        -3.36349144, -3.64605965, -3.37520665, -3.38552921, -4.24659222,\n",
       "        -3.37355877, -3.56216264, -5.33014105, -3.38051148, -3.83719857,\n",
       "        -5.26185448, -3.37705097, -3.81098832, -4.73769677]),\n",
       " 'mean_test_score': array([-5.63345777, -5.78615495, -5.99356495, -4.83096619, -5.27801488,\n",
       "        -5.73930799, -4.67642667, -4.97894647, -5.42771405, -4.48692688,\n",
       "        -4.69502508, -4.68352802, -4.17572036, -4.1519502 , -4.16465552,\n",
       "        -4.03504809, -3.9938482 , -3.95586082, -3.96608778, -3.95000162,\n",
       "        -3.92551041, -3.95336373, -3.8928879 , -3.91496674, -3.94179321,\n",
       "        -3.94149123, -4.04173633, -3.93532252, -3.98211504, -4.3154104 ,\n",
       "        -3.92458065, -4.02640283, -4.6439141 , -3.94035162, -4.15115276,\n",
       "        -4.6661838 , -3.9500102 , -4.135001  , -4.51680425]),\n",
       " 'std_test_score': array([ 0.26127866,  0.21903717,  0.29635093,  0.04310196,  0.24667597,\n",
       "         0.44962135,  0.09551503,  0.42450174,  1.00715642,  0.19623817,\n",
       "         0.06036598,  0.14704648,  0.45638436,  0.31538684,  0.35837289,\n",
       "         0.41724494,  0.29454648,  0.31051166,  0.37128713,  0.31529562,\n",
       "         0.35311642,  0.38479943,  0.3781488 ,  0.32753137,  0.40567124,\n",
       "         0.42118039,  0.29611733,  0.41094959,  0.4240641 ,  0.06380475,\n",
       "         0.40472805,  0.32727455,  0.48133375,  0.41607293,  0.22599058,\n",
       "         0.41910112,  0.42920964,  0.23486676,  0.16459629]),\n",
       " 'rank_test_score': array([36, 38, 39, 32, 34, 37, 29, 33, 35, 25, 31, 30, 23, 21, 22, 17, 15,\n",
       "        12, 13,  9,  4, 11,  1,  2,  8,  7, 18,  5, 14, 24,  3, 16, 27,  6,\n",
       "        20, 28, 10, 19, 26], dtype=int32),\n",
       " 'split0_train_score': array([-5.42783044, -5.51741542, -5.58273609, -4.48428698, -4.84204473,\n",
       "        -5.14763309, -4.07020787, -4.30092867, -4.35575554, -3.81747454,\n",
       "        -3.81418369, -3.88800593, -3.69789032, -3.71358548, -3.74398133,\n",
       "        -3.61689608, -3.57796818, -3.57498304, -3.56327108, -3.54648496,\n",
       "        -3.53997982, -3.55332678, -3.5303814 , -3.50661819, -3.55209956,\n",
       "        -3.46999912, -3.45893628, -3.55119939, -3.41893063, -3.40548869,\n",
       "        -3.55098526, -3.39487535, -3.37272506, -3.55086892, -3.38571443,\n",
       "        -3.35184513, -3.5508087 , -3.33028554, -3.27207488]),\n",
       " 'split1_train_score': array([-5.20329797, -5.24788603, -5.2994536 , -4.3606524 , -4.68325362,\n",
       "        -4.93811446, -3.98715087, -4.15635716, -4.18326078, -3.75647219,\n",
       "        -3.75417885, -3.75849555, -3.61094217, -3.558054  , -3.58584984,\n",
       "        -3.47584786, -3.43653588, -3.46465158, -3.41668163, -3.40825346,\n",
       "        -3.41372709, -3.41034138, -3.39873532, -3.40140516, -3.40976467,\n",
       "        -3.39469815, -3.3905078 , -3.40940539, -3.38294096, -3.37097758,\n",
       "        -3.40819062, -3.36852305, -3.3518763 , -3.40605184, -3.3609754 ,\n",
       "        -3.33316549, -3.40185624, -3.34670146, -3.3025036 ]),\n",
       " 'split2_train_score': array([-5.5015383 , -5.55811957, -5.54586077, -4.47113806, -4.63600693,\n",
       "        -4.83740965, -4.27326988, -4.32163116, -4.37438152, -4.11682208,\n",
       "        -4.07982696, -4.01212027, -3.92702261, -3.88743547, -3.86095004,\n",
       "        -3.86872675, -3.84493254, -3.82654501, -3.86578566, -3.8395828 ,\n",
       "        -3.81613334, -3.86316353, -3.82835705, -3.79305486, -3.86129572,\n",
       "        -3.82214186, -3.75471502, -3.86032137, -3.80362797, -3.6907339 ,\n",
       "        -3.86015102, -3.74861988, -3.59715035, -3.86008395, -3.68192659,\n",
       "        -3.5713742 , -3.85995997, -3.65229201, -3.53422695]),\n",
       " 'mean_train_score': array([-5.37755557, -5.44114034, -5.47601682, -4.43869248, -4.72043509,\n",
       "        -4.97438573, -4.11020954, -4.259639  , -4.30446595, -3.89692294,\n",
       "        -3.88272983, -3.88620725, -3.74528503, -3.71969165, -3.7302604 ,\n",
       "        -3.65382357, -3.6198122 , -3.62205988, -3.61524612, -3.59810707,\n",
       "        -3.58994675, -3.6089439 , -3.58582459, -3.56702607, -3.60771998,\n",
       "        -3.56227971, -3.5347197 , -3.60697538, -3.53516652, -3.48906672,\n",
       "        -3.6064423 , -3.50400609, -3.4405839 , -3.60566824, -3.47620547,\n",
       "        -3.41879494, -3.60420831, -3.443093  , -3.36960181]),\n",
       " 'std_train_score': array([ 0.12683978,  0.1376581 ,  0.1257534 ,  0.05544315,  0.08812771,\n",
       "         0.12921906,  0.12018353,  0.07351871,  0.08604166,  0.15747391,\n",
       "         0.14150525,  0.10354967,  0.13332018,  0.13453872,  0.11272748,\n",
       "         0.16250371,  0.16933232,  0.15144611,  0.18699316,  0.17983304,\n",
       "         0.16803812,  0.18900075,  0.17972046,  0.16549765,  0.18848571,\n",
       "         0.18630407,  0.15804866,  0.18826316,  0.19039866,  0.14329455,\n",
       "         0.18863309,  0.17330232,  0.1110359 ,  0.18936475,  0.14581698,\n",
       "         0.108159  ,  0.19079377,  0.14807777,  0.11706851])}"
      ]
     },
     "execution_count": 48,
     "metadata": {},
     "output_type": "execute_result"
    }
   ],
   "source": [
    "model.cv_results_"
   ]
  },
  {
   "cell_type": "code",
   "execution_count": null,
   "metadata": {},
   "outputs": [],
   "source": [
    "plt.plot(model.param_grid['plsr__n_components'], \n",
    "         np.abs(model.cv_results_['mean_test_score']), \n",
    "         label=\"Testing error\")\n",
    "plt.plot(model.param_grid['plsr__n_components'], \n",
    "         np.abs(model.cv_results_['mean_train_score']), \n",
    "         label=\"Training error\")\n",
    "plt.legend(loc=\"upper right\")\n",
    "plt.xlabel(\"Number of latent variables\")\n",
    "plt.ylabel(\"RMSE\")\n",
    "plt.show()"
   ]
  },
  {
   "cell_type": "code",
   "execution_count": 49,
   "metadata": {},
   "outputs": [
    {
     "data": {
      "text/plain": [
       "{'poly__degree': [1, 2, 3],\n",
       " 'plsr__n_components': [1, 2, 3, 4, 5, 6, 7, 8, 9, 10, 11, 12, 13]}"
      ]
     },
     "execution_count": 49,
     "metadata": {},
     "output_type": "execute_result"
    }
   ],
   "source": [
    "model.param_grid"
   ]
  },
  {
   "cell_type": "code",
   "execution_count": 50,
   "metadata": {},
   "outputs": [
    {
     "data": {
      "text/plain": [
       "Pipeline(memory=None,\n",
       "     steps=[('poly', PolynomialFeatures(degree=2, include_bias=True, interaction_only=False)), ('plsr', PLSRegression(copy=True, max_iter=500, n_components=8, scale=True, tol=1e-06))])"
      ]
     },
     "execution_count": 50,
     "metadata": {},
     "output_type": "execute_result"
    }
   ],
   "source": [
    "model.best_estimator_"
   ]
  },
  {
   "cell_type": "code",
   "execution_count": 52,
   "metadata": {},
   "outputs": [
    {
     "data": {
      "text/plain": [
       "-3.8928878980239441"
      ]
     },
     "execution_count": 52,
     "metadata": {},
     "output_type": "execute_result"
    }
   ],
   "source": [
    "np.max(model.cv_results_['mean_test_score'])"
   ]
  },
  {
   "cell_type": "code",
   "execution_count": 68,
   "metadata": {},
   "outputs": [],
   "source": [
    "rfecv = RFECV(LinearRegression(), scoring=make_scorer(rmse))"
   ]
  },
  {
   "cell_type": "code",
   "execution_count": 69,
   "metadata": {},
   "outputs": [
    {
     "data": {
      "text/plain": [
       "RFECV(cv=None,\n",
       "   estimator=LinearRegression(copy_X=True, fit_intercept=True, n_jobs=1, normalize=False),\n",
       "   n_jobs=1, scoring=make_scorer(rmse), step=1, verbose=0)"
      ]
     },
     "execution_count": 69,
     "metadata": {},
     "output_type": "execute_result"
    }
   ],
   "source": [
    "rfecv.fit(xt, yt.ravel())"
   ]
  },
  {
   "cell_type": "code",
   "execution_count": 70,
   "metadata": {},
   "outputs": [
    {
     "data": {
      "text/plain": [
       "array([ 6.6501663 ,  5.12814321,  5.08010911,  5.10461167,  4.1686787 ,\n",
       "        4.00822096,  4.05126764,  4.0455882 ,  4.01408512,  4.02448145,\n",
       "        3.97374147,  3.95357811,  3.95553832,  3.94826708])"
      ]
     },
     "execution_count": 70,
     "metadata": {},
     "output_type": "execute_result"
    }
   ],
   "source": [
    "rfecv.grid_scores_"
   ]
  },
  {
   "cell_type": "code",
   "execution_count": 72,
   "metadata": {},
   "outputs": [
    {
     "data": {
      "image/png": "[encoded data removed]",
      "text/plain": [
       "<Figure size 432x288 with 1 Axes>"
      ]
     },
     "metadata": {
      "needs_background": "light"
     },
     "output_type": "display_data"
    }
   ],
   "source": [
    "plt.figure()\n",
    "plt.xlabel(\"Number of features selected\")\n",
    "plt.ylabel(\"Cross validation score\")\n",
    "plt.plot(range(1, len(rfecv.grid_scores_) + 1), rfecv.grid_scores_)\n",
    "plt.show()"
   ]
  },
  {
   "cell_type": "code",
   "execution_count": null,
   "metadata": {},
   "outputs": [],
   "source": []
  }
 ],
 "metadata": {
  "kernelspec": {
   "display_name": "Python [conda env:579]",
   "language": "python",
   "name": "conda-env-579-py"
  },
  "language_info": {
   "codemirror_mode": {
    "name": "ipython",
    "version": 3
   },
   "file_extension": ".py",
   "mimetype": "text/x-python",
   "name": "python",
   "nbconvert_exporter": "python",
   "pygments_lexer": "ipython3",
   "version": "3.6.6"
  }
 },
 "nbformat": 4,
 "nbformat_minor": 2
}
