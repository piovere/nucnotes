{
 "cells": [
  {
   "cell_type": "code",
   "execution_count": 103,
   "metadata": {},
   "outputs": [],
   "source": [
    "%matplotlib inline\n",
    "import numpy as np\n",
    "import pandas as pd\n",
    "import matplotlib.pyplot as plt\n",
    "from sklearn.model_selection import GridSearchCV, train_test_split\n",
    "from sklearn.preprocessing import PolynomialFeatures, StandardScaler\n",
    "from sklearn.linear_model import LinearRegression\n",
    "from sklearn.pipeline import Pipeline\n",
    "from sklearn.feature_selection import SelectKBest, f_regression, mutual_info_regression\n",
    "from sklearn.metrics import make_scorer"
   ]
  },
  {
   "cell_type": "code",
   "execution_count": 45,
   "metadata": {},
   "outputs": [],
   "source": [
    "def rmse(y_true, y_pred):\n",
    "    e = np.sqrt(np.mean((y_true - y_pred) ** 2))\n",
    "    return e"
   ]
  },
  {
   "cell_type": "code",
   "execution_count": 3,
   "metadata": {},
   "outputs": [],
   "source": [
    "pipe = Pipeline([\n",
    "    ('poly', PolynomialFeatures()),\n",
    "    ('scale', StandardScaler()),\n",
    "    ('linear', LinearRegression())\n",
    "])"
   ]
  },
  {
   "cell_type": "code",
   "execution_count": 5,
   "metadata": {},
   "outputs": [],
   "source": [
    "reg = GridSearchCV(pipe, {\n",
    "    'poly__degree': [i for i in range(1, 5)]\n",
    "})"
   ]
  },
  {
   "cell_type": "code",
   "execution_count": 4,
   "metadata": {},
   "outputs": [],
   "source": [
    "PolynomialFeatures?"
   ]
  },
  {
   "cell_type": "code",
   "execution_count": 14,
   "metadata": {},
   "outputs": [],
   "source": [
    "cols = ['mpg', 'cylinders', 'displacement',\n",
    "        'horsepower', 'weight', 'acceleration',\n",
    "        'model year', 'origin', 'car name']\n",
    "df = pd.read_csv(\"data/auto-mpg.data\", sep='\\s+', names=cols, na_values=\"?\")"
   ]
  },
  {
   "cell_type": "code",
   "execution_count": 15,
   "metadata": {},
   "outputs": [
    {
     "data": {
      "text/html": [
       "<div>\n",
       "<style scoped>\n",
       "    .dataframe tbody tr th:only-of-type {\n",
       "        vertical-align: middle;\n",
       "    }\n",
       "\n",
       "    .dataframe tbody tr th {\n",
       "        vertical-align: top;\n",
       "    }\n",
       "\n",
       "    .dataframe thead th {\n",
       "        text-align: right;\n",
       "    }\n",
       "</style>\n",
       "<table border=\"1\" class=\"dataframe\">\n",
       "  <thead>\n",
       "    <tr style=\"text-align: right;\">\n",
       "      <th></th>\n",
       "      <th>mpg</th>\n",
       "      <th>cylinders</th>\n",
       "      <th>displacement</th>\n",
       "      <th>horsepower</th>\n",
       "      <th>weight</th>\n",
       "      <th>acceleration</th>\n",
       "      <th>model year</th>\n",
       "      <th>origin</th>\n",
       "      <th>car name</th>\n",
       "    </tr>\n",
       "  </thead>\n",
       "  <tbody>\n",
       "    <tr>\n",
       "      <th>0</th>\n",
       "      <td>18.0</td>\n",
       "      <td>8</td>\n",
       "      <td>307.0</td>\n",
       "      <td>130.0</td>\n",
       "      <td>3504.0</td>\n",
       "      <td>12.0</td>\n",
       "      <td>70</td>\n",
       "      <td>1</td>\n",
       "      <td>chevrolet chevelle malibu</td>\n",
       "    </tr>\n",
       "    <tr>\n",
       "      <th>1</th>\n",
       "      <td>15.0</td>\n",
       "      <td>8</td>\n",
       "      <td>350.0</td>\n",
       "      <td>165.0</td>\n",
       "      <td>3693.0</td>\n",
       "      <td>11.5</td>\n",
       "      <td>70</td>\n",
       "      <td>1</td>\n",
       "      <td>buick skylark 320</td>\n",
       "    </tr>\n",
       "    <tr>\n",
       "      <th>2</th>\n",
       "      <td>18.0</td>\n",
       "      <td>8</td>\n",
       "      <td>318.0</td>\n",
       "      <td>150.0</td>\n",
       "      <td>3436.0</td>\n",
       "      <td>11.0</td>\n",
       "      <td>70</td>\n",
       "      <td>1</td>\n",
       "      <td>plymouth satellite</td>\n",
       "    </tr>\n",
       "    <tr>\n",
       "      <th>3</th>\n",
       "      <td>16.0</td>\n",
       "      <td>8</td>\n",
       "      <td>304.0</td>\n",
       "      <td>150.0</td>\n",
       "      <td>3433.0</td>\n",
       "      <td>12.0</td>\n",
       "      <td>70</td>\n",
       "      <td>1</td>\n",
       "      <td>amc rebel sst</td>\n",
       "    </tr>\n",
       "    <tr>\n",
       "      <th>4</th>\n",
       "      <td>17.0</td>\n",
       "      <td>8</td>\n",
       "      <td>302.0</td>\n",
       "      <td>140.0</td>\n",
       "      <td>3449.0</td>\n",
       "      <td>10.5</td>\n",
       "      <td>70</td>\n",
       "      <td>1</td>\n",
       "      <td>ford torino</td>\n",
       "    </tr>\n",
       "  </tbody>\n",
       "</table>\n",
       "</div>"
      ],
      "text/plain": [
       "    mpg  cylinders  displacement  horsepower  weight  acceleration  \\\n",
       "0  18.0          8         307.0       130.0  3504.0          12.0   \n",
       "1  15.0          8         350.0       165.0  3693.0          11.5   \n",
       "2  18.0          8         318.0       150.0  3436.0          11.0   \n",
       "3  16.0          8         304.0       150.0  3433.0          12.0   \n",
       "4  17.0          8         302.0       140.0  3449.0          10.5   \n",
       "\n",
       "   model year  origin                   car name  \n",
       "0          70       1  chevrolet chevelle malibu  \n",
       "1          70       1          buick skylark 320  \n",
       "2          70       1         plymouth satellite  \n",
       "3          70       1              amc rebel sst  \n",
       "4          70       1                ford torino  "
      ]
     },
     "execution_count": 15,
     "metadata": {},
     "output_type": "execute_result"
    }
   ],
   "source": [
    "df.head()"
   ]
  },
  {
   "cell_type": "code",
   "execution_count": 16,
   "metadata": {},
   "outputs": [
    {
     "name": "stdout",
     "output_type": "stream",
     "text": [
      "1. Title: Auto-Mpg Data\r\n",
      "\r\n",
      "2. Sources:\r\n",
      "   (a) Origin:  This dataset was taken from the StatLib library which is\r\n",
      "                maintained at Carnegie Mellon University. The dataset was \r\n",
      "                used in the 1983 American Statistical Association Exposition.\r\n",
      "   (c) Date: July 7, 1993\r\n",
      "\r\n",
      "3. Past Usage:\r\n",
      "    -  See 2b (above)\r\n",
      "    -  Quinlan,R. (1993). Combining Instance-Based and Model-Based Learning.\r\n",
      "       In Proceedings on the Tenth International Conference of Machine \r\n",
      "       Learning, 236-243, University of Massachusetts, Amherst. Morgan\r\n",
      "       Kaufmann.\r\n",
      "\r\n",
      "4. Relevant Information:\r\n",
      "\r\n",
      "   This dataset is a slightly modified version of the dataset provided in\r\n",
      "   the StatLib library.  In line with the use by Ross Quinlan (1993) in\r\n",
      "   predicting the attribute \"mpg\", 8 of the original instances were removed \r\n",
      "   because they had unknown values for the \"mpg\" attribute.  The original \r\n",
      "   dataset is available in the file \"auto-mpg.data-original\".\r\n",
      "\r\n",
      "   \"The data concerns city-cycle fuel consumption in miles per gallon,\r\n",
      "    to be predicted in terms of 3 multivalued discrete and 5 continuous\r\n",
      "    attributes.\" (Quinlan, 1993)\r\n",
      "\r\n",
      "5. Number of Instances: 398\r\n",
      "\r\n",
      "6. Number of Attributes: 9 including the class attribute\r\n",
      "\r\n",
      "7. Attribute Information:\r\n",
      "\r\n",
      "    1. mpg:           continuous\r\n",
      "    2. cylinders:     multi-valued discrete\r\n",
      "    3. displacement:  continuous\r\n",
      "    4. horsepower:    continuous\r\n",
      "    5. weight:        continuous\r\n",
      "    6. acceleration:  continuous\r\n",
      "    7. model year:    multi-valued discrete\r\n",
      "    8. origin:        multi-valued discrete\r\n",
      "    9. car name:      string (unique for each instance)\r\n",
      "\r\n",
      "8. Missing Attribute Values:  horsepower has 6 missing values\r\n",
      "\r\n"
     ]
    }
   ],
   "source": [
    "!cat data/auto-mpg.names"
   ]
  },
  {
   "cell_type": "code",
   "execution_count": 17,
   "metadata": {},
   "outputs": [],
   "source": [
    "df.dropna(inplace=True)"
   ]
  },
  {
   "cell_type": "code",
   "execution_count": 78,
   "metadata": {},
   "outputs": [],
   "source": [
    "df['inverse horsepower'] = df['horsepower'] ** -1\n",
    "df['inverse displacement'] = df['displacement'] ** -1\n",
    "df['inverse weight'] = df['weight'] ** -1"
   ]
  },
  {
   "cell_type": "code",
   "execution_count": 79,
   "metadata": {},
   "outputs": [],
   "source": [
    "continuous_cols = ['displacement', 'horsepower', 'weight', \n",
    "                   'acceleration', 'model year', 'inverse horsepower', \n",
    "                   'inverse displacement', 'inverse weight']\n",
    "y = df['mpg'].values\n",
    "x = df[continuous_cols].values\n",
    "xt, xv, yt, yv = train_test_split(x, y)"
   ]
  },
  {
   "cell_type": "code",
   "execution_count": 80,
   "metadata": {},
   "outputs": [
    {
     "data": {
      "text/plain": [
       "GridSearchCV(cv=None, error_score='raise',\n",
       "       estimator=Pipeline(memory=None,\n",
       "     steps=[('poly', PolynomialFeatures(degree=2, include_bias=True, interaction_only=False)), ('scale', StandardScaler(copy=True, with_mean=True, with_std=True)), ('linear', LinearRegression(copy_X=True, fit_intercept=True, n_jobs=1, normalize=False))]),\n",
       "       fit_params=None, iid=True, n_jobs=1,\n",
       "       param_grid={'poly__degree': [1, 2, 3, 4]}, pre_dispatch='2*n_jobs',\n",
       "       refit=True, return_train_score=True, scoring=None, verbose=0)"
      ]
     },
     "execution_count": 80,
     "metadata": {},
     "output_type": "execute_result"
    }
   ],
   "source": [
    "reg.fit(xt, yt)"
   ]
  },
  {
   "cell_type": "code",
   "execution_count": 81,
   "metadata": {},
   "outputs": [
    {
     "data": {
      "image/png": "[encoded data removed]",
      "text/plain": [
       "<Figure size 432x288 with 1 Axes>"
      ]
     },
     "metadata": {
      "needs_background": "light"
     },
     "output_type": "display_data"
    }
   ],
   "source": [
    "plt.plot(yt, reg.predict(xt), \".\")\n",
    "plt.plot(yv, reg.predict(xv), \".\")\n",
    "plt.plot([min(yv), max(yv)], [min(yv), max(yv)])\n",
    "plt.show()"
   ]
  },
  {
   "cell_type": "code",
   "execution_count": 82,
   "metadata": {},
   "outputs": [],
   "source": [
    "pipe_noscale = Pipeline([\n",
    "    ('poly', PolynomialFeatures()),\n",
    "    ('linear', LinearRegression())\n",
    "])\n",
    "reg_noscale = GridSearchCV(pipe, {\n",
    "    'poly__degree': [i for i in range(1, 5)]\n",
    "})"
   ]
  },
  {
   "cell_type": "code",
   "execution_count": 83,
   "metadata": {},
   "outputs": [
    {
     "data": {
      "text/plain": [
       "GridSearchCV(cv=None, error_score='raise',\n",
       "       estimator=Pipeline(memory=None,\n",
       "     steps=[('poly', PolynomialFeatures(degree=2, include_bias=True, interaction_only=False)), ('scale', StandardScaler(copy=True, with_mean=True, with_std=True)), ('linear', LinearRegression(copy_X=True, fit_intercept=True, n_jobs=1, normalize=False))]),\n",
       "       fit_params=None, iid=True, n_jobs=1,\n",
       "       param_grid={'poly__degree': [1, 2, 3, 4]}, pre_dispatch='2*n_jobs',\n",
       "       refit=True, return_train_score=True, scoring=None, verbose=0)"
      ]
     },
     "execution_count": 83,
     "metadata": {},
     "output_type": "execute_result"
    }
   ],
   "source": [
    "reg_noscale.fit(xt, yt)"
   ]
  },
  {
   "cell_type": "code",
   "execution_count": 84,
   "metadata": {},
   "outputs": [
    {
     "data": {
      "image/png": "[encoded data removed]",
      "text/plain": [
       "<Figure size 432x288 with 1 Axes>"
      ]
     },
     "metadata": {
      "needs_background": "light"
     },
     "output_type": "display_data"
    }
   ],
   "source": [
    "plt.plot(yt, reg_noscale.predict(xt), \".\")\n",
    "plt.plot(yv, reg_noscale.predict(xv), \".\")\n",
    "plt.plot([min(yv), max(yv)], [min(yv), max(yv)])\n",
    "plt.show()"
   ]
  },
  {
   "cell_type": "code",
   "execution_count": 104,
   "metadata": {},
   "outputs": [],
   "source": [
    "pipe3 = Pipeline([\n",
    "    ('poly', PolynomialFeatures()),\n",
    "    ('kb', SelectKBest(mutual_info_regression)),\n",
    "    ('linear', LinearRegression())\n",
    "])\n",
    "reg_bestfeature = GridSearchCV(\n",
    "    pipe3, \n",
    "    {\n",
    "        'poly__degree': [i for i in range(1, 5)],\n",
    "        'kb__k': [i for i in range(1, 7)]\n",
    "    },\n",
    "    scoring=make_scorer(rmse, greater_is_better=False)\n",
    ")"
   ]
  },
  {
   "cell_type": "code",
   "execution_count": 105,
   "metadata": {},
   "outputs": [
    {
     "data": {
      "text/plain": [
       "GridSearchCV(cv=None, error_score='raise',\n",
       "       estimator=Pipeline(memory=None,\n",
       "     steps=[('poly', PolynomialFeatures(degree=2, include_bias=True, interaction_only=False)), ('kb', SelectKBest(k=10, score_func=<function mutual_info_regression at 0x1113662f0>)), ('linear', LinearRegression(copy_X=True, fit_intercept=True, n_jobs=1, normalize=False))]),\n",
       "       fit_params=None, iid=True, n_jobs=1,\n",
       "       param_grid={'poly__degree': [1, 2, 3, 4], 'kb__k': [1, 2, 3, 4, 5, 6]},\n",
       "       pre_dispatch='2*n_jobs', refit=True, return_train_score=True,\n",
       "       scoring=make_scorer(rmse, greater_is_better=False), verbose=0)"
      ]
     },
     "execution_count": 105,
     "metadata": {},
     "output_type": "execute_result"
    }
   ],
   "source": [
    "reg_bestfeature.fit(xt, yt)"
   ]
  },
  {
   "cell_type": "code",
   "execution_count": 98,
   "metadata": {},
   "outputs": [
    {
     "data": {
      "image/png": "[encoded data removed]",
      "text/plain": [
       "<Figure size 432x288 with 1 Axes>"
      ]
     },
     "metadata": {
      "needs_background": "light"
     },
     "output_type": "display_data"
    }
   ],
   "source": [
    "plt.plot(yt, reg_noscale.predict(xt), \".\")\n",
    "plt.plot(yv, reg_noscale.predict(xv), \".\")\n",
    "plt.plot([min(yv), max(yv)], [min(yv), max(yv)])\n",
    "plt.show()"
   ]
  },
  {
   "cell_type": "code",
   "execution_count": 99,
   "metadata": {},
   "outputs": [
    {
     "data": {
      "text/plain": [
       "{'mean_fit_time': array([ 0.00347114,  0.00494671,  0.00724157,  0.01086195,  0.00312201,\n",
       "         0.00547028,  0.00809209,  0.01166145,  0.00315181,  0.00417638,\n",
       "         0.00744136,  0.01111515,  0.00266663,  0.00494536,  0.007725  ,\n",
       "         0.01092466,  0.0033137 ,  0.00560363,  0.00671705,  0.01334397,\n",
       "         0.00301377,  0.00418027,  0.00631301,  0.01126432]),\n",
       " 'std_fit_time': array([  5.45075175e-04,   1.76093171e-04,   1.82591270e-03,\n",
       "          9.84200699e-05,   7.55003954e-04,   1.19145610e-03,\n",
       "          4.57646365e-04,   1.12187540e-03,   4.81970547e-04,\n",
       "          7.90437334e-04,   1.84996390e-03,   7.40151355e-05,\n",
       "          3.70022579e-04,   4.71389259e-04,   2.08703476e-03,\n",
       "          6.42882877e-05,   8.12987109e-04,   1.38644374e-03,\n",
       "          2.08822657e-03,   1.99446498e-03,   2.83532144e-04,\n",
       "          5.09953369e-04,   2.03777218e-03,   1.81380711e-04]),\n",
       " 'mean_score_time': array([ 0.00076326,  0.00193946,  0.00524298,  0.01364509,  0.00079648,\n",
       "         0.00178663,  0.0049026 ,  0.01389138,  0.00075928,  0.00147557,\n",
       "         0.004752  ,  0.0123651 ,  0.00060296,  0.00182931,  0.0047013 ,\n",
       "         0.01347931,  0.00064969,  0.00229708,  0.00475494,  0.01242733,\n",
       "         0.00081793,  0.00180904,  0.00476972,  0.011614  ]),\n",
       " 'std_score_time': array([  7.98803848e-05,   1.41475039e-04,   8.11170186e-04,\n",
       "          1.83094948e-04,   7.44121493e-05,   3.61661277e-04,\n",
       "          3.56275545e-04,   4.48829095e-04,   9.53321259e-05,\n",
       "          6.08215095e-05,   6.96281131e-05,   1.53516334e-03,\n",
       "          8.29753746e-05,   2.67047352e-04,   5.53782717e-05,\n",
       "          1.27100336e-04,   5.51978917e-06,   1.16399334e-03,\n",
       "          3.55269462e-05,   2.91161293e-03,   9.82987077e-05,\n",
       "          5.00224730e-04,   9.61654442e-06,   2.92977763e-03]),\n",
       " 'param_kb__k': masked_array(data = [1 1 1 1 2 2 2 2 3 3 3 3 4 4 4 4 5 5 5 5 6 6 6 6],\n",
       "              mask = [False False False False False False False False False False False False\n",
       "  False False False False False False False False False False False False],\n",
       "        fill_value = ?),\n",
       " 'param_poly__degree': masked_array(data = [1 2 3 4 1 2 3 4 1 2 3 4 1 2 3 4 1 2 3 4 1 2 3 4],\n",
       "              mask = [False False False False False False False False False False False False\n",
       "  False False False False False False False False False False False False],\n",
       "        fill_value = ?),\n",
       " 'params': [{'kb__k': 1, 'poly__degree': 1},\n",
       "  {'kb__k': 1, 'poly__degree': 2},\n",
       "  {'kb__k': 1, 'poly__degree': 3},\n",
       "  {'kb__k': 1, 'poly__degree': 4},\n",
       "  {'kb__k': 2, 'poly__degree': 1},\n",
       "  {'kb__k': 2, 'poly__degree': 2},\n",
       "  {'kb__k': 2, 'poly__degree': 3},\n",
       "  {'kb__k': 2, 'poly__degree': 4},\n",
       "  {'kb__k': 3, 'poly__degree': 1},\n",
       "  {'kb__k': 3, 'poly__degree': 2},\n",
       "  {'kb__k': 3, 'poly__degree': 3},\n",
       "  {'kb__k': 3, 'poly__degree': 4},\n",
       "  {'kb__k': 4, 'poly__degree': 1},\n",
       "  {'kb__k': 4, 'poly__degree': 2},\n",
       "  {'kb__k': 4, 'poly__degree': 3},\n",
       "  {'kb__k': 4, 'poly__degree': 4},\n",
       "  {'kb__k': 5, 'poly__degree': 1},\n",
       "  {'kb__k': 5, 'poly__degree': 2},\n",
       "  {'kb__k': 5, 'poly__degree': 3},\n",
       "  {'kb__k': 5, 'poly__degree': 4},\n",
       "  {'kb__k': 6, 'poly__degree': 1},\n",
       "  {'kb__k': 6, 'poly__degree': 2},\n",
       "  {'kb__k': 6, 'poly__degree': 3},\n",
       "  {'kb__k': 6, 'poly__degree': 4}],\n",
       " 'split0_test_score': array([-4.80513176, -2.80811796, -2.47411478, -2.48815102, -3.94421009,\n",
       "        -3.21117955, -2.8005295 , -2.48276567, -3.92943027, -2.66285109,\n",
       "        -2.71471091, -2.71811834, -3.90331716, -2.6517618 , -2.62800484,\n",
       "        -2.61570231, -3.90521164, -2.64587902, -2.61983882, -2.61040567,\n",
       "        -3.91818564, -2.63685841, -2.6193854 , -2.61021281]),\n",
       " 'split1_test_score': array([-5.11993994, -4.25100814, -3.71889104, -3.57318235, -5.04356653,\n",
       "        -4.02231872, -3.58354949, -3.57417248, -4.99575961, -3.5040725 ,\n",
       "        -3.58411716, -3.51866698, -4.78653818, -3.50711117, -3.4704165 ,\n",
       "        -3.51866698, -4.82848232, -3.49009568, -3.47039173, -3.51866698,\n",
       "        -4.82511441, -3.49999474, -3.45976411, -3.51866698]),\n",
       " 'split2_test_score': array([-4.07466919, -3.44386624, -3.02294659, -2.87735762, -4.08717325,\n",
       "        -3.45357186, -2.8973115 , -2.88439171, -4.07277899, -2.92044137,\n",
       "        -2.88569492, -2.79704474, -3.99530018, -2.90879501, -2.7552171 ,\n",
       "        -2.79704474, -3.70704982, -2.79532894, -2.73637754, -2.79704474,\n",
       "        -3.74088797, -2.76565374, -2.74630937, -2.79704474]),\n",
       " 'mean_test_score': array([-4.66658029, -3.50099744, -3.07198414, -2.97956366, -4.35831662,\n",
       "        -3.56235671, -3.09379683, -2.98044329, -4.33265629, -3.02912165,\n",
       "        -3.06150766, -3.01127669, -4.22838517, -3.02255599, -2.95121281,\n",
       "        -2.97713801, -4.14691459, -2.97710121, -2.9422027 , -2.97537246,\n",
       "        -4.16139601, -2.96750229, -2.94181963, -2.97530818]),\n",
       " 'std_test_score': array([ 0.43783187,  0.59044108,  0.5093594 ,  0.44881905,  0.48804726,\n",
       "         0.33996303,  0.3485541 ,  0.45071176,  0.47252282,  0.35192037,\n",
       "         0.3760757 ,  0.3602231 ,  0.39645622,  0.35834044,  0.37078753,\n",
       "         0.39000982,  0.48868391,  0.3678372 ,  0.37650415,  0.39165055,\n",
       "         0.47486855,  0.3801826 ,  0.36988943,  0.39171046]),\n",
       " 'rank_test_score': array([24, 17, 15,  9, 23, 18, 16, 10, 22, 13, 14, 11, 21, 12,  3,  8, 19,\n",
       "         7,  2,  6, 20,  4,  1,  5], dtype=int32),\n",
       " 'split0_train_score': array([-4.44957604, -3.80847924, -3.30922085, -3.16055913, -4.16916054,\n",
       "        -3.4704509 , -3.05838887, -3.16033542, -4.11443889, -2.93693288,\n",
       "        -2.99356372, -2.96751565, -4.10689857, -2.93382694, -2.82790792,\n",
       "        -2.82483307, -4.10688699, -2.93153907, -2.81940824, -2.81632492,\n",
       "        -4.10005605, -2.83212069, -2.81927098, -2.81603624]),\n",
       " 'split1_train_score': array([-3.77933309, -3.09118735, -2.6830627 , -2.58993516, -3.75419869,\n",
       "        -2.96967379, -2.59293813, -2.58562006, -3.67356737, -2.56352952,\n",
       "        -2.57622211, -2.5306385 , -3.55138017, -2.55359824, -2.52684362,\n",
       "        -2.5306385 , -3.54526176, -2.52529899, -2.50557805, -2.5306385 ,\n",
       "        -3.53892201, -2.52391474, -2.50414834, -2.5306385 ]),\n",
       " 'split2_train_score': array([-4.36610025, -3.53934822, -3.05463183, -2.95402806, -4.28624901,\n",
       "        -3.53815756, -2.95237511, -2.94768472, -4.25798606, -2.96518825,\n",
       "        -2.95153746, -2.92673479, -4.23432706, -2.95991965, -2.90975408,\n",
       "        -2.92673479, -4.15310132, -2.92748198, -2.9013516 , -2.92673479,\n",
       "        -4.15010075, -2.91073996, -2.89597536, -2.92673479]),\n",
       " 'mean_train_score': array([-4.19833646, -3.4796716 , -3.01563846, -2.90150745, -4.06986941,\n",
       "        -3.32609408, -2.8679007 , -2.89788007, -4.01533077, -2.82188355,\n",
       "        -2.84044109, -2.80829631, -3.96420193, -2.81578161, -2.75483521,\n",
       "        -2.76073545, -3.93508335, -2.79477335, -2.74211263, -2.7578994 ,\n",
       "        -3.92969294, -2.7555918 , -2.73979822, -2.75780318]),\n",
       " 'std_train_score': array([ 0.2982336 ,  0.29585795,  0.25711071,  0.23589792,  0.22827386,\n",
       "         0.25353845,  0.19918675,  0.23725487,  0.24866727,  0.18304771,\n",
       "         0.18761717,  0.19703835,  0.29650842,  0.18569742,  0.16464066,\n",
       "         0.16793738,  0.27629043,  0.19055434,  0.17056794,  0.16689962,\n",
       "         0.27707106,  0.166935  ,  0.16954654,  0.16686599])}"
      ]
     },
     "execution_count": 99,
     "metadata": {},
     "output_type": "execute_result"
    }
   ],
   "source": [
    "reg_bestfeature.cv_results_"
   ]
  },
  {
   "cell_type": "code",
   "execution_count": 100,
   "metadata": {},
   "outputs": [
    {
     "data": {
      "text/plain": [
       "-2.8284856308162465"
      ]
     },
     "execution_count": 100,
     "metadata": {},
     "output_type": "execute_result"
    }
   ],
   "source": [
    "reg_bestfeature.score(xv, yv)"
   ]
  },
  {
   "cell_type": "code",
   "execution_count": 101,
   "metadata": {},
   "outputs": [
    {
     "data": {
      "text/plain": [
       "3.72134379"
      ]
     },
     "execution_count": 101,
     "metadata": {},
     "output_type": "execute_result"
    }
   ],
   "source": [
    "(3.88811235 + 3.79180157 + 3.48411745) / 3"
   ]
  },
  {
   "cell_type": "code",
   "execution_count": null,
   "metadata": {},
   "outputs": [],
   "source": []
  }
 ],
 "metadata": {
  "kernelspec": {
   "display_name": "Python [conda env:579]",
   "language": "python",
   "name": "conda-env-579-py"
  },
  "language_info": {
   "codemirror_mode": {
    "name": "ipython",
    "version": 3
   },
   "file_extension": ".py",
   "mimetype": "text/x-python",
   "name": "python",
   "nbconvert_exporter": "python",
   "pygments_lexer": "ipython3",
   "version": "3.6.6"
  }
 },
 "nbformat": 4,
 "nbformat_minor": 2
}
