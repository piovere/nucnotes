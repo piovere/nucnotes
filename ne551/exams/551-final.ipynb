{
 "cells": [
  {
   "cell_type": "code",
   "execution_count": 7,
   "metadata": {
    "collapsed": true
   },
   "outputs": [],
   "source": [
    "%matplotlib inline\n",
    "import numpy as np\n",
    "import pandas as pd\n",
    "import scipy.constants as const\n",
    "import matplotlib.pyplot as plt\n",
    "from scipy.interpolate import interp1d"
   ]
  },
  {
   "cell_type": "markdown",
   "metadata": {},
   "source": [
    "# Problem 1"
   ]
  },
  {
   "cell_type": "markdown",
   "metadata": {},
   "source": [
    "Define given values"
   ]
  },
  {
   "cell_type": "code",
   "execution_count": 5,
   "metadata": {
    "collapsed": true
   },
   "outputs": [],
   "source": [
    "flux = 1e9 # cm^-2 s^-1\n",
    "energy = 100 # eV\n",
    "thermal_energy = 0.025 # eV"
   ]
  },
  {
   "cell_type": "markdown",
   "metadata": {},
   "source": [
    "## Part A"
   ]
  },
  {
   "cell_type": "markdown",
   "metadata": {},
   "source": [
    "Calculate absorption cross section using thermal $\\sigma_a=98.7b$"
   ]
  },
  {
   "cell_type": "markdown",
   "metadata": {},
   "source": [
    "Cross section at low energies goes as $\\sigma \\propto \\frac{1}{v} \\propto \\sqrt{\\frac{1}{T}}$. Therefore: $$ \\sigma^{100eV}_a \\approx \\sigma^{0.025eV}_a \\times \\sqrt{\\frac{0.025eV}{100eV}} $$"
   ]
  },
  {
   "cell_type": "code",
   "execution_count": 6,
   "metadata": {
    "collapsed": false
   },
   "outputs": [
    {
     "data": {
      "text/plain": [
       "1.5605840252930951"
      ]
     },
     "execution_count": 6,
     "metadata": {},
     "output_type": "execute_result"
    }
   ],
   "source": [
    "98.7 * np.sqrt(thermal_energy / energy)"
   ]
  },
  {
   "cell_type": "markdown",
   "metadata": {},
   "source": [
    "$$ \\sigma_a^{100eV} \\approx 1.56b $$"
   ]
  },
  {
   "cell_type": "markdown",
   "metadata": {},
   "source": [
    "ENDF/B-VII.1 gives values of $\\sigma_a(99.579eV) = 3.90669b$ and $\\sigma_a(100.246eV) = 3.99648b$ for the $(n,\\gamma)$ reaction. Interpolating between these:"
   ]
  },
  {
   "cell_type": "code",
   "execution_count": 12,
   "metadata": {
    "collapsed": false
   },
   "outputs": [
    {
     "name": "stdout",
     "output_type": "stream",
     "text": [
      "3.96336404798\n",
      "2.53966719109\n"
     ]
    }
   ],
   "source": [
    "crosssection = interp1d(x=[99.579, 100.246], y=[3.90669, 3.99648])\n",
    "print(crosssection(100))\n",
    "print(crosssection(100) / (98.7 * np.sqrt(thermal_energy / energy)))"
   ]
  },
  {
   "cell_type": "markdown",
   "metadata": {},
   "source": [
    "This is a factor of 2.54 higher than the calculated value. If we examine the plot of the $(n, \\gamma)$ cross section we see:\n",
    "![cross section graph]("
   ]
  }
 ],
 "metadata": {
  "anaconda-cloud": {},
  "kernelspec": {
   "display_name": "Python [conda env:nuc]",
   "language": "python",
   "name": "conda-env-nuc-py"
  },
  "language_info": {
   "codemirror_mode": {
    "name": "ipython",
    "version": 2
   },
   "file_extension": ".py",
   "mimetype": "text/x-python",
   "name": "python",
   "nbconvert_exporter": "python",
   "pygments_lexer": "ipython2",
   "version": "2.7.12"
  }
 },
 "nbformat": 4,
 "nbformat_minor": 1
}
