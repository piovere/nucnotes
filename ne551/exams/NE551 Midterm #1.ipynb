{
 "cells": [
  {
   "cell_type": "markdown",
   "metadata": {},
   "source": [
    "# Problem 1 #"
   ]
  },
  {
   "cell_type": "code",
   "execution_count": 1,
   "metadata": {
    "collapsed": false
   },
   "outputs": [
    {
     "name": "stderr",
     "output_type": "stream",
     "text": [
      "/Users/jrpowers-luhn/PycharmProjects/stoppingpower/stoppingpower/materials.py:1: QAWarning: pyne.data is not yet QA compliant.\n",
      "  from pyne import data\n",
      "/Users/jrpowers-luhn/PycharmProjects/stoppingpower/stoppingpower/materials.py:3: QAWarning: pyne.material is not yet QA compliant.\n",
      "  from pyne.material import MaterialLibrary\n"
     ]
    }
   ],
   "source": [
    "import numpy as np\n",
    "from stoppingpower.cmsp import S_c\n",
    "from stoppingpower.range import rangeout\n",
    "from stoppingpower.range import nuclear_fraction\n",
    "from stoppingpower.range import exit_energy\n",
    "from stoppingpower.range import energy_deposition\n",
    "from stoppingpower.materials import materials\n",
    "import pandas as pd\n",
    "import scipy.constants as const"
   ]
  },
  {
   "cell_type": "markdown",
   "metadata": {},
   "source": [
    "## Part 1a ##"
   ]
  },
  {
   "cell_type": "markdown",
   "metadata": {},
   "source": [
    "Starting with 0 cm of water and then using successive 1-cm increments of water thickness, fill out a table like the one below, giving the appropriate values in each column. When you are within 2 cm of the thickness of water needed to stop the beam, start incrementing the water thickness every 2 mm, and use 1 mm increments once you are within 4 mm of the stopping thickness."
   ]
  },
  {
   "cell_type": "code",
   "execution_count": 2,
   "metadata": {
    "collapsed": false
   },
   "outputs": [
    {
     "data": {
      "text/plain": [
       "15.875464708225147"
      ]
     },
     "execution_count": 2,
     "metadata": {},
     "output_type": "execute_result"
    }
   ],
   "source": [
    "t = rangeout(1.0, materials['Water'], 150., 1.0)\n",
    "t"
   ]
  },
  {
   "cell_type": "code",
   "execution_count": 3,
   "metadata": {
    "collapsed": false
   },
   "outputs": [],
   "source": [
    "water_thickness = np.arange(0., t, 2.)"
   ]
  },
  {
   "cell_type": "code",
   "execution_count": 4,
   "metadata": {
    "collapsed": false
   },
   "outputs": [],
   "source": [
    "water_thickness = np.append(water_thickness, np.arange(water_thickness[-1]+0.2, t-0.4, 0.2))"
   ]
  },
  {
   "cell_type": "code",
   "execution_count": 5,
   "metadata": {
    "collapsed": false
   },
   "outputs": [
    {
     "data": {
      "text/plain": [
       "array([  0.        ,   2.        ,   4.        ,   6.        ,\n",
       "         8.        ,  10.        ,  12.        ,  14.        ,\n",
       "        14.2       ,  14.4       ,  14.6       ,  14.8       ,\n",
       "        15.        ,  15.2       ,  15.4       ,  15.5       ,\n",
       "        15.6       ,  15.7       ,  15.8       ,  15.87546471])"
      ]
     },
     "execution_count": 5,
     "metadata": {},
     "output_type": "execute_result"
    }
   ],
   "source": [
    "water_thickness = np.append(water_thickness, np.arange(water_thickness[-1]+0.1, t, 0.1))\n",
    "water_thickness = np.append(water_thickness, t)\n",
    "water_thickness"
   ]
  },
  {
   "cell_type": "code",
   "execution_count": 6,
   "metadata": {
    "collapsed": true
   },
   "outputs": [],
   "source": [
    "T0 = 150. # MeV"
   ]
  },
  {
   "cell_type": "code",
   "execution_count": 7,
   "metadata": {
    "collapsed": true
   },
   "outputs": [],
   "source": [
    "T1 = exit_energy(1., materials[\"Air\"], T0, 1., 1.)"
   ]
  },
  {
   "cell_type": "code",
   "execution_count": 8,
   "metadata": {
    "collapsed": true
   },
   "outputs": [],
   "source": [
    "E_IC1 = energy_deposition(1., materials[\"Air\"], T0, 1., 1.)"
   ]
  },
  {
   "cell_type": "code",
   "execution_count": 55,
   "metadata": {
    "collapsed": false
   },
   "outputs": [],
   "source": [
    "energy_per_ion_pair = 35.2 * 1e-6 # for proton in air, Anderson table 11.1\n",
    "diameter = 10. # cm\n",
    "charge_per_proton = const.value('elementary charge') # 1.602e-19 C\n",
    "flux = 10**5 # protons per cm^2 per s\n",
    "\n",
    "def current(T_deposited_per_proton, flux, diameter):\n",
    "    radius = diameter / 2.\n",
    "    area = np.pi * radius ** 2\n",
    "    \n",
    "    ion_pairs_per_proton = T_deposited_per_proton / energy_per_ion_pair\n",
    "    \n",
    "    protons_per_second = flux * area\n",
    "    \n",
    "    current = ion_pairs_per_proton * protons_per_second * charge_per_proton\n",
    "    \n",
    "    return current\n",
    "\n",
    "I_IC1 = current(E_IC1, flux, diameter)"
   ]
  },
  {
   "cell_type": "code",
   "execution_count": 56,
   "metadata": {
    "collapsed": false
   },
   "outputs": [],
   "source": [
    "T2 = [exit_energy(1., materials[\"Water\"], T1, 1., t) for t in water_thickness]"
   ]
  },
  {
   "cell_type": "code",
   "execution_count": 57,
   "metadata": {
    "collapsed": false
   },
   "outputs": [],
   "source": [
    "T3 = [exit_energy(1., materials[\"Air\"], T, 1., 1.) for T in T2]"
   ]
  },
  {
   "cell_type": "code",
   "execution_count": 58,
   "metadata": {
    "collapsed": false
   },
   "outputs": [],
   "source": [
    "E_IC2 = np.array([energy_deposition(1., materials[\"Air\"], T, 1., 1.) for T in T2])"
   ]
  },
  {
   "cell_type": "code",
   "execution_count": 59,
   "metadata": {
    "collapsed": false
   },
   "outputs": [],
   "source": [
    "I_IC2 = current(E_IC2, flux, diameter)"
   ]
  },
  {
   "cell_type": "code",
   "execution_count": 60,
   "metadata": {
    "collapsed": false
   },
   "outputs": [
    {
     "name": "stdout",
     "output_type": "stream",
     "text": [
      "           Beam energy after exit from IC1  Energy deposited in IC1  \\\n",
      "0.000000                        149.990413                 0.009587   \n",
      "2.000000                        149.990413                 0.009587   \n",
      "4.000000                        149.990413                 0.009587   \n",
      "6.000000                        149.990413                 0.009587   \n",
      "8.000000                        149.990413                 0.009587   \n",
      "10.000000                       149.990413                 0.009587   \n",
      "12.000000                       149.990413                 0.009587   \n",
      "14.000000                       149.990413                 0.009587   \n",
      "14.200000                       149.990413                 0.009587   \n",
      "14.400000                       149.990413                 0.009587   \n",
      "14.600000                       149.990413                 0.009587   \n",
      "14.800000                       149.990413                 0.009587   \n",
      "15.000000                       149.990413                 0.009587   \n",
      "15.200000                       149.990413                 0.009587   \n",
      "15.400000                       149.990413                 0.009587   \n",
      "15.500000                       149.990413                 0.009587   \n",
      "15.600000                       149.990413                 0.009587   \n",
      "15.700000                       149.990413                 0.009587   \n",
      "15.800000                       149.990413                 0.009587   \n",
      "15.875465                       149.990413                 0.009587   \n",
      "\n",
      "           Current in IC1  Beam energy after exit from water column  \\\n",
      "0.000000     3.427177e-10                                149.984995   \n",
      "2.000000     3.427177e-10                                138.881885   \n",
      "4.000000     3.427177e-10                                127.115816   \n",
      "6.000000     3.427177e-10                                114.505824   \n",
      "8.000000     3.427177e-10                                100.796824   \n",
      "10.000000    3.427177e-10                                 85.523835   \n",
      "12.000000    3.427177e-10                                 67.820278   \n",
      "14.000000    3.427177e-10                                 45.376491   \n",
      "14.200000    3.427177e-10                                 42.633767   \n",
      "14.400000    3.427177e-10                                 39.741686   \n",
      "14.600000    3.427177e-10                                 36.685361   \n",
      "14.800000    3.427177e-10                                 33.391113   \n",
      "15.000000    3.427177e-10                                 29.809878   \n",
      "15.200000    3.427177e-10                                 25.860201   \n",
      "15.400000    3.427177e-10                                 21.318458   \n",
      "15.500000    3.427177e-10                                 18.723463   \n",
      "15.600000    3.427177e-10                                 15.794742   \n",
      "15.700000    3.427177e-10                                 12.373116   \n",
      "15.800000    3.427177e-10                                  7.848706   \n",
      "15.875465    3.427177e-10                                  0.000000   \n",
      "\n",
      "           Beam energy after exit from IC2  Energy deposited in IC2  \\\n",
      "0.000000                        149.975407                 0.009588   \n",
      "2.000000                        138.871771                 0.010114   \n",
      "4.000000                        127.105049                 0.010767   \n",
      "6.000000                        114.494216                 0.011608   \n",
      "8.000000                        100.784078                 0.012746   \n",
      "10.000000                        85.509420                 0.014415   \n",
      "12.000000                        67.803059                 0.017219   \n",
      "14.000000                        45.352869                 0.023622   \n",
      "14.200000                        42.608940                 0.024827   \n",
      "14.400000                        39.715423                 0.026262   \n",
      "14.600000                        36.657356                 0.028005   \n",
      "14.800000                        33.360904                 0.030209   \n",
      "15.000000                        29.776770                 0.033109   \n",
      "15.200000                        25.823053                 0.037149   \n",
      "15.400000                        21.275001                 0.043457   \n",
      "15.500000                        18.675169                 0.048294   \n",
      "15.600000                        15.739283                 0.055459   \n",
      "15.700000                        12.305491                 0.067625   \n",
      "15.800000                         7.750993                 0.097713   \n",
      "15.875465                         0.000000                 0.000000   \n",
      "\n",
      "           Current in IC2  \n",
      "0.000000     3.427413e-10  \n",
      "2.000000     3.615680e-10  \n",
      "4.000000     3.849214e-10  \n",
      "6.000000     4.149786e-10  \n",
      "8.000000     4.556665e-10  \n",
      "10.000000    5.153242e-10  \n",
      "12.000000    6.155366e-10  \n",
      "14.000000    8.444409e-10  \n",
      "14.200000    8.875139e-10  \n",
      "14.400000    9.388418e-10  \n",
      "14.600000    1.001137e-09  \n",
      "14.800000    1.079940e-09  \n",
      "15.000000    1.183580e-09  \n",
      "15.200000    1.328012e-09  \n",
      "15.400000    1.553518e-09  \n",
      "15.500000    1.726434e-09  \n",
      "15.600000    1.982559e-09  \n",
      "15.700000    2.417479e-09  \n",
      "15.800000    3.493077e-09  \n",
      "15.875465    0.000000e+00  \n"
     ]
    }
   ],
   "source": [
    "table1 = pd.DataFrame(\n",
    "    {\n",
    "        \"Beam energy after exit from IC1\": T1,\n",
    "        \"Energy deposited in IC1\": E_IC1,\n",
    "        \"Current in IC1\": I_IC1,\n",
    "        \"Beam energy after exit from water column\": T2,\n",
    "        \"Beam energy after exit from IC2\": T3,\n",
    "        \"Energy deposited in IC2\": E_IC2, \n",
    "        \"Current in IC2\": I_IC2\n",
    "    },\n",
    "    index=water_thickness\n",
    ")\n",
    "cols = table1.columns.tolist()\n",
    "cols = [\n",
    "    'Beam energy after exit from IC1',\n",
    "    'Energy deposited in IC1',\n",
    "    'Current in IC1',\n",
    "    'Beam energy after exit from water column',\n",
    "    'Beam energy after exit from IC2',\n",
    "    'Energy deposited in IC2',\n",
    "    'Current in IC2'\n",
    "]\n",
    "table1 = table1[cols]\n",
    "table1.to_csv('ne551_midterm_1_1a.csv')\n",
    "print table1"
   ]
  },
  {
   "cell_type": "markdown",
   "metadata": {},
   "source": [
    "## Part 1b ##"
   ]
  },
  {
   "cell_type": "markdown",
   "metadata": {
    "collapsed": true
   },
   "source": [
    "Clearly state your methodology, values for constants, and any equations you used to determine the values in columns 2-8"
   ]
  },
  {
   "cell_type": "markdown",
   "metadata": {
    "collapsed": true
   },
   "source": [
    "I use a python program to iteratively step through the material thickness, calculating stopping power and energy lost in each step. Material composition for air is derived from the PNNL database of materials, via the Pyne library. Average excitation values $I_{water}=75eV$ and $I_{air}=85.7eV$ come from the [NIST PSTAR site](http://physics.nist.gov/cgi-bin/Star/compos.pl?refer=ap&matno=104). Scientific constants come from the [scipy.constants](https://docs.scipy.org/doc/scipy/reference/constants.html) library, and are explicitly called out in the code above.\n",
    "\n",
    "The equation used for mass stopping power is:\n",
    "$$ \\frac{S_c}{\\rho} = 4 \\pi r_0^2 m_e c^2 \\left( \\frac{z^2}{\\beta^2} \\right) \\left( \\frac{N_A}{M_m} \\right) Z \\left( ln \\left( \\frac{2 m_e c^2 \\gamma^2 \\beta^2}{I} \\right) - \\beta^2 \\right) $$\n",
    "\n",
    "This does make the assumption that all energy lost by the incident proton is captured in the ion chambers.\n",
    "\n",
    "$r_0$ = 2.8179403227e-15 m  \n",
    "$\\rho_{water}$ = 1.0 $g/cm^3$  \n",
    "$N_A$ = 6.022140857e+23  \n",
    "$m_e c^2$ = 0.5109989461 MeV"
   ]
  },
  {
   "cell_type": "markdown",
   "metadata": {},
   "source": [
    "## Part 1c ##"
   ]
  },
  {
   "cell_type": "markdown",
   "metadata": {},
   "source": [
    "Plot the ratio of IC2/IC1 currents as a function of water column thickness"
   ]
  },
  {
   "cell_type": "code",
   "execution_count": 15,
   "metadata": {
    "collapsed": false
   },
   "outputs": [
    {
     "data": {
      "image/png": "[encoded data removed]",
      "text/plain": [
       "<matplotlib.figure.Figure at 0x10fc67850>"
      ]
     },
     "metadata": {},
     "output_type": "display_data"
    }
   ],
   "source": [
    "%matplotlib inline\n",
    "import matplotlib.pyplot as plt\n",
    "plt.plot(water_thickness, table1['Current in IC2'] / table1['Current in IC1'], 'b-^')\n",
    "plt.ylabel(r'${I_2}/{I_1}$')\n",
    "plt.xlabel('Water column thickness (cm)')\n",
    "#plt.savefig('images/ne551_midterm_1_1c', dpi=300)\n",
    "plt.show()"
   ]
  },
  {
   "cell_type": "markdown",
   "metadata": {},
   "source": [
    "## Part 1d ##"
   ]
  },
  {
   "cell_type": "markdown",
   "metadata": {},
   "source": [
    "Now assume no nuclear interactions occur in the IC's, but that nuclear interactions do occur in the water column. If a nuclear interaction occurs, assume that the proton is lost and doesn't make it out of the water column"
   ]
  },
  {
   "cell_type": "markdown",
   "metadata": {},
   "source": [
    "## Part 1e ##"
   ]
  },
  {
   "cell_type": "markdown",
   "metadata": {},
   "source": [
    "Using the assumptions in part d, fill out a table like the one below using the same water column increments you used in part a"
   ]
  },
  {
   "cell_type": "code",
   "execution_count": 16,
   "metadata": {
    "collapsed": true
   },
   "outputs": [],
   "source": [
    "table2 = pd.DataFrame(index=water_thickness)"
   ]
  },
  {
   "cell_type": "code",
   "execution_count": 17,
   "metadata": {
    "collapsed": false
   },
   "outputs": [],
   "source": [
    "table2['Beam energy after exit from IC1'] = table1['Beam energy after exit from IC1']\n",
    "table2['Energy deposited in IC1'] = table1['Energy deposited in IC1']\n",
    "table2['Current in IC1'] = table1['Current in IC1']\n",
    "table2['Beam energy after exit from water column'] = table1['Beam energy after exit from water column']\n",
    "table2['Fraction of beam remaining after exit from water column'] =\\\n",
    "        1-nuclear_fraction(1., materials['Water'], water_thickness)\n",
    "table2['Beam energy after exit from IC2'] = table1['Beam energy after exit from IC2']\n",
    "table2['Energy deposited in IC2'] = table1['Energy deposited in IC2']\n",
    "table2['Current in IC2'] = current(\n",
    "    table2['Energy deposited in IC2'],\n",
    "    flux*table2['Fraction of beam remaining after exit from water column'],\n",
    "    diameter\n",
    ")\n",
    "table2.to_csv('ne551_midterm_1_1e.csv')"
   ]
  },
  {
   "cell_type": "markdown",
   "metadata": {},
   "source": [
    "## Part 1f ##"
   ]
  },
  {
   "cell_type": "markdown",
   "metadata": {
    "collapsed": true
   },
   "source": [
    "Clearly state your methodology, values for constants, and any equations you used to determine the values in column 6"
   ]
  },
  {
   "cell_type": "markdown",
   "metadata": {
    "code_folding": []
   },
   "source": [
    "When considering nuclear interactions, I have approximated the cross sections using the geometric cross section:\n",
    "    $$\\sigma \\approx \\pi \\left( R_1 + R_2 \\right)^2$$ where $R_i = r_0 A_i^{1/3}$ and $r_0={1.4 \\times 10^{-13}}cm$. Since the energy captured in the second ion chamber is porportional to the number of incident protons, we must multiply the energy deposited in the second ion chamber (in part 1a) by $(1-f)$, where $f$ is the fraction of the protons undergoing a nuclear interaction."
   ]
  },
  {
   "cell_type": "markdown",
   "metadata": {},
   "source": [
    "## Part 1g ##"
   ]
  },
  {
   "cell_type": "markdown",
   "metadata": {},
   "source": [
    "Now plot the values of IC2/IC1 from this table on the same plot you made for part c"
   ]
  },
  {
   "cell_type": "code",
   "execution_count": 18,
   "metadata": {
    "collapsed": false
   },
   "outputs": [
    {
     "data": {
      "image/png": "[encoded data removed]",
      "text/plain": [
       "<matplotlib.figure.Figure at 0x1120a2250>"
      ]
     },
     "metadata": {},
     "output_type": "display_data"
    }
   ],
   "source": [
    "plt.plot(water_thickness, table2['Current in IC2'] / table2['Current in IC1'], 'b-^', label='With nuclear interactions')\n",
    "plt.plot(water_thickness, table1['Current in IC2'] / table1['Current in IC1'], 'r--', label='Without nuclear interactions')\n",
    "plt.xlabel('Water column thickness')\n",
    "plt.ylabel(r'$I_2 / I_1$')\n",
    "plt.legend(loc=2)\n",
    "#plt.savefig('images/ne551_midterm_1_1g', dpi=300)\n",
    "plt.show()"
   ]
  },
  {
   "cell_type": "markdown",
   "metadata": {},
   "source": [
    "# Problem 2 #"
   ]
  },
  {
   "cell_type": "markdown",
   "metadata": {},
   "source": [
    "According to [Vaughan & Asbury's General Ophthalmology](http://accessmedicine.mhmedical.com/content.aspx?sectionid=40229318&bookid=387&jumpsectionID=40229430&Resultclick=2), the diameter of the adult human eye is about 2.4 cm and its mass is about 7.5 g. Assume that the eye is comprised of Adipose Tissue"
   ]
  },
  {
   "cell_type": "code",
   "execution_count": 19,
   "metadata": {
    "collapsed": false
   },
   "outputs": [
    {
     "data": {
      "image/png": "[encoded data removed]",
      "text/plain": [
       "<matplotlib.figure.Figure at 0x1130e8890>"
      ]
     },
     "metadata": {},
     "output_type": "display_data"
    }
   ],
   "source": [
    "r = 1.2 # cm\n",
    "x = np.linspace(0, r, 1000)\n",
    "plt.plot(np.sqrt(r**2 - x**2), 'r-')\n",
    "plt.show()"
   ]
  },
  {
   "cell_type": "markdown",
   "metadata": {},
   "source": [
    "From [wolframalpha.com](http://www.wolframalpha.com/input/?i=a+sphere) we know that the average thickness of a sphere is $\\frac{4r}{3}$. Therefore the energy received is $\\Phi \\pi \\left( \\frac{d}{2} \\right)^2 \\int_0^{\\frac{4 r}{3}} S_c(t) dt$"
   ]
  },
  {
   "cell_type": "code",
   "execution_count": 20,
   "metadata": {
    "collapsed": false
   },
   "outputs": [
    {
     "data": {
      "text/plain": [
       "42210712.22902102"
      ]
     },
     "execution_count": 20,
     "metadata": {},
     "output_type": "execute_result"
    }
   ],
   "source": [
    "E_absorbed = 10 ** 5 * np.pi * r ** 2 * energy_deposition(2., materials[\"Tissue\"], 200., 4., 4*r/3.) # MeV\n",
    "E_absorbed"
   ]
  },
  {
   "cell_type": "markdown",
   "metadata": {},
   "source": [
    "To be more accurate, however, we will instead divide the eye into a series of $n$ annuli with inner radius $r_i$ and outer radius $r_i + \\Delta r$. We will approximate the height of these annuli as $2*\\frac{f(r_i+\\Delta r)+f(r_i)}{2} = f(r_i+\\Delta r) + f(r_i)$, where $f(r) = \\sqrt{R^2-r^2}$. The surface area of the annuli exposed to the fluence will be $A=\\pi \\left[\\left(r_i+\\Delta r\\right)^2 - {r_i}^2 \\right] = \\pi \\left(2 r_i \\Delta r + \\Delta r^2 \\right)$. The absorbed dose then becomes: $$ \\sum_i \\Phi \\pi \\left(2 r_i \\Delta r + \\Delta r^2 \\right) E_d(f(r_i+\\Delta r) + f(r_i))$$"
   ]
  },
  {
   "cell_type": "code",
   "execution_count": 21,
   "metadata": {
    "collapsed": false
   },
   "outputs": [
    {
     "name": "stdout",
     "output_type": "stream",
     "text": [
      "4644834.5943\n"
     ]
    }
   ],
   "source": [
    "phi = 10**4\n",
    "delta = 0.01 # cm\n",
    "def f(x):\n",
    "    return np.sqrt(r**2 - x**2)\n",
    "x = np.arange(0, r, delta)\n",
    "t = np.array([f(i) + f(i + delta) for i in x][:-1]) # annulus thickness\n",
    "def A(x):\n",
    "    return np.pi * (x + delta)**2 - np.pi * (x)**2\n",
    "a = A(x)[:-1]\n",
    "assert len(t) == len(a)\n",
    "a = phi * a # multiply fluence by area to get number of particles\n",
    "e = np.array([energy_deposition(2., materials[\"Tissue\"], T=200, thickness=b, M_b=4.) for b in t])\n",
    "E_absorbed = np.sum(a * e)\n",
    "print E_absorbed"
   ]
  },
  {
   "cell_type": "markdown",
   "metadata": {},
   "source": [
    "It turns out that this number converges at approximately $\\Delta r = 0.01cm$--smaller intervals no longer produce worthwhile gains in accuracy. At this point the disagreement between this method and simply using the average thickness is about 10%"
   ]
  },
  {
   "cell_type": "markdown",
   "metadata": {},
   "source": [
    "## Part 2a ##"
   ]
  },
  {
   "cell_type": "markdown",
   "metadata": {},
   "source": [
    "What is the dose (Gy) received by the eye?"
   ]
  },
  {
   "cell_type": "code",
   "execution_count": 22,
   "metadata": {
    "collapsed": false
   },
   "outputs": [
    {
     "name": "stdout",
     "output_type": "stream",
     "text": [
      "1.6021766208e-19 j per eV\n",
      "Dose received is 0.000134103994594 Gy\n"
     ]
    }
   ],
   "source": [
    "joules_per_ev = const.value('electron volt-joule relationship')\n",
    "print \"{0} j per eV\".format(joules_per_ev)\n",
    "ev_per_mev = 10**6\n",
    "g_per_kg = 10**3\n",
    "d = E_absorbed * ev_per_mev * g_per_kg * joules_per_ev / ((4./3. * np.pi * r**2) * materials[\"Tissue\"].density)\n",
    "print \"Dose received is {0} Gy\".format(d)"
   ]
  },
  {
   "cell_type": "markdown",
   "metadata": {},
   "source": [
    "## Part 2b ##"
   ]
  },
  {
   "cell_type": "markdown",
   "metadata": {},
   "source": [
    "What is the equivalent dose ($H_T$ in Sv) received by the eye?"
   ]
  },
  {
   "cell_type": "markdown",
   "metadata": {},
   "source": [
    "$$ H_T = Q \\times D $$ According to [ICRP publication 103](http://www.icrp.org/publication.asp?id=ICRP%20Publication%20103), pg. 58, the Q factor for $\\alpha$ particles is 20"
   ]
  },
  {
   "cell_type": "code",
   "execution_count": 23,
   "metadata": {
    "collapsed": false
   },
   "outputs": [
    {
     "name": "stdout",
     "output_type": "stream",
     "text": [
      "Effective dose is 0.00268207989188 Sv\n"
     ]
    }
   ],
   "source": [
    "q = 20\n",
    "h_t = q * d\n",
    "print \"Effective dose is {0} Sv\".format(h_t)"
   ]
  },
  {
   "cell_type": "markdown",
   "metadata": {},
   "source": [
    "## Part 2c ##"
   ]
  },
  {
   "cell_type": "markdown",
   "metadata": {},
   "source": [
    "What is the contribution to the effective dose (E in Sv) received by the eye?"
   ]
  },
  {
   "cell_type": "markdown",
   "metadata": {},
   "source": [
    "According to Anderson Table 14.2, there is no specific weighting factor assigned to the eye. There is a general $w_T$ assigned to all other portions of the body not covered by another weighting factor of 0.05. Therefore, the effective dose received by the eye in part 2b should have the same stochastic effects as a dose of $$H_T \\times w_t = 1.16 Sv \\times 0.05 $$\n",
    "\n",
    "It is worth noting that this does not account for the specific deterministic effects to the eye, which may be much more severe."
   ]
  },
  {
   "cell_type": "code",
   "execution_count": 24,
   "metadata": {
    "collapsed": false
   },
   "outputs": [
    {
     "name": "stdout",
     "output_type": "stream",
     "text": [
      "Whole body equivalent dose is 0.000134103994594 Sv\n"
     ]
    }
   ],
   "source": [
    "whole_body_equivalent_dose = h_t*0.05\n",
    "print \"Whole body equivalent dose is {0} Sv\".format(whole_body_equivalent_dose)"
   ]
  },
  {
   "cell_type": "markdown",
   "metadata": {},
   "source": [
    "# Problem 3 #"
   ]
  },
  {
   "cell_type": "markdown",
   "metadata": {},
   "source": [
    "Calculate the mass stopping powers for electrons and positrons in tungsten (Z=74, A=184) for the following energies: 1 keV, 10 keV, 20 keV, 50 keV, 100 keV, 200 keV, 500 keV, 1 MeV, 2 MeV. Use the equations given in class. Make a plot of the mass stopping power versus the energies given above for both electrons and positrons, and include the NIST values for electron mass stopping powers in tungsten in that plot."
   ]
  },
  {
   "cell_type": "markdown",
   "metadata": {},
   "source": [
    "The stopping power for an electron is described by Rohrlich and Carlson as: \n",
    "$$ \\left(-\\frac{dE}{ds}\\right) = N Z \\chi \\left[\\ln\\left(\\frac{T^2}{I^2} \\frac{\\gamma + 1}{2}\\right) + f^{\\pm}(\\gamma)\\right],$$ where $$N=\\frac{N_A Z \\rho}{M_m},$$ $$\\chi = \\frac{2 \\pi r_0^2 m_e c^2}{\\beta^2},$$ $$f^+(\\gamma) = 2 \\ln{2} - \\frac{\\beta^2}{12} \\left[23 + \\frac{14}{\\gamma+1} + \\frac{10}{{(\\gamma+1)}^2} + \\frac{4}{{(\\gamma+1)}^3}\\right],$$ and $$ f^-(\\gamma) = 1 - \\beta^2 - \\frac{2 \\gamma - 1}{\\gamma^2}\\ln{2} + \\frac{1}{8}{\\left( \\frac{\\gamma - 1}{\\gamma}\\right) }^2$$\n",
    "\n",
    "For electrons, we use the $f^-$ equation; for positrons we use the $f^+$ equation."
   ]
  },
  {
   "cell_type": "code",
   "execution_count": 25,
   "metadata": {
    "collapsed": false
   },
   "outputs": [
    {
     "name": "stdout",
     "output_type": "stream",
     "text": [
      "Avogadro's number: 6.022140857e+23\n",
      "Classical electron radius: 2.8179403227e-13 cm\n",
      "Electron mass: 0.5109989461\n"
     ]
    }
   ],
   "source": [
    "N_A = const.Avogadro\n",
    "print \"Avogadro's number: {0}\".format(N_A)\n",
    "r_0 = const.value('classical electron radius') * 100. # convert to cm\n",
    "print \"Classical electron radius: {0} cm\".format(r_0)\n",
    "m_e = const.value('electron mass energy equivalent in MeV')\n",
    "print \"Electron mass: {0}\".format(m_e)\n",
    "Z = 74.\n",
    "A = 184.\n",
    "I = 727 * 10**-6 # MeV, from http://physics.nist.gov/cgi-bin/Star/compos.pl?matno=074\n",
    "rho = 19.3 # g/cm^3, from http://physics.nist.gov/cgi-bin/Star/compos.pl?matno=074\n",
    "T = np.array([1., 10., 20., 50., 100., 200., 500., 1000., 2000.]) / 1000. # convert to MeV"
   ]
  },
  {
   "cell_type": "code",
   "execution_count": 26,
   "metadata": {
    "collapsed": true
   },
   "outputs": [],
   "source": [
    "# utility functions to calculate gamma^2 and beta^2 given a mass and a kinetic energy\n",
    "from stoppingpower.utility import beta_2, gamma_2"
   ]
  },
  {
   "cell_type": "code",
   "execution_count": 27,
   "metadata": {
    "collapsed": false
   },
   "outputs": [],
   "source": [
    "def F_plus(T):\n",
    "    g_2 = gamma_2(m=m_e, T=T)\n",
    "    g = g_2 ** 0.5\n",
    "    b_2 = beta_2(m=m_e, T=T)    \n",
    "\n",
    "    first = 23.\n",
    "    second = 14. / (g + 1.)\n",
    "    third = 10. / (g + 1.)**2\n",
    "    fourth = 4. / (g + 1)**3\n",
    "    \n",
    "    f = 2. * np.log(2.) - (b_2 / 12.) * (first + second + third + fourth)\n",
    "    \n",
    "    return f\n",
    "\n",
    "def F_minus(T):\n",
    "    g_2 = gamma_2(m=m_e, T=T)\n",
    "    g = g_2 ** 0.5\n",
    "    b_2 = beta_2(m=m_e, T=T)\n",
    "    tau = T / m_e\n",
    "    \n",
    "    f = 1. - b_2 - (1. / g_2) * (2. * g - 1.) * np.log(2.) + (1. / 8) * ((g - 1) / g) ** 2\n",
    "    \n",
    "    return f\n",
    " \n",
    "def electron_stopping_power(T, I, plus=True):\n",
    "    g = gamma_2(m=m_e, T=T) ** (0.5)\n",
    "    b_2 = beta_2(m=m_e, T=T)\n",
    "    \n",
    "    if plus:\n",
    "        f = F_plus(T)\n",
    "    else:\n",
    "        f = F_minus(T)\n",
    "    \n",
    "    X = 2 * np.pi * r_0**2 * m_e / b_2\n",
    "        \n",
    "    first = N_A * Z * X / A\n",
    "    logpart = (T**2 * (g + 1.)) / (I**2 * 2)\n",
    "    \n",
    "    return first * (np.log(logpart) + f)"
   ]
  },
  {
   "cell_type": "code",
   "execution_count": 28,
   "metadata": {
    "collapsed": true
   },
   "outputs": [],
   "source": [
    "result = pd.DataFrame(index=T)"
   ]
  },
  {
   "cell_type": "code",
   "execution_count": 29,
   "metadata": {
    "collapsed": true
   },
   "outputs": [],
   "source": [
    "estar_results = np.array([14.91, 8.974, 5.753, 3.137, 2.047, 1.439, 1.085, 1.016, 1.037])"
   ]
  },
  {
   "cell_type": "code",
   "execution_count": 30,
   "metadata": {
    "collapsed": false
   },
   "outputs": [
    {
     "data": {
      "text/html": [
       "<div>\n",
       "<table border=\"1\" class=\"dataframe\">\n",
       "  <thead>\n",
       "    <tr style=\"text-align: right;\">\n",
       "      <th></th>\n",
       "      <th>Electron stopping power</th>\n",
       "      <th>Positron stopping power</th>\n",
       "      <th>eStar reference values</th>\n",
       "      <th>error</th>\n",
       "    </tr>\n",
       "  </thead>\n",
       "  <tbody>\n",
       "    <tr>\n",
       "      <th>0.001</th>\n",
       "      <td>14.898861</td>\n",
       "      <td>31.870934</td>\n",
       "      <td>14.910</td>\n",
       "      <td>-0.000747</td>\n",
       "    </tr>\n",
       "    <tr>\n",
       "      <th>0.010</th>\n",
       "      <td>8.968007</td>\n",
       "      <td>10.613291</td>\n",
       "      <td>8.974</td>\n",
       "      <td>-0.000668</td>\n",
       "    </tr>\n",
       "    <tr>\n",
       "      <th>0.020</th>\n",
       "      <td>5.750050</td>\n",
       "      <td>6.544161</td>\n",
       "      <td>5.753</td>\n",
       "      <td>-0.000513</td>\n",
       "    </tr>\n",
       "    <tr>\n",
       "      <th>0.050</th>\n",
       "      <td>3.137116</td>\n",
       "      <td>3.421265</td>\n",
       "      <td>3.137</td>\n",
       "      <td>0.000037</td>\n",
       "    </tr>\n",
       "    <tr>\n",
       "      <th>0.100</th>\n",
       "      <td>2.048300</td>\n",
       "      <td>2.163544</td>\n",
       "      <td>2.047</td>\n",
       "      <td>0.000635</td>\n",
       "    </tr>\n",
       "    <tr>\n",
       "      <th>0.200</th>\n",
       "      <td>1.443405</td>\n",
       "      <td>1.475774</td>\n",
       "      <td>1.439</td>\n",
       "      <td>0.003061</td>\n",
       "    </tr>\n",
       "    <tr>\n",
       "      <th>0.500</th>\n",
       "      <td>1.097048</td>\n",
       "      <td>1.082607</td>\n",
       "      <td>1.085</td>\n",
       "      <td>0.011104</td>\n",
       "    </tr>\n",
       "    <tr>\n",
       "      <th>1.000</th>\n",
       "      <td>1.039923</td>\n",
       "      <td>1.011772</td>\n",
       "      <td>1.016</td>\n",
       "      <td>0.023546</td>\n",
       "    </tr>\n",
       "    <tr>\n",
       "      <th>2.000</th>\n",
       "      <td>1.081613</td>\n",
       "      <td>1.047357</td>\n",
       "      <td>1.037</td>\n",
       "      <td>0.043021</td>\n",
       "    </tr>\n",
       "  </tbody>\n",
       "</table>\n",
       "</div>"
      ],
      "text/plain": [
       "       Electron stopping power  Positron stopping power  \\\n",
       "0.001                14.898861                31.870934   \n",
       "0.010                 8.968007                10.613291   \n",
       "0.020                 5.750050                 6.544161   \n",
       "0.050                 3.137116                 3.421265   \n",
       "0.100                 2.048300                 2.163544   \n",
       "0.200                 1.443405                 1.475774   \n",
       "0.500                 1.097048                 1.082607   \n",
       "1.000                 1.039923                 1.011772   \n",
       "2.000                 1.081613                 1.047357   \n",
       "\n",
       "       eStar reference values     error  \n",
       "0.001                  14.910 -0.000747  \n",
       "0.010                   8.974 -0.000668  \n",
       "0.020                   5.753 -0.000513  \n",
       "0.050                   3.137  0.000037  \n",
       "0.100                   2.047  0.000635  \n",
       "0.200                   1.439  0.003061  \n",
       "0.500                   1.085  0.011104  \n",
       "1.000                   1.016  0.023546  \n",
       "2.000                   1.037  0.043021  "
      ]
     },
     "execution_count": 30,
     "metadata": {},
     "output_type": "execute_result"
    }
   ],
   "source": [
    "result['Electron stopping power'] = electron_stopping_power(T, I, plus=False)\n",
    "result['Positron stopping power'] = electron_stopping_power(T, I, plus=True)\n",
    "result['eStar reference values'] = estar_results\n",
    "result['error'] =\\\n",
    "        (result['Electron stopping power'] - result['eStar reference values']) / result['eStar reference values']\n",
    "result"
   ]
  },
  {
   "cell_type": "code",
   "execution_count": 31,
   "metadata": {
    "collapsed": false
   },
   "outputs": [
    {
     "data": {
      "text/plain": [
       "<matplotlib.text.Text at 0x1131bebd0>"
      ]
     },
     "execution_count": 31,
     "metadata": {},
     "output_type": "execute_result"
    },
    {
     "data": {
      "image/png": "[encoded data removed]",
      "text/plain": [
       "<matplotlib.figure.Figure at 0x11306c450>"
      ]
     },
     "metadata": {},
     "output_type": "display_data"
    }
   ],
   "source": [
    "ax = result.ix[:, result.columns.difference(['error'])].plot(loglog=True)\n",
    "ax.set_xlabel(r'Mass Stopping Power ($\\frac{MeV cm^2}{g}$)')\n",
    "ax.set_ylabel('Particle Energy')"
   ]
  },
  {
   "cell_type": "markdown",
   "metadata": {
    "collapsed": true
   },
   "source": [
    "As can be seen in the error column above, this equation holds very well when energies are low, but as kinetic energy approaches rest mass energy it begins to diverge from reality (as reported by eStar) due to relativistic effects."
   ]
  },
  {
   "cell_type": "markdown",
   "metadata": {},
   "source": [
    "# Problem 4 #"
   ]
  },
  {
   "cell_type": "markdown",
   "metadata": {},
   "source": [
    "Starting with the Klein-Nishina equation, calculate the mass attenuation coefficient for Compton scattering of 1 keV, 10 keV, 100 keV, 200 keV, 500 keV, 1 MeV, and 2 MeV photons on carbon, aluminum, and lead. Compare your values with the appropriate values found in the NIST XCOM tables."
   ]
  },
  {
   "cell_type": "code",
   "execution_count": 32,
   "metadata": {
    "collapsed": true
   },
   "outputs": [],
   "source": [
    "E = np.array([1., 10., 100., 200., 500., 1000., 2000.]) / 1000. # MeV\n",
    "xstar_carbon = np.array([1.263e-2, 1.352e-1, 1.466e-1, 1.219e-1, 8.699e-2, 6.358e-2, 4.410e-2])\n",
    "xstar_aluminum = np.array([1.427e-2, 1.058e-1, 1.388e-1, 1.168e-1, 8.374e-2, 6.129e-2, 4.252e-2])\n",
    "xstar_lead = np.array([3.587e-3, 4.540e-2, 9.894e-2, 8.966e-2, 6.734e-2, 4.993e-2, 3.482e-2])"
   ]
  },
  {
   "cell_type": "code",
   "execution_count": 33,
   "metadata": {
    "collapsed": true
   },
   "outputs": [],
   "source": [
    "def klein_nishina(E):\n",
    "    a = E / m_e # convert from keV to MeV\n",
    "    \n",
    "    c = np.pi * r_0**2\n",
    "    first = ((2. * (1. + a)) / a**2) * (((2. * (1. + a)) / (1. + 2. * a)) - (np.log(1. + 2. * a) / a))\n",
    "    second = np.log(1. + 2. * a) / a\n",
    "    third = 2. * (1. + 3. * a) / (1. + 2. * a)**2\n",
    "    \n",
    "    result = c * (first + second - third)\n",
    "    \n",
    "    return result\n",
    "\n",
    "def mass_attenuation(E, material):\n",
    "    return klein_nishina(E) * N_A * material.Z / material.mass"
   ]
  },
  {
   "cell_type": "code",
   "execution_count": 34,
   "metadata": {
    "collapsed": false
   },
   "outputs": [
    {
     "data": {
      "text/plain": [
       "array([ 0.19935183,  0.19267773,  0.14823741,  0.12228532,  0.08699218,\n",
       "        0.06353933,  0.04403033])"
      ]
     },
     "execution_count": 34,
     "metadata": {},
     "output_type": "execute_result"
    }
   ],
   "source": [
    "mass_attenuation(E, materials['Carbon, 6'])"
   ]
  },
  {
   "cell_type": "code",
   "execution_count": 35,
   "metadata": {
    "collapsed": false
   },
   "outputs": [
    {
     "data": {
      "text/html": [
       "<div>\n",
       "<table border=\"1\" class=\"dataframe\">\n",
       "  <thead>\n",
       "    <tr style=\"text-align: right;\">\n",
       "      <th></th>\n",
       "      <th>Aluminum</th>\n",
       "      <th>Carbon</th>\n",
       "      <th>Lead</th>\n",
       "    </tr>\n",
       "  </thead>\n",
       "  <tbody>\n",
       "    <tr>\n",
       "      <th>0.001</th>\n",
       "      <td>0.192272</td>\n",
       "      <td>0.199352</td>\n",
       "      <td>0.157916</td>\n",
       "    </tr>\n",
       "    <tr>\n",
       "      <th>0.010</th>\n",
       "      <td>0.185835</td>\n",
       "      <td>0.192678</td>\n",
       "      <td>0.152630</td>\n",
       "    </tr>\n",
       "    <tr>\n",
       "      <th>0.100</th>\n",
       "      <td>0.142973</td>\n",
       "      <td>0.148237</td>\n",
       "      <td>0.117426</td>\n",
       "    </tr>\n",
       "    <tr>\n",
       "      <th>0.200</th>\n",
       "      <td>0.117942</td>\n",
       "      <td>0.122285</td>\n",
       "      <td>0.096868</td>\n",
       "    </tr>\n",
       "    <tr>\n",
       "      <th>0.500</th>\n",
       "      <td>0.083903</td>\n",
       "      <td>0.086992</td>\n",
       "      <td>0.068911</td>\n",
       "    </tr>\n",
       "    <tr>\n",
       "      <th>1.000</th>\n",
       "      <td>0.061283</td>\n",
       "      <td>0.063539</td>\n",
       "      <td>0.050333</td>\n",
       "    </tr>\n",
       "    <tr>\n",
       "      <th>2.000</th>\n",
       "      <td>0.042467</td>\n",
       "      <td>0.044030</td>\n",
       "      <td>0.034879</td>\n",
       "    </tr>\n",
       "  </tbody>\n",
       "</table>\n",
       "</div>"
      ],
      "text/plain": [
       "       Aluminum    Carbon      Lead\n",
       "0.001  0.192272  0.199352  0.157916\n",
       "0.010  0.185835  0.192678  0.152630\n",
       "0.100  0.142973  0.148237  0.117426\n",
       "0.200  0.117942  0.122285  0.096868\n",
       "0.500  0.083903  0.086992  0.068911\n",
       "1.000  0.061283  0.063539  0.050333\n",
       "2.000  0.042467  0.044030  0.034879"
      ]
     },
     "execution_count": 35,
     "metadata": {},
     "output_type": "execute_result"
    }
   ],
   "source": [
    "results = pd.DataFrame(\n",
    "    {\n",
    "        \"Carbon\": mass_attenuation(E, materials['Carbon, 6']),\n",
    "        \"Aluminum\": mass_attenuation(E, materials['Aluminum, 13']),\n",
    "        \"Lead\": mass_attenuation(E, materials['Lead, 82'])\n",
    "    },\n",
    "    index=E\n",
    ")\n",
    "results"
   ]
  },
  {
   "cell_type": "code",
   "execution_count": 36,
   "metadata": {
    "collapsed": false
   },
   "outputs": [
    {
     "data": {
      "image/png": "[encoded data removed]",
      "text/plain": [
       "<matplotlib.figure.Figure at 0x1136bcf10>"
      ]
     },
     "metadata": {},
     "output_type": "display_data"
    }
   ],
   "source": [
    "plt.figure(figsize=(18, 4))\n",
    "\n",
    "plt.subplot(131)\n",
    "plt.plot(E, results[\"Carbon\"], label=\"Calculated\")\n",
    "plt.plot(E, xstar_carbon, label=\"XSTAR values\")\n",
    "plt.yscale('log')\n",
    "plt.xscale('log')\n",
    "plt.xlabel(\"Photon Energy (MeV)\")\n",
    "plt.ylabel(r'Mass attenuation coefficient $\\left(cm^2/g\\right)$')\n",
    "plt.legend(loc='upper right')\n",
    "plt.title(\"Carbon\")\n",
    "\n",
    "plt.subplot(132)\n",
    "plt.plot(E, results[\"Aluminum\"], label=\"Calculated\")\n",
    "plt.plot(E, xstar_aluminum, label=\"XSTAR values\")\n",
    "plt.yscale('log')\n",
    "plt.xscale('log')\n",
    "plt.xlabel(\"Photon Energy (MeV)\")\n",
    "plt.ylabel(r'Mass attenuation coefficient $\\left(cm^2/g\\right)$')\n",
    "plt.legend(loc='upper right')\n",
    "plt.title(\"Aluminum\")\n",
    "\n",
    "plt.subplot(133)\n",
    "plt.plot(E, results[\"Lead\"], label=\"Calculated\")\n",
    "plt.plot(E, xstar_lead, label=\"XSTAR values\")\n",
    "plt.yscale('log')\n",
    "plt.xscale('log')\n",
    "plt.xlabel(\"Photon Energy (MeV)\")\n",
    "plt.ylabel(r'Mass attenuation coefficient $\\left(cm^2/g\\right)$')\n",
    "plt.legend(loc='upper right')\n",
    "plt.title(\"Lead\")\n",
    "\n",
    "plt.show()"
   ]
  },
  {
   "cell_type": "markdown",
   "metadata": {},
   "source": [
    "These values agree at high energies, but diverge at low energies, as expected. the Compton scattering coefficient relates to the Klein-Nishina cross section by $$d \\sigma_{IS} = d \\sigma_{KN} \\times S(h \\nu, \\theta^\\prime, Z) $$ Unfortunately this value has not been calculated and must be determined [experimentally](http://www.sciencedirect.com/science/article/pii/S0969806X97000492)."
   ]
  },
  {
   "cell_type": "markdown",
   "metadata": {},
   "source": [
    "# Problem 5 #"
   ]
  },
  {
   "cell_type": "markdown",
   "metadata": {},
   "source": [
    "Using the same energies given in No. 4, calculate the fraction of photons that undergo coherent scattering, photo-electric, Compton scattering and pair production through 2 cm of aluminum. Also calculate the fraction of photon energy absorbed by the Aluminum."
   ]
  },
  {
   "cell_type": "markdown",
   "metadata": {},
   "source": [
    "Using the mass attenuation values from [XCOM](http://physics.nist.gov/cgi-bin/Xcom/xcom3_1) for Aluminum"
   ]
  },
  {
   "cell_type": "code",
   "execution_count": 37,
   "metadata": {
    "collapsed": false
   },
   "outputs": [],
   "source": [
    "coherent = np.array([2.26E+00, 5.51E-01, 1.32E-02, 3.50E-03, 5.73E-04, 1.44E-04, 3.60E-05])\n",
    "incoherent = np.array([1.43E-02, 1.06E-01, 1.39E-01, 1.17E-01, 8.37E-02, 6.13E-02, 4.25E-02])\n",
    "photoelectric = np.array([1.18E+03, 2.56E+01, 1.84E-02, 2.00E-03, 1.34E-04, 2.64E-05, 7.63E-06])\n",
    "pairproduction = np.array([0.00E+00, 0.00E+00, 0.00E+00, 0.00E+00, 0.00E+00, 0.00E+00, 6.75E-04])\n",
    "total = np.array([1.183E+03, 2.566E+01, 1.572E-01, 1.188E-01, 8.388E-02, 6.132E-02, 4.320E-02])"
   ]
  },
  {
   "cell_type": "markdown",
   "metadata": {},
   "source": [
    "To determine energy absorbed for these photons, we use the mass attenuation coefficient in Appendix 9"
   ]
  },
  {
   "cell_type": "code",
   "execution_count": 38,
   "metadata": {
    "collapsed": true
   },
   "outputs": [],
   "source": [
    "absorption = np.array(\n",
    "    [52500., 1140., 1.67, 1.22, 1.30, 1.20, 1.01]) * 0.002232 * 100 * 100 / 1000 # Convert from m^2/kg to cm^2/g"
   ]
  },
  {
   "cell_type": "code",
   "execution_count": 39,
   "metadata": {
    "collapsed": true
   },
   "outputs": [],
   "source": [
    "t = 2. # cm\n",
    "mat = materials['Aluminum, 13']\n",
    "rho = mat.density"
   ]
  },
  {
   "cell_type": "markdown",
   "metadata": {
    "collapsed": true
   },
   "source": [
    "The fraction undergoing each type of interaction is  $e^{\\frac{\\mu}{\\rho} \\times\\rho \\times t}$"
   ]
  },
  {
   "cell_type": "code",
   "execution_count": 40,
   "metadata": {
    "collapsed": false
   },
   "outputs": [
    {
     "data": {
      "text/html": [
       "<div>\n",
       "<table border=\"1\" class=\"dataframe\">\n",
       "  <thead>\n",
       "    <tr style=\"text-align: right;\">\n",
       "      <th></th>\n",
       "      <th>Energy</th>\n",
       "      <th>Coherent</th>\n",
       "      <th>Incoherent</th>\n",
       "      <th>Photoelectric</th>\n",
       "      <th>Pair Production</th>\n",
       "      <th>Energy fraction deposited</th>\n",
       "    </tr>\n",
       "  </thead>\n",
       "  <tbody>\n",
       "    <tr>\n",
       "      <th>0</th>\n",
       "      <td>0.001</td>\n",
       "      <td>0.999995</td>\n",
       "      <td>0.074285</td>\n",
       "      <td>1.000000</td>\n",
       "      <td>0.000000</td>\n",
       "      <td>1.000000</td>\n",
       "    </tr>\n",
       "    <tr>\n",
       "      <th>1</th>\n",
       "      <td>0.010</td>\n",
       "      <td>0.948911</td>\n",
       "      <td>0.435699</td>\n",
       "      <td>1.000000</td>\n",
       "      <td>0.000000</td>\n",
       "      <td>1.000000</td>\n",
       "    </tr>\n",
       "    <tr>\n",
       "      <th>2</th>\n",
       "      <td>0.100</td>\n",
       "      <td>0.068772</td>\n",
       "      <td>0.527772</td>\n",
       "      <td>0.094547</td>\n",
       "      <td>0.000000</td>\n",
       "      <td>0.182251</td>\n",
       "    </tr>\n",
       "    <tr>\n",
       "      <th>3</th>\n",
       "      <td>0.200</td>\n",
       "      <td>0.018715</td>\n",
       "      <td>0.468229</td>\n",
       "      <td>0.010738</td>\n",
       "      <td>0.000000</td>\n",
       "      <td>0.136692</td>\n",
       "    </tr>\n",
       "    <tr>\n",
       "      <th>4</th>\n",
       "      <td>0.500</td>\n",
       "      <td>0.003088</td>\n",
       "      <td>0.363516</td>\n",
       "      <td>0.000723</td>\n",
       "      <td>0.000000</td>\n",
       "      <td>0.144973</td>\n",
       "    </tr>\n",
       "    <tr>\n",
       "      <th>5</th>\n",
       "      <td>1.000</td>\n",
       "      <td>0.000777</td>\n",
       "      <td>0.281712</td>\n",
       "      <td>0.000142</td>\n",
       "      <td>0.000000</td>\n",
       "      <td>0.134610</td>\n",
       "    </tr>\n",
       "    <tr>\n",
       "      <th>6</th>\n",
       "      <td>2.000</td>\n",
       "      <td>0.000194</td>\n",
       "      <td>0.204995</td>\n",
       "      <td>0.000041</td>\n",
       "      <td>0.003637</td>\n",
       "      <td>0.114572</td>\n",
       "    </tr>\n",
       "  </tbody>\n",
       "</table>\n",
       "</div>"
      ],
      "text/plain": [
       "   Energy  Coherent  Incoherent  Photoelectric  Pair Production  \\\n",
       "0   0.001  0.999995    0.074285       1.000000         0.000000   \n",
       "1   0.010  0.948911    0.435699       1.000000         0.000000   \n",
       "2   0.100  0.068772    0.527772       0.094547         0.000000   \n",
       "3   0.200  0.018715    0.468229       0.010738         0.000000   \n",
       "4   0.500  0.003088    0.363516       0.000723         0.000000   \n",
       "5   1.000  0.000777    0.281712       0.000142         0.000000   \n",
       "6   2.000  0.000194    0.204995       0.000041         0.003637   \n",
       "\n",
       "   Energy fraction deposited  \n",
       "0                   1.000000  \n",
       "1                   1.000000  \n",
       "2                   0.182251  \n",
       "3                   0.136692  \n",
       "4                   0.144973  \n",
       "5                   0.134610  \n",
       "6                   0.114572  "
      ]
     },
     "execution_count": 40,
     "metadata": {},
     "output_type": "execute_result"
    }
   ],
   "source": [
    "results = pd.DataFrame(\n",
    "    {\n",
    "        \"Energy\": E,\n",
    "        \"Coherent\": 1 - np.exp(-1. * coherent * rho * t),\n",
    "        \"Incoherent\": 1 - np.exp(-1. * incoherent * rho * t),\n",
    "        \"Photoelectric\": 1 - np.exp(-1. * photoelectric * rho * t),\n",
    "        \"Pair Production\": 1 - np.exp(-1. * pairproduction * rho * t),\n",
    "        \"Total\": 1 - np.exp(-1. * total * rho * t),\n",
    "        \"Energy fraction deposited\": (1 - np.exp(-1. * absorption * rho * t))\n",
    "    }\n",
    ")\n",
    "results.set_index('Energy')\n",
    "results = results[['Energy', 'Coherent', 'Incoherent', 'Photoelectric', 'Pair Production', 'Energy fraction deposited']]\n",
    "results"
   ]
  },
  {
   "cell_type": "markdown",
   "metadata": {},
   "source": [
    "# Problem 6 #"
   ]
  },
  {
   "cell_type": "markdown",
   "metadata": {
    "collapsed": true
   },
   "source": [
    "$^{229}$Th decays into $^{225}$Ra, which then decays into $^{225}$Ac and $^{213}$Bi, two isotopes important for \"targeted alpha therapy\" (TAT), a medical technique used to kill tumors. The supply of $^{229}$Th has traditionally come from the stockpile of $^{233}$U (which alpha decays into $^{229}$Th). The amount of $^{229}$Th generated this way is very limited, so alternate methods of production are being explored. One method is to bombard a $^{232}$Th target with energetic protons that then produce $^{229}$Th through the following reactions:\n",
    "\n",
    "1.  $^{232}$Th(p,nt)$^{229}$Th\n",
    "2.  $^{232}$Th(p,2nd)$^{229}$Th\n",
    "3.  $^{232}$Th(p,3np)$^{229}$Th\n",
    "\n",
    "Calculate the proton threshold kinetic energy (in MeV) required for these three reactions. Show your method for calculating these threshold energies."
   ]
  },
  {
   "cell_type": "markdown",
   "metadata": {},
   "source": [
    "Mass excess values are obtained from Anderson Appendix 5"
   ]
  },
  {
   "cell_type": "code",
   "execution_count": 41,
   "metadata": {
    "collapsed": false
   },
   "outputs": [
    {
     "name": "stdout",
     "output_type": "stream",
     "text": [
      "931.4940954 MeV/amu\n"
     ]
    }
   ],
   "source": [
    "# Mass energy equivalence, MeV/amu\n",
    "mev_per_amu = const.value('atomic mass constant energy equivalent in MeV')\n",
    "print \"{0} MeV/amu\".format(mev_per_amu)"
   ]
  },
  {
   "cell_type": "code",
   "execution_count": 42,
   "metadata": {
    "collapsed": true
   },
   "outputs": [],
   "source": [
    "# values are in keV\n",
    "mass_excess = { # from Anderson Appendix 5\n",
    "    \"proton\": 7288.99,\n",
    "    \"neutron\": 8071.44,\n",
    "    \"deuteron\": 13135.91,\n",
    "    \"triton\": 14949.95,\n",
    "    \"229Th\": 29483.,\n",
    "    \"232Th\": 35512.\n",
    "}\n",
    "mass = { \n",
    "    \"proton\": 938.272046, # from NIST CODATA\n",
    "    \"neutron\": 939.56541, # from NIST CODATA\n",
    "    \"deuteron\": 1875.612928, # from NIST CODATA\n",
    "    \"triton\": 2808.921112, # from NIST CODATA\n",
    "    \"229Th\": 229.031762 * mev_per_amu, # Wikipedia\n",
    "    \"232Th\": 232.0380553 * mev_per_amu # Wikipedia\n",
    "}"
   ]
  },
  {
   "cell_type": "code",
   "execution_count": 43,
   "metadata": {
    "collapsed": true
   },
   "outputs": [],
   "source": [
    "def q(parent_delta_e_list, daughter_delta_e_list):\n",
    "    parent_q = sum([mass_excess.get(p) for p in parent_delta_e_list])\n",
    "    daughter_q = sum([mass_excess.get(d) for d in daughter_delta_e_list])\n",
    "    \n",
    "    return parent_q - daughter_q"
   ]
  },
  {
   "cell_type": "code",
   "execution_count": 44,
   "metadata": {
    "collapsed": true
   },
   "outputs": [],
   "source": [
    "# threshold energy is in keV\n",
    "def threshold_energy(parent_list, daughter_list):\n",
    "    Q = abs(min([q(parent_list, daughter_list), 0]))\n",
    "    \n",
    "    if Q == 0:\n",
    "        return 0.\n",
    "    else:\n",
    "        numerator = Q\n",
    "        denominator = 1. - mass.get(\"proton\") / (sum([mass.get(i) for i in daughter_list]))\n",
    "        return numerator / denominator"
   ]
  },
  {
   "cell_type": "markdown",
   "metadata": {},
   "source": [
    "$^{232}$Th(p,nt)$^{229}$Th"
   ]
  },
  {
   "cell_type": "code",
   "execution_count": 45,
   "metadata": {
    "collapsed": false
   },
   "outputs": [
    {
     "data": {
      "text/plain": [
       "9745.520503825881"
      ]
     },
     "execution_count": 45,
     "metadata": {},
     "output_type": "execute_result"
    }
   ],
   "source": [
    "threshold_energy([\"232Th\", \"proton\"], [\"229Th\", \"neutron\", \"triton\"])"
   ]
  },
  {
   "cell_type": "markdown",
   "metadata": {},
   "source": [
    "$^{232}$Th(p,2nd)$^{229}$Th"
   ]
  },
  {
   "cell_type": "code",
   "execution_count": 46,
   "metadata": {
    "collapsed": false
   },
   "outputs": [
    {
     "data": {
      "text/plain": [
       "16030.080610587012"
      ]
     },
     "execution_count": 46,
     "metadata": {},
     "output_type": "execute_result"
    }
   ],
   "source": [
    "threshold_energy([\"232Th\", \"proton\"], [\"229Th\", \"neutron\", \"neutron\", \"deuteron\"])"
   ]
  },
  {
   "cell_type": "markdown",
   "metadata": {},
   "source": [
    "$^{232}$Th(p,3np)$^{229}$Th"
   ]
  },
  {
   "cell_type": "code",
   "execution_count": 47,
   "metadata": {
    "collapsed": false
   },
   "outputs": [
    {
     "data": {
      "text/plain": [
       "18264.255711723028"
      ]
     },
     "execution_count": 47,
     "metadata": {},
     "output_type": "execute_result"
    }
   ],
   "source": [
    "threshold_energy([\"232Th\", \"proton\"], [\"229Th\", \"neutron\", \"neutron\", \"neutron\", \"proton\"])"
   ]
  },
  {
   "cell_type": "code",
   "execution_count": null,
   "metadata": {
    "collapsed": true
   },
   "outputs": [],
   "source": []
  }
 ],
 "metadata": {
  "anaconda-cloud": {},
  "kernelspec": {
   "display_name": "Python [conda env:nuc]",
   "language": "python",
   "name": "conda-env-nuc-py"
  },
  "language_info": {
   "codemirror_mode": {
    "name": "ipython",
    "version": 2
   },
   "file_extension": ".py",
   "mimetype": "text/x-python",
   "name": "python",
   "nbconvert_exporter": "python",
   "pygments_lexer": "ipython2",
   "version": "2.7.12"
  },
  "latex_envs": {
   "bibliofile": "biblio.bib",
   "cite_by": "apalike",
   "current_citInitial": 1,
   "eqLabelWithNumbers": true,
   "eqNumInitial": 0
  }
 },
 "nbformat": 4,
 "nbformat_minor": 1
}
