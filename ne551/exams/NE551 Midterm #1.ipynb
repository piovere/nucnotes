{
 "cells": [
  {
   "cell_type": "markdown",
   "metadata": {
    "heading_collapsed": true
   },
   "source": [
    "# Problem 1 #"
   ]
  },
  {
   "cell_type": "code",
   "execution_count": 63,
   "metadata": {
    "collapsed": false,
    "hidden": true
   },
   "outputs": [],
   "source": [
    "import numpy as np\n",
    "from stoppingpower.cmsp import S_c\n",
    "from stoppingpower.range import rangeout\n",
    "from stoppingpower.range import nuclear_fraction\n",
    "from stoppingpower.range import exit_energy\n",
    "from stoppingpower.range import energy_deposition\n",
    "from stoppingpower.materials import materials\n",
    "import pandas as pd\n",
    "import scipy.constants as const"
   ]
  },
  {
   "cell_type": "code",
   "execution_count": 51,
   "metadata": {
    "collapsed": false,
    "hidden": true
   },
   "outputs": [
    {
     "data": {
      "text/plain": [
       "15.875464708225147"
      ]
     },
     "execution_count": 51,
     "metadata": {},
     "output_type": "execute_result"
    }
   ],
   "source": [
    "t = rangeout(1.0, materials['Water'], 150., 1.0)\n",
    "t"
   ]
  },
  {
   "cell_type": "code",
   "execution_count": 52,
   "metadata": {
    "collapsed": false,
    "hidden": true
   },
   "outputs": [],
   "source": [
    "water_thickness = np.arange(0., t, 2.)"
   ]
  },
  {
   "cell_type": "code",
   "execution_count": 53,
   "metadata": {
    "collapsed": false,
    "hidden": true
   },
   "outputs": [],
   "source": [
    "water_thickness = np.append(water_thickness, np.arange(water_thickness[-1]+0.2, t-0.4, 0.2))"
   ]
  },
  {
   "cell_type": "code",
   "execution_count": 54,
   "metadata": {
    "collapsed": false,
    "hidden": true
   },
   "outputs": [
    {
     "data": {
      "text/plain": [
       "array([  0.        ,   2.        ,   4.        ,   6.        ,\n",
       "         8.        ,  10.        ,  12.        ,  14.        ,\n",
       "        14.2       ,  14.4       ,  14.6       ,  14.8       ,\n",
       "        15.        ,  15.2       ,  15.4       ,  15.5       ,\n",
       "        15.6       ,  15.7       ,  15.8       ,  15.87546471])"
      ]
     },
     "execution_count": 54,
     "metadata": {},
     "output_type": "execute_result"
    }
   ],
   "source": [
    "water_thickness = np.append(water_thickness, np.arange(water_thickness[-1]+0.1, t, 0.1))\n",
    "water_thickness = np.append(water_thickness, t)\n",
    "water_thickness"
   ]
  },
  {
   "cell_type": "code",
   "execution_count": 55,
   "metadata": {
    "collapsed": true,
    "hidden": true
   },
   "outputs": [],
   "source": [
    "T0 = 150. # MeV"
   ]
  },
  {
   "cell_type": "code",
   "execution_count": 56,
   "metadata": {
    "collapsed": true,
    "hidden": true
   },
   "outputs": [],
   "source": [
    "T1 = exit_energy(1., materials[\"Air\"], T0, 1., 1.)"
   ]
  },
  {
   "cell_type": "code",
   "execution_count": 57,
   "metadata": {
    "collapsed": true,
    "hidden": true
   },
   "outputs": [],
   "source": [
    "E_IC1 = energy_deposition(1., materials[\"Air\"], T0, 1., 1.)"
   ]
  },
  {
   "cell_type": "code",
   "execution_count": 65,
   "metadata": {
    "collapsed": false,
    "hidden": true
   },
   "outputs": [
    {
     "data": {
      "text/plain": [
       "4.36361735121795e-17"
      ]
     },
     "execution_count": 65,
     "metadata": {},
     "output_type": "execute_result"
    }
   ],
   "source": [
    "energy_per_ion_pair = 35.2 # for proton in air, Anderson table 11.1\n",
    "diameter = 10. # cm\n",
    "charge_per_proton = const.value('elementary charge') # 1.602e-19 C\n",
    "flux = 10**5 # protons per cm^2 per s\n",
    "\n",
    "def current(T_deposited_per_proton, flux, diameter):\n",
    "    radius = diameter / 2.\n",
    "    area = np.pi * radius ** 2\n",
    "    \n",
    "    ion_pairs_per_proton = T_deposited_per_proton / energy_per_ion_pair\n",
    "    \n",
    "    protons_per_second = flux * diameter\n",
    "    \n",
    "    current = ion_pairs_per_proton * protons_per_second * charge_per_proton\n",
    "    \n",
    "    return current\n",
    "\n",
    "I_IC1 = current(E_IC1, flux, diameter)"
   ]
  },
  {
   "cell_type": "code",
   "execution_count": 58,
   "metadata": {
    "collapsed": false,
    "hidden": true
   },
   "outputs": [],
   "source": [
    "T2 = [exit_energy(1., materials[\"Water\"], T1, 1., t) for t in water_thickness]"
   ]
  },
  {
   "cell_type": "code",
   "execution_count": 59,
   "metadata": {
    "collapsed": false,
    "hidden": true
   },
   "outputs": [],
   "source": [
    "T3 = [exit_energy(1., materials[\"Air\"], T, 1., 1.) for T in T2]"
   ]
  },
  {
   "cell_type": "code",
   "execution_count": 67,
   "metadata": {
    "collapsed": false,
    "hidden": true
   },
   "outputs": [],
   "source": [
    "E_IC2 = np.array([energy_deposition(1., materials[\"Air\"], T, 1., 1.) for T in T2])"
   ]
  },
  {
   "cell_type": "code",
   "execution_count": 68,
   "metadata": {
    "collapsed": false,
    "hidden": true
   },
   "outputs": [
    {
     "data": {
      "text/plain": [
       "array([  4.36391837e-17,   4.60362697e-17,   4.90097157e-17,\n",
       "         5.28367131e-17,   5.80172612e-17,   6.56131144e-17,\n",
       "         7.83725539e-17,   1.07517558e-16,   1.13001777e-16,\n",
       "         1.19537050e-16,   1.27468729e-16,   1.37502208e-16,\n",
       "         1.50698104e-16,   1.69087729e-16,   1.97800082e-16,\n",
       "         2.19816467e-16,   2.52427241e-16,   3.07803024e-16,\n",
       "         4.44752392e-16,   0.00000000e+00])"
      ]
     },
     "execution_count": 68,
     "metadata": {},
     "output_type": "execute_result"
    }
   ],
   "source": [
    "I_IC2 = current(E_IC2, flux, diameter)"
   ]
  },
  {
   "cell_type": "code",
   "execution_count": 81,
   "metadata": {
    "collapsed": false,
    "hidden": true
   },
   "outputs": [
    {
     "data": {
      "text/html": [
       "<div>\n",
       "<table border=\"1\" class=\"dataframe\">\n",
       "  <thead>\n",
       "    <tr style=\"text-align: right;\">\n",
       "      <th></th>\n",
       "      <th>Beam energy after exit from IC1</th>\n",
       "      <th>Energy deposited in IC1</th>\n",
       "      <th>Current in IC1</th>\n",
       "      <th>Beam energy after exit from water column</th>\n",
       "      <th>Beam energy after exit from IC2</th>\n",
       "      <th>Energy deposited in IC2</th>\n",
       "      <th>Current in IC2</th>\n",
       "    </tr>\n",
       "  </thead>\n",
       "  <tbody>\n",
       "    <tr>\n",
       "      <th>0.000000</th>\n",
       "      <td>149.990413</td>\n",
       "      <td>0.009587</td>\n",
       "      <td>4.363617e-17</td>\n",
       "      <td>149.984995</td>\n",
       "      <td>149.975407</td>\n",
       "      <td>0.009588</td>\n",
       "      <td>4.363918e-17</td>\n",
       "    </tr>\n",
       "    <tr>\n",
       "      <th>2.000000</th>\n",
       "      <td>149.990413</td>\n",
       "      <td>0.009587</td>\n",
       "      <td>4.363617e-17</td>\n",
       "      <td>138.881885</td>\n",
       "      <td>138.871771</td>\n",
       "      <td>0.010114</td>\n",
       "      <td>4.603627e-17</td>\n",
       "    </tr>\n",
       "    <tr>\n",
       "      <th>4.000000</th>\n",
       "      <td>149.990413</td>\n",
       "      <td>0.009587</td>\n",
       "      <td>4.363617e-17</td>\n",
       "      <td>127.115816</td>\n",
       "      <td>127.105049</td>\n",
       "      <td>0.010767</td>\n",
       "      <td>4.900972e-17</td>\n",
       "    </tr>\n",
       "    <tr>\n",
       "      <th>6.000000</th>\n",
       "      <td>149.990413</td>\n",
       "      <td>0.009587</td>\n",
       "      <td>4.363617e-17</td>\n",
       "      <td>114.505824</td>\n",
       "      <td>114.494216</td>\n",
       "      <td>0.011608</td>\n",
       "      <td>5.283671e-17</td>\n",
       "    </tr>\n",
       "    <tr>\n",
       "      <th>8.000000</th>\n",
       "      <td>149.990413</td>\n",
       "      <td>0.009587</td>\n",
       "      <td>4.363617e-17</td>\n",
       "      <td>100.796824</td>\n",
       "      <td>100.784078</td>\n",
       "      <td>0.012746</td>\n",
       "      <td>5.801726e-17</td>\n",
       "    </tr>\n",
       "    <tr>\n",
       "      <th>10.000000</th>\n",
       "      <td>149.990413</td>\n",
       "      <td>0.009587</td>\n",
       "      <td>4.363617e-17</td>\n",
       "      <td>85.523835</td>\n",
       "      <td>85.509420</td>\n",
       "      <td>0.014415</td>\n",
       "      <td>6.561311e-17</td>\n",
       "    </tr>\n",
       "    <tr>\n",
       "      <th>12.000000</th>\n",
       "      <td>149.990413</td>\n",
       "      <td>0.009587</td>\n",
       "      <td>4.363617e-17</td>\n",
       "      <td>67.820278</td>\n",
       "      <td>67.803059</td>\n",
       "      <td>0.017219</td>\n",
       "      <td>7.837255e-17</td>\n",
       "    </tr>\n",
       "    <tr>\n",
       "      <th>14.000000</th>\n",
       "      <td>149.990413</td>\n",
       "      <td>0.009587</td>\n",
       "      <td>4.363617e-17</td>\n",
       "      <td>45.376491</td>\n",
       "      <td>45.352869</td>\n",
       "      <td>0.023622</td>\n",
       "      <td>1.075176e-16</td>\n",
       "    </tr>\n",
       "    <tr>\n",
       "      <th>14.200000</th>\n",
       "      <td>149.990413</td>\n",
       "      <td>0.009587</td>\n",
       "      <td>4.363617e-17</td>\n",
       "      <td>42.633767</td>\n",
       "      <td>42.608940</td>\n",
       "      <td>0.024827</td>\n",
       "      <td>1.130018e-16</td>\n",
       "    </tr>\n",
       "    <tr>\n",
       "      <th>14.400000</th>\n",
       "      <td>149.990413</td>\n",
       "      <td>0.009587</td>\n",
       "      <td>4.363617e-17</td>\n",
       "      <td>39.741686</td>\n",
       "      <td>39.715423</td>\n",
       "      <td>0.026262</td>\n",
       "      <td>1.195370e-16</td>\n",
       "    </tr>\n",
       "    <tr>\n",
       "      <th>14.600000</th>\n",
       "      <td>149.990413</td>\n",
       "      <td>0.009587</td>\n",
       "      <td>4.363617e-17</td>\n",
       "      <td>36.685361</td>\n",
       "      <td>36.657356</td>\n",
       "      <td>0.028005</td>\n",
       "      <td>1.274687e-16</td>\n",
       "    </tr>\n",
       "    <tr>\n",
       "      <th>14.800000</th>\n",
       "      <td>149.990413</td>\n",
       "      <td>0.009587</td>\n",
       "      <td>4.363617e-17</td>\n",
       "      <td>33.391113</td>\n",
       "      <td>33.360904</td>\n",
       "      <td>0.030209</td>\n",
       "      <td>1.375022e-16</td>\n",
       "    </tr>\n",
       "    <tr>\n",
       "      <th>15.000000</th>\n",
       "      <td>149.990413</td>\n",
       "      <td>0.009587</td>\n",
       "      <td>4.363617e-17</td>\n",
       "      <td>29.809878</td>\n",
       "      <td>29.776770</td>\n",
       "      <td>0.033109</td>\n",
       "      <td>1.506981e-16</td>\n",
       "    </tr>\n",
       "    <tr>\n",
       "      <th>15.200000</th>\n",
       "      <td>149.990413</td>\n",
       "      <td>0.009587</td>\n",
       "      <td>4.363617e-17</td>\n",
       "      <td>25.860201</td>\n",
       "      <td>25.823053</td>\n",
       "      <td>0.037149</td>\n",
       "      <td>1.690877e-16</td>\n",
       "    </tr>\n",
       "    <tr>\n",
       "      <th>15.400000</th>\n",
       "      <td>149.990413</td>\n",
       "      <td>0.009587</td>\n",
       "      <td>4.363617e-17</td>\n",
       "      <td>21.318458</td>\n",
       "      <td>21.275001</td>\n",
       "      <td>0.043457</td>\n",
       "      <td>1.978001e-16</td>\n",
       "    </tr>\n",
       "    <tr>\n",
       "      <th>15.500000</th>\n",
       "      <td>149.990413</td>\n",
       "      <td>0.009587</td>\n",
       "      <td>4.363617e-17</td>\n",
       "      <td>18.723463</td>\n",
       "      <td>18.675169</td>\n",
       "      <td>0.048294</td>\n",
       "      <td>2.198165e-16</td>\n",
       "    </tr>\n",
       "    <tr>\n",
       "      <th>15.600000</th>\n",
       "      <td>149.990413</td>\n",
       "      <td>0.009587</td>\n",
       "      <td>4.363617e-17</td>\n",
       "      <td>15.794742</td>\n",
       "      <td>15.739283</td>\n",
       "      <td>0.055459</td>\n",
       "      <td>2.524272e-16</td>\n",
       "    </tr>\n",
       "    <tr>\n",
       "      <th>15.700000</th>\n",
       "      <td>149.990413</td>\n",
       "      <td>0.009587</td>\n",
       "      <td>4.363617e-17</td>\n",
       "      <td>12.373116</td>\n",
       "      <td>12.305491</td>\n",
       "      <td>0.067625</td>\n",
       "      <td>3.078030e-16</td>\n",
       "    </tr>\n",
       "    <tr>\n",
       "      <th>15.800000</th>\n",
       "      <td>149.990413</td>\n",
       "      <td>0.009587</td>\n",
       "      <td>4.363617e-17</td>\n",
       "      <td>7.848706</td>\n",
       "      <td>7.750993</td>\n",
       "      <td>0.097713</td>\n",
       "      <td>4.447524e-16</td>\n",
       "    </tr>\n",
       "    <tr>\n",
       "      <th>15.875465</th>\n",
       "      <td>149.990413</td>\n",
       "      <td>0.009587</td>\n",
       "      <td>4.363617e-17</td>\n",
       "      <td>0.000000</td>\n",
       "      <td>0.000000</td>\n",
       "      <td>0.000000</td>\n",
       "      <td>0.000000e+00</td>\n",
       "    </tr>\n",
       "  </tbody>\n",
       "</table>\n",
       "</div>"
      ],
      "text/plain": [
       "           Beam energy after exit from IC1  Energy deposited in IC1  \\\n",
       "0.000000                        149.990413                 0.009587   \n",
       "2.000000                        149.990413                 0.009587   \n",
       "4.000000                        149.990413                 0.009587   \n",
       "6.000000                        149.990413                 0.009587   \n",
       "8.000000                        149.990413                 0.009587   \n",
       "10.000000                       149.990413                 0.009587   \n",
       "12.000000                       149.990413                 0.009587   \n",
       "14.000000                       149.990413                 0.009587   \n",
       "14.200000                       149.990413                 0.009587   \n",
       "14.400000                       149.990413                 0.009587   \n",
       "14.600000                       149.990413                 0.009587   \n",
       "14.800000                       149.990413                 0.009587   \n",
       "15.000000                       149.990413                 0.009587   \n",
       "15.200000                       149.990413                 0.009587   \n",
       "15.400000                       149.990413                 0.009587   \n",
       "15.500000                       149.990413                 0.009587   \n",
       "15.600000                       149.990413                 0.009587   \n",
       "15.700000                       149.990413                 0.009587   \n",
       "15.800000                       149.990413                 0.009587   \n",
       "15.875465                       149.990413                 0.009587   \n",
       "\n",
       "           Current in IC1  Beam energy after exit from water column  \\\n",
       "0.000000     4.363617e-17                                149.984995   \n",
       "2.000000     4.363617e-17                                138.881885   \n",
       "4.000000     4.363617e-17                                127.115816   \n",
       "6.000000     4.363617e-17                                114.505824   \n",
       "8.000000     4.363617e-17                                100.796824   \n",
       "10.000000    4.363617e-17                                 85.523835   \n",
       "12.000000    4.363617e-17                                 67.820278   \n",
       "14.000000    4.363617e-17                                 45.376491   \n",
       "14.200000    4.363617e-17                                 42.633767   \n",
       "14.400000    4.363617e-17                                 39.741686   \n",
       "14.600000    4.363617e-17                                 36.685361   \n",
       "14.800000    4.363617e-17                                 33.391113   \n",
       "15.000000    4.363617e-17                                 29.809878   \n",
       "15.200000    4.363617e-17                                 25.860201   \n",
       "15.400000    4.363617e-17                                 21.318458   \n",
       "15.500000    4.363617e-17                                 18.723463   \n",
       "15.600000    4.363617e-17                                 15.794742   \n",
       "15.700000    4.363617e-17                                 12.373116   \n",
       "15.800000    4.363617e-17                                  7.848706   \n",
       "15.875465    4.363617e-17                                  0.000000   \n",
       "\n",
       "           Beam energy after exit from IC2  Energy deposited in IC2  \\\n",
       "0.000000                        149.975407                 0.009588   \n",
       "2.000000                        138.871771                 0.010114   \n",
       "4.000000                        127.105049                 0.010767   \n",
       "6.000000                        114.494216                 0.011608   \n",
       "8.000000                        100.784078                 0.012746   \n",
       "10.000000                        85.509420                 0.014415   \n",
       "12.000000                        67.803059                 0.017219   \n",
       "14.000000                        45.352869                 0.023622   \n",
       "14.200000                        42.608940                 0.024827   \n",
       "14.400000                        39.715423                 0.026262   \n",
       "14.600000                        36.657356                 0.028005   \n",
       "14.800000                        33.360904                 0.030209   \n",
       "15.000000                        29.776770                 0.033109   \n",
       "15.200000                        25.823053                 0.037149   \n",
       "15.400000                        21.275001                 0.043457   \n",
       "15.500000                        18.675169                 0.048294   \n",
       "15.600000                        15.739283                 0.055459   \n",
       "15.700000                        12.305491                 0.067625   \n",
       "15.800000                         7.750993                 0.097713   \n",
       "15.875465                         0.000000                 0.000000   \n",
       "\n",
       "           Current in IC2  \n",
       "0.000000     4.363918e-17  \n",
       "2.000000     4.603627e-17  \n",
       "4.000000     4.900972e-17  \n",
       "6.000000     5.283671e-17  \n",
       "8.000000     5.801726e-17  \n",
       "10.000000    6.561311e-17  \n",
       "12.000000    7.837255e-17  \n",
       "14.000000    1.075176e-16  \n",
       "14.200000    1.130018e-16  \n",
       "14.400000    1.195370e-16  \n",
       "14.600000    1.274687e-16  \n",
       "14.800000    1.375022e-16  \n",
       "15.000000    1.506981e-16  \n",
       "15.200000    1.690877e-16  \n",
       "15.400000    1.978001e-16  \n",
       "15.500000    2.198165e-16  \n",
       "15.600000    2.524272e-16  \n",
       "15.700000    3.078030e-16  \n",
       "15.800000    4.447524e-16  \n",
       "15.875465    0.000000e+00  "
      ]
     },
     "execution_count": 81,
     "metadata": {},
     "output_type": "execute_result"
    }
   ],
   "source": [
    "table1 = pd.DataFrame(\n",
    "    {\n",
    "        \"Beam energy after exit from IC1\": T1,\n",
    "        \"Energy deposited in IC1\": E_IC1,\n",
    "        \"Current in IC1\": I_IC1,\n",
    "        \"Beam energy after exit from water column\": T2,\n",
    "        \"Beam energy after exit from IC2\": T3,\n",
    "        \"Energy deposited in IC2\": E_IC2, \n",
    "        \"Current in IC2\": I_IC2\n",
    "    },\n",
    "    index=water_thickness\n",
    ")\n",
    "cols = table.columns.tolist()\n",
    "cols = [\n",
    "    'Beam energy after exit from IC1',\n",
    "    'Energy deposited in IC1',\n",
    "    'Current in IC1',\n",
    "    'Beam energy after exit from water column',\n",
    "    'Beam energy after exit from IC2',\n",
    "    'Energy deposited in IC2',\n",
    "    'Current in IC2'\n",
    "]\n",
    "table1 = table[cols]\n",
    "table1"
   ]
  },
  {
   "cell_type": "code",
   "execution_count": 84,
   "metadata": {
    "collapsed": false,
    "hidden": true
   },
   "outputs": [
    {
     "data": {
      "image/png": "[encoded data removed]",
      "text/plain": [
       "<matplotlib.figure.Figure at 0x1137f0ed0>"
      ]
     },
     "metadata": {},
     "output_type": "display_data"
    }
   ],
   "source": [
    "%matplotlib inline\n",
    "import matplotlib.pyplot as plt\n",
    "plt.plot(water_thickness, table['Current in IC2'] / table['Current in IC1'], 'b-^')\n",
    "plt.ylabel(r'${I_2}/{I_1}$')\n",
    "plt.xlabel('Water column thickness (cm)')\n",
    "plt.savefig('ne551_midterm_1_1c', dpi=300)\n",
    "plt.show()"
   ]
  },
  {
   "cell_type": "code",
   "execution_count": 82,
   "metadata": {
    "collapsed": true,
    "hidden": true
   },
   "outputs": [],
   "source": [
    "table2 = pd.DataFrame(index=water_thickness)"
   ]
  },
  {
   "cell_type": "code",
   "execution_count": 87,
   "metadata": {
    "collapsed": false,
    "hidden": true
   },
   "outputs": [
    {
     "data": {
      "text/html": [
       "<div>\n",
       "<table border=\"1\" class=\"dataframe\">\n",
       "  <thead>\n",
       "    <tr style=\"text-align: right;\">\n",
       "      <th></th>\n",
       "      <th>Beam energy after exit from IC1</th>\n",
       "      <th>Energy deposited in IC1</th>\n",
       "      <th>Current in IC1</th>\n",
       "      <th>Beam energy after exit from water column</th>\n",
       "      <th>Fraction of beam remaining after exit from water column</th>\n",
       "      <th>Beam energy after exit from IC2</th>\n",
       "      <th>Energy deposited in IC2</th>\n",
       "      <th>Current in IC2</th>\n",
       "    </tr>\n",
       "  </thead>\n",
       "  <tbody>\n",
       "    <tr>\n",
       "      <th>0.000000</th>\n",
       "      <td>149.990413</td>\n",
       "      <td>0.009587</td>\n",
       "      <td>4.363617e-17</td>\n",
       "      <td>149.984995</td>\n",
       "      <td>1.000000</td>\n",
       "      <td>149.975407</td>\n",
       "      <td>0.009588</td>\n",
       "      <td>4.363918e-17</td>\n",
       "    </tr>\n",
       "    <tr>\n",
       "      <th>2.000000</th>\n",
       "      <td>149.990413</td>\n",
       "      <td>0.009587</td>\n",
       "      <td>4.363617e-17</td>\n",
       "      <td>138.881885</td>\n",
       "      <td>0.919622</td>\n",
       "      <td>138.871771</td>\n",
       "      <td>0.010114</td>\n",
       "      <td>4.233599e-17</td>\n",
       "    </tr>\n",
       "    <tr>\n",
       "      <th>4.000000</th>\n",
       "      <td>149.990413</td>\n",
       "      <td>0.009587</td>\n",
       "      <td>4.363617e-17</td>\n",
       "      <td>127.115816</td>\n",
       "      <td>0.845705</td>\n",
       "      <td>127.105049</td>\n",
       "      <td>0.010767</td>\n",
       "      <td>4.144778e-17</td>\n",
       "    </tr>\n",
       "    <tr>\n",
       "      <th>6.000000</th>\n",
       "      <td>149.990413</td>\n",
       "      <td>0.009587</td>\n",
       "      <td>4.363617e-17</td>\n",
       "      <td>114.505824</td>\n",
       "      <td>0.777730</td>\n",
       "      <td>114.494216</td>\n",
       "      <td>0.011608</td>\n",
       "      <td>4.109268e-17</td>\n",
       "    </tr>\n",
       "    <tr>\n",
       "      <th>8.000000</th>\n",
       "      <td>149.990413</td>\n",
       "      <td>0.009587</td>\n",
       "      <td>4.363617e-17</td>\n",
       "      <td>100.796824</td>\n",
       "      <td>0.715218</td>\n",
       "      <td>100.784078</td>\n",
       "      <td>0.012746</td>\n",
       "      <td>4.149498e-17</td>\n",
       "    </tr>\n",
       "    <tr>\n",
       "      <th>10.000000</th>\n",
       "      <td>149.990413</td>\n",
       "      <td>0.009587</td>\n",
       "      <td>4.363617e-17</td>\n",
       "      <td>85.523835</td>\n",
       "      <td>0.657730</td>\n",
       "      <td>85.509420</td>\n",
       "      <td>0.014415</td>\n",
       "      <td>4.315573e-17</td>\n",
       "    </tr>\n",
       "    <tr>\n",
       "      <th>12.000000</th>\n",
       "      <td>149.990413</td>\n",
       "      <td>0.009587</td>\n",
       "      <td>4.363617e-17</td>\n",
       "      <td>67.820278</td>\n",
       "      <td>0.604864</td>\n",
       "      <td>67.803059</td>\n",
       "      <td>0.017219</td>\n",
       "      <td>4.740470e-17</td>\n",
       "    </tr>\n",
       "    <tr>\n",
       "      <th>14.000000</th>\n",
       "      <td>149.990413</td>\n",
       "      <td>0.009587</td>\n",
       "      <td>4.363617e-17</td>\n",
       "      <td>45.376491</td>\n",
       "      <td>0.556246</td>\n",
       "      <td>45.352869</td>\n",
       "      <td>0.023622</td>\n",
       "      <td>5.980623e-17</td>\n",
       "    </tr>\n",
       "    <tr>\n",
       "      <th>14.200000</th>\n",
       "      <td>149.990413</td>\n",
       "      <td>0.009587</td>\n",
       "      <td>4.363617e-17</td>\n",
       "      <td>42.633767</td>\n",
       "      <td>0.551605</td>\n",
       "      <td>42.608940</td>\n",
       "      <td>0.024827</td>\n",
       "      <td>6.233231e-17</td>\n",
       "    </tr>\n",
       "    <tr>\n",
       "      <th>14.400000</th>\n",
       "      <td>149.990413</td>\n",
       "      <td>0.009587</td>\n",
       "      <td>4.363617e-17</td>\n",
       "      <td>39.741686</td>\n",
       "      <td>0.547002</td>\n",
       "      <td>39.715423</td>\n",
       "      <td>0.026262</td>\n",
       "      <td>6.538700e-17</td>\n",
       "    </tr>\n",
       "    <tr>\n",
       "      <th>14.600000</th>\n",
       "      <td>149.990413</td>\n",
       "      <td>0.009587</td>\n",
       "      <td>4.363617e-17</td>\n",
       "      <td>36.685361</td>\n",
       "      <td>0.542438</td>\n",
       "      <td>36.657356</td>\n",
       "      <td>0.028005</td>\n",
       "      <td>6.914384e-17</td>\n",
       "    </tr>\n",
       "    <tr>\n",
       "      <th>14.800000</th>\n",
       "      <td>149.990413</td>\n",
       "      <td>0.009587</td>\n",
       "      <td>4.363617e-17</td>\n",
       "      <td>33.391113</td>\n",
       "      <td>0.537911</td>\n",
       "      <td>33.360904</td>\n",
       "      <td>0.030209</td>\n",
       "      <td>7.396402e-17</td>\n",
       "    </tr>\n",
       "    <tr>\n",
       "      <th>15.000000</th>\n",
       "      <td>149.990413</td>\n",
       "      <td>0.009587</td>\n",
       "      <td>4.363617e-17</td>\n",
       "      <td>29.809878</td>\n",
       "      <td>0.533423</td>\n",
       "      <td>29.776770</td>\n",
       "      <td>0.033109</td>\n",
       "      <td>8.038584e-17</td>\n",
       "    </tr>\n",
       "    <tr>\n",
       "      <th>15.200000</th>\n",
       "      <td>149.990413</td>\n",
       "      <td>0.009587</td>\n",
       "      <td>4.363617e-17</td>\n",
       "      <td>25.860201</td>\n",
       "      <td>0.528972</td>\n",
       "      <td>25.823053</td>\n",
       "      <td>0.037149</td>\n",
       "      <td>8.944269e-17</td>\n",
       "    </tr>\n",
       "    <tr>\n",
       "      <th>15.400000</th>\n",
       "      <td>149.990413</td>\n",
       "      <td>0.009587</td>\n",
       "      <td>4.363617e-17</td>\n",
       "      <td>21.318458</td>\n",
       "      <td>0.524558</td>\n",
       "      <td>21.275001</td>\n",
       "      <td>0.043457</td>\n",
       "      <td>1.037577e-16</td>\n",
       "    </tr>\n",
       "    <tr>\n",
       "      <th>15.500000</th>\n",
       "      <td>149.990413</td>\n",
       "      <td>0.009587</td>\n",
       "      <td>4.363617e-17</td>\n",
       "      <td>18.723463</td>\n",
       "      <td>0.522365</td>\n",
       "      <td>18.675169</td>\n",
       "      <td>0.048294</td>\n",
       "      <td>1.148245e-16</td>\n",
       "    </tr>\n",
       "    <tr>\n",
       "      <th>15.600000</th>\n",
       "      <td>149.990413</td>\n",
       "      <td>0.009587</td>\n",
       "      <td>4.363617e-17</td>\n",
       "      <td>15.794742</td>\n",
       "      <td>0.520181</td>\n",
       "      <td>15.739283</td>\n",
       "      <td>0.055459</td>\n",
       "      <td>1.313079e-16</td>\n",
       "    </tr>\n",
       "    <tr>\n",
       "      <th>15.700000</th>\n",
       "      <td>149.990413</td>\n",
       "      <td>0.009587</td>\n",
       "      <td>4.363617e-17</td>\n",
       "      <td>12.373116</td>\n",
       "      <td>0.518006</td>\n",
       "      <td>12.305491</td>\n",
       "      <td>0.067625</td>\n",
       "      <td>1.594439e-16</td>\n",
       "    </tr>\n",
       "    <tr>\n",
       "      <th>15.800000</th>\n",
       "      <td>149.990413</td>\n",
       "      <td>0.009587</td>\n",
       "      <td>4.363617e-17</td>\n",
       "      <td>7.848706</td>\n",
       "      <td>0.515841</td>\n",
       "      <td>7.750993</td>\n",
       "      <td>0.097713</td>\n",
       "      <td>2.294214e-16</td>\n",
       "    </tr>\n",
       "    <tr>\n",
       "      <th>15.875465</th>\n",
       "      <td>149.990413</td>\n",
       "      <td>0.009587</td>\n",
       "      <td>4.363617e-17</td>\n",
       "      <td>0.000000</td>\n",
       "      <td>0.514212</td>\n",
       "      <td>0.000000</td>\n",
       "      <td>0.000000</td>\n",
       "      <td>0.000000e+00</td>\n",
       "    </tr>\n",
       "  </tbody>\n",
       "</table>\n",
       "</div>"
      ],
      "text/plain": [
       "           Beam energy after exit from IC1  Energy deposited in IC1  \\\n",
       "0.000000                        149.990413                 0.009587   \n",
       "2.000000                        149.990413                 0.009587   \n",
       "4.000000                        149.990413                 0.009587   \n",
       "6.000000                        149.990413                 0.009587   \n",
       "8.000000                        149.990413                 0.009587   \n",
       "10.000000                       149.990413                 0.009587   \n",
       "12.000000                       149.990413                 0.009587   \n",
       "14.000000                       149.990413                 0.009587   \n",
       "14.200000                       149.990413                 0.009587   \n",
       "14.400000                       149.990413                 0.009587   \n",
       "14.600000                       149.990413                 0.009587   \n",
       "14.800000                       149.990413                 0.009587   \n",
       "15.000000                       149.990413                 0.009587   \n",
       "15.200000                       149.990413                 0.009587   \n",
       "15.400000                       149.990413                 0.009587   \n",
       "15.500000                       149.990413                 0.009587   \n",
       "15.600000                       149.990413                 0.009587   \n",
       "15.700000                       149.990413                 0.009587   \n",
       "15.800000                       149.990413                 0.009587   \n",
       "15.875465                       149.990413                 0.009587   \n",
       "\n",
       "           Current in IC1  Beam energy after exit from water column  \\\n",
       "0.000000     4.363617e-17                                149.984995   \n",
       "2.000000     4.363617e-17                                138.881885   \n",
       "4.000000     4.363617e-17                                127.115816   \n",
       "6.000000     4.363617e-17                                114.505824   \n",
       "8.000000     4.363617e-17                                100.796824   \n",
       "10.000000    4.363617e-17                                 85.523835   \n",
       "12.000000    4.363617e-17                                 67.820278   \n",
       "14.000000    4.363617e-17                                 45.376491   \n",
       "14.200000    4.363617e-17                                 42.633767   \n",
       "14.400000    4.363617e-17                                 39.741686   \n",
       "14.600000    4.363617e-17                                 36.685361   \n",
       "14.800000    4.363617e-17                                 33.391113   \n",
       "15.000000    4.363617e-17                                 29.809878   \n",
       "15.200000    4.363617e-17                                 25.860201   \n",
       "15.400000    4.363617e-17                                 21.318458   \n",
       "15.500000    4.363617e-17                                 18.723463   \n",
       "15.600000    4.363617e-17                                 15.794742   \n",
       "15.700000    4.363617e-17                                 12.373116   \n",
       "15.800000    4.363617e-17                                  7.848706   \n",
       "15.875465    4.363617e-17                                  0.000000   \n",
       "\n",
       "           Fraction of beam remaining after exit from water column  \\\n",
       "0.000000                                            1.000000         \n",
       "2.000000                                            0.919622         \n",
       "4.000000                                            0.845705         \n",
       "6.000000                                            0.777730         \n",
       "8.000000                                            0.715218         \n",
       "10.000000                                           0.657730         \n",
       "12.000000                                           0.604864         \n",
       "14.000000                                           0.556246         \n",
       "14.200000                                           0.551605         \n",
       "14.400000                                           0.547002         \n",
       "14.600000                                           0.542438         \n",
       "14.800000                                           0.537911         \n",
       "15.000000                                           0.533423         \n",
       "15.200000                                           0.528972         \n",
       "15.400000                                           0.524558         \n",
       "15.500000                                           0.522365         \n",
       "15.600000                                           0.520181         \n",
       "15.700000                                           0.518006         \n",
       "15.800000                                           0.515841         \n",
       "15.875465                                           0.514212         \n",
       "\n",
       "           Beam energy after exit from IC2  Energy deposited in IC2  \\\n",
       "0.000000                        149.975407                 0.009588   \n",
       "2.000000                        138.871771                 0.010114   \n",
       "4.000000                        127.105049                 0.010767   \n",
       "6.000000                        114.494216                 0.011608   \n",
       "8.000000                        100.784078                 0.012746   \n",
       "10.000000                        85.509420                 0.014415   \n",
       "12.000000                        67.803059                 0.017219   \n",
       "14.000000                        45.352869                 0.023622   \n",
       "14.200000                        42.608940                 0.024827   \n",
       "14.400000                        39.715423                 0.026262   \n",
       "14.600000                        36.657356                 0.028005   \n",
       "14.800000                        33.360904                 0.030209   \n",
       "15.000000                        29.776770                 0.033109   \n",
       "15.200000                        25.823053                 0.037149   \n",
       "15.400000                        21.275001                 0.043457   \n",
       "15.500000                        18.675169                 0.048294   \n",
       "15.600000                        15.739283                 0.055459   \n",
       "15.700000                        12.305491                 0.067625   \n",
       "15.800000                         7.750993                 0.097713   \n",
       "15.875465                         0.000000                 0.000000   \n",
       "\n",
       "           Current in IC2  \n",
       "0.000000     4.363918e-17  \n",
       "2.000000     4.233599e-17  \n",
       "4.000000     4.144778e-17  \n",
       "6.000000     4.109268e-17  \n",
       "8.000000     4.149498e-17  \n",
       "10.000000    4.315573e-17  \n",
       "12.000000    4.740470e-17  \n",
       "14.000000    5.980623e-17  \n",
       "14.200000    6.233231e-17  \n",
       "14.400000    6.538700e-17  \n",
       "14.600000    6.914384e-17  \n",
       "14.800000    7.396402e-17  \n",
       "15.000000    8.038584e-17  \n",
       "15.200000    8.944269e-17  \n",
       "15.400000    1.037577e-16  \n",
       "15.500000    1.148245e-16  \n",
       "15.600000    1.313079e-16  \n",
       "15.700000    1.594439e-16  \n",
       "15.800000    2.294214e-16  \n",
       "15.875465    0.000000e+00  "
      ]
     },
     "execution_count": 87,
     "metadata": {},
     "output_type": "execute_result"
    }
   ],
   "source": [
    "table2['Beam energy after exit from IC1'] = table1['Beam energy after exit from IC1']\n",
    "table2['Energy deposited in IC1'] = table1['Energy deposited in IC1']\n",
    "table2['Current in IC1'] = table1['Current in IC1']\n",
    "table2['Beam energy after exit from water column'] = table['Beam energy after exit from water column']\n",
    "table2['Fraction of beam remaining after exit from water column'] =\\\n",
    "        1-nuclear_fraction(1., materials['Water'], water_thickness)\n",
    "table2['Beam energy after exit from IC2'] = table1['Beam energy after exit from IC2']\n",
    "table2['Energy deposited in IC2'] = table1['Energy deposited in IC2']\n",
    "table2['Current in IC2'] = current(\n",
    "    table2['Energy deposited in IC2'],\n",
    "    flux*table2['Fraction of beam remaining after exit from water column'],\n",
    "    diameter\n",
    ")\n",
    "table2"
   ]
  },
  {
   "cell_type": "code",
   "execution_count": 93,
   "metadata": {
    "collapsed": false,
    "hidden": true
   },
   "outputs": [
    {
     "data": {
      "image/png": "[encoded data removed]",
      "text/plain": [
       "<matplotlib.figure.Figure at 0x1140b9450>"
      ]
     },
     "metadata": {},
     "output_type": "display_data"
    }
   ],
   "source": [
    "plt.plot(water_thickness, table2['Current in IC2'] / table2['Current in IC1'], 'b-^', label='With nuclear interactions')\n",
    "plt.plot(water_thickness, table1['Current in IC2'] / table1['Current in IC1'], 'r--', label='Without nuclear interactions')\n",
    "plt.xlabel('Water column thickness')\n",
    "plt.ylabel(r'$I_2 / I_1$')\n",
    "plt.legend(loc=2)\n",
    "plt.savefig('ne551_midterm_1_1g', dpi=300)\n",
    "plt.show()"
   ]
  },
  {
   "cell_type": "markdown",
   "metadata": {
    "heading_collapsed": true
   },
   "source": [
    "# Problem 2 #"
   ]
  },
  {
   "cell_type": "code",
   "execution_count": 108,
   "metadata": {
    "collapsed": false,
    "hidden": true
   },
   "outputs": [
    {
     "data": {
      "image/png": "[encoded data removed]",
      "text/plain": [
       "<matplotlib.figure.Figure at 0x113204650>"
      ]
     },
     "metadata": {},
     "output_type": "display_data"
    }
   ],
   "source": [
    "r = 2.4\n",
    "x = np.linspace(0, r, 1000)\n",
    "plt.plot(x, np.sqrt(r**2 - x**2), 'r-')\n",
    "plt.show()"
   ]
  },
  {
   "cell_type": "code",
   "execution_count": null,
   "metadata": {
    "collapsed": true,
    "hidden": true
   },
   "outputs": [],
   "source": []
  },
  {
   "cell_type": "markdown",
   "metadata": {},
   "source": [
    "# Problem 3 #"
   ]
  },
  {
   "cell_type": "code",
   "execution_count": 110,
   "metadata": {
    "collapsed": false
   },
   "outputs": [
    {
     "name": "stdout",
     "output_type": "stream",
     "text": [
      "6.022140857e+23\n",
      "2.8179403227e-13\n",
      "0.5109989461\n"
     ]
    }
   ],
   "source": [
    "N_A = const.Avogadro\n",
    "print N_A\n",
    "r_0 = const.value('classical electron radius') * 100. # convert to cm\n",
    "print \"Classical electron radius: {0} cm\".format(r_0)\n",
    "m_e = const.value('electron mass energy equivalent in MeV')\n",
    "print \"Electron mass: {0}\".format(m_e)\n",
    "Z = 74.\n",
    "A = 184.\n",
    "T = np.array([1., 10., 20., 50., 100., 200., 500., 1000., 2000.]) / 1000. # convert to MeV"
   ]
  },
  {
   "cell_type": "code",
   "execution_count": 111,
   "metadata": {
    "collapsed": true
   },
   "outputs": [],
   "source": [
    "from stoppingpower.utility import beta_2"
   ]
  },
  {
   "cell_type": "code",
   "execution_count": null,
   "metadata": {
    "collapsed": true
   },
   "outputs": [],
   "source": [
    "def F_+(T):\n",
    "    b = beta_2(m=m_e, T=T)    \n",
    "    tau = T / m_e\n",
    "    \n",
    "    return np.log(2.) - b / 24. 8 (23. + 14/(tau + 2.) + 10/(tau + 2.)**2 + 4/(tau + 2.)**3)\n",
    "\n",
    "def F_-(T):\n",
    "    b = beta_2(m=m_e, T=T)\n",
    "    tau = T / m_e\n",
    "    \n",
    "    return 0.5 * (1 - b) * (1 + tau**2 / 8 - (2 * tau + 1) * np.log(2.))\n",
    "\n",
    "def electron_stopping_power(T):\n",
    "    first = 2 * np.pi * r_0**2 * m_e * N_A\n",
    "    second = Z / (A)\n",
    "    third = "
   ]
  }
 ],
 "metadata": {
  "anaconda-cloud": {},
  "kernelspec": {
   "display_name": "Python [conda env:nuc]",
   "language": "python",
   "name": "conda-env-nuc-py"
  },
  "language_info": {
   "codemirror_mode": {
    "name": "ipython",
    "version": 2
   },
   "file_extension": ".py",
   "mimetype": "text/x-python",
   "name": "python",
   "nbconvert_exporter": "python",
   "pygments_lexer": "ipython2",
   "version": "2.7.12"
  },
  "latex_envs": {
   "bibliofile": "biblio.bib",
   "cite_by": "apalike",
   "current_citInitial": 1,
   "eqLabelWithNumbers": true,
   "eqNumInitial": 0
  }
 },
 "nbformat": 4,
 "nbformat_minor": 1
}
