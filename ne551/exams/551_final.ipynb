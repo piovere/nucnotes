{
 "cells": [
  {
   "cell_type": "code",
   "execution_count": 1,
   "metadata": {
    "collapsed": true
   },
   "outputs": [],
   "source": [
    "%matplotlib inline\n",
    "from __future__ import division\n",
    "import matplotlib.pyplot as plt\n",
    "import pandas as pd\n",
    "import numpy as np\n",
    "import scipy.constants as const\n",
    "from scipy.interpolate import interp2d"
   ]
  },
  {
   "cell_type": "markdown",
   "metadata": {},
   "source": [
    "# Problem 6"
   ]
  },
  {
   "cell_type": "code",
   "execution_count": 2,
   "metadata": {
    "collapsed": true
   },
   "outputs": [],
   "source": [
    "mu1 = 0.043 # cm^-1\n",
    "mu2 = 0.061 # cm^-1\n",
    "E1 = 2.75 # MeV\n",
    "E2 = 1.37 # MeV"
   ]
  },
  {
   "cell_type": "code",
   "execution_count": 3,
   "metadata": {
    "code_folding": [],
    "collapsed": false
   },
   "outputs": [],
   "source": [
    "def exposure(energy, distance=6, activity=144):\n",
    "    \"\"\"Unshielded gamma exposure\n",
    "    \n",
    "    Unshielded exposure from gamma with energy (MeV)\n",
    "    at distance (meters) from activity (Ci)\n",
    "    \n",
    "    Paramters\n",
    "    ---------\n",
    "    energy : float\n",
    "        The energy of the gamma, in MeV\n",
    "    distance : float\n",
    "        Distance from the source, in m\n",
    "    activity : float\n",
    "        Activity of the source, in Ci\n",
    "    \n",
    "    Returns\n",
    "    -------\n",
    "    float\n",
    "        exposure in R/hr\n",
    "    \"\"\"\n",
    "    return 0.5 * activity * energy / distance ** 2"
   ]
  },
  {
   "cell_type": "code",
   "execution_count": 4,
   "metadata": {
    "code_folding": [
     0
    ],
    "collapsed": true
   },
   "outputs": [],
   "source": [
    "def shielding(dr_shielded, dr_unshielded, mass_transfer_coefficient, buildup_factor=1.0):\n",
    "    \"\"\"The shield thickness to reduce exposure from dr_unshielded to dr_shielded\n",
    "    \n",
    "    Parameters\n",
    "    ----------\n",
    "    dr_shielded : float\n",
    "        The desired exposure rate at the other side of the shield\n",
    "    dr_unshielded : float\n",
    "        The exposure rate if there was no shield\n",
    "    mass_transfer_coefficient : float\n",
    "        The mass transfer coefficient in cm^-1\n",
    "    buildup_factor\n",
    "        \n",
    "    Returns\n",
    "    -------\n",
    "    float\n",
    "        The thickness of shielding required, in cm\n",
    "    \"\"\"\n",
    "    return -(1 / mass_transfer_coefficient) * np.log(dr_shielded / dr_unshielded)"
   ]
  },
  {
   "cell_type": "code",
   "execution_count": 5,
   "metadata": {
    "collapsed": true
   },
   "outputs": [],
   "source": [
    "def buildupfactor(energy, mux, convergence=1e-5, max_iterations=1e5):\n",
    "    error = 100.\n",
    "    iteration_count = 0\n",
    "    bf = 1.\n",
    "    while error > convergence and iteration_count < max_iterations:\n",
    "        iteration_count += 1\n",
    "        \n",
    "        bf_old = bf\n",
    "        bf = bf_interp(mux + np.log(bf), energy)\n",
    "        \n",
    "        error = abs(bf - bf_old) / bf\n",
    "    return bf"
   ]
  },
  {
   "cell_type": "code",
   "execution_count": 6,
   "metadata": {
    "collapsed": false
   },
   "outputs": [],
   "source": [
    "mux = np.array([0.5, 1, 2, 3, 4, 5, 6, 7, 8, 10, 15, 20, 25, 30, 35, 40])"
   ]
  },
  {
   "cell_type": "code",
   "execution_count": 7,
   "metadata": {
    "collapsed": true
   },
   "outputs": [],
   "source": [
    "energies = np.array([3, 2, 1.5, 1])"
   ]
  },
  {
   "cell_type": "code",
   "execution_count": 8,
   "metadata": {
    "collapsed": false
   },
   "outputs": [],
   "source": [
    "bf = np.array([\n",
    "        [1.34, 1.71, 2.47, 3.24, 4.01, 4.81, 5.62, 6.45, 7.28, 8.98, 13.4, 17.8, 22.4, 27.1, 31.8, 36.5],\n",
    "        [1.38, 1.83, 2.82, 3.87, 4.99, 6.16, 7.38, 8.66, 9.97, 12.7, 20.1,   28, 36.4, 45.2, 54.3,   63],\n",
    "        [1.42, 1.93, 3.11, 4.44,  5.9, 7.47, 9.14, 10.9, 12.8, 16.8, 27.9, 40.4, 54.1, 68.8, 84.4,  101],\n",
    "        [1.47, 2.08, 3.62,  5.5, 7.66, 10.1, 12.8, 15.7, 18.9,   26, 47.4, 73.5,  104,  138,  175,  214]\n",
    "    ])"
   ]
  },
  {
   "cell_type": "code",
   "execution_count": 9,
   "metadata": {
    "collapsed": true
   },
   "outputs": [],
   "source": [
    "bf_interp = interp2d(mux, energies, bf)"
   ]
  },
  {
   "cell_type": "code",
   "execution_count": 10,
   "metadata": {
    "collapsed": false
   },
   "outputs": [
    {
     "data": {
      "text/plain": [
       "array([ 7.62084258])"
      ]
     },
     "execution_count": 10,
     "metadata": {},
     "output_type": "execute_result"
    }
   ],
   "source": [
    "bf_interp(5.62+np.log(7.62084246), 2.75)"
   ]
  },
  {
   "cell_type": "code",
   "execution_count": 11,
   "metadata": {
    "collapsed": false
   },
   "outputs": [
    {
     "data": {
      "text/plain": [
       "7.6508869226424707"
      ]
     },
     "execution_count": 11,
     "metadata": {},
     "output_type": "execute_result"
    }
   ],
   "source": [
    "5.62+np.log(7.62084246)"
   ]
  },
  {
   "cell_type": "code",
   "execution_count": 12,
   "metadata": {
    "collapsed": false
   },
   "outputs": [
    {
     "data": {
      "text/plain": [
       "19.935526413222252"
      ]
     },
     "execution_count": 12,
     "metadata": {},
     "output_type": "execute_result"
    }
   ],
   "source": [
    "7.62084258*5500*np.exp(-7.6508869226424707)"
   ]
  },
  {
   "cell_type": "code",
   "execution_count": 69,
   "metadata": {
    "collapsed": false
   },
   "outputs": [
    {
     "data": {
      "text/plain": [
       "10.85358377398118"
      ]
     },
     "execution_count": 69,
     "metadata": {},
     "output_type": "execute_result"
    }
   ],
   "source": [
    "mux2 = 7.6508869226424707 * 0.061 / 0.043\n",
    "mux2"
   ]
  },
  {
   "cell_type": "code",
   "execution_count": 72,
   "metadata": {
    "collapsed": false
   },
   "outputs": [
    {
     "data": {
      "text/plain": [
       "array([ 21.54413545])"
      ]
     },
     "execution_count": 72,
     "metadata": {},
     "output_type": "execute_result"
    }
   ],
   "source": [
    "bf_interp(mux2, 1.37)"
   ]
  },
  {
   "cell_type": "code",
   "execution_count": 15,
   "metadata": {
    "collapsed": false
   },
   "outputs": [
    {
     "data": {
      "text/plain": [
       "14.2878107300462"
      ]
     },
     "execution_count": 15,
     "metadata": {},
     "output_type": "execute_result"
    }
   ],
   "source": [
    "mux2+np.log(31.00743319)"
   ]
  },
  {
   "cell_type": "code",
   "execution_count": 16,
   "metadata": {
    "collapsed": false
   },
   "outputs": [
    {
     "data": {
      "text/plain": [
       "0.052978521507327576"
      ]
     },
     "execution_count": 16,
     "metadata": {},
     "output_type": "execute_result"
    }
   ],
   "source": [
    "31.00749125*2740*np.exp(-14.2878107300462)"
   ]
  },
  {
   "cell_type": "code",
   "execution_count": 17,
   "metadata": {
    "collapsed": false
   },
   "outputs": [
    {
     "data": {
      "text/plain": [
       "19.98850493472958"
      ]
     },
     "execution_count": 17,
     "metadata": {},
     "output_type": "execute_result"
    }
   ],
   "source": [
    "19.935526413222252+0.052978521507327576"
   ]
  },
  {
   "cell_type": "code",
   "execution_count": 18,
   "metadata": {
    "collapsed": false
   },
   "outputs": [
    {
     "data": {
      "text/plain": [
       "177.9276028521505"
      ]
     },
     "execution_count": 18,
     "metadata": {},
     "output_type": "execute_result"
    }
   ],
   "source": [
    "7.6508869226424707 / 0.043"
   ]
  },
  {
   "cell_type": "code",
   "execution_count": 19,
   "metadata": {
    "collapsed": false
   },
   "outputs": [
    {
     "data": {
      "text/plain": [
       "array([ 7.62083418])"
      ]
     },
     "execution_count": 19,
     "metadata": {},
     "output_type": "execute_result"
    }
   ],
   "source": [
    "buildupfactor(2.75, 5.62)"
   ]
  },
  {
   "cell_type": "code",
   "execution_count": 20,
   "metadata": {
    "collapsed": false
   },
   "outputs": [
    {
     "data": {
      "text/plain": [
       "array([ 31.00748659])"
      ]
     },
     "execution_count": 20,
     "metadata": {},
     "output_type": "execute_result"
    }
   ],
   "source": [
    "buildupfactor(1.37, (5.62 + np.log(7.62083418)) * 0.061 / 0.043)"
   ]
  },
  {
   "cell_type": "code",
   "execution_count": 70,
   "metadata": {
    "collapsed": false
   },
   "outputs": [
    {
     "data": {
      "text/plain": [
       "2.74"
      ]
     },
     "execution_count": 70,
     "metadata": {},
     "output_type": "execute_result"
    }
   ],
   "source": [
    "exposure(activity=144, distance=6, energy=1.37)"
   ]
  },
  {
   "cell_type": "markdown",
   "metadata": {},
   "source": [
    "# Problem 7"
   ]
  },
  {
   "cell_type": "code",
   "execution_count": 21,
   "metadata": {
    "collapsed": false
   },
   "outputs": [],
   "source": [
    "wbde = pd.DataFrame({\n",
    "        'Exposure (mGy)': [2., 5, 5, 40, 2000],\n",
    "        'Radiation': ['alpha', 'thermal neutron', 'gamma', 'beta', 'beta'],\n",
    "        'Target': ['lung', 'whole body', 'whole body', 'thyroid', 'skin']\n",
    "    })\n",
    "\n",
    "# https://www.euronuclear.org/info/encyclopedia/r/radiation-weight-factor.htm\n",
    "q_factor = {\n",
    "    'alpha': 20,\n",
    "    'gamma': 1, \n",
    "    'beta': 1,\n",
    "    'thermal neutron': 2.5 + 18.2 * np.exp(-(np.log(0.025e-6))**2 / 6)\n",
    "}\n",
    "\n",
    "# http://www.icrp.org/docs/David%20Brenner%20Effective%20Dose%20a%20Flawed%20Concept.pdf\n",
    "tissue_weighting_factor = {\n",
    "    'lung': 0.12,\n",
    "    'whole body': 1., \n",
    "    'thyroid': 0.04,\n",
    "    'skin': 0.01\n",
    "}"
   ]
  },
  {
   "cell_type": "code",
   "execution_count": 22,
   "metadata": {
    "collapsed": false
   },
   "outputs": [
    {
     "name": "stdout",
     "output_type": "stream",
     "text": [
      "{'thyroid': 0.04, 'whole body': 1.0, 'lung': 0.12, 'skin': 0.01}\n",
      "{'alpha': 20, 'beta': 1, 'gamma': 1, 'thermal neutron': 2.5}\n"
     ]
    }
   ],
   "source": [
    "print(tissue_weighting_factor)\n",
    "print(q_factor)"
   ]
  },
  {
   "cell_type": "code",
   "execution_count": 68,
   "metadata": {
    "collapsed": false
   },
   "outputs": [
    {
     "data": {
      "text/plain": [
       "u'\\\\begin{tabular}{lrllrr}\\n\\\\toprule\\n{} &  Exposure (mGy) &        Radiation &      Target &    Dose &  Whole-Body Equivalent \\\\\\\\\\n\\\\midrule\\n0 &               2 &            alpha &        lung &    40.0 &                    4.8 \\\\\\\\\\n1 &               5 &  thermal neutron &  whole body &    12.5 &                   12.5 \\\\\\\\\\n2 &               5 &            gamma &  whole body &     5.0 &                    5.0 \\\\\\\\\\n3 &              40 &             beta &     thyroid &    40.0 &                    1.6 \\\\\\\\\\n4 &            2000 &             beta &        skin &  2000.0 &                   20.0 \\\\\\\\\\n\\\\bottomrule\\n\\\\end{tabular}\\n'"
      ]
     },
     "execution_count": 68,
     "metadata": {},
     "output_type": "execute_result"
    }
   ],
   "source": [
    "wbde['Dose'] = wbde.apply(lambda x: q_factor.get(x['Radiation']) * x['Exposure (mGy)'], axis=1)\n",
    "wbde['Whole-Body Equivalent'] = wbde.apply(lambda x: tissue_weighting_factor.get(x['Target']) * x['Dose'], axis=1)\n",
    "wbde.to_latex()"
   ]
  },
  {
   "cell_type": "code",
   "execution_count": 24,
   "metadata": {
    "collapsed": false
   },
   "outputs": [
    {
     "data": {
      "text/plain": [
       "43.900000000000006"
      ]
     },
     "execution_count": 24,
     "metadata": {},
     "output_type": "execute_result"
    }
   ],
   "source": [
    "np.sum(wbde['Whole-Body Equivalent'])"
   ]
  },
  {
   "cell_type": "markdown",
   "metadata": {},
   "source": [
    "## Which, if any, exposure limits were violated"
   ]
  },
  {
   "cell_type": "markdown",
   "metadata": {},
   "source": [
    "Compare to [NCRP/FDA Regulations](http://www.ceessentials.net/article6.html#section5_5)\n",
    "- Total exposure 43.9 mSv < 50 mSv (annual)\n",
    "- Dose equivalent to skin 20.0 mSv < 500 mSv"
   ]
  },
  {
   "cell_type": "markdown",
   "metadata": {},
   "source": [
    "# Problem 8"
   ]
  },
  {
   "cell_type": "code",
   "execution_count": 78,
   "metadata": {
    "collapsed": false
   },
   "outputs": [
    {
     "name": "stdout",
     "output_type": "stream",
     "text": [
      "500000.0\n",
      "1.6e-15\n",
      "2.19650499589e-08\n",
      "1.09825249794e-08\n",
      "3.29475749383e-08\n"
     ]
    }
   ],
   "source": [
    "becquerels_per_curie = 3.7e10\n",
    "joules_per_eV = 1.6e-19\n",
    "weight = 74 # kg\n",
    "activity = 1.0e-3 # Ci\n",
    "c_max = activity * becquerels_per_curie / weight # Bq / kg\n",
    "delta = 10e3 * joules_per_eV # J\n",
    "decay_physical = np.log(2.) / (2 * 365.241 * 24 * 60 * 60) # s^-1\n",
    "decay_biological = np.log(2.) / (1 * 365.241 * 24 * 60 * 60) # s^-1\n",
    "print(c_max)\n",
    "print(delta)\n",
    "print(decay_biological)\n",
    "print(decay_physical)\n",
    "print(decay_physical + decay_biological)"
   ]
  },
  {
   "cell_type": "code",
   "execution_count": 79,
   "metadata": {
    "collapsed": false
   },
   "outputs": [],
   "source": [
    "def dose(time):\n",
    "    # convert time from years to seconds\n",
    "    time = time * 365.241 * 24 * 60 * 60\n",
    "    d1 = c_max * delta / (decay_biological + decay_physical)\n",
    "    print d1\n",
    "    d2 = (1 - np.exp(-(decay_physical + decay_biological) * time))\n",
    "    return d1 * d2"
   ]
  },
  {
   "cell_type": "code",
   "execution_count": 64,
   "metadata": {
    "collapsed": false
   },
   "outputs": [
    {
     "data": {
      "text/plain": [
       "0.015696368806906228"
      ]
     },
     "execution_count": 64,
     "metadata": {},
     "output_type": "execute_result"
    }
   ],
   "source": [
    "dose(1)"
   ]
  },
  {
   "cell_type": "code",
   "execution_count": 80,
   "metadata": {
    "collapsed": false
   },
   "outputs": [
    {
     "name": "stdout",
     "output_type": "stream",
     "text": [
      "0.0242809979641\n"
     ]
    },
    {
     "data": {
      "text/plain": [
       "0.024146863133522135"
      ]
     },
     "execution_count": 80,
     "metadata": {},
     "output_type": "execute_result"
    }
   ],
   "source": [
    "dose(5)"
   ]
  },
  {
   "cell_type": "code",
   "execution_count": 67,
   "metadata": {
    "collapsed": false
   },
   "outputs": [
    {
     "data": {
      "image/png": "[encoded data removed]",
      "text/plain": [
       "<matplotlib.figure.Figure at 0x10f419550>"
      ]
     },
     "metadata": {},
     "output_type": "display_data"
    }
   ],
   "source": [
    "d = np.linspace(1, 10, 1e5)\n",
    "plt.plot(d, dose(d))\n",
    "plt.xscale('log')\n",
    "plt.plot(d, [c_max * delta / (decay_biological + decay_physical) for i in d], 'r--')\n",
    "plt.ylabel(r'Dose (Sv)')\n",
    "plt.xlabel(r'Time (yr)')\n",
    "plt.grid()\n",
    "plt.show()"
   ]
  },
  {
   "cell_type": "code",
   "execution_count": 65,
   "metadata": {
    "collapsed": false
   },
   "outputs": [
    {
     "data": {
      "text/plain": [
       "0.024280997964103341"
      ]
     },
     "execution_count": 65,
     "metadata": {},
     "output_type": "execute_result"
    }
   ],
   "source": [
    "c_max * delta / (decay_biological + decay_physical)"
   ]
  },
  {
   "cell_type": "code",
   "execution_count": null,
   "metadata": {
    "collapsed": true
   },
   "outputs": [],
   "source": []
  }
 ],
 "metadata": {
  "anaconda-cloud": {},
  "kernelspec": {
   "display_name": "Python [conda env:nuc]",
   "language": "python",
   "name": "conda-env-nuc-py"
  },
  "language_info": {
   "codemirror_mode": {
    "name": "ipython",
    "version": 2
   },
   "file_extension": ".py",
   "mimetype": "text/x-python",
   "name": "python",
   "nbconvert_exporter": "python",
   "pygments_lexer": "ipython2",
   "version": "2.7.12"
  },
  "latex_envs": {
   "bibliofile": "biblio.bib",
   "cite_by": "apalike",
   "current_citInitial": 1,
   "eqLabelWithNumbers": true,
   "eqNumInitial": 0
  }
 },
 "nbformat": 4,
 "nbformat_minor": 1
}
