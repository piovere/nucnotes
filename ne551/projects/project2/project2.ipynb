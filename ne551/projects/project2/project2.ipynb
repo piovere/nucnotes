{
 "cells": [
  {
   "cell_type": "code",
   "execution_count": 74,
   "metadata": {
    "collapsed": true
   },
   "outputs": [],
   "source": [
    "%matplotlib inline\n",
    "from __future__ import division\n",
    "import numpy as np\n",
    "import pandas as pd\n",
    "import matplotlib.pyplot as plt\n",
    "import math"
   ]
  },
  {
   "cell_type": "markdown",
   "metadata": {},
   "source": [
    "# Dose in each cell"
   ]
  },
  {
   "cell_type": "code",
   "execution_count": 111,
   "metadata": {
    "code_folding": [],
    "collapsed": false
   },
   "outputs": [],
   "source": [
    "def low_energy(energy):\n",
    "    return 2.5 + 18.2 * np.exp(- np.log(energy) ** 2 / 6)\n",
    "\n",
    "def medium_energy(energy):\n",
    "    return 5.0 + 17.0 * np.exp(- np.log(2 * energy) ** 2 / 6)\n",
    "\n",
    "def high_energy(energy):\n",
    "    return 2.5 + 3.25 * np.exp(- np.log(0.04 * energy) ** 2 / 6)\n",
    "\n",
    "def quality(x):\n",
    "    if x < 1:\n",
    "        return low_energy(x)\n",
    "    elif x <= 50:\n",
    "        return medium_energy(x)\n",
    "    else:\n",
    "        return high_energy(x)"
   ]
  },
  {
   "cell_type": "code",
   "execution_count": 106,
   "metadata": {
    "collapsed": false
   },
   "outputs": [
    {
     "data": {
      "text/plain": [
       "array([         nan,          nan,          nan,  22.        ,\n",
       "        18.90231237,  16.03970455])"
      ]
     },
     "execution_count": 106,
     "metadata": {},
     "output_type": "execute_result"
    }
   ],
   "source": [
    "x = np.linspace(-2.5, 2.5, 6)\n",
    "np.piecewise(x, [x < 0, x >= 0], [low_energy, medium_energy])"
   ]
  },
  {
   "cell_type": "code",
   "execution_count": 114,
   "metadata": {
    "collapsed": true
   },
   "outputs": [],
   "source": [
    "def total_dose(cellno):\n",
    "    data = pd.read_csv('dose/cell{0}.dat'.format(cellno))\n",
    "    \n",
    "    data['quality'] = data['energy'].apply(quality)\n",
    "    \n",
    "    data['Dose rate (mrem/hr)'] = data['tally'] * 1e6 * 1e3 * 1.6e-19 * 6.43e8 * 3600 * 1e-2 * 1e3 * data['quality']\n",
    "    data['Exposure rate (Gy/second)'] = data['tally'] * 1e6 * 1e3 * 1.6e-19 * 6.43e8\n",
    "    data['Dose rate (Sv/second)'] = data['Exposure rate (Gy/second)'] * data['quality']\n",
    "    print('Exposure (Gy/second) = {:02.3g}'.format(np.sum(data['Exposure rate (Gy/second)'])))\n",
    "    print('Dose (mrem/hr) = {:02.3g}'.format(np.sum(data['Dose rate (mrem/hr)'])))\n",
    "    print('Dose (Sv/second) = {:02.3g}'.format(np.sum(data['Dose rate (Sv/second)'])))"
   ]
  },
  {
   "cell_type": "markdown",
   "metadata": {},
   "source": [
    "Cell A"
   ]
  },
  {
   "cell_type": "code",
   "execution_count": 115,
   "metadata": {
    "collapsed": false
   },
   "outputs": [
    {
     "name": "stdout",
     "output_type": "stream",
     "text": [
      "Exposure (Gy/second) = 4.35e-08\n",
      "Dose (mrem/hr) = 0.0231\n",
      "Dose (Sv/second) = 6.43e-07\n"
     ]
    }
   ],
   "source": [
    "total_dose(81)"
   ]
  },
  {
   "cell_type": "markdown",
   "metadata": {},
   "source": [
    "Cell B"
   ]
  },
  {
   "cell_type": "code",
   "execution_count": 116,
   "metadata": {
    "collapsed": false
   },
   "outputs": [
    {
     "name": "stdout",
     "output_type": "stream",
     "text": [
      "Exposure (Gy/second) = 4.59e-08\n",
      "Dose (mrem/hr) = 0.0244\n",
      "Dose (Sv/second) = 6.79e-07\n"
     ]
    }
   ],
   "source": [
    "total_dose(82)"
   ]
  },
  {
   "cell_type": "markdown",
   "metadata": {},
   "source": [
    "Cell C"
   ]
  },
  {
   "cell_type": "code",
   "execution_count": 117,
   "metadata": {
    "collapsed": false
   },
   "outputs": [
    {
     "name": "stdout",
     "output_type": "stream",
     "text": [
      "Exposure (Gy/second) = 4.61e-08\n",
      "Dose (mrem/hr) = 0.0245\n",
      "Dose (Sv/second) = 6.82e-07\n"
     ]
    }
   ],
   "source": [
    "total_dose(83)"
   ]
  },
  {
   "cell_type": "markdown",
   "metadata": {},
   "source": [
    "Cell D"
   ]
  },
  {
   "cell_type": "code",
   "execution_count": 118,
   "metadata": {
    "collapsed": false
   },
   "outputs": [
    {
     "name": "stdout",
     "output_type": "stream",
     "text": [
      "Exposure (Gy/second) = 5.13e-08\n",
      "Dose (mrem/hr) = 0.0275\n",
      "Dose (Sv/second) = 7.64e-07\n"
     ]
    }
   ],
   "source": [
    "total_dose(84)"
   ]
  },
  {
   "cell_type": "markdown",
   "metadata": {},
   "source": [
    "Cell E"
   ]
  },
  {
   "cell_type": "code",
   "execution_count": 119,
   "metadata": {
    "collapsed": false
   },
   "outputs": [
    {
     "name": "stdout",
     "output_type": "stream",
     "text": [
      "Exposure (Gy/second) = 1.1e-07\n",
      "Dose (mrem/hr) = 0.0606\n",
      "Dose (Sv/second) = 1.68e-06\n"
     ]
    }
   ],
   "source": [
    "total_dose(85)"
   ]
  },
  {
   "cell_type": "markdown",
   "metadata": {},
   "source": [
    "# Flux Spectrum Graphs"
   ]
  },
  {
   "cell_type": "code",
   "execution_count": 18,
   "metadata": {
    "collapsed": true
   },
   "outputs": [],
   "source": [
    "def flux_spectrum(cellno):\n",
    "    data = pd.read_csv('spectrum/cell{0}.dat'.format(cellno))\n",
    "    return data['energy'], data['tally'], data['variance']"
   ]
  },
  {
   "cell_type": "code",
   "execution_count": 19,
   "metadata": {
    "collapsed": false
   },
   "outputs": [
    {
     "data": {
      "image/png": "[encoded data removed]",
      "text/plain": [
       "<matplotlib.figure.Figure at 0x10befe050>"
      ]
     },
     "metadata": {},
     "output_type": "display_data"
    }
   ],
   "source": [
    "for i in range(81:86):\n",
    "    plt.plot(flux_spectrum(81)[0], flux_spectrum(81)[1])\n",
    "plt.show()"
   ]
  },
  {
   "cell_type": "code",
   "execution_count": null,
   "metadata": {
    "collapsed": true
   },
   "outputs": [],
   "source": []
  }
 ],
 "metadata": {
  "anaconda-cloud": {},
  "kernelspec": {
   "display_name": "Python [default]",
   "language": "python",
   "name": "python2"
  },
  "language_info": {
   "codemirror_mode": {
    "name": "ipython",
    "version": 2
   },
   "file_extension": ".py",
   "mimetype": "text/x-python",
   "name": "python",
   "nbconvert_exporter": "python",
   "pygments_lexer": "ipython2",
   "version": "2.7.12"
  },
  "latex_envs": {
   "bibliofile": "biblio.bib",
   "cite_by": "apalike",
   "current_citInitial": 1,
   "eqLabelWithNumbers": true,
   "eqNumInitial": 0
  }
 },
 "nbformat": 4,
 "nbformat_minor": 1
}
