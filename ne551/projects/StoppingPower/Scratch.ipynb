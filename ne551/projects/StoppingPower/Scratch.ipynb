{
 "cells": [
  {
   "cell_type": "code",
   "execution_count": 18,
   "metadata": {
    "collapsed": false
   },
   "outputs": [],
   "source": [
    "from pyne import nuc_data\n",
    "from pyne.material import MaterialLibrary\n",
    "import json\n",
    "from pyne import nucname"
   ]
  },
  {
   "cell_type": "code",
   "execution_count": 2,
   "metadata": {
    "collapsed": true
   },
   "outputs": [],
   "source": [
    "mats = MaterialLibrary(nuc_data, datapath='/material_library/materials', nucpath='/material_library/nucid')"
   ]
  },
  {
   "cell_type": "code",
   "execution_count": 3,
   "metadata": {
    "collapsed": false
   },
   "outputs": [
    {
     "name": "stdout",
     "output_type": "stream",
     "text": [
      "[\n",
      "    \"Mercury\", \n",
      "    \"Oil, Crude (Heavy, Qayarah, Iraq)\", \n",
      "    \"Sm\", \n",
      "    \"Lead\", \n",
      "    \"Concrete, M-1\", \n",
      "    \"Polystyrene (PS)\", \n",
      "    \"Iron, Armco Ingot\", \n",
      "    \"Freon-13\", \n",
      "    \"Concrete, Luminite-colemanite-baryte\", \n",
      "    \"Air (dry, near sea level)\", \n",
      "    \"Sodium Bismuth Tungstate (NBWO)\", \n",
      "    \"Concrete, Rocky Flats\", \n",
      "    \"Sulphur\", \n",
      "    \"Ho\", \n",
      "    \"Boron Fluoride (B2F4)\", \n",
      "    \"Bismuth\", \n",
      "    \"Methylene Chloride\", \n",
      "    \"Concrete, Serpentine\", \n",
      "    \"P\", \n",
      "    \"Polyethylene, Borated\", \n",
      "    \"Water, Liquid\", \n",
      "    \"Masonite\", \n",
      "    \"Methane\", \n",
      "    \"Krypton\", \n",
      "    \"Copper\", \n",
      "    \"Concrete, Oak Ridge (ORNL)\", \n",
      "    \"Plutonium Iodide\", \n",
      "    \"Neon\", \n",
      "    \"Hg\", \n",
      "    \"Ge\", \n",
      "    \"Gd\", \n",
      "    \"Gadolinium\", \n",
      "    \"Ga\", \n",
      "    \"Brass (typical composition)\", \n",
      "    \"Concrete, Magnuson\", \n",
      "    \"Sodium\", \n",
      "    \"Magnesium Tetraborate\", \n",
      "    \"Explosive compound, HMX\", \n",
      "    \"Tissue, Breast\", \n",
      "    \"Cellulose Acetate\", \n",
      "    \"Lutetium Orthoaluminate (LuAP)\", \n",
      "    \"P-10 gas\", \n",
      "    \"Calcium Oxide\", \n",
      "    \"Titanium alloy, grade 5\", \n",
      "    \"Oil, Crude (Light, Texas)\", \n",
      "    \"Stilbene (trans-stilbene isomer)\", \n",
      "    \"Coal, Bituminous\", \n",
      "    \"Mg\", \n",
      "    \"Zeolite (Natrolite)\", \n",
      "    \"Steel, Stainless 304L\", \n",
      "    \"K\", \n",
      "    \"Mn\", \n",
      "    \"Gasoline\", \n",
      "    \"Iron Boride (Fe2B)\", \n",
      "    \"Clay\", \n",
      "    \"Indium\", \n",
      "    \"Bismuth Germanate (BGO)\", \n",
      "    \"Zn\", \n",
      "    \"Freon-13B1\", \n",
      "    \"Potassium Iodide\", \n",
      "    \"Freon-12B2\", \n",
      "    \"Gafchromic Sensor (GS)\", \n",
      "    \"Oil, Crude (Heavy, Cold Lake, Canada)\", \n",
      "    \"Hydrogen\", \n",
      "    \"Zr\", \n",
      "    \"Salt Water (T=20 C)\", \n",
      "    \"Methanol\", \n",
      "    \"Sepiolite\", \n",
      "    \"Barium sulfate\", \n",
      "    \"Tissue, Soft (ICRU four component)\", \n",
      "    \"Plutonium Flouride (PuF4)\", \n",
      "    \"Tissue, Soft (ICRP)\", \n",
      "    \"A-150 Tissue-Equivalent Plastic (A150TEP)\", \n",
      "    \"Fe\", \n",
      "    \"Polyurethane Foam (PUR)\", \n",
      "    \"Toluene\", \n",
      "    \"Gadolinium Silicate (GSO)\", \n",
      "    \"F\", \n",
      "    \"Sr\", \n",
      "    \"Si\", \n",
      "    \"Sn\", \n",
      "    \"Lead Tungstate (PWO)\", \n",
      "    \"V\", \n",
      "    \"Sc\", \n",
      "    \"Sb\", \n",
      "    \"Explosive compound, NG\", \n",
      "    \"Se\", \n",
      "    \"Explosive compound, NC\", \n",
      "    \"Bone Equivalent Plastic, B-110\", \n",
      "    \"Uranium Hexafluoride\", \n",
      "    \"Uranium Trioxide\", \n",
      "    \"Inconel-625\", \n",
      "    \"Barium Fluoride\", \n",
      "    \"La\", \n",
      "    \"Cadmium Nitrate Tetrahydrate\", \n",
      "    \"Muscle Equivalent-Liquid, without sucrose\", \n",
      "    \"Li\", \n",
      "    \"Lu\", \n",
      "    \"Uranyl Nitrate\", \n",
      "    \"Boral (65% Al-35% B4C)\", \n",
      "    \"Explosive compound, EGDN\", \n",
      "    \"Photographic Emulsion, Standard Nuclear\", \n",
      "    \"Beryllium Carbide\", \n",
      "    \"Iron, Wrought (Byers No.1)\", \n",
      "    \"Ferrous Sulfate Dosimeter Solution\", \n",
      "    \"Yb\", \n",
      "    \"Polycarbonate\", \n",
      "    \"Cadmium\", \n",
      "    \"Oil, Hydraulic\", \n",
      "    \"Tungsten\", \n",
      "    \"Silicon Dioxide (Alpha-quartz)\", \n",
      "    \"Steel, Stainless 316L\", \n",
      "    \"Plutonium Chloride\", \n",
      "    \"Sterotex\", \n",
      "    \"Glass, Plate\", \n",
      "    \"Ru\", \n",
      "    \"Steel, Stainless 202\", \n",
      "    \"Muscle, Skeletal\", \n",
      "    \"Re\", \n",
      "    \"Steel, Boron Stainless\", \n",
      "    \"Rb\", \n",
      "    \"Rh\", \n",
      "    \"Lithium Oxide\", \n",
      "    \"Cat litter (clumping)\", \n",
      "    \"Tissue Equivalent, MS20\", \n",
      "    \"Palladium\", \n",
      "    \"Uranium, Low Enriched (LEU)\", \n",
      "    \"Aluminum, alloy 2024-O\", \n",
      "    \"Oil, Fuel (Calif.)\", \n",
      "    \"Cadmium Telluride\", \n",
      "    \"Ne\", \n",
      "    \"Uranium, HEU, Health Physics Society\", \n",
      "    \"Rubber, Neoprene\", \n",
      "    \"Uranium, Natural (NU)\", \n",
      "    \"Plutonium Oxide (PuO)\", \n",
      "    \"Plutonium, Fuel Grade\", \n",
      "    \"Platinum\", \n",
      "    \"Rock, Granite\", \n",
      "    \"Rock, Sandstone\", \n",
      "    \"Boron Fluoride (BF3)\", \n",
      "    \"Incoloy-800\", \n",
      "    \"Cat litter (non-clumping)\", \n",
      "    \"Oil, Lard\", \n",
      "    \"Rubber, Natural\", \n",
      "    \"Uranyl Fluoride\", \n",
      "    \"Brick, Common Silica\", \n",
      "    \"Polyvinyl Toluene (PVT)\", \n",
      "    \"Tissue, Lung (ICRP)\", \n",
      "    \"Tissue, Testis (ICRU)\", \n",
      "    \"Inconel-718\", \n",
      "    \"Anthracene\", \n",
      "    \"Lutetium Oxyorthosilicate (LSO)\", \n",
      "    \"Aluminum, alloy 4043-O\", \n",
      "    \"Nitrogen\", \n",
      "    \"Potassium Oxide\", \n",
      "    \"Concrete, Barytes-Limonite\", \n",
      "    \"Uranium, Depleted, Typical\", \n",
      "    \"W\", \n",
      "    \"Gallium Arsenide\", \n",
      "    \"Steel, Stainless 347\", \n",
      "    \"Polyethylene Terephthalate (PET)\", \n",
      "    \"Rock, Shale\", \n",
      "    \"Glass Scintillator, Li Doped  (GSF1)\", \n",
      "    \"Zinc Selenide\", \n",
      "    \"Asphalt\", \n",
      "    \"Concrete, Boron Frits-baryte\", \n",
      "    \"Concrete, Ordinary (NBS 04)\", \n",
      "    \"Concrete, Magnetite\", \n",
      "    \"Uranium Nitride\", \n",
      "    \"Titanium\", \n",
      "    \"Eu\", \n",
      "    \"Concrete, Portland\", \n",
      "    \"Er\", \n",
      "    \"Concrete, Iron-limonite\", \n",
      "    \"Fiberglass, Type R\", \n",
      "    \"Bakelite\", \n",
      "    \"Fiberglass, Type E\", \n",
      "    \"Plutonium, Aged WGPu (B: 10-13% Pu-240)\", \n",
      "    \"Fiberglass, Type C\", \n",
      "    \"Concrete, Ordinary (NBS 03)\", \n",
      "    \"Cerium Fluoride\", \n",
      "    \"Glass Scintillator, Li Doped  (GS1, GS2, GS3)\", \n",
      "    \"Argon\", \n",
      "    \"Concrete, Limonite and steel\", \n",
      "    \"Photographic Emulsion, Gel in\", \n",
      "    \"Beryllium Oxide\", \n",
      "    \"B\", \n",
      "    \"Niobium\", \n",
      "    \"Kr\", \n",
      "    \"Yttrium Aluminum Garnet (YAG)\", \n",
      "    \"Nylon, Type 6 and Type 6/6\", \n",
      "    \"Concrete, Hanford Dry\", \n",
      "    \"Acetylene\", \n",
      "    \"Sodium Oxide\", \n",
      "    \"Xe\", \n",
      "    \"Zinc\", \n",
      "    \"Blood (ICRP)\", \n",
      "    \"Cadmium Tungstate (CWO)\", \n",
      "    \"Plutonium, DOE 3013 WGPu\", \n",
      "    \"Pd\", \n",
      "    \"Plutonium Oxide (Pu2O3)\", \n",
      "    \"P-5 gas\", \n",
      "    \"Earth, Typical Western U.S.\", \n",
      "    \"Uranium, HEU, Russian Average\", \n",
      "    \"Glass Scintillator, Li Doped  (KG1, KG2, KG3)\", \n",
      "    \"Ammonia (liquid at T= -79 C)\", \n",
      "    \"Lucite\", \n",
      "    \"Dy\", \n",
      "    \"Lithium Amide\", \n",
      "    \"Calcium Sulfate\", \n",
      "    \"Viton Fluoroelastomer\", \n",
      "    \"Carbon Dioxide\", \n",
      "    \"In\", \n",
      "    \"Boral (Aluminum 10% boron alloy)\", \n",
      "    \"Sodium Nitrate\", \n",
      "    \"Beryllium\", \n",
      "    \"Concrete, Iron-Portland\", \n",
      "    \"Muscle Equivalent-Liquid, with sucrose\", \n",
      "    \"Nickel\", \n",
      "    \"Freon-12\", \n",
      "    \"Fertilizer (Muriate of Potash)\", \n",
      "    \"Gypsum (Plaster of Paris)\", \n",
      "    \"Explosive compound, AN\", \n",
      "    \"Steel, Stainless 321\", \n",
      "    \"Steel, Stainless 302\", \n",
      "    \"Steel, Stainless 304\", \n",
      "    \"Uranium, Enriched, Typical Commercial\", \n",
      "    \"Uranium-Plutonium, Mixed Oxide (MOX)\", \n",
      "    \"Rubber, Butyl\", \n",
      "    \"Carbon, Amorphous\", \n",
      "    \"Uranium Dicarbide\", \n",
      "    \"Lithium Tetraborate\", \n",
      "    \"H\", \n",
      "    \"Titanium Dioxide\", \n",
      "    \"Glass Scintillator, Li Doped  (GS10, GS20, GS30)\", \n",
      "    \"Tantalum\", \n",
      "    \"Uranium Carbide\", \n",
      "    \"Water, Vapor\", \n",
      "    \"Silicon Carbide (hexagonal)\", \n",
      "    \"Uranium Hydride\", \n",
      "    \"Concrete, Barite (Type BA)\", \n",
      "    \"Lithium Hydride\", \n",
      "    \"Tissue Equivalent-Gas, methane based  (TEG: MB)\", \n",
      "    \"Plutonium, Shefelbine WGPu\", \n",
      "    \"Aluminum, alloy 2090-T83\", \n",
      "    \"Pr\", \n",
      "    \"Lithium Iodide (low density)\", \n",
      "    \"Yttrium OxyorthoSilicate (YSO)\", \n",
      "    \"He-3 proportional gas\", \n",
      "    \"Asphalt pavement\", \n",
      "    \"C\", \n",
      "    \"Pb\", \n",
      "    \"Pa\", \n",
      "    \"Concrete, Hanford Wet\", \n",
      "    \"Tributyl Phosphate (TBP)\", \n",
      "    \"Plutonium Flouride (PuF6)\", \n",
      "    \"Rock (Average of 5 types)\", \n",
      "    \"Brick, Kaolin (white)\", \n",
      "    \"Uranium Dioxide\", \n",
      "    \"Steel, HT9 Stainless\", \n",
      "    \"Thorium\", \n",
      "    \"Explosive compound, TNT\", \n",
      "    \"Aluminum, alloy 7075-O\", \n",
      "    \"Nylon, Type 6/10\", \n",
      "    \"Germanium, High Purity\", \n",
      "    \"Mo\", \n",
      "    \"Boron Carbide\", \n",
      "    \"Photographic Emulsion, Kodak Type AA\", \n",
      "    \"Mercury Iodide\", \n",
      "    \"Silicon\", \n",
      "    \"Sand\", \n",
      "    \"Plutonium Flouride (PuF3)\", \n",
      "    \"Pt\", \n",
      "    \"S\", \n",
      "    \"Aluminum, alloy 3003\", \n",
      "    \"Ethyl Alcohol\", \n",
      "    \"Steel, Carbon\", \n",
      "    \"Iron, Cast (gray)\", \n",
      "    \"Borax\", \n",
      "    \"Concrete, Colemanite-baryte\", \n",
      "    \"Aluminum Oxide\", \n",
      "    \"Skin (ICRP)\", \n",
      "    \"Brick, Fire\", \n",
      "    \"Zircaloy-2\", \n",
      "    \"Zircaloy-4\", \n",
      "    \"Tissue Equivalent-Gas, propane based  (TEG: PB)\", \n",
      "    \"Glycerol\", \n",
      "    \"Coal, Lignite\", \n",
      "    \"Uranium Tetrafluoride\", \n",
      "    \"Acetone\", \n",
      "    \"Tissue, Ovary\", \n",
      "    \"Zirconium\", \n",
      "    \"N\", \n",
      "    \"Ethane\", \n",
      "    \"Kapton Polyimide Film\", \n",
      "    \"Benzene\", \n",
      "    \"Co\", \n",
      "    \"Plutonium Carbide\", \n",
      "    \"Cl\", \n",
      "    \"Ca\", \n",
      "    \"Ce\", \n",
      "    \"Cd\", \n",
      "    \"Zirconium Hydride (ZrH2)\", \n",
      "    \"Polypropylene (PP)\", \n",
      "    \"Cs\", \n",
      "    \"Cr\", \n",
      "    \"Cu\", \n",
      "    \"Kernite\", \n",
      "    \"Nylon, Dupont ELVAmide 8062\", \n",
      "    \"Tin\", \n",
      "    \"Melamine\", \n",
      "    \"Lithium\", \n",
      "    \"Rock, Limestone\", \n",
      "    \"Boron Oxide\", \n",
      "    \"Oxygen\", \n",
      "    \"Boric Acid\", \n",
      "    \"Silver\", \n",
      "    \"Plutonium, Aged WGPu (A: 4-7% Pu-240)\", \n",
      "    \"Molybdenum\", \n",
      "    \"I\", \n",
      "    \"Ferric Oxide\", \n",
      "    \"Concrete, Luminite-Portland-colemanite-baryte\", \n",
      "    \"Polyvinylidene Chloride (PVDC)\", \n",
      "    \"Iron\", \n",
      "    \"Y\", \n",
      "    \"Aluminum, alloy 6061-O\", \n",
      "    \"Ir\", \n",
      "    \"Te\", \n",
      "    \"Propane (gas)\", \n",
      "    \"Plutonium, Aged WGPu (C: 16-19% Pu-240)\", \n",
      "    \"Inconel-600\", \n",
      "    \"Carbon Tetrachloride\", \n",
      "    \"Tributyl Borate\", \n",
      "    \"Aluminum, alloy 5086-O\", \n",
      "    \"Rubber, Silicon\", \n",
      "    \"Cesium Iodide\", \n",
      "    \"Plutonium Dioxide\", \n",
      "    \"Concrete, MO\", \n",
      "    \"Tissue, Adipose (ICRP)\", \n",
      "    \"Celotex\", \n",
      "    \"Vermiculite, Exfoliated\", \n",
      "    \"Be\", \n",
      "    \"Titanium Hydride\", \n",
      "    \"Ba\", \n",
      "    \"Wax, Mix D\", \n",
      "    \"Lithium Gadrium Borate (LGB)\", \n",
      "    \"Bi\", \n",
      "    \"Coal, Anthracite\", \n",
      "    \"Zinc Sulfide\", \n",
      "    \"Br\", \n",
      "    \"Concrete, Regular\", \n",
      "    \"Yttrium Aluminum Perovskite (YAP)\", \n",
      "    \"P-terphenyl\", \n",
      "    \"Propane (liquid)\", \n",
      "    \"Kennertium\", \n",
      "    \"Magnesium\", \n",
      "    \"Steel, Stainless 409\", \n",
      "    \"Lithium Fluoride\", \n",
      "    \"Os\", \n",
      "    \"Alanine\", \n",
      "    \"Steel, Stainless 316\", \n",
      "    \"Lutetium Aluminum Garnet (LuAG)\", \n",
      "    \"Concrete, Ordinary (NIST)\", \n",
      "    \"Helium, Natural\", \n",
      "    \"Wax, M3\", \n",
      "    \"Plutonium Bromide\", \n",
      "    \"Uranium Oxide\", \n",
      "    \"Radiochromic Dye Film, Nylon Base  (RDF: NB)\", \n",
      "    \"Rock, Basalt\", \n",
      "    \"Kerosene\", \n",
      "    \"Eye Lens (ICRP)\", \n",
      "    \"Plutonium, Power Grade\", \n",
      "    \"Calcium Carbonate\", \n",
      "    \"Glass, Lead\", \n",
      "    \"Ceric Sulfate Dosimeter Solution\", \n",
      "    \"Hf\", \n",
      "    \"Oil, Crude (Heavy, Mexican)\", \n",
      "    \"He\", \n",
      "    \"Concrete, Los Alamos (MCNP)\", \n",
      "    \"O\", \n",
      "    \"C-552 Air-Equivalent Plastic\", \n",
      "    \"Potassium Aluminum Silicate\", \n",
      "    \"Glass, Borosilicate (Pyrex Glass)\", \n",
      "    \"Polyvinyl Chloride (PVC)\", \n",
      "    \"Monosodium Titanate, MST\", \n",
      "    \"Polyvinyl Acetate (PVA)\", \n",
      "    \"Carbon, Activated\", \n",
      "    \"Muscle, Striated\", \n",
      "    \"Iron Boride (FeB)\", \n",
      "    \"Ethylene\", \n",
      "    \"Ni\", \n",
      "    \"Felt\", \n",
      "    \"Na\", \n",
      "    \"Nb\", \n",
      "    \"Explosive compound, PETN\", \n",
      "    \"Nd\", \n",
      "    \"Wax, Paraffin\", \n",
      "    \"Polyethylene, Non-borated\", \n",
      "    \"Carbon, Graphite (reactor grade)\", \n",
      "    \"Concrete, Ferro-phosphorus\", \n",
      "    \"Gadolinium Oxysulfide\", \n",
      "    \"Bone Equivalent Plastic, B-100\", \n",
      "    \"Aluminum\", \n",
      "    \"Uranium, HEU, US Average\", \n",
      "    \"Explosive compound, RDX\", \n",
      "    \"Sodium Iodide\", \n",
      "    \"Ethyl Acetate\", \n",
      "    \"Kynar\", \n",
      "    \"Lutetium Yttrium OxyorthoSilicate (LYSO)\", \n",
      "    \"Sea Water, Simple Artificial\", \n",
      "    \"Glass, Foam\", \n",
      "    \"Thorium Dioxide\", \n",
      "    \"Diatomaceous Earth\", \n",
      "    \"Magnesium Oxide\", \n",
      "    \"Gold\", \n",
      "    \"Silicon Dioxide (Silica)\", \n",
      "    \"Lithium Iodide (high density)\", \n",
      "    \"Bronze (typical composition)\", \n",
      "    \"Chromium\", \n",
      "    \"Plutonium Nitride\", \n",
      "    \"Polytetrafluoroethylene (PTFE)\", \n",
      "    \"Bone, Cortical (ICRP)\", \n",
      "    \"Wood (Southern Pine)\", \n",
      "    \"Tl\", \n",
      "    \"Tm\", \n",
      "    \"Th\", \n",
      "    \"Ti\", \n",
      "    \"Ethylene Glycol\", \n",
      "    \"Tb\", \n",
      "    \"Water, Heavy\", \n",
      "    \"Ta\", \n",
      "    \"Concrete, Magnetite and steel\", \n",
      "    \"Steel, Stainless 440\", \n",
      "    \"Calcium Fluoride\", \n",
      "    \"Kaowool\", \n",
      "    \"Sodium Chloride\", \n",
      "    \"Salt Water (T=0 C)\", \n",
      "    \"Boron\", \n",
      "    \"Nylon, Type 11 (Rilsan)\", \n",
      "    \"Earth, U.S. Average\", \n",
      "    \"Boral (Aluminum 5% boron alloy)\", \n",
      "    \"Plutonium Nitrate\", \n",
      "    \"Freon-13I1\", \n",
      "    \"Polyisocyanurate (PIR)\", \n",
      "    \"Tissue, Testes (ICRP)\", \n",
      "    \"Sea Water, Standard\", \n",
      "    \"U\", \n",
      "    \"Xenon\", \n",
      "    \"Ag\", \n",
      "    \"Bone, Compact (ICRU)\", \n",
      "    \"Zirconium Hydride (Zr5H8)\", \n",
      "    \"Brain (ICRP)\", \n",
      "    \"Al\", \n",
      "    \"As\", \n",
      "    \"Ar\", \n",
      "    \"Au\"\n",
      "]\n"
     ]
    }
   ],
   "source": [
    "print json.dumps(mats.keys(), indent=4)"
   ]
  },
  {
   "cell_type": "code",
   "execution_count": 4,
   "metadata": {
    "collapsed": false
   },
   "outputs": [
    {
     "name": "stdout",
     "output_type": "stream",
     "text": [
      "<class 'pyne.material.Material'>\n"
     ]
    }
   ],
   "source": [
    "print type(mats[\"Lead\"])"
   ]
  },
  {
   "cell_type": "code",
   "execution_count": 6,
   "metadata": {
    "collapsed": false
   },
   "outputs": [
    {
     "name": "stdout",
     "output_type": "stream",
     "text": [
      "False\n"
     ]
    }
   ],
   "source": [
    "print \"Adipose Tissue\" in mats.keys()"
   ]
  },
  {
   "cell_type": "code",
   "execution_count": 7,
   "metadata": {
    "collapsed": false
   },
   "outputs": [
    {
     "data": {
      "text/plain": [
       "pyne.material.Material"
      ]
     },
     "execution_count": 7,
     "metadata": {},
     "output_type": "execute_result"
    }
   ],
   "source": [
    "type(mats['Lead'])"
   ]
  },
  {
   "cell_type": "code",
   "execution_count": 8,
   "metadata": {
    "collapsed": false
   },
   "outputs": [],
   "source": [
    "l = mats['Lead']"
   ]
  },
  {
   "cell_type": "code",
   "execution_count": 9,
   "metadata": {
    "collapsed": false
   },
   "outputs": [],
   "source": [
    "p = mats['Concrete, Portland']"
   ]
  },
  {
   "cell_type": "code",
   "execution_count": 11,
   "metadata": {
    "collapsed": false
   },
   "outputs": [
    {
     "data": {
      "text/plain": [
       "-1.0"
      ]
     },
     "execution_count": 11,
     "metadata": {},
     "output_type": "execute_result"
    }
   ],
   "source": [
    "p.atoms_per_molecule"
   ]
  },
  {
   "cell_type": "code",
   "execution_count": 12,
   "metadata": {
    "collapsed": false
   },
   "outputs": [
    {
     "name": "stdout",
     "output_type": "stream",
     "text": [
      "C name: Concrete, Portland\n",
      "C density = 2.3\n",
      "m?\n",
      "     1001 -9.9977e-03\n",
      "     1002 -2.2980e-06\n",
      "     6012 -9.8842e-04\n",
      "     6013 -1.1584e-05\n",
      "     8016 -5.2767e-01\n",
      "     8017 -2.1362e-04\n",
      "     8018 -1.2202e-03\n",
      "     11023 -1.6000e-02\n",
      "     12024 -1.5590e-03\n",
      "     12025 -2.0560e-04\n",
      "     12026 -2.3540e-04\n",
      "     13027 -3.3872e-02\n",
      "     14028 -3.0961e-01\n",
      "     14029 -1.6290e-02\n",
      "     14030 -1.1121e-02\n",
      "     19039 -1.2082e-02\n",
      "     19040 -1.5547e-06\n",
      "     19041 -9.1663e-04\n",
      "     20040 -4.2531e-02\n",
      "     20042 -2.9804e-04\n",
      "     20043 -6.3670e-05\n",
      "     20044 -1.0066e-03\n",
      "     20046 -2.0180e-06\n",
      "     20048 -9.8446e-05\n",
      "     26054 -7.9038e-04\n",
      "     26056 -1.2866e-02\n",
      "     26057 -3.0245e-04\n",
      "     26058 -4.0956e-05\n",
      "\n"
     ]
    }
   ],
   "source": [
    "print p.mcnp()"
   ]
  },
  {
   "cell_type": "code",
   "execution_count": 13,
   "metadata": {
    "collapsed": true
   },
   "outputs": [],
   "source": [
    "import pyne.material"
   ]
  },
  {
   "cell_type": "code",
   "execution_count": 14,
   "metadata": {
    "collapsed": false
   },
   "outputs": [
    {
     "ename": "RuntimeError",
     "evalue": "File not found: 1001",
     "output_type": "error",
     "traceback": [
      "\u001b[0;31m---------------------------------------------------------------------------\u001b[0m",
      "\u001b[0;31mRuntimeError\u001b[0m                              Traceback (most recent call last)",
      "\u001b[0;32m<ipython-input-14-a14c7007a682>\u001b[0m in \u001b[0;36m<module>\u001b[0;34m()\u001b[0m\n\u001b[0;32m----> 1\u001b[0;31m \u001b[0mh2\u001b[0m \u001b[0;34m=\u001b[0m \u001b[0mpyne\u001b[0m\u001b[0;34m.\u001b[0m\u001b[0mmaterial\u001b[0m\u001b[0;34m.\u001b[0m\u001b[0mMaterial\u001b[0m\u001b[0;34m(\u001b[0m\u001b[0;34m'1001'\u001b[0m\u001b[0;34m)\u001b[0m\u001b[0;34m\u001b[0m\u001b[0m\n\u001b[0m",
      "\u001b[0;32mpyne/material.pyx\u001b[0m in \u001b[0;36mpyne.material._Material.__cinit__ (/Users/scopatz/minicoda2/conda-bld/work/pyne-master/build/pyne/material.cxx:3935)\u001b[0;34m()\u001b[0m\n",
      "\u001b[0;31mRuntimeError\u001b[0m: File not found: 1001"
     ]
    }
   ],
   "source": [
    "h2 = pyne.material.Material('1001')"
   ]
  },
  {
   "cell_type": "code",
   "execution_count": 15,
   "metadata": {
    "collapsed": false
   },
   "outputs": [
    {
     "name": "stdout",
     "output_type": "stream",
     "text": [
      "Material:\n",
      "mass = 1.0\n",
      "density = 2.3\n",
      "atoms per molecule = -1.0\n",
      "name = Concrete, Portland\n",
      "table_ids = {\n",
      "   \"1001\" : null,\n",
      "   \"1002\" : null,\n",
      "   \"11023\" : null,\n",
      "   \"12024\" : null,\n",
      "   \"12025\" : null,\n",
      "   \"12026\" : null,\n",
      "   \"13027\" : null,\n",
      "   \"14028\" : null,\n",
      "   \"14029\" : null,\n",
      "   \"14030\" : null,\n",
      "   \"19039\" : null,\n",
      "   \"19040\" : null,\n",
      "   \"19041\" : null,\n",
      "   \"20040\" : null,\n",
      "   \"20042\" : null,\n",
      "   \"20043\" : null,\n",
      "   \"20044\" : null,\n",
      "   \"20046\" : null,\n",
      "   \"20048\" : null,\n",
      "   \"26054\" : null,\n",
      "   \"26056\" : null,\n",
      "   \"26057\" : null,\n",
      "   \"26058\" : null,\n",
      "   \"6012\" : null,\n",
      "   \"6013\" : null,\n",
      "   \"8016\" : null,\n",
      "   \"8017\" : null,\n",
      "   \"8018\" : null\n",
      "}\n",
      "-----------------------------------------------------------------------------------------------------------------------------------------------------------------------------------------------------------------------------------------------------------------------------------------------------------------------------------------------------------------------------------------------------------------------------------------------------------------------------------------------------------------------------------------------------------\n",
      "H1     0.00999770203057\n",
      "H2     2.29796943473e-06\n",
      "C12    0.000988415705921\n",
      "C13    1.15842940792e-05\n",
      "O16    0.527673134583\n",
      "O17    0.000213623985802\n",
      "O18    0.00122024143086\n",
      "Na23   0.016\n",
      "Mg24   0.00155899972835\n",
      "Mg25   0.000205602007079\n",
      "Mg26   0.000235398264568\n",
      "Al27   0.033872\n",
      "Si28   0.309609352441\n",
      "Si29   0.0162903443699\n",
      "Si30   0.0111213031896\n",
      "K39    0.0120818181268\n",
      "K40    1.55467730811e-06\n",
      "K41    0.000916627195847\n",
      "Ca40   0.0425311889753\n",
      "Ca42   0.000298038140992\n",
      "Ca43   6.36695766542e-05\n",
      "Ca44   0.0010066389674\n",
      "Ca46   2.01802603056e-06\n",
      "Ca48   9.84463136128e-05\n",
      "Fe54   0.000790378151651\n",
      "Fe56   0.0128662140282\n",
      "Fe57   0.000302451606359\n",
      "Fe58   4.09562137923e-05\n"
     ]
    }
   ],
   "source": [
    "print p"
   ]
  },
  {
   "cell_type": "code",
   "execution_count": 16,
   "metadata": {
    "collapsed": true
   },
   "outputs": [],
   "source": [
    "p.I = 17"
   ]
  },
  {
   "cell_type": "code",
   "execution_count": 17,
   "metadata": {
    "collapsed": false
   },
   "outputs": [
    {
     "name": "stdout",
     "output_type": "stream",
     "text": [
      "{10010000: 0.168739242014472, 10020000: 1.940724466480073e-05, 60120000: 0.001401068721587841, 60130000: 1.5153578612139796e-05, 80160000: 0.5611566363738685, 80170000: 0.00021375895608535746, 80180000: 0.0011531733157236384, 110230000: 0.011838220251904114, 120240000: 0.0011056218367920987, 120250000: 0.0001399698489419039, 120260000: 0.00015410680368503618, 130270000: 0.02135380027931956, 140280000: 0.18824138721259517, 140290000: 0.009562808617058743, 140300000: 0.006311249571813369, 190390000: 0.00527440016937946, 190400000: 6.617171267883402e-07, 190410000: 0.0003806400518556313, 200400000: 0.01810318264289306, 200420000: 0.00012082358516986424, 200430000: 2.5210485313650192e-05, 200440000: 0.0003895486841798097, 200460000: 7.469773426266723e-07, 200480000: 3.492119076779694e-05, 260540000: 0.00024924598933411825, 260560000: 0.003912629000062051, 260570000: 9.035966662087197e-05, 260580000: 1.2025212830149074e-05}\n"
     ]
    }
   ],
   "source": [
    "print p.to_atom_frac()"
   ]
  },
  {
   "cell_type": "code",
   "execution_count": 20,
   "metadata": {
    "collapsed": false
   },
   "outputs": [
    {
     "name": "stdout",
     "output_type": "stream",
     "text": [
      "H1\t:\t0.168739242014\t:\t0.168739242014\n",
      "H2\t:\t1.94072446648e-05\t:\t1.94072446648e-05\n",
      "C12\t:\t0.00140106872159\t:\t0.00140106872159\n",
      "C13\t:\t1.51535786121e-05\t:\t1.51535786121e-05\n",
      "O16\t:\t0.561156636374\t:\t0.561156636374\n",
      "O17\t:\t0.000213758956085\t:\t0.000213758956085\n",
      "O18\t:\t0.00115317331572\t:\t0.00115317331572\n",
      "Na23\t:\t0.0118382202519\t:\t0.0118382202519\n",
      "Mg24\t:\t0.00110562183679\t:\t0.00110562183679\n",
      "Mg25\t:\t0.000139969848942\t:\t0.000139969848942\n",
      "Mg26\t:\t0.000154106803685\t:\t0.000154106803685\n",
      "Al27\t:\t0.0213538002793\t:\t0.0213538002793\n",
      "Si28\t:\t0.188241387213\t:\t0.188241387213\n",
      "Si29\t:\t0.00956280861706\t:\t0.00956280861706\n",
      "Si30\t:\t0.00631124957181\t:\t0.00631124957181\n",
      "K39\t:\t0.00527440016938\t:\t0.00527440016938\n",
      "K40\t:\t6.61717126788e-07\t:\t6.61717126788e-07\n",
      "K41\t:\t0.000380640051856\t:\t0.000380640051856\n",
      "Ca40\t:\t0.0181031826429\t:\t0.0181031826429\n",
      "Ca42\t:\t0.00012082358517\t:\t0.00012082358517\n",
      "Ca43\t:\t2.52104853137e-05\t:\t2.52104853137e-05\n",
      "Ca44\t:\t0.00038954868418\t:\t0.00038954868418\n",
      "Ca46\t:\t7.46977342627e-07\t:\t7.46977342627e-07\n",
      "Ca48\t:\t3.49211907678e-05\t:\t3.49211907678e-05\n",
      "Fe54\t:\t0.000249245989334\t:\t0.000249245989334\n",
      "Fe56\t:\t0.00391262900006\t:\t0.00391262900006\n",
      "Fe57\t:\t9.03596666209e-05\t:\t9.03596666209e-05\n",
      "Fe58\t:\t1.20252128301e-05\t:\t1.20252128301e-05\n"
     ]
    }
   ],
   "source": [
    "for n, f in p.to_atom_frac().items():\n",
    "    print \"{0}\\t:\\t{1}\\t:\\t{1}\".format(nucname.name(n), f, nucname.znum(n) * f)"
   ]
  },
  {
   "cell_type": "code",
   "execution_count": 21,
   "metadata": {
    "collapsed": true
   },
   "outputs": [],
   "source": [
    "portland_z_frac = [nucname.znum(n)*f for n, f in p.to_atom_frac().items()]"
   ]
  },
  {
   "cell_type": "code",
   "execution_count": 22,
   "metadata": {
    "collapsed": false
   },
   "outputs": [
    {
     "data": {
      "text/plain": [
       "[0.168739242014472,\n",
       " 1.940724466480073e-05,\n",
       " 0.008406412329527047,\n",
       " 9.092147167283877e-05,\n",
       " 4.489253090990948,\n",
       " 0.0017100716486828597,\n",
       " 0.009225386525789107,\n",
       " 0.13022042277094525,\n",
       " 0.013267462041505185,\n",
       " 0.0016796381873028469,\n",
       " 0.0018492816442204343,\n",
       " 0.27759940363115426,\n",
       " 2.6353794209763324,\n",
       " 0.1338793206388224,\n",
       " 0.08835749400538717,\n",
       " 0.10021360321820974,\n",
       " 1.2572625408978463e-05,\n",
       " 0.0072321609852569945,\n",
       " 0.36206365285786124,\n",
       " 0.0024164717033972848,\n",
       " 0.0005042097062730039,\n",
       " 0.007790973683596193,\n",
       " 1.4939546852533446e-05,\n",
       " 0.0006984238153559388,\n",
       " 0.006480395722687075,\n",
       " 0.10172835400161333,\n",
       " 0.002349351332142671,\n",
       " 0.00031265553358387593]"
      ]
     },
     "execution_count": 22,
     "metadata": {},
     "output_type": "execute_result"
    }
   ],
   "source": [
    "portland_z_frac"
   ]
  },
  {
   "cell_type": "code",
   "execution_count": 23,
   "metadata": {
    "collapsed": false
   },
   "outputs": [
    {
     "name": "stdout",
     "output_type": "stream",
     "text": [
      "8.55149474085\n"
     ]
    }
   ],
   "source": [
    "print sum(portland_z_frac)"
   ]
  },
  {
   "cell_type": "code",
   "execution_count": 25,
   "metadata": {
    "collapsed": false
   },
   "outputs": [],
   "source": [
    "w = mats[\"Water, Liquid\"]"
   ]
  },
  {
   "cell_type": "code",
   "execution_count": 26,
   "metadata": {
    "collapsed": false
   },
   "outputs": [
    {
     "name": "stdout",
     "output_type": "stream",
     "text": [
      "H1\t:\t0.666580189037\t:\t0.666580189037\n",
      "H2\t:\t7.66655382762e-05\t:\t7.66655382762e-05\n",
      "O16\t:\t0.332533121581\t:\t0.332533121581\n",
      "O17\t:\t0.000126670395261\t:\t0.000126670395261\n",
      "O18\t:\t0.00068335344812\t:\t0.00068335344812\n"
     ]
    }
   ],
   "source": [
    "for n, f in w.to_atom_frac().items():\n",
    "    print \"{0}\\t:\\t{1}\\t:\\t{1}\".format(nucname.name(n), f, nucname.znum(n) * f)"
   ]
  },
  {
   "cell_type": "code",
   "execution_count": 27,
   "metadata": {
    "collapsed": false
   },
   "outputs": [
    {
     "data": {
      "text/plain": [
       "3.333402017971988"
      ]
     },
     "execution_count": 27,
     "metadata": {},
     "output_type": "execute_result"
    }
   ],
   "source": [
    "sum([nucname.znum(n)*f for n, f in w.to_atom_frac().items()])"
   ]
  },
  {
   "cell_type": "code",
   "execution_count": 28,
   "metadata": {
    "collapsed": false
   },
   "outputs": [
    {
     "data": {
      "text/plain": [
       "3.333333333333333"
      ]
     },
     "execution_count": 28,
     "metadata": {},
     "output_type": "execute_result"
    }
   ],
   "source": [
    "2.0/3*1 + 1.0/3*8"
   ]
  },
  {
   "cell_type": "code",
   "execution_count": null,
   "metadata": {
    "collapsed": true
   },
   "outputs": [],
   "source": []
  }
 ],
 "metadata": {
  "anaconda-cloud": {},
  "kernelspec": {
   "display_name": "Python [conda env:nuc]",
   "language": "python",
   "name": "conda-env-nuc-py"
  },
  "language_info": {
   "codemirror_mode": {
    "name": "ipython",
    "version": 2
   },
   "file_extension": ".py",
   "mimetype": "text/x-python",
   "name": "python",
   "nbconvert_exporter": "python",
   "pygments_lexer": "ipython2",
   "version": "2.7.12"
  },
  "latex_envs": {
   "bibliofile": "biblio.bib",
   "cite_by": "apalike",
   "current_citInitial": 1,
   "eqLabelWithNumbers": true,
   "eqNumInitial": 0
  }
 },
 "nbformat": 4,
 "nbformat_minor": 1
}
