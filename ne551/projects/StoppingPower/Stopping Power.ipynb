{
 "cells": [
  {
   "cell_type": "markdown",
   "metadata": {},
   "source": [
    "# NE551 Stopping Power Assignment #"
   ]
  },
  {
   "cell_type": "markdown",
   "metadata": {},
   "source": [
    "## Using the stopping power equations for *heavy ions*, develop a code that will: ##"
   ]
  },
  {
   "cell_type": "markdown",
   "metadata": {},
   "source": [
    "## Calculate the collisional mass stopping power of a charged particle (heavy ions with a given charge, Z) and kinetic energy through the materials listed below. For this assignment, heavy ions are any charged particle with mass greater than or equal to the proton ##"
   ]
  },
  {
   "cell_type": "code",
   "execution_count": 21,
   "metadata": {
    "code_folding": [
     1
    ],
    "collapsed": false
   },
   "outputs": [
    {
     "data": {
      "application/javascript": [
       "MathJax.Extension[\"TeX/cancel\"]={version:\"2.4.0\",ALLOWED:{color:1,mathcolor:1,background:1,mathbackground:1,padding:1,thickness:1}};MathJax.Hub.Register.StartupHook(\"TeX Jax Ready\",function(){var c=MathJax.InputJax.TeX,a=MathJax.ElementJax.mml,b=MathJax.Extension[\"TeX/cancel\"];b.setAttributes=function(h,e){if(e!==\"\"){e=e.replace(/ /g,\"\").split(/,/);for(var g=0,d=e.length;g<d;g++){var f=e[g].split(/[:=]/);if(b.ALLOWED[f[0]]){if(f[1]===\"true\"){f[1]=true}if(f[1]===\"false\"){f[1]=false}h[f[0]]=f[1]}}}return h};c.Definitions.Add({macros:{cancel:[\"Cancel\",a.NOTATION.UPDIAGONALSTRIKE],bcancel:[\"Cancel\",a.NOTATION.DOWNDIAGONALSTRIKE],xcancel:[\"Cancel\",a.NOTATION.UPDIAGONALSTRIKE+\" \"+a.NOTATION.DOWNDIAGONALSTRIKE],cancelto:\"CancelTo\"}},null,true);c.Parse.Augment({Cancel:function(e,g){var d=this.GetBrackets(e,\"\"),f=this.ParseArg(e);var h=b.setAttributes({notation:g},d);this.Push(a.menclose(f).With(h))},CancelTo:function(e,g){var i=this.ParseArg(e),d=this.GetBrackets(e,\"\"),f=this.ParseArg(e);var h=b.setAttributes({notation:a.NOTATION.UPDIAGONALSTRIKE+\" \"+a.NOTATION.UPDIAGONALARROW},d);i=a.mpadded(i).With({depth:\"-.1em\",height:\"+.1em\",voffset:\".1em\"});this.Push(a.msup(a.menclose(f).With(h),i))}});MathJax.Hub.Startup.signal.Post(\"TeX cancel Ready\")});MathJax.Ajax.loadComplete(\"[MathJax]/extensions/TeX/cancel.js\");"
      ],
      "text/plain": [
       "<IPython.core.display.Javascript object>"
      ]
     },
     "metadata": {},
     "output_type": "display_data"
    }
   ],
   "source": [
    "%%javascript\n",
    "MathJax.Extension[\"TeX/cancel\"]={version:\"2.4.0\",ALLOWED:{color:1,mathcolor:1,background:1,mathbackground:1,padding:1,thickness:1}};MathJax.Hub.Register.StartupHook(\"TeX Jax Ready\",function(){var c=MathJax.InputJax.TeX,a=MathJax.ElementJax.mml,b=MathJax.Extension[\"TeX/cancel\"];b.setAttributes=function(h,e){if(e!==\"\"){e=e.replace(/ /g,\"\").split(/,/);for(var g=0,d=e.length;g<d;g++){var f=e[g].split(/[:=]/);if(b.ALLOWED[f[0]]){if(f[1]===\"true\"){f[1]=true}if(f[1]===\"false\"){f[1]=false}h[f[0]]=f[1]}}}return h};c.Definitions.Add({macros:{cancel:[\"Cancel\",a.NOTATION.UPDIAGONALSTRIKE],bcancel:[\"Cancel\",a.NOTATION.DOWNDIAGONALSTRIKE],xcancel:[\"Cancel\",a.NOTATION.UPDIAGONALSTRIKE+\" \"+a.NOTATION.DOWNDIAGONALSTRIKE],cancelto:\"CancelTo\"}},null,true);c.Parse.Augment({Cancel:function(e,g){var d=this.GetBrackets(e,\"\"),f=this.ParseArg(e);var h=b.setAttributes({notation:g},d);this.Push(a.menclose(f).With(h))},CancelTo:function(e,g){var i=this.ParseArg(e),d=this.GetBrackets(e,\"\"),f=this.ParseArg(e);var h=b.setAttributes({notation:a.NOTATION.UPDIAGONALSTRIKE+\" \"+a.NOTATION.UPDIAGONALARROW},d);i=a.mpadded(i).With({depth:\"-.1em\",height:\"+.1em\",voffset:\".1em\"});this.Push(a.msup(a.menclose(f).With(h),i))}});MathJax.Hub.Startup.signal.Post(\"TeX cancel Ready\")});MathJax.Ajax.loadComplete(\"[MathJax]/extensions/TeX/cancel.js\");"
   ]
  },
  {
   "cell_type": "code",
   "execution_count": 22,
   "metadata": {
    "collapsed": false
   },
   "outputs": [],
   "source": [
    "import pyne.data as data\n",
    "import math\n",
    "import scipy.constants as const"
   ]
  },
  {
   "cell_type": "markdown",
   "metadata": {},
   "source": [
    "Equation 2.22 from Anderson: \n",
    "\n",
    "\\begin{equation}\n",
    "S_c = 4 z^2 \\pi r_o^2 m_e \\cancel{c^2} N_A \\frac{Z}{M_m} \\rho \\frac{\\left( T + M \\cancel{c^2} \\right) ^2}{T \\left( T + 2 M \\cancel{c^2} \\right) } ln \\left( \\frac{2 m_e \\cancel{c^2} T \\left( T + 2 M \\cancel{c^2} \\right) }{I \\left( T + M \\cancel{c^2} \\right)^2} \\right)\n",
    "\\end{equation}"
   ]
  },
  {
   "cell_type": "markdown",
   "metadata": {},
   "source": [
    "First, import useful constants:"
   ]
  },
  {
   "cell_type": "code",
   "execution_count": 23,
   "metadata": {
    "collapsed": false
   },
   "outputs": [],
   "source": [
    "pi = math.pi\n",
    "r = const.value('classical electron radius') * 100.0 # Convert 1m = 100cm\n",
    "m_e = const.value('electron mass energy equivalent in MeV')\n",
    "N_A = const.value('Avogadro constant')\n",
    "m_to_e = const.physical_constants['atomic mass constant energy equivalent in MeV'][0]"
   ]
  },
  {
   "cell_type": "code",
   "execution_count": 24,
   "metadata": {
    "code_folding": [
     0
    ],
    "collapsed": false
   },
   "outputs": [],
   "source": [
    "def I(material):\n",
    "    \"\"\"Looks up the Adjusted Average Excitation Energy if Z<=13. Otherwise calculates it\"\"\"\n",
    "    # For now, specify material with Z value\n",
    "    Z = material\n",
    "    \n",
    "    # Z must be an integer\n",
    "    assert type(Z) == type(4)\n",
    "    \n",
    "    # Lookup table for Z<=13. Key is the \"Z\" of the material. Values are in eV\n",
    "    lookup_table = {\n",
    "        1: 18.9,\n",
    "        2: 42.0,\n",
    "        3: 38.0,\n",
    "        4: 60.0, \n",
    "        6: 78.0,\n",
    "        7: 85.0,\n",
    "        8: 89.0,\n",
    "        10: 131.0,\n",
    "        13: 163.0\n",
    "    }\n",
    "    \n",
    "    # Check to see if Z is in our table\n",
    "    I_a = lookup_table.get(Z)\n",
    "    \n",
    "    # If I is not in the table, calculate it\n",
    "    # Use Anderson Equation 2.33\n",
    "    if I_a is None:\n",
    "        I_a = 9.73 * Z + 58.8 * Z ** -0.19\n",
    "    \n",
    "    return I_a"
   ]
  },
  {
   "cell_type": "code",
   "execution_count": null,
   "metadata": {
    "code_folding": [
     0
    ],
    "collapsed": true
   },
   "outputs": [],
   "source": [
    "def beta_squared(T, m):\n",
    "    \"\"\" Gives value of beta^2 for a given Mass (MeV/c^2) and Kinetic Energy (MeV)\n",
    "    \"\"\"\n",
    "    numerator = T * (T + 2 * m)\n",
    "    denominator = (T + M) ** 2\n",
    "    return numerator / denominator"
   ]
  },
  {
   "cell_type": "code",
   "execution_count": 28,
   "metadata": {
    "code_folding": [],
    "collapsed": true
   },
   "outputs": [],
   "source": [
    "def S_c(incident, target, T, density, M_m, M_b):\n",
    "    \"\"\" Returns the stopping power in MeV/cm\n",
    "        T in MeV\n",
    "        density in g/cm^3\n",
    "    \"\"\"\n",
    "    # Currently the incident and target are specified in Z number. incident is assumed to be fully ionized\n",
    "    z = incident\n",
    "    Z = target\n",
    "    \n",
    "    # Convert the mass of the beam particles into MeV\n",
    "    M_b = M_b * m_to_e\n",
    "    \n",
    "    first = 4 * (z ** 2) * pi * (r ** 2) * m_e\n",
    "    second = N_A * Z * density / M_m # TODO: Take M_m from a Pyne material\n",
    "    third = (T + M_b) ** 2 / (T * (T + 2 * M_b))\n",
    "    logpart = (2 * m_e * T * (T + 2 * M_b)) / (I(Z) * (T + M_b) ** 2)\n",
    "    fourth = math.log(logpart)\n",
    "    \n",
    "    print T\n",
    "    print m_e\n",
    "    print M_b\n",
    "    print I(Z)\n",
    "    \n",
    "    return first * second * third * fourth"
   ]
  },
  {
   "cell_type": "code",
   "execution_count": 29,
   "metadata": {
    "collapsed": false
   },
   "outputs": [
    {
     "name": "stdout",
     "output_type": "stream",
     "text": [
      "500\n",
      "0.5109989461\n",
      "26081.8346712\n",
      "163.0\n"
     ]
    },
    {
     "data": {
      "text/plain": [
       "-17568.0085564914"
      ]
     },
     "execution_count": 29,
     "metadata": {},
     "output_type": "execute_result"
    }
   ],
   "source": [
    "S_c(14, 13, 500, 2.7, 26.98154, 28.0)"
   ]
  },
  {
   "cell_type": "code",
   "execution_count": null,
   "metadata": {
    "collapsed": true
   },
   "outputs": [],
   "source": []
  }
 ],
 "metadata": {
  "anaconda-cloud": {},
  "kernelspec": {
   "display_name": "Python [conda env:nuc]",
   "language": "python",
   "name": "conda-env-nuc-py"
  },
  "language_info": {
   "codemirror_mode": {
    "name": "ipython",
    "version": 2
   },
   "file_extension": ".py",
   "mimetype": "text/x-python",
   "name": "python",
   "nbconvert_exporter": "python",
   "pygments_lexer": "ipython2",
   "version": "2.7.12"
  },
  "latex_envs": {
   "bibliofile": "biblio.bib",
   "cite_by": "apalike",
   "current_citInitial": 1,
   "eqLabelWithNumbers": true,
   "eqNumInitial": 0
  }
 },
 "nbformat": 4,
 "nbformat_minor": 1
}
