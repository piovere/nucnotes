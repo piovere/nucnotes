{
 "cells": [
  {
   "cell_type": "markdown",
   "metadata": {},
   "source": [
    "# NE551 Stopping Power Assignment #"
   ]
  },
  {
   "cell_type": "markdown",
   "metadata": {},
   "source": [
    "## Using the stopping power equations for *heavy ions*, develop a code that will: ##"
   ]
  },
  {
   "cell_type": "markdown",
   "metadata": {},
   "source": [
    "### Calculate the collisional mass stopping power of a charged particle (heavy ions with a given charge, Z) and kinetic energy through the materials listed below. For this assignment, heavy ions are any charged particle with mass greater than or equal to the proton ###"
   ]
  },
  {
   "cell_type": "code",
   "execution_count": 1,
   "metadata": {
    "code_folding": [
     0,
     1
    ],
    "collapsed": false
   },
   "outputs": [
    {
     "data": {
      "application/javascript": [
       "MathJax.Extension[\"TeX/cancel\"]={version:\"2.4.0\",ALLOWED:{color:1,mathcolor:1,background:1,mathbackground:1,padding:1,thickness:1}};MathJax.Hub.Register.StartupHook(\"TeX Jax Ready\",function(){var c=MathJax.InputJax.TeX,a=MathJax.ElementJax.mml,b=MathJax.Extension[\"TeX/cancel\"];b.setAttributes=function(h,e){if(e!==\"\"){e=e.replace(/ /g,\"\").split(/,/);for(var g=0,d=e.length;g<d;g++){var f=e[g].split(/[:=]/);if(b.ALLOWED[f[0]]){if(f[1]===\"true\"){f[1]=true}if(f[1]===\"false\"){f[1]=false}h[f[0]]=f[1]}}}return h};c.Definitions.Add({macros:{cancel:[\"Cancel\",a.NOTATION.UPDIAGONALSTRIKE],bcancel:[\"Cancel\",a.NOTATION.DOWNDIAGONALSTRIKE],xcancel:[\"Cancel\",a.NOTATION.UPDIAGONALSTRIKE+\" \"+a.NOTATION.DOWNDIAGONALSTRIKE],cancelto:\"CancelTo\"}},null,true);c.Parse.Augment({Cancel:function(e,g){var d=this.GetBrackets(e,\"\"),f=this.ParseArg(e);var h=b.setAttributes({notation:g},d);this.Push(a.menclose(f).With(h))},CancelTo:function(e,g){var i=this.ParseArg(e),d=this.GetBrackets(e,\"\"),f=this.ParseArg(e);var h=b.setAttributes({notation:a.NOTATION.UPDIAGONALSTRIKE+\" \"+a.NOTATION.UPDIAGONALARROW},d);i=a.mpadded(i).With({depth:\"-.1em\",height:\"+.1em\",voffset:\".1em\"});this.Push(a.msup(a.menclose(f).With(h),i))}});MathJax.Hub.Startup.signal.Post(\"TeX cancel Ready\")});MathJax.Ajax.loadComplete(\"[MathJax]/extensions/TeX/cancel.js\");"
      ],
      "text/plain": [
       "<IPython.core.display.Javascript object>"
      ]
     },
     "metadata": {},
     "output_type": "display_data"
    }
   ],
   "source": [
    "%%javascript\n",
    "MathJax.Extension[\"TeX/cancel\"]={version:\"2.4.0\",ALLOWED:{color:1,mathcolor:1,background:1,mathbackground:1,padding:1,thickness:1}};MathJax.Hub.Register.StartupHook(\"TeX Jax Ready\",function(){var c=MathJax.InputJax.TeX,a=MathJax.ElementJax.mml,b=MathJax.Extension[\"TeX/cancel\"];b.setAttributes=function(h,e){if(e!==\"\"){e=e.replace(/ /g,\"\").split(/,/);for(var g=0,d=e.length;g<d;g++){var f=e[g].split(/[:=]/);if(b.ALLOWED[f[0]]){if(f[1]===\"true\"){f[1]=true}if(f[1]===\"false\"){f[1]=false}h[f[0]]=f[1]}}}return h};c.Definitions.Add({macros:{cancel:[\"Cancel\",a.NOTATION.UPDIAGONALSTRIKE],bcancel:[\"Cancel\",a.NOTATION.DOWNDIAGONALSTRIKE],xcancel:[\"Cancel\",a.NOTATION.UPDIAGONALSTRIKE+\" \"+a.NOTATION.DOWNDIAGONALSTRIKE],cancelto:\"CancelTo\"}},null,true);c.Parse.Augment({Cancel:function(e,g){var d=this.GetBrackets(e,\"\"),f=this.ParseArg(e);var h=b.setAttributes({notation:g},d);this.Push(a.menclose(f).With(h))},CancelTo:function(e,g){var i=this.ParseArg(e),d=this.GetBrackets(e,\"\"),f=this.ParseArg(e);var h=b.setAttributes({notation:a.NOTATION.UPDIAGONALSTRIKE+\" \"+a.NOTATION.UPDIAGONALARROW},d);i=a.mpadded(i).With({depth:\"-.1em\",height:\"+.1em\",voffset:\".1em\"});this.Push(a.msup(a.menclose(f).With(h),i))}});MathJax.Hub.Startup.signal.Post(\"TeX cancel Ready\")});MathJax.Ajax.loadComplete(\"[MathJax]/extensions/TeX/cancel.js\");"
   ]
  },
  {
   "cell_type": "code",
   "execution_count": 9,
   "metadata": {
    "collapsed": false
   },
   "outputs": [],
   "source": [
    "import pyne.data as data\n",
    "import math\n",
    "import scipy.constants as const\n",
    "import json"
   ]
  },
  {
   "cell_type": "markdown",
   "metadata": {},
   "source": [
    "Equation 2.22 from Anderson: \n",
    "\n",
    "\\begin{equation}\n",
    "S_c = 4 z^2 \\pi r_0^2 m_e \\cancel{c^2} N_A \\frac{Z}{M_m} \\rho \\frac{\\left( T + M \\cancel{c^2} \\right) ^2}{T \\left( T + 2 M \\cancel{c^2} \\right) } \\ln \\left( \\frac{2 m_e \\cancel{c^2} T \\left( T + 2 M \\cancel{c^2} \\right) }{I \\left( T + M \\cancel{c^2} \\right)^2} \\right)\n",
    "\\end{equation}\n",
    "This is equivalent to:\n",
    "\\begin{equation}\n",
    "S_c = 4 z^2 \\pi r_0^2 \\frac{m_e \\cancel{c^2} }{\\beta^2} \\frac{N_A \\rho}{M_m} Z \\ln \\left( \\frac{2 m_e \\cancel{c^2} \\gamma^2 \\beta^2}{I} \\right)\n",
    "\\end{equation}\n",
    "To calculate the collisional \\textit{mass} stopping power, divide this by $ \\rho $:\n",
    "\\begin{equation}\n",
    "S_c = 4 z^2 \\pi r_0^2 \\frac{m_e}{\\beta^2} \\frac{N_A}{M_m} Z \\ln \\left( \\frac{2 m_e \\gamma^2 \\beta^2}{I} \\right)\n",
    "\\end{equation}"
   ]
  },
  {
   "cell_type": "markdown",
   "metadata": {},
   "source": [
    "First, import useful constants (polluting the namespace):"
   ]
  },
  {
   "cell_type": "code",
   "execution_count": 10,
   "metadata": {
    "collapsed": false
   },
   "outputs": [],
   "source": [
    "pi = math.pi\n",
    "r_e = const.value('classical electron radius') * 100.0 # Convert 1m = 100cm\n",
    "m_e = const.value('electron mass energy equivalent in MeV')\n",
    "N_A = const.value('Avogadro constant')\n",
    "m_to_e = const.physical_constants['atomic mass constant energy equivalent in MeV'][0]"
   ]
  },
  {
   "cell_type": "code",
   "execution_count": 11,
   "metadata": {
    "code_folding": [
     0
    ],
    "collapsed": false
   },
   "outputs": [],
   "source": [
    "def I(material):\n",
    "    \"\"\" Looks up the Adjusted Average Excitation Energy if Z<=13. Otherwise calculates it\n",
    "        Output units are in MeV\n",
    "    \"\"\"\n",
    "    # For now, specify material with Z value\n",
    "    Z = material\n",
    "    \n",
    "    # Z must be an integer\n",
    "    assert type(Z) == type(4)\n",
    "    \n",
    "    # Lookup table for Z<=13. Key is the \"Z\" of the material. Values are in eV\n",
    "    lookup_table = {\n",
    "        1: 18.9,\n",
    "        2: 42.0,\n",
    "        3: 38.0,\n",
    "        4: 60.0, \n",
    "        6: 78.0,\n",
    "        7: 85.0,\n",
    "        8: 89.0,\n",
    "        10: 131.0,\n",
    "        13: 163.0\n",
    "    }\n",
    "    \n",
    "    # Check to see if Z is in our table\n",
    "    I_a = lookup_table.get(Z)\n",
    "    \n",
    "    # If I is not in the table, calculate it\n",
    "    # Use Anderson Equation 2.33\n",
    "    if I_a is None:\n",
    "        I_a = 9.73 * Z + 58.8 * Z ** -0.19\n",
    "    \n",
    "    # Convert I from eV to MeV\n",
    "    I_a = I_a * 10**-6.0\n",
    "    \n",
    "    return I_a"
   ]
  },
  {
   "cell_type": "code",
   "execution_count": 12,
   "metadata": {
    "code_folding": [
     0
    ],
    "collapsed": true
   },
   "outputs": [],
   "source": [
    "def beta_squared(T, m):\n",
    "    \"\"\" Gives value of beta^2 for a given Mass (MeV/c^2) and Kinetic Energy (MeV)\n",
    "    \"\"\"\n",
    "    numerator = T * (T + 2 * m)\n",
    "    denominator = (T + m) ** 2\n",
    "    return numerator / denominator"
   ]
  },
  {
   "cell_type": "code",
   "execution_count": 13,
   "metadata": {
    "code_folding": [
     0
    ],
    "collapsed": true
   },
   "outputs": [],
   "source": [
    "def gamma_squared(T, m):\n",
    "    \"\"\" Gives value of gamma^2 for a given mass (MeV/c^2) and Kinetic Energy (MeV)\n",
    "    \"\"\"\n",
    "    return 1.0 / (1 - beta_squared(T, m)) ** 0.5"
   ]
  },
  {
   "cell_type": "code",
   "execution_count": 14,
   "metadata": {
    "code_folding": [
     0
    ],
    "collapsed": true
   },
   "outputs": [],
   "source": [
    "def S_c(incident, target, T, M_m, M_b):\n",
    "    \"\"\" Returns the stopping power in MeV/cm\n",
    "        T in MeV\n",
    "        density in g/cm^3\n",
    "        Output in MeV/cm\n",
    "    \"\"\"\n",
    "    # Currently the incident and target are specified in Z number. incident is assumed to be fully ionized\n",
    "    z = incident\n",
    "    Z = target\n",
    "    \n",
    "    # Convert the mass of the beam particles into MeV\n",
    "    M_b = M_b * m_to_e\n",
    "    \n",
    "    first = 4 * (z ** 2) * pi * (r_e ** 2) * m_e\n",
    "    second = N_A * Z / M_m # TODO: Take M_m from a Pyne material\n",
    "    third = 1.0 / beta_squared(T, M_b)\n",
    "    logpart = (2 * m_e * beta_squared(T, M_b) * gamma_squared(T, M_b)) / (I(Z))\n",
    "    fourth = math.log(logpart) - beta_squared(T, M_b) + beta_squared(T, M_b)\n",
    "    \n",
    "    print json.dumps(locals(), indent=1)\n",
    "    print gamma_squared(T, M_b)\n",
    "    print beta_squared(T, M_b)\n",
    "    \n",
    "    return first * second * third * fourth"
   ]
  },
  {
   "cell_type": "code",
   "execution_count": 15,
   "metadata": {
    "collapsed": false
   },
   "outputs": [
    {
     "name": "stdout",
     "output_type": "stream",
     "text": [
      "{\n",
      " \"z\": 14, \n",
      " \"logpart\": 5555.514480755896, \n",
      " \"third\": 1.734393217150448, \n",
      " \"M_b\": 26081.8346712, \n",
      " \"incident\": 14, \n",
      " \"second\": 2.901533090438871e+23, \n",
      " \"T\": 14000, \n",
      " \"fourth\": 8.622546313582793, \n",
      " \"target\": 13, \n",
      " \"Z\": 13, \n",
      " \"M_m\": 26.98154, \n",
      " \"first\": 9.994234214414889e-23\n",
      "}\n",
      "1.53677205521\n",
      "0.576570520521\n"
     ]
    },
    {
     "data": {
      "text/plain": [
       "433.6707717870548"
      ]
     },
     "execution_count": 15,
     "metadata": {},
     "output_type": "execute_result"
    }
   ],
   "source": [
    "S_c(14, 13, 500 * 28, 26.98154, 28.0)"
   ]
  },
  {
   "cell_type": "markdown",
   "metadata": {
    "collapsed": true
   },
   "source": [
    "### Calculate the energy lost by a charged particle with a given Z, mass, and K.E. through a given thickness of material (materials listed below) ###"
   ]
  },
  {
   "cell_type": "markdown",
   "metadata": {},
   "source": [
    "Elements:\n",
    "- Z = 1, 6, 7, 8, 11, 12, 13, 14, 18, 26, 29, 50, 74, 79, 82, 92\n",
    "\n",
    "Composite Materials:\n",
    "- water (liquid)\n",
    "- concrete\n",
    "- air\n",
    "- adipose tissue"
   ]
  },
  {
   "cell_type": "code",
   "execution_count": 16,
   "metadata": {
    "collapsed": false
   },
   "outputs": [],
   "source": [
    "from pyne import nuc_data\n",
    "from pyne.material import MaterialLibrary\n",
    "import pyne.material"
   ]
  },
  {
   "cell_type": "code",
   "execution_count": 17,
   "metadata": {
    "code_folding": [],
    "collapsed": false
   },
   "outputs": [],
   "source": [
    "class Material(object):\n",
    "    \"\"\" Placeholder for the target/shielding materials. Should upgrade these to Pyne materials\n",
    "    \"\"\"\n",
    "    def __init__(self, **kwargs):\n",
    "        self.__dict__ = kwargs\n",
    "    \n",
    "    def set_excitation(I):\n",
    "        self.I = I\n",
    "    \n",
    "    def set_z(z):\n",
    "        self.Z = z"
   ]
  },
  {
   "cell_type": "markdown",
   "metadata": {},
   "source": [
    "### Estimate the range of a charged particle through a given material by stepping through the material until the stopping power approaches zero (note, if you take the energy down to the lower limit of 2-3 MeV/nucleon, you can stop the calculation there--there isn't much range left after that energy) ###"
   ]
  },
  {
   "cell_type": "markdown",
   "metadata": {},
   "source": [
    "First define the step size:"
   ]
  },
  {
   "cell_type": "markdown",
   "metadata": {},
   "source": [
    "Thoughts:\n",
    "- define with relationship to density? This would correct for state of matter\n",
    "    - Could also use \"S/rho\" relationships from notes\n",
    "    - maybe just use 1/rho in cm or something\n",
    "- take a guess/iterate approach? as in, select an arbitrary thickness (1/2 of total or something), then try smaller and smaller fractions until the range converges?\n",
    "    - Spawn multiple threads to speed up calculations? one per thickness?\n",
    "        - How to even do this? would need to know E_n to calculate E_(n+1)"
   ]
  },
  {
   "cell_type": "code",
   "execution_count": 2,
   "metadata": {
    "collapsed": true
   },
   "outputs": [],
   "source": [
    "def transit(beam, target, thickness):\n",
    "    \"\"\" Increments the energy of an incident particle (beam) after transiting through thickness of material target\n",
    "        beam should be of type Beam\n",
    "        target should be of type Material\n",
    "        thickness is in cm\n",
    "        \n",
    "        thickness should be chose carefully\n",
    "    \"\"\"\n",
    "    # First calculate specific mass stopping power\n",
    "    \n",
    "    # Then multiply specific mass stopping power by density of material\n",
    "    \n",
    "    # Then multiply by thickness\n",
    "    \n",
    "    # Subtract that result from the beam energy, beam.T"
   ]
  },
  {
   "cell_type": "markdown",
   "metadata": {},
   "source": [
    "### Using geometric cross sections, estimate the fraction of the fluence undergoing a nuclear interaction as it goes through a given thickness of material ###"
   ]
  },
  {
   "cell_type": "code",
   "execution_count": 19,
   "metadata": {
    "code_folding": [
     0
    ],
    "collapsed": true
   },
   "outputs": [],
   "source": [
    "def geometric_cross_section(A1, A2):\n",
    "    \"\"\" Gives the geometric cross section for the collision of two nuclei\n",
    "        Inputs: A1, A2--mass number of nuclei\n",
    "        Output: sigma--microscopic cross section (barns)\n",
    "    \"\"\"\n",
    "    # First calculate \"radius\"\n",
    "    def R(A):\n",
    "        r_0 = 1.4 * 10 ** -13.0 # cm\n",
    "        return r_0 * A ** (1.0 / 3.0)\n",
    "    return math.pi * (R(A1) + R(A2)) ** 2"
   ]
  },
  {
   "cell_type": "markdown",
   "metadata": {},
   "source": [
    "The fluence at distance $ x $ through a material is $$ \\Phi = \\Phi_0 e^{\\Sigma x} = \\Phi_0 e ^ {\\sigma N x} $$"
   ]
  }
 ],
 "metadata": {
  "anaconda-cloud": {},
  "kernelspec": {
   "display_name": "Python [conda env:nuc]",
   "language": "python",
   "name": "conda-env-nuc-py"
  },
  "language_info": {
   "codemirror_mode": {
    "name": "ipython",
    "version": 2
   },
   "file_extension": ".py",
   "mimetype": "text/x-python",
   "name": "python",
   "nbconvert_exporter": "python",
   "pygments_lexer": "ipython2",
   "version": "2.7.12"
  },
  "latex_envs": {
   "bibliofile": "biblio.bib",
   "cite_by": "apalike",
   "current_citInitial": 1,
   "eqLabelWithNumbers": true,
   "eqNumInitial": 0
  }
 },
 "nbformat": 4,
 "nbformat_minor": 1
}
