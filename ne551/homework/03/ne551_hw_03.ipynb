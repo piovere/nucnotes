{
 "cells": [
  {
   "cell_type": "code",
   "execution_count": 10,
   "metadata": {
    "collapsed": false
   },
   "outputs": [],
   "source": [
    "from pyne import data\n",
    "import numpy as np\n",
    "import scipy.constants as const\n",
    "import tabulate"
   ]
  },
  {
   "cell_type": "markdown",
   "metadata": {},
   "source": [
    "Define useful constants\n",
    "\n",
    "$ I_{Al} $ from text \n",
    "\n",
    "$ \\rho = 2.70 g/cm^3 $ from [Wikipedia entry for Alumnium](https://en.wikipedia.org/wiki/Aluminium)"
   ]
  },
  {
   "cell_type": "code",
   "execution_count": 11,
   "metadata": {
    "collapsed": true
   },
   "outputs": [],
   "source": [
    "m_e = const.value('electron mass energy equivalent in MeV')\n",
    "I_Al = 163 * 10**-6 # eV to MeV\n",
    "r_0 = const.value('classical electron radius') * 100 # m to cm\n",
    "z = 1\n",
    "Z = 13\n",
    "N_A = const.value('Avogadro constant')\n",
    "M_m = data.atomic_mass('Al')\n",
    "rho = 2.70\n",
    "pi = const.pi\n",
    "m_p = const.value('proton mass energy equivalent in MeV')"
   ]
  },
  {
   "cell_type": "markdown",
   "metadata": {},
   "source": [
    "  Useful conversion functions\n",
    " "
   ]
  },
  {
   "cell_type": "code",
   "execution_count": 30,
   "metadata": {
    "collapsed": true
   },
   "outputs": [],
   "source": [
    "def beta(gamma):\n",
    "    g = gamma*gamma\n",
    "    b = (1 - g ** -1) ** 0.5\n",
    "    # return ((g - 1.0) / g) ** 0.5\n",
    "    return b\n",
    "def gamma(T, m):\n",
    "    return (T / m) + 1.0\n",
    "def beta_2_T(T, m):\n",
    "    denominator = (T + m) ** 2.0\n",
    "    numerator = T * (T + 2.0 * m)\n",
    "    return (numerator / denominator)\n",
    "def beta_T(T, m):\n",
    "    return beta_2_T(T, m) ** 0.5\n",
    "def percent_error(truth, model):\n",
    "    return abs(truth - model) / truth"
   ]
  },
  {
   "cell_type": "code",
   "execution_count": 31,
   "metadata": {
    "collapsed": false
   },
   "outputs": [],
   "source": [
    "assert(beta(gamma(m_p, m_p)) == beta_T(m_p, m_p))"
   ]
  },
  {
   "cell_type": "markdown",
   "metadata": {},
   "source": [
    "Input energies"
   ]
  },
  {
   "cell_type": "code",
   "execution_count": 13,
   "metadata": {
    "collapsed": true
   },
   "outputs": [],
   "source": [
    "T = [10, 100, 500]"
   ]
  },
  {
   "cell_type": "code",
   "execution_count": 36,
   "metadata": {
    "collapsed": true
   },
   "outputs": [],
   "source": [
    "def S_classical(T):\n",
    "    # We're dealing with an incident proton now\n",
    "    m = m_p\n",
    "    \n",
    "    # Get our incident particle energy in terms of Beta\n",
    "    b = beta_2_T(T, m)\n",
    "    \n",
    "    first_part = 4 * pi * r_0**2 * m_e\n",
    "    incident_particle_part = z**2 / b\n",
    "    medium_part = Z * N_A * rho / M_m\n",
    "    log_term = 2 * m_e * gamma(T, m)**2 * b / I_Al\n",
    "    last_part = np.log(log_term)\n",
    "    \n",
    "    return first_part * incident_particle_part * medium_part * last_part\n",
    "def S_relativistic(T):\n",
    "    # We're dealing with an incident proton now\n",
    "    m = m_p\n",
    "    \n",
    "    # Get our incident particle energy in terms of Beta\n",
    "    b = beta_2_T(T, m)\n",
    "    \n",
    "    first_part = 4 * pi * r_0**2 * m_e\n",
    "    incident_particle_part = z**2 / b\n",
    "    medium_part = Z * N_A * rho / M_m\n",
    "    log_term = 2 * m_e * gamma(T, m)**2 * b / I_Al\n",
    "    last_part = np.log(log_term) - b\n",
    "    \n",
    "    return first_part * incident_particle_part * medium_part * last_part"
   ]
  },
  {
   "cell_type": "markdown",
   "metadata": {},
   "source": [
    "Classical Results"
   ]
  },
  {
   "cell_type": "code",
   "execution_count": 37,
   "metadata": {
    "collapsed": false
   },
   "outputs": [
    {
     "name": "stdout",
     "output_type": "stream",
     "text": [
      "  T    Classical    Relativistic     Beta^2    Gamma^2    Percent Error\n",
      "---  -----------  --------------  ---------  ---------  ---------------\n",
      " 10     93.3096         92.9102   0.0209798    1.02143       0.00429954\n",
      "100     15.7951         15.3956   0.183351     1.22452       0.0259471\n",
      "500      6.28905         5.88958  0.574426     2.34977       0.0678267\n"
     ]
    }
   ],
   "source": [
    "out = []\n",
    "headers = ['T', 'Classical', 'Relativistic', 'Beta^2', 'Gamma^2', 'Percent Error']\n",
    "for t in T:\n",
    "    out.append(\n",
    "        (t, \n",
    "         S_classical(t), \n",
    "         S_relativistic(t), \n",
    "         beta_2_T(t, m_p), \n",
    "         gamma(t, m_p) ** 2,\n",
    "         percent_error(S_relativistic(t), S_classical(t)))\n",
    "    )\n",
    "print tabulate.tabulate(out, headers=headers)"
   ]
  },
  {
   "cell_type": "markdown",
   "metadata": {},
   "source": [
    "Problem 4"
   ]
  },
  {
   "cell_type": "code",
   "execution_count": 16,
   "metadata": {
    "collapsed": true
   },
   "outputs": [],
   "source": [
    "t = 2.5"
   ]
  },
  {
   "cell_type": "markdown",
   "metadata": {},
   "source": [
    "From fig 2.11, with $ \\frac{T/A}{Z} = \\frac{2.5}{13} = 0.19 $, the shell correction is approximately $ \\lambda = 0.1 $"
   ]
  },
  {
   "cell_type": "code",
   "execution_count": 17,
   "metadata": {
    "collapsed": true
   },
   "outputs": [],
   "source": [
    "def S_relativistic_effective_charge(T):\n",
    "    # We're dealing with an incident proton now\n",
    "    m = m_p\n",
    "    \n",
    "    # Get our incident particle energy in terms of Beta\n",
    "    b = beta_T(T, m)\n",
    "    \n",
    "    # From Anderson fig 2.11\n",
    "    shell_correction = 0.1\n",
    "    \n",
    "    first_part = 4 * pi * r_0**2 * m_e\n",
    "    incident_particle_part = z**2 / b**2\n",
    "    medium_part = Z * N_A * rho / M_m\n",
    "    log_term = 2 * m_e * gamma(T, m)**2 * b**2 / I_Al\n",
    "    last_part = np.log(log_term) - b**2 - shell_correction\n",
    "    \n",
    "    return first_part * incident_particle_part * medium_part * last_part"
   ]
  },
  {
   "cell_type": "markdown",
   "metadata": {},
   "source": [
    "No corrections:"
   ]
  },
  {
   "cell_type": "code",
   "execution_count": 18,
   "metadata": {
    "collapsed": false
   },
   "outputs": [
    {
     "data": {
      "text/plain": [
       "264.18888757811038"
      ]
     },
     "execution_count": 18,
     "metadata": {},
     "output_type": "execute_result"
    }
   ],
   "source": [
    "S_classical(t)"
   ]
  },
  {
   "cell_type": "markdown",
   "metadata": {},
   "source": [
    "With corrections:"
   ]
  },
  {
   "cell_type": "code",
   "execution_count": 19,
   "metadata": {
    "collapsed": false
   },
   "outputs": [
    {
     "data": {
      "text/plain": [
       "256.26320216888456"
      ]
     },
     "execution_count": 19,
     "metadata": {},
     "output_type": "execute_result"
    }
   ],
   "source": [
    "S_relativistic_effective_charge(t)"
   ]
  },
  {
   "cell_type": "code",
   "execution_count": 20,
   "metadata": {
    "collapsed": false
   },
   "outputs": [
    {
     "data": {
      "text/plain": [
       "26.981538530999998"
      ]
     },
     "execution_count": 20,
     "metadata": {},
     "output_type": "execute_result"
    }
   ],
   "source": [
    "M_m"
   ]
  },
  {
   "cell_type": "code",
   "execution_count": 21,
   "metadata": {
    "collapsed": false
   },
   "outputs": [
    {
     "data": {
      "text/plain": [
       "2.8179403227e-13"
      ]
     },
     "execution_count": 21,
     "metadata": {},
     "output_type": "execute_result"
    }
   ],
   "source": [
    "r_0"
   ]
  },
  {
   "cell_type": "code",
   "execution_count": 22,
   "metadata": {
    "collapsed": false
   },
   "outputs": [
    {
     "data": {
      "text/plain": [
       "938.2720813"
      ]
     },
     "execution_count": 22,
     "metadata": {},
     "output_type": "execute_result"
    }
   ],
   "source": [
    "m_p"
   ]
  },
  {
   "cell_type": "code",
   "execution_count": 23,
   "metadata": {
    "collapsed": false
   },
   "outputs": [
    {
     "data": {
      "text/plain": [
       "0.5109989461"
      ]
     },
     "execution_count": 23,
     "metadata": {},
     "output_type": "execute_result"
    }
   ],
   "source": [
    "m_e"
   ]
  },
  {
   "cell_type": "code",
   "execution_count": null,
   "metadata": {
    "collapsed": true
   },
   "outputs": [],
   "source": [
    "beta()"
   ]
  }
 ],
 "metadata": {
  "anaconda-cloud": {},
  "kernelspec": {
   "display_name": "Python [conda env:nuc]",
   "language": "python",
   "name": "conda-env-nuc-py"
  },
  "language_info": {
   "codemirror_mode": {
    "name": "ipython",
    "version": 2
   },
   "file_extension": ".py",
   "mimetype": "text/x-python",
   "name": "python",
   "nbconvert_exporter": "python",
   "pygments_lexer": "ipython2",
   "version": "2.7.12"
  }
 },
 "nbformat": 4,
 "nbformat_minor": 1
}
