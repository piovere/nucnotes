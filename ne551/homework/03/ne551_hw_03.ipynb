{
 "cells": [
  {
   "cell_type": "code",
   "execution_count": 164,
   "metadata": {
    "collapsed": false
   },
   "outputs": [],
   "source": [
    "from pyne import data\n",
    "import numpy as np\n",
    "import scipy.constants as const\n",
    "import tabulate"
   ]
  },
  {
   "cell_type": "markdown",
   "metadata": {},
   "source": [
    "Define useful constants\n",
    "\n",
    "$ I_{Al} $ from [Bogaardt](http://dspace.library.uu.nl/bitstream/handle/1874/24230/bogaardt_koudijs_51_average_excitation_potentials_air_aluminium.pdf?sequence=1)\n",
    "\n",
    "$ \\rho = 2.70 g/cm^3 $ from [Wikipedia entry for Alumnium](https://en.wikipedia.org/wiki/Aluminium)"
   ]
  },
  {
   "cell_type": "code",
   "execution_count": 165,
   "metadata": {
    "collapsed": true
   },
   "outputs": [],
   "source": [
    "m_e = const.value('electron mass energy equivalent in MeV')\n",
    "I_Al = 163 * 10**-6 # eV to MeV\n",
    "r_0 = const.value('classical electron radius') * 100 # m to cm\n",
    "z = 1\n",
    "Z = 13\n",
    "N_A = const.value('Avogadro constant')\n",
    "M_m = data.atomic_mass('Al')\n",
    "rho = 2.70\n",
    "pi = const.pi\n",
    "m_p = const.value('proton mass energy equivalent in MeV')"
   ]
  },
  {
   "cell_type": "markdown",
   "metadata": {},
   "source": [
    "  Useful conversion functions\n",
    " "
   ]
  },
  {
   "cell_type": "code",
   "execution_count": 166,
   "metadata": {
    "collapsed": true
   },
   "outputs": [],
   "source": [
    "def beta(gamma):\n",
    "    g = gamma*gamma\n",
    "    b = (1 - g ** -1) ** 0.5\n",
    "    # return ((g - 1.0) / g) ** 0.5\n",
    "    return b\n",
    "def gamma(T, m):\n",
    "    return (T / m) + 1.0\n",
    "def beta_T(T, m):\n",
    "    denominator = (T + m) ** 2.0\n",
    "    numerator = T * (T + 2.0 * m)\n",
    "    return (numerator / denominator) ** 0.5\n",
    "def percent_error(truth, model):\n",
    "    return abs(truth - model) / truth"
   ]
  },
  {
   "cell_type": "markdown",
   "metadata": {},
   "source": [
    "Input energies"
   ]
  },
  {
   "cell_type": "code",
   "execution_count": 167,
   "metadata": {
    "collapsed": true
   },
   "outputs": [],
   "source": [
    "T = [10, 100, 500]"
   ]
  },
  {
   "cell_type": "code",
   "execution_count": 168,
   "metadata": {
    "collapsed": true
   },
   "outputs": [],
   "source": [
    "def S_classical(T):\n",
    "    # We're dealing with an incident proton now\n",
    "    m = m_p\n",
    "    \n",
    "    # Get our incident particle energy in terms of Beta\n",
    "    b = beta_T(T, m)\n",
    "    \n",
    "    first_part = 4 * pi * r_0**2 * m_e\n",
    "    incident_particle_part = z**2 / b**2\n",
    "    medium_part = Z * N_A * rho / M_m\n",
    "    log_term = 2 * m_e * gamma(T, m)**2 * b**2 / I_Al\n",
    "    last_part = np.log(log_term)\n",
    "    \n",
    "    return first_part * incident_particle_part * medium_part * last_part\n",
    "def S_relativistic(T):\n",
    "    # We're dealing with an incident proton now\n",
    "    m = m_p\n",
    "    \n",
    "    # Get our incident particle energy in terms of Beta\n",
    "    b = beta_T(T, m)\n",
    "    \n",
    "    first_part = 4 * pi * r_0**2 * m_e\n",
    "    incident_particle_part = z**2 / b**2\n",
    "    medium_part = Z * N_A * rho / M_m\n",
    "    log_term = 2 * m_e * gamma(T, m)**2 * b**2 / I_Al\n",
    "    last_part = np.log(log_term) - b**2\n",
    "    \n",
    "    return first_part * incident_particle_part * medium_part * last_part"
   ]
  },
  {
   "cell_type": "markdown",
   "metadata": {},
   "source": [
    "Classical Results"
   ]
  },
  {
   "cell_type": "code",
   "execution_count": 169,
   "metadata": {
    "collapsed": false
   },
   "outputs": [
    {
     "name": "stdout",
     "output_type": "stream",
     "text": [
      "  T    Classical    Relativistic    Percent Error\n",
      "---  -----------  --------------  ---------------\n",
      " 10     93.3096         92.9102        0.00429954\n",
      "100     15.7951         15.3956        0.0259471\n",
      "500      6.28905         5.88958       0.0678267\n"
     ]
    }
   ],
   "source": [
    "out = []\n",
    "headers = ['T', 'Classical', 'Relativistic', 'Percent Error']\n",
    "for t in T:\n",
    "    out.append((t, S_classical(t), S_relativistic(t), percent_error(S_relativistic(t), S_classical(t))))\n",
    "print tabulate.tabulate(out, headers=headers)"
   ]
  },
  {
   "cell_type": "markdown",
   "metadata": {},
   "source": [
    "Problem 4"
   ]
  },
  {
   "cell_type": "code",
   "execution_count": 170,
   "metadata": {
    "collapsed": true
   },
   "outputs": [],
   "source": [
    "t = 2.5"
   ]
  },
  {
   "cell_type": "markdown",
   "metadata": {},
   "source": [
    "From fig 2.11, with $ \\frac{T/A}{Z} = \\frac{2.5}{13} = 0.19 $, the shell correction is approximately $ \\lambda = 0.1 $"
   ]
  },
  {
   "cell_type": "code",
   "execution_count": 171,
   "metadata": {
    "collapsed": true
   },
   "outputs": [],
   "source": [
    "def S_relativistic_effective_charge(T):\n",
    "    # We're dealing with an incident proton now\n",
    "    m = m_p\n",
    "    \n",
    "    # Get our incident particle energy in terms of Beta\n",
    "    b = beta_T(T, m)\n",
    "    \n",
    "    # From Anderson fig 2.11\n",
    "    shell_correction = 0.1\n",
    "    \n",
    "    first_part = 4 * pi * r_0**2 * m_e\n",
    "    incident_particle_part = z**2 / b**2\n",
    "    medium_part = Z * N_A * rho / M_m\n",
    "    log_term = 2 * m_e * gamma(T, m)**2 * b**2 / I_Al\n",
    "    last_part = np.log(log_term) - b**2 - shell_correction\n",
    "    \n",
    "    return first_part * incident_particle_part * medium_part * last_part"
   ]
  },
  {
   "cell_type": "markdown",
   "metadata": {},
   "source": [
    "No corrections:"
   ]
  },
  {
   "cell_type": "code",
   "execution_count": 172,
   "metadata": {
    "collapsed": false
   },
   "outputs": [
    {
     "data": {
      "text/plain": [
       "264.18888757811038"
      ]
     },
     "execution_count": 172,
     "metadata": {},
     "output_type": "execute_result"
    }
   ],
   "source": [
    "S_classical(t)"
   ]
  },
  {
   "cell_type": "markdown",
   "metadata": {},
   "source": [
    "With corrections:"
   ]
  },
  {
   "cell_type": "code",
   "execution_count": 173,
   "metadata": {
    "collapsed": false
   },
   "outputs": [
    {
     "data": {
      "text/plain": [
       "256.26320216888456"
      ]
     },
     "execution_count": 173,
     "metadata": {},
     "output_type": "execute_result"
    }
   ],
   "source": [
    "S_relativistic_effective_charge(t)"
   ]
  },
  {
   "cell_type": "code",
   "execution_count": null,
   "metadata": {
    "collapsed": true
   },
   "outputs": [],
   "source": []
  }
 ],
 "metadata": {
  "anaconda-cloud": {},
  "kernelspec": {
   "display_name": "Python [conda env:ne551_03]",
   "language": "python",
   "name": "conda-env-ne551_03-py"
  },
  "language_info": {
   "codemirror_mode": {
    "name": "ipython",
    "version": 2
   },
   "file_extension": ".py",
   "mimetype": "text/x-python",
   "name": "python",
   "nbconvert_exporter": "python",
   "pygments_lexer": "ipython2",
   "version": "2.7.12"
  }
 },
 "nbformat": 4,
 "nbformat_minor": 1
}
