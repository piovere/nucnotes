{
 "cells": [
  {
   "cell_type": "markdown",
   "metadata": {
    "collapsed": true
   },
   "source": [
    "# Anderson 3.2 #"
   ]
  },
  {
   "cell_type": "code",
   "execution_count": 5,
   "metadata": {
    "collapsed": false
   },
   "outputs": [],
   "source": [
    "import scipy.constants as const\n",
    "import math"
   ]
  },
  {
   "cell_type": "code",
   "execution_count": 4,
   "metadata": {
    "collapsed": false
   },
   "outputs": [],
   "source": [
    "alpha = const.alpha # fine structure constant\n",
    "r0 = const.physical_constants['classical electron radius'][0]*100.0 # cm\n",
    "pi = const.pi\n",
    "NA = const.Avogadro # 1/mol\n",
    "Mm = 26.98154 # g/mol\n",
    "rho = 2.70 # g/cm^3\n",
    "me = const.physical_constants['electron mass energy equivalent in MeV'][0] # MeV\n",
    "I = 163*10**-6 # MeV"
   ]
  },
  {
   "cell_type": "code",
   "execution_count": 6,
   "metadata": {
    "collapsed": true
   },
   "outputs": [],
   "source": [
    "def F_minus(T, delta):\n",
    "    first = -1.0\n",
    "    second = -1.0 * T * (T + 2 * me) / (T + me) ** 2\n",
    "    third = math.log((delta * (T - delta)) / (me) ** 2)\n",
    "    fourth = T / (T - delta)\n",
    "    fifth = ((delta ** 2 / 2.0) + (2 * T + me) * me * math.log(1 - delta / T)) / (T + me) ** 2\n",
    "    return first + second + third + fourth + fifth"
   ]
  },
  {
   "cell_type": "code",
   "execution_count": 7,
   "metadata": {
    "collapsed": true
   },
   "outputs": [],
   "source": [
    "def C(T, delta):\n",
    "    first = math.log((2 * (T + 2* me)) / (me * (I / me) ** 2))\n",
    "    second = F_minus(T, delta)\n",
    "    return first + second"
   ]
  },
  {
   "cell_type": "code",
   "execution_count": 8,
   "metadata": {
    "collapsed": true
   },
   "outputs": [],
   "source": [
    "def L(T, Z, delta, Mm, rho):\n",
    "    first = 2 * pi * r0 ** 2 * me * NA\n",
    "    second = Z * rho / Mm\n",
    "    third = (T + me) ** 2 / (T * (T + 2 * me))\n",
    "    fourth = C(T, delta)\n",
    "    return first * second * third * fourth"
   ]
  },
  {
   "cell_type": "code",
   "execution_count": 11,
   "metadata": {
    "collapsed": false
   },
   "outputs": [
    {
     "data": {
      "text/plain": [
       "10.455508719217402"
      ]
     },
     "execution_count": 11,
     "metadata": {},
     "output_type": "execute_result"
    }
   ],
   "source": [
    "L(1000000.0, 13.0, 1000.0, Mm, rho)"
   ]
  },
  {
   "cell_type": "markdown",
   "metadata": {},
   "source": [
    "# Anderson 3.10 #"
   ]
  },
  {
   "cell_type": "markdown",
   "metadata": {},
   "source": [
    "From equation 3.41, $$ \\frac{S_r}{S_c} = \\frac{\\left( Z + 1.2 \\right) T }{800} $$"
   ]
  },
  {
   "cell_type": "code",
   "execution_count": 12,
   "metadata": {
    "collapsed": true
   },
   "outputs": [],
   "source": [
    "def stopping_ratio(Z, T):\n",
    "    return (Z + 1.2) * T / 800.0"
   ]
  },
  {
   "cell_type": "markdown",
   "metadata": {},
   "source": [
    "10 MeV:"
   ]
  },
  {
   "cell_type": "code",
   "execution_count": 15,
   "metadata": {
    "collapsed": false
   },
   "outputs": [
    {
     "data": {
      "text/plain": [
       "0.94"
      ]
     },
     "execution_count": 15,
     "metadata": {},
     "output_type": "execute_result"
    }
   ],
   "source": [
    "stopping_ratio(74, 10)"
   ]
  },
  {
   "cell_type": "markdown",
   "metadata": {},
   "source": [
    "1 MeV:"
   ]
  },
  {
   "cell_type": "code",
   "execution_count": 16,
   "metadata": {
    "collapsed": false
   },
   "outputs": [
    {
     "data": {
      "text/plain": [
       "0.094"
      ]
     },
     "execution_count": 16,
     "metadata": {},
     "output_type": "execute_result"
    }
   ],
   "source": [
    "stopping_ratio(74, 1)"
   ]
  },
  {
   "cell_type": "code",
   "execution_count": null,
   "metadata": {
    "collapsed": true
   },
   "outputs": [],
   "source": []
  }
 ],
 "metadata": {
  "anaconda-cloud": {},
  "kernelspec": {
   "display_name": "Python [conda env:ne551_04]",
   "language": "python",
   "name": "conda-env-ne551_04-py"
  },
  "language_info": {
   "codemirror_mode": {
    "name": "ipython",
    "version": 3
   },
   "file_extension": ".py",
   "mimetype": "text/x-python",
   "name": "python",
   "nbconvert_exporter": "python",
   "pygments_lexer": "ipython3",
   "version": "3.5.2"
  }
 },
 "nbformat": 4,
 "nbformat_minor": 1
}
