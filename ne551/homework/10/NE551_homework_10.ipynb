{
 "cells": [
  {
   "cell_type": "code",
   "execution_count": 90,
   "metadata": {
    "collapsed": true
   },
   "outputs": [],
   "source": [
    "%matplotlib inline\n",
    "import matplotlib.pyplot as plt\n",
    "import numpy as np\n",
    "import pandas as pd\n",
    "from scipy.interpolate import interp1d, UnivariateSpline\n",
    "from __future__ import division"
   ]
  },
  {
   "cell_type": "markdown",
   "metadata": {},
   "source": [
    "# Problem 1"
   ]
  },
  {
   "cell_type": "code",
   "execution_count": 91,
   "metadata": {
    "collapsed": false
   },
   "outputs": [
    {
     "data": {
      "text/plain": [
       "900474488372.5688"
      ]
     },
     "execution_count": 91,
     "metadata": {},
     "output_type": "execute_result"
    }
   ],
   "source": [
    "t_decay = 2.6234 * 365.241 * 24 * 60 * 60\n",
    "t_bio = 138 * 24 * 60 * 60\n",
    "t_effective = t_decay * t_bio / (t_decay + t_bio) * 24 * 60 * 60\n",
    "lambda_p = np.log(2) / t_decay\n",
    "lambda_b = np.log(2) / t_bio\n",
    "t_effective # seconds"
   ]
  },
  {
   "cell_type": "markdown",
   "metadata": {},
   "source": [
    "Energy information obtained from [Lund/LBNL Cinderella site](http://nucleardata.nuclear.lu.se/toi/nuclide.asp?iZA=610147)"
   ]
  },
  {
   "cell_type": "code",
   "execution_count": 92,
   "metadata": {
    "collapsed": false
   },
   "outputs": [],
   "source": [
    "E = 224.1 * 1000. * 1.6e-19 # keV to J\n",
    "w = 1."
   ]
  },
  {
   "cell_type": "code",
   "execution_count": 93,
   "metadata": {
    "collapsed": false,
    "scrolled": true
   },
   "outputs": [
    {
     "data": {
      "text/plain": [
       "510080.41059187689"
      ]
     },
     "execution_count": 93,
     "metadata": {},
     "output_type": "execute_result"
    }
   ],
   "source": [
    "25. * (lambda_b + lambda_p) / E * .011"
   ]
  },
  {
   "cell_type": "code",
   "execution_count": 94,
   "metadata": {
    "collapsed": false
   },
   "outputs": [
    {
     "data": {
      "text/plain": [
       "46370946.417443357"
      ]
     },
     "execution_count": 94,
     "metadata": {},
     "output_type": "execute_result"
    }
   ],
   "source": [
    "25. * (lambda_b + lambda_p) / E"
   ]
  },
  {
   "cell_type": "markdown",
   "metadata": {},
   "source": [
    "# Problem 2"
   ]
  },
  {
   "cell_type": "markdown",
   "metadata": {},
   "source": [
    "Cross sections downloaded from the [BNL Sigma web page](http://www.nndc.bnl.gov/sigma/index.jsp?as=59&lib=endfb7.1&nsub=10)"
   ]
  },
  {
   "cell_type": "code",
   "execution_count": 95,
   "metadata": {
    "collapsed": true
   },
   "outputs": [],
   "source": [
    "cross_section = pd.read_csv('cobalt-60-n-gamma.txt')"
   ]
  },
  {
   "cell_type": "code",
   "execution_count": 96,
   "metadata": {
    "collapsed": false
   },
   "outputs": [
    {
     "data": {
      "text/plain": [
       "array(37.2756)"
      ]
     },
     "execution_count": 96,
     "metadata": {},
     "output_type": "execute_result"
    }
   ],
   "source": [
    "sigma_interp = interp1d(cross_section['27-Co-59(n'], cross_section[u'&gamma;) ENDF/B-VII.1'])\n",
    "sigma_interp(0.0253)"
   ]
  },
  {
   "cell_type": "markdown",
   "metadata": {},
   "source": [
    "The absorption cross section for Co-60 is assumed to be negligible."
   ]
  },
  {
   "cell_type": "code",
   "execution_count": 97,
   "metadata": {
    "collapsed": false
   },
   "outputs": [
    {
     "data": {
      "text/plain": [
       "1.0036666666666666e+16"
      ]
     },
     "execution_count": 97,
     "metadata": {},
     "output_type": "execute_result"
    }
   ],
   "source": [
    "N_0_59 = 1e-6 * 6.022e23 / 60.\n",
    "N_0_59"
   ]
  },
  {
   "cell_type": "code",
   "execution_count": 98,
   "metadata": {
    "collapsed": true
   },
   "outputs": [],
   "source": [
    "def N_59(t):\n",
    "    flux = 1e15\n",
    "    cross_section = sigma_interp(0.0253) * 1e-24 # convert barns to cm^2\n",
    "    return N_0_59 * np.exp(-flux * cross_section * t)"
   ]
  },
  {
   "cell_type": "code",
   "execution_count": 99,
   "metadata": {
    "collapsed": true
   },
   "outputs": [],
   "source": [
    "def N_60(t):\n",
    "    flux = 1e15\n",
    "    cross_section = sigma_interp(0.0253) * 1e-24 # convert barns to cm^2\n",
    "    \n",
    "    decay_const = np.log(2.) / (5.2713 * 365.241 * 24. * 60. * 60.)\n",
    "    \n",
    "    numerator = flux * cross_section * N_59(t)\n",
    "    denominator = decay_const - flux * cross_section\n",
    "    \n",
    "    time_factor = np.exp(-flux * cross_section * t) - np.exp(-decay_const * t)\n",
    "    \n",
    "    return numerator * time_factor / denominator"
   ]
  },
  {
   "cell_type": "code",
   "execution_count": 100,
   "metadata": {
    "collapsed": true
   },
   "outputs": [],
   "source": [
    "def activity(t):\n",
    "    decay_const = np.log(2.) / (5.2713 * 365.241 * 24. * 60. * 60.)\n",
    "    \n",
    "    return decay_const * N_60(t)"
   ]
  },
  {
   "cell_type": "code",
   "execution_count": 101,
   "metadata": {
    "collapsed": false
   },
   "outputs": [
    {
     "data": {
      "text/plain": [
       "2866880.7768756356"
      ]
     },
     "execution_count": 101,
     "metadata": {},
     "output_type": "execute_result"
    }
   ],
   "source": [
    "activity(24 * 24 * 60 * 60)"
   ]
  },
  {
   "cell_type": "markdown",
   "metadata": {},
   "source": [
    "The activity is 2.87 * 10^6 Bq"
   ]
  },
  {
   "cell_type": "code",
   "execution_count": 102,
   "metadata": {
    "collapsed": false
   },
   "outputs": [
    {
     "data": {
      "text/plain": [
       "746556887576438.0"
      ]
     },
     "execution_count": 102,
     "metadata": {},
     "output_type": "execute_result"
    }
   ],
   "source": [
    "N_0_59 - N_59(24 * 24 * 60 * 60)"
   ]
  },
  {
   "cell_type": "markdown",
   "metadata": {},
   "source": [
    "7.47 * 10^14 atoms of Co-59 have been removed in that time"
   ]
  },
  {
   "cell_type": "markdown",
   "metadata": {},
   "source": [
    "# Problem 3"
   ]
  },
  {
   "cell_type": "code",
   "execution_count": 103,
   "metadata": {
    "collapsed": false
   },
   "outputs": [],
   "source": [
    "E = [1e-5, 1e-4, 1e-3, 1e-2, 1e-1, 1., 2., 3., 4., 5., 6., 7., 8., 9., 10., 15., 20., 25.]\n",
    "kerma_per_fluence = [1.36e-11, 1.23e-10, 1.21e-9, 1.30e-8, 7.23e-8, 2.71e-7, 3.32e-7, 3.91e-7, 4.49e-7, 4.92e-7, 5.06e-7, 5.38e-7, 5.52e-7, 5.75e-7, 6.11e-7, 7.05e-7, 7.55e-7, 7.48e-7]\n",
    "interp = interp1d(E, kerma_per_fluence)\n",
    "# interp = UnivariateSpline(E, kerma_per_fluence, k=5)"
   ]
  },
  {
   "cell_type": "code",
   "execution_count": 104,
   "metadata": {
    "collapsed": true
   },
   "outputs": [],
   "source": [
    "phi = 1 / interp(14.1)"
   ]
  },
  {
   "cell_type": "code",
   "execution_count": 105,
   "metadata": {
    "collapsed": false
   },
   "outputs": [
    {
     "data": {
      "text/plain": [
       "1453319.3814672711"
      ]
     },
     "execution_count": 105,
     "metadata": {},
     "output_type": "execute_result"
    }
   ],
   "source": [
    "phi"
   ]
  },
  {
   "cell_type": "markdown",
   "metadata": {},
   "source": [
    "# Problem 4 #"
   ]
  },
  {
   "cell_type": "code",
   "execution_count": 106,
   "metadata": {
    "collapsed": true
   },
   "outputs": [],
   "source": [
    "data = pd.DataFrame(\n",
    "    {\n",
    "        \"Depth\": [0.01, 0.05, 0.1, 0.2],\n",
    "    }\n",
    ")"
   ]
  },
  {
   "cell_type": "code",
   "execution_count": 107,
   "metadata": {
    "collapsed": true
   },
   "outputs": [],
   "source": [
    "def dose(depth):\n",
    "    # Neglecting buildup factor (ignoring scatter)\n",
    "    # Assuming, based on appendix 11, that d_m = 0.5cm = 0.005m\n",
    "    mu = 6.5 # inverse meters\n",
    "    F = 0.8 # meters\n",
    "    D_max = 100 # rad\n",
    "    d_m = 0.005 # meters\n",
    "    \n",
    "    ret = D_max * ((F + d_m) / (F + depth))**2 * np.exp(-mu * (depth - d_m))\n",
    "    \n",
    "    return ret"
   ]
  },
  {
   "cell_type": "code",
   "execution_count": 108,
   "metadata": {
    "collapsed": false
   },
   "outputs": [],
   "source": [
    "data[\"Calculated\"] = dose(depth)"
   ]
  },
  {
   "cell_type": "code",
   "execution_count": 109,
   "metadata": {
    "collapsed": true
   },
   "outputs": [],
   "source": [
    "data[\"Measured\"] = [98.2, 78.5, 55.6, 27.2]"
   ]
  },
  {
   "cell_type": "code",
   "execution_count": 110,
   "metadata": {
    "collapsed": true
   },
   "outputs": [],
   "source": [
    "data[\"BF\"] = data[\"Measured\"] / data[\"Calculated\"]"
   ]
  },
  {
   "cell_type": "code",
   "execution_count": 111,
   "metadata": {
    "collapsed": true
   },
   "outputs": [],
   "source": [
    "data[\"BS Dose Contribution\"] = data[\"Measured\"] - data[\"Calculated\"]"
   ]
  },
  {
   "cell_type": "code",
   "execution_count": 141,
   "metadata": {
    "collapsed": false
   },
   "outputs": [
    {
     "data": {
      "text/html": [
       "<div>\n",
       "<table border=\"1\" class=\"dataframe\">\n",
       "  <thead>\n",
       "    <tr style=\"text-align: right;\">\n",
       "      <th></th>\n",
       "      <th>Depth</th>\n",
       "      <th>Calculated</th>\n",
       "      <th>Measured</th>\n",
       "      <th>BF</th>\n",
       "      <th>BS Dose Contribution</th>\n",
       "    </tr>\n",
       "  </thead>\n",
       "  <tbody>\n",
       "    <tr>\n",
       "      <th>0</th>\n",
       "      <td>0.01</td>\n",
       "      <td>95.610844</td>\n",
       "      <td>98.2</td>\n",
       "      <td>1.027080</td>\n",
       "      <td>2.589156</td>\n",
       "    </tr>\n",
       "    <tr>\n",
       "      <th>1</th>\n",
       "      <td>0.05</td>\n",
       "      <td>66.945713</td>\n",
       "      <td>78.5</td>\n",
       "      <td>1.172592</td>\n",
       "      <td>11.554287</td>\n",
       "    </tr>\n",
       "    <tr>\n",
       "      <th>2</th>\n",
       "      <td>0.10</td>\n",
       "      <td>43.144943</td>\n",
       "      <td>55.6</td>\n",
       "      <td>1.288679</td>\n",
       "      <td>12.455057</td>\n",
       "    </tr>\n",
       "    <tr>\n",
       "      <th>3</th>\n",
       "      <td>0.20</td>\n",
       "      <td>18.244145</td>\n",
       "      <td>27.2</td>\n",
       "      <td>1.490889</td>\n",
       "      <td>8.955855</td>\n",
       "    </tr>\n",
       "  </tbody>\n",
       "</table>\n",
       "</div>"
      ],
      "text/plain": [
       "   Depth  Calculated  Measured        BF  BS Dose Contribution\n",
       "0   0.01   95.610844      98.2  1.027080              2.589156\n",
       "1   0.05   66.945713      78.5  1.172592             11.554287\n",
       "2   0.10   43.144943      55.6  1.288679             12.455057\n",
       "3   0.20   18.244145      27.2  1.490889              8.955855"
      ]
     },
     "execution_count": 141,
     "metadata": {},
     "output_type": "execute_result"
    }
   ],
   "source": [
    "data"
   ]
  },
  {
   "cell_type": "code",
   "execution_count": 139,
   "metadata": {
    "collapsed": false
   },
   "outputs": [
    {
     "data": {
      "image/png": "[encoded data removed]",
      "text/plain": [
       "<matplotlib.figure.Figure at 0x10b578950>"
      ]
     },
     "metadata": {},
     "output_type": "display_data"
    }
   ],
   "source": [
    "plt.fill_between(data[\"Depth\"]*100, data[\"Calculated\"], data[\"Measured\"], alpha=0.5)\n",
    "plt.fill_between(data[\"Depth\"]*100, 0, data[\"Calculated\"], color=\"green\", alpha=0.5)\n",
    "plt.text(0.05*100, 20, \"Direct dose\")\n",
    "plt.annotate(\"Backscatter\", xy=(0.1*100, 50), xytext=(0.12*100, 65), arrowprops=dict(facecolor='black', shrink=0.05))\n",
    "plt.ylabel(\"Dose (Gy)\")\n",
    "plt.xlabel(\"Depth (cm)\")\n",
    "plt.legend(loc=\"upper right\")\n",
    "plt.savefig('images/problem4.png')\n",
    "plt.show()"
   ]
  },
  {
   "cell_type": "code",
   "execution_count": null,
   "metadata": {
    "collapsed": true
   },
   "outputs": [],
   "source": []
  }
 ],
 "metadata": {
  "anaconda-cloud": {},
  "kernelspec": {
   "display_name": "Python [conda env:nuc]",
   "language": "python",
   "name": "conda-env-nuc-py"
  },
  "language_info": {
   "codemirror_mode": {
    "name": "ipython",
    "version": 2
   },
   "file_extension": ".py",
   "mimetype": "text/x-python",
   "name": "python",
   "nbconvert_exporter": "python",
   "pygments_lexer": "ipython2",
   "version": "2.7.12"
  },
  "latex_envs": {
   "bibliofile": "biblio.bib",
   "cite_by": "apalike",
   "current_citInitial": 1,
   "eqLabelWithNumbers": true,
   "eqNumInitial": 0
  }
 },
 "nbformat": 4,
 "nbformat_minor": 0
}
