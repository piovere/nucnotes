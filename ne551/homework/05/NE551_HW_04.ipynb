{
 "cells": [
  {
   "cell_type": "markdown",
   "metadata": {},
   "source": [
    "# NE551 Homework 4 Addendum #\n",
    "J.R. Powers-Luhn  \n",
    "2016/09/28"
   ]
  },
  {
   "cell_type": "markdown",
   "metadata": {},
   "source": [
    "## Problem 2 (Anderson 4.2) ##"
   ]
  },
  {
   "cell_type": "code",
   "execution_count": 255,
   "metadata": {
    "code_folding": [
     0
    ],
    "collapsed": false
   },
   "outputs": [
    {
     "data": {
      "application/javascript": [
       "MathJax.Extension[\"TeX/cancel\"]={version:\"2.4.0\",ALLOWED:{color:1,mathcolor:1,background:1,mathbackground:1,padding:1,thickness:1}};MathJax.Hub.Register.StartupHook(\"TeX Jax Ready\",function(){var c=MathJax.InputJax.TeX,a=MathJax.ElementJax.mml,b=MathJax.Extension[\"TeX/cancel\"];b.setAttributes=function(h,e){if(e!==\"\"){e=e.replace(/ /g,\"\").split(/,/);for(var g=0,d=e.length;g<d;g++){var f=e[g].split(/[:=]/);if(b.ALLOWED[f[0]]){if(f[1]===\"true\"){f[1]=true}if(f[1]===\"false\"){f[1]=false}h[f[0]]=f[1]}}}return h};c.Definitions.Add({macros:{cancel:[\"Cancel\",a.NOTATION.UPDIAGONALSTRIKE],bcancel:[\"Cancel\",a.NOTATION.DOWNDIAGONALSTRIKE],xcancel:[\"Cancel\",a.NOTATION.UPDIAGONALSTRIKE+\" \"+a.NOTATION.DOWNDIAGONALSTRIKE],cancelto:\"CancelTo\"}},null,true);c.Parse.Augment({Cancel:function(e,g){var d=this.GetBrackets(e,\"\"),f=this.ParseArg(e);var h=b.setAttributes({notation:g},d);this.Push(a.menclose(f).With(h))},CancelTo:function(e,g){var i=this.ParseArg(e),d=this.GetBrackets(e,\"\"),f=this.ParseArg(e);var h=b.setAttributes({notation:a.NOTATION.UPDIAGONALSTRIKE+\" \"+a.NOTATION.UPDIAGONALARROW},d);i=a.mpadded(i).With({depth:\"-.1em\",height:\"+.1em\",voffset:\".1em\"});this.Push(a.msup(a.menclose(f).With(h),i))}});MathJax.Hub.Startup.signal.Post(\"TeX cancel Ready\")});MathJax.Ajax.loadComplete(\"[MathJax]/extensions/TeX/cancel.js\");"
      ],
      "text/plain": [
       "<IPython.core.display.Javascript object>"
      ]
     },
     "metadata": {},
     "output_type": "display_data"
    }
   ],
   "source": [
    "%%javascript\n",
    "MathJax.Extension[\"TeX/cancel\"]={version:\"2.4.0\",ALLOWED:{color:1,mathcolor:1,background:1,mathbackground:1,padding:1,thickness:1}};MathJax.Hub.Register.StartupHook(\"TeX Jax Ready\",function(){var c=MathJax.InputJax.TeX,a=MathJax.ElementJax.mml,b=MathJax.Extension[\"TeX/cancel\"];b.setAttributes=function(h,e){if(e!==\"\"){e=e.replace(/ /g,\"\").split(/,/);for(var g=0,d=e.length;g<d;g++){var f=e[g].split(/[:=]/);if(b.ALLOWED[f[0]]){if(f[1]===\"true\"){f[1]=true}if(f[1]===\"false\"){f[1]=false}h[f[0]]=f[1]}}}return h};c.Definitions.Add({macros:{cancel:[\"Cancel\",a.NOTATION.UPDIAGONALSTRIKE],bcancel:[\"Cancel\",a.NOTATION.DOWNDIAGONALSTRIKE],xcancel:[\"Cancel\",a.NOTATION.UPDIAGONALSTRIKE+\" \"+a.NOTATION.DOWNDIAGONALSTRIKE],cancelto:\"CancelTo\"}},null,true);c.Parse.Augment({Cancel:function(e,g){var d=this.GetBrackets(e,\"\"),f=this.ParseArg(e);var h=b.setAttributes({notation:g},d);this.Push(a.menclose(f).With(h))},CancelTo:function(e,g){var i=this.ParseArg(e),d=this.GetBrackets(e,\"\"),f=this.ParseArg(e);var h=b.setAttributes({notation:a.NOTATION.UPDIAGONALSTRIKE+\" \"+a.NOTATION.UPDIAGONALARROW},d);i=a.mpadded(i).With({depth:\"-.1em\",height:\"+.1em\",voffset:\".1em\"});this.Push(a.msup(a.menclose(f).With(h),i))}});MathJax.Hub.Startup.signal.Post(\"TeX cancel Ready\")});MathJax.Ajax.loadComplete(\"[MathJax]/extensions/TeX/cancel.js\");"
   ]
  },
  {
   "cell_type": "markdown",
   "metadata": {},
   "source": [
    "\\begin{equation}\n",
    "    R = \\frac{M \\cancel{c^2} I^2}{32 z^2 \\pi r_0^2 \\left( m_e \\cancel{c^2} \\right)^3 N_A \\left(Z / M_m \\right) \\rho} \\left[\\operatorname{Ei}\\left(\\ln u_0 \\right) - \\cancel{\\operatorname{Ei}\\left(\\ln u_1 \\right)} \\right] + \\cancel{R_1\\left(T_1\\right)}\n",
    "\\end{equation}\n",
    "and\n",
    "\\begin{equation}\n",
    "    u = \\left( \\frac{4 m_e c^2 \\tau}{I} \\right)^2 = \\left( \\frac{4 m_e \\cancel{c^2} T}{I M \\cancel{c^2}} \\right)^2\n",
    "\\end{equation}"
   ]
  },
  {
   "cell_type": "code",
   "execution_count": 256,
   "metadata": {
    "collapsed": true
   },
   "outputs": [],
   "source": [
    "import scipy.constants as const\n",
    "from scipy.special import expi # Exponential integral function, Ei\n",
    "from math import log, pi\n",
    "import numpy as np\n",
    "from scipy.interpolate import interp1d"
   ]
  },
  {
   "cell_type": "code",
   "execution_count": 257,
   "metadata": {
    "code_folding": [],
    "collapsed": true
   },
   "outputs": [],
   "source": [
    "# Constants!\n",
    "I = 82 * 10 ** -6 # MeV\n",
    "M = const.physical_constants['alpha particle mass energy equivalent in MeV'][0] # 3727.379... MeV\n",
    "z = 2 # incident alpha particle\n",
    "m_e = const.physical_constants['electron mass energy equivalent in MeV'][0]\n",
    "r_0 = const.physical_constants['classical electron radius'][0] * 100 # cm\n",
    "N_A = const.physical_constants['Avogadro constant'][0]\n",
    "Z = 14\n",
    "M_m = 28.014 # g/mol\n",
    "rho = 0.00125 # g/cm^3"
   ]
  },
  {
   "cell_type": "code",
   "execution_count": 258,
   "metadata": {
    "collapsed": true
   },
   "outputs": [],
   "source": [
    "def u(T):\n",
    "    numerator = 4 * m_e * T\n",
    "    denominator = I * M\n",
    "    return (numerator / denominator) ** 2"
   ]
  },
  {
   "cell_type": "code",
   "execution_count": 259,
   "metadata": {
    "collapsed": false
   },
   "outputs": [
    {
     "data": {
      "text/plain": [
       "1118.0599713539173"
      ]
     },
     "execution_count": 259,
     "metadata": {},
     "output_type": "execute_result"
    }
   ],
   "source": [
    "u(5)"
   ]
  },
  {
   "cell_type": "code",
   "execution_count": 260,
   "metadata": {
    "collapsed": false
   },
   "outputs": [
    {
     "data": {
      "text/plain": [
       "159.28254390194414"
      ]
     },
     "execution_count": 260,
     "metadata": {},
     "output_type": "execute_result"
    }
   ],
   "source": [
    "# Approximation of Exponential integral\n",
    "u(5) / log(u(5))"
   ]
  },
  {
   "cell_type": "code",
   "execution_count": 261,
   "metadata": {
    "collapsed": true
   },
   "outputs": [],
   "source": [
    "def R(T, approxEi=False):\n",
    "    \"\"\" Gives predicted range\n",
    "        Can optionally specify approxEi to use the log approximation for Ei(log(u))\n",
    "    \"\"\"\n",
    "    numerator = M * I * I\n",
    "    denominator = 32 * z ** 2 * pi * r_0 ** 2 * m_e ** 3 * N_A * Z * rho / M_m\n",
    "    if not(approxEi):\n",
    "        ei = expi(log(u(T)))\n",
    "    else:\n",
    "        ei = u(T) / log(u(T)) # Approximation as u >> 1\n",
    "    return numerator * ei / denominator"
   ]
  },
  {
   "cell_type": "code",
   "execution_count": 262,
   "metadata": {
    "collapsed": false
   },
   "outputs": [
    {
     "name": "stdout",
     "output_type": "stream",
     "text": [
      "2.49058984845\n"
     ]
    }
   ],
   "source": [
    "print R(5, approxEi=True)"
   ]
  },
  {
   "cell_type": "code",
   "execution_count": 263,
   "metadata": {
    "collapsed": false
   },
   "outputs": [
    {
     "name": "stdout",
     "output_type": "stream",
     "text": [
      "3.04222192314\n"
     ]
    }
   ],
   "source": [
    "print R(5, approxEi=False)"
   ]
  },
  {
   "cell_type": "markdown",
   "metadata": {
    "collapsed": true
   },
   "source": [
    "## Problem 4 ##"
   ]
  },
  {
   "cell_type": "code",
   "execution_count": 279,
   "metadata": {
    "collapsed": false
   },
   "outputs": [],
   "source": [
    "r_e = r_0 # Copying code from scratch sheet\n",
    "I_water = 75.0\n",
    "I_air = 85.7\n",
    "rho_water = 1.0\n",
    "rho_air = 0.0012"
   ]
  },
  {
   "cell_type": "code",
   "execution_count": 280,
   "metadata": {
    "code_folding": [],
    "collapsed": true
   },
   "outputs": [],
   "source": [
    "def beta_squared(T, m):\n",
    "    \"\"\" Gives value of beta^2 for a given Mass (MeV/c^2) and Kinetic Energy (MeV)\n",
    "    \"\"\"\n",
    "    numerator = T * (T + 2 * m)\n",
    "    denominator = (T + m) ** 2\n",
    "    return np.divide(numerator, denominator)"
   ]
  },
  {
   "cell_type": "code",
   "execution_count": 281,
   "metadata": {
    "code_folding": [
     0
    ],
    "collapsed": true
   },
   "outputs": [],
   "source": [
    "def gamma_squared(T, m):\n",
    "    \"\"\" Gives value of gamma^2 for a given mass (MeV/c^2) and Kinetic Energy (MeV)\n",
    "    \"\"\"\n",
    "    return 1.0 / (1 - beta_squared(T, m)) ** 0.5"
   ]
  },
  {
   "cell_type": "code",
   "execution_count": 282,
   "metadata": {
    "collapsed": true
   },
   "outputs": [],
   "source": [
    "def S_c(incident, target, T, M_b, density, I):\n",
    "    \"\"\" Returns the stopping power in MeV/cm\n",
    "        T in MeV\n",
    "        density in g/cm^3\n",
    "        Output in MeV/cm\n",
    "    \"\"\"\n",
    "    # Currently the incident is specified in Z number. Incident is assumed to be fully ionized\n",
    "    z = incident\n",
    "    \n",
    "    # Z is actually Z/A\n",
    "    Z = target\n",
    "\n",
    "    first = 4 * (z ** 2) * pi * (r_e ** 2) * m_e\n",
    "    second = N_A * Z * density\n",
    "    third = 1.0 / beta_squared(T, M_b)\n",
    "    logpart = (2 * m_e * beta_squared(T, M_b) * gamma_squared(T, M_b)) / (I * 10 ** -6)\n",
    "    fourth = np.log(logpart) - beta_squared(T, M_b) + beta_squared(T, M_b)\n",
    "\n",
    "    result = first * second * third * fourth\n",
    "    \n",
    "    return result"
   ]
  },
  {
   "cell_type": "code",
   "execution_count": 283,
   "metadata": {
    "collapsed": false
   },
   "outputs": [],
   "source": [
    "S_c_chamber_one = S_c(1.0, 0.55, 250.0, 937.0, rho_air, I_air)"
   ]
  },
  {
   "cell_type": "code",
   "execution_count": 284,
   "metadata": {
    "collapsed": true
   },
   "outputs": [],
   "source": [
    "T_array = np.linspace(-10.0, 300.0, 260000)"
   ]
  },
  {
   "cell_type": "code",
   "execution_count": 285,
   "metadata": {
    "collapsed": false
   },
   "outputs": [],
   "source": [
    "interpolator = interp1d(\n",
    "    T_array, \n",
    "    np.piecewise(\n",
    "        T_array,\n",
    "        [T_array <= 0.001, T_array > 0],\n",
    "        [\n",
    "            lambda T_array: 0.0,\n",
    "            lambda T_array: S_c(1.0, 0.55, T_array, 937.0, rho_water, I_water)\n",
    "        ]\n",
    "    )\n",
    ")"
   ]
  },
  {
   "cell_type": "code",
   "execution_count": 286,
   "metadata": {
    "collapsed": false
   },
   "outputs": [
    {
     "data": {
      "text/plain": [
       "3.934864903456555"
      ]
     },
     "execution_count": 286,
     "metadata": {},
     "output_type": "execute_result"
    }
   ],
   "source": [
    "S_c(1.0, 0.55, 250.0, 937.0, 1.0, 75.0)"
   ]
  },
  {
   "cell_type": "code",
   "execution_count": 287,
   "metadata": {
    "collapsed": false
   },
   "outputs": [
    {
     "data": {
      "text/plain": [
       "array(3.9348649034678584)"
      ]
     },
     "execution_count": 287,
     "metadata": {},
     "output_type": "execute_result"
    }
   ],
   "source": [
    "interpolator(250)"
   ]
  },
  {
   "cell_type": "code",
   "execution_count": 311,
   "metadata": {
    "collapsed": false
   },
   "outputs": [],
   "source": [
    "def EofT(E0, t, step=1):\n",
    "    if t<step:\n",
    "        return E0\n",
    "    else:\n",
    "        e = EofT(E0, t-step, step=step)\n",
    "        if e > E0:\n",
    "            return E0\n",
    "        elif e>=0:\n",
    "            temp = e - step * interpolator(e)\n",
    "            if temp >= 0.0:\n",
    "                return temp\n",
    "            else:\n",
    "                return 0.0"
   ]
  },
  {
   "cell_type": "code",
   "execution_count": 346,
   "metadata": {
    "collapsed": false
   },
   "outputs": [],
   "source": [
    "def bragg_curve(t, debug=False):\n",
    "    S_c_chamber_one = S_c(1.0, 0.49918972273707857, 250.0, 937.0, rho_air, I_air)\n",
    "    E_after_chamber = EofT(250.0, t)\n",
    "    if E_after_chamber > 0.0:\n",
    "        S_c_chamber_two = S_c(1.0, 0.49918972273707857, E_after_chamber, 937.0, rho_air, I_air)\n",
    "    else:\n",
    "        S_c_chamber_two = 0.0\n",
    "    if debug is True:\n",
    "        print S_c_chamber_two\n",
    "        print S_c_chamber_one\n",
    "        print E_after_chamber\n",
    "    return S_c_chamber_two / S_c_chamber_one"
   ]
  },
  {
   "cell_type": "code",
   "execution_count": 347,
   "metadata": {
    "collapsed": false
   },
   "outputs": [],
   "source": [
    "thickness = [0.0, 10.0, 20.0, 30.0, 35.0, 36.0, 37.0, 38.0]"
   ]
  },
  {
   "cell_type": "code",
   "execution_count": 348,
   "metadata": {
    "collapsed": false
   },
   "outputs": [],
   "source": [
    "%matplotlib inline"
   ]
  },
  {
   "cell_type": "code",
   "execution_count": 349,
   "metadata": {
    "collapsed": false,
    "scrolled": true
   },
   "outputs": [
    {
     "data": {
      "image/png": "[encoded data removed]",
      "text/plain": [
       "<matplotlib.figure.Figure at 0x1043b1110>"
      ]
     },
     "metadata": {},
     "output_type": "display_data"
    }
   ],
   "source": [
    "import matplotlib.pyplot as plt\n",
    "\n",
    "plt.plot([i + 1.0 for i in range(40)], [bragg_curve(i + 1.0) for i in range(40)], 'b',\n",
    "         thickness, [bragg_curve(i) for i in thickness], 'r^'\n",
    "        )\n",
    "plt.xlabel(\"Thickness (cm)\")\n",
    "plt.ylabel(\"Chamber 2 current / Chamber 1 current\")\n",
    "plt.show()"
   ]
  },
  {
   "cell_type": "code",
   "execution_count": null,
   "metadata": {
    "collapsed": true
   },
   "outputs": [],
   "source": []
  }
 ],
 "metadata": {
  "anaconda-cloud": {},
  "kernelspec": {
   "display_name": "Python [conda env:nuc]",
   "language": "python",
   "name": "conda-env-nuc-py"
  },
  "language_info": {
   "codemirror_mode": {
    "name": "ipython",
    "version": 2
   },
   "file_extension": ".py",
   "mimetype": "text/x-python",
   "name": "python",
   "nbconvert_exporter": "python",
   "pygments_lexer": "ipython2",
   "version": "2.7.12"
  },
  "latex_envs": {
   "bibliofile": "biblio.bib",
   "cite_by": "apalike",
   "current_citInitial": 1,
   "eqLabelWithNumbers": true,
   "eqNumInitial": 0
  }
 },
 "nbformat": 4,
 "nbformat_minor": 1
}
