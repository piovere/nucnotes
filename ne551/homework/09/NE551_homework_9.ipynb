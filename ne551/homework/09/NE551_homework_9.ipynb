{
 "cells": [
  {
   "cell_type": "code",
   "execution_count": 14,
   "metadata": {
    "collapsed": true
   },
   "outputs": [],
   "source": [
    "import pandas as pd\n",
    "import numpy as np"
   ]
  },
  {
   "cell_type": "markdown",
   "metadata": {},
   "source": [
    "# Number 1: Anderson 9.3 #"
   ]
  },
  {
   "cell_type": "markdown",
   "metadata": {},
   "source": [
    "Consider the case of a 1 MeV neutron incident on a nucleus of mass number $A = 100$. Using $R=R_0 A^{1/3}=(1.1)10^{-15} A^{1/3}$m, calculate the time required for a single transversal of the nuclear diameter by the neutron. Assume a square well nuclear potential with depth of 10 MeV. Compare this time with an estimate of the compound nucleus lifetime from the uncertainty principle for a resonance with level width $\\Delta E=0.1$eV"
   ]
  },
  {
   "cell_type": "code",
   "execution_count": 28,
   "metadata": {
    "collapsed": false
   },
   "outputs": [
    {
     "data": {
      "text/plain": [
       "5.105747716974057e-15"
      ]
     },
     "execution_count": 28,
     "metadata": {},
     "output_type": "execute_result"
    }
   ],
   "source": [
    "R = 1.1 * 1e-15 * 100.**(1./3.)\n",
    "R"
   ]
  },
  {
   "cell_type": "markdown",
   "metadata": {},
   "source": [
    "Using the classical relationship $T = \\frac{1}{2} m_n v^2 \\rightarrow v = \\sqrt{2T / m_n}$"
   ]
  },
  {
   "cell_type": "code",
   "execution_count": 30,
   "metadata": {
    "collapsed": false
   },
   "outputs": [],
   "source": [
    "def beta_2(T, m):\n",
    "    numerator = T * (T + 2 * m)\n",
    "    denominator = (T + m) ** 2\n",
    "    return numerator / denominator"
   ]
  },
  {
   "cell_type": "code",
   "execution_count": 32,
   "metadata": {
    "collapsed": false
   },
   "outputs": [
    {
     "data": {
      "text/plain": [
       "0.15169079422109602"
      ]
     },
     "execution_count": 32,
     "metadata": {},
     "output_type": "execute_result"
    }
   ],
   "source": [
    "beta = beta_2(11., 939.57) ** 0.5\n",
    "beta"
   ]
  },
  {
   "cell_type": "markdown",
   "metadata": {},
   "source": [
    "To calculate the time interval, use the Heisenberg relationship $\\Delta E \\times \\Delta t \\geq h / 2 $"
   ]
  },
  {
   "cell_type": "code",
   "execution_count": 34,
   "metadata": {
    "collapsed": true
   },
   "outputs": [],
   "source": [
    "planck = 4.135e-22 # MeV * s"
   ]
  },
  {
   "cell_type": "code",
   "execution_count": 35,
   "metadata": {
    "collapsed": false
   },
   "outputs": [
    {
     "data": {
      "text/plain": [
       "1.8795454545454545e-23"
      ]
     },
     "execution_count": 35,
     "metadata": {},
     "output_type": "execute_result"
    }
   ],
   "source": [
    "t = planck / 2. / 11.\n",
    "t"
   ]
  },
  {
   "cell_type": "markdown",
   "metadata": {},
   "source": [
    "This is the estimated compound nucleus lifetime (in seconds). Now we compare this to the transit time for the nuclear diameter"
   ]
  },
  {
   "cell_type": "code",
   "execution_count": 36,
   "metadata": {
    "collapsed": true
   },
   "outputs": [],
   "source": [
    "d = 2. * R\n",
    "\n",
    "c = 3e8 # m/s\n",
    "v = beta * c\n",
    "\n",
    "t_transit = d / v"
   ]
  },
  {
   "cell_type": "code",
   "execution_count": 37,
   "metadata": {
    "collapsed": false
   },
   "outputs": [
    {
     "data": {
      "text/plain": [
       "2.2439277405026986e-22"
      ]
     },
     "execution_count": 37,
     "metadata": {},
     "output_type": "execute_result"
    }
   ],
   "source": [
    "t_transit"
   ]
  },
  {
   "cell_type": "markdown",
   "metadata": {},
   "source": [
    "# Number 2 #"
   ]
  },
  {
   "cell_type": "markdown",
   "metadata": {},
   "source": [
    "Look up the thermal neutron cross sections for each stable isotope of Cd, and then using those\n",
    "values determine the thermal neutron cross section for natural Cd (please include the natural\n",
    "abundances of each isotope that you use in this calculation)"
   ]
  },
  {
   "cell_type": "markdown",
   "metadata": {},
   "source": [
    "List of stable isotopes obtained from [ENDF](https://www.nndc.bnl.gov/sigma/index.jsp?as=116&lib=endfb7.1&nsub=10)"
   ]
  },
  {
   "cell_type": "markdown",
   "metadata": {},
   "source": [
    "Natural abundance fractions obtained from [NC State](https://www.ncsu.edu/chemistry/msf/pdf/IsotopicMass_NaturalAbundance.pdf)"
   ]
  },
  {
   "cell_type": "code",
   "execution_count": 2,
   "metadata": {
    "collapsed": true
   },
   "outputs": [],
   "source": [
    "cadmium = pd.DataFrame(\n",
    "    {\n",
    "        \"Isotope\": [106, 108, 110, 111, 112, 113, 114, 116],\n",
    "        \"Abundance\": [1.25, 0.89, 12.49, 12.80, 24.13, 12.22, 28.73, 7.49],\n",
    "        \"Cross Section\": [1., 1.1, 11, 24, 2.2, 20600, 0.34, 0.075]\n",
    "    }\n",
    ")"
   ]
  },
  {
   "cell_type": "code",
   "execution_count": 5,
   "metadata": {
    "collapsed": true
   },
   "outputs": [],
   "source": [
    "cadmium[\"Fractional Cross Section Contribution\"] = cadmium[\"Abundance\"] * 1e-2 * cadmium[\"Cross Section\"]"
   ]
  },
  {
   "cell_type": "code",
   "execution_count": 6,
   "metadata": {
    "collapsed": false
   },
   "outputs": [
    {
     "data": {
      "text/html": [
       "<div>\n",
       "<table border=\"1\" class=\"dataframe\">\n",
       "  <thead>\n",
       "    <tr style=\"text-align: right;\">\n",
       "      <th></th>\n",
       "      <th>Abundance</th>\n",
       "      <th>Cross Section</th>\n",
       "      <th>Isotope</th>\n",
       "      <th>Fractional Cross Section Contribution</th>\n",
       "    </tr>\n",
       "  </thead>\n",
       "  <tbody>\n",
       "    <tr>\n",
       "      <th>0</th>\n",
       "      <td>1.25</td>\n",
       "      <td>1.000</td>\n",
       "      <td>106</td>\n",
       "      <td>0.012500</td>\n",
       "    </tr>\n",
       "    <tr>\n",
       "      <th>1</th>\n",
       "      <td>0.89</td>\n",
       "      <td>1.100</td>\n",
       "      <td>108</td>\n",
       "      <td>0.009790</td>\n",
       "    </tr>\n",
       "    <tr>\n",
       "      <th>2</th>\n",
       "      <td>12.49</td>\n",
       "      <td>11.000</td>\n",
       "      <td>110</td>\n",
       "      <td>1.373900</td>\n",
       "    </tr>\n",
       "    <tr>\n",
       "      <th>3</th>\n",
       "      <td>12.80</td>\n",
       "      <td>24.000</td>\n",
       "      <td>111</td>\n",
       "      <td>3.072000</td>\n",
       "    </tr>\n",
       "    <tr>\n",
       "      <th>4</th>\n",
       "      <td>24.13</td>\n",
       "      <td>2.200</td>\n",
       "      <td>112</td>\n",
       "      <td>0.530860</td>\n",
       "    </tr>\n",
       "    <tr>\n",
       "      <th>5</th>\n",
       "      <td>12.22</td>\n",
       "      <td>20600.000</td>\n",
       "      <td>113</td>\n",
       "      <td>2517.320000</td>\n",
       "    </tr>\n",
       "    <tr>\n",
       "      <th>6</th>\n",
       "      <td>28.73</td>\n",
       "      <td>0.340</td>\n",
       "      <td>114</td>\n",
       "      <td>0.097682</td>\n",
       "    </tr>\n",
       "    <tr>\n",
       "      <th>7</th>\n",
       "      <td>7.49</td>\n",
       "      <td>0.075</td>\n",
       "      <td>116</td>\n",
       "      <td>0.005618</td>\n",
       "    </tr>\n",
       "  </tbody>\n",
       "</table>\n",
       "</div>"
      ],
      "text/plain": [
       "   Abundance  Cross Section  Isotope  Fractional Cross Section Contribution\n",
       "0       1.25          1.000      106                               0.012500\n",
       "1       0.89          1.100      108                               0.009790\n",
       "2      12.49         11.000      110                               1.373900\n",
       "3      12.80         24.000      111                               3.072000\n",
       "4      24.13          2.200      112                               0.530860\n",
       "5      12.22      20600.000      113                            2517.320000\n",
       "6      28.73          0.340      114                               0.097682\n",
       "7       7.49          0.075      116                               0.005618"
      ]
     },
     "execution_count": 6,
     "metadata": {},
     "output_type": "execute_result"
    }
   ],
   "source": [
    "cadmium"
   ]
  },
  {
   "cell_type": "code",
   "execution_count": 7,
   "metadata": {
    "collapsed": false
   },
   "outputs": [
    {
     "data": {
      "text/plain": [
       "2522.4223495000001"
      ]
     },
     "execution_count": 7,
     "metadata": {},
     "output_type": "execute_result"
    }
   ],
   "source": [
    "sum(cadmium[\"Fractional Cross Section Contribution\"])"
   ]
  },
  {
   "cell_type": "markdown",
   "metadata": {},
   "source": [
    "# Problem 3 #"
   ]
  },
  {
   "cell_type": "markdown",
   "metadata": {},
   "source": [
    "Anderson 9.9, change the material to natural Cd. Use the cross section you determined in #3. "
   ]
  },
  {
   "cell_type": "markdown",
   "metadata": {},
   "source": [
    "What thickness of Cd will remove 95% of a beam of 100 eV neutrons?"
   ]
  },
  {
   "cell_type": "markdown",
   "metadata": {},
   "source": [
    "Convert to macroscopic cross sections, using the A-number of each isotope as an approximation for the isotopic mass"
   ]
  },
  {
   "cell_type": "code",
   "execution_count": 8,
   "metadata": {
    "collapsed": true
   },
   "outputs": [],
   "source": [
    "def macroscopic_cross_section(A, microscopic):\n",
    "    na = 6.022e23\n",
    "    density = 8.65 # g/cm^3, from wikipedia for solid Cd\n",
    "    \n",
    "    macroscopic = microscopic * na * density / A\n",
    "    \n",
    "    return macroscopic"
   ]
  },
  {
   "cell_type": "code",
   "execution_count": 9,
   "metadata": {
    "collapsed": true
   },
   "outputs": [],
   "source": [
    "cadmium[\"Macroscopic Cross Section\"] = macroscopic_cross_section(cadmium[\"Isotope\"], cadmium[\"Cross Section\"])"
   ]
  },
  {
   "cell_type": "code",
   "execution_count": 11,
   "metadata": {
    "collapsed": false
   },
   "outputs": [
    {
     "data": {
      "text/plain": [
       "112.50800000000001"
      ]
     },
     "execution_count": 11,
     "metadata": {},
     "output_type": "execute_result"
    }
   ],
   "source": [
    "cadmium_mass_average = sum(cadmium[\"Abundance\"] * 1e-2 * cadmium[\"Isotope\"])\n",
    "cadmium_mass_average"
   ]
  },
  {
   "cell_type": "code",
   "execution_count": 12,
   "metadata": {
    "collapsed": true
   },
   "outputs": [],
   "source": [
    "cadmium[\"Number Fraction\"] = 6.022e23 * 8.65 / cadmium_mass_average * cadmium[\"Abundance\"] * 1e-2"
   ]
  },
  {
   "cell_type": "code",
   "execution_count": 13,
   "metadata": {
    "collapsed": false
   },
   "outputs": [
    {
     "data": {
      "text/html": [
       "<div>\n",
       "<table border=\"1\" class=\"dataframe\">\n",
       "  <thead>\n",
       "    <tr style=\"text-align: right;\">\n",
       "      <th></th>\n",
       "      <th>Abundance</th>\n",
       "      <th>Cross Section</th>\n",
       "      <th>Isotope</th>\n",
       "      <th>Fractional Cross Section Contribution</th>\n",
       "      <th>Macroscopic Cross Section</th>\n",
       "      <th>Number Fraction</th>\n",
       "    </tr>\n",
       "  </thead>\n",
       "  <tbody>\n",
       "    <tr>\n",
       "      <th>0</th>\n",
       "      <td>1.25</td>\n",
       "      <td>1.000</td>\n",
       "      <td>106</td>\n",
       "      <td>0.012500</td>\n",
       "      <td>4.914179e+22</td>\n",
       "      <td>5.787400e+20</td>\n",
       "    </tr>\n",
       "    <tr>\n",
       "      <th>1</th>\n",
       "      <td>0.89</td>\n",
       "      <td>1.100</td>\n",
       "      <td>108</td>\n",
       "      <td>0.009790</td>\n",
       "      <td>5.305494e+22</td>\n",
       "      <td>4.120628e+20</td>\n",
       "    </tr>\n",
       "    <tr>\n",
       "      <th>2</th>\n",
       "      <td>12.49</td>\n",
       "      <td>11.000</td>\n",
       "      <td>110</td>\n",
       "      <td>1.373900</td>\n",
       "      <td>5.209030e+23</td>\n",
       "      <td>5.782770e+21</td>\n",
       "    </tr>\n",
       "    <tr>\n",
       "      <th>3</th>\n",
       "      <td>12.80</td>\n",
       "      <td>24.000</td>\n",
       "      <td>111</td>\n",
       "      <td>3.072000</td>\n",
       "      <td>1.126277e+24</td>\n",
       "      <td>5.926297e+21</td>\n",
       "    </tr>\n",
       "    <tr>\n",
       "      <th>4</th>\n",
       "      <td>24.13</td>\n",
       "      <td>2.200</td>\n",
       "      <td>112</td>\n",
       "      <td>0.530860</td>\n",
       "      <td>1.023202e+23</td>\n",
       "      <td>1.117200e+22</td>\n",
       "    </tr>\n",
       "    <tr>\n",
       "      <th>5</th>\n",
       "      <td>12.22</td>\n",
       "      <td>20600.000</td>\n",
       "      <td>113</td>\n",
       "      <td>2517.320000</td>\n",
       "      <td>9.496108e+26</td>\n",
       "      <td>5.657762e+21</td>\n",
       "    </tr>\n",
       "    <tr>\n",
       "      <th>6</th>\n",
       "      <td>28.73</td>\n",
       "      <td>0.340</td>\n",
       "      <td>114</td>\n",
       "      <td>0.097682</td>\n",
       "      <td>1.553570e+22</td>\n",
       "      <td>1.330176e+22</td>\n",
       "    </tr>\n",
       "    <tr>\n",
       "      <th>7</th>\n",
       "      <td>7.49</td>\n",
       "      <td>0.075</td>\n",
       "      <td>116</td>\n",
       "      <td>0.005618</td>\n",
       "      <td>3.367907e+21</td>\n",
       "      <td>3.467810e+21</td>\n",
       "    </tr>\n",
       "  </tbody>\n",
       "</table>\n",
       "</div>"
      ],
      "text/plain": [
       "   Abundance  Cross Section  Isotope  Fractional Cross Section Contribution  \\\n",
       "0       1.25          1.000      106                               0.012500   \n",
       "1       0.89          1.100      108                               0.009790   \n",
       "2      12.49         11.000      110                               1.373900   \n",
       "3      12.80         24.000      111                               3.072000   \n",
       "4      24.13          2.200      112                               0.530860   \n",
       "5      12.22      20600.000      113                            2517.320000   \n",
       "6      28.73          0.340      114                               0.097682   \n",
       "7       7.49          0.075      116                               0.005618   \n",
       "\n",
       "   Macroscopic Cross Section  Number Fraction  \n",
       "0               4.914179e+22     5.787400e+20  \n",
       "1               5.305494e+22     4.120628e+20  \n",
       "2               5.209030e+23     5.782770e+21  \n",
       "3               1.126277e+24     5.926297e+21  \n",
       "4               1.023202e+23     1.117200e+22  \n",
       "5               9.496108e+26     5.657762e+21  \n",
       "6               1.553570e+22     1.330176e+22  \n",
       "7               3.367907e+21     3.467810e+21  "
      ]
     },
     "execution_count": 13,
     "metadata": {},
     "output_type": "execute_result"
    }
   ],
   "source": [
    "cadmium"
   ]
  },
  {
   "cell_type": "markdown",
   "metadata": {},
   "source": [
    "$$ \\phi = \\phi_0 \\exp{\\left(-\\Sigma_i * t\\right)} $$\n",
    "$$ t = \\frac{-\\log \\left(\\phi / \\phi_0 \\right) }{\\Sigma} $$"
   ]
  },
  {
   "cell_type": "code",
   "execution_count": 20,
   "metadata": {
    "collapsed": true
   },
   "outputs": [],
   "source": [
    "Sigma = sum(cadmium['Number Fraction'] * cadmium['Cross Section'] * 1e-24)"
   ]
  },
  {
   "cell_type": "code",
   "execution_count": 24,
   "metadata": {
    "collapsed": true
   },
   "outputs": [],
   "source": [
    "t = -np.log(0.05) / Sigma"
   ]
  },
  {
   "cell_type": "code",
   "execution_count": 25,
   "metadata": {
    "collapsed": false
   },
   "outputs": [
    {
     "data": {
      "text/plain": [
       "0.025651439296405364"
      ]
     },
     "execution_count": 25,
     "metadata": {},
     "output_type": "execute_result"
    }
   ],
   "source": [
    "t"
   ]
  },
  {
   "cell_type": "markdown",
   "metadata": {},
   "source": [
    "To reduce the beam by 95%, you must have $2.57\\times10^{-2}$ cm of Cd"
   ]
  },
  {
   "cell_type": "markdown",
   "metadata": {},
   "source": [
    "# Problem 4 #"
   ]
  },
  {
   "cell_type": "markdown",
   "metadata": {},
   "source": [
    "What is the relative probability of production of I-131 with respect to production of Cs-137 in thermal neutron fission of U-235? Use the double-hump curve on Figure 9.18. What is the relative probability of production of Mo-99 with respect to production of Cs-137?"
   ]
  },
  {
   "cell_type": "markdown",
   "metadata": {},
   "source": [
    "From [Wikipedia](https://en.wikipedia.org/wiki/Fission_product_yield#Ordered_by_yield_.28thermal_neutron_fission_of_U-235.29), Cs-137 has a yield of 6.0899% while I-131 has a yield of 2.8336%. Mo-99 has a yield of 6.1%. Mo-99 is therefore about as likely to be produced as Cs-137, while I-131 is about half (46.6%) as likely to be produced as Cs-137."
   ]
  },
  {
   "cell_type": "code",
   "execution_count": 23,
   "metadata": {
    "collapsed": false
   },
   "outputs": [
    {
     "data": {
      "text/plain": [
       "0.46578761556018977"
      ]
     },
     "execution_count": 23,
     "metadata": {},
     "output_type": "execute_result"
    }
   ],
   "source": [
    "2.8366 / 6.0899"
   ]
  },
  {
   "cell_type": "code",
   "execution_count": null,
   "metadata": {
    "collapsed": true
   },
   "outputs": [],
   "source": []
  }
 ],
 "metadata": {
  "anaconda-cloud": {},
  "kernelspec": {
   "display_name": "Python [conda env:nuc]",
   "language": "python",
   "name": "conda-env-nuc-py"
  },
  "language_info": {
   "codemirror_mode": {
    "name": "ipython",
    "version": 2
   },
   "file_extension": ".py",
   "mimetype": "text/x-python",
   "name": "python",
   "nbconvert_exporter": "python",
   "pygments_lexer": "ipython2",
   "version": "2.7.12"
  }
 },
 "nbformat": 4,
 "nbformat_minor": 1
}
