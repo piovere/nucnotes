{
 "cells": [
  {
   "cell_type": "markdown",
   "metadata": {},
   "source": [
    "# Problem 2 #"
   ]
  },
  {
   "cell_type": "code",
   "execution_count": 2,
   "metadata": {
    "collapsed": true
   },
   "outputs": [],
   "source": [
    "import pandas as pd\n",
    "import numpy as np\n",
    "import scipy.constants as const"
   ]
  },
  {
   "cell_type": "code",
   "execution_count": 3,
   "metadata": {
    "collapsed": true
   },
   "outputs": [],
   "source": [
    "def mean_free_path(sigma):\n",
    "    # Define constants\n",
    "    density = 11.34 # g/cm^3\n",
    "    molar_mass = 206.9758969\n",
    "    na = const.Avogadro\n",
    "    \n",
    "    # convert sigma from barns to cm^2\n",
    "    sigma = sigma * 1e-24\n",
    "    \n",
    "    macroscopic_cross_section = sigma * na * density / molar_mass\n",
    "    \n",
    "    mean_free_path = macroscopic_cross_section ** -1\n",
    "    \n",
    "    return mean_free_path"
   ]
  },
  {
   "cell_type": "code",
   "execution_count": 4,
   "metadata": {
    "collapsed": true
   },
   "outputs": [],
   "source": [
    "endf_data = pd.DataFrame(\n",
    "    {\n",
    "        'T': [0.5, 1., 5., 10.],\n",
    "        'sigma': [5.8102174, 4.8768945, 4.89617, 2.4833]\n",
    "    }\n",
    ")"
   ]
  },
  {
   "cell_type": "code",
   "execution_count": 5,
   "metadata": {
    "collapsed": true
   },
   "outputs": [],
   "source": [
    "endf_data['Mean Free Path'] = mean_free_path(endf_data['sigma'])"
   ]
  },
  {
   "cell_type": "code",
   "execution_count": 6,
   "metadata": {
    "collapsed": false
   },
   "outputs": [
    {
     "data": {
      "text/html": [
       "<div>\n",
       "<table border=\"1\" class=\"dataframe\">\n",
       "  <thead>\n",
       "    <tr style=\"text-align: right;\">\n",
       "      <th></th>\n",
       "      <th>T</th>\n",
       "      <th>sigma</th>\n",
       "      <th>Mean Free Path</th>\n",
       "    </tr>\n",
       "  </thead>\n",
       "  <tbody>\n",
       "    <tr>\n",
       "      <th>0</th>\n",
       "      <td>0.5</td>\n",
       "      <td>5.810217</td>\n",
       "      <td>5.216310</td>\n",
       "    </tr>\n",
       "    <tr>\n",
       "      <th>1</th>\n",
       "      <td>1.0</td>\n",
       "      <td>4.876894</td>\n",
       "      <td>6.214590</td>\n",
       "    </tr>\n",
       "    <tr>\n",
       "      <th>2</th>\n",
       "      <td>5.0</td>\n",
       "      <td>4.896170</td>\n",
       "      <td>6.190124</td>\n",
       "    </tr>\n",
       "    <tr>\n",
       "      <th>3</th>\n",
       "      <td>10.0</td>\n",
       "      <td>2.483300</td>\n",
       "      <td>12.204686</td>\n",
       "    </tr>\n",
       "  </tbody>\n",
       "</table>\n",
       "</div>"
      ],
      "text/plain": [
       "      T     sigma  Mean Free Path\n",
       "0   0.5  5.810217        5.216310\n",
       "1   1.0  4.876894        6.214590\n",
       "2   5.0  4.896170        6.190124\n",
       "3  10.0  2.483300       12.204686"
      ]
     },
     "execution_count": 6,
     "metadata": {},
     "output_type": "execute_result"
    }
   ],
   "source": [
    "endf_data"
   ]
  },
  {
   "cell_type": "code",
   "execution_count": 15,
   "metadata": {
    "collapsed": false
   },
   "outputs": [
    {
     "data": {
      "text/plain": [
       "u'\\\\begin{tabular}{lrrr}\\n\\\\toprule\\n{} &     T &     sigma &  Mean Free Path \\\\\\\\\\n\\\\midrule\\n0 &   0.5 &  5.810217 &        5.216310 \\\\\\\\\\n1 &   1.0 &  4.876894 &        6.214590 \\\\\\\\\\n2 &   5.0 &  4.896170 &        6.190124 \\\\\\\\\\n3 &  10.0 &  2.483300 &       12.204686 \\\\\\\\\\n\\\\bottomrule\\n\\\\end{tabular}\\n'"
      ]
     },
     "execution_count": 15,
     "metadata": {},
     "output_type": "execute_result"
    }
   ],
   "source": [
    "endf_data.to_latex()"
   ]
  },
  {
   "cell_type": "markdown",
   "metadata": {},
   "source": [
    "# Problem 3 #"
   ]
  },
  {
   "cell_type": "code",
   "execution_count": 7,
   "metadata": {
    "collapsed": true
   },
   "outputs": [],
   "source": [
    "materials = pd.DataFrame(\n",
    "    {\n",
    "        \"Target\": [\"Li-7\", \"Helium\", \"Beryllium\", \"Carbon\", \"Pb-206\"],\n",
    "        \"A\": [7, 4, 9, 12, 206]\n",
    "    }\n",
    ")"
   ]
  },
  {
   "cell_type": "code",
   "execution_count": 8,
   "metadata": {
    "collapsed": true
   },
   "outputs": [],
   "source": [
    "def alpha(A):\n",
    "    numerator = A - 1\n",
    "    denominator = A + 1\n",
    "    \n",
    "    return (numerator / denominator)**2\n",
    "\n",
    "def average_logarithmic_energy_decrement_per_collision(A):\n",
    "    a = alpha(A)\n",
    "    numerator = a * np.log(a)\n",
    "    denominator = 1 - a\n",
    "    \n",
    "    return 1 + numerator / denominator\n",
    "\n",
    "e_thermal = 0.025 # eV\n",
    "e_0 = 1e6 # eV\n",
    "\n",
    "def k(T, T_prime, A):\n",
    "    ksi = average_logarithmic_energy_decrement_per_collision(A)\n",
    "    \n",
    "    return np.log(T / T_prime) / ksi"
   ]
  },
  {
   "cell_type": "code",
   "execution_count": 13,
   "metadata": {
    "collapsed": true
   },
   "outputs": [],
   "source": [
    "materials['Average Collisions to Thermalize'] = np.round(k(e_0, e_thermal, materials['A']))"
   ]
  },
  {
   "cell_type": "code",
   "execution_count": 14,
   "metadata": {
    "collapsed": false
   },
   "outputs": [
    {
     "data": {
      "text/html": [
       "<div>\n",
       "<table border=\"1\" class=\"dataframe\">\n",
       "  <thead>\n",
       "    <tr style=\"text-align: right;\">\n",
       "      <th></th>\n",
       "      <th>A</th>\n",
       "      <th>Target</th>\n",
       "      <th>Average Collisions to Thermalize</th>\n",
       "    </tr>\n",
       "  </thead>\n",
       "  <tbody>\n",
       "    <tr>\n",
       "      <th>0</th>\n",
       "      <td>7</td>\n",
       "      <td>Li-7</td>\n",
       "      <td>67</td>\n",
       "    </tr>\n",
       "    <tr>\n",
       "      <th>1</th>\n",
       "      <td>4</td>\n",
       "      <td>Helium</td>\n",
       "      <td>41</td>\n",
       "    </tr>\n",
       "    <tr>\n",
       "      <th>2</th>\n",
       "      <td>9</td>\n",
       "      <td>Beryllium</td>\n",
       "      <td>85</td>\n",
       "    </tr>\n",
       "    <tr>\n",
       "      <th>3</th>\n",
       "      <td>12</td>\n",
       "      <td>Carbon</td>\n",
       "      <td>111</td>\n",
       "    </tr>\n",
       "    <tr>\n",
       "      <th>4</th>\n",
       "      <td>206</td>\n",
       "      <td>Pb-206</td>\n",
       "      <td>1809</td>\n",
       "    </tr>\n",
       "  </tbody>\n",
       "</table>\n",
       "</div>"
      ],
      "text/plain": [
       "     A     Target  Average Collisions to Thermalize\n",
       "0    7       Li-7                                67\n",
       "1    4     Helium                                41\n",
       "2    9  Beryllium                                85\n",
       "3   12     Carbon                               111\n",
       "4  206     Pb-206                              1809"
      ]
     },
     "execution_count": 14,
     "metadata": {},
     "output_type": "execute_result"
    }
   ],
   "source": [
    "materials"
   ]
  },
  {
   "cell_type": "code",
   "execution_count": 16,
   "metadata": {
    "collapsed": false
   },
   "outputs": [
    {
     "data": {
      "text/plain": [
       "u'\\\\begin{tabular}{lrlr}\\n\\\\toprule\\n{} &    A &     Target &  Average Collisions to Thermalize \\\\\\\\\\n\\\\midrule\\n0 &    7 &       Li-7 &                                67 \\\\\\\\\\n1 &    4 &     Helium &                                41 \\\\\\\\\\n2 &    9 &  Beryllium &                                85 \\\\\\\\\\n3 &   12 &     Carbon &                               111 \\\\\\\\\\n4 &  206 &     Pb-206 &                              1809 \\\\\\\\\\n\\\\bottomrule\\n\\\\end{tabular}\\n'"
      ]
     },
     "execution_count": 16,
     "metadata": {},
     "output_type": "execute_result"
    }
   ],
   "source": [
    "materials.to_latex()"
   ]
  },
  {
   "cell_type": "code",
   "execution_count": null,
   "metadata": {
    "collapsed": true
   },
   "outputs": [],
   "source": []
  }
 ],
 "metadata": {
  "anaconda-cloud": {},
  "kernelspec": {
   "display_name": "Python [conda env:nuc]",
   "language": "python",
   "name": "conda-env-nuc-py"
  },
  "language_info": {
   "codemirror_mode": {
    "name": "ipython",
    "version": 2
   },
   "file_extension": ".py",
   "mimetype": "text/x-python",
   "name": "python",
   "nbconvert_exporter": "python",
   "pygments_lexer": "ipython2",
   "version": "2.7.12"
  },
  "latex_envs": {
   "bibliofile": "biblio.bib",
   "cite_by": "apalike",
   "current_citInitial": 1,
   "eqLabelWithNumbers": true,
   "eqNumInitial": 0
  }
 },
 "nbformat": 4,
 "nbformat_minor": 1
}
