{
 "cells": [
  {
   "cell_type": "markdown",
   "metadata": {},
   "source": [
    "# NE597: Linear Algebra Homework \\#1"
   ]
  },
  {
   "cell_type": "code",
   "execution_count": 35,
   "metadata": {
    "collapsed": true
   },
   "outputs": [],
   "source": [
    "import numpy as np\n",
    "np.set_printoptions(precision=3)"
   ]
  },
  {
   "cell_type": "markdown",
   "metadata": {},
   "source": [
    "## 1.3"
   ]
  },
  {
   "cell_type": "code",
   "execution_count": 36,
   "metadata": {
    "collapsed": true
   },
   "outputs": [],
   "source": [
    "A = np.matrix(\n",
    "    [\n",
    "        [8, 0, -3, 4],\n",
    "        [5, 5, 8, -7],\n",
    "        [3, -2, -1, 0],\n",
    "        [0, 7, 5, 4]\n",
    "    ]\n",
    ")\n",
    "B = np.matrix(\n",
    "    [\n",
    "        [-3, 1, 1, 10],\n",
    "        [3, 4, 15, 12],\n",
    "        [0, -4, -8, 9],\n",
    "        [2, 1, 1, 2]\n",
    "    ]\n",
    ")"
   ]
  },
  {
   "cell_type": "markdown",
   "metadata": {},
   "source": [
    "### a"
   ]
  },
  {
   "cell_type": "code",
   "execution_count": 37,
   "metadata": {},
   "outputs": [
    {
     "data": {
      "text/plain": [
       "matrix([[ 16,   0,  -6,   8],\n",
       "        [ 10,  10,  16, -14],\n",
       "        [  6,  -4,  -2,   0],\n",
       "        [  0,  14,  10,   8]])"
      ]
     },
     "execution_count": 37,
     "metadata": {},
     "output_type": "execute_result"
    }
   ],
   "source": [
    "2*A"
   ]
  },
  {
   "cell_type": "markdown",
   "metadata": {},
   "source": [
    "### b"
   ]
  },
  {
   "cell_type": "code",
   "execution_count": 38,
   "metadata": {},
   "outputs": [
    {
     "data": {
      "text/plain": [
       "matrix([[ 5,  1, -2, 14],\n",
       "        [ 8,  9, 23,  5],\n",
       "        [ 3, -6, -9,  9],\n",
       "        [ 2,  8,  6,  6]])"
      ]
     },
     "execution_count": 38,
     "metadata": {},
     "output_type": "execute_result"
    }
   ],
   "source": [
    "A + B"
   ]
  },
  {
   "cell_type": "markdown",
   "metadata": {},
   "source": [
    "### c"
   ]
  },
  {
   "cell_type": "code",
   "execution_count": 39,
   "metadata": {},
   "outputs": [
    {
     "data": {
      "text/plain": [
       "matrix([[-16,  24,  36,  61],\n",
       "        [-14, -14,   9, 168],\n",
       "        [-15,  -1, -19,  -3],\n",
       "        [ 29,  12,  69, 137]])"
      ]
     },
     "execution_count": 39,
     "metadata": {},
     "output_type": "execute_result"
    }
   ],
   "source": [
    "A*B"
   ]
  },
  {
   "cell_type": "markdown",
   "metadata": {},
   "source": [
    "### d"
   ]
  },
  {
   "cell_type": "code",
   "execution_count": 40,
   "metadata": {},
   "outputs": [
    {
     "data": {
      "text/plain": [
       "matrix([[-11,   1,   4,   6],\n",
       "        [ -2,  -1,   7,  19],\n",
       "        [ -3,  -2,  -7,   9],\n",
       "        [  2,  -6,  -4,  -2]])"
      ]
     },
     "execution_count": 40,
     "metadata": {},
     "output_type": "execute_result"
    }
   ],
   "source": [
    "B - A"
   ]
  },
  {
   "cell_type": "markdown",
   "metadata": {},
   "source": [
    "### e"
   ]
  },
  {
   "cell_type": "code",
   "execution_count": 41,
   "metadata": {},
   "outputs": [
    {
     "data": {
      "text/plain": [
       "matrix([[-16,  73,  66,  21],\n",
       "        [ 89,  74,  68,  32],\n",
       "        [-44,  59,  21,  64],\n",
       "        [ 24,  17,  11,   9]])"
      ]
     },
     "execution_count": 41,
     "metadata": {},
     "output_type": "execute_result"
    }
   ],
   "source": [
    "B*A"
   ]
  },
  {
   "cell_type": "markdown",
   "metadata": {},
   "source": [
    "### f"
   ]
  },
  {
   "cell_type": "code",
   "execution_count": 42,
   "metadata": {},
   "outputs": [
    {
     "data": {
      "text/plain": [
       "matrix([[16]])"
      ]
     },
     "execution_count": 42,
     "metadata": {},
     "output_type": "execute_result"
    }
   ],
   "source": [
    "A.trace()"
   ]
  },
  {
   "cell_type": "markdown",
   "metadata": {},
   "source": [
    "### g"
   ]
  },
  {
   "cell_type": "code",
   "execution_count": 43,
   "metadata": {},
   "outputs": [
    {
     "data": {
      "text/plain": [
       "matrix([[-5]])"
      ]
     },
     "execution_count": 43,
     "metadata": {},
     "output_type": "execute_result"
    }
   ],
   "source": [
    "B.trace()"
   ]
  },
  {
   "cell_type": "markdown",
   "metadata": {},
   "source": [
    "### h"
   ]
  },
  {
   "cell_type": "code",
   "execution_count": 44,
   "metadata": {},
   "outputs": [
    {
     "data": {
      "text/plain": [
       "1809"
      ]
     },
     "execution_count": 44,
     "metadata": {},
     "output_type": "execute_result"
    }
   ],
   "source": [
    "np.trace(A ** 2 * B)"
   ]
  },
  {
   "cell_type": "markdown",
   "metadata": {},
   "source": [
    "## 1.16"
   ]
  },
  {
   "cell_type": "markdown",
   "metadata": {},
   "source": [
    "Let $\\mathbf{A}$ be an $n \\times n$ matrix and let $\\mathbf{B}=\\mathbf{A} + \\mathbf{A}^T$ and $\\mathbf{C} = \\mathbf{A} - \\mathbf{A}^T$. Show that:\n",
    "\n",
    "1. $\\mathbf{B}$ is symmetric and $\\mathbf{C}$ is skew-symmetric.\n",
    "2. Every $n \\times n$ matrix can be represented as a sum of a symmetric and skew-symmetric matrix."
   ]
  },
  {
   "cell_type": "code",
   "execution_count": null,
   "metadata": {
    "collapsed": true
   },
   "outputs": [],
   "source": []
  },
  {
   "cell_type": "markdown",
   "metadata": {},
   "source": [
    "## 1.17"
   ]
  },
  {
   "cell_type": "markdown",
   "metadata": {},
   "source": [
    "For each of the following pairs of matrices, find an elementary matrix $\\mathbf{E}$ such that $\\mathbf{EA}=\\mathbf{B}$."
   ]
  },
  {
   "cell_type": "markdown",
   "metadata": {},
   "source": [
    "### a"
   ]
  },
  {
   "cell_type": "code",
   "execution_count": 45,
   "metadata": {
    "collapsed": true
   },
   "outputs": [],
   "source": [
    "A = np.matrix([\n",
    "    [3, 8],\n",
    "    [5, 16]\n",
    "])\n",
    "B = np.matrix([\n",
    "    [12, 32],\n",
    "    [5, 16]\n",
    "])"
   ]
  },
  {
   "cell_type": "code",
   "execution_count": 46,
   "metadata": {},
   "outputs": [
    {
     "data": {
      "text/plain": [
       "matrix([[ 4., -0.],\n",
       "        [ 0.,  1.]])"
      ]
     },
     "execution_count": 46,
     "metadata": {},
     "output_type": "execute_result"
    }
   ],
   "source": [
    "np.round(B * np.linalg.inv(A))"
   ]
  },
  {
   "cell_type": "markdown",
   "metadata": {},
   "source": [
    "### b"
   ]
  },
  {
   "cell_type": "code",
   "execution_count": 47,
   "metadata": {
    "collapsed": true
   },
   "outputs": [],
   "source": [
    "A = np.matrix([\n",
    "    [7, 6, 3],\n",
    "    [2, 0, 9],\n",
    "    [-8, 7, 4]\n",
    "])\n",
    "B = np.matrix([\n",
    "    [-8, 7, 4],\n",
    "    [2, 0, 9],\n",
    "    [7, 6, 3]\n",
    "])"
   ]
  },
  {
   "cell_type": "code",
   "execution_count": 48,
   "metadata": {},
   "outputs": [
    {
     "data": {
      "text/plain": [
       "matrix([[ 0.,  0.,  1.],\n",
       "        [ 0.,  1.,  0.],\n",
       "        [ 1., -0.,  0.]])"
      ]
     },
     "execution_count": 48,
     "metadata": {},
     "output_type": "execute_result"
    }
   ],
   "source": [
    "np.round(B * np.linalg.inv(A))"
   ]
  },
  {
   "cell_type": "markdown",
   "metadata": {},
   "source": [
    "### c"
   ]
  },
  {
   "cell_type": "code",
   "execution_count": 49,
   "metadata": {
    "collapsed": true
   },
   "outputs": [],
   "source": [
    "A = np.matrix([\n",
    "    [1, 4, 5, 9],\n",
    "    [0, 6, 2, 1],\n",
    "    [-4, 5, 2, -3],\n",
    "    [3, -3, 9, 0]\n",
    "])\n",
    "B = np.matrix([\n",
    "    [1, 4, 5, 9],\n",
    "    [6, 0, 20, 1],\n",
    "    [-4, 5, 2, -3],\n",
    "    [3, -3, 9, 0]\n",
    "])"
   ]
  },
  {
   "cell_type": "code",
   "execution_count": 50,
   "metadata": {},
   "outputs": [
    {
     "data": {
      "text/plain": [
       "matrix([[ 1.,  0.,  0.,  0.],\n",
       "        [ 0.,  1.,  0.,  2.],\n",
       "        [ 0.,  0.,  1., -0.],\n",
       "        [ 0.,  0.,  0.,  1.]])"
      ]
     },
     "execution_count": 50,
     "metadata": {},
     "output_type": "execute_result"
    }
   ],
   "source": [
    "np.round(B * np.linalg.inv(A))"
   ]
  },
  {
   "cell_type": "markdown",
   "metadata": {},
   "source": [
    "## 1.27"
   ]
  },
  {
   "cell_type": "markdown",
   "metadata": {
    "collapsed": true
   },
   "source": [
    "Solve the following systems of linear equations:"
   ]
  },
  {
   "cell_type": "markdown",
   "metadata": {},
   "source": [
    "### a"
   ]
  },
  {
   "cell_type": "code",
   "execution_count": 51,
   "metadata": {},
   "outputs": [
    {
     "name": "stdout",
     "output_type": "stream",
     "text": [
      "[ 1.  2.  3.]\n"
     ]
    }
   ],
   "source": [
    "A = np.array([\n",
    "    [2, 3, 1],\n",
    "    [-2, 1, 1],\n",
    "    [4, -3, 4]\n",
    "])\n",
    "B = np.array([11, 3, 10])\n",
    "print(np.linalg.solve(A, B))"
   ]
  },
  {
   "cell_type": "markdown",
   "metadata": {},
   "source": [
    "### b"
   ]
  },
  {
   "cell_type": "code",
   "execution_count": 52,
   "metadata": {},
   "outputs": [
    {
     "name": "stdout",
     "output_type": "stream",
     "text": [
      "[ 19.8  -19.52  12.8   -8.24]\n"
     ]
    }
   ],
   "source": [
    "A = np.array([\n",
    "    [2, 3, 4, 1],\n",
    "    [0, 1, 1, -3],\n",
    "    [0, 0, 4, 5],\n",
    "    [1, 0, -1, 0]\n",
    "])\n",
    "B = np.array([24, 18, 10, 7])\n",
    "print(np.linalg.solve(A, B))"
   ]
  },
  {
   "cell_type": "markdown",
   "metadata": {},
   "source": [
    "### c"
   ]
  },
  {
   "cell_type": "code",
   "execution_count": 53,
   "metadata": {},
   "outputs": [
    {
     "name": "stdout",
     "output_type": "stream",
     "text": [
      "[-1.  1.  1.]\n"
     ]
    }
   ],
   "source": [
    "A = np.array([\n",
    "    [3, 2, 1],\n",
    "    [-2, 1, -1],\n",
    "    [2, -1, 2]\n",
    "])\n",
    "B = np.array([0, 2, -1])\n",
    "print(np.linalg.solve(A, B))"
   ]
  },
  {
   "cell_type": "markdown",
   "metadata": {},
   "source": [
    "### d"
   ]
  },
  {
   "cell_type": "code",
   "execution_count": 54,
   "metadata": {},
   "outputs": [
    {
     "name": "stdout",
     "output_type": "stream",
     "text": [
      "[ 3.  1. -2.]\n"
     ]
    }
   ],
   "source": [
    "A = np.array([\n",
    "    [1, 2, -2],\n",
    "    [2, 5, 1],\n",
    "    [1, 3, 4]\n",
    "])\n",
    "B = np.array([9, 9, -2])\n",
    "print(np.linalg.solve(A, B))"
   ]
  },
  {
   "cell_type": "markdown",
   "metadata": {},
   "source": [
    "### e"
   ]
  },
  {
   "cell_type": "code",
   "execution_count": 55,
   "metadata": {},
   "outputs": [
    {
     "name": "stdout",
     "output_type": "stream",
     "text": [
      "[ 7.  8. -1.]\n"
     ]
    }
   ],
   "source": [
    "A = np.array([\n",
    "    [3, -4, 4],\n",
    "    [3, 2, 37],\n",
    "    [-4, 6, -5]\n",
    "])\n",
    "B = np.array([-15, 0, 25])\n",
    "print(np.linalg.solve(A, B))"
   ]
  },
  {
   "cell_type": "markdown",
   "metadata": {},
   "source": [
    "### f"
   ]
  },
  {
   "cell_type": "code",
   "execution_count": 56,
   "metadata": {},
   "outputs": [
    {
     "name": "stdout",
     "output_type": "stream",
     "text": [
      "[ 1.971 -4.743 -1.171]\n"
     ]
    }
   ],
   "source": [
    "A = np.array([\n",
    "    [3, 1, 1],\n",
    "    [1, 2, -3],\n",
    "    [0, -4, -6]\n",
    "])\n",
    "B = np.array([0, -4, 26])\n",
    "print(np.linalg.solve(A, B))"
   ]
  },
  {
   "cell_type": "markdown",
   "metadata": {
    "collapsed": true
   },
   "source": [
    "## 1.35"
   ]
  },
  {
   "cell_type": "markdown",
   "metadata": {},
   "source": [
    "Let A be a 8 × 8 symmetric matrix with $a_{ij} =2(0.9)^{|i −j|}$ and B be another 8 × 8 symmetric matrix with $b_{ij} =3(0.8)^{|i −j|}$. Find:"
   ]
  },
  {
   "cell_type": "code",
   "execution_count": 57,
   "metadata": {},
   "outputs": [],
   "source": [
    "A = np.array([[2 * 0.9 ** np.abs(i - j) for j in range(8)] for i in range(8)])\n",
    "B = np.array([[3 * 0.8 ** np.abs(i - j) for j in range(8)] for i in range(8)])"
   ]
  },
  {
   "cell_type": "markdown",
   "metadata": {},
   "source": [
    "### a"
   ]
  },
  {
   "cell_type": "markdown",
   "metadata": {},
   "source": [
    "$c_{ij}$, and $d_{ij}$ if $C =AB$ and $D =BA$."
   ]
  },
  {
   "cell_type": "code",
   "execution_count": 58,
   "metadata": {},
   "outputs": [
    {
     "name": "stdout",
     "output_type": "stream",
     "text": [
      "[[ 6.     4.32   3.11   2.239  1.612  1.161  0.836  0.602]\n",
      " [ 4.32   6.     4.32   3.11   2.239  1.612  1.161  0.836]\n",
      " [ 3.11   4.32   6.     4.32   3.11   2.239  1.612  1.161]\n",
      " [ 2.239  3.11   4.32   6.     4.32   3.11   2.239  1.612]\n",
      " [ 1.612  2.239  3.11   4.32   6.     4.32   3.11   2.239]\n",
      " [ 1.161  1.612  2.239  3.11   4.32   6.     4.32   3.11 ]\n",
      " [ 0.836  1.161  1.612  2.239  3.11   4.32   6.     4.32 ]\n",
      " [ 0.602  0.836  1.161  1.612  2.239  3.11   4.32   6.   ]]\n"
     ]
    }
   ],
   "source": [
    "C = A * B\n",
    "print(C)"
   ]
  },
  {
   "cell_type": "code",
   "execution_count": 59,
   "metadata": {},
   "outputs": [
    {
     "name": "stdout",
     "output_type": "stream",
     "text": [
      "[[ 6.     4.32   3.11   2.239  1.612  1.161  0.836  0.602]\n",
      " [ 4.32   6.     4.32   3.11   2.239  1.612  1.161  0.836]\n",
      " [ 3.11   4.32   6.     4.32   3.11   2.239  1.612  1.161]\n",
      " [ 2.239  3.11   4.32   6.     4.32   3.11   2.239  1.612]\n",
      " [ 1.612  2.239  3.11   4.32   6.     4.32   3.11   2.239]\n",
      " [ 1.161  1.612  2.239  3.11   4.32   6.     4.32   3.11 ]\n",
      " [ 0.836  1.161  1.612  2.239  3.11   4.32   6.     4.32 ]\n",
      " [ 0.602  0.836  1.161  1.612  2.239  3.11   4.32   6.   ]]\n"
     ]
    }
   ],
   "source": [
    "D = B * A\n",
    "print(D)"
   ]
  },
  {
   "cell_type": "markdown",
   "metadata": {},
   "source": [
    "### b"
   ]
  },
  {
   "cell_type": "markdown",
   "metadata": {},
   "source": [
    "Trace(A), Trace(B), and Trace(AB)"
   ]
  },
  {
   "cell_type": "code",
   "execution_count": 60,
   "metadata": {},
   "outputs": [
    {
     "name": "stdout",
     "output_type": "stream",
     "text": [
      "16.0\n"
     ]
    }
   ],
   "source": [
    "print(np.trace(A))"
   ]
  },
  {
   "cell_type": "code",
   "execution_count": 61,
   "metadata": {},
   "outputs": [
    {
     "name": "stdout",
     "output_type": "stream",
     "text": [
      "24.0\n"
     ]
    }
   ],
   "source": [
    "print(np.trace(B))"
   ]
  },
  {
   "cell_type": "code",
   "execution_count": 62,
   "metadata": {},
   "outputs": [
    {
     "name": "stdout",
     "output_type": "stream",
     "text": [
      "48.0\n"
     ]
    }
   ],
   "source": [
    "print(np.trace(A*B))"
   ]
  },
  {
   "cell_type": "markdown",
   "metadata": {},
   "source": [
    "## 2.1"
   ]
  },
  {
   "cell_type": "markdown",
   "metadata": {},
   "source": [
    "### a. Compute the determinate of the following matrices"
   ]
  },
  {
   "cell_type": "code",
   "execution_count": 63,
   "metadata": {},
   "outputs": [
    {
     "name": "stdout",
     "output_type": "stream",
     "text": [
      "-9.51619735393e-16\n"
     ]
    }
   ],
   "source": [
    "A = np.array([\n",
    "    [1, 2, 3],\n",
    "    [4, 5, 6],\n",
    "    [7, 8, 9]\n",
    "])\n",
    "print(np.linalg.det(A))"
   ]
  },
  {
   "cell_type": "code",
   "execution_count": 64,
   "metadata": {},
   "outputs": [
    {
     "name": "stdout",
     "output_type": "stream",
     "text": [
      "-4.0\n"
     ]
    }
   ],
   "source": [
    "B = np.array([\n",
    "    [1, 0, -1],\n",
    "    [0, 1, 2],\n",
    "    [1, 2, -1]\n",
    "])\n",
    "print(np.linalg.det(B))"
   ]
  },
  {
   "cell_type": "markdown",
   "metadata": {},
   "source": []
  },
  {
   "cell_type": "markdown",
   "metadata": {},
   "source": [
    "### b. Show that $det(AB) = det(A) det(B)$"
   ]
  },
  {
   "cell_type": "code",
   "execution_count": 78,
   "metadata": {},
   "outputs": [
    {
     "data": {
      "text/plain": [
       "False"
      ]
     },
     "execution_count": 78,
     "metadata": {},
     "output_type": "execute_result"
    }
   ],
   "source": [
    "np.linalg.det(A.dot(B)) == np.linalg.det(A) * np.linalg.det(B)"
   ]
  },
  {
   "cell_type": "code",
   "execution_count": 77,
   "metadata": {},
   "outputs": [
    {
     "data": {
      "text/plain": [
       "0.0"
      ]
     },
     "execution_count": 77,
     "metadata": {},
     "output_type": "execute_result"
    }
   ],
   "source": [
    "np.linalg.det(A.dot(B))"
   ]
  },
  {
   "cell_type": "code",
   "execution_count": 79,
   "metadata": {},
   "outputs": [
    {
     "data": {
      "text/plain": [
       "3.8064789415719762e-15"
      ]
     },
     "execution_count": 79,
     "metadata": {},
     "output_type": "execute_result"
    }
   ],
   "source": [
    "np.linalg.det(A) * np.linalg.det(B)"
   ]
  },
  {
   "cell_type": "code",
   "execution_count": 82,
   "metadata": {},
   "outputs": [
    {
     "name": "stdout",
     "output_type": "stream",
     "text": [
      "[[ 4  8  0]\n",
      " [10 17  0]\n",
      " [16 26  0]]\n"
     ]
    }
   ],
   "source": [
    "print(A.dot(B))"
   ]
  },
  {
   "cell_type": "code",
   "execution_count": null,
   "metadata": {
    "collapsed": true
   },
   "outputs": [],
   "source": []
  }
 ],
 "metadata": {
  "anaconda-cloud": {},
  "kernelspec": {
   "display_name": "Python 3",
   "language": "python",
   "name": "python3"
  },
  "language_info": {
   "codemirror_mode": {
    "name": "ipython",
    "version": 3
   },
   "file_extension": ".py",
   "mimetype": "text/x-python",
   "name": "python",
   "nbconvert_exporter": "python",
   "pygments_lexer": "ipython3",
   "version": "3.6.1"
  }
 },
 "nbformat": 4,
 "nbformat_minor": 2
}
