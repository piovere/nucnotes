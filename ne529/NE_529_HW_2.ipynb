{
 "cells": [
  {
   "cell_type": "code",
   "execution_count": 173,
   "metadata": {
    "collapsed": true
   },
   "outputs": [],
   "source": [
    "from __future__ import division\n",
    "import numpy as np\n",
    "import numpy.linalg as la\n",
    "from copy import deepcopy"
   ]
  },
  {
   "cell_type": "markdown",
   "metadata": {},
   "source": [
    "# Problem 3.3"
   ]
  },
  {
   "cell_type": "code",
   "execution_count": 180,
   "metadata": {
    "collapsed": false
   },
   "outputs": [
    {
     "name": "stdout",
     "output_type": "stream",
     "text": [
      "[[ 1.  2. -2.]\n",
      " [-1.  3.  1.]\n",
      " [-2.  1.  3.]\n",
      " [ 1. -2.  5.]]\n",
      "(4, 3)\n"
     ]
    }
   ],
   "source": [
    "x1 = np.array([1, 2, -2])\n",
    "x2 = np.array([-1, 3, 1])\n",
    "x3 = np.array([-2, 1, 3])\n",
    "x4 = np.array([1, -2, 5])\n",
    "x = np.array([x1, x2, x3, x4]).astype(np.float64)\n",
    "print(x)\n",
    "print(x.shape)"
   ]
  },
  {
   "cell_type": "code",
   "execution_count": 181,
   "metadata": {
    "collapsed": false
   },
   "outputs": [],
   "source": [
    "def gauss_jordan(y):\n",
    "    z = deepcopy(y)\n",
    "    print(z[0])\n",
    "    print(la.norm(z[0]))\n",
    "    print(z[0] / la.norm(z[0]))\n",
    "    print((z[0] / la.norm(z[0])).shape)\n",
    "    z[0, :] = z[0, :] / la.norm(z[0])\n",
    "\n",
    "    print(z)"
   ]
  },
  {
   "cell_type": "code",
   "execution_count": 182,
   "metadata": {
    "collapsed": false,
    "scrolled": true
   },
   "outputs": [
    {
     "name": "stdout",
     "output_type": "stream",
     "text": [
      "[ 1.  2. -2.]\n",
      "3.0\n",
      "[ 0.33333333  0.66666667 -0.66666667]\n",
      "(3,)\n",
      "[[ 0.33333333  0.66666667 -0.66666667]\n",
      " [-1.          3.          1.        ]\n",
      " [-2.          1.          3.        ]\n",
      " [ 1.         -2.          5.        ]]\n"
     ]
    }
   ],
   "source": [
    "gauss_jordan(x)"
   ]
  },
  {
   "cell_type": "code",
   "execution_count": 183,
   "metadata": {
    "collapsed": false
   },
   "outputs": [
    {
     "name": "stdout",
     "output_type": "stream",
     "text": [
      "[ 0.33333333  0.66666667 -0.66666667]\n"
     ]
    }
   ],
   "source": [
    "t = x[0] / la.norm(x[0])\n",
    "print(t)"
   ]
  },
  {
   "cell_type": "code",
   "execution_count": 184,
   "metadata": {
    "collapsed": false
   },
   "outputs": [
    {
     "name": "stdout",
     "output_type": "stream",
     "text": [
      "x[0, 0] = t[0]\n",
      "x[0, 0] = 0.333333333333\n",
      "x[0, 1] = t[1]\n",
      "x[0, 1] = 0.666666666667\n",
      "x[0, 2] = t[2]\n",
      "x[0, 2] = -0.666666666667\n"
     ]
    }
   ],
   "source": [
    "for i in range(len(t)):\n",
    "    print(\"x[0, {}] = t[{}]\".format(i, i))\n",
    "    print(\"x[0, {}] = {}\".format(i, t[i]))\n",
    "    x[0, i] = t[i]"
   ]
  },
  {
   "cell_type": "code",
   "execution_count": 185,
   "metadata": {
    "collapsed": false
   },
   "outputs": [
    {
     "data": {
      "text/plain": [
       "array([[ 0.33333333,  0.66666667, -0.66666667],\n",
       "       [-1.        ,  3.        ,  1.        ],\n",
       "       [-2.        ,  1.        ,  3.        ],\n",
       "       [ 1.        , -2.        ,  5.        ]])"
      ]
     },
     "execution_count": 185,
     "metadata": {},
     "output_type": "execute_result"
    }
   ],
   "source": [
    "x"
   ]
  },
  {
   "cell_type": "code",
   "execution_count": null,
   "metadata": {
    "collapsed": true
   },
   "outputs": [],
   "source": []
  }
 ],
 "metadata": {
  "anaconda-cloud": {},
  "kernelspec": {
   "display_name": "Python [conda env:nuc]",
   "language": "python",
   "name": "conda-env-nuc-py"
  },
  "language_info": {
   "codemirror_mode": {
    "name": "ipython",
    "version": 2
   },
   "file_extension": ".py",
   "mimetype": "text/x-python",
   "name": "python",
   "nbconvert_exporter": "python",
   "pygments_lexer": "ipython2",
   "version": "2.7.13"
  }
 },
 "nbformat": 4,
 "nbformat_minor": 2
}
