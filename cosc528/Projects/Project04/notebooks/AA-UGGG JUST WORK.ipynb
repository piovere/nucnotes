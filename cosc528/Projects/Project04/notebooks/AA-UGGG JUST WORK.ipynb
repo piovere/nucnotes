{
 "cells": [
  {
   "cell_type": "markdown",
   "metadata": {},
   "source": []
  },
  {
   "cell_type": "code",
   "execution_count": 1,
   "metadata": {},
   "outputs": [],
   "source": [
    "import numpy as np"
   ]
  },
  {
   "cell_type": "code",
   "execution_count": 77,
   "metadata": {},
   "outputs": [],
   "source": [
    "class Neuron():\n",
    "    def __init__(self, n_inputs):\n",
    "        self.weights = np.random.random(n_inputs+1)\n",
    "        self.out = None\n",
    "        self.error = None\n",
    "        self.delta = None\n",
    "    \n",
    "    def predict(self, x):\n",
    "        tot = self.weights[-1]\n",
    "        # multiply weights times x\n",
    "        for ix in range(len(x)):\n",
    "            tot += x[ix] * self.weights[ix]\n",
    "        # call activate on product\n",
    "        return self.activate(tot)\n",
    "    \n",
    "    def activate(self, x):\n",
    "        self.out = 1 / (1 - np.exp(-x))\n",
    "        return self.out\n",
    "    \n",
    "    def derivative(self, x):\n",
    "        return x * (1 - x)"
   ]
  },
  {
   "cell_type": "code",
   "execution_count": 78,
   "metadata": {},
   "outputs": [],
   "source": [
    "class Layer():\n",
    "    def __init__(self, n_inputs, n_neurons):\n",
    "        self.neurons = [Neuron(n_inputs) for _ in range(n_neurons)]\n",
    "        self.error = None\n",
    "        self.delta = None\n",
    "    \n",
    "    def predict(self, x):\n",
    "        res = [n.predict(x) for n in self.neurons]\n",
    "        return res\n",
    "    \n",
    "    def derivative(self, x):\n",
    "        return x * (1 - x)"
   ]
  },
  {
   "cell_type": "code",
   "execution_count": 72,
   "metadata": {},
   "outputs": [
    {
     "ename": "SyntaxError",
     "evalue": "invalid syntax (<ipython-input-72-447ff79a390a>, line 20)",
     "output_type": "error",
     "traceback": [
      "\u001b[0;36m  File \u001b[0;32m\"<ipython-input-72-447ff79a390a>\"\u001b[0;36m, line \u001b[0;32m20\u001b[0m\n\u001b[0;31m    self.output.neurons[0].delta =\u001b[0m\n\u001b[0m                                   ^\u001b[0m\n\u001b[0;31mSyntaxError\u001b[0m\u001b[0;31m:\u001b[0m invalid syntax\n"
     ]
    }
   ],
   "source": [
    "class NN():\n",
    "    def __init__(self, n_inputs, n_hidden, hidden_width, n_outputs):\n",
    "        self.input = Layer(n_inputs, hidden_width)\n",
    "        self.hiddens = [Layer(hidden_width, hidden_width) for i in range(n_hidden)]\n",
    "        self.output = Layer(hidden_width, 1)\n",
    "        self.layers = [self.input]\n",
    "        self.layers.extend(self.hiddens)\n",
    "        self.layers.extend(self.output)\n",
    "    \n",
    "    def predict(self, x):\n",
    "        tmp = self.input.predict(x)\n",
    "        print(len(tmp))\n",
    "        for h in self.hiddens:\n",
    "            tmp = h.predict(tmp)\n",
    "            print(len(tmp))\n",
    "        tmp = self.output.predict(tmp)\n",
    "        print(len(tmp))\n",
    "        return tmp\n",
    "    \n",
    "    def backprop(self, x, y):\n",
    "        yp = self.predict(x)\n",
    "\n",
    "        for il in range(len(self.layers))[::-1]:\n",
    "            if il == len(self.layers) - 1:\n",
    "                # This is the output layer\n",
    "                o = self.output\n",
    "                o.error = y - yp\n",
    "                o.delta = o.error * o.derivative(yp)\n",
    "            else:\n",
    "                # This is an input layer\n",
    "                l = self.layers[il]\n",
    "                od = self.layers[il+1].delta\n",
    "                for n in l.neurons:\n",
    "                    "
   ]
  },
  {
   "cell_type": "markdown",
   "metadata": {},
   "source": [
    "# Sample Data"
   ]
  },
  {
   "cell_type": "code",
   "execution_count": 57,
   "metadata": {},
   "outputs": [],
   "source": [
    "x = np.random.random((7, 3))\n",
    "y = np.round(np.random.random(7))"
   ]
  },
  {
   "cell_type": "markdown",
   "metadata": {},
   "source": [
    "# Testing"
   ]
  },
  {
   "cell_type": "code",
   "execution_count": 75,
   "metadata": {},
   "outputs": [],
   "source": [
    "a = []\n",
    "a.extend([4])"
   ]
  },
  {
   "cell_type": "code",
   "execution_count": 76,
   "metadata": {},
   "outputs": [
    {
     "data": {
      "text/plain": [
       "[4]"
      ]
     },
     "execution_count": 76,
     "metadata": {},
     "output_type": "execute_result"
    }
   ],
   "source": [
    "a"
   ]
  },
  {
   "cell_type": "code",
   "execution_count": null,
   "metadata": {},
   "outputs": [],
   "source": []
  }
 ],
 "metadata": {
  "kernelspec": {
   "display_name": "Python [conda env:cs528]",
   "language": "python",
   "name": "conda-env-cs528-py"
  },
  "language_info": {
   "codemirror_mode": {
    "name": "ipython",
    "version": 3
   },
   "file_extension": ".py",
   "mimetype": "text/x-python",
   "name": "python",
   "nbconvert_exporter": "python",
   "pygments_lexer": "ipython3",
   "version": "3.6.6"
  }
 },
 "nbformat": 4,
 "nbformat_minor": 2
}
