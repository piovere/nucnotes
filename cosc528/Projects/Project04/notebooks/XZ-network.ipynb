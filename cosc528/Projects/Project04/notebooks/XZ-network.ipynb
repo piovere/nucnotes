{
 "cells": [
  {
   "cell_type": "code",
   "execution_count": 1,
   "metadata": {},
   "outputs": [],
   "source": [
    "import numpy as np"
   ]
  },
  {
   "cell_type": "code",
   "execution_count": 2,
   "metadata": {},
   "outputs": [],
   "source": [
    "class Layer():\n",
    "    def __init__(self, inputs, outputs, activation='sigmoid'):\n",
    "        self.inputs = inputs\n",
    "        self.outputs = outputs\n",
    "        self.weights = np.random.random((inputs, outputs))\n",
    "        self.activation = activation\n",
    "        self.out = None\n",
    "        self.error = None\n",
    "        self.delta = None\n",
    "    \n",
    "    def transfer(self, x):\n",
    "        self.out = self.sigmoid(x @ self.weights)\n",
    "        return self.out\n",
    "    \n",
    "    def sigmoid(self, x):\n",
    "        return 1 / (1 - np.exp(-x))\n",
    "\n",
    "    def derivative(self, x):\n",
    "        return x * (1 - x)\n",
    "    \n",
    "    def backprop(self, delta):\n",
    "        self.error = delta @ self.weights.T\n",
    "        \n",
    "        return self.error"
   ]
  },
  {
   "cell_type": "code",
   "execution_count": 3,
   "metadata": {},
   "outputs": [],
   "source": [
    "class OutputLayer(Layer):\n",
    "    def __init__(self, hidden_width):\n",
    "        super().__init__(hidden_width, 1)\n",
    "\n",
    "    def backprop(self, yp):\n",
    "        error = yp - self.out\n",
    "        self.error = error"
   ]
  },
  {
   "cell_type": "code",
   "execution_count": 6,
   "metadata": {},
   "outputs": [],
   "source": [
    "x = np.random.random((7, 3))\n",
    "y = np.round(np.random.random((7, 1)))"
   ]
  },
  {
   "cell_type": "code",
   "execution_count": null,
   "metadata": {},
   "outputs": [],
   "source": [
    "def backward_propagate_error(network, expected):\n",
    "\tfor i in reversed(range(len(network))):\n",
    "\t\tlayer = network[i]\n",
    "\t\terrors = list()\n",
    "\t\tif i != len(network)-1:\n",
    "\t\t\tfor j in range(len(layer)):\n",
    "\t\t\t\terror = 0.0\n",
    "\t\t\t\tfor neuron in network[i + 1]:\n",
    "\t\t\t\t\terror += (neuron['weights'][j] * neuron['delta'])\n",
    "\t\t\t\terrors.append(error)\n",
    "\t\telse:\n",
    "\t\t\tfor j in range(len(layer)):\n",
    "\t\t\t\tneuron = layer[j]\n",
    "\t\t\t\terrors.append(expected[j] - neuron['output'])\n",
    "\t\tfor j in range(len(layer)):\n",
    "\t\t\tneuron = layer[j]\n",
    "\t\t\tneuron['delta'] = errors[j] * transfer_derivative(neuron['output'])"
   ]
  }
 ],
 "metadata": {
  "kernelspec": {
   "display_name": "Python [conda env:cs528]",
   "language": "python",
   "name": "conda-env-cs528-py"
  },
  "language_info": {
   "codemirror_mode": {
    "name": "ipython",
    "version": 3
   },
   "file_extension": ".py",
   "mimetype": "text/x-python",
   "name": "python",
   "nbconvert_exporter": "python",
   "pygments_lexer": "ipython3",
   "version": "3.6.6"
  }
 },
 "nbformat": 4,
 "nbformat_minor": 2
}
