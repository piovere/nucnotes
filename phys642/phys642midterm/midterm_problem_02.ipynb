{
 "cells": [
  {
   "cell_type": "markdown",
   "metadata": {},
   "source": [
    "480.14nm"
   ]
  },
  {
   "cell_type": "markdown",
   "metadata": {},
   "source": [
    "![480.14](480-setting.png)"
   ]
  },
  {
   "cell_type": "markdown",
   "metadata": {},
   "source": [
    "A line drawn from the 500 pixel position has a brightest point at around pixel 920"
   ]
  },
  {
   "cell_type": "markdown",
   "metadata": {},
   "source": [
    "490.14nm"
   ]
  },
  {
   "cell_type": "markdown",
   "metadata": {},
   "source": [
    "![image2](490-setting.png)"
   ]
  },
  {
   "cell_type": "markdown",
   "metadata": {},
   "source": [
    "A line drawn from the 500 pixel position on the vertical axis has a peak at approximately pixel 492"
   ]
  },
  {
   "cell_type": "markdown",
   "metadata": {},
   "source": [
    "500.14nm"
   ]
  },
  {
   "cell_type": "markdown",
   "metadata": {},
   "source": [
    "![image1](500-setting.png)"
   ]
  },
  {
   "cell_type": "markdown",
   "metadata": {},
   "source": [
    "This line has a peak along the 500-pixel (vertical scale) at approximately 60"
   ]
  },
  {
   "cell_type": "markdown",
   "metadata": {},
   "source": [
    "The points are therefore (60, 500.14), (492, 490.14), and (920, 480.14)"
   ]
  },
  {
   "cell_type": "code",
   "execution_count": 3,
   "metadata": {},
   "outputs": [],
   "source": [
    "import numpy as np"
   ]
  },
  {
   "cell_type": "code",
   "execution_count": 4,
   "metadata": {},
   "outputs": [],
   "source": [
    "pixels = np.array([60, 492, 920])\n",
    "wavelengths = np.array([500.14, 490.14, 480.14])"
   ]
  },
  {
   "cell_type": "code",
   "execution_count": 22,
   "metadata": {},
   "outputs": [
    {
     "name": "stdout",
     "output_type": "stream",
     "text": [
      "[[-2.32556463e-02]\n",
      " [ 5.01550770e+02]]\n"
     ]
    }
   ],
   "source": [
    "x = np.vstack([np.atleast_2d(pixels), np.ones_like(pixels)]).T\n",
    "y = np.atleast_2d(wavelengths).T\n",
    "a = np.linalg.inv(x.T @ x) @ x.T @ y\n",
    "print(a)"
   ]
  },
  {
   "cell_type": "markdown",
   "metadata": {},
   "source": [
    "Based on the scale of the images, assume that the error in pixel number is $\\pm 25$. This gives an error of"
   ]
  },
  {
   "cell_type": "code",
   "execution_count": 28,
   "metadata": {},
   "outputs": [],
   "source": [
    "s = (np.sum((y - x.dot(a))**2) / 1)**0.5"
   ]
  },
  {
   "cell_type": "markdown",
   "metadata": {},
   "source": [
    "The error in the slope is"
   ]
  },
  {
   "cell_type": "code",
   "execution_count": 33,
   "metadata": {},
   "outputs": [
    {
     "data": {
      "text/plain": [
       "6.244955174532996e-05"
      ]
     },
     "execution_count": 33,
     "metadata": {},
     "output_type": "execute_result"
    }
   ],
   "source": [
    "s * np.sqrt(3 / (3 * np.sum(pixels**2) - np.sum(pixels)**2))"
   ]
  },
  {
   "cell_type": "markdown",
   "metadata": {},
   "source": [
    "and the error in the intercept"
   ]
  },
  {
   "cell_type": "code",
   "execution_count": 34,
   "metadata": {},
   "outputs": [
    {
     "data": {
      "text/plain": [
       "0.037678425254528226"
      ]
     },
     "execution_count": 34,
     "metadata": {},
     "output_type": "execute_result"
    }
   ],
   "source": [
    "s * np.sqrt((np.sum(pixels**2)) / (3 * np.sum(pixels**2) - np.sum(pixels)**2))"
   ]
  },
  {
   "cell_type": "markdown",
   "metadata": {},
   "source": [
    "The scale for these plots is therefore $0.0232 \\pm 6.24 \\times 10^{-5}$ nm per pixel"
   ]
  },
  {
   "cell_type": "code",
   "execution_count": null,
   "metadata": {},
   "outputs": [],
   "source": []
  }
 ],
 "metadata": {
  "kernelspec": {
   "display_name": "Python [conda env:nuc]",
   "language": "python",
   "name": "conda-env-nuc-py"
  },
  "language_info": {
   "codemirror_mode": {
    "name": "ipython",
    "version": 3
   },
   "file_extension": ".py",
   "mimetype": "text/x-python",
   "name": "python",
   "nbconvert_exporter": "python",
   "pygments_lexer": "ipython3",
   "version": "3.6.8"
  }
 },
 "nbformat": 4,
 "nbformat_minor": 2
}
