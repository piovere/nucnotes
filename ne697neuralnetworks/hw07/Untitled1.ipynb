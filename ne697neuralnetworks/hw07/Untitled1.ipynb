{
 "cells": [
  {
   "cell_type": "code",
   "execution_count": 1,
   "metadata": {
    "collapsed": true
   },
   "outputs": [],
   "source": [
    "%matplotlib inline\n",
    "import numpy as np\n",
    "import matplotlib.pyplot as plt\n",
    "import scipy.io as sio\n",
    "from sklearn import linear_model\n",
    "from sklearn.preprocessing import StandardScaler\n",
    "from sklearn.metrics import mean_squared_error\n",
    "from scipy.optimize import minimize"
   ]
  },
  {
   "cell_type": "markdown",
   "metadata": {},
   "source": [
    "# First load the data"
   ]
  },
  {
   "cell_type": "code",
   "execution_count": 2,
   "metadata": {
    "collapsed": true
   },
   "outputs": [],
   "source": [
    "# scipy.io, here loaded as 'sio' is a function to load data from a matlab file\n",
    "data = sio.loadmat('sim.mat')"
   ]
  },
  {
   "cell_type": "code",
   "execution_count": 3,
   "metadata": {
    "collapsed": false
   },
   "outputs": [],
   "source": [
    "d = data['Data']"
   ]
  },
  {
   "cell_type": "markdown",
   "metadata": {},
   "source": [
    "## Split the data into test, train, and validation sets"
   ]
  },
  {
   "cell_type": "code",
   "execution_count": 4,
   "metadata": {
    "collapsed": true
   },
   "outputs": [],
   "source": [
    "train = np.concatenate((d[0:500], d[1500:2000], d[3000:3500], d[4500:]))"
   ]
  },
  {
   "cell_type": "code",
   "execution_count": 5,
   "metadata": {
    "collapsed": true
   },
   "outputs": [],
   "source": [
    "test = np.concatenate((d[500:1000], d[2000:2500], d[3500:4000]))"
   ]
  },
  {
   "cell_type": "code",
   "execution_count": 6,
   "metadata": {
    "collapsed": true
   },
   "outputs": [],
   "source": [
    "val = np.concatenate((d[1000:1500], d[2500:3000], d[4000:4500]))"
   ]
  },
  {
   "cell_type": "code",
   "execution_count": 7,
   "metadata": {
    "collapsed": true
   },
   "outputs": [],
   "source": [
    "x_train = np.delete(train, 34, axis=1)\n",
    "y_train = train[:, 34]"
   ]
  },
  {
   "cell_type": "code",
   "execution_count": 8,
   "metadata": {
    "collapsed": true
   },
   "outputs": [],
   "source": [
    "x_test = np.delete(test, 34, axis=1)\n",
    "y_test = test[:, 34]"
   ]
  },
  {
   "cell_type": "code",
   "execution_count": 9,
   "metadata": {
    "collapsed": true
   },
   "outputs": [],
   "source": [
    "x_val = np.delete(val, 34, axis=1)\n",
    "y_val  = val[:, 34]"
   ]
  },
  {
   "cell_type": "markdown",
   "metadata": {},
   "source": [
    "## Use `scikit-learn`'s normalization"
   ]
  },
  {
   "cell_type": "code",
   "execution_count": 10,
   "metadata": {
    "collapsed": true
   },
   "outputs": [],
   "source": [
    "x_scaler = StandardScaler()\n",
    "y_scaler = StandardScaler()"
   ]
  },
  {
   "cell_type": "code",
   "execution_count": 11,
   "metadata": {
    "collapsed": false
   },
   "outputs": [],
   "source": [
    "X_train = x_scaler.fit_transform(x_train)\n",
    "Y_train = y_scaler.fit_transform(y_train.reshape(-1, 1))"
   ]
  },
  {
   "cell_type": "markdown",
   "metadata": {},
   "source": [
    "# Traditional (single regularization) Ridge Regression"
   ]
  },
  {
   "cell_type": "code",
   "execution_count": 12,
   "metadata": {
    "collapsed": true
   },
   "outputs": [],
   "source": [
    "simple_ridge = linear_model.Ridge(alpha=10.0)"
   ]
  },
  {
   "cell_type": "code",
   "execution_count": 13,
   "metadata": {
    "collapsed": false
   },
   "outputs": [
    {
     "data": {
      "text/plain": [
       "Ridge(alpha=10.0, copy_X=True, fit_intercept=True, max_iter=None,\n",
       "   normalize=False, random_state=None, solver='auto', tol=0.001)"
      ]
     },
     "execution_count": 13,
     "metadata": {},
     "output_type": "execute_result"
    }
   ],
   "source": [
    "simple_ridge.fit(X_train, Y_train)"
   ]
  },
  {
   "cell_type": "markdown",
   "metadata": {},
   "source": [
    "## Check the error"
   ]
  },
  {
   "cell_type": "code",
   "execution_count": 14,
   "metadata": {
    "collapsed": false
   },
   "outputs": [],
   "source": [
    "X_test = x_scaler.transform(x_test)"
   ]
  },
  {
   "cell_type": "code",
   "execution_count": 15,
   "metadata": {
    "collapsed": false
   },
   "outputs": [
    {
     "data": {
      "text/plain": [
       "0.66194072929083281"
      ]
     },
     "execution_count": 15,
     "metadata": {},
     "output_type": "execute_result"
    }
   ],
   "source": [
    "mean_squared_error(y_val, y_scaler.inverse_transform(simple_ridge.predict(X_test)))"
   ]
  },
  {
   "cell_type": "markdown",
   "metadata": {},
   "source": [
    "## Concept proven; now calculate MSE for a variety of $\\alpha^2$ values"
   ]
  },
  {
   "cell_type": "markdown",
   "metadata": {},
   "source": [
    "To determine the range of values to check for alpha we find the singular values"
   ]
  },
  {
   "cell_type": "code",
   "execution_count": 16,
   "metadata": {
    "collapsed": false
   },
   "outputs": [
    {
     "name": "stdout",
     "output_type": "stream",
     "text": [
      "[2.8860179913035178, 164.24424930494501]\n"
     ]
    }
   ],
   "source": [
    "U, s, Vh = np.linalg.svd(X_train)\n",
    "alpha_min = min(s)\n",
    "alpha_max = max(s)\n",
    "\n",
    "print([alpha_min, alpha_max])"
   ]
  },
  {
   "cell_type": "code",
   "execution_count": 17,
   "metadata": {
    "collapsed": true
   },
   "outputs": [],
   "source": [
    "# ~Equivalent to Matlab 0:0.1:20\n",
    "alphas = np.linspace(alpha_min, alpha_max, 1000)"
   ]
  },
  {
   "cell_type": "code",
   "execution_count": 18,
   "metadata": {
    "collapsed": true
   },
   "outputs": [],
   "source": [
    "mse = []\n",
    "b_mag = []\n",
    "for a in alphas:\n",
    "    mdl = linear_model.Ridge(alpha=a)\n",
    "    mdl.fit(X_train, Y_train)\n",
    "    m = mean_squared_error(y_test, y_scaler.inverse_transform(mdl.predict(X_test)))\n",
    "    mse.append(m)\n",
    "    b = np.linalg.norm(mdl.coef_)\n",
    "    b_mag.append(b)"
   ]
  },
  {
   "cell_type": "code",
   "execution_count": 19,
   "metadata": {
    "collapsed": false
   },
   "outputs": [
    {
     "data": {
      "image/png": "[encoded data removed]",
      "text/plain": [
       "<matplotlib.figure.Figure at 0x1f2dadacc88>"
      ]
     },
     "metadata": {},
     "output_type": "display_data"
    }
   ],
   "source": [
    "plt.plot(alphas, np.array(mse), label='Test set')\n",
    "plt.title(r'Performance vs. regularization parameter')\n",
    "plt.xlabel(r'$\\alpha$')\n",
    "plt.ylabel(r'Test set MSE')\n",
    "plt.legend(loc='upper left')\n",
    "plt.savefig('images/simple_alpha_full.png', dpi=300)\n",
    "plt.show()"
   ]
  },
  {
   "cell_type": "code",
   "execution_count": 20,
   "metadata": {
    "collapsed": false
   },
   "outputs": [
    {
     "data": {
      "image/png": "[encoded data removed]",
      "text/plain": [
       "<matplotlib.figure.Figure at 0x1f2dadaca90>"
      ]
     },
     "metadata": {},
     "output_type": "display_data"
    }
   ],
   "source": [
    "plt.plot(alphas, np.array(b_mag))\n",
    "plt.title(r'Size of coefficents vs. $\\alpha$')\n",
    "plt.xlabel(r'$\\alpha$')\n",
    "plt.ylabel('Coefficient vector magnitude')\n",
    "plt.savefig('images/simple_coeff_mag.png', dpi=300)\n",
    "plt.show()"
   ]
  },
  {
   "cell_type": "markdown",
   "metadata": {},
   "source": [
    "Here the best value for $\\alpha$ appears to be between 20 and 30"
   ]
  },
  {
   "cell_type": "code",
   "execution_count": 21,
   "metadata": {
    "collapsed": true
   },
   "outputs": [],
   "source": [
    "alphas2 = np.linspace(20, 30, 1000)\n",
    "mse2 = []\n",
    "for a in alphas2:\n",
    "    mdl = linear_model.Ridge(alpha=a)\n",
    "    mdl.fit(X_train, Y_train)\n",
    "    m = mean_squared_error(y_test, y_scaler.inverse_transform(mdl.predict(x_scaler.transform(x_test))))\n",
    "    mse2.append(m)"
   ]
  },
  {
   "cell_type": "code",
   "execution_count": 22,
   "metadata": {
    "collapsed": false
   },
   "outputs": [
    {
     "data": {
      "image/png": "[encoded data removed]",
      "text/plain": [
       "<matplotlib.figure.Figure at 0x1f2df3eaef0>"
      ]
     },
     "metadata": {},
     "output_type": "display_data"
    }
   ],
   "source": [
    "plt.plot(alphas2, np.array(mse2), label='Test set')\n",
    "plt.title(r'Test set performance vs. regularization parameter')\n",
    "plt.xlabel(r'$\\alpha$')\n",
    "plt.ylabel(r'Test set MSE')\n",
    "plt.savefig('images/simple_alpha.png', dpi=300)\n",
    "plt.show()"
   ]
  },
  {
   "cell_type": "code",
   "execution_count": 23,
   "metadata": {
    "collapsed": true
   },
   "outputs": [],
   "source": [
    "alphas3 = np.linspace(20, 30, 1000)\n",
    "mse3 = []\n",
    "for a in alphas3:\n",
    "    mdl = linear_model.Ridge(alpha=a)\n",
    "    mdl.fit(X_train, Y_train)\n",
    "    m = mean_squared_error(y_val, y_scaler.inverse_transform(mdl.predict(x_scaler.transform(x_val))))\n",
    "    mse3.append(m)"
   ]
  },
  {
   "cell_type": "code",
   "execution_count": 24,
   "metadata": {
    "collapsed": false
   },
   "outputs": [
    {
     "data": {
      "image/png": "[encoded data removed]",
      "text/plain": [
       "<matplotlib.figure.Figure at 0x1f2deb94860>"
      ]
     },
     "metadata": {},
     "output_type": "display_data"
    }
   ],
   "source": [
    "plt.plot(alphas2, np.array(mse3), label='Test set')\n",
    "plt.title(r'Validation set performance vs. regularization parameter')\n",
    "plt.xlabel(r'$\\alpha$')\n",
    "plt.ylabel(r'Validation set MSE')\n",
    "plt.savefig('images/simple_alpha_val.png', dpi=300)\n",
    "plt.show()"
   ]
  },
  {
   "cell_type": "markdown",
   "metadata": {},
   "source": [
    "## We can also use the `RidgeCV` estimator to optimize $\\alpha$"
   ]
  },
  {
   "cell_type": "markdown",
   "metadata": {},
   "source": [
    "This implements \"Leave One Out Cross Validation\""
   ]
  },
  {
   "cell_type": "code",
   "execution_count": 25,
   "metadata": {
    "collapsed": false
   },
   "outputs": [],
   "source": [
    "simple_ridge2 = linear_model.RidgeCV(alphas=np.linspace(20, 30, 1000))"
   ]
  },
  {
   "cell_type": "code",
   "execution_count": 26,
   "metadata": {
    "collapsed": false
   },
   "outputs": [
    {
     "data": {
      "text/plain": [
       "RidgeCV(alphas=array([ 20.     ,  20.01001, ...,  29.98999,  30.     ]),\n",
       "    cv=None, fit_intercept=True, gcv_mode=None, normalize=False,\n",
       "    scoring=None, store_cv_values=False)"
      ]
     },
     "execution_count": 26,
     "metadata": {},
     "output_type": "execute_result"
    }
   ],
   "source": [
    "simple_ridge2.fit(X_train, Y_train)"
   ]
  },
  {
   "cell_type": "code",
   "execution_count": 27,
   "metadata": {
    "collapsed": false
   },
   "outputs": [
    {
     "data": {
      "text/plain": [
       "20.860860860860861"
      ]
     },
     "execution_count": 27,
     "metadata": {},
     "output_type": "execute_result"
    }
   ],
   "source": [
    "simple_ridge2.alpha_"
   ]
  },
  {
   "cell_type": "markdown",
   "metadata": {},
   "source": [
    "Here we see that the data in the training set is slightly different from that in the test set. Leave one out cross validation optimizes alpha based on values in the training set, explaining the difference in the values from each method."
   ]
  },
  {
   "cell_type": "markdown",
   "metadata": {},
   "source": [
    "# Now we implement the local ridge regression method"
   ]
  },
  {
   "cell_type": "code",
   "execution_count": 28,
   "metadata": {
    "collapsed": false
   },
   "outputs": [
    {
     "data": {
      "text/plain": [
       "102.94187511494458"
      ]
     },
     "execution_count": 28,
     "metadata": {},
     "output_type": "execute_result"
    }
   ],
   "source": [
    "np.linalg.cond(x_train)"
   ]
  },
  {
   "cell_type": "code",
   "execution_count": 29,
   "metadata": {
    "collapsed": false
   },
   "outputs": [
    {
     "data": {
      "text/plain": [
       "56.910334516231281"
      ]
     },
     "execution_count": 29,
     "metadata": {},
     "output_type": "execute_result"
    }
   ],
   "source": [
    "np.linalg.cond(X_train)"
   ]
  },
  {
   "cell_type": "markdown",
   "metadata": {},
   "source": [
    "## Set up our objective function"
   ]
  },
  {
   "cell_type": "code",
   "execution_count": 35,
   "metadata": {
    "collapsed": true
   },
   "outputs": [],
   "source": [
    "def b(x, y, alpha):\n",
    "    x = np.matrix(x)\n",
    "    # U, v, Vh = np.linalg.svd(x)\n",
    "    # Vht = np.matrix.transpose(Vh)\n",
    "    xt = np.matrix.transpose(x)\n",
    "    #tmp = np.dot(xt, x) + np.dot(np.dot(Vht, alpha ** 2), Vh)\n",
    "    tmp = (xt * x) + np.diag(alpha **2)\n",
    "    tmp = np.linalg.inv(tmp)\n",
    "    tmp = tmp * xt\n",
    "    return np.dot(tmp, y)"
   ]
  },
  {
   "cell_type": "code",
   "execution_count": 36,
   "metadata": {
    "collapsed": true
   },
   "outputs": [],
   "source": [
    "obj = lambda alpha: mean_squared_error(y_test, y_scaler.inverse_transform(np.dot(X_test, b(X_train, Y_train, alpha))))"
   ]
  },
  {
   "cell_type": "code",
   "execution_count": 42,
   "metadata": {
    "collapsed": false
   },
   "outputs": [
    {
     "data": {
      "text/plain": [
       "     njev: 100\n",
       "        x: array([ 23.23160907,  17.897713  ,  23.89812134,  22.76287245,\n",
       "        17.36462333,  18.22188206,  13.28934158,  23.7402606 ,\n",
       "        22.38936214,  20.34866095,  30.95464722,  17.41164365,\n",
       "        19.17034614,   9.94452453,  21.31234708,  19.870761  ,\n",
       "        18.73570753,  18.75712876,  19.84798988,  92.69333931,\n",
       "        20.04928966,  14.93198627,  18.05289235,  17.32447379,\n",
       "        21.8875054 ,  17.97907707,  60.75513588,  16.63701842,\n",
       "        20.15318714,  37.11147519,  27.87843877,  29.12944175,\n",
       "        19.80039616,   4.92543678,   5.75832066,  -0.56210281,\n",
       "        -6.36332323,   4.74830654,   6.672874  ,  21.24187756,\n",
       "        42.80555694,  20.46541857,  34.99293024])\n",
       "  success: True\n",
       "   status: 0\n",
       "  message: 'Optimization terminated successfully.'\n",
       " hess_inv: array([[  6.33185057e+03,  -4.83765182e+03,   8.93688237e+03, ...,\n",
       "          5.23809896e+04,   1.06972805e+03,   3.44535247e+04],\n",
       "       [ -4.83765182e+03,   3.70544096e+03,  -6.84285050e+03, ...,\n",
       "         -4.01078844e+04,  -8.19069679e+02,  -2.63811125e+04],\n",
       "       [  8.93688237e+03,  -6.84285050e+03,   1.26413848e+04, ...,\n",
       "          7.40888979e+04,   1.51302815e+03,   4.87322683e+04],\n",
       "       ..., \n",
       "       [  5.23809896e+04,  -4.01078844e+04,   7.40888979e+04, ...,\n",
       "          4.34257319e+05,   8.86828676e+03,   2.85633808e+05],\n",
       "       [  1.06972805e+03,  -8.19069679e+02,   1.51302815e+03, ...,\n",
       "          8.86828676e+03,   1.82108963e+02,   5.83315570e+03],\n",
       "       [  3.44535247e+04,  -2.63811125e+04,   4.87322683e+04, ...,\n",
       "          2.85633808e+05,   5.83315570e+03,   1.87877790e+05]])\n",
       "      nit: 84\n",
       "      jac: array([ -1.62515789e-07,  -6.06290996e-07,  -4.98257577e-07,\n",
       "        -3.59024853e-07,  -9.12696123e-08,   4.69386578e-07,\n",
       "         7.27362931e-07,  -1.00070611e-06,  -7.89295882e-07,\n",
       "         6.05359674e-08,  -7.48783350e-07,   6.61239028e-07,\n",
       "         3.21306288e-08,   1.07148662e-06,  -7.45058060e-07,\n",
       "        -2.65426934e-07,   4.00934368e-07,   3.81842256e-08,\n",
       "        -1.34576112e-07,  -4.07453626e-07,  -6.13275915e-07,\n",
       "         2.46334821e-07,   1.50874257e-07,   5.35044819e-07,\n",
       "        -4.63332981e-07,   5.63450158e-07,  -5.26197255e-07,\n",
       "         2.74740160e-08,  -1.65309757e-07,  -1.13807619e-06,\n",
       "        -9.52277333e-07,  -8.21892172e-07,   6.75208867e-08,\n",
       "         3.88780609e-06,  -8.40518624e-07,   7.08270818e-07,\n",
       "        -7.91344792e-06,  -5.44870272e-06,   5.63496724e-06,\n",
       "        -2.51457095e-07,  -2.28080899e-06,  -1.81607902e-07,\n",
       "        -2.17230991e-06])\n",
       "     nfev: 4500\n",
       "      fun: 0.05114219513229678"
      ]
     },
     "execution_count": 42,
     "metadata": {},
     "output_type": "execute_result"
    }
   ],
   "source": [
    "m = minimize(obj, 20*np.ones(43))\n",
    "m"
   ]
  },
  {
   "cell_type": "code",
   "execution_count": 44,
   "metadata": {
    "collapsed": false
   },
   "outputs": [],
   "source": [
    "alphas = m['x']"
   ]
  },
  {
   "cell_type": "code",
   "execution_count": 46,
   "metadata": {
    "collapsed": false
   },
   "outputs": [],
   "source": [
    "U, s, Vh = np.linalg.svd(X_train)"
   ]
  },
  {
   "cell_type": "code",
   "execution_count": 47,
   "metadata": {
    "collapsed": false
   },
   "outputs": [
    {
     "data": {
      "text/plain": [
       "array([ 164.2442493 ,  137.29800066,  126.85019067,   58.97905152,\n",
       "         45.95617991,   45.03351988,   44.68661469,   43.78270031,\n",
       "         43.23815105,   27.02323948,   26.90414794,   26.83840529,\n",
       "         26.59507472,   26.16347542,   25.62656102,   25.34468711,\n",
       "         25.03222822,   24.68300608,   22.94586409,   22.60581013,\n",
       "         22.18175037,   21.96610867,   21.59074253,   21.22600153,\n",
       "         17.22270585,   17.01459175,   16.66993103,   16.34007346,\n",
       "         16.18104629,    8.17767972,    5.85606593,    5.74134765,\n",
       "          5.67198106,    3.1969942 ,    3.12770864,    3.07583982,\n",
       "          3.06341271,    3.04127153,    2.99011847,    2.96735505,\n",
       "          2.92779813,    2.90443467,    2.88601799])"
      ]
     },
     "execution_count": 47,
     "metadata": {},
     "output_type": "execute_result"
    }
   ],
   "source": [
    "s"
   ]
  },
  {
   "cell_type": "code",
   "execution_count": 48,
   "metadata": {
    "collapsed": false
   },
   "outputs": [
    {
     "data": {
      "text/plain": [
       "array([ 0.87608213,  0.8846765 ,  0.84147006,  0.72152757,  0.72576748,\n",
       "        0.71193161,  0.7707784 ,  0.64841203,  0.65884183,  0.57044871,\n",
       "        0.46499668,  0.60651696,  0.58111723,  0.72458944,  0.54595563,\n",
       "        0.56053159,  0.57193075,  0.5682074 ,  0.53619532,  0.19606225,\n",
       "        0.52524755,  0.59531823,  0.54462066,  0.55060285,  0.44036341,\n",
       "        0.48621915,  0.21530406,  0.49549771,  0.44533887,  0.18056596,\n",
       "        0.17359276,  0.16464633,  0.22267184,  0.39360066,  0.35198046,\n",
       "        1.22361242, -0.92833206,  0.39042828,  0.30944022,  0.12257121,\n",
       "        0.06401888,  0.12428125,  0.07619055])"
      ]
     },
     "execution_count": 48,
     "metadata": {},
     "output_type": "execute_result"
    }
   ],
   "source": [
    "ff = s / (s + alphas)\n",
    "ff"
   ]
  },
  {
   "cell_type": "code",
   "execution_count": 49,
   "metadata": {
    "collapsed": false
   },
   "outputs": [
    {
     "data": {
      "image/png": "[encoded data removed]",
      "text/plain": [
       "<matplotlib.figure.Figure at 0x1f2df4e4e80>"
      ]
     },
     "metadata": {},
     "output_type": "display_data"
    }
   ],
   "source": [
    "plt.plot(ff)\n",
    "plt.show()"
   ]
  },
  {
   "cell_type": "code",
   "execution_count": 50,
   "metadata": {
    "collapsed": false
   },
   "outputs": [
    {
     "data": {
      "text/plain": [
       "0.051142195132296779"
      ]
     },
     "execution_count": 50,
     "metadata": {},
     "output_type": "execute_result"
    }
   ],
   "source": [
    "obj(alphas)"
   ]
  },
  {
   "cell_type": "code",
   "execution_count": null,
   "metadata": {
    "collapsed": true
   },
   "outputs": [],
   "source": []
  }
 ],
 "metadata": {
  "anaconda-cloud": {},
  "kernelspec": {
   "display_name": "Python [default]",
   "language": "python",
   "name": "python3"
  },
  "language_info": {
   "codemirror_mode": {
    "name": "ipython",
    "version": 3
   },
   "file_extension": ".py",
   "mimetype": "text/x-python",
   "name": "python",
   "nbconvert_exporter": "python",
   "pygments_lexer": "ipython3",
   "version": "3.5.2"
  }
 },
 "nbformat": 4,
 "nbformat_minor": 1
}
