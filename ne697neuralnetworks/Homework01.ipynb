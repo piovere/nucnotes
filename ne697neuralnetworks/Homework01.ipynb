{
 "cells": [
  {
   "cell_type": "markdown",
   "metadata": {},
   "source": [
    "# Homework Number 01"
   ]
  },
  {
   "cell_type": "code",
   "execution_count": 1,
   "metadata": {
    "collapsed": true
   },
   "outputs": [],
   "source": [
    "import numpy as np"
   ]
  },
  {
   "cell_type": "code",
   "execution_count": 16,
   "metadata": {
    "collapsed": true
   },
   "outputs": [],
   "source": [
    "test_mat = np.array([\n",
    "    [1., 2., 3.],\n",
    "    [4, 5, 6],\n",
    "    [7, 8, 9],\n",
    "    [11, 0, 19],\n",
    "    [2, 9, 0]\n",
    "])"
   ]
  },
  {
   "cell_type": "code",
   "execution_count": 23,
   "metadata": {
    "collapsed": false
   },
   "outputs": [
    {
     "name": "stdout",
     "output_type": "stream",
     "text": [
      "[[  1.   2.   3.]\n",
      " [  4.   5.   6.]\n",
      " [  7.   8.   9.]\n",
      " [ 11.   0.  19.]\n",
      " [  2.   9.   0.]]\n"
     ]
    }
   ],
   "source": [
    "print(test_mat)"
   ]
  },
  {
   "cell_type": "code",
   "execution_count": 33,
   "metadata": {
    "collapsed": true
   },
   "outputs": [],
   "source": [
    "np.set_printoptions(precision=4)"
   ]
  },
  {
   "cell_type": "code",
   "execution_count": 34,
   "metadata": {
    "collapsed": false
   },
   "outputs": [
    {
     "name": "stdout",
     "output_type": "stream",
     "text": [
      "std: [ 4.062   3.8341  7.3007]\n",
      "mean: [ 5.   4.8  7.4]\n"
     ]
    }
   ],
   "source": [
    "print('std: {}'.format(np.array([np.std(test_mat[:,i], ddof=1) for i in range(test_mat.shape[1])])))\n",
    "print('mean: {}'.format(np.array([np.mean(test_mat[:,i]) for i in range(test_mat.shape[1])])))"
   ]
  },
  {
   "cell_type": "markdown",
   "metadata": {},
   "source": [
    "## A. Write a \"function\" m-file called `zscore1` that scales a data matrix so that each column has a unit variance and zero mean and returns the scaling parameters: mean, and standard deviation"
   ]
  },
  {
   "cell_type": "code",
   "execution_count": 35,
   "metadata": {
    "collapsed": true
   },
   "outputs": [],
   "source": [
    "def zscore1(mat):\n",
    "    stds = []\n",
    "    means = []\n",
    "    \n",
    "    for i in range(mat.shape[1]):\n",
    "        v = mat[:,i]\n",
    "        s = np.std(v, ddof=1)\n",
    "        m = np.mean(v)\n",
    "        \n",
    "        stds.append(s)\n",
    "        means.append(m)\n",
    "        \n",
    "        v = (v - m) / s\n",
    "        \n",
    "        mat[:,i] = v\n",
    "    \n",
    "    return(mat, stds, means)"
   ]
  },
  {
   "cell_type": "code",
   "execution_count": 36,
   "metadata": {
    "collapsed": false
   },
   "outputs": [
    {
     "data": {
      "text/plain": [
       "(array([[-0.9847, -0.7303, -0.6027],\n",
       "        [-0.2462,  0.0522, -0.1918],\n",
       "        [ 0.4924,  0.8346,  0.2192],\n",
       "        [ 1.4771, -1.2519,  1.5889],\n",
       "        [-0.7385,  1.0954, -1.0136]]),\n",
       " [4.0620192023179804, 3.8340579025361627, 7.3006848993775915],\n",
       " [5.0, 4.7999999999999998, 7.4000000000000004])"
      ]
     },
     "execution_count": 36,
     "metadata": {},
     "output_type": "execute_result"
    }
   ],
   "source": [
    "zscore1(test_mat)"
   ]
  },
  {
   "cell_type": "code",
   "execution_count": null,
   "metadata": {
    "collapsed": true
   },
   "outputs": [],
   "source": []
  }
 ],
 "metadata": {
  "anaconda-cloud": {},
  "kernelspec": {
   "display_name": "Python [conda env:nuc]",
   "language": "python",
   "name": "conda-env-nuc-py"
  },
  "language_info": {
   "codemirror_mode": {
    "name": "ipython",
    "version": 2
   },
   "file_extension": ".py",
   "mimetype": "text/x-python",
   "name": "python",
   "nbconvert_exporter": "python",
   "pygments_lexer": "ipython2",
   "version": "2.7.13"
  }
 },
 "nbformat": 4,
 "nbformat_minor": 1
}
