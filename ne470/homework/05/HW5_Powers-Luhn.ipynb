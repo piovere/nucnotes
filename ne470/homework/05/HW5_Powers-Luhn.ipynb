{
 "cells": [
  {
   "cell_type": "markdown",
   "metadata": {},
   "source": [
    "# Problem 1 #"
   ]
  },
  {
   "cell_type": "markdown",
   "metadata": {},
   "source": [
    "Using the data from table 2-3 from D&H page 64, compute six group and total delayed neutron fraction for $^{235}$U thermal fission."
   ]
  },
  {
   "cell_type": "code",
   "execution_count": 1,
   "metadata": {
    "collapsed": true
   },
   "outputs": [],
   "source": [
    "import numpy as np\n",
    "import pandas as pd"
   ]
  },
  {
   "cell_type": "code",
   "execution_count": 2,
   "metadata": {
    "collapsed": false
   },
   "outputs": [
    {
     "data": {
      "text/html": [
       "<div>\n",
       "<table border=\"1\" class=\"dataframe\">\n",
       "  <thead>\n",
       "    <tr style=\"text-align: right;\">\n",
       "      <th></th>\n",
       "      <th>Half Life</th>\n",
       "      <th>Relative Yield</th>\n",
       "    </tr>\n",
       "    <tr>\n",
       "      <th>Group</th>\n",
       "      <th></th>\n",
       "      <th></th>\n",
       "    </tr>\n",
       "  </thead>\n",
       "  <tbody>\n",
       "    <tr>\n",
       "      <th>1</th>\n",
       "      <td>54.510</td>\n",
       "      <td>0.038</td>\n",
       "    </tr>\n",
       "    <tr>\n",
       "      <th>2</th>\n",
       "      <td>21.840</td>\n",
       "      <td>0.213</td>\n",
       "    </tr>\n",
       "    <tr>\n",
       "      <th>3</th>\n",
       "      <td>6.000</td>\n",
       "      <td>0.188</td>\n",
       "    </tr>\n",
       "    <tr>\n",
       "      <th>4</th>\n",
       "      <td>2.230</td>\n",
       "      <td>0.407</td>\n",
       "    </tr>\n",
       "    <tr>\n",
       "      <th>5</th>\n",
       "      <td>0.496</td>\n",
       "      <td>0.128</td>\n",
       "    </tr>\n",
       "    <tr>\n",
       "      <th>6</th>\n",
       "      <td>0.179</td>\n",
       "      <td>0.026</td>\n",
       "    </tr>\n",
       "  </tbody>\n",
       "</table>\n",
       "</div>"
      ],
      "text/plain": [
       "       Half Life  Relative Yield\n",
       "Group                           \n",
       "1         54.510           0.038\n",
       "2         21.840           0.213\n",
       "3          6.000           0.188\n",
       "4          2.230           0.407\n",
       "5          0.496           0.128\n",
       "6          0.179           0.026"
      ]
     },
     "execution_count": 2,
     "metadata": {},
     "output_type": "execute_result"
    }
   ],
   "source": [
    "delayed_neutrons_per_thermal_fission = 0.01668\n",
    "neutrons_per_thermal_fission = 2.43\n",
    "delayed_group = pd.DataFrame(\n",
    "    {\n",
    "        \"Group\": range(1,7),\n",
    "        \"Half Life\": [54.51, 21.84, 6.00, 2.23, 0.496, 0.179],\n",
    "        \"Relative Yield\": [0.038, 0.213, 0.188, 0.407, 0.128, 0.026]\n",
    "    }\n",
    ")\n",
    "delayed_group.set_index(\"Group\", inplace=True)\n",
    "delayed_group"
   ]
  },
  {
   "cell_type": "code",
   "execution_count": 3,
   "metadata": {
    "collapsed": false
   },
   "outputs": [
    {
     "data": {
      "text/html": [
       "<div>\n",
       "<table border=\"1\" class=\"dataframe\">\n",
       "  <thead>\n",
       "    <tr style=\"text-align: right;\">\n",
       "      <th></th>\n",
       "      <th>Half Life</th>\n",
       "      <th>Relative Yield</th>\n",
       "      <th>Delayed Neutron Fraction</th>\n",
       "    </tr>\n",
       "    <tr>\n",
       "      <th>Group</th>\n",
       "      <th></th>\n",
       "      <th></th>\n",
       "      <th></th>\n",
       "    </tr>\n",
       "  </thead>\n",
       "  <tbody>\n",
       "    <tr>\n",
       "      <th>1</th>\n",
       "      <td>54.510</td>\n",
       "      <td>0.038</td>\n",
       "      <td>0.000261</td>\n",
       "    </tr>\n",
       "    <tr>\n",
       "      <th>2</th>\n",
       "      <td>21.840</td>\n",
       "      <td>0.213</td>\n",
       "      <td>0.001462</td>\n",
       "    </tr>\n",
       "    <tr>\n",
       "      <th>3</th>\n",
       "      <td>6.000</td>\n",
       "      <td>0.188</td>\n",
       "      <td>0.001290</td>\n",
       "    </tr>\n",
       "    <tr>\n",
       "      <th>4</th>\n",
       "      <td>2.230</td>\n",
       "      <td>0.407</td>\n",
       "      <td>0.002794</td>\n",
       "    </tr>\n",
       "    <tr>\n",
       "      <th>5</th>\n",
       "      <td>0.496</td>\n",
       "      <td>0.128</td>\n",
       "      <td>0.000879</td>\n",
       "    </tr>\n",
       "    <tr>\n",
       "      <th>6</th>\n",
       "      <td>0.179</td>\n",
       "      <td>0.026</td>\n",
       "      <td>0.000178</td>\n",
       "    </tr>\n",
       "  </tbody>\n",
       "</table>\n",
       "</div>"
      ],
      "text/plain": [
       "       Half Life  Relative Yield  Delayed Neutron Fraction\n",
       "Group                                                     \n",
       "1         54.510           0.038                  0.000261\n",
       "2         21.840           0.213                  0.001462\n",
       "3          6.000           0.188                  0.001290\n",
       "4          2.230           0.407                  0.002794\n",
       "5          0.496           0.128                  0.000879\n",
       "6          0.179           0.026                  0.000178"
      ]
     },
     "execution_count": 3,
     "metadata": {},
     "output_type": "execute_result"
    }
   ],
   "source": [
    "delayed_group[\"Delayed Neutron Fraction\"] =\\\n",
    "    delayed_group[\"Relative Yield\"] * delayed_neutrons_per_thermal_fission / neutrons_per_thermal_fission\n",
    "delayed_group"
   ]
  },
  {
   "cell_type": "code",
   "execution_count": 4,
   "metadata": {
    "collapsed": false
   },
   "outputs": [
    {
     "name": "stdout",
     "output_type": "stream",
     "text": [
      "Total delayed neutron fraction: 0.00686419753086\n"
     ]
    }
   ],
   "source": [
    "print \"Total delayed neutron fraction: {0}\".format(sum(delayed_group[\"Delayed Neutron Fraction\"]))"
   ]
  },
  {
   "cell_type": "code",
   "execution_count": 5,
   "metadata": {
    "collapsed": false
   },
   "outputs": [
    {
     "data": {
      "text/plain": [
       "0.006817401540046103"
      ]
     },
     "execution_count": 5,
     "metadata": {},
     "output_type": "execute_result"
    }
   ],
   "source": [
    "# verification\n",
    "(0.01668) / (2.43 + 0.01668)"
   ]
  },
  {
   "cell_type": "markdown",
   "metadata": {},
   "source": [
    "# Problem 2 #"
   ]
  },
  {
   "cell_type": "markdown",
   "metadata": {
    "collapsed": true
   },
   "source": [
    "Repeate the solution of the point reactor kinetics equation with one effective delayed group for a constant reactivity addition $\\rho_0$ using the Laplace transform method."
   ]
  },
  {
   "cell_type": "code",
   "execution_count": null,
   "metadata": {
    "collapsed": true
   },
   "outputs": [],
   "source": []
  },
  {
   "cell_type": "markdown",
   "metadata": {},
   "source": [
    "# Problem 3 #"
   ]
  },
  {
   "cell_type": "markdown",
   "metadata": {},
   "source": [
    "A PWR filled with $^{235}$U is initially operating at a power level of 1000 MWt. What is the power of the reactor after 60 seconds for reactivity insertions of -20 cents and +20 cents?\n",
    "\n",
    "Assume a prompt neutron lifetime of 0.1 milliseconds"
   ]
  },
  {
   "cell_type": "code",
   "execution_count": 17,
   "metadata": {
    "collapsed": true
   },
   "outputs": [],
   "source": [
    "tau_prompt = 1e-4"
   ]
  },
  {
   "cell_type": "code",
   "execution_count": 24,
   "metadata": {
    "collapsed": false
   },
   "outputs": [
    {
     "data": {
      "text/html": [
       "<div>\n",
       "<table border=\"1\" class=\"dataframe\">\n",
       "  <thead>\n",
       "    <tr style=\"text-align: right;\">\n",
       "      <th></th>\n",
       "      <th>Decay Constant</th>\n",
       "      <th>Delayed Neutron Fraction</th>\n",
       "      <th>Half Life</th>\n",
       "    </tr>\n",
       "    <tr>\n",
       "      <th>Group</th>\n",
       "      <th></th>\n",
       "      <th></th>\n",
       "      <th></th>\n",
       "    </tr>\n",
       "  </thead>\n",
       "  <tbody>\n",
       "    <tr>\n",
       "      <th>1</th>\n",
       "      <td>0.012716</td>\n",
       "      <td>0.000261</td>\n",
       "      <td>54.510</td>\n",
       "    </tr>\n",
       "    <tr>\n",
       "      <th>2</th>\n",
       "      <td>0.031738</td>\n",
       "      <td>0.001462</td>\n",
       "      <td>21.840</td>\n",
       "    </tr>\n",
       "    <tr>\n",
       "      <th>3</th>\n",
       "      <td>0.115525</td>\n",
       "      <td>0.001290</td>\n",
       "      <td>6.000</td>\n",
       "    </tr>\n",
       "    <tr>\n",
       "      <th>4</th>\n",
       "      <td>0.310828</td>\n",
       "      <td>0.002794</td>\n",
       "      <td>2.230</td>\n",
       "    </tr>\n",
       "    <tr>\n",
       "      <th>5</th>\n",
       "      <td>1.397474</td>\n",
       "      <td>0.000879</td>\n",
       "      <td>0.496</td>\n",
       "    </tr>\n",
       "    <tr>\n",
       "      <th>6</th>\n",
       "      <td>3.872331</td>\n",
       "      <td>0.000178</td>\n",
       "      <td>0.179</td>\n",
       "    </tr>\n",
       "  </tbody>\n",
       "</table>\n",
       "</div>"
      ],
      "text/plain": [
       "       Decay Constant  Delayed Neutron Fraction  Half Life\n",
       "Group                                                     \n",
       "1            0.012716                  0.000261     54.510\n",
       "2            0.031738                  0.001462     21.840\n",
       "3            0.115525                  0.001290      6.000\n",
       "4            0.310828                  0.002794      2.230\n",
       "5            1.397474                  0.000879      0.496\n",
       "6            3.872331                  0.000178      0.179"
      ]
     },
     "execution_count": 24,
     "metadata": {},
     "output_type": "execute_result"
    }
   ],
   "source": [
    "delayed_group[\"Decay Constant\"] = np.log(2.) / delayed_group[\"Half Life\"]\n",
    "delayed_group.ix[:, delayed_group.columns.difference([\"Relative Yield\"])]"
   ]
  },
  {
   "cell_type": "code",
   "execution_count": 19,
   "metadata": {
    "collapsed": true
   },
   "outputs": [],
   "source": [
    "beta = sum(delayed_group[\"Delayed Neutron Fraction\"])"
   ]
  },
  {
   "cell_type": "code",
   "execution_count": 20,
   "metadata": {
    "collapsed": false
   },
   "outputs": [
    {
     "data": {
      "text/plain": [
       "0.060689942123456783"
      ]
     },
     "execution_count": 20,
     "metadata": {},
     "output_type": "execute_result"
    }
   ],
   "source": [
    "theta = delayed_group[\"Delayed Neutron Fraction\"].dot(delayed_group[\"Half Life\"]) + (1. - beta) * tau_prompt\n",
    "theta"
   ]
  },
  {
   "cell_type": "code",
   "execution_count": 29,
   "metadata": {
    "collapsed": false
   },
   "outputs": [
    {
     "name": "stdout",
     "output_type": "stream",
     "text": [
      "beta: 0.00686419753086\n",
      "theta: 0.0606899421235\n"
     ]
    }
   ],
   "source": [
    "print 'beta: {0}'.format(beta)\n",
    "print \"theta: {0}\".format(theta)"
   ]
  },
  {
   "cell_type": "code",
   "execution_count": 10,
   "metadata": {
    "collapsed": true
   },
   "outputs": [],
   "source": [
    "def k(reactivity):\n",
    "    return 1. / (1. - reactivity)\n",
    "\n",
    "def tau(theta, k):\n",
    "    return theta / np.log(k)"
   ]
  },
  {
   "cell_type": "code",
   "execution_count": 11,
   "metadata": {
    "collapsed": true
   },
   "outputs": [],
   "source": [
    "def power(k, t, initial=1000):\n",
    "    period = tau(theta, k)\n",
    "    p = initial * np.exp(t / period)\n",
    "    \n",
    "    return p"
   ]
  },
  {
   "cell_type": "code",
   "execution_count": 30,
   "metadata": {
    "collapsed": false
   },
   "outputs": [
    {
     "data": {
      "text/plain": [
       "3889.0508282555074"
      ]
     },
     "execution_count": 30,
     "metadata": {},
     "output_type": "execute_result"
    }
   ],
   "source": [
    "power_plus_twenty_cents = power(k(0.2 * beta), 60)\n",
    "power_plus_twenty_cents"
   ]
  },
  {
   "cell_type": "code",
   "execution_count": 31,
   "metadata": {
    "collapsed": false
   },
   "outputs": [
    {
     "data": {
      "text/plain": [
       "257.61170155452254"
      ]
     },
     "execution_count": 31,
     "metadata": {},
     "output_type": "execute_result"
    }
   ],
   "source": [
    "power_minus_twenty_cents = power(k(-0.2 * beta), 60)\n",
    "power_minus_twenty_cents"
   ]
  },
  {
   "cell_type": "markdown",
   "metadata": {
    "collapsed": true
   },
   "source": [
    "# Problem 4 #"
   ]
  },
  {
   "cell_type": "markdown",
   "metadata": {},
   "source": [
    "Using the data in Table 2-3 from D&H page 64 and Figure 2-20 from D&H page 61 for $^{235}$U solve the inhour equation below to obtain the decay constants, $s$, for reactivity values of \\$-0.20 and \\$+0.20.\n",
    "\n",
    "\\begin{equation}\n",
    "    \\rho = \\Lambda s + \\sum_{i=1}^6 \\frac{\\beta_i s}{s + \\lambda_i}\n",
    "\\end{equation}"
   ]
  },
  {
   "cell_type": "markdown",
   "metadata": {},
   "source": [
    "Using the reactivity function defined in number 3 and $\\Lambda = \\frac{1}{k}$"
   ]
  },
  {
   "cell_type": "markdown",
   "metadata": {},
   "source": [
    "The roots of this equation come when $s + \\lambda_i = 0 \\rightarrow s = -\\lambda_i$"
   ]
  },
  {
   "cell_type": "code",
   "execution_count": null,
   "metadata": {
    "collapsed": true
   },
   "outputs": [],
   "source": []
  }
 ],
 "metadata": {
  "anaconda-cloud": {},
  "kernelspec": {
   "display_name": "Python [conda env:nuc]",
   "language": "python",
   "name": "conda-env-nuc-py"
  },
  "language_info": {
   "codemirror_mode": {
    "name": "ipython",
    "version": 2
   },
   "file_extension": ".py",
   "mimetype": "text/x-python",
   "name": "python",
   "nbconvert_exporter": "python",
   "pygments_lexer": "ipython2",
   "version": "2.7.12"
  },
  "latex_envs": {
   "bibliofile": "biblio.bib",
   "cite_by": "apalike",
   "current_citInitial": 1,
   "eqLabelWithNumbers": true,
   "eqNumInitial": 0
  }
 },
 "nbformat": 4,
 "nbformat_minor": 1
}
