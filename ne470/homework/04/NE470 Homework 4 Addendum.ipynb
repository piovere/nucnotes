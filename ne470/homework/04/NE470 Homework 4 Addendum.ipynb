{
 "cells": [
  {
   "cell_type": "markdown",
   "metadata": {
    "nbpresent": {
     "id": "773fba7a-c5e5-409c-a149-7303dfa4d39c"
    }
   },
   "source": [
    "# NE470 Homework No. 4 #"
   ]
  },
  {
   "cell_type": "markdown",
   "metadata": {
    "nbpresent": {
     "id": "34d1a3cb-b3d1-4b63-8209-33bb65e4bb4c"
    }
   },
   "source": [
    "## Problem 3 ##"
   ]
  },
  {
   "cell_type": "markdown",
   "metadata": {
    "nbpresent": {
     "id": "84da828d-9e82-4d30-a415-548d86401f95"
    }
   },
   "source": [
    "This is an attempt to solve the for the function $f(x)$ by discretizing it into N nodes such that $$ f_n \\approx f(n*\\Delta x), \\Delta x = W/n, n \\in \\{ 0, 1, \\dots, N-1 \\} $$ For this problem, $W=4$. Our boundary conditions are set as $$f(0)=2$$ and $$f(4)=54.61647$$"
   ]
  },
  {
   "cell_type": "code",
   "execution_count": 2,
   "metadata": {
    "collapsed": true,
    "nbpresent": {
     "id": "caaa83ac-a9d3-4505-b991-94836b0cc6c2"
    }
   },
   "outputs": [],
   "source": [
    "# numpy contains useful array/matrix tools\n",
    "import numpy as np"
   ]
  },
  {
   "cell_type": "markdown",
   "metadata": {
    "nbpresent": {
     "id": "5b48eed0-bae6-43f6-b23b-a70d21a29a56"
    }
   },
   "source": [
    "The equation we are trying to solve is: $$ f^{\\prime \\prime} - f = 0 $$"
   ]
  },
  {
   "cell_type": "markdown",
   "metadata": {
    "nbpresent": {
     "id": "5182715b-0cb6-428c-9540-60f2b41aeae6"
    }
   },
   "source": [
    "Using the following approximation of the second derivative: \n",
    "    $$ f^{\\prime\\prime} \\approx \\frac{f_{n-1} - 2 f_{n} + f_{n+1}}{{\\Delta x}^2} $$\n",
    "    we arrive at an operator that approximately solves for $f$:\n",
    "    $$ \\left( \\frac{1}{\\Delta x ^2} \\right) f_{i-1} + \\left( \\frac{-2}{\\Delta x ^2} - 1 \\right) f_i + \\left( \\frac{1}{\\Delta x ^2} \\right) f_{i+1} = b_i $$"
   ]
  },
  {
   "cell_type": "markdown",
   "metadata": {
    "nbpresent": {
     "id": "ad45fe56-f14b-47aa-8730-96aa8fdea4a0"
    }
   },
   "source": [
    "Now we solve for $$\\mathbf{A} f = b $$"
   ]
  },
  {
   "cell_type": "code",
   "execution_count": 3,
   "metadata": {
    "code_folding": [],
    "collapsed": true,
    "nbpresent": {
     "id": "91ec0bee-383e-483f-8d8b-607732d25167"
    }
   },
   "outputs": [],
   "source": [
    "def solution(N):\n",
    "    # define our interval length\n",
    "    deltaX = 4.0 / (N-1)\n",
    "    deltaXsquared = deltaX ** 2\n",
    "    \n",
    "    # define our matrix\n",
    "    diag = -2.0 / deltaXsquared - 1.0\n",
    "    offdiag = 1.0 / deltaXsquared\n",
    "    \n",
    "    # instantiate matrix and fill diagonal values\n",
    "    A = np.eye(N-2) * diag\n",
    "    A = A + offdiag * np.diagflat(np.resize(np.array([1.0]), (N-3)), 1)\n",
    "    A = A + offdiag * np.diagflat(np.resize(np.array([1.0]), (N-3)), -1)\n",
    "    \n",
    "    # define our output vector, b\n",
    "    b = np.zeros(N-2)\n",
    "    b[0] = -2.0 / deltaXsquared\n",
    "    b[N-3] = -54.61647 / deltaXsquared\n",
    "    \n",
    "    # compute solution\n",
    "    f = np.linalg.solve(A, b)\n",
    "    \n",
    "    return f"
   ]
  },
  {
   "cell_type": "code",
   "execution_count": 4,
   "metadata": {
    "code_folding": [],
    "collapsed": true,
    "nbpresent": {
     "id": "98f5da30-a0ab-4b72-8459-54900c332950"
    }
   },
   "outputs": [],
   "source": [
    "def analytic(N):\n",
    "    \"\"\" The analytic solution to the equation \"\"\"\n",
    "    x = np.linspace(0, 4, num=N)\n",
    "    x = x[1:-1]\n",
    "    return np.exp(x) + np.exp(-x)"
   ]
  },
  {
   "cell_type": "code",
   "execution_count": 5,
   "metadata": {
    "code_folding": [],
    "collapsed": false,
    "nbpresent": {
     "id": "9bf9349a-2ef9-4295-a0b8-9be28e3b4751"
    }
   },
   "outputs": [],
   "source": [
    "def error(n):\n",
    "    return np.amax(np.abs(analytic(n) - solution(n)))"
   ]
  },
  {
   "cell_type": "code",
   "execution_count": 6,
   "metadata": {
    "collapsed": false,
    "nbpresent": {
     "id": "1adb28ef-a1c5-4ea9-bfd9-25ad37c59df2"
    }
   },
   "outputs": [
    {
     "name": "stdout",
     "output_type": "stream",
     "text": [
      "370\t\t9.97073790181e-05\n",
      "370\t\t9.97073790181e-05\n",
      "370\t\t9.97073790181e-05\n",
      "370\t\t9.97073790181e-05\n",
      "1 loop, best of 3: 605 ms per loop\n"
     ]
    }
   ],
   "source": [
    "%%timeit\n",
    "e_min = 10**-4\n",
    "e=1.0\n",
    "\n",
    "n_max = 10**5\n",
    "n = 5\n",
    "\n",
    "while e>e_min and n<n_max:\n",
    "    n += 1\n",
    "    e = error(n)\n",
    "print \"{0}\\t\\t{1}\".format(n, e)"
   ]
  },
  {
   "cell_type": "code",
   "execution_count": 9,
   "metadata": {
    "collapsed": false,
    "nbpresent": {
     "id": "5910d1ef-976c-47c6-8457-c04b80c3d68d"
    }
   },
   "outputs": [
    {
     "data": {
      "image/png": "[encoded data removed]",
      "text/plain": [
       "<matplotlib.figure.Figure at 0x10978a090>"
      ]
     },
     "metadata": {},
     "output_type": "display_data"
    }
   ],
   "source": [
    "%matplotlib inline\n",
    "import matplotlib.pyplot as plt\n",
    "n = np.arange(5, 1500)\n",
    "plt.plot(n, [error(i) for i in n])\n",
    "plt.yscale('log')\n",
    "plt.xscale('log')\n",
    "plt.xlabel('Number of Nodes')\n",
    "plt.ylabel('Abs(Error)')\n",
    "plt.show()"
   ]
  },
  {
   "cell_type": "markdown",
   "metadata": {
    "collapsed": true,
    "heading_collapsed": true,
    "nbpresent": {
     "id": "39e0952b-7a3e-4e6c-849a-07441a299cca"
    }
   },
   "source": [
    "## Problem 5 ##"
   ]
  },
  {
   "cell_type": "code",
   "execution_count": 10,
   "metadata": {
    "collapsed": true,
    "hidden": true,
    "nbpresent": {
     "id": "a47ed453-7e75-4cb1-9d6a-5b6362e22ad2"
    }
   },
   "outputs": [],
   "source": [
    "def sigma_tr(sigma_t, mu_0, sigma_s):\n",
    "    # mu_0 is actually 1-mu_0 in my table\n",
    "    mu_0 = 1 - mu_0\n",
    "    \n",
    "    return sigma_t - mu_0 * sigma_s"
   ]
  },
  {
   "cell_type": "code",
   "execution_count": 22,
   "metadata": {
    "collapsed": true,
    "hidden": true
   },
   "outputs": [],
   "source": [
    "def diffusion_coefficient(sigma_t, mu_0, sigma_s):\n",
    "    return (1.0 / 3.0) / sigma_tr(sigma_t, mu_0, sigma_s)"
   ]
  },
  {
   "cell_type": "code",
   "execution_count": 11,
   "metadata": {
    "collapsed": true,
    "hidden": true,
    "nbpresent": {
     "id": "bb8310f0-902a-4896-95db-e28800c3e163"
    }
   },
   "outputs": [],
   "source": [
    "def z_0(sigma_t, mu_0, sigma_s):\n",
    "    return 0.7104 / sigma_tr(sigma_t, mu_0, sigma_s)"
   ]
  },
  {
   "cell_type": "markdown",
   "metadata": {
    "hidden": true,
    "nbpresent": {
     "id": "ddb5c27c-c8f2-43d9-a514-7cc5b2d98137"
    }
   },
   "source": [
    "Light water"
   ]
  },
  {
   "cell_type": "code",
   "execution_count": 12,
   "metadata": {
    "collapsed": false,
    "hidden": true,
    "nbpresent": {
     "id": "a0328906-2b5e-48cf-b603-757e9fd7c34b"
    }
   },
   "outputs": [
    {
     "data": {
      "text/plain": [
       "2.3322000000000003"
      ]
     },
     "execution_count": 12,
     "metadata": {},
     "output_type": "execute_result"
    }
   ],
   "source": [
    "sigma_tr(3.45, 0.676, 3.45)"
   ]
  },
  {
   "cell_type": "code",
   "execution_count": 23,
   "metadata": {
    "collapsed": false,
    "hidden": true
   },
   "outputs": [
    {
     "data": {
      "text/plain": [
       "0.1429265643312466"
      ]
     },
     "execution_count": 23,
     "metadata": {},
     "output_type": "execute_result"
    }
   ],
   "source": [
    "diffusion_coefficient(3.45, 0.676, 3.45)"
   ]
  },
  {
   "cell_type": "code",
   "execution_count": 13,
   "metadata": {
    "collapsed": false,
    "hidden": true,
    "nbpresent": {
     "id": "d526879a-a007-4e6a-bc27-00fcaea039f5"
    }
   },
   "outputs": [
    {
     "data": {
      "text/plain": [
       "0.30460509390275275"
      ]
     },
     "execution_count": 13,
     "metadata": {},
     "output_type": "execute_result"
    }
   ],
   "source": [
    "z_0(3.45, 0.676, 3.45)"
   ]
  },
  {
   "cell_type": "markdown",
   "metadata": {
    "hidden": true,
    "nbpresent": {
     "id": "1312507d-8475-45b6-a4d2-9ac73d06ae2c"
    }
   },
   "source": [
    "Heavy water"
   ]
  },
  {
   "cell_type": "code",
   "execution_count": 14,
   "metadata": {
    "collapsed": false,
    "hidden": true,
    "nbpresent": {
     "id": "47e97c4e-bc49-48a3-b9cd-6d37168a9c7a"
    }
   },
   "outputs": [
    {
     "data": {
      "text/plain": [
       "0.396916"
      ]
     },
     "execution_count": 14,
     "metadata": {},
     "output_type": "execute_result"
    }
   ],
   "source": [
    "sigma_tr(0.449, 0.884, 0.449)"
   ]
  },
  {
   "cell_type": "code",
   "execution_count": 25,
   "metadata": {
    "collapsed": false,
    "hidden": true
   },
   "outputs": [
    {
     "data": {
      "text/plain": [
       "0.8398082549792231"
      ]
     },
     "execution_count": 25,
     "metadata": {},
     "output_type": "execute_result"
    }
   ],
   "source": [
    "diffusion_coefficient(0.449, 0.884, 0.449)"
   ]
  },
  {
   "cell_type": "code",
   "execution_count": 15,
   "metadata": {
    "collapsed": false,
    "hidden": true,
    "nbpresent": {
     "id": "345cf804-e3ca-45e6-885d-6b9cf6b12a23"
    }
   },
   "outputs": [
    {
     "data": {
      "text/plain": [
       "1.7897993530117204"
      ]
     },
     "execution_count": 15,
     "metadata": {},
     "output_type": "execute_result"
    }
   ],
   "source": [
    "z_0(0.449, 0.884, 0.449)"
   ]
  },
  {
   "cell_type": "markdown",
   "metadata": {
    "hidden": true,
    "nbpresent": {
     "id": "d73f25bc-6ffe-4b54-a4b5-d9d26881350b"
    }
   },
   "source": [
    "Graphite"
   ]
  },
  {
   "cell_type": "code",
   "execution_count": 16,
   "metadata": {
    "collapsed": false,
    "hidden": true,
    "nbpresent": {
     "id": "ea2a164b-99a3-4536-b901-c403b77d871b"
    }
   },
   "outputs": [
    {
     "data": {
      "text/plain": [
       "0.36359400000000003"
      ]
     },
     "execution_count": 16,
     "metadata": {},
     "output_type": "execute_result"
    }
   ],
   "source": [
    "sigma_tr(0.385, 0.9444, 0.385)"
   ]
  },
  {
   "cell_type": "code",
   "execution_count": 24,
   "metadata": {
    "collapsed": false,
    "hidden": true
   },
   "outputs": [
    {
     "data": {
      "text/plain": [
       "0.9167734707760119"
      ]
     },
     "execution_count": 24,
     "metadata": {},
     "output_type": "execute_result"
    }
   ],
   "source": [
    "diffusion_coefficient(0.385, 0.9444, 0.385)"
   ]
  },
  {
   "cell_type": "code",
   "execution_count": 17,
   "metadata": {
    "collapsed": false,
    "hidden": true,
    "nbpresent": {
     "id": "b5325cef-c0dc-4121-8cf7-e3a6cbd1949a"
    }
   },
   "outputs": [
    {
     "data": {
      "text/plain": [
       "1.953827620917837"
      ]
     },
     "execution_count": 17,
     "metadata": {},
     "output_type": "execute_result"
    }
   ],
   "source": [
    "z_0(0.385, 0.9444, 0.385)"
   ]
  },
  {
   "cell_type": "markdown",
   "metadata": {
    "hidden": true,
    "nbpresent": {
     "id": "ce3544ab-0ff0-42f4-9b8b-19a3a355be4e"
    }
   },
   "source": [
    "Uranium"
   ]
  },
  {
   "cell_type": "code",
   "execution_count": 18,
   "metadata": {
    "collapsed": false,
    "hidden": true,
    "nbpresent": {
     "id": "e5f3d7f1-9b8c-4dc6-b24c-f00faa4e3468"
    }
   },
   "outputs": [
    {
     "data": {
      "text/plain": [
       "0.7638884"
      ]
     },
     "execution_count": 18,
     "metadata": {},
     "output_type": "execute_result"
    }
   ],
   "source": [
    "sigma_tr(0.765, 0.9972, 0.397)"
   ]
  },
  {
   "cell_type": "code",
   "execution_count": 26,
   "metadata": {
    "collapsed": false,
    "hidden": true
   },
   "outputs": [
    {
     "data": {
      "text/plain": [
       "0.4363639156365423"
      ]
     },
     "execution_count": 26,
     "metadata": {},
     "output_type": "execute_result"
    }
   ],
   "source": [
    "diffusion_coefficient(0.765, 0.9972, 0.397)"
   ]
  },
  {
   "cell_type": "code",
   "execution_count": 19,
   "metadata": {
    "collapsed": false,
    "hidden": true,
    "nbpresent": {
     "id": "522dfb56-eb7c-44a9-a404-cff0c26bf2de"
    }
   },
   "outputs": [
    {
     "data": {
      "text/plain": [
       "0.9299787770045991"
      ]
     },
     "execution_count": 19,
     "metadata": {},
     "output_type": "execute_result"
    }
   ],
   "source": [
    "z_0(0.765, 0.9972, 0.397)"
   ]
  },
  {
   "cell_type": "code",
   "execution_count": null,
   "metadata": {
    "collapsed": true,
    "hidden": true,
    "nbpresent": {
     "id": "e08aedfb-7027-48c5-ac5a-5171c05b2a35"
    }
   },
   "outputs": [],
   "source": []
  }
 ],
 "metadata": {
  "anaconda-cloud": {},
  "kernelspec": {
   "display_name": "Python [conda env:nuc]",
   "language": "python",
   "name": "conda-env-nuc-py"
  },
  "language_info": {
   "codemirror_mode": {
    "name": "ipython",
    "version": 2
   },
   "file_extension": ".py",
   "mimetype": "text/x-python",
   "name": "python",
   "nbconvert_exporter": "python",
   "pygments_lexer": "ipython2",
   "version": "2.7.12"
  },
  "latex_envs": {
   "bibliofile": "biblio.bib",
   "cite_by": "apalike",
   "current_citInitial": 1,
   "eqLabelWithNumbers": true,
   "eqNumInitial": 0
  },
  "nbpresent": {
   "slides": {
    "03d3923b-bc52-421a-82e9-9393bcc2924c": {
     "id": "03d3923b-bc52-421a-82e9-9393bcc2924c",
     "prev": "7c79b404-7ece-40e5-9c46-775b9fde4bbc",
     "regions": {
      "c137f206-f4e6-45a4-85df-3a53ef67d586": {
       "attrs": {
        "height": 0.8,
        "width": 0.8,
        "x": 0.1,
        "y": 0.1
       },
       "content": {
        "cell": "caaa83ac-a9d3-4505-b991-94836b0cc6c2",
        "part": "whole"
       },
       "id": "c137f206-f4e6-45a4-85df-3a53ef67d586"
      }
     }
    },
    "0af81e1b-0310-4564-b0f7-0d0b4886e446": {
     "id": "0af81e1b-0310-4564-b0f7-0d0b4886e446",
     "prev": "e8629788-4a56-4d41-8070-1562727b33c3",
     "regions": {
      "27bf2ca0-621b-4c43-8483-ec5dbd53219a": {
       "attrs": {
        "height": 0.8,
        "width": 0.8,
        "x": 0.1,
        "y": 0.1
       },
       "content": {
        "cell": "1adb28ef-a1c5-4ea9-bfd9-25ad37c59df2",
        "part": "whole"
       },
       "id": "27bf2ca0-621b-4c43-8483-ec5dbd53219a"
      }
     }
    },
    "0b119cbe-25ac-48e2-8255-c1364345c80f": {
     "id": "0b119cbe-25ac-48e2-8255-c1364345c80f",
     "prev": "41ae2a7b-fe96-4505-9a52-b434f1b59a52",
     "regions": {
      "7ab171f8-3042-4198-80b5-8a492fc00c76": {
       "attrs": {
        "height": 0.8,
        "width": 0.8,
        "x": 0.1,
        "y": 0.1
       },
       "content": {
        "cell": "ad45fe56-f14b-47aa-8730-96aa8fdea4a0",
        "part": "whole"
       },
       "id": "7ab171f8-3042-4198-80b5-8a492fc00c76"
      }
     }
    },
    "0d992327-eb05-4127-8862-c04d78fe4e86": {
     "id": "0d992327-eb05-4127-8862-c04d78fe4e86",
     "prev": "cc5c8545-ebab-4686-ba51-928b499e8739",
     "regions": {
      "8344ec4b-1122-484d-b413-a28da7dedf9b": {
       "attrs": {
        "height": 0.8,
        "width": 0.8,
        "x": 0.1,
        "y": 0.1
       },
       "content": {
        "cell": "a0328906-2b5e-48cf-b603-757e9fd7c34b",
        "part": "whole"
       },
       "id": "8344ec4b-1122-484d-b413-a28da7dedf9b"
      }
     }
    },
    "12e103f0-6f28-485c-a5e9-32cc9b6ca8cd": {
     "id": "12e103f0-6f28-485c-a5e9-32cc9b6ca8cd",
     "prev": "b96c503f-a8e1-4cb7-9e49-8336789f1002",
     "regions": {
      "9e49ca7c-819f-4d3d-ad48-26e1d130519f": {
       "attrs": {
        "height": 0.8,
        "width": 0.8,
        "x": 0.1,
        "y": 0.1
       },
       "content": {
        "cell": "39e0952b-7a3e-4e6c-849a-07441a299cca",
        "part": "whole"
       },
       "id": "9e49ca7c-819f-4d3d-ad48-26e1d130519f"
      }
     }
    },
    "3fca9c98-0192-4d43-b300-692a3887c71c": {
     "id": "3fca9c98-0192-4d43-b300-692a3887c71c",
     "prev": "9d102a64-490c-4e5d-9c42-8f129161c964",
     "regions": {
      "ac0c1e66-96b0-4bb2-b509-329670c35d29": {
       "attrs": {
        "height": 0.8,
        "width": 0.8,
        "x": 0.1,
        "y": 0.1
       },
       "content": {
        "cell": "e08aedfb-7027-48c5-ac5a-5171c05b2a35",
        "part": "whole"
       },
       "id": "ac0c1e66-96b0-4bb2-b509-329670c35d29"
      }
     }
    },
    "41ae2a7b-fe96-4505-9a52-b434f1b59a52": {
     "id": "41ae2a7b-fe96-4505-9a52-b434f1b59a52",
     "prev": "e90ba40b-a1cc-4c29-a53d-22ba5b434f40",
     "regions": {
      "1ba9534a-0464-45c4-9990-3d61b806eced": {
       "attrs": {
        "height": 0.8,
        "width": 0.8,
        "x": 0.1,
        "y": 0.1
       },
       "content": {
        "cell": "5182715b-0cb6-428c-9540-60f2b41aeae6",
        "part": "whole"
       },
       "id": "1ba9534a-0464-45c4-9990-3d61b806eced"
      }
     }
    },
    "5565bcdd-bfbe-4350-8b30-9e51cc9b8642": {
     "id": "5565bcdd-bfbe-4350-8b30-9e51cc9b8642",
     "prev": "0d992327-eb05-4127-8862-c04d78fe4e86",
     "regions": {
      "71804b97-359b-4dda-99f1-3b9e6b594124": {
       "attrs": {
        "height": 0.8,
        "width": 0.8,
        "x": 0.1,
        "y": 0.1
       },
       "content": {
        "cell": "d526879a-a007-4e6a-bc27-00fcaea039f5",
        "part": "whole"
       },
       "id": "71804b97-359b-4dda-99f1-3b9e6b594124"
      }
     }
    },
    "6d81cc5f-5fe9-4a98-ab00-2b477126b6ca": {
     "id": "6d81cc5f-5fe9-4a98-ab00-2b477126b6ca",
     "prev": "e7af58b5-7979-4aae-9182-4e89d13c2894",
     "regions": {
      "7c6782ac-36d6-49ca-8549-c8ed85a13138": {
       "attrs": {
        "height": 0.8,
        "width": 0.8,
        "x": 0.1,
        "y": 0.1
       },
       "content": {
        "cell": "345cf804-e3ca-45e6-885d-6b9cf6b12a23",
        "part": "whole"
       },
       "id": "7c6782ac-36d6-49ca-8549-c8ed85a13138"
      }
     }
    },
    "780ff69a-f934-4213-8bc2-cf4753d178b7": {
     "id": "780ff69a-f934-4213-8bc2-cf4753d178b7",
     "prev": "ab456d05-c756-49a0-bba5-ebc9230e56c6",
     "regions": {
      "63059139-301e-4a4a-93ec-29e2fac8d58d": {
       "attrs": {
        "height": 0.8,
        "width": 0.8,
        "x": 0.1,
        "y": 0.1
       },
       "content": {
        "cell": "e5f3d7f1-9b8c-4dc6-b24c-f00faa4e3468",
        "part": "whole"
       },
       "id": "63059139-301e-4a4a-93ec-29e2fac8d58d"
      }
     }
    },
    "7c79b404-7ece-40e5-9c46-775b9fde4bbc": {
     "id": "7c79b404-7ece-40e5-9c46-775b9fde4bbc",
     "prev": "d582a04c-c1b9-453e-8031-b0beb468f4e9",
     "regions": {
      "388d921d-7cc7-4423-8441-f9c960252901": {
       "attrs": {
        "height": 0.8,
        "width": 0.8,
        "x": 0.1,
        "y": 0.1
       },
       "content": {
        "cell": "84da828d-9e82-4d30-a415-548d86401f95",
        "part": "whole"
       },
       "id": "388d921d-7cc7-4423-8441-f9c960252901"
      }
     }
    },
    "7e768b9a-5506-4ea0-9bb7-35a016a136dd": {
     "id": "7e768b9a-5506-4ea0-9bb7-35a016a136dd",
     "prev": "12e103f0-6f28-485c-a5e9-32cc9b6ca8cd",
     "regions": {
      "00ca0932-363c-4824-8fc1-b0c01e183c67": {
       "attrs": {
        "height": 0.8,
        "width": 0.8,
        "x": 0.1,
        "y": 0.1
       },
       "content": {
        "cell": "a47ed453-7e75-4cb1-9d6a-5b6362e22ad2",
        "part": "whole"
       },
       "id": "00ca0932-363c-4824-8fc1-b0c01e183c67"
      }
     }
    },
    "8856d0de-1e7b-4822-a196-a311bf25b595": {
     "id": "8856d0de-1e7b-4822-a196-a311bf25b595",
     "prev": "5565bcdd-bfbe-4350-8b30-9e51cc9b8642",
     "regions": {
      "4ec84edc-2af7-4955-9e70-b022723ed40c": {
       "attrs": {
        "height": 0.8,
        "width": 0.8,
        "x": 0.1,
        "y": 0.1
       },
       "content": {
        "cell": "1312507d-8475-45b6-a4d2-9ac73d06ae2c",
        "part": "whole"
       },
       "id": "4ec84edc-2af7-4955-9e70-b022723ed40c"
      }
     }
    },
    "9d102a64-490c-4e5d-9c42-8f129161c964": {
     "id": "9d102a64-490c-4e5d-9c42-8f129161c964",
     "prev": "780ff69a-f934-4213-8bc2-cf4753d178b7",
     "regions": {
      "6d606f65-4b71-4700-aafb-f6cf23030f69": {
       "attrs": {
        "height": 0.8,
        "width": 0.8,
        "x": 0.1,
        "y": 0.1
       },
       "content": {
        "cell": "522dfb56-eb7c-44a9-a404-cff0c26bf2de",
        "part": "whole"
       },
       "id": "6d606f65-4b71-4700-aafb-f6cf23030f69"
      }
     }
    },
    "ab456d05-c756-49a0-bba5-ebc9230e56c6": {
     "id": "ab456d05-c756-49a0-bba5-ebc9230e56c6",
     "prev": "d76a2aac-9aee-46da-8cf8-8d4d50dcabde",
     "regions": {
      "73c0f301-940e-4f19-9c3b-0b3148384f6c": {
       "attrs": {
        "height": 0.8,
        "width": 0.8,
        "x": 0.1,
        "y": 0.1
       },
       "content": {
        "cell": "ce3544ab-0ff0-42f4-9b8b-19a3a355be4e",
        "part": "whole"
       },
       "id": "73c0f301-940e-4f19-9c3b-0b3148384f6c"
      }
     }
    },
    "ab7f5f1f-a42d-466d-a237-1673e0a9e42d": {
     "id": "ab7f5f1f-a42d-466d-a237-1673e0a9e42d",
     "prev": "7e768b9a-5506-4ea0-9bb7-35a016a136dd",
     "regions": {
      "e1fd14c2-7d8f-4c3c-a52d-390b116246f1": {
       "attrs": {
        "height": 0.8,
        "width": 0.8,
        "x": 0.1,
        "y": 0.1
       },
       "content": {
        "cell": "bb8310f0-902a-4896-95db-e28800c3e163",
        "part": "whole"
       },
       "id": "e1fd14c2-7d8f-4c3c-a52d-390b116246f1"
      }
     }
    },
    "b96c503f-a8e1-4cb7-9e49-8336789f1002": {
     "id": "b96c503f-a8e1-4cb7-9e49-8336789f1002",
     "prev": "0af81e1b-0310-4564-b0f7-0d0b4886e446",
     "regions": {
      "246dd3d4-c07d-434c-a64c-640dfe04afa7": {
       "attrs": {
        "height": 0.8,
        "width": 0.8,
        "x": 0.1,
        "y": 0.1
       },
       "content": {
        "cell": "5910d1ef-976c-47c6-8457-c04b80c3d68d",
        "part": "whole"
       },
       "id": "246dd3d4-c07d-434c-a64c-640dfe04afa7"
      }
     }
    },
    "bb13e75d-58bd-441a-9eb2-a0a7ebf2ffb2": {
     "id": "bb13e75d-58bd-441a-9eb2-a0a7ebf2ffb2",
     "prev": null,
     "regions": {
      "a4c7eda2-7b5f-49fc-a130-036fd1b6073f": {
       "attrs": {
        "height": 0.8,
        "width": 0.8,
        "x": 0.1,
        "y": 0.1
       },
       "content": {
        "cell": "773fba7a-c5e5-409c-a149-7303dfa4d39c",
        "part": "whole"
       },
       "id": "a4c7eda2-7b5f-49fc-a130-036fd1b6073f"
      }
     }
    },
    "bd47f2d6-75fe-41eb-b300-4aae78098289": {
     "id": "bd47f2d6-75fe-41eb-b300-4aae78098289",
     "prev": "0b119cbe-25ac-48e2-8255-c1364345c80f",
     "regions": {
      "b6db575c-ebf4-48a4-9666-c7184ad9c4d5": {
       "attrs": {
        "height": 0.8,
        "width": 0.8,
        "x": 0.1,
        "y": 0.1
       },
       "content": {
        "cell": "91ec0bee-383e-483f-8d8b-607732d25167",
        "part": "whole"
       },
       "id": "b6db575c-ebf4-48a4-9666-c7184ad9c4d5"
      }
     }
    },
    "cc5c8545-ebab-4686-ba51-928b499e8739": {
     "id": "cc5c8545-ebab-4686-ba51-928b499e8739",
     "prev": "ab7f5f1f-a42d-466d-a237-1673e0a9e42d",
     "regions": {
      "680f835a-2588-40dd-8bd8-64399e029ca4": {
       "attrs": {
        "height": 0.8,
        "width": 0.8,
        "x": 0.1,
        "y": 0.1
       },
       "content": {
        "cell": "ddb5c27c-c8f2-43d9-a514-7cc5b2d98137",
        "part": "whole"
       },
       "id": "680f835a-2588-40dd-8bd8-64399e029ca4"
      }
     }
    },
    "cdb701a9-c5eb-4518-90c6-cf7268ffed66": {
     "id": "cdb701a9-c5eb-4518-90c6-cf7268ffed66",
     "prev": "ebc2f977-527e-410c-b988-9d1b0e4db9bf",
     "regions": {
      "92bd7319-b494-4375-b272-2f93f42d3df5": {
       "attrs": {
        "height": 0.8,
        "width": 0.8,
        "x": 0.1,
        "y": 0.1
       },
       "content": {
        "cell": "ea2a164b-99a3-4536-b901-c403b77d871b",
        "part": "whole"
       },
       "id": "92bd7319-b494-4375-b272-2f93f42d3df5"
      }
     }
    },
    "d582a04c-c1b9-453e-8031-b0beb468f4e9": {
     "id": "d582a04c-c1b9-453e-8031-b0beb468f4e9",
     "prev": "bb13e75d-58bd-441a-9eb2-a0a7ebf2ffb2",
     "regions": {
      "cb893213-d4fd-402b-b39b-7ced35b76570": {
       "attrs": {
        "height": 0.8,
        "width": 0.8,
        "x": 0.1,
        "y": 0.1
       },
       "content": {
        "cell": "34d1a3cb-b3d1-4b63-8209-33bb65e4bb4c",
        "part": "whole"
       },
       "id": "cb893213-d4fd-402b-b39b-7ced35b76570"
      }
     }
    },
    "d76a2aac-9aee-46da-8cf8-8d4d50dcabde": {
     "id": "d76a2aac-9aee-46da-8cf8-8d4d50dcabde",
     "prev": "cdb701a9-c5eb-4518-90c6-cf7268ffed66",
     "regions": {
      "b7fda3de-4171-432d-8de5-b03ab80ea9c9": {
       "attrs": {
        "height": 0.8,
        "width": 0.8,
        "x": 0.1,
        "y": 0.1
       },
       "content": {
        "cell": "b5325cef-c0dc-4121-8cf7-e3a6cbd1949a",
        "part": "whole"
       },
       "id": "b7fda3de-4171-432d-8de5-b03ab80ea9c9"
      }
     }
    },
    "e7af58b5-7979-4aae-9182-4e89d13c2894": {
     "id": "e7af58b5-7979-4aae-9182-4e89d13c2894",
     "prev": "8856d0de-1e7b-4822-a196-a311bf25b595",
     "regions": {
      "3eaca3b5-fbe3-4f8c-8d19-c1ba4c0eb7a8": {
       "attrs": {
        "height": 0.8,
        "width": 0.8,
        "x": 0.1,
        "y": 0.1
       },
       "content": {
        "cell": "47e97c4e-bc49-48a3-b9cd-6d37168a9c7a",
        "part": "whole"
       },
       "id": "3eaca3b5-fbe3-4f8c-8d19-c1ba4c0eb7a8"
      }
     }
    },
    "e8629788-4a56-4d41-8070-1562727b33c3": {
     "id": "e8629788-4a56-4d41-8070-1562727b33c3",
     "prev": "f63d36a5-d806-46c7-a196-4a26308d68a4",
     "regions": {
      "37891140-7f89-4bbd-90e1-7bcf0e789625": {
       "attrs": {
        "height": 0.8,
        "width": 0.8,
        "x": 0.1,
        "y": 0.1
       },
       "content": {
        "cell": "9bf9349a-2ef9-4295-a0b8-9be28e3b4751",
        "part": "whole"
       },
       "id": "37891140-7f89-4bbd-90e1-7bcf0e789625"
      }
     }
    },
    "e90ba40b-a1cc-4c29-a53d-22ba5b434f40": {
     "id": "e90ba40b-a1cc-4c29-a53d-22ba5b434f40",
     "prev": "03d3923b-bc52-421a-82e9-9393bcc2924c",
     "regions": {
      "9e8c4dc0-1e4b-45d8-b493-fbe58e7f8eda": {
       "attrs": {
        "height": 0.8,
        "width": 0.8,
        "x": 0.1,
        "y": 0.1
       },
       "content": {
        "cell": "5b48eed0-bae6-43f6-b23b-a70d21a29a56",
        "part": "whole"
       },
       "id": "9e8c4dc0-1e4b-45d8-b493-fbe58e7f8eda"
      }
     }
    },
    "ebc2f977-527e-410c-b988-9d1b0e4db9bf": {
     "id": "ebc2f977-527e-410c-b988-9d1b0e4db9bf",
     "prev": "6d81cc5f-5fe9-4a98-ab00-2b477126b6ca",
     "regions": {
      "e16a876a-91b3-4ff2-82e4-7b2cabc5072f": {
       "attrs": {
        "height": 0.8,
        "width": 0.8,
        "x": 0.1,
        "y": 0.1
       },
       "content": {
        "cell": "d73f25bc-6ffe-4b54-a4b5-d9d26881350b",
        "part": "whole"
       },
       "id": "e16a876a-91b3-4ff2-82e4-7b2cabc5072f"
      }
     }
    },
    "f63d36a5-d806-46c7-a196-4a26308d68a4": {
     "id": "f63d36a5-d806-46c7-a196-4a26308d68a4",
     "prev": "bd47f2d6-75fe-41eb-b300-4aae78098289",
     "regions": {
      "55fd5589-999b-4a39-816f-6422c06a8325": {
       "attrs": {
        "height": 0.8,
        "width": 0.8,
        "x": 0.1,
        "y": 0.1
       },
       "content": {
        "cell": "98f5da30-a0ab-4b72-8459-54900c332950",
        "part": "whole"
       },
       "id": "55fd5589-999b-4a39-816f-6422c06a8325"
      }
     }
    }
   },
   "themes": {
    "default": "f0a24b30-f4cf-455f-ae04-8bdb5efb1949",
    "theme": {
     "7a04efb0-82c0-4bb8-974f-c2e65dbddab9": {
      "backgrounds": {
       "backgroundColor": {
        "background-color": "backgroundColor",
        "id": "backgroundColor"
       }
      },
      "id": "7a04efb0-82c0-4bb8-974f-c2e65dbddab9",
      "palette": {
       "backgroundColor": {
        "id": "backgroundColor",
        "rgb": [
         34,
         34,
         34
        ]
       },
       "headingColor": {
        "id": "headingColor",
        "rgb": [
         256,
         256,
         256
        ]
       },
       "linkColor": {
        "id": "linkColor",
        "rgb": [
         66,
         175,
         250
        ]
       },
       "mainColor": {
        "id": "mainColor",
        "rgb": [
         256,
         256,
         256
        ]
       }
      },
      "rules": {
       "a": {
        "color": "linkColor"
       },
       "h1": {
        "color": "headingColor",
        "font-family": "Source Sans Pro",
        "font-size": 5.25
       },
       "h2": {
        "color": "headingColor",
        "font-family": "Source Sans Pro",
        "font-size": 4
       },
       "h3": {
        "color": "headingColor",
        "font-family": "Source Sans Pro",
        "font-size": 3.5
       },
       "h4": {
        "color": "headingColor",
        "font-family": "Source Sans Pro",
        "font-size": 3
       },
       "h5": {
        "color": "headingColor",
        "font-family": "Source Sans Pro"
       },
       "h6": {
        "color": "headingColor",
        "font-family": "Source Sans Pro"
       },
       "h7": {
        "color": "headingColor",
        "font-family": "Source Sans Pro"
       },
       "li": {
        "color": "mainColor",
        "font-family": "Source Sans Pro",
        "font-size": 6
       },
       "p": {
        "color": "mainColor",
        "font-family": "Source Sans Pro",
        "font-size": 6
       }
      },
      "text-base": {
       "color": "mainColor",
       "font-family": "Source Sans Pro",
       "font-size": 6
      }
     },
     "f0a24b30-f4cf-455f-ae04-8bdb5efb1949": {
      "backgrounds": {
       "backgroundColor": {
        "background-color": "backgroundColor",
        "id": "backgroundColor"
       }
      },
      "id": "f0a24b30-f4cf-455f-ae04-8bdb5efb1949",
      "palette": {
       "backgroundColor": {
        "id": "backgroundColor",
        "rgb": [
         256,
         256,
         256
        ]
       },
       "headingColor": {
        "id": "headingColor",
        "rgb": [
         0,
         0,
         0
        ]
       },
       "linkColor": {
        "id": "linkColor",
        "rgb": [
         0,
         0,
         139
        ]
       },
       "mainColor": {
        "id": "mainColor",
        "rgb": [
         0,
         0,
         0
        ]
       }
      },
      "rules": {
       "a": {
        "color": "linkColor"
       },
       "h1": {
        "color": "headingColor",
        "font-family": "News Cycle",
        "font-size": 7
       },
       "h2": {
        "color": "headingColor",
        "font-family": "News Cycle",
        "font-size": 5
       },
       "h3": {
        "color": "headingColor",
        "font-family": "News Cycle",
        "font-size": 3.75
       },
       "h4": {
        "color": "headingColor",
        "font-family": "News Cycle",
        "font-size": 3
       },
       "h5": {
        "color": "headingColor",
        "font-family": "News Cycle"
       },
       "h6": {
        "color": "headingColor",
        "font-family": "News Cycle"
       },
       "h7": {
        "color": "headingColor",
        "font-family": "News Cycle"
       },
       "li": {
        "color": "mainColor",
        "font-family": "Lato",
        "font-size": 5
       },
       "p": {
        "color": "mainColor",
        "font-family": "Lato",
        "font-size": 5
       }
      },
      "text-base": {
       "color": "mainColor",
       "font-family": "Lato",
       "font-size": 5
      }
     }
    }
   }
  }
 },
 "nbformat": 4,
 "nbformat_minor": 1
}
