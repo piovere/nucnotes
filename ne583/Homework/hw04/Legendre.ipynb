{
 "cells": [
  {
   "cell_type": "markdown",
   "metadata": {},
   "source": [
    "# Homework 1"
   ]
  },
  {
   "cell_type": "code",
   "execution_count": 1,
   "metadata": {},
   "outputs": [],
   "source": [
    "from scipy.special import legendre\n",
    "from scipy.integrate import trapz\n",
    "from numpy import exp, linspace\n",
    "import numpy as np\n",
    "import matplotlib.pyplot as plt"
   ]
  },
  {
   "cell_type": "code",
   "execution_count": 2,
   "metadata": {},
   "outputs": [],
   "source": [
    "def coefficient(order):\n",
    "    x = linspace(-1, 1, 10000)\n",
    "    c = 0.5 * trapz(exp(-x) * legendre(order)(x), x)\n",
    "    return c"
   ]
  },
  {
   "cell_type": "code",
   "execution_count": 3,
   "metadata": {},
   "outputs": [
    {
     "data": {
      "text/plain": [
       "1.1752011975619223"
      ]
     },
     "execution_count": 3,
     "metadata": {},
     "output_type": "execute_result"
    }
   ],
   "source": [
    "coefficient(0)"
   ]
  },
  {
   "cell_type": "code",
   "execution_count": 4,
   "metadata": {},
   "outputs": [
    {
     "data": {
      "text/plain": [
       "-0.36787945023419416"
      ]
     },
     "execution_count": 4,
     "metadata": {},
     "output_type": "execute_result"
    }
   ],
   "source": [
    "coefficient(1)"
   ]
  },
  {
   "cell_type": "code",
   "execution_count": 5,
   "metadata": {},
   "outputs": [
    {
     "data": {
      "text/plain": [
       "0.07156288948148833"
      ]
     },
     "execution_count": 5,
     "metadata": {},
     "output_type": "execute_result"
    }
   ],
   "source": [
    "coefficient(2)"
   ]
  },
  {
   "cell_type": "code",
   "execution_count": 11,
   "metadata": {},
   "outputs": [],
   "source": [
    "def error(order):\n",
    "    x = linspace(-1, 1, 1000000)\n",
    "    p = approx(x, order)\n",
    "    t = exp(-x)\n",
    "    e = (p - t) / t\n",
    "    return max(e)"
   ]
  },
  {
   "cell_type": "code",
   "execution_count": 7,
   "metadata": {},
   "outputs": [
    {
     "data": {
      "text/plain": [
       "0.6800059694498818"
      ]
     },
     "execution_count": 7,
     "metadata": {},
     "output_type": "execute_result"
    }
   ],
   "source": [
    "error(10)"
   ]
  },
  {
   "cell_type": "code",
   "execution_count": 8,
   "metadata": {},
   "outputs": [],
   "source": [
    "def approx(x, order):\n",
    "    ans = 0\n",
    "    cs = [coefficient(i) for i in range(order+1)]\n",
    "    ls = [legendre(i)(x) for i in range(order+1)]\n",
    "    return np.array(cs) @ np.array(ls)"
   ]
  },
  {
   "cell_type": "code",
   "execution_count": 9,
   "metadata": {},
   "outputs": [],
   "source": [
    "def approx_plot(order):\n",
    "    x = linspace(-1, 1, 1000)\n",
    "    plt.plot(x, approx(x, order))\n",
    "    plt.plot(x, exp(x))\n",
    "    plt.show()"
   ]
  },
  {
   "cell_type": "code",
   "execution_count": 10,
   "metadata": {},
   "outputs": [
    {
     "data": {
      "image/png": "[encoded data removed]",
      "text/plain": [
       "<Figure size 432x288 with 4 Axes>"
      ]
     },
     "metadata": {
      "needs_background": "light"
     },
     "output_type": "display_data"
    }
   ],
   "source": [
    "f = plt.figure()\n",
    "\n",
    "x = linspace(-1, 1, 1000)\n",
    "\n",
    "ax1 = f.add_subplot(221)\n",
    "ax1.plot(x, approx(x, 0))\n",
    "ax1.plot(x, exp(-x))\n",
    "ax1.set_title('Order 0')\n",
    "\n",
    "ax2 = f.add_subplot(222)\n",
    "ax2.plot(x, approx(x, 5))\n",
    "ax2.plot(x, exp(-x))\n",
    "ax2.set_title('Order 5')\n",
    "\n",
    "ax3 = f.add_subplot(223)\n",
    "ax3.plot(x, approx(x, 10))\n",
    "ax3.plot(x, exp(-x))\n",
    "ax3.set_title('Order 10')\n",
    "\n",
    "ax4 = f.add_subplot(224)\n",
    "ax4.plot(x, approx(x, 50))\n",
    "ax4.plot(x, exp(-x))\n",
    "ax4.set_title('Order 50')\n",
    "\n",
    "plt.subplots_adjust(top=0.92, bottom=0.08, hspace=0.35)\n",
    "\n",
    "plt.show()\n"
   ]
  },
  {
   "cell_type": "code",
   "execution_count": 18,
   "metadata": {},
   "outputs": [
    {
     "data": {
      "image/png": "[encoded data removed]",
      "text/plain": [
       "<Figure size 432x288 with 1 Axes>"
      ]
     },
     "metadata": {
      "needs_background": "light"
     },
     "output_type": "display_data"
    }
   ],
   "source": [
    "for i in range(10):\n",
    "    plt.bar(x = i, height=error(i), width=0.5)\n",
    "plt.ylabel('Error, %')\n",
    "plt.xlabel('Polynomial order')\n",
    "plt.show()"
   ]
  },
  {
   "cell_type": "code",
   "execution_count": null,
   "metadata": {},
   "outputs": [],
   "source": []
  }
 ],
 "metadata": {
  "kernelspec": {
   "display_name": "Python [conda env:579]",
   "language": "python",
   "name": "conda-env-579-py"
  },
  "language_info": {
   "codemirror_mode": {
    "name": "ipython",
    "version": 3
   },
   "file_extension": ".py",
   "mimetype": "text/x-python",
   "name": "python",
   "nbconvert_exporter": "python",
   "pygments_lexer": "ipython3",
   "version": "3.6.6"
  }
 },
 "nbformat": 4,
 "nbformat_minor": 2
}
