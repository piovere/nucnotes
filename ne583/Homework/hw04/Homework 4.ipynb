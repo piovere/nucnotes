{
 "cells": [
  {
   "cell_type": "code",
   "execution_count": 1,
   "metadata": {},
   "outputs": [
    {
     "name": "stderr",
     "output_type": "stream",
     "text": [
      "/Users/jrpowers-luhn/miniconda3/envs/579/lib/python3.6/importlib/_bootstrap.py:219: RuntimeWarning: numpy.dtype size changed, may indicate binary incompatibility. Expected 96, got 88\n",
      "  return f(*args, **kwds)\n",
      "/Users/jrpowers-luhn/miniconda3/envs/579/lib/python3.6/importlib/_bootstrap.py:219: RuntimeWarning: numpy.dtype size changed, may indicate binary incompatibility. Expected 96, got 88\n",
      "  return f(*args, **kwds)\n"
     ]
    }
   ],
   "source": [
    "import pandas as pd\n",
    "import numpy as np\n",
    "import numpy.linalg as la"
   ]
  },
  {
   "cell_type": "markdown",
   "metadata": {},
   "source": [
    "# Find the $\\lambda$, $B^2$, and $\\alpha$ eigenvalues for infinite medium cross sections"
   ]
  },
  {
   "cell_type": "code",
   "execution_count": 15,
   "metadata": {},
   "outputs": [],
   "source": [
    "m = np.array([\n",
    "    [1, 0.0055, 0.072, 2, 2.2e9, 0.07, 0, 0],\n",
    "    [0, 0.068, 0.20, 0.7, 3.2e8, 0, 0.13, 0],\n",
    "    [0, 2.48, 2.02, 0.2, 2.7e7, 0, 0, 0.58],\n",
    "    [0, 2.00, 1.0, 0.3, 2.5e5, 0, 0, 0]\n",
    "])\n",
    "cols = ['chi', 'nu-sigma_f', 'sigma-a', 'D', 'v', 's->1', 's->2', 's->3']\n",
    "df = pd.DataFrame(m, columns=cols)"
   ]
  },
  {
   "cell_type": "code",
   "execution_count": 16,
   "metadata": {},
   "outputs": [
    {
     "data": {
      "text/html": [
       "<div>\n",
       "<style scoped>\n",
       "    .dataframe tbody tr th:only-of-type {\n",
       "        vertical-align: middle;\n",
       "    }\n",
       "\n",
       "    .dataframe tbody tr th {\n",
       "        vertical-align: top;\n",
       "    }\n",
       "\n",
       "    .dataframe thead th {\n",
       "        text-align: right;\n",
       "    }\n",
       "</style>\n",
       "<table border=\"1\" class=\"dataframe\">\n",
       "  <thead>\n",
       "    <tr style=\"text-align: right;\">\n",
       "      <th></th>\n",
       "      <th>chi</th>\n",
       "      <th>nu-sigma_f</th>\n",
       "      <th>sigma-a</th>\n",
       "      <th>D</th>\n",
       "      <th>v</th>\n",
       "      <th>s-&gt;1</th>\n",
       "      <th>s-&gt;2</th>\n",
       "      <th>s-&gt;3</th>\n",
       "    </tr>\n",
       "  </thead>\n",
       "  <tbody>\n",
       "    <tr>\n",
       "      <th>0</th>\n",
       "      <td>1.0</td>\n",
       "      <td>0.0055</td>\n",
       "      <td>0.072</td>\n",
       "      <td>2.0</td>\n",
       "      <td>2.200000e+09</td>\n",
       "      <td>0.07</td>\n",
       "      <td>0.00</td>\n",
       "      <td>0.00</td>\n",
       "    </tr>\n",
       "    <tr>\n",
       "      <th>1</th>\n",
       "      <td>0.0</td>\n",
       "      <td>0.0680</td>\n",
       "      <td>0.200</td>\n",
       "      <td>0.7</td>\n",
       "      <td>3.200000e+08</td>\n",
       "      <td>0.00</td>\n",
       "      <td>0.13</td>\n",
       "      <td>0.00</td>\n",
       "    </tr>\n",
       "    <tr>\n",
       "      <th>2</th>\n",
       "      <td>0.0</td>\n",
       "      <td>2.4800</td>\n",
       "      <td>2.020</td>\n",
       "      <td>0.2</td>\n",
       "      <td>2.700000e+07</td>\n",
       "      <td>0.00</td>\n",
       "      <td>0.00</td>\n",
       "      <td>0.58</td>\n",
       "    </tr>\n",
       "    <tr>\n",
       "      <th>3</th>\n",
       "      <td>0.0</td>\n",
       "      <td>2.0000</td>\n",
       "      <td>1.000</td>\n",
       "      <td>0.3</td>\n",
       "      <td>2.500000e+05</td>\n",
       "      <td>0.00</td>\n",
       "      <td>0.00</td>\n",
       "      <td>0.00</td>\n",
       "    </tr>\n",
       "  </tbody>\n",
       "</table>\n",
       "</div>"
      ],
      "text/plain": [
       "   chi  nu-sigma_f  sigma-a    D             v  s->1  s->2  s->3\n",
       "0  1.0      0.0055    0.072  2.0  2.200000e+09  0.07  0.00  0.00\n",
       "1  0.0      0.0680    0.200  0.7  3.200000e+08  0.00  0.13  0.00\n",
       "2  0.0      2.4800    2.020  0.2  2.700000e+07  0.00  0.00  0.58\n",
       "3  0.0      2.0000    1.000  0.3  2.500000e+05  0.00  0.00  0.00"
      ]
     },
     "execution_count": 16,
     "metadata": {},
     "output_type": "execute_result"
    }
   ],
   "source": [
    "df"
   ]
  },
  {
   "cell_type": "markdown",
   "metadata": {},
   "source": [
    "# Base Equation"
   ]
  },
  {
   "cell_type": "markdown",
   "metadata": {},
   "source": [
    "$\\sigma_{ag} \\phi_g = \\chi_g + \\sigma_s^{(g-1) \\rightarrow g}$"
   ]
  },
  {
   "cell_type": "markdown",
   "metadata": {},
   "source": [
    "$\\lambda = k_{eff} = \\sum_{g^\\prime = 0}^{3} \\nu \\sigma_{g^\\prime} \\phi_{g^\\prime}$"
   ]
  },
  {
   "cell_type": "markdown",
   "metadata": {},
   "source": [
    "# Solve for $\\lambda$"
   ]
  },
  {
   "cell_type": "code",
   "execution_count": 6,
   "metadata": {},
   "outputs": [],
   "source": [
    "# Initial guess for flux (for each group)\n",
    "flux = np.ones(4)"
   ]
  },
  {
   "cell_type": "code",
   "execution_count": 10,
   "metadata": {},
   "outputs": [
    {
     "name": "stdout",
     "output_type": "stream",
     "text": [
      "[[0.072 0.    0.    0.   ]\n",
      " [0.    0.2   0.    0.   ]\n",
      " [0.    0.    2.02  0.   ]\n",
      " [0.    0.    0.    1.   ]]\n"
     ]
    }
   ],
   "source": [
    "abs_matrix = np.diag(df['sigma-a'])\n",
    "print(abs_matrix)"
   ]
  },
  {
   "cell_type": "code",
   "execution_count": 12,
   "metadata": {},
   "outputs": [
    {
     "name": "stdout",
     "output_type": "stream",
     "text": [
      "[0.072 0.2   2.02  1.   ]\n",
      "[[1. 0. 0. 0.]\n",
      " [0. 1. 0. 0.]\n",
      " [0. 0. 1. 0.]\n",
      " [0. 0. 0. 1.]]\n"
     ]
    }
   ],
   "source": [
    "for i in la.eig(abs_matrix):\n",
    "    print(i)"
   ]
  },
  {
   "cell_type": "code",
   "execution_count": 17,
   "metadata": {},
   "outputs": [],
   "source": [
    "production_matrix = np.array([\n",
    "    df['nu-sigma_f'],\n",
    "    df['s->1'],\n",
    "    df['s->2'],\n",
    "    df['s->3']\n",
    "])"
   ]
  },
  {
   "cell_type": "code",
   "execution_count": 18,
   "metadata": {},
   "outputs": [
    {
     "data": {
      "text/plain": [
       "array([[0.0055, 0.068 , 2.48  , 2.    ],\n",
       "       [0.07  , 0.    , 0.    , 0.    ],\n",
       "       [0.    , 0.13  , 0.    , 0.    ],\n",
       "       [0.    , 0.    , 0.58  , 0.    ]])"
      ]
     },
     "execution_count": 18,
     "metadata": {},
     "output_type": "execute_result"
    }
   ],
   "source": [
    "production_matrix"
   ]
  },
  {
   "cell_type": "code",
   "execution_count": 19,
   "metadata": {},
   "outputs": [
    {
     "name": "stdout",
     "output_type": "stream",
     "text": [
      "[ 0.37610698+0.j         -0.05345627+0.32183545j -0.05345627-0.32183545j\n",
      " -0.26369443+0.j        ]\n",
      "[[-0.97654211+0.j         -0.96383558+0.j         -0.96383558-0.j\n",
      "   0.92432141+0.j        ]\n",
      " [-0.18175134+0.j          0.0338854 +0.2040083j   0.0338854 -0.2040083j\n",
      "  -0.24536923+0.j        ]\n",
      " [-0.06282168+0.j          0.07798087-0.02663992j  0.07798087+0.02663992j\n",
      "   0.12096577+0.j        ]\n",
      " [-0.09687823+0.j         -0.06943631-0.12900101j -0.06943631+0.12900101j\n",
      "  -0.26606609+0.j        ]]\n"
     ]
    }
   ],
   "source": [
    "for i in la.eig(production_matrix):\n",
    "    print(i)"
   ]
  },
  {
   "cell_type": "code",
   "execution_count": null,
   "metadata": {},
   "outputs": [],
   "source": []
  }
 ],
 "metadata": {
  "kernelspec": {
   "display_name": "Python [conda env:579]",
   "language": "python",
   "name": "conda-env-579-py"
  },
  "language_info": {
   "codemirror_mode": {
    "name": "ipython",
    "version": 3
   },
   "file_extension": ".py",
   "mimetype": "text/x-python",
   "name": "python",
   "nbconvert_exporter": "python",
   "pygments_lexer": "ipython3",
   "version": "3.6.6"
  }
 },
 "nbformat": 4,
 "nbformat_minor": 2
}
