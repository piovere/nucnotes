{
 "cells": [
  {
   "cell_type": "code",
   "execution_count": 1,
   "metadata": {},
   "outputs": [],
   "source": [
    "import pandas as pd\n",
    "import numpy as np\n",
    "import numpy.linalg as la\n",
    "import pprint\n",
    "pp = pprint.PrettyPrinter(indent=4)"
   ]
  },
  {
   "cell_type": "markdown",
   "metadata": {},
   "source": [
    "# Find the $\\lambda$, $B^2$, and $\\alpha$ eigenvalues for infinite medium cross sections"
   ]
  },
  {
   "cell_type": "code",
   "execution_count": 2,
   "metadata": {},
   "outputs": [],
   "source": [
    "m = np.array([\n",
    "    [1, 0.0055, 0.072, 2, 2.2e9, 0.07, 0, 0],\n",
    "    [0, 0.068, 0.20, 0.7, 3.2e8, 0, 0.13, 0],\n",
    "    [0, 2.48, 2.02, 0.2, 2.7e7, 0, 0, 0.58],\n",
    "    [0, 2.00, 1.0, 0.3, 2.5e5, 0, 0, 0]\n",
    "])\n",
    "cols = ['chi', 'nu-sigma_f', 'sigma-a', 'D', 'v', 's->1', 's->2', 's->3']\n",
    "df = pd.DataFrame(m, columns=cols)"
   ]
  },
  {
   "cell_type": "code",
   "execution_count": 3,
   "metadata": {},
   "outputs": [
    {
     "data": {
      "text/html": [
       "<div>\n",
       "<style scoped>\n",
       "    .dataframe tbody tr th:only-of-type {\n",
       "        vertical-align: middle;\n",
       "    }\n",
       "\n",
       "    .dataframe tbody tr th {\n",
       "        vertical-align: top;\n",
       "    }\n",
       "\n",
       "    .dataframe thead th {\n",
       "        text-align: right;\n",
       "    }\n",
       "</style>\n",
       "<table border=\"1\" class=\"dataframe\">\n",
       "  <thead>\n",
       "    <tr style=\"text-align: right;\">\n",
       "      <th></th>\n",
       "      <th>chi</th>\n",
       "      <th>nu-sigma_f</th>\n",
       "      <th>sigma-a</th>\n",
       "      <th>D</th>\n",
       "      <th>v</th>\n",
       "      <th>s-&gt;1</th>\n",
       "      <th>s-&gt;2</th>\n",
       "      <th>s-&gt;3</th>\n",
       "    </tr>\n",
       "  </thead>\n",
       "  <tbody>\n",
       "    <tr>\n",
       "      <th>0</th>\n",
       "      <td>1.0</td>\n",
       "      <td>0.0055</td>\n",
       "      <td>0.072</td>\n",
       "      <td>2.0</td>\n",
       "      <td>2.200000e+09</td>\n",
       "      <td>0.07</td>\n",
       "      <td>0.00</td>\n",
       "      <td>0.00</td>\n",
       "    </tr>\n",
       "    <tr>\n",
       "      <th>1</th>\n",
       "      <td>0.0</td>\n",
       "      <td>0.0680</td>\n",
       "      <td>0.200</td>\n",
       "      <td>0.7</td>\n",
       "      <td>3.200000e+08</td>\n",
       "      <td>0.00</td>\n",
       "      <td>0.13</td>\n",
       "      <td>0.00</td>\n",
       "    </tr>\n",
       "    <tr>\n",
       "      <th>2</th>\n",
       "      <td>0.0</td>\n",
       "      <td>2.4800</td>\n",
       "      <td>2.020</td>\n",
       "      <td>0.2</td>\n",
       "      <td>2.700000e+07</td>\n",
       "      <td>0.00</td>\n",
       "      <td>0.00</td>\n",
       "      <td>0.58</td>\n",
       "    </tr>\n",
       "    <tr>\n",
       "      <th>3</th>\n",
       "      <td>0.0</td>\n",
       "      <td>2.0000</td>\n",
       "      <td>1.000</td>\n",
       "      <td>0.3</td>\n",
       "      <td>2.500000e+05</td>\n",
       "      <td>0.00</td>\n",
       "      <td>0.00</td>\n",
       "      <td>0.00</td>\n",
       "    </tr>\n",
       "  </tbody>\n",
       "</table>\n",
       "</div>"
      ],
      "text/plain": [
       "   chi  nu-sigma_f  sigma-a    D             v  s->1  s->2  s->3\n",
       "0  1.0      0.0055    0.072  2.0  2.200000e+09  0.07  0.00  0.00\n",
       "1  0.0      0.0680    0.200  0.7  3.200000e+08  0.00  0.13  0.00\n",
       "2  0.0      2.4800    2.020  0.2  2.700000e+07  0.00  0.00  0.58\n",
       "3  0.0      2.0000    1.000  0.3  2.500000e+05  0.00  0.00  0.00"
      ]
     },
     "execution_count": 3,
     "metadata": {},
     "output_type": "execute_result"
    }
   ],
   "source": [
    "df"
   ]
  },
  {
   "cell_type": "markdown",
   "metadata": {},
   "source": [
    "# Base Equation"
   ]
  },
  {
   "cell_type": "markdown",
   "metadata": {},
   "source": [
    "$\\sigma_{ag} \\phi_g = \\chi_g + \\sigma_s^{(g-1) \\rightarrow g}$"
   ]
  },
  {
   "cell_type": "markdown",
   "metadata": {},
   "source": [
    "$\\lambda = k_{eff} = \\sum_{g^\\prime = 0}^{3} \\nu \\sigma_{g^\\prime} \\phi_{g^\\prime}$"
   ]
  },
  {
   "cell_type": "markdown",
   "metadata": {},
   "source": [
    "# Solve for $\\lambda$"
   ]
  },
  {
   "cell_type": "code",
   "execution_count": 4,
   "metadata": {},
   "outputs": [],
   "source": [
    "# Initial guess for flux (for each group)\n",
    "flux = np.ones(4)"
   ]
  },
  {
   "cell_type": "code",
   "execution_count": 5,
   "metadata": {},
   "outputs": [
    {
     "name": "stdout",
     "output_type": "stream",
     "text": [
      "array([[ 0.072,  0.   ,  0.   ,  0.   ],\n",
      "       [ 0.   ,  0.2  ,  0.   ,  0.   ],\n",
      "       [ 0.   ,  0.   ,  2.02 ,  0.   ],\n",
      "       [ 0.   ,  0.   ,  0.   ,  1.   ]])\n"
     ]
    }
   ],
   "source": [
    "abs_matrix = np.diag(df['sigma-a'])\n",
    "pp.pprint(abs_matrix)"
   ]
  },
  {
   "cell_type": "code",
   "execution_count": 6,
   "metadata": {},
   "outputs": [],
   "source": [
    "production_matrix = np.array([\n",
    "    df['nu-sigma_f'],\n",
    "    df['s->1'],\n",
    "    df['s->2'],\n",
    "    df['s->3']\n",
    "])"
   ]
  },
  {
   "cell_type": "code",
   "execution_count": 7,
   "metadata": {},
   "outputs": [
    {
     "name": "stdout",
     "output_type": "stream",
     "text": [
      "array([[ 0.0055,  0.068 ,  2.48  ,  2.    ],\n",
      "       [ 0.07  ,  0.    ,  0.    ,  0.    ],\n",
      "       [ 0.    ,  0.13  ,  0.    ,  0.    ],\n",
      "       [ 0.    ,  0.    ,  0.58  ,  0.    ]])\n"
     ]
    }
   ],
   "source": [
    "pp.pprint(production_matrix)"
   ]
  },
  {
   "cell_type": "code",
   "execution_count": 8,
   "metadata": {},
   "outputs": [
    {
     "name": "stdout",
     "output_type": "stream",
     "text": [
      "(   array([-2.06044964+0.j        , -0.46841098+1.15623055j,\n",
      "       -0.46841098-1.15623055j,  0.85934057+0.j        ]),\n",
      "    array([[-0.80522899+0.j        ,  0.91573087+0.j        ,\n",
      "         0.91573087-0.j        , -0.95747168+0.j        ],\n",
      "       [ 0.58069683+0.j        , -0.15012844+0.3705786j ,\n",
      "        -0.15012844-0.3705786j , -0.28797799+0.j        ],\n",
      "       [-0.07700225+0.j        , -0.02304942-0.02234238j,\n",
      "        -0.02304942+0.02234238j, -0.01592636+0.j        ],\n",
      "       [ 0.09202238+0.j        ,  0.02124513-0.00938732j,\n",
      "         0.02124513+0.00938732j, -0.00793798+0.j        ]]))\n"
     ]
    }
   ],
   "source": [
    "pp.pprint(la.eig(la.inv(production_matrix) @ abs_matrix))"
   ]
  },
  {
   "cell_type": "markdown",
   "metadata": {},
   "source": [
    "# $\\alpha$"
   ]
  },
  {
   "cell_type": "markdown",
   "metadata": {},
   "source": [
    "$\\alpha$ is inserted to \"bump up\" the absorption term such that $(\\frac{\\alpha}{v}+\\sigma_a)\\phi = (\\chi \\nu \\sigma_f + \\sigma_s^{g^\\prime \\rightarrow g}) \\phi$ is solved. This means that the eigenvalues of $\\chi \\nu \\sigma_f + \\sigma_s^{g^\\prime \\rightarrow g} - \\sigma_a$ are the $\\frac{\\alpha}{v}$ term and the eigenvectors are the flux."
   ]
  },
  {
   "cell_type": "code",
   "execution_count": 9,
   "metadata": {},
   "outputs": [],
   "source": [
    "alpha_matrix = production_matrix - abs_matrix"
   ]
  },
  {
   "cell_type": "code",
   "execution_count": 10,
   "metadata": {},
   "outputs": [
    {
     "data": {
      "text/plain": [
       "array([[-0.0665,  0.068 ,  2.48  ,  2.    ],\n",
       "       [ 0.07  , -0.2   ,  0.    ,  0.    ],\n",
       "       [ 0.    ,  0.13  , -2.02  ,  0.    ],\n",
       "       [ 0.    ,  0.    ,  0.58  , -1.    ]])"
      ]
     },
     "execution_count": 10,
     "metadata": {},
     "output_type": "execute_result"
    }
   ],
   "source": [
    "alpha_matrix"
   ]
  },
  {
   "cell_type": "code",
   "execution_count": 11,
   "metadata": {},
   "outputs": [
    {
     "data": {
      "text/plain": [
       "(array([-2.01655591,  0.02573986, -0.31036343, -0.98532052]),\n",
       " array([[ 0.51259883, -0.95490944,  0.84326884, -0.91140237],\n",
       "        [-0.01975272, -0.29610925, -0.5348585 ,  0.08123838],\n",
       "        [-0.74558152, -0.01881676, -0.0406704 ,  0.01020702],\n",
       "        [ 0.42539449, -0.01063985, -0.03420473,  0.4032888 ]]))"
      ]
     },
     "execution_count": 11,
     "metadata": {},
     "output_type": "execute_result"
    }
   ],
   "source": [
    "la.eig(alpha_matrix)"
   ]
  },
  {
   "cell_type": "markdown",
   "metadata": {},
   "source": [
    "We choose the largest eigenvalue, 0.0257, except that has negative flux values what does that even mean?"
   ]
  },
  {
   "cell_type": "code",
   "execution_count": 12,
   "metadata": {},
   "outputs": [],
   "source": [
    "v_mat = np.diag(df['v']**-1)"
   ]
  },
  {
   "cell_type": "code",
   "execution_count": 13,
   "metadata": {},
   "outputs": [
    {
     "data": {
      "text/plain": [
       "array([[  4.54545455e-10,   0.00000000e+00,   0.00000000e+00,\n",
       "          0.00000000e+00],\n",
       "       [  0.00000000e+00,   3.12500000e-09,   0.00000000e+00,\n",
       "          0.00000000e+00],\n",
       "       [  0.00000000e+00,   0.00000000e+00,   3.70370370e-08,\n",
       "          0.00000000e+00],\n",
       "       [  0.00000000e+00,   0.00000000e+00,   0.00000000e+00,\n",
       "          4.00000000e-06]])"
      ]
     },
     "execution_count": 13,
     "metadata": {},
     "output_type": "execute_result"
    }
   ],
   "source": [
    "v_mat"
   ]
  },
  {
   "cell_type": "code",
   "execution_count": 14,
   "metadata": {},
   "outputs": [
    {
     "data": {
      "text/plain": [
       "(array([ -1.35072321e+08+25943628.35003445j,\n",
       "         -1.35072321e+08-25943628.35003445j,\n",
       "          5.74828594e+06       +0.j        ,  -6.93643677e+05       +0.j        ]),\n",
       " array([[  9.58792370e-01 +0.00000000e+00j,\n",
       "           9.58792370e-01 -0.00000000e+00j,\n",
       "          -9.51953535e-01 +0.00000000e+00j,\n",
       "          -9.42479033e-01 +0.00000000e+00j],\n",
       "        [ -2.66653420e-01 -9.73368693e-02j,\n",
       "          -2.66653420e-01 +9.73368693e-02j,\n",
       "          -3.05724491e-01 +0.00000000e+00j,\n",
       "          -3.33482000e-01 +0.00000000e+00j],\n",
       "        [  9.29113054e-03 +7.23557996e-03j,\n",
       "           9.29113054e-03 -7.23557996e-03j,\n",
       "          -1.77993609e-02 +0.00000000e+00j,\n",
       "          -2.17381806e-02 +0.00000000e+00j],\n",
       "        [ -8.19174797e-06 -9.35811480e-06j,\n",
       "          -8.19174797e-06 +9.35811480e-06j,\n",
       "          -4.30274142e-04 +0.00000000e+00j,\n",
       "           7.10488249e-03 +0.00000000e+00j]]))"
      ]
     },
     "execution_count": 14,
     "metadata": {},
     "output_type": "execute_result"
    }
   ],
   "source": [
    "la.eig(la.inv(v_mat) @ alpha_matrix)"
   ]
  },
  {
   "cell_type": "code",
   "execution_count": null,
   "metadata": {},
   "outputs": [],
   "source": []
  }
 ],
 "metadata": {
  "kernelspec": {
   "display_name": "Python [conda env:579]",
   "language": "python",
   "name": "conda-env-579-py"
  },
  "language_info": {
   "codemirror_mode": {
    "name": "ipython",
    "version": 3
   },
   "file_extension": ".py",
   "mimetype": "text/x-python",
   "name": "python",
   "nbconvert_exporter": "python",
   "pygments_lexer": "ipython3",
   "version": "3.6.6"
  }
 },
 "nbformat": 4,
 "nbformat_minor": 2
}
