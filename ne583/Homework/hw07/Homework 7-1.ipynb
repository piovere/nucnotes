{
 "cells": [
  {
   "cell_type": "code",
   "execution_count": 76,
   "metadata": {},
   "outputs": [],
   "source": [
    "%matplotlib inline\n",
    "import numpy as np\n",
    "import matplotlib.pyplot as plt"
   ]
  },
  {
   "cell_type": "code",
   "execution_count": 77,
   "metadata": {},
   "outputs": [],
   "source": [
    "num_groups = 3\n",
    "source = np.array([1, 0, 0])\n",
    "scattering = np.array([[0.4,  0.1,  0.1],\n",
    "                       [0.1,  0.3,  0.1],\n",
    "                       [0.05, 0.3,  0.4]])\n",
    "total = np.array([0.6, 0.8, 1.0])"
   ]
  },
  {
   "cell_type": "code",
   "execution_count": 78,
   "metadata": {},
   "outputs": [],
   "source": [
    "convergence = 1e-6"
   ]
  },
  {
   "cell_type": "code",
   "execution_count": 79,
   "metadata": {},
   "outputs": [],
   "source": [
    "max_iter = 30"
   ]
  },
  {
   "cell_type": "markdown",
   "metadata": {},
   "source": [
    "# Functions"
   ]
  },
  {
   "cell_type": "code",
   "execution_count": 80,
   "metadata": {},
   "outputs": [],
   "source": [
    "def s_g(group, sources, scatterings, flux):\n",
    "    q = sources[group]\n",
    "    scat_list = scatterings[:, group]\n",
    "    scat_list[group] = 0.0\n",
    "    s = q + np.sum(np.multiply(scat_list, flux))\n",
    "    return s"
   ]
  },
  {
   "cell_type": "code",
   "execution_count": 81,
   "metadata": {},
   "outputs": [],
   "source": [
    "def removal(group, total, scattering):\n",
    "    return total[group] - scattering[group, group]"
   ]
  },
  {
   "cell_type": "code",
   "execution_count": 103,
   "metadata": {},
   "outputs": [],
   "source": [
    "def new_flux(group, sources, scatterings, totals, old_flux):\n",
    "    s = s_g(group, sources, scatterings, old_flux)\n",
    "    r = removal(group, totals, scattering)\n",
    "    return s / r"
   ]
  },
  {
   "cell_type": "markdown",
   "metadata": {},
   "source": [
    "# Jacobi"
   ]
  },
  {
   "cell_type": "code",
   "execution_count": 104,
   "metadata": {},
   "outputs": [],
   "source": [
    "initial_flux_guess = np.array([0.0, 0.0, 0.0])"
   ]
  },
  {
   "cell_type": "code",
   "execution_count": 105,
   "metadata": {},
   "outputs": [
    {
     "name": "stdout",
     "output_type": "stream",
     "text": [
      "[ 1.73228343  0.2924634   0.20247467]\n"
     ]
    }
   ],
   "source": [
    "old_flux = initial_flux_guess\n",
    "loop_count = 0\n",
    "c = [1.0]\n",
    "while c[-1] > convergence:\n",
    "    loop_count += 1\n",
    "    if loop_count > max_iter:\n",
    "        print(f\"Maximum iterations ({loop_count - 1}) reached\")\n",
    "        break\n",
    "    nf = np.array([new_flux(g, source, scattering, total, old_flux) for g in range(num_groups)])\n",
    "    # Test for convergence\n",
    "    if np.min(nf) == 0.0:\n",
    "        c.append(1.0)\n",
    "    else:\n",
    "        c.append(np.max(np.abs(nf - old_flux) / nf))\n",
    "    #print(nf)\n",
    "    old_flux = nf\n",
    "print(old_flux)"
   ]
  },
  {
   "cell_type": "code",
   "execution_count": 106,
   "metadata": {},
   "outputs": [
    {
     "data": {
      "image/png": "[encoded data removed]",
      "text/plain": [
       "<Figure size 432x288 with 1 Axes>"
      ]
     },
     "metadata": {
      "needs_background": "light"
     },
     "output_type": "display_data"
    }
   ],
   "source": [
    "plt.plot(c)\n",
    "plt.yscale(\"log\")\n",
    "plt.ylabel(\"Convergence\")\n",
    "plt.xlabel(\"Outer Loops\")\n",
    "plt.title(\"Jacobi\")\n",
    "plt.show()"
   ]
  },
  {
   "cell_type": "markdown",
   "metadata": {},
   "source": [
    "# Gauss-Siedel"
   ]
  },
  {
   "cell_type": "code",
   "execution_count": 107,
   "metadata": {},
   "outputs": [
    {
     "name": "stdout",
     "output_type": "stream",
     "text": [
      "[ 1.73228343  0.29246342  0.20247468]\n"
     ]
    }
   ],
   "source": [
    "old_flux = initial_flux_guess\n",
    "loop_count = 0\n",
    "c = [1.0]\n",
    "while c[-1] > convergence:\n",
    "    loop_count += 1\n",
    "    nf = old_flux.copy()\n",
    "    if loop_count > max_iter:\n",
    "        print(f\"Maximum iterations ({loop_count - 1}) reached\")\n",
    "        break\n",
    "    for g in range(num_groups):\n",
    "        nf[g] = new_flux(g, source, scattering, total, nf)\n",
    "    # Test for convergence\n",
    "    if np.min(nf) == 0.0:\n",
    "        c.append(1.0)\n",
    "    else:\n",
    "        c.append(np.max(np.abs(nf - old_flux) / nf))\n",
    "    #print(nf)\n",
    "    old_flux = nf\n",
    "print(old_flux)"
   ]
  },
  {
   "cell_type": "code",
   "execution_count": 108,
   "metadata": {},
   "outputs": [
    {
     "data": {
      "text/plain": [
       "8"
      ]
     },
     "execution_count": 108,
     "metadata": {},
     "output_type": "execute_result"
    }
   ],
   "source": [
    "loop_count"
   ]
  },
  {
   "cell_type": "code",
   "execution_count": 109,
   "metadata": {},
   "outputs": [
    {
     "data": {
      "image/png": "[encoded data removed]",
      "text/plain": [
       "<Figure size 432x288 with 1 Axes>"
      ]
     },
     "metadata": {
      "needs_background": "light"
     },
     "output_type": "display_data"
    }
   ],
   "source": [
    "plt.plot(c)\n",
    "plt.yscale(\"log\")\n",
    "plt.show()"
   ]
  },
  {
   "cell_type": "code",
   "execution_count": 110,
   "metadata": {},
   "outputs": [
    {
     "data": {
      "text/plain": [
       "2.2272215277324103"
      ]
     },
     "execution_count": 110,
     "metadata": {},
     "output_type": "execute_result"
    }
   ],
   "source": [
    "np.sum(old_flux)"
   ]
  },
  {
   "cell_type": "markdown",
   "metadata": {},
   "source": [
    "# One-group Flux"
   ]
  },
  {
   "cell_type": "code",
   "execution_count": null,
   "metadata": {},
   "outputs": [],
   "source": [
    "old"
   ]
  }
 ],
 "metadata": {
  "kernelspec": {
   "display_name": "Python [conda env:nuc]",
   "language": "python",
   "name": "conda-env-nuc-py"
  },
  "language_info": {
   "codemirror_mode": {
    "name": "ipython",
    "version": 3
   },
   "file_extension": ".py",
   "mimetype": "text/x-python",
   "name": "python",
   "nbconvert_exporter": "python",
   "pygments_lexer": "ipython3",
   "version": "3.6.6"
  }
 },
 "nbformat": 4,
 "nbformat_minor": 2
}
