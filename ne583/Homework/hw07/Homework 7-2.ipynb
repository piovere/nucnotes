{
 "cells": [
  {
   "cell_type": "code",
   "execution_count": 1,
   "metadata": {},
   "outputs": [],
   "source": [
    "%matplotlib inline\n",
    "import numpy as np\n",
    "import matplotlib.pyplot as plt"
   ]
  },
  {
   "cell_type": "markdown",
   "metadata": {},
   "source": [
    "# Constants"
   ]
  },
  {
   "cell_type": "code",
   "execution_count": 2,
   "metadata": {},
   "outputs": [],
   "source": [
    "num_groups = 3\n",
    "source = np.array([1, 0, 0])\n",
    "scattering = np.array([[0.4, 0.0, 0.0],\n",
    "                       [0.1, 0.3, 0.0],\n",
    "                       [0.0, 0.3, 0.4]])\n",
    "totals = np.array([0.6, 0.8, 1.0])"
   ]
  },
  {
   "cell_type": "code",
   "execution_count": 3,
   "metadata": {},
   "outputs": [],
   "source": [
    "convergence = 1e-6"
   ]
  },
  {
   "cell_type": "code",
   "execution_count": 4,
   "metadata": {},
   "outputs": [],
   "source": [
    "max_iter = 30"
   ]
  },
  {
   "cell_type": "markdown",
   "metadata": {},
   "source": [
    "# Functions"
   ]
  },
  {
   "cell_type": "code",
   "execution_count": 22,
   "metadata": {},
   "outputs": [],
   "source": [
    "def s_g(group, sources, scatterings, flux):\n",
    "    q = sources[group]\n",
    "    scat_list = scatterings[group, :]\n",
    "    \n",
    "    s = q + np.sum(np.multiply(scat_list, flux))\n",
    "    return s"
   ]
  },
  {
   "cell_type": "code",
   "execution_count": 23,
   "metadata": {},
   "outputs": [],
   "source": [
    "def new_flux(group, sources, scatterings, totals, old_flux):\n",
    "    s = s_g(group, sources, scatterings, old_flux)\n",
    "\n",
    "    r = totals[group]\n",
    "    return s / r"
   ]
  },
  {
   "cell_type": "markdown",
   "metadata": {},
   "source": [
    "# Convergence"
   ]
  },
  {
   "cell_type": "code",
   "execution_count": 24,
   "metadata": {},
   "outputs": [],
   "source": [
    "initial_flux = np.zeros(3)"
   ]
  },
  {
   "cell_type": "code",
   "execution_count": 33,
   "metadata": {},
   "outputs": [],
   "source": [
    "def inner(old_flux, convergence=1e-6, max_iters=1000):\n",
    "    inner_loop_count = 0\n",
    "    delta = 1.0\n",
    "    while delta > convergence:\n",
    "        inner_loop_count += 1\n",
    "        nf = old_flux.copy()\n",
    "        if inner_loop_count > max_iters:\n",
    "            print(f\"Maximum iterations ({inner_loop_count - 1}) reached\")\n",
    "            break\n",
    "        for g in range(num_groups):\n",
    "            nf[g] = new_flux(g, source, scattering, totals, nf)\n",
    "        # Update delta\n",
    "        if np.min(nf) == 0.0:\n",
    "            delta = 1.0\n",
    "        else:\n",
    "            delta = np.max(np.abs(nf - old_flux) / nf)\n",
    "        old_flux = nf.copy()\n",
    "    return nf, inner_loop_count"
   ]
  },
  {
   "cell_type": "code",
   "execution_count": 34,
   "metadata": {},
   "outputs": [
    {
     "data": {
      "text/plain": [
       "(array([4.99999657, 0.99999902, 0.49999926]), 35)"
      ]
     },
     "execution_count": 34,
     "metadata": {},
     "output_type": "execute_result"
    }
   ],
   "source": [
    "inner(initial_flux)"
   ]
  },
  {
   "cell_type": "markdown",
   "metadata": {},
   "source": [
    "# One group at a time"
   ]
  },
  {
   "cell_type": "code",
   "execution_count": 36,
   "metadata": {},
   "outputs": [
    {
     "name": "stdout",
     "output_type": "stream",
     "text": [
      "[4.99999227 0.         0.        ]\n"
     ]
    }
   ],
   "source": [
    "e = 1.0\n",
    "\n",
    "old_flux = initial_flux.copy()\n",
    "\n",
    "while e > convergence:\n",
    "    new_flux = old_flux.copy()\n",
    "    q = source[0]\n",
    "    t = totals[0]\n",
    "    scat = scattering[0, :]\n",
    "    s = q + scat.dot(new_flux)\n",
    "    new_flux[0] = s / t\n",
    "    e = np.abs(new_flux[0] - old_flux[0]) / new_flux[0]\n",
    "    old_flux = new_flux.copy()\n",
    "\n",
    "print(old_flux)"
   ]
  },
  {
   "cell_type": "code",
   "execution_count": 37,
   "metadata": {},
   "outputs": [
    {
     "name": "stdout",
     "output_type": "stream",
     "text": [
      "[4.99999227 0.99999805 0.        ]\n"
     ]
    }
   ],
   "source": [
    "e = 1.0\n",
    "\n",
    "while e > convergence:\n",
    "    new_flux = old_flux.copy()\n",
    "    q = source[1]\n",
    "    t = totals[1]\n",
    "    scat = scattering[1, :]\n",
    "    s = q + scat.dot(new_flux)\n",
    "    new_flux[1] = s / t\n",
    "    e = np.abs(new_flux[1] - old_flux[1]) / new_flux[1]\n",
    "    old_flux = new_flux.copy()\n",
    "\n",
    "print(old_flux)"
   ]
  },
  {
   "cell_type": "code",
   "execution_count": 38,
   "metadata": {},
   "outputs": [
    {
     "name": "stdout",
     "output_type": "stream",
     "text": [
      "[4.99999227 0.99999805 0.49999881]\n"
     ]
    }
   ],
   "source": [
    "e = 1.0\n",
    "\n",
    "while e > convergence:\n",
    "    new_flux = old_flux.copy()\n",
    "    q = source[2]\n",
    "    t = totals[2]\n",
    "    scat = scattering[2, :]\n",
    "    s = q + scat.dot(new_flux)\n",
    "    new_flux[2] = s / t\n",
    "    e = np.abs(new_flux[2] - old_flux[2]) / new_flux[2]\n",
    "    old_flux = new_flux.copy()\n",
    "\n",
    "print(old_flux)"
   ]
  },
  {
   "cell_type": "markdown",
   "metadata": {},
   "source": [
    "# Collapse to one group"
   ]
  },
  {
   "cell_type": "code",
   "execution_count": 39,
   "metadata": {},
   "outputs": [
    {
     "name": "stdout",
     "output_type": "stream",
     "text": [
      "0.661538431051188\n"
     ]
    }
   ],
   "source": [
    "sigma_t = old_flux.dot(totals) / np.sum(old_flux)\n",
    "print(sigma_t)"
   ]
  },
  {
   "cell_type": "code",
   "execution_count": 41,
   "metadata": {},
   "outputs": [
    {
     "name": "stdout",
     "output_type": "stream",
     "text": [
      "1\n"
     ]
    }
   ],
   "source": [
    "q = np.sum(source)\n",
    "print(q)"
   ]
  },
  {
   "cell_type": "code",
   "execution_count": 44,
   "metadata": {},
   "outputs": [
    {
     "name": "stdout",
     "output_type": "stream",
     "text": [
      "0.5076923088371286\n"
     ]
    }
   ],
   "source": [
    "sigma_s = np.sum(scattering @ old_flux) / np.sum(old_flux)\n",
    "print(sigma_s)"
   ]
  },
  {
   "cell_type": "code",
   "execution_count": 45,
   "metadata": {},
   "outputs": [
    {
     "name": "stdout",
     "output_type": "stream",
     "text": [
      "0.15384612221405947\n"
     ]
    }
   ],
   "source": [
    "sigma_a = sigma_t - sigma_s\n",
    "print(sigma_a)"
   ]
  },
  {
   "cell_type": "code",
   "execution_count": 47,
   "metadata": {},
   "outputs": [
    {
     "name": "stdout",
     "output_type": "stream",
     "text": [
      "6.500001336456262\n"
     ]
    }
   ],
   "source": [
    "one_group_flux = q / sigma_a\n",
    "print(one_group_flux)"
   ]
  },
  {
   "cell_type": "code",
   "execution_count": 48,
   "metadata": {},
   "outputs": [
    {
     "data": {
      "text/plain": [
       "6.49998912963554"
      ]
     },
     "execution_count": 48,
     "metadata": {},
     "output_type": "execute_result"
    }
   ],
   "source": [
    "np.sum(old_flux)"
   ]
  },
  {
   "cell_type": "code",
   "execution_count": null,
   "metadata": {},
   "outputs": [],
   "source": []
  }
 ],
 "metadata": {
  "kernelspec": {
   "display_name": "Python [conda env:579]",
   "language": "python",
   "name": "conda-env-579-py"
  },
  "language_info": {
   "codemirror_mode": {
    "name": "ipython",
    "version": 3
   },
   "file_extension": ".py",
   "mimetype": "text/x-python",
   "name": "python",
   "nbconvert_exporter": "python",
   "pygments_lexer": "ipython3",
   "version": "3.6.6"
  }
 },
 "nbformat": 4,
 "nbformat_minor": 2
}
