{
 "cells": [
  {
   "cell_type": "code",
   "execution_count": 1,
   "metadata": {},
   "outputs": [],
   "source": [
    "import numpy as np\n",
    "from numba import jit"
   ]
  },
  {
   "cell_type": "code",
   "execution_count": 2,
   "metadata": {},
   "outputs": [],
   "source": [
    "to_group_e_min = 0.4\n",
    "to_group_e_max = 0.5"
   ]
  },
  {
   "cell_type": "code",
   "execution_count": 3,
   "metadata": {},
   "outputs": [],
   "source": [
    "from_group_e_min = 0.6\n",
    "from_group_e_max = 0.7"
   ]
  },
  {
   "cell_type": "code",
   "execution_count": 4,
   "metadata": {},
   "outputs": [],
   "source": [
    "alpha = ((12. - 1.) / (12. + 1.))**2"
   ]
  },
  {
   "cell_type": "code",
   "execution_count": 5,
   "metadata": {},
   "outputs": [],
   "source": [
    "from_es = np.linspace(from_group_e_min, from_group_e_max)\n",
    "to_es = np.linspace(to_group_e_min, to_group_e_max)"
   ]
  },
  {
   "cell_type": "code",
   "execution_count": 6,
   "metadata": {},
   "outputs": [],
   "source": [
    "@jit\n",
    "def numba_my_function(ef, et):\n",
    "    scale = np.log(from_group_e_max) - np.log(from_group_e_min)\n",
    "    def flux(e):\n",
    "        return 1 / e / scale\n",
    "    def sigma(e_from, e_to, sig=5):\n",
    "        if e_to < alpha * e_from:\n",
    "            return 0\n",
    "        elif e_to > e_from:\n",
    "            return 0\n",
    "        else:\n",
    "            return sig\n",
    "    return sigma(ef, et, 5) / ef * flux(ef) / (1 - alpha)"
   ]
  },
  {
   "cell_type": "code",
   "execution_count": 7,
   "metadata": {},
   "outputs": [],
   "source": [
    "def my_function(ef, et):\n",
    "    scale = np.log(from_group_e_max) - np.log(from_group_e_min)\n",
    "    def flux(e):\n",
    "        return 1 / e / scale\n",
    "    def sigma(e_from, e_to, sig=5):\n",
    "        if e_to < alpha * e_from:\n",
    "            return 0\n",
    "        elif e_to > e_from:\n",
    "            return 0\n",
    "        else:\n",
    "            return sig\n",
    "    return sigma(ef, et, 5) / ef * flux(ef) / (1 - alpha)"
   ]
  },
  {
   "cell_type": "code",
   "execution_count": 8,
   "metadata": {},
   "outputs": [
    {
     "name": "stdout",
     "output_type": "stream",
     "text": [
      "0.991960307295\n",
      "0.991960307295\n",
      "0.991960307295\n",
      "0.991960307295\n",
      "0.991960307295\n",
      "0.991960307295\n",
      "0.991960307295\n",
      "0.991960307295\n",
      "4min 14s ± 3.46 s per loop (mean ± std. dev. of 7 runs, 1 loop each)\n"
     ]
    }
   ],
   "source": [
    "%%timeit\n",
    "contributions = []\n",
    "\n",
    "num_bins = 5000\n",
    "\n",
    "from_energies = np.linspace(from_group_e_min, from_group_e_max, num_bins)\n",
    "to_energies = np.linspace(to_group_e_min, to_group_e_max, num_bins)\n",
    "\n",
    "delta_e_from = from_energies[1] - from_energies[0]\n",
    "delta_e_to = to_energies[1] - to_energies[0]\n",
    "\n",
    "ef = from_group_e_min\n",
    "\n",
    "answer = 0\n",
    "\n",
    "for ef in from_energies:\n",
    "    for et in to_energies:\n",
    "        c = 0.5 * (my_function(ef, et) + my_function(ef+delta_e_from, et+delta_e_to))\n",
    "        c *= delta_e_from * delta_e_to\n",
    "        answer += c\n",
    "\n",
    "print(answer)"
   ]
  },
  {
   "cell_type": "code",
   "execution_count": 9,
   "metadata": {},
   "outputs": [
    {
     "name": "stdout",
     "output_type": "stream",
     "text": [
      "0.991960307295\n",
      "0.991960307295\n",
      "0.991960307295\n",
      "0.991960307295\n",
      "0.991960307295\n",
      "0.991960307295\n",
      "0.991960307295\n",
      "0.991960307295\n",
      "35.8 s ± 711 ms per loop (mean ± std. dev. of 7 runs, 1 loop each)\n"
     ]
    }
   ],
   "source": [
    "%%timeit\n",
    "contributions = []\n",
    "\n",
    "num_bins = 5000\n",
    "\n",
    "from_energies = np.linspace(from_group_e_min, from_group_e_max, num_bins)\n",
    "to_energies = np.linspace(to_group_e_min, to_group_e_max, num_bins)\n",
    "\n",
    "delta_e_from = from_energies[1] - from_energies[0]\n",
    "delta_e_to = to_energies[1] - to_energies[0]\n",
    "\n",
    "ef = from_group_e_min\n",
    "\n",
    "answer = 0\n",
    "\n",
    "for ef in from_energies:\n",
    "    for et in to_energies:\n",
    "        c = 0.5 * (numba_my_function(ef, et) + numba_my_function(ef+delta_e_from, et+delta_e_to))\n",
    "        c *= delta_e_from * delta_e_to\n",
    "        answer += c\n",
    "        \n",
    "print(answer)"
   ]
  },
  {
   "cell_type": "code",
   "execution_count": null,
   "metadata": {},
   "outputs": [],
   "source": []
  }
 ],
 "metadata": {
  "kernelspec": {
   "display_name": "Python [conda env:nuc]",
   "language": "python",
   "name": "conda-env-nuc-py"
  },
  "language_info": {
   "codemirror_mode": {
    "name": "ipython",
    "version": 3
   },
   "file_extension": ".py",
   "mimetype": "text/x-python",
   "name": "python",
   "nbconvert_exporter": "python",
   "pygments_lexer": "ipython3",
   "version": "3.6.6"
  }
 },
 "nbformat": 4,
 "nbformat_minor": 2
}
