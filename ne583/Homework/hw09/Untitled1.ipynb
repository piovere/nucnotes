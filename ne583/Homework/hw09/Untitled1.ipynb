{
 "cells": [
  {
   "cell_type": "code",
   "execution_count": 371,
   "metadata": {},
   "outputs": [],
   "source": [
    "import numpy as np\n",
    "from scipy.special import expn\n",
    "import matplotlib.pyplot as plt"
   ]
  },
  {
   "cell_type": "code",
   "execution_count": 372,
   "metadata": {},
   "outputs": [],
   "source": [
    "width = 50\n",
    "nx = 100\n",
    "nang = 12\n",
    "mfp = 5\n",
    "sigma = mfp / width\n",
    "dx = width / nx"
   ]
  },
  {
   "cell_type": "code",
   "execution_count": 373,
   "metadata": {},
   "outputs": [],
   "source": [
    "@np.vectorize\n",
    "def step(psi_minus, mu, dx=dx, sigma=sigma, s=0):\n",
    "    mux = mu / dx\n",
    "    \n",
    "    num = s + mux * psi_minus\n",
    "    den = mux + sigma\n",
    "    \n",
    "    psi_plus = abs(num / den)\n",
    "    \n",
    "    psi_avg = psi_plus\n",
    "    \n",
    "    return psi_avg, psi_plus"
   ]
  },
  {
   "cell_type": "code",
   "execution_count": 374,
   "metadata": {},
   "outputs": [],
   "source": [
    "@np.vectorize\n",
    "def diamond_difference(psi_minus, mu, dx=dx, sigma=sigma, s=0):\n",
    "    mux = mu / dx\n",
    "    hsig = sigma / 2\n",
    "    \n",
    "    psi_plus = s + (mux - hsig) * psi_minus\n",
    "    psi_plus /= mux + sigma / 2\n",
    "    psi_plus = abs(psi_plus)\n",
    "    \n",
    "    psi_avg = (psi_minus + psi_plus) / 2\n",
    "    \n",
    "    return psi_avg, psi_plus"
   ]
  },
  {
   "cell_type": "code",
   "execution_count": 375,
   "metadata": {},
   "outputs": [],
   "source": [
    "@np.vectorize\n",
    "def weighted_diamond_difference(psi_minus, mu, dx=dx, sigma=sigma, s=0, alpha=0.8):\n",
    "    mux = mu / dx\n",
    "    \n",
    "    psi_plus = s + (mux - (1 - alpha) * sigma) * psi_minus\n",
    "    psi_plus /= (mux) + (alpha * sigma)\n",
    "    psi_plus = abs(psi_plus)\n",
    "    \n",
    "    psi_avg = (1 - alpha) * psi_minus + alpha * psi_plus\n",
    "    \n",
    "    return psi_avg, psi_plus"
   ]
  },
  {
   "cell_type": "code",
   "execution_count": 376,
   "metadata": {},
   "outputs": [],
   "source": [
    "function = {\n",
    "    'step': step,\n",
    "    'diamond difference': diamond_difference,\n",
    "    'weighted diamond difference': weighted_diamond_difference\n",
    "}"
   ]
  },
  {
   "cell_type": "code",
   "execution_count": 377,
   "metadata": {},
   "outputs": [
    {
     "data": {
      "text/plain": [
       "0.1"
      ]
     },
     "execution_count": 377,
     "metadata": {},
     "output_type": "execute_result"
    }
   ],
   "source": [
    "sigma"
   ]
  },
  {
   "cell_type": "code",
   "execution_count": 378,
   "metadata": {},
   "outputs": [],
   "source": [
    "def set_quadrature(nang):\n",
    "    wt = []\n",
    "    mu = []\n",
    "\n",
    "    if(nang==2):\n",
    "        wt.append(1.)\n",
    "\n",
    "        mu.append(.5773502691)\n",
    "\n",
    "    elif(nang==4):\n",
    "        wt.append(.6521451549)\n",
    "        wt.append(.3478548451)\n",
    "\n",
    "        mu.append(.3399810435)\n",
    "        mu.append(.8611363115)\n",
    "\n",
    "    elif(nang==8):\n",
    "        wt.append(.3626837834)\n",
    "        wt.append(.3137066459)\n",
    "        wt.append(.2223810344)\n",
    "        wt.append(.1012285363)\n",
    "\n",
    "        mu.append(.1834346424)\n",
    "        mu.append(.5255324099)\n",
    "        mu.append(.7966664774)\n",
    "        mu.append(.9602898564)\n",
    "\n",
    "    elif(nang==12):\n",
    "        wt.append(0.2491470458)\n",
    "        wt.append(0.2334925365)\n",
    "        wt.append(0.2031674267)\n",
    "        wt.append(0.1600783286)\n",
    "        wt.append(0.1069393260)\n",
    "        wt.append(0.0471753364)\n",
    "\n",
    "        mu.append(0.1252334085)\n",
    "        mu.append(0.3678314989)\n",
    "        mu.append(0.5873179542)\n",
    "        mu.append(0.7699026741)\n",
    "        mu.append(0.9041172563)\n",
    "        mu.append(0.9815606342)\n",
    "\n",
    "    wt = [0.5*w for w in wt]\n",
    "    \n",
    "    return np.array(wt), np.array(mu)"
   ]
  },
  {
   "cell_type": "code",
   "execution_count": 379,
   "metadata": {},
   "outputs": [
    {
     "name": "stdout",
     "output_type": "stream",
     "text": [
      "0.125\t\t0.125\n",
      "0.117\t\t0.368\n",
      "0.102\t\t0.587\n",
      "0.080\t\t0.770\n",
      "0.053\t\t0.904\n",
      "0.024\t\t0.982\n"
     ]
    }
   ],
   "source": [
    "wts, mus = set_quadrature(12)\n",
    "for m, w in zip(wts, mus):\n",
    "    print(f\"{m:0.3f}\\t\\t{w:0.3f}\")"
   ]
  },
  {
   "cell_type": "code",
   "execution_count": 380,
   "metadata": {},
   "outputs": [],
   "source": [
    "left = np.zeros((nang, nx))\n",
    "right = np.zeros((nang, nx))\n",
    "average = np.zeros((nang, nx))\n",
    "scalar = np.zeros(nx)\n",
    "left[:,0] = np.ones_like(left[:,0])"
   ]
  },
  {
   "cell_type": "code",
   "execution_count": 381,
   "metadata": {},
   "outputs": [],
   "source": [
    "def scalar(avg):\n",
    "    num_angles = avg.shape[0]\n",
    "\n",
    "    wts, mus = set_quadrature(num_angles)\n",
    "\n",
    "    return avg.T @ np.concatenate([wts, wts])"
   ]
  },
  {
   "cell_type": "code",
   "execution_count": 382,
   "metadata": {},
   "outputs": [],
   "source": [
    "def conv_test(old, new):\n",
    "    if np.max(new) == 0.0:\n",
    "        return 1.0\n",
    "    else:\n",
    "        e = np.abs(new - old) / new\n",
    "        err = np.max(e)\n",
    "        return err"
   ]
  },
  {
   "cell_type": "code",
   "execution_count": 383,
   "metadata": {},
   "outputs": [],
   "source": [
    "def make_flux(nx, nang, func='step', eps=1e-5):\n",
    "    width = 50\n",
    "    mfp = 5\n",
    "    sigma = mfp / width\n",
    "    dx = width / nx\n",
    "    f = function[func]\n",
    "    \n",
    "    left = np.zeros((nang, nx))\n",
    "    right = np.zeros((nang, nx))\n",
    "    avg = np.zeros((nang, nx))\n",
    "    left[:,0] = np.ones_like(left[:,0])\n",
    "    \n",
    "    wts, mus = set_quadrature(nang)\n",
    "\n",
    "    old = np.ones(left.shape[1])\n",
    "    \n",
    "    conv = [1]\n",
    "    eps = 0.000001\n",
    "    \n",
    "    while conv[-1] > eps:\n",
    "        for x in range(nx):\n",
    "            avg[:int(nang/2), x], right[:int(nang/2), x] = f(left[:int(nang/2), x], mus)\n",
    "            if x+1 < left.shape[1]:\n",
    "                left[:, x+1] = right[:, x]\n",
    "        for x in range(nx)[::-1]:\n",
    "            avg[int(nang/2):, x], left[int(nang/2):, x] = f(right[int(nang/2):, x], -mus)\n",
    "            if x > 0:\n",
    "                right[:, x-1] = left[:, x]\n",
    "\n",
    "        s = scalar(avg)\n",
    "        conv.append(conv_test(old, s))\n",
    "\n",
    "        old = np.copy(s)\n",
    "    \n",
    "    return left, right, conv"
   ]
  },
  {
   "cell_type": "code",
   "execution_count": 384,
   "metadata": {},
   "outputs": [],
   "source": [
    "l, r, c = make_flux(100, 2)"
   ]
  },
  {
   "cell_type": "code",
   "execution_count": 391,
   "metadata": {},
   "outputs": [
    {
     "data": {
      "text/plain": [
       "array([1., 0.])"
      ]
     },
     "execution_count": 391,
     "metadata": {},
     "output_type": "execute_result"
    }
   ],
   "source": [
    "l[:, 0]"
   ]
  },
  {
   "cell_type": "code",
   "execution_count": 386,
   "metadata": {},
   "outputs": [
    {
     "data": {
      "text/plain": [
       "array([0.00024713, 0.        ])"
      ]
     },
     "execution_count": 386,
     "metadata": {},
     "output_type": "execute_result"
    }
   ],
   "source": [
    "r[:, -1]"
   ]
  },
  {
   "cell_type": "code",
   "execution_count": 387,
   "metadata": {},
   "outputs": [
    {
     "data": {
      "image/png": "[encoded data removed]",
      "text/plain": [
       "<Figure size 432x288 with 1 Axes>"
      ]
     },
     "metadata": {
      "needs_background": "light"
     },
     "output_type": "display_data"
    }
   ],
   "source": [
    "plt.plot(scalar(r))\n",
    "plt.yscale('log')"
   ]
  },
  {
   "cell_type": "code",
   "execution_count": 388,
   "metadata": {},
   "outputs": [
    {
     "data": {
      "text/plain": [
       "[<matplotlib.lines.Line2D at 0x11b7592e8>]"
      ]
     },
     "execution_count": 388,
     "metadata": {},
     "output_type": "execute_result"
    },
    {
     "data": {
      "image/png": "[encoded data removed]",
      "text/plain": [
       "<Figure size 432x288 with 1 Axes>"
      ]
     },
     "metadata": {
      "needs_background": "light"
     },
     "output_type": "display_data"
    }
   ],
   "source": [
    "plt.plot(c)"
   ]
  },
  {
   "cell_type": "code",
   "execution_count": 389,
   "metadata": {},
   "outputs": [
    {
     "data": {
      "text/plain": [
       "[1, 8091.852037496592, 0.0]"
      ]
     },
     "execution_count": 389,
     "metadata": {},
     "output_type": "execute_result"
    }
   ],
   "source": [
    "c"
   ]
  },
  {
   "cell_type": "code",
   "execution_count": 390,
   "metadata": {},
   "outputs": [
    {
     "data": {
      "text/plain": [
       "0.006737946999085467"
      ]
     },
     "execution_count": 390,
     "metadata": {},
     "output_type": "execute_result"
    }
   ],
   "source": [
    "np.exp(-5)"
   ]
  },
  {
   "cell_type": "code",
   "execution_count": null,
   "metadata": {},
   "outputs": [],
   "source": []
  }
 ],
 "metadata": {
  "kernelspec": {
   "display_name": "Python [conda env:579]",
   "language": "python",
   "name": "conda-env-579-py"
  },
  "language_info": {
   "codemirror_mode": {
    "name": "ipython",
    "version": 3
   },
   "file_extension": ".py",
   "mimetype": "text/x-python",
   "name": "python",
   "nbconvert_exporter": "python",
   "pygments_lexer": "ipython3",
   "version": "3.6.6"
  }
 },
 "nbformat": 4,
 "nbformat_minor": 2
}
