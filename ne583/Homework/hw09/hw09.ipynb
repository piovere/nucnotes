{
 "cells": [
  {
   "cell_type": "markdown",
   "metadata": {},
   "source": [
    "# Homework 9-2\n",
    "\n",
    "- Work an absorption-only problem\n",
    "    - 5 mean free paths thick slab\n",
    "    - Isotropic flux on left boundary (for incoming directions) with current of 1\n",
    "        - Use Step, Diamond Difference, and Weighted with $\\alpha=0.8$\n",
    "        - Use $S_4$, $S_8$, $S_{12}$\n",
    "        - Use as fine a spatial discretization as required for convergence\n",
    "    - Analytic outgoing current on the right boundary is $2 E_3(5) = 1.755e-3$ (see App A)\n",
    "    - Check accuracy vs. spatial discretization, auxiliary equation used, angular quadrature\n",
    "- Extra credit: What would be the optimum value of $\\alpha_n$"
   ]
  },
  {
   "cell_type": "code",
   "execution_count": 150,
   "metadata": {},
   "outputs": [],
   "source": [
    "from scipy.special import legendre, expn\n",
    "from scipy.integrate import trapz\n",
    "import numpy as np\n",
    "import matplotlib.pyplot as plt"
   ]
  },
  {
   "cell_type": "markdown",
   "metadata": {},
   "source": [
    "Configure parameters"
   ]
  },
  {
   "cell_type": "code",
   "execution_count": 151,
   "metadata": {},
   "outputs": [],
   "source": [
    "num_sections = 10\n",
    "t = 50\n",
    "sigma = 5 / t\n",
    "dx = t / num_sections\n",
    "nang = 4"
   ]
  },
  {
   "cell_type": "markdown",
   "metadata": {},
   "source": [
    "Auxiliary equations: these describe the average flux in terms of the flux at the edges"
   ]
  },
  {
   "cell_type": "code",
   "execution_count": 152,
   "metadata": {},
   "outputs": [],
   "source": [
    "def step(psi_minus, mu, s, dx, sigma):\n",
    "    mux = mu / dx\n",
    "    \n",
    "    num = s + mux * psi_minus\n",
    "    den = mux + sigma\n",
    "    \n",
    "    psi_plus = num / den\n",
    "    \n",
    "    psi_avg = psi_plus\n",
    "    \n",
    "    return psi_avg, psi_plus"
   ]
  },
  {
   "cell_type": "code",
   "execution_count": 153,
   "metadata": {},
   "outputs": [],
   "source": [
    "def diamond_difference(psi_minus, mu, s, dx, sigma):\n",
    "    mux = mu / dx\n",
    "    hsig = sigma / 2\n",
    "    \n",
    "    psi_plus = s + (mux - hsig) * psi_minus\n",
    "    psi_plus /= mux + sigma / 2\n",
    "    \n",
    "    psi_avg = (psi_minus + psi_plus) / 2\n",
    "    \n",
    "    return psi_avg, psi_plus"
   ]
  },
  {
   "cell_type": "code",
   "execution_count": 154,
   "metadata": {},
   "outputs": [],
   "source": [
    "def weighted_diamond_difference(psi_minus, mu, s, dx, sigma, alpha=0.8):\n",
    "    mux = mu / dx\n",
    "    \n",
    "    psi_plus = s + (mux - (1 - alpha) * sigma) * psi_minus\n",
    "    psi_plus /= (mux) + (alpha * sigma)\n",
    "    \n",
    "    psi_avg = (1 - alpha) * psi_minus + alpha * psi_plus\n",
    "    \n",
    "    return psi_avg, psi_plus"
   ]
  },
  {
   "cell_type": "markdown",
   "metadata": {},
   "source": [
    "Since we know the incoming current on the left boundary, we will proceed from left to right"
   ]
  },
  {
   "cell_type": "markdown",
   "metadata": {},
   "source": [
    "This is a one-group problem, so there is no need for outer iterations"
   ]
  },
  {
   "cell_type": "markdown",
   "metadata": {},
   "source": [
    "Set $\\mu$ and weight parameters for the quadrature"
   ]
  },
  {
   "cell_type": "code",
   "execution_count": 155,
   "metadata": {},
   "outputs": [],
   "source": [
    "wt = []\n",
    "mu = []\n",
    "\n",
    "if(nang==2):\n",
    "    wt.append(1.)\n",
    "    \n",
    "    mu.append(.5773502691)\n",
    "\n",
    "elif(nang==4):\n",
    "    wt.append(.6521451549)\n",
    "    wt.append(.3478548451)\n",
    "    \n",
    "    mu.append(.3399810435)\n",
    "    mu.append(.8611363115)\n",
    "\n",
    "elif(nang==8):\n",
    "    wt.append(.3626837834)\n",
    "    wt.append(.3137066459)\n",
    "    wt.append(.2223810344)\n",
    "    wt.append(.1012285363)\n",
    "    \n",
    "    mu.append(.1834346424)\n",
    "    mu.append(.5255324099)\n",
    "    mu.append(.7966664774)\n",
    "    mu.append(.9602898564)\n",
    "\n",
    "elif(nang==12):\n",
    "    wt.append(0.2491470458)\n",
    "    wt.append(0.2334925365)\n",
    "    wt.append(0.2031674267)\n",
    "    wt.append(0.1600783286)\n",
    "    wt.append(0.1069393260)\n",
    "    wt.append(0.0471753364)\n",
    "    \n",
    "    mu.append(0.1252334085)\n",
    "    mu.append(0.3678314989)\n",
    "    mu.append(0.5873179542)\n",
    "    mu.append(0.7699026741)\n",
    "    mu.append(0.9041172563)\n",
    "    mu.append(0.9815606342)\n",
    "\n",
    "wt = [0.5*w for w in wt] + [0.5*w for w in wt]\n",
    "mu = mu + [-m for m in mu]"
   ]
  },
  {
   "cell_type": "markdown",
   "metadata": {},
   "source": [
    "Make function to calculate convergence after each `x` loop"
   ]
  },
  {
   "cell_type": "code",
   "execution_count": 156,
   "metadata": {},
   "outputs": [],
   "source": [
    "def convergence_test(old_flux, new_flux, epsilon=0.00001):\n",
    "    e_arr = np.abs(new_flux - old_flux) / new_flux\n",
    "    return np.all(e_arr < epsilon)"
   ]
  },
  {
   "cell_type": "markdown",
   "metadata": {},
   "source": [
    "Set initial fluxes"
   ]
  },
  {
   "cell_type": "code",
   "execution_count": 157,
   "metadata": {},
   "outputs": [],
   "source": [
    "cell_function = step"
   ]
  },
  {
   "cell_type": "code",
   "execution_count": 158,
   "metadata": {},
   "outputs": [],
   "source": [
    "old_flux = np.ones(num_sections) * 10000\n",
    "new_flux = np.zeros(num_sections)\n",
    "\n",
    "# Each cell has a left and right boundary flux\n",
    "left = np.zeros(num_sections)\n",
    "right = np.zeros(num_sections)\n",
    "center = np.zeros(num_sections)\n",
    "\n",
    "# Set the left boundary to 1\n",
    "left[0] = 1.0"
   ]
  },
  {
   "cell_type": "code",
   "execution_count": 159,
   "metadata": {},
   "outputs": [
    {
     "name": "stderr",
     "output_type": "stream",
     "text": [
      "/Users/jrpowers-luhn/miniconda3/envs/579/lib/python3.6/site-packages/ipykernel/__main__.py:2: RuntimeWarning: divide by zero encountered in true_divide\n",
      "  from ipykernel import kernelapp as app\n",
      "/Users/jrpowers-luhn/miniconda3/envs/579/lib/python3.6/site-packages/ipykernel/__main__.py:2: RuntimeWarning: invalid value encountered in true_divide\n",
      "  from ipykernel import kernelapp as app\n",
      "/Users/jrpowers-luhn/miniconda3/envs/579/lib/python3.6/site-packages/ipykernel/__main__.py:3: RuntimeWarning: invalid value encountered in less\n",
      "  app.launch_new_instance()\n"
     ]
    }
   ],
   "source": [
    "convergence_counter = 0\n",
    "while not(convergence_test(old_flux, new_flux)) and convergence_counter < 1000000:\n",
    "    convergence_counter += 1\n",
    "    old_flux = np.copy(new_flux)\n",
    "    for m, w in zip(mu, wt):\n",
    "        for i in range(num_sections):\n",
    "            if i == 0:\n",
    "                left[i] = 1.0\n",
    "            else:\n",
    "                left[i] = right[i-1]\n",
    "            center[i], right[i] = cell_function(center[i], m, 0, dx, sigma)\n",
    "            new_flux[i] += w * left[i] * m"
   ]
  },
  {
   "cell_type": "code",
   "execution_count": 160,
   "metadata": {},
   "outputs": [
    {
     "data": {
      "text/plain": [
       "0.0017556017855412775"
      ]
     },
     "execution_count": 160,
     "metadata": {},
     "output_type": "execute_result"
    }
   ],
   "source": [
    "2*expn(3, 5)"
   ]
  },
  {
   "cell_type": "code",
   "execution_count": 161,
   "metadata": {},
   "outputs": [
    {
     "data": {
      "text/plain": [
       "[<matplotlib.lines.Line2D at 0x11f27ecf8>]"
      ]
     },
     "execution_count": 161,
     "metadata": {},
     "output_type": "execute_result"
    },
    {
     "data": {
      "image/png": "[encoded data removed]",
      "text/plain": [
       "<Figure size 432x288 with 1 Axes>"
      ]
     },
     "metadata": {
      "needs_background": "light"
     },
     "output_type": "display_data"
    }
   ],
   "source": [
    "plt.plot(new_flux)\n",
    "#plt.xscale('log')"
   ]
  },
  {
   "cell_type": "code",
   "execution_count": 162,
   "metadata": {},
   "outputs": [
    {
     "data": {
      "text/plain": [
       "1.0"
      ]
     },
     "execution_count": 162,
     "metadata": {},
     "output_type": "execute_result"
    }
   ],
   "source": [
    "left[0]"
   ]
  },
  {
   "cell_type": "code",
   "execution_count": 163,
   "metadata": {},
   "outputs": [
    {
     "data": {
      "text/plain": [
       "-0.0"
      ]
     },
     "execution_count": 163,
     "metadata": {},
     "output_type": "execute_result"
    }
   ],
   "source": [
    "right[-1]"
   ]
  },
  {
   "cell_type": "code",
   "execution_count": 164,
   "metadata": {},
   "outputs": [
    {
     "data": {
      "text/plain": [
       "1000000"
      ]
     },
     "execution_count": 164,
     "metadata": {},
     "output_type": "execute_result"
    }
   ],
   "source": [
    "convergence_counter"
   ]
  },
  {
   "cell_type": "code",
   "execution_count": 2,
   "metadata": {},
   "outputs": [
    {
     "data": {
      "text/plain": [
       "[4, 3, 2, 1, 0]"
      ]
     },
     "execution_count": 2,
     "metadata": {},
     "output_type": "execute_result"
    }
   ],
   "source": [
    "[i for i in range(5)][::-1]"
   ]
  },
  {
   "cell_type": "code",
   "execution_count": null,
   "metadata": {},
   "outputs": [],
   "source": []
  }
 ],
 "metadata": {
  "kernelspec": {
   "display_name": "Python [conda env:579]",
   "language": "python",
   "name": "conda-env-579-py"
  },
  "language_info": {
   "codemirror_mode": {
    "name": "ipython",
    "version": 3
   },
   "file_extension": ".py",
   "mimetype": "text/x-python",
   "name": "python",
   "nbconvert_exporter": "python",
   "pygments_lexer": "ipython3",
   "version": "3.6.6"
  }
 },
 "nbformat": 4,
 "nbformat_minor": 2
}
