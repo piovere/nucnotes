{
 "cells": [
  {
   "cell_type": "markdown",
   "metadata": {},
   "source": [
    "# Homework 9-2\n",
    "\n",
    "- Work an absorption-only problem\n",
    "    - 5 mean free paths thick slab\n",
    "    - Isotropic flux on left boundary (for incoming directions) with current of 1\n",
    "        - Use Step, Diamond Difference, and Weighted with $\\alpha=0.8$\n",
    "        - Use $S_4$, $S_8$, $S_{12}$\n",
    "        - Use as fine a spatial discretization as required for convergence\n",
    "    - Analytic outgoing current on the right boundary is $2 E_3(5) = 1.755e-3$ (see App A)\n",
    "    - Check accuracy vs. spatial discretization, auxiliary equation used, angular quadrature\n",
    "- Extra credit: What would be the optimum value of $\\alpha_n$"
   ]
  },
  {
   "cell_type": "code",
   "execution_count": 3,
   "metadata": {},
   "outputs": [],
   "source": [
    "from scipy.special import legendre\n",
    "from scipy.integrate import trapz\n",
    "import numpy as np"
   ]
  },
  {
   "cell_type": "code",
   "execution_count": 4,
   "metadata": {},
   "outputs": [],
   "source": [
    "num_sections = 10\n",
    "t = 50\n",
    "sigma = 5 / t\n",
    "dx = t / num_sections\n",
    "nang = 4"
   ]
  },
  {
   "cell_type": "markdown",
   "metadata": {},
   "source": [
    "Auxiliary equations: these describe the average flux in terms of the flux at the edges"
   ]
  },
  {
   "cell_type": "markdown",
   "metadata": {},
   "source": [
    "Step:\n",
    "\n",
    "$$ \n",
    "\\psi_{n,i+\\frac{1}{2}} = \\frac{\\bar{S}_{n,i} + \\frac{\\mu_n}{\\delta x_i} \\psi_{n, i-\\frac{1}{2}}}{\\frac{\\mu_n}{\\delta x_i} + \\sigma_{ti}}\n",
    "$$\n",
    "$$\n",
    "\\phi_{i \\ell} = \\sum_{n=1}^N w_n \\bar{\\psi}_{n,i} P_\\ell (\\mu_n)\n",
    "$$"
   ]
  },
  {
   "cell_type": "code",
   "execution_count": 5,
   "metadata": {},
   "outputs": [],
   "source": [
    "def step(psi_minus, mu=None):\n",
    "    return psi_minus"
   ]
  },
  {
   "cell_type": "markdown",
   "metadata": {},
   "source": [
    "Diamond Difference:\n",
    "\n",
    "$$\n",
    "\\psi_{n,i+\\frac{1}{2}} = \n",
    "\\frac{\n",
    "  \\bar{S}_{n,i} \n",
    "      + \n",
    "  \\left( \n",
    "    \\frac{\n",
    "      \\mu_n\n",
    "    }{\n",
    "      \\delta x_i\n",
    "    } \n",
    "      - \n",
    "    \\frac{\n",
    "      \\sigma_{ti}\n",
    "    }{\n",
    "      2\n",
    "    } \n",
    "  \\right) \\psi_{n, i-\\frac{1}{2}}\n",
    "}\n",
    "{\n",
    "  \\frac{\n",
    "    \\mu_n\n",
    "  }{\n",
    "    \\delta x_i\n",
    "  } \n",
    "    + \n",
    "  \\frac{\n",
    "    \\sigma_{ti}\n",
    "  }{\n",
    "    2\n",
    "  }\n",
    "}\n",
    "$$"
   ]
  },
  {
   "cell_type": "code",
   "execution_count": 6,
   "metadata": {},
   "outputs": [],
   "source": [
    "def diamond_difference(psi_minus, mu):\n",
    "    psi_plus = s + (mu / dx - sigma / 2) * psi_minus\n",
    "    psi_plus /= mu / dx + sigma / 2\n",
    "    return psi_plus"
   ]
  },
  {
   "cell_type": "markdown",
   "metadata": {},
   "source": [
    "Weighted diamond difference:\n",
    "\n",
    "$$\n",
    "\\psi_{n,i+\\frac{1}{2}} = \n",
    "\\frac{\\bar{S}_{n,i}+ \\left(\\frac{\\mu_n}{\\delta x_i}-(1 - \\alpha) \\sigma_{ti}\\right) \\psi_{n, i-\\frac{1}{2}}}{\\frac{\\mu_n}{\\delta x_i} + \\alpha \\sigma_{ti}}\n",
    "$$"
   ]
  },
  {
   "cell_type": "code",
   "execution_count": 7,
   "metadata": {},
   "outputs": [],
   "source": [
    "def weighted_diamond_difference(psi_minus, mu, alpha=0.8):\n",
    "    psi_plus = s + (mu / dx - (1 - alpha) * sigma) * psi_minus\n",
    "    psi_plus /= (mu / dx) + alpha * sigma\n",
    "    return psi_plus"
   ]
  },
  {
   "cell_type": "markdown",
   "metadata": {},
   "source": [
    "Since we know the incoming current on the left boundary, we will proceed from left to right"
   ]
  },
  {
   "cell_type": "markdown",
   "metadata": {},
   "source": [
    "This is a one-group problem, so there are no need for outer iterations"
   ]
  },
  {
   "cell_type": "code",
   "execution_count": 36,
   "metadata": {},
   "outputs": [],
   "source": [
    "def set_quadrature(nang):\n",
    "    wt = []\n",
    "    mu = []\n",
    "\n",
    "    if(nang==2):\n",
    "        wt.append(1.)\n",
    "\n",
    "        mu.append(.5773502691)\n",
    "\n",
    "    elif(nang==4):\n",
    "        wt.append(.6521451549)\n",
    "        wt.append(.3478548451)\n",
    "\n",
    "        mu.append(.3399810435)\n",
    "        mu.append(.8611363115)\n",
    "\n",
    "    elif(nang==8):\n",
    "        wt.append(.3626837834)\n",
    "        wt.append(.3137066459)\n",
    "        wt.append(.2223810344)\n",
    "        wt.append(.1012285363)\n",
    "\n",
    "        mu.append(.1834346424)\n",
    "        mu.append(.5255324099)\n",
    "        mu.append(.7966664774)\n",
    "        mu.append(.9602898564)\n",
    "\n",
    "    elif(nang==12):\n",
    "        wt.append(0.2491470458)\n",
    "        wt.append(0.2334925365)\n",
    "        wt.append(0.2031674267)\n",
    "        wt.append(0.1600783286)\n",
    "        wt.append(0.1069393260)\n",
    "        wt.append(0.0471753364)\n",
    "\n",
    "        mu.append(0.1252334085)\n",
    "        mu.append(0.3678314989)\n",
    "        mu.append(0.5873179542)\n",
    "        mu.append(0.7699026741)\n",
    "        mu.append(0.9041172563)\n",
    "        mu.append(0.9815606342)\n",
    "    \n",
    "    #mus = np.array([-m for m in mu] + mu)\n",
    "    #weights = np.array([w / 2 for w in wt] + [w / 2 for w in wt])\n",
    "    \n",
    "    mus = np.array(mu)\n",
    "    weights = np.array(wt)\n",
    "    \n",
    "    try:\n",
    "        assert(np.allclose(np.sum(weights), np.array(1.0)))\n",
    "    except AssertionError as ae:\n",
    "        print(np.sum(weights))\n",
    "        raise ae\n",
    "    \n",
    "    return mus, weights"
   ]
  },
  {
   "cell_type": "code",
   "execution_count": 38,
   "metadata": {},
   "outputs": [],
   "source": [
    "mu, wt = set_quadrature(12)"
   ]
  },
  {
   "cell_type": "code",
   "execution_count": 41,
   "metadata": {},
   "outputs": [
    {
     "data": {
      "text/plain": [
       "array([ 0.12523341,  0.3678315 ,  0.58731795,  0.76990267,  0.90411726,\n",
       "        0.98156063, -0.12523341, -0.3678315 , -0.58731795, -0.76990267,\n",
       "       -0.90411726, -0.98156063])"
      ]
     },
     "execution_count": 41,
     "metadata": {},
     "output_type": "execute_result"
    }
   ],
   "source": [
    "np.concatenate([mu, -mu])"
   ]
  },
  {
   "cell_type": "markdown",
   "metadata": {},
   "source": [
    "Set initial convergence and error values"
   ]
  },
  {
   "cell_type": "code",
   "execution_count": 28,
   "metadata": {},
   "outputs": [],
   "source": [
    "def s(mu, flux):\n",
    "    tot = 0\n",
    "    for l in range(len(wt)):\n",
    "        m = mu[l]\n",
    "        w = wt[l] / 2\n",
    "        tot += (2 * l + 1) * (w * legendre(l)(m) + w * legendre(l)(-m))\n",
    "    return tot"
   ]
  },
  {
   "cell_type": "code",
   "execution_count": 29,
   "metadata": {},
   "outputs": [
    {
     "data": {
      "text/plain": [
       "0.49105917922126346"
      ]
     },
     "execution_count": 29,
     "metadata": {},
     "output_type": "execute_result"
    }
   ],
   "source": [
    "s(0.3, mu)"
   ]
  },
  {
   "cell_type": "code",
   "execution_count": null,
   "metadata": {},
   "outputs": [],
   "source": [
    "flux_func = step\n",
    "loop_counter = 0\n",
    "eps = 0.00000001\n",
    "conv = 100000.\n",
    "\n",
    "flux = np.zeros(num_sections)\n",
    "left = np.zeros(num_sections)\n",
    "right = np.zeros(num_sections)\n",
    "\n",
    "while abs(conv) > eps:\n",
    "    loop_counter += 1\n",
    "    # Loop over directions\n",
    "    for a in range(nang):\n",
    "        phi = 0.0\n",
    "        muabs = abs(mu[a])\n",
    "        for ix in range(num_sections):\n",
    "            phi_left = phi_right\n",
    "            phi_right = flux_func()\n",
    "            flux_avg = \n",
    "            flux[ix] += wt[a] * flux_avg"
   ]
  }
 ],
 "metadata": {
  "kernelspec": {
   "display_name": "Python [conda env:579]",
   "language": "python",
   "name": "conda-env-579-py"
  },
  "language_info": {
   "codemirror_mode": {
    "name": "ipython",
    "version": 3
   },
   "file_extension": ".py",
   "mimetype": "text/x-python",
   "name": "python",
   "nbconvert_exporter": "python",
   "pygments_lexer": "ipython3",
   "version": "3.6.6"
  }
 },
 "nbformat": 4,
 "nbformat_minor": 2
}
