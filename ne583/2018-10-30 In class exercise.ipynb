{
 "cells": [
  {
   "cell_type": "code",
   "execution_count": 1,
   "metadata": {},
   "outputs": [],
   "source": [
    "import numpy as np\n",
    "from scipy.special import legendre\n",
    "from scipy.integrate import trapz"
   ]
  },
  {
   "cell_type": "code",
   "execution_count": 2,
   "metadata": {},
   "outputs": [],
   "source": [
    "import matplotlib.pyplot as plt"
   ]
  },
  {
   "cell_type": "markdown",
   "metadata": {},
   "source": [
    "```\n",
    "//*********************************************************************\n",
    "//\n",
    "//       1D SN Calculation of a slab\n",
    "//\n",
    "//       |       |                             |\n",
    "//       |       |           g1         g2     |\n",
    "//       |       | Total    0.10       0.20    |\n",
    "//       | S1 .4 | G1->g    0.05       0.04    |\n",
    "//       | S2 .6 | G2->g    0.00       0.10    |\n",
    "//       |       |                             |\n",
    "//       |       |                             |\n",
    "//       |       |                             |\n",
    "//       |<-5cm->|<-----------45cm------------>|\n",
    "//       |       |                             |\n",
    "//\n",
    "//*********************************************************************\n",
    "```"
   ]
  },
  {
   "cell_type": "code",
   "execution_count": 4,
   "metadata": {},
   "outputs": [],
   "source": [
    "source = np.array([\n",
    "    0.4,\n",
    "    0.6\n",
    "])"
   ]
  },
  {
   "cell_type": "code",
   "execution_count": 5,
   "metadata": {},
   "outputs": [],
   "source": [
    "scattering = np.array([\n",
    "    [0.05, 0.04],\n",
    "    [0.00, 0.10]\n",
    "])\n",
    "total = np.array([0.10, 0.20])"
   ]
  },
  {
   "cell_type": "code",
   "execution_count": 19,
   "metadata": {},
   "outputs": [],
   "source": [
    "num_groups = source.shape[0]"
   ]
  },
  {
   "cell_type": "code",
   "execution_count": 6,
   "metadata": {},
   "outputs": [],
   "source": [
    "widths = np.array([5, 45])"
   ]
  },
  {
   "cell_type": "code",
   "execution_count": 7,
   "metadata": {},
   "outputs": [],
   "source": [
    "num_histories = 10000000"
   ]
  },
  {
   "cell_type": "markdown",
   "metadata": {},
   "source": [
    "```\n",
    "0.154283 (left g1)\n",
    "0.208895 (left g1)\n",
    "0.001082 (right g2)\n",
    "0.000314 (right g2)\n",
    "0.000000\n",
    "0.000000\n",
    "```"
   ]
  },
  {
   "cell_type": "code",
   "execution_count": 11,
   "metadata": {},
   "outputs": [],
   "source": [
    "# The legendre weights for Gauss Legendre Polynomials\n",
    "wt = []\n",
    "\n",
    "# Zeros of the Gauss Legendre Polynomials\n",
    "mu = []"
   ]
  },
  {
   "cell_type": "code",
   "execution_count": 13,
   "metadata": {},
   "outputs": [],
   "source": [
    "# Diamond Difference\n",
    "alpha = 0.5"
   ]
  },
  {
   "cell_type": "code",
   "execution_count": 14,
   "metadata": {},
   "outputs": [],
   "source": [
    "# HAHA just kidding we are gonna code STEP"
   ]
  },
  {
   "cell_type": "code",
   "execution_count": 15,
   "metadata": {},
   "outputs": [],
   "source": [
    "# Leakage to left\n",
    "left = []\n",
    "\n",
    "# Leakage to right\n",
    "right = []"
   ]
  },
  {
   "cell_type": "code",
   "execution_count": 25,
   "metadata": {},
   "outputs": [],
   "source": [
    "# Source should be per unit volume\n",
    "source /= widths[0] # 5 cm is width"
   ]
  },
  {
   "cell_type": "code",
   "execution_count": 31,
   "metadata": {},
   "outputs": [],
   "source": [
    "# NUMBER OF SPATIAL DIVISIONS FOR SOURCE\n",
    "num_source_divisions = 5\n",
    "assert num_source_divisions in [1, 2, 3, 4, 5]\n",
    "num_spatial = num_source_divisions * 10\n",
    "dx = np.sum(widths) / num_spatial"
   ]
  },
  {
   "cell_type": "code",
   "execution_count": 22,
   "metadata": {},
   "outputs": [],
   "source": [
    "# setQuadrature()\n",
    "# From lookup tables\n",
    "\"\"\"\n",
    "For each spatial section:\n",
    "    For each group:\n",
    "        Set all fluxes to zero\n",
    "\"\"\"\n",
    "scalar_flux = np.zeros((num_spatial, num_groups))"
   ]
  },
  {
   "cell_type": "code",
   "execution_count": 23,
   "metadata": {},
   "outputs": [
    {
     "data": {
      "text/plain": [
       "'\\nfor g in range(num_groups):\\n    for x in range(num_spatial):\\n        \\n'"
      ]
     },
     "execution_count": 23,
     "metadata": {},
     "output_type": "execute_result"
    }
   ],
   "source": [
    "# Build the source term\n",
    "# by adding scattering and external source\n",
    "# don't include in-group scattering (only ~external)\n",
    "\"\"\"\n",
    "for g in range(num_groups):\n",
    "    for x in range(num_spatial):\n",
    "        \n",
    "\"\"\""
   ]
  },
  {
   "cell_type": "code",
   "execution_count": 24,
   "metadata": {},
   "outputs": [],
   "source": [
    "# Inner iterations"
   ]
  },
  {
   "cell_type": "code",
   "execution_count": 26,
   "metadata": {},
   "outputs": [],
   "source": [
    "# Loop over directions"
   ]
  },
  {
   "cell_type": "code",
   "execution_count": 27,
   "metadata": {},
   "outputs": [],
   "source": [
    "# Loop over positions"
   ]
  },
  {
   "cell_type": "code",
   "execution_count": null,
   "metadata": {},
   "outputs": [],
   "source": []
  }
 ],
 "metadata": {
  "kernelspec": {
   "display_name": "Python [conda env:579]",
   "language": "python",
   "name": "conda-env-579-py"
  },
  "language_info": {
   "codemirror_mode": {
    "name": "ipython",
    "version": 3
   },
   "file_extension": ".py",
   "mimetype": "text/x-python",
   "name": "python",
   "nbconvert_exporter": "python",
   "pygments_lexer": "ipython3",
   "version": "3.6.6"
  }
 },
 "nbformat": 4,
 "nbformat_minor": 2
}
