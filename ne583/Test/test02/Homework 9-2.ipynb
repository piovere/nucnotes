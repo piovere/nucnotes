{
 "cells": [
  {
   "cell_type": "code",
   "execution_count": 152,
   "metadata": {},
   "outputs": [],
   "source": [
    "import numpy as np\n",
    "from numpy.polynomial.legendre import leggauss\n",
    "import matplotlib.pyplot as plt\n",
    "from scipy.special import expn\n",
    "from numba import jit"
   ]
  },
  {
   "cell_type": "code",
   "execution_count": 153,
   "metadata": {},
   "outputs": [],
   "source": [
    "NANG = 28\n",
    "NX = 1000000"
   ]
  },
  {
   "cell_type": "code",
   "execution_count": 154,
   "metadata": {},
   "outputs": [],
   "source": [
    "TOTXS = 1.0\n",
    "WIDTH = 5 / TOTXS\n",
    "DX = WIDTH / NX\n",
    "ALPHA = 0.8\n",
    "LEFT = 0.0\n",
    "RIGHT = 0.0"
   ]
  },
  {
   "cell_type": "code",
   "execution_count": 155,
   "metadata": {},
   "outputs": [],
   "source": [
    "mu, wt = leggauss(NANG)"
   ]
  },
  {
   "cell_type": "code",
   "execution_count": 156,
   "metadata": {},
   "outputs": [],
   "source": [
    "SCALAR = np.zeros(NX)"
   ]
  },
  {
   "cell_type": "code",
   "execution_count": 157,
   "metadata": {},
   "outputs": [
    {
     "name": "stdout",
     "output_type": "stream",
     "text": [
      "1.997974644811797\n"
     ]
    }
   ],
   "source": [
    "WTTOT = np.abs(mu) @ wt\n",
    "INFLUX = 2.0 / WTTOT\n",
    "print(INFLUX)"
   ]
  },
  {
   "cell_type": "code",
   "execution_count": 158,
   "metadata": {},
   "outputs": [],
   "source": [
    "INNER = 0\n",
    "EPS = 0.000001\n",
    "C = 10000"
   ]
  },
  {
   "cell_type": "code",
   "execution_count": 159,
   "metadata": {},
   "outputs": [],
   "source": [
    "SCALAROLD = np.zeros(NX)"
   ]
  },
  {
   "cell_type": "code",
   "execution_count": 160,
   "metadata": {},
   "outputs": [],
   "source": [
    "def step(phi0, mu, s=0, nx=NX, totxs=TOTXS, width=WIDTH):\n",
    "    dx = width / nx\n",
    "    phi1 = (s + mu * phi0 / dx) / (mu / dx + totxs)\n",
    "    fluxave = phi1\n",
    "    return phi1, fluxave"
   ]
  },
  {
   "cell_type": "code",
   "execution_count": 161,
   "metadata": {},
   "outputs": [],
   "source": [
    "def diamond_difference(phi0, mu, s=0, nx=NX, totxs=TOTXS, width=WIDTH):\n",
    "    dx = width / NX\n",
    "    mux = mu / dx\n",
    "    htotxs = totxs / 2\n",
    "    \n",
    "    phi1 = phi0 * (mux - htotxs) / (htotxs + mux)\n",
    "    \n",
    "    fluxave = (phi1 + phi0) / 2\n",
    "    \n",
    "    return phi1, fluxave"
   ]
  },
  {
   "cell_type": "code",
   "execution_count": 162,
   "metadata": {},
   "outputs": [],
   "source": [
    "def conv(scalar, scalarOld):\n",
    "    if np.all(scalar == 0):\n",
    "        return 1\n",
    "    else:\n",
    "        return np.max(np.abs(scalar - scalarOld) / scalar)"
   ]
  },
  {
   "cell_type": "code",
   "execution_count": 163,
   "metadata": {},
   "outputs": [],
   "source": [
    "INNER = 0\n",
    "while (C > EPS) and (INNER < 10000):\n",
    "    INNER += 1\n",
    "    SCALAROLD = np.copy(SCALAR)\n",
    "    SCALAR = np.zeros(NX)\n",
    "    \n",
    "    LEFT = 0\n",
    "    RIGHT = 0\n",
    "    \n",
    "    for ia in range(NANG):\n",
    "        phi0 = 0.0\n",
    "        muabs = abs(mu[ia])\n",
    "        \n",
    "        if mu[ia] > 0:\n",
    "            phi0 = INFLUX\n",
    "            \n",
    "        for ix0 in range(NX):\n",
    "            if mu[ia] < 0:\n",
    "                ix = NX - 1 - ix0\n",
    "            else:\n",
    "                ix = ix0\n",
    "\n",
    "            phi1, fluxave = step(phi0, mu[ia])\n",
    "            phi0 = phi1\n",
    "\n",
    "            SCALAR[ix] += wt[ia] * fluxave\n",
    "\n",
    "        if mu[ia] > 0:\n",
    "            RIGHT += wt[ia] * phi0 * mu[ia]\n",
    "        \n",
    "    C = conv(SCALAR, SCALAROLD)"
   ]
  },
  {
   "cell_type": "code",
   "execution_count": 164,
   "metadata": {},
   "outputs": [
    {
     "data": {
      "text/plain": [
       "2"
      ]
     },
     "execution_count": 164,
     "metadata": {},
     "output_type": "execute_result"
    }
   ],
   "source": [
    "INNER"
   ]
  },
  {
   "cell_type": "code",
   "execution_count": 165,
   "metadata": {},
   "outputs": [
    {
     "data": {
      "text/plain": [
       "0.001753852600331476"
      ]
     },
     "execution_count": 165,
     "metadata": {},
     "output_type": "execute_result"
    }
   ],
   "source": [
    "RIGHT"
   ]
  },
  {
   "cell_type": "code",
   "execution_count": 166,
   "metadata": {},
   "outputs": [
    {
     "data": {
      "text/plain": [
       "0.0017556017855412775"
      ]
     },
     "execution_count": 166,
     "metadata": {},
     "output_type": "execute_result"
    }
   ],
   "source": [
    "2*expn(3, 5)"
   ]
  },
  {
   "cell_type": "code",
   "execution_count": 167,
   "metadata": {},
   "outputs": [],
   "source": [
    "def weighted_diamond_difference(phi0, mu, s=0, nx=NX, totxs=TOTXS, alpha=0.8):\n",
    "    fluxave = (1 - alpha) * phi0 + alpha * phi1\n",
    "    raise NotImplementedError"
   ]
  },
  {
   "cell_type": "code",
   "execution_count": 169,
   "metadata": {},
   "outputs": [
    {
     "data": {
      "image/png": "[encoded data removed]",
      "text/plain": [
       "<Figure size 432x288 with 1 Axes>"
      ]
     },
     "metadata": {
      "needs_background": "light"
     },
     "output_type": "display_data"
    }
   ],
   "source": [
    "plt.plot(np.linspace(0, WIDTH, NX), SCALAR)\n",
    "plt.yscale('log')"
   ]
  },
  {
   "cell_type": "code",
   "execution_count": null,
   "metadata": {},
   "outputs": [],
   "source": []
  }
 ],
 "metadata": {
  "kernelspec": {
   "display_name": "Python [conda env:579]",
   "language": "python",
   "name": "conda-env-579-py"
  },
  "language_info": {
   "codemirror_mode": {
    "name": "ipython",
    "version": 3
   },
   "file_extension": ".py",
   "mimetype": "text/x-python",
   "name": "python",
   "nbconvert_exporter": "python",
   "pygments_lexer": "ipython3",
   "version": "3.6.6"
  }
 },
 "nbformat": 4,
 "nbformat_minor": 2
}
