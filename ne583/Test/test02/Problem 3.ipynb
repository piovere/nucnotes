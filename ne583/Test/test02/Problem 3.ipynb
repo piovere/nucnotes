{
 "cells": [
  {
   "cell_type": "markdown",
   "metadata": {},
   "source": [
    "# Problem 3"
   ]
  },
  {
   "cell_type": "code",
   "execution_count": 1,
   "metadata": {},
   "outputs": [],
   "source": [
    "from scipy.integrate import trapz\n",
    "from scipy.special import legendre\n",
    "from scipy.optimize.zeros import newton\n",
    "from numpy.polynomial.legendre import leggauss\n",
    "import numpy as np\n",
    "import matplotlib.pyplot as plt"
   ]
  },
  {
   "cell_type": "markdown",
   "metadata": {},
   "source": [
    "Plot the 14th Legendre polynomial to eyeball the starting guesses for the zeros"
   ]
  },
  {
   "cell_type": "code",
   "execution_count": 2,
   "metadata": {},
   "outputs": [],
   "source": [
    "x = np.linspace(-1, 1, 10000)"
   ]
  },
  {
   "cell_type": "code",
   "execution_count": 3,
   "metadata": {},
   "outputs": [],
   "source": [
    "l = legendre(14)"
   ]
  },
  {
   "cell_type": "code",
   "execution_count": 4,
   "metadata": {},
   "outputs": [
    {
     "data": {
      "text/plain": [
       "<matplotlib.lines.Line2D at 0x151fc5e630>"
      ]
     },
     "execution_count": 4,
     "metadata": {},
     "output_type": "execute_result"
    },
    {
     "data": {
      "image/png": "[encoded data removed]",
      "text/plain": [
       "<Figure size 432x288 with 1 Axes>"
      ]
     },
     "metadata": {
      "needs_background": "light"
     },
     "output_type": "display_data"
    }
   ],
   "source": [
    "plt.plot(x, l(x))\n",
    "plt.xlim(0, 1)\n",
    "plt.axhline(y=0, alpha=0.3, color='black')"
   ]
  },
  {
   "cell_type": "markdown",
   "metadata": {},
   "source": [
    "This has seven positive and seven negative zeros"
   ]
  },
  {
   "cell_type": "code",
   "execution_count": 5,
   "metadata": {},
   "outputs": [],
   "source": [
    "guesses = [\n",
    "    0.1,\n",
    "    0.33,\n",
    "    0.52,\n",
    "    0.7,\n",
    "    0.8,\n",
    "    0.9,\n",
    "    1.0\n",
    "]"
   ]
  },
  {
   "cell_type": "markdown",
   "metadata": {},
   "source": [
    "`newton` uses the Newton-Raphson method to find zeros of a function"
   ]
  },
  {
   "cell_type": "code",
   "execution_count": 6,
   "metadata": {},
   "outputs": [
    {
     "name": "stdout",
     "output_type": "stream",
     "text": [
      "[0.10805495 0.31911237 0.51524864 0.6872929  0.82720132 0.92843488\n",
      " 0.98628381]\n"
     ]
    }
   ],
   "source": [
    "zeros = np.array([newton(l, g) for g in guesses])\n",
    "print(zeros)"
   ]
  },
  {
   "cell_type": "markdown",
   "metadata": {},
   "source": [
    "Now I can construct the matrix of integrals for $x^n$"
   ]
  },
  {
   "cell_type": "markdown",
   "metadata": {},
   "source": [
    "Calculate the numerical integral of $x^n$ for even $n$'s"
   ]
  },
  {
   "cell_type": "code",
   "execution_count": 7,
   "metadata": {},
   "outputs": [
    {
     "name": "stdout",
     "output_type": "stream",
     "text": [
      "[1.         0.33333334 0.20000001 0.14285716 0.11111114 0.09090912\n",
      " 0.07692312 0.06666671]\n"
     ]
    }
   ],
   "source": [
    "integrals = np.array([0.5*trapz(x**n, x) for n in range(15)[::2]])\n",
    "print(integrals)"
   ]
  },
  {
   "cell_type": "markdown",
   "metadata": {},
   "source": [
    "Create a matrix where each column $j$ and row $i$ is $\\mu_j^{2i}$"
   ]
  },
  {
   "cell_type": "code",
   "execution_count": 8,
   "metadata": {},
   "outputs": [],
   "source": [
    "functions = np.array([zeros**n for n in range(15)[::2]])"
   ]
  },
  {
   "cell_type": "code",
   "execution_count": 9,
   "metadata": {},
   "outputs": [
    {
     "name": "stdout",
     "output_type": "stream",
     "text": [
      "[[1.0e+00 1.0e+00 1.0e+00 1.0e+00 1.0e+00 1.0e+00 1.0e+00]\n",
      " [1.2e-02 1.0e-01 2.7e-01 4.7e-01 6.8e-01 8.6e-01 9.7e-01]\n",
      " [1.4e-04 1.0e-02 7.0e-02 2.2e-01 4.7e-01 7.4e-01 9.5e-01]\n",
      " [1.6e-06 1.1e-03 1.9e-02 1.1e-01 3.2e-01 6.4e-01 9.2e-01]\n",
      " [1.9e-08 1.1e-04 5.0e-03 5.0e-02 2.2e-01 5.5e-01 9.0e-01]\n",
      " [2.2e-10 1.1e-05 1.3e-03 2.4e-02 1.5e-01 4.8e-01 8.7e-01]\n",
      " [2.5e-12 1.1e-06 3.5e-04 1.1e-02 1.0e-01 4.1e-01 8.5e-01]\n",
      " [3.0e-14 1.1e-07 9.3e-05 5.2e-03 7.0e-02 3.5e-01 8.2e-01]]\n"
     ]
    }
   ],
   "source": [
    "np.set_printoptions(precision=1)\n",
    "print(functions)"
   ]
  },
  {
   "cell_type": "code",
   "execution_count": 10,
   "metadata": {},
   "outputs": [],
   "source": [
    "np.set_printoptions(precision=8)"
   ]
  },
  {
   "cell_type": "markdown",
   "metadata": {},
   "source": [
    "Get the official values to compare with"
   ]
  },
  {
   "cell_type": "code",
   "execution_count": 11,
   "metadata": {},
   "outputs": [],
   "source": [
    "mus, wts = leggauss(14)"
   ]
  },
  {
   "cell_type": "markdown",
   "metadata": {},
   "source": [
    "Compare the official $\\mu$ values (stored in the variable `mus`) to my calculated values (stored in `zeros`)"
   ]
  },
  {
   "cell_type": "code",
   "execution_count": 12,
   "metadata": {},
   "outputs": [
    {
     "data": {
      "text/plain": [
       "array([0.10805495, 0.31911237, 0.51524864, 0.6872929 , 0.82720132,\n",
       "       0.92843488, 0.98628381])"
      ]
     },
     "execution_count": 12,
     "metadata": {},
     "output_type": "execute_result"
    }
   ],
   "source": [
    "mus[7:]"
   ]
  },
  {
   "cell_type": "code",
   "execution_count": 13,
   "metadata": {},
   "outputs": [
    {
     "data": {
      "text/plain": [
       "array([0.10805495, 0.31911237, 0.51524864, 0.6872929 , 0.82720132,\n",
       "       0.92843488, 0.98628381])"
      ]
     },
     "execution_count": 13,
     "metadata": {},
     "output_type": "execute_result"
    }
   ],
   "source": [
    "zeros"
   ]
  },
  {
   "cell_type": "markdown",
   "metadata": {},
   "source": [
    "Compare the official weights (stored in `wts`) to my calculated values (stored in `weights`)"
   ]
  },
  {
   "cell_type": "code",
   "execution_count": 14,
   "metadata": {},
   "outputs": [
    {
     "data": {
      "text/plain": [
       "array([0.21526385, 0.20519846, 0.1855384 , 0.15720317, 0.12151857,\n",
       "       0.08015809, 0.03511946])"
      ]
     },
     "execution_count": 14,
     "metadata": {},
     "output_type": "execute_result"
    }
   ],
   "source": [
    "wts[7:]"
   ]
  },
  {
   "cell_type": "code",
   "execution_count": 15,
   "metadata": {},
   "outputs": [
    {
     "data": {
      "text/plain": [
       "array([0.2152639 , 0.20519833, 0.18553859, 0.15720293, 0.12151886,\n",
       "       0.08015776, 0.03511963])"
      ]
     },
     "execution_count": 15,
     "metadata": {},
     "output_type": "execute_result"
    }
   ],
   "source": [
    "weights = np.linalg.inv(functions.T @ functions) @ functions.T @ integrals\n",
    "weights"
   ]
  },
  {
   "cell_type": "markdown",
   "metadata": {},
   "source": [
    "Calculate the fractional error between my calculated weights and the official ones"
   ]
  },
  {
   "cell_type": "code",
   "execution_count": 16,
   "metadata": {},
   "outputs": [
    {
     "data": {
      "text/plain": [
       "array([2.26432997e-07, 6.31964038e-07, 1.02687197e-06, 1.53383609e-06,\n",
       "       2.34609716e-06, 4.08863853e-06, 4.96849261e-06])"
      ]
     },
     "execution_count": 16,
     "metadata": {},
     "output_type": "execute_result"
    }
   ],
   "source": [
    "np.abs(weights - wts[7:]) / wts[7:]"
   ]
  },
  {
   "cell_type": "markdown",
   "metadata": {},
   "source": [
    "Pretty close! Within ~$10^{-4}$%"
   ]
  },
  {
   "cell_type": "code",
   "execution_count": null,
   "metadata": {},
   "outputs": [],
   "source": []
  }
 ],
 "metadata": {
  "kernelspec": {
   "display_name": "Python [conda env:579]",
   "language": "python",
   "name": "conda-env-579-py"
  },
  "language_info": {
   "codemirror_mode": {
    "name": "ipython",
    "version": 3
   },
   "file_extension": ".py",
   "mimetype": "text/x-python",
   "name": "python",
   "nbconvert_exporter": "python",
   "pygments_lexer": "ipython3",
   "version": "3.6.6"
  }
 },
 "nbformat": 4,
 "nbformat_minor": 2
}
