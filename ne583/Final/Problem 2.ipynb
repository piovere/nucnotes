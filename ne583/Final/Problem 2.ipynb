{
 "cells": [
  {
   "cell_type": "code",
   "execution_count": 1,
   "metadata": {},
   "outputs": [],
   "source": [
    "import numpy as np"
   ]
  },
  {
   "cell_type": "code",
   "execution_count": 17,
   "metadata": {},
   "outputs": [],
   "source": [
    "def center(left, right, avg):\n",
    "    return 2 * avg - 0.5 * (left + right)"
   ]
  },
  {
   "cell_type": "code",
   "execution_count": 3,
   "metadata": {},
   "outputs": [],
   "source": [
    "src = 1.0\n",
    "mu = 0.5\n",
    "sig = 1.0\n",
    "dx = 1.0"
   ]
  },
  {
   "cell_type": "code",
   "execution_count": 4,
   "metadata": {},
   "outputs": [],
   "source": [
    "def step(left, src=src, mu=mu, sig=sig, dx=dx):\n",
    "    mux = mu / dx\n",
    "    num = src + mux * left\n",
    "    den = mux + sig\n",
    "    \n",
    "    right = num / den\n",
    "    avg = right\n",
    "    \n",
    "    return right, avg"
   ]
  },
  {
   "cell_type": "code",
   "execution_count": 5,
   "metadata": {},
   "outputs": [],
   "source": [
    "def dd(left, src=src, mu=mu, sig=sig, dx=dx):\n",
    "    mux = mu / dx\n",
    "    sig2 = sig / 2\n",
    "    \n",
    "    num = src + (mux - sig2) * left\n",
    "    den = mux + sig2\n",
    "    \n",
    "    right = num / den\n",
    "    \n",
    "    avg = 0.5 * (left + right)\n",
    "    \n",
    "    return right, avg"
   ]
  },
  {
   "cell_type": "code",
   "execution_count": 6,
   "metadata": {},
   "outputs": [],
   "source": [
    "def wdd(left, src=src, mu=mu, sig=sig, dx=dx, alpha=0.8):\n",
    "    mux = mu / dx\n",
    "    \n",
    "    num = src + (mux - (1 - alpha) * sig) * left\n",
    "    den = mux + alpha * sig\n",
    "    \n",
    "    right = num / den\n",
    "    \n",
    "    avg = (1 - alpha) * left + alpha * right\n",
    "    \n",
    "    return right, avg"
   ]
  },
  {
   "cell_type": "code",
   "execution_count": 23,
   "metadata": {},
   "outputs": [
    {
     "data": {
      "text/plain": [
       "1.0"
      ]
     },
     "execution_count": 23,
     "metadata": {},
     "output_type": "execute_result"
    }
   ],
   "source": [
    "center(2.0, *step(2.0))"
   ]
  },
  {
   "cell_type": "code",
   "execution_count": 24,
   "metadata": {},
   "outputs": [],
   "source": [
    "def c_step(left, mu=mu, dx=dx, sig=sig, src=src):\n",
    "    mux = mu / dx\n",
    "    num = src + mux * left\n",
    "    den = mux + sig\n",
    "    return 1.5 * num / den - 0.5 * left"
   ]
  },
  {
   "cell_type": "code",
   "execution_count": 25,
   "metadata": {},
   "outputs": [
    {
     "data": {
      "text/plain": [
       "1.0"
      ]
     },
     "execution_count": 25,
     "metadata": {},
     "output_type": "execute_result"
    }
   ],
   "source": [
    "c_step(2.0)"
   ]
  },
  {
   "cell_type": "code",
   "execution_count": 26,
   "metadata": {},
   "outputs": [],
   "source": [
    "def c_dd(left, mu=mu, dx=dx, sig=sig, src=src):\n",
    "    mux = mu / dx\n",
    "    sig2 = sig / 2\n",
    "    num = src + (mux - sig2) * left\n",
    "    den = mux + sig2\n",
    "    return 0.5 * (left + num / den)"
   ]
  },
  {
   "cell_type": "code",
   "execution_count": 27,
   "metadata": {},
   "outputs": [
    {
     "data": {
      "text/plain": [
       "1.5"
      ]
     },
     "execution_count": 27,
     "metadata": {},
     "output_type": "execute_result"
    }
   ],
   "source": [
    "center(2.0, *dd(2.0))"
   ]
  },
  {
   "cell_type": "code",
   "execution_count": 28,
   "metadata": {},
   "outputs": [
    {
     "data": {
      "text/plain": [
       "1.5"
      ]
     },
     "execution_count": 28,
     "metadata": {},
     "output_type": "execute_result"
    }
   ],
   "source": [
    "c_dd(2.0)"
   ]
  },
  {
   "cell_type": "code",
   "execution_count": 29,
   "metadata": {},
   "outputs": [],
   "source": [
    "def c_wdd(left, mu=mu, dx=dx, sig=sig, src=src, alpha=0.8):\n",
    "    mux = mu / dx\n",
    "    num = src + (mux - (1 - alpha) * sig) * left\n",
    "    den = mux + alpha * sig\n",
    "    \n",
    "    fp = (1.5 - 2 * alpha) * left\n",
    "    sp = (2 * alpha - 0.5) * num / den\n",
    "    \n",
    "    return fp + sp"
   ]
  },
  {
   "cell_type": "code",
   "execution_count": 30,
   "metadata": {},
   "outputs": [
    {
     "data": {
      "text/plain": [
       "1.1538461538461537"
      ]
     },
     "execution_count": 30,
     "metadata": {},
     "output_type": "execute_result"
    }
   ],
   "source": [
    "center(2.0, *wdd(2.0))"
   ]
  },
  {
   "cell_type": "code",
   "execution_count": 31,
   "metadata": {},
   "outputs": [
    {
     "data": {
      "text/plain": [
       "1.1538461538461537"
      ]
     },
     "execution_count": 31,
     "metadata": {},
     "output_type": "execute_result"
    }
   ],
   "source": [
    "c_wdd(2.0)"
   ]
  },
  {
   "cell_type": "code",
   "execution_count": null,
   "metadata": {},
   "outputs": [],
   "source": []
  }
 ],
 "metadata": {
  "kernelspec": {
   "display_name": "Python [conda env:583]",
   "language": "python",
   "name": "conda-env-583-py"
  },
  "language_info": {
   "codemirror_mode": {
    "name": "ipython",
    "version": 3
   },
   "file_extension": ".py",
   "mimetype": "text/x-python",
   "name": "python",
   "nbconvert_exporter": "python",
   "pygments_lexer": "ipython3",
   "version": "3.6.7"
  }
 },
 "nbformat": 4,
 "nbformat_minor": 2
}
