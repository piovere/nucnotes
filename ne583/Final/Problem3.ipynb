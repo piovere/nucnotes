{
 "cells": [
  {
   "cell_type": "code",
   "execution_count": 17,
   "metadata": {},
   "outputs": [],
   "source": [
    "# Configuration\n",
    "nangles = 12\n",
    "nx_source = 10"
   ]
  },
  {
   "cell_type": "code",
   "execution_count": 7,
   "metadata": {},
   "outputs": [],
   "source": [
    "import numpy as np\n",
    "from numpy.polynomial.legendre import leggauss"
   ]
  },
  {
   "cell_type": "code",
   "execution_count": 2,
   "metadata": {},
   "outputs": [],
   "source": [
    "source = np.array([\n",
    "    0.4,\n",
    "    0.6\n",
    "])"
   ]
  },
  {
   "cell_type": "code",
   "execution_count": 4,
   "metadata": {},
   "outputs": [],
   "source": [
    "scattering = np.array([\n",
    "    [0.05, 0.04],\n",
    "    [0.0,  0.10]\n",
    "])"
   ]
  },
  {
   "cell_type": "code",
   "execution_count": 5,
   "metadata": {},
   "outputs": [],
   "source": [
    "totxs = np.array([\n",
    "    [0.1, .02]\n",
    "])"
   ]
  },
  {
   "cell_type": "code",
   "execution_count": 19,
   "metadata": {},
   "outputs": [],
   "source": [
    "ngroups = source.shape[0]"
   ]
  },
  {
   "cell_type": "code",
   "execution_count": 12,
   "metadata": {},
   "outputs": [],
   "source": [
    "nx = nx_source * 10"
   ]
  },
  {
   "cell_type": "code",
   "execution_count": 14,
   "metadata": {},
   "outputs": [],
   "source": [
    "width = 50\n",
    "dx = width / nx"
   ]
  },
  {
   "cell_type": "code",
   "execution_count": 9,
   "metadata": {},
   "outputs": [],
   "source": [
    "mus, wts = leggauss(nangles)"
   ]
  },
  {
   "cell_type": "code",
   "execution_count": 11,
   "metadata": {},
   "outputs": [],
   "source": [
    "def phiavg(phi_in, phi_out, alpha=0.8):\n",
    "    return phi_in * (1 - alpha) + phi_out * alpha"
   ]
  },
  {
   "cell_type": "code",
   "execution_count": 16,
   "metadata": {},
   "outputs": [],
   "source": [
    "def diamond_difference(phi0, src, sig, mu, dx, alpha=0.8):\n",
    "    \"\"\"Return the leakage and average flux\n",
    "    \n",
    "    Parameters\n",
    "    ----------\n",
    "    phi0 : float\n",
    "        Flux coming into the cell\n",
    "    src : float\n",
    "        Source in the cell\n",
    "    sig : float\n",
    "        Cross section for the group and cell\n",
    "    mu : float\n",
    "        angle for this problem\n",
    "    dx : float\n",
    "        width of the cell\n",
    "    alpha : float, optional\n",
    "        Value of alpha parameter for diamond difference formula\n",
    "        \n",
    "    Returns\n",
    "    -------\n",
    "    phi1 : float\n",
    "        Flux leakage out of the cell (left boundary for mu<0, \n",
    "        right boundary otherwise)\n",
    "    phiavg : float\n",
    "        Average flux in the cell\n",
    "    \"\"\"\n",
    "    mux = mu / dx\n",
    "    num = src + (mux - (1 - alpha) * sig) * phi0\n",
    "    den = mux + alpha * sig\n",
    "    phi1 = num / den\n",
    "    phiavg = (1 - alpha) * phi0 + alpha * phi1\n",
    "    return phi1, phiavg"
   ]
  },
  {
   "cell_type": "code",
   "execution_count": null,
   "metadata": {},
   "outputs": [],
   "source": []
  }
 ],
 "metadata": {
  "kernelspec": {
   "display_name": "Python 583",
   "language": "python",
   "name": "583"
  },
  "language_info": {
   "codemirror_mode": {
    "name": "ipython",
    "version": 3
   },
   "file_extension": ".py",
   "mimetype": "text/x-python",
   "name": "python",
   "nbconvert_exporter": "python",
   "pygments_lexer": "ipython3",
   "version": "3.6.7"
  }
 },
 "nbformat": 4,
 "nbformat_minor": 2
}
