{
 "cells": [
  {
   "cell_type": "code",
   "execution_count": 1,
   "metadata": {
    "collapsed": false
   },
   "outputs": [],
   "source": [
    "%matplotlib inline\n",
    "import numpy as np\n",
    "import matplotlib.pyplot as plt\n",
    "import scipy.constants as const\n",
    "import pandas as pd\n",
    "from scipy.stats import norm\n",
    "from scipy.integrate import trapz"
   ]
  },
  {
   "cell_type": "markdown",
   "metadata": {},
   "source": [
    "# Soil Calculations"
   ]
  },
  {
   "cell_type": "markdown",
   "metadata": {},
   "source": [
    "In order to calculate the fraction of the soil made up of various radioactive components, the following equation was used:"
   ]
  },
  {
   "cell_type": "markdown",
   "metadata": {},
   "source": [
    "\\begin{align*}\n",
    "    \\dot{N} &= \\lambda N \\\\\n",
    "    &= \\lambda \\frac{m_{Isotope} A_v}{m_{Molar}} \\\\\n",
    "    & \\rightarrow \\\\\n",
    "    m_{Isotope} &= \\frac{t_{1/2} m_{Molar} \\dot{N}}{\\ln{\\left( 2 \\right)} A_v}\n",
    "\\end{align*}"
   ]
  },
  {
   "cell_type": "markdown",
   "metadata": {},
   "source": [
    "For Uranium:"
   ]
  },
  {
   "cell_type": "markdown",
   "metadata": {},
   "source": [
    "\\begin{align*}\n",
    "    \\dot{N}_U = \\ln{\\left(2\\right)} \\left[ \\frac{f m_U A_v}{\\left( t_{1/2}  m_{Molar} \\right)_{235}} + \\frac{\\left( 1-f \\right) m_U A_v}{\\left( t_{1/2}  m_{Molar} \\right)_{238}} \\right]\n",
    "\\end{align*}\n",
    "\n",
    "Where $f$ is the mass enrichment fraction (0.7% for natural Uranium)"
   ]
  },
  {
   "cell_type": "code",
   "execution_count": 2,
   "metadata": {
    "collapsed": true
   },
   "outputs": [],
   "source": [
    "def soil_comp(half_life, molar_mass, activity):\n",
    "    num = half_life * molar_mass * activity\n",
    "    den = np.log(2) * const.Avogadro * 1000.\n",
    "    \n",
    "    return num / den"
   ]
  },
  {
   "cell_type": "code",
   "execution_count": 3,
   "metadata": {
    "collapsed": true
   },
   "outputs": [],
   "source": [
    "soil_isotopes = pd.DataFrame(\n",
    "    [\n",
    "        ['Cs-137', 30.05, 136.907, 200e-12 * 3.7e10],\n",
    "        ['K-40', 1.251e9, 39.96399848, 370],\n",
    "        ['Th-232', 1.405e10, 232.0380553, 35]\n",
    "    ],\n",
    "    columns=[\n",
    "        'Isotope',\n",
    "        'Half Life',\n",
    "        'Molar Mass',\n",
    "        'Activity'\n",
    "    ]\n",
    ")"
   ]
  },
  {
   "cell_type": "code",
   "execution_count": 4,
   "metadata": {
    "collapsed": false
   },
   "outputs": [],
   "source": [
    "soil_isotopes['Mass/kg soil'] = soil_comp(\n",
    "    soil_isotopes['Half Life'] * 365.241 * 24 * 60 * 60,\n",
    "    soil_isotopes['Molar Mass'],\n",
    "    soil_isotopes['Activity']\n",
    ")"
   ]
  },
  {
   "cell_type": "code",
   "execution_count": 5,
   "metadata": {
    "collapsed": false
   },
   "outputs": [
    {
     "name": "stdout",
     "output_type": "stream",
     "text": [
      "Uranium Mass (per kg):\t2.71126930474e-06\n",
      "U-235 Mass (per kg):\t1.89788851332e-08\n",
      "U-238 Mass (per kg):\t2.69229041961e-06\n"
     ]
    }
   ],
   "source": [
    "m_M_25 = 235.0439299\n",
    "m_M_28 = 238.0507882\n",
    "\n",
    "t_25 = 7.04e8 * 365.241 * 24 * 60 * 60\n",
    "t_28 = 4.468e9 * 365.241 * 24 * 60 * 60\n",
    "\n",
    "AV = const.Avogadro\n",
    "\n",
    "f = 0.007\n",
    "\n",
    "A_U = 35\n",
    "\n",
    "m_U = 1e-3 / ((AV * np.log(2) / A_U) * (f / (t_25 * m_M_25) + (1 - f)/(t_28 * m_M_28)))\n",
    "print(\"Uranium Mass (per kg):\\t{0}\".format(m_U))\n",
    "print(\"U-235 Mass (per kg):\\t{0}\".format(m_U * f))\n",
    "print(\"U-238 Mass (per kg):\\t{0}\".format(m_U * (1 - f)))"
   ]
  },
  {
   "cell_type": "code",
   "execution_count": 6,
   "metadata": {
    "collapsed": false
   },
   "outputs": [],
   "source": [
    "soil_isotopes = soil_isotopes.append(pd.DataFrame(\n",
    "    [\n",
    "        ['U-235', t_25, m_M_25, np.NaN, 6.01419398082e-13],\n",
    "        ['U-238', t_28, m_M_28, np.NaN, 8.53156374707e-11]\n",
    "    ],\n",
    "    columns=[\n",
    "        'Isotope',\n",
    "        'Half Life',\n",
    "        'Molar Mass',\n",
    "        'Activity',\n",
    "        'Mass/kg soil'\n",
    "    ]\n",
    "))"
   ]
  },
  {
   "cell_type": "code",
   "execution_count": 7,
   "metadata": {
    "collapsed": false
   },
   "outputs": [
    {
     "name": "stdout",
     "output_type": "stream",
     "text": [
      "Soil Mass:\t26754.0\n"
     ]
    }
   ],
   "source": [
    "mass_soil = 700 * 700 * 30 * 1.82 / 1000\n",
    "print(\"Soil Mass:\\t{0}\".format(mass_soil))"
   ]
  },
  {
   "cell_type": "code",
   "execution_count": 8,
   "metadata": {
    "collapsed": false
   },
   "outputs": [
    {
     "data": {
      "text/html": [
       "<div>\n",
       "<table border=\"1\" class=\"dataframe\">\n",
       "  <thead>\n",
       "    <tr style=\"text-align: right;\">\n",
       "      <th></th>\n",
       "      <th>Isotope</th>\n",
       "      <th>Half Life</th>\n",
       "      <th>Molar Mass</th>\n",
       "      <th>Activity</th>\n",
       "      <th>Mass/kg soil</th>\n",
       "    </tr>\n",
       "  </thead>\n",
       "  <tbody>\n",
       "    <tr>\n",
       "      <th>0</th>\n",
       "      <td>Cs-137</td>\n",
       "      <td>3.005000e+01</td>\n",
       "      <td>136.907000</td>\n",
       "      <td>7.4</td>\n",
       "      <td>2.301541e-15</td>\n",
       "    </tr>\n",
       "    <tr>\n",
       "      <th>1</th>\n",
       "      <td>K-40</td>\n",
       "      <td>1.251000e+09</td>\n",
       "      <td>39.963998</td>\n",
       "      <td>370.0</td>\n",
       "      <td>1.398443e-06</td>\n",
       "    </tr>\n",
       "    <tr>\n",
       "      <th>2</th>\n",
       "      <td>Th-232</td>\n",
       "      <td>1.405000e+10</td>\n",
       "      <td>232.038055</td>\n",
       "      <td>35.0</td>\n",
       "      <td>8.626218e-06</td>\n",
       "    </tr>\n",
       "    <tr>\n",
       "      <th>0</th>\n",
       "      <td>U-235</td>\n",
       "      <td>2.221600e+16</td>\n",
       "      <td>235.043930</td>\n",
       "      <td>NaN</td>\n",
       "      <td>6.014194e-13</td>\n",
       "    </tr>\n",
       "    <tr>\n",
       "      <th>1</th>\n",
       "      <td>U-238</td>\n",
       "      <td>1.409959e+17</td>\n",
       "      <td>238.050788</td>\n",
       "      <td>NaN</td>\n",
       "      <td>8.531564e-11</td>\n",
       "    </tr>\n",
       "  </tbody>\n",
       "</table>\n",
       "</div>"
      ],
      "text/plain": [
       "  Isotope     Half Life  Molar Mass  Activity  Mass/kg soil\n",
       "0  Cs-137  3.005000e+01  136.907000       7.4  2.301541e-15\n",
       "1    K-40  1.251000e+09   39.963998     370.0  1.398443e-06\n",
       "2  Th-232  1.405000e+10  232.038055      35.0  8.626218e-06\n",
       "0   U-235  2.221600e+16  235.043930       NaN  6.014194e-13\n",
       "1   U-238  1.409959e+17  238.050788       NaN  8.531564e-11"
      ]
     },
     "execution_count": 8,
     "metadata": {},
     "output_type": "execute_result"
    }
   ],
   "source": [
    "soil_isotopes"
   ]
  },
  {
   "cell_type": "code",
   "execution_count": 9,
   "metadata": {
    "collapsed": false
   },
   "outputs": [
    {
     "name": "stdout",
     "output_type": "stream",
     "text": [
      "Photons in 10s from soil:\t79994460.0\n"
     ]
    }
   ],
   "source": [
    "specific_activity_soil = 2.99e2 # photon/second/kg\n",
    "time = 10 # seconds\n",
    "activity = specific_activity_soil * time *  mass_soil\n",
    "print(\"Photons in 10s from soil:\\t{0}\".format(activity))"
   ]
  },
  {
   "cell_type": "markdown",
   "metadata": {},
   "source": [
    "# MCNP Results"
   ]
  },
  {
   "cell_type": "code",
   "execution_count": 10,
   "metadata": {
    "collapsed": false
   },
   "outputs": [
    {
     "name": "stdout",
     "output_type": "stream",
     "text": [
      "Background:\t\t2583.82 +/- 203.325158306\n",
      "Source plus Background\t2769.38 +/- 210.499596199\n"
     ]
    }
   ],
   "source": [
    "bkg_mean = 2583.82 # From F8 tally of Bkg.o\n",
    "src_plus_bkg_mean = 2769.38 # From F8 tally of Bkg\n",
    "bkg_sigma = 4 * bkg_mean ** 0.5\n",
    "src_plus_bkg_sigma = 4 * src_plus_bkg_mean ** 0.5\n",
    "print(\"Background:\\t\\t{0} +/- {1}\".format(bkg_mean, bkg_sigma))\n",
    "print(\"Source plus Background\\t{0} +/- {1}\".format(src_plus_bkg_mean, \n",
    "                                                   src_plus_bkg_sigma))"
   ]
  },
  {
   "cell_type": "markdown",
   "metadata": {
    "collapsed": true
   },
   "source": [
    "# ROC Curve"
   ]
  },
  {
   "cell_type": "markdown",
   "metadata": {},
   "source": [
    "## Notes\n",
    "- I originally defined a function to generate a normal/Gaussian distribution: $$ P(x) = \\frac{1}{\\sqrt{2 \\pi \\sigma^2}} \\mathrm{e}^{-\\frac{\\left( x - \\mu \\right)^2}{2 \\sigma^2}} $$, but found that the function built into the SciPy library was more performant. A similar result was found for the CDF (when generating the ROC curve).\n",
    "- Similarly, rather than perform the numerical integration with a self-built function, the SciPy function \"trapz\" was used."
   ]
  },
  {
   "cell_type": "code",
   "execution_count": 11,
   "metadata": {
    "collapsed": false
   },
   "outputs": [
    {
     "data": {
      "image/png": "[encoded data removed]",
      "text/plain": [
       "<matplotlib.figure.Figure at 0x104f66050>"
      ]
     },
     "metadata": {},
     "output_type": "display_data"
    }
   ],
   "source": [
    "x = np.linspace(1000, 4000, 3000)\n",
    "\n",
    "plt.plot(x, norm.pdf(x, loc=bkg_mean, scale=bkg_sigma), color='b', label=\"Background\")\n",
    "plt.fill(x, norm.pdf(x, loc=bkg_mean, scale=bkg_sigma), color='b', alpha=0.25)\n",
    "plt.plot(x, norm.pdf(x, loc=src_plus_bkg_mean, scale=src_plus_bkg_sigma), \n",
    "         color='r', label=\"Source + Background\")\n",
    "plt.fill(x, norm.pdf(x, loc=src_plus_bkg_mean, scale=src_plus_bkg_sigma), \n",
    "         color='r', alpha=0.25)\n",
    "\n",
    "plt.ylabel(\"Probabililty\")\n",
    "plt.xlabel(\"Counts\")\n",
    "plt.title(\"Source and Source+Background Probability\")\n",
    "\n",
    "plt.legend(loc=\"upper left\", fontsize=10)\n",
    "\n",
    "plt.show()"
   ]
  },
  {
   "cell_type": "code",
   "execution_count": 12,
   "metadata": {
    "collapsed": true
   },
   "outputs": [],
   "source": [
    "def rocval(threshold, bkg_mean=bkg_mean, \n",
    "           bkg_sigma=bkg_sigma, \n",
    "           src_plus_bkg_mean=src_plus_bkg_mean, \n",
    "           src_plus_bkg_sigma=src_plus_bkg_sigma):\n",
    "    falsepos = 1 - norm.cdf(\n",
    "        threshold, \n",
    "        loc=bkg_mean, \n",
    "        scale=bkg_sigma\n",
    "    )\n",
    "    truepos = 1 - norm.cdf(\n",
    "        threshold, \n",
    "        loc=src_plus_bkg_mean, \n",
    "        scale=src_plus_bkg_sigma\n",
    "    )\n",
    "    return falsepos, truepos"
   ]
  },
  {
   "cell_type": "code",
   "execution_count": 13,
   "metadata": {
    "collapsed": false
   },
   "outputs": [
    {
     "data": {
      "image/png": "[encoded data removed]",
      "text/plain": [
       "<matplotlib.figure.Figure at 0x1089a3b10>"
      ]
     },
     "metadata": {},
     "output_type": "display_data"
    }
   ],
   "source": [
    "plt.plot([rocval(t)[0] for t in range(4000)], \n",
    "         [rocval(t)[1] for t in range(4000)])\n",
    "plt.title(\"ROC Curve\")\n",
    "plt.xlabel(\"False Positive Rate\")\n",
    "plt.ylabel(\"True Positive Rate\")\n",
    "plt.axes().set_aspect('equal')\n",
    "plt.show()"
   ]
  },
  {
   "cell_type": "markdown",
   "metadata": {},
   "source": [
    "# Area Under the Curve"
   ]
  },
  {
   "cell_type": "code",
   "execution_count": 14,
   "metadata": {
    "collapsed": false
   },
   "outputs": [
    {
     "data": {
      "text/plain": [
       "0.73697270560359263"
      ]
     },
     "execution_count": 14,
     "metadata": {},
     "output_type": "execute_result"
    }
   ],
   "source": [
    "trapz([rocval(t)[1] for t in range(4000)][::-1], \n",
    "      x=[rocval(t)[0] for t in range(4000)][::-1])"
   ]
  },
  {
   "cell_type": "markdown",
   "metadata": {},
   "source": [
    "The area under the curve for this detector is $0.737$. "
   ]
  },
  {
   "cell_type": "code",
   "execution_count": null,
   "metadata": {
    "collapsed": true
   },
   "outputs": [],
   "source": []
  }
 ],
 "metadata": {
  "anaconda-cloud": {},
  "kernelspec": {
   "display_name": "Python [conda env:nuc]",
   "language": "python",
   "name": "conda-env-nuc-py"
  },
  "language_info": {
   "codemirror_mode": {
    "name": "ipython",
    "version": 2
   },
   "file_extension": ".py",
   "mimetype": "text/x-python",
   "name": "python",
   "nbconvert_exporter": "python",
   "pygments_lexer": "ipython2",
   "version": "2.7.13"
  }
 },
 "nbformat": 4,
 "nbformat_minor": 2
}
