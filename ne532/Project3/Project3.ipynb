{
 "cells": [
  {
   "cell_type": "code",
   "execution_count": 3,
   "metadata": {
    "collapsed": false
   },
   "outputs": [],
   "source": [
    "%matplotlib inline\n",
    "import numpy as np\n",
    "import matplotlib.pyplot as plt\n",
    "from pyne.material import MaterialLibrary\n",
    "from pyne import nuc_data\n",
    "mats = MaterialLibrary(nuc_data,\n",
    "                       datapath='/material_library/materials',\n",
    "                       nucpath='/material_library/nucid')\n",
    "from pyne.material import Material"
   ]
  },
  {
   "cell_type": "code",
   "execution_count": 9,
   "metadata": {
    "collapsed": false
   },
   "outputs": [
    {
     "data": {
      "text/plain": [
       "[u'Uranium Hexafluoride',\n",
       " u'Uranium Trioxide',\n",
       " u'Uranium, Low Enriched (LEU)',\n",
       " u'Uranium, HEU, Health Physics Society',\n",
       " u'Uranium, Natural (NU)',\n",
       " u'Uranium, Depleted, Typical',\n",
       " u'Uranium Nitride',\n",
       " u'Uranium, HEU, Russian Average',\n",
       " u'Uranium, Enriched, Typical Commercial',\n",
       " u'Uranium-Plutonium, Mixed Oxide (MOX)',\n",
       " u'Uranium Dicarbide',\n",
       " u'Uranium Carbide',\n",
       " u'Uranium Hydride',\n",
       " u'Uranium Dioxide',\n",
       " u'Uranium Tetrafluoride',\n",
       " u'Uranium Oxide',\n",
       " u'Uranium, HEU, US Average']"
      ]
     },
     "execution_count": 9,
     "metadata": {},
     "output_type": "execute_result"
    }
   ],
   "source": [
    "[k for k in mats.keys() if 'Urani' in k]"
   ]
  },
  {
   "cell_type": "code",
   "execution_count": 7,
   "metadata": {
    "collapsed": false
   },
   "outputs": [
    {
     "data": {
      "text/plain": [
       "pyne.material.Material({920000000: 1.0}, 1.0, -1.0, -1.0, {})"
      ]
     },
     "execution_count": 7,
     "metadata": {},
     "output_type": "execute_result"
    }
   ],
   "source": [
    "Material({'U': 1.0})"
   ]
  },
  {
   "cell_type": "code",
   "execution_count": 10,
   "metadata": {
    "collapsed": false
   },
   "outputs": [
    {
     "data": {
      "text/plain": [
       "pyne.material.Material({922340000: 5.7e-05, 922350000: 0.007204, 922380000: 0.992739}, 1.0, 18.95, -1.0, {\"name\":\"Uranium, Natural (NU)\"})"
      ]
     },
     "execution_count": 10,
     "metadata": {},
     "output_type": "execute_result"
    }
   ],
   "source": [
    "mats['Uranium, Natural (NU)']"
   ]
  },
  {
   "cell_type": "code",
   "execution_count": null,
   "metadata": {
    "collapsed": true
   },
   "outputs": [],
   "source": []
  }
 ],
 "metadata": {
  "anaconda-cloud": {},
  "kernelspec": {
   "display_name": "Python [conda env:nuc]",
   "language": "python",
   "name": "conda-env-nuc-py"
  },
  "language_info": {
   "codemirror_mode": {
    "name": "ipython",
    "version": 2
   },
   "file_extension": ".py",
   "mimetype": "text/x-python",
   "name": "python",
   "nbconvert_exporter": "python",
   "pygments_lexer": "ipython2",
   "version": "2.7.13"
  }
 },
 "nbformat": 4,
 "nbformat_minor": 2
}
