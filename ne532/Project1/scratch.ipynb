{
 "cells": [
  {
   "cell_type": "code",
   "execution_count": 83,
   "metadata": {
    "collapsed": false
   },
   "outputs": [],
   "source": [
    "%matplotlib inline\n",
    "import matplotlib.pyplot as plt\n",
    "from pyne import material\n",
    "from pyne.material import MaterialLibrary\n",
    "from pyne import nuc_data\n",
    "mats = MaterialLibrary(nuc_data, datapath='/material_library/materials', nucpath='/material_library/nucid')"
   ]
  },
  {
   "cell_type": "code",
   "execution_count": 84,
   "metadata": {
    "collapsed": false
   },
   "outputs": [],
   "source": [
    "w = mats['Water, Liquid']"
   ]
  },
  {
   "cell_type": "code",
   "execution_count": 85,
   "metadata": {
    "collapsed": false
   },
   "outputs": [
    {
     "data": {
      "text/plain": [
       "u'C name: Water, Liquid\\nC density = 1.0\\nm?\\n     1001 -1.1187e-01\\n     1002 -2.5713e-05\\n     8016 -8.8570e-01\\n     8017 -3.5857e-04\\n     8018 -2.0482e-03\\n'"
      ]
     },
     "execution_count": 85,
     "metadata": {},
     "output_type": "execute_result"
    }
   ],
   "source": [
    "w.mcnp()"
   ]
  },
  {
   "cell_type": "code",
   "execution_count": 86,
   "metadata": {
    "collapsed": false
   },
   "outputs": [
    {
     "data": {
      "text/plain": [
       "u'C name: Air (dry, near sea level)\\nC density = 0.0\\nm?\\n     6012 -1.2256e-04\\n     6013 -1.4365e-06\\n     7014 -7.5232e-01\\n     7015 -2.9442e-03\\n     8016 -2.3115e-01\\n     8017 -9.3580e-05\\n     8018 -5.3454e-04\\n     18036 -3.8527e-05\\n     18038 -7.6673e-06\\n     18040 -1.2781e-02\\n'"
      ]
     },
     "execution_count": 86,
     "metadata": {},
     "output_type": "execute_result"
    }
   ],
   "source": [
    "a = mats[\"Air (dry, near sea level)\"]\n",
    "a.mcnp()"
   ]
  },
  {
   "cell_type": "markdown",
   "metadata": {},
   "source": [
    "# Energy bins"
   ]
  },
  {
   "cell_type": "markdown",
   "metadata": {},
   "source": [
    "## 0.6 - 1.5 MeV"
   ]
  },
  {
   "cell_type": "code",
   "execution_count": 87,
   "metadata": {
    "collapsed": true
   },
   "outputs": [],
   "source": [
    "import numpy as np"
   ]
  },
  {
   "cell_type": "code",
   "execution_count": 88,
   "metadata": {
    "collapsed": false
   },
   "outputs": [],
   "source": [
    "def med_erg(e):\n",
    "    return 20.2 * np.exp(-1.78 * e)"
   ]
  },
  {
   "cell_type": "code",
   "execution_count": 89,
   "metadata": {
    "collapsed": false
   },
   "outputs": [
    {
     "data": {
      "text/plain": [
       "6.9426434627486771"
      ]
     },
     "execution_count": 89,
     "metadata": {},
     "output_type": "execute_result"
    }
   ],
   "source": [
    "med_erg(0.6)"
   ]
  },
  {
   "cell_type": "code",
   "execution_count": 90,
   "metadata": {
    "collapsed": false
   },
   "outputs": [
    {
     "data": {
      "text/plain": [
       "1.5291050114426159"
      ]
     },
     "execution_count": 90,
     "metadata": {},
     "output_type": "execute_result"
    }
   ],
   "source": [
    "med_erg(1.5-0.05)"
   ]
  },
  {
   "cell_type": "markdown",
   "metadata": {},
   "source": [
    "## 1.5 - 10.5 MeV"
   ]
  },
  {
   "cell_type": "code",
   "execution_count": 91,
   "metadata": {
    "collapsed": true
   },
   "outputs": [],
   "source": [
    "def high_erg(e):\n",
    "    return 7.2 * np.exp(-1.09 * e)"
   ]
  },
  {
   "cell_type": "code",
   "execution_count": 92,
   "metadata": {
    "collapsed": false
   },
   "outputs": [
    {
     "data": {
      "text/plain": [
       "1.4036570733541136"
      ]
     },
     "execution_count": 92,
     "metadata": {},
     "output_type": "execute_result"
    }
   ],
   "source": [
    "high_erg(1.5)"
   ]
  },
  {
   "cell_type": "code",
   "execution_count": 93,
   "metadata": {
    "collapsed": false
   },
   "outputs": [
    {
     "data": {
      "text/plain": [
       "7.7060558285406563e-05"
      ]
     },
     "execution_count": 93,
     "metadata": {},
     "output_type": "execute_result"
    }
   ],
   "source": [
    "high_erg(10.5)"
   ]
  },
  {
   "cell_type": "code",
   "execution_count": 94,
   "metadata": {
    "collapsed": false
   },
   "outputs": [
    {
     "data": {
      "image/png": "[encoded data removed]",
      "text/plain": [
       "<matplotlib.figure.Figure at 0x112cbed10>"
      ]
     },
     "metadata": {},
     "output_type": "display_data"
    }
   ],
   "source": [
    "x = np.linspace(1.5, 10.5, 18)\n",
    "plt.plot(x, np.log10(high_erg(x)))\n",
    "plt.plot(x, [np.log10(high_erg(xi)) for xi in x], \"x\")\n",
    "plt.show()"
   ]
  },
  {
   "cell_type": "markdown",
   "metadata": {
    "collapsed": true
   },
   "source": [
    "# How many photons correspond to 1e5 n/s?"
   ]
  },
  {
   "cell_type": "code",
   "execution_count": 95,
   "metadata": {
    "collapsed": true
   },
   "outputs": [],
   "source": [
    "n_per_s = 1e5\n",
    "n_per_fission = 3.76\n",
    "fission_per_s = n_per_s / n_per_fission\n",
    "g_per_fission = 8.13\n",
    "g_per_s = g_per_fission * fission_per_s"
   ]
  },
  {
   "cell_type": "code",
   "execution_count": 96,
   "metadata": {
    "collapsed": false
   },
   "outputs": [
    {
     "data": {
      "text/plain": [
       "216223.40425531918"
      ]
     },
     "execution_count": 96,
     "metadata": {},
     "output_type": "execute_result"
    }
   ],
   "source": [
    "g_per_s"
   ]
  },
  {
   "cell_type": "code",
   "execution_count": 97,
   "metadata": {
    "collapsed": false
   },
   "outputs": [],
   "source": [
    "g_per_shake = g_per_s * 1e-8 # (g / s * s / shake)"
   ]
  },
  {
   "cell_type": "code",
   "execution_count": 98,
   "metadata": {
    "collapsed": false
   },
   "outputs": [
    {
     "data": {
      "text/plain": [
       "0.0021622340425531917"
      ]
     },
     "execution_count": 98,
     "metadata": {},
     "output_type": "execute_result"
    }
   ],
   "source": [
    "g_per_shake"
   ]
  },
  {
   "cell_type": "code",
   "execution_count": 99,
   "metadata": {
    "collapsed": true
   },
   "outputs": [],
   "source": [
    "import pandas as pd"
   ]
  },
  {
   "cell_type": "code",
   "execution_count": 110,
   "metadata": {
    "collapsed": false
   },
   "outputs": [],
   "source": [
    "photon_time = pd.read_csv('photon_data.tsv', sep=r'\\s*')"
   ]
  },
  {
   "cell_type": "code",
   "execution_count": 101,
   "metadata": {
    "collapsed": false
   },
   "outputs": [
    {
     "data": {
      "image/png": "[encoded data removed]",
      "text/plain": [
       "<matplotlib.figure.Figure at 0x11230e710>"
      ]
     },
     "metadata": {},
     "output_type": "display_data"
    }
   ],
   "source": [
    "plt.errorbar(photon_time[\"Time\"], photon_time[\"Tally\"], photon_time[\"Error\"] * photon_time[\"Tally\"], fmt=\"*\")\n",
    "plt.title(\"Photons crossing sphere vs. Time (shakes)\")\n",
    "plt.xlabel(\"Time (shakes)\")\n",
    "#plt.ylim([0.,1.05])\n",
    "plt.show()"
   ]
  },
  {
   "cell_type": "markdown",
   "metadata": {},
   "source": [
    "# Photon stupid check table 110"
   ]
  },
  {
   "cell_type": "code",
   "execution_count": 102,
   "metadata": {
    "collapsed": true
   },
   "outputs": [],
   "source": [
    "import numpy as np"
   ]
  },
  {
   "cell_type": "code",
   "execution_count": 103,
   "metadata": {
    "collapsed": false
   },
   "outputs": [],
   "source": [
    "photon_dist = pd.read_csv('photon_table_110.tsv', sep=r'\\s*')"
   ]
  },
  {
   "cell_type": "code",
   "execution_count": 143,
   "metadata": {
    "collapsed": false
   },
   "outputs": [
    {
     "data": {
      "image/png": "[encoded data removed]",
      "text/plain": [
       "<matplotlib.figure.Figure at 0x1123e6390>"
      ]
     },
     "metadata": {},
     "output_type": "display_data"
    }
   ],
   "source": [
    "bins = np.arange(0.1, 0.6, 0.05)\n",
    "bins = np.append(bins, np.arange(0.6, 1.5, 0.05))\n",
    "bins = np.append(bins, np.arange(1.5, 10.5, 0.5))\n",
    "plt.hist(photon_dist['energy'], bins=bins)\n",
    "plt.axvline(0.1, color=\"r\", linestyle='dotted')\n",
    "plt.axvline(0.6, color=\"r\", linestyle='dotted')\n",
    "plt.axvline(1.5, color=\"r\", linestyle='dotted')\n",
    "plt.axvline(10.5, color=\"r\", linestyle='dotted')\n",
    "x1 = np.linspace(0.1, 0.6, 1000)\n",
    "x2 = np.linspace(0.6, 1.5, 1000)\n",
    "x3 = np.linspace(1.5, 10.5, 1000)\n",
    "plt.plot(x1, [6.6 for x in x1], \"g--\")\n",
    "plt.plot(x2, med_erg(x2), \"g--\")\n",
    "plt.plot(x3, high_erg(x3), \"g--\")\n",
    "plt.show()"
   ]
  },
  {
   "cell_type": "code",
   "execution_count": 105,
   "metadata": {
    "collapsed": false
   },
   "outputs": [
    {
     "data": {
      "text/plain": [
       "3.1144654558988139"
      ]
     },
     "execution_count": 105,
     "metadata": {},
     "output_type": "execute_result"
    }
   ],
   "source": [
    "-20.2 / 1.78 * (np.exp(-1.78*1.5) - np.exp(-1.78*0.6))"
   ]
  },
  {
   "cell_type": "code",
   "execution_count": 106,
   "metadata": {
    "collapsed": false
   },
   "outputs": [
    {
     "data": {
      "text/plain": [
       "1.2876880851337871"
      ]
     },
     "execution_count": 106,
     "metadata": {},
     "output_type": "execute_result"
    }
   ],
   "source": [
    "-7.2 / 1.09 * (np.exp(-1.09*10.5) - np.exp(-1.09*1.5))"
   ]
  },
  {
   "cell_type": "markdown",
   "metadata": {},
   "source": [
    "# Dory Check"
   ]
  },
  {
   "cell_type": "code",
   "execution_count": 144,
   "metadata": {
    "collapsed": false
   },
   "outputs": [],
   "source": [
    "dory_photon_dist = pd.read_csv('stuff for JR', sep=r'\\s*')"
   ]
  },
  {
   "cell_type": "code",
   "execution_count": 145,
   "metadata": {
    "collapsed": false
   },
   "outputs": [
    {
     "data": {
      "text/html": [
       "<div>\n",
       "<table border=\"1\" class=\"dataframe\">\n",
       "  <thead>\n",
       "    <tr style=\"text-align: right;\">\n",
       "      <th></th>\n",
       "      <th>nps</th>\n",
       "      <th>x</th>\n",
       "      <th>y</th>\n",
       "      <th>z</th>\n",
       "      <th>cell</th>\n",
       "      <th>surf</th>\n",
       "      <th>u</th>\n",
       "      <th>v</th>\n",
       "      <th>w</th>\n",
       "      <th>energy</th>\n",
       "      <th>weight</th>\n",
       "      <th>time</th>\n",
       "    </tr>\n",
       "  </thead>\n",
       "  <tbody>\n",
       "    <tr>\n",
       "      <th>0</th>\n",
       "      <td>1</td>\n",
       "      <td>0</td>\n",
       "      <td>0</td>\n",
       "      <td>0</td>\n",
       "      <td>1</td>\n",
       "      <td>0</td>\n",
       "      <td>0.66230</td>\n",
       "      <td>0.59630</td>\n",
       "      <td>0.453700</td>\n",
       "      <td>0.5261</td>\n",
       "      <td>216200</td>\n",
       "      <td>0</td>\n",
       "    </tr>\n",
       "    <tr>\n",
       "      <th>1</th>\n",
       "      <td>2</td>\n",
       "      <td>0</td>\n",
       "      <td>0</td>\n",
       "      <td>0</td>\n",
       "      <td>1</td>\n",
       "      <td>0</td>\n",
       "      <td>-0.27750</td>\n",
       "      <td>-0.10280</td>\n",
       "      <td>0.955200</td>\n",
       "      <td>0.1430</td>\n",
       "      <td>216200</td>\n",
       "      <td>0</td>\n",
       "    </tr>\n",
       "    <tr>\n",
       "      <th>2</th>\n",
       "      <td>3</td>\n",
       "      <td>0</td>\n",
       "      <td>0</td>\n",
       "      <td>0</td>\n",
       "      <td>1</td>\n",
       "      <td>0</td>\n",
       "      <td>0.98290</td>\n",
       "      <td>-0.17820</td>\n",
       "      <td>-0.046180</td>\n",
       "      <td>0.5181</td>\n",
       "      <td>216200</td>\n",
       "      <td>0</td>\n",
       "    </tr>\n",
       "    <tr>\n",
       "      <th>3</th>\n",
       "      <td>4</td>\n",
       "      <td>0</td>\n",
       "      <td>0</td>\n",
       "      <td>0</td>\n",
       "      <td>1</td>\n",
       "      <td>0</td>\n",
       "      <td>0.87330</td>\n",
       "      <td>-0.48540</td>\n",
       "      <td>-0.040590</td>\n",
       "      <td>0.4002</td>\n",
       "      <td>216200</td>\n",
       "      <td>0</td>\n",
       "    </tr>\n",
       "    <tr>\n",
       "      <th>4</th>\n",
       "      <td>6</td>\n",
       "      <td>0</td>\n",
       "      <td>0</td>\n",
       "      <td>0</td>\n",
       "      <td>1</td>\n",
       "      <td>0</td>\n",
       "      <td>0.03717</td>\n",
       "      <td>0.93620</td>\n",
       "      <td>0.349500</td>\n",
       "      <td>0.4257</td>\n",
       "      <td>216200</td>\n",
       "      <td>0</td>\n",
       "    </tr>\n",
       "    <tr>\n",
       "      <th>5</th>\n",
       "      <td>5</td>\n",
       "      <td>0</td>\n",
       "      <td>0</td>\n",
       "      <td>0</td>\n",
       "      <td>1</td>\n",
       "      <td>0</td>\n",
       "      <td>0.95250</td>\n",
       "      <td>0.30040</td>\n",
       "      <td>0.050720</td>\n",
       "      <td>0.2648</td>\n",
       "      <td>216200</td>\n",
       "      <td>0</td>\n",
       "    </tr>\n",
       "    <tr>\n",
       "      <th>6</th>\n",
       "      <td>7</td>\n",
       "      <td>0</td>\n",
       "      <td>0</td>\n",
       "      <td>0</td>\n",
       "      <td>1</td>\n",
       "      <td>0</td>\n",
       "      <td>-0.58430</td>\n",
       "      <td>0.10640</td>\n",
       "      <td>0.804500</td>\n",
       "      <td>0.4508</td>\n",
       "      <td>216200</td>\n",
       "      <td>0</td>\n",
       "    </tr>\n",
       "    <tr>\n",
       "      <th>7</th>\n",
       "      <td>8</td>\n",
       "      <td>0</td>\n",
       "      <td>0</td>\n",
       "      <td>0</td>\n",
       "      <td>1</td>\n",
       "      <td>0</td>\n",
       "      <td>-0.29290</td>\n",
       "      <td>-0.76460</td>\n",
       "      <td>-0.574100</td>\n",
       "      <td>0.4951</td>\n",
       "      <td>216200</td>\n",
       "      <td>0</td>\n",
       "    </tr>\n",
       "    <tr>\n",
       "      <th>8</th>\n",
       "      <td>9</td>\n",
       "      <td>0</td>\n",
       "      <td>0</td>\n",
       "      <td>0</td>\n",
       "      <td>1</td>\n",
       "      <td>0</td>\n",
       "      <td>-0.89880</td>\n",
       "      <td>-0.38150</td>\n",
       "      <td>-0.215800</td>\n",
       "      <td>0.5424</td>\n",
       "      <td>216200</td>\n",
       "      <td>0</td>\n",
       "    </tr>\n",
       "    <tr>\n",
       "      <th>9</th>\n",
       "      <td>10</td>\n",
       "      <td>0</td>\n",
       "      <td>0</td>\n",
       "      <td>0</td>\n",
       "      <td>1</td>\n",
       "      <td>0</td>\n",
       "      <td>0.23640</td>\n",
       "      <td>0.90270</td>\n",
       "      <td>-0.359500</td>\n",
       "      <td>0.3966</td>\n",
       "      <td>216200</td>\n",
       "      <td>0</td>\n",
       "    </tr>\n",
       "    <tr>\n",
       "      <th>10</th>\n",
       "      <td>11</td>\n",
       "      <td>0</td>\n",
       "      <td>0</td>\n",
       "      <td>0</td>\n",
       "      <td>1</td>\n",
       "      <td>0</td>\n",
       "      <td>0.08034</td>\n",
       "      <td>-0.14140</td>\n",
       "      <td>0.986700</td>\n",
       "      <td>0.3655</td>\n",
       "      <td>216200</td>\n",
       "      <td>0</td>\n",
       "    </tr>\n",
       "    <tr>\n",
       "      <th>11</th>\n",
       "      <td>12</td>\n",
       "      <td>0</td>\n",
       "      <td>0</td>\n",
       "      <td>0</td>\n",
       "      <td>1</td>\n",
       "      <td>0</td>\n",
       "      <td>0.05009</td>\n",
       "      <td>0.25320</td>\n",
       "      <td>0.966100</td>\n",
       "      <td>0.4045</td>\n",
       "      <td>216200</td>\n",
       "      <td>0</td>\n",
       "    </tr>\n",
       "    <tr>\n",
       "      <th>12</th>\n",
       "      <td>13</td>\n",
       "      <td>0</td>\n",
       "      <td>0</td>\n",
       "      <td>0</td>\n",
       "      <td>1</td>\n",
       "      <td>0</td>\n",
       "      <td>0.33710</td>\n",
       "      <td>0.36530</td>\n",
       "      <td>0.867700</td>\n",
       "      <td>0.3229</td>\n",
       "      <td>216200</td>\n",
       "      <td>0</td>\n",
       "    </tr>\n",
       "    <tr>\n",
       "      <th>13</th>\n",
       "      <td>14</td>\n",
       "      <td>0</td>\n",
       "      <td>0</td>\n",
       "      <td>0</td>\n",
       "      <td>1</td>\n",
       "      <td>0</td>\n",
       "      <td>-0.44540</td>\n",
       "      <td>-0.88460</td>\n",
       "      <td>-0.138300</td>\n",
       "      <td>0.3812</td>\n",
       "      <td>216200</td>\n",
       "      <td>0</td>\n",
       "    </tr>\n",
       "    <tr>\n",
       "      <th>14</th>\n",
       "      <td>15</td>\n",
       "      <td>0</td>\n",
       "      <td>0</td>\n",
       "      <td>0</td>\n",
       "      <td>1</td>\n",
       "      <td>0</td>\n",
       "      <td>0.92190</td>\n",
       "      <td>0.22860</td>\n",
       "      <td>-0.312700</td>\n",
       "      <td>0.5910</td>\n",
       "      <td>216200</td>\n",
       "      <td>0</td>\n",
       "    </tr>\n",
       "    <tr>\n",
       "      <th>15</th>\n",
       "      <td>16</td>\n",
       "      <td>0</td>\n",
       "      <td>0</td>\n",
       "      <td>0</td>\n",
       "      <td>1</td>\n",
       "      <td>0</td>\n",
       "      <td>0.80490</td>\n",
       "      <td>0.46100</td>\n",
       "      <td>0.373500</td>\n",
       "      <td>0.5999</td>\n",
       "      <td>216200</td>\n",
       "      <td>0</td>\n",
       "    </tr>\n",
       "    <tr>\n",
       "      <th>16</th>\n",
       "      <td>17</td>\n",
       "      <td>0</td>\n",
       "      <td>0</td>\n",
       "      <td>0</td>\n",
       "      <td>1</td>\n",
       "      <td>0</td>\n",
       "      <td>-0.69080</td>\n",
       "      <td>0.30570</td>\n",
       "      <td>-0.655300</td>\n",
       "      <td>0.1933</td>\n",
       "      <td>216200</td>\n",
       "      <td>0</td>\n",
       "    </tr>\n",
       "    <tr>\n",
       "      <th>17</th>\n",
       "      <td>18</td>\n",
       "      <td>0</td>\n",
       "      <td>0</td>\n",
       "      <td>0</td>\n",
       "      <td>1</td>\n",
       "      <td>0</td>\n",
       "      <td>-0.64840</td>\n",
       "      <td>-0.53140</td>\n",
       "      <td>0.545100</td>\n",
       "      <td>0.4972</td>\n",
       "      <td>216200</td>\n",
       "      <td>0</td>\n",
       "    </tr>\n",
       "    <tr>\n",
       "      <th>18</th>\n",
       "      <td>19</td>\n",
       "      <td>0</td>\n",
       "      <td>0</td>\n",
       "      <td>0</td>\n",
       "      <td>1</td>\n",
       "      <td>0</td>\n",
       "      <td>-0.61900</td>\n",
       "      <td>0.01220</td>\n",
       "      <td>-0.785300</td>\n",
       "      <td>0.4336</td>\n",
       "      <td>216200</td>\n",
       "      <td>0</td>\n",
       "    </tr>\n",
       "    <tr>\n",
       "      <th>19</th>\n",
       "      <td>20</td>\n",
       "      <td>0</td>\n",
       "      <td>0</td>\n",
       "      <td>0</td>\n",
       "      <td>1</td>\n",
       "      <td>0</td>\n",
       "      <td>0.26160</td>\n",
       "      <td>-0.77620</td>\n",
       "      <td>-0.573700</td>\n",
       "      <td>0.5566</td>\n",
       "      <td>216200</td>\n",
       "      <td>0</td>\n",
       "    </tr>\n",
       "    <tr>\n",
       "      <th>20</th>\n",
       "      <td>21</td>\n",
       "      <td>0</td>\n",
       "      <td>0</td>\n",
       "      <td>0</td>\n",
       "      <td>1</td>\n",
       "      <td>0</td>\n",
       "      <td>-0.72000</td>\n",
       "      <td>0.04026</td>\n",
       "      <td>0.692800</td>\n",
       "      <td>0.5495</td>\n",
       "      <td>216200</td>\n",
       "      <td>0</td>\n",
       "    </tr>\n",
       "    <tr>\n",
       "      <th>21</th>\n",
       "      <td>22</td>\n",
       "      <td>0</td>\n",
       "      <td>0</td>\n",
       "      <td>0</td>\n",
       "      <td>1</td>\n",
       "      <td>0</td>\n",
       "      <td>0.77380</td>\n",
       "      <td>-0.06503</td>\n",
       "      <td>0.630000</td>\n",
       "      <td>0.4107</td>\n",
       "      <td>216200</td>\n",
       "      <td>0</td>\n",
       "    </tr>\n",
       "    <tr>\n",
       "      <th>22</th>\n",
       "      <td>23</td>\n",
       "      <td>0</td>\n",
       "      <td>0</td>\n",
       "      <td>0</td>\n",
       "      <td>1</td>\n",
       "      <td>0</td>\n",
       "      <td>-0.71330</td>\n",
       "      <td>-0.37480</td>\n",
       "      <td>-0.592200</td>\n",
       "      <td>0.5287</td>\n",
       "      <td>216200</td>\n",
       "      <td>0</td>\n",
       "    </tr>\n",
       "    <tr>\n",
       "      <th>23</th>\n",
       "      <td>24</td>\n",
       "      <td>0</td>\n",
       "      <td>0</td>\n",
       "      <td>0</td>\n",
       "      <td>1</td>\n",
       "      <td>0</td>\n",
       "      <td>0.10820</td>\n",
       "      <td>-0.93370</td>\n",
       "      <td>0.341400</td>\n",
       "      <td>0.4911</td>\n",
       "      <td>216200</td>\n",
       "      <td>0</td>\n",
       "    </tr>\n",
       "    <tr>\n",
       "      <th>24</th>\n",
       "      <td>25</td>\n",
       "      <td>0</td>\n",
       "      <td>0</td>\n",
       "      <td>0</td>\n",
       "      <td>1</td>\n",
       "      <td>0</td>\n",
       "      <td>0.66130</td>\n",
       "      <td>0.75010</td>\n",
       "      <td>-0.003794</td>\n",
       "      <td>0.5212</td>\n",
       "      <td>216200</td>\n",
       "      <td>0</td>\n",
       "    </tr>\n",
       "    <tr>\n",
       "      <th>25</th>\n",
       "      <td>26</td>\n",
       "      <td>0</td>\n",
       "      <td>0</td>\n",
       "      <td>0</td>\n",
       "      <td>1</td>\n",
       "      <td>0</td>\n",
       "      <td>0.63710</td>\n",
       "      <td>-0.38950</td>\n",
       "      <td>0.665100</td>\n",
       "      <td>0.3629</td>\n",
       "      <td>216200</td>\n",
       "      <td>0</td>\n",
       "    </tr>\n",
       "    <tr>\n",
       "      <th>26</th>\n",
       "      <td>27</td>\n",
       "      <td>0</td>\n",
       "      <td>0</td>\n",
       "      <td>0</td>\n",
       "      <td>1</td>\n",
       "      <td>0</td>\n",
       "      <td>-0.60400</td>\n",
       "      <td>0.56990</td>\n",
       "      <td>0.557200</td>\n",
       "      <td>0.5300</td>\n",
       "      <td>216200</td>\n",
       "      <td>0</td>\n",
       "    </tr>\n",
       "    <tr>\n",
       "      <th>27</th>\n",
       "      <td>28</td>\n",
       "      <td>0</td>\n",
       "      <td>0</td>\n",
       "      <td>0</td>\n",
       "      <td>1</td>\n",
       "      <td>0</td>\n",
       "      <td>-0.27830</td>\n",
       "      <td>0.33110</td>\n",
       "      <td>0.901600</td>\n",
       "      <td>0.2730</td>\n",
       "      <td>216200</td>\n",
       "      <td>0</td>\n",
       "    </tr>\n",
       "    <tr>\n",
       "      <th>28</th>\n",
       "      <td>29</td>\n",
       "      <td>0</td>\n",
       "      <td>0</td>\n",
       "      <td>0</td>\n",
       "      <td>1</td>\n",
       "      <td>0</td>\n",
       "      <td>-0.59220</td>\n",
       "      <td>-0.19650</td>\n",
       "      <td>-0.781500</td>\n",
       "      <td>0.3572</td>\n",
       "      <td>216200</td>\n",
       "      <td>0</td>\n",
       "    </tr>\n",
       "    <tr>\n",
       "      <th>29</th>\n",
       "      <td>30</td>\n",
       "      <td>0</td>\n",
       "      <td>0</td>\n",
       "      <td>0</td>\n",
       "      <td>1</td>\n",
       "      <td>0</td>\n",
       "      <td>-0.38730</td>\n",
       "      <td>-0.75360</td>\n",
       "      <td>0.531200</td>\n",
       "      <td>0.1363</td>\n",
       "      <td>216200</td>\n",
       "      <td>0</td>\n",
       "    </tr>\n",
       "    <tr>\n",
       "      <th>30</th>\n",
       "      <td>31</td>\n",
       "      <td>0</td>\n",
       "      <td>0</td>\n",
       "      <td>0</td>\n",
       "      <td>1</td>\n",
       "      <td>0</td>\n",
       "      <td>-0.83320</td>\n",
       "      <td>-0.55070</td>\n",
       "      <td>0.050190</td>\n",
       "      <td>0.4976</td>\n",
       "      <td>216200</td>\n",
       "      <td>0</td>\n",
       "    </tr>\n",
       "    <tr>\n",
       "      <th>31</th>\n",
       "      <td>32</td>\n",
       "      <td>0</td>\n",
       "      <td>0</td>\n",
       "      <td>0</td>\n",
       "      <td>1</td>\n",
       "      <td>0</td>\n",
       "      <td>0.68540</td>\n",
       "      <td>-0.49600</td>\n",
       "      <td>-0.533200</td>\n",
       "      <td>0.3980</td>\n",
       "      <td>216200</td>\n",
       "      <td>0</td>\n",
       "    </tr>\n",
       "    <tr>\n",
       "      <th>32</th>\n",
       "      <td>33</td>\n",
       "      <td>0</td>\n",
       "      <td>0</td>\n",
       "      <td>0</td>\n",
       "      <td>1</td>\n",
       "      <td>0</td>\n",
       "      <td>-0.04367</td>\n",
       "      <td>0.37220</td>\n",
       "      <td>-0.927100</td>\n",
       "      <td>0.4071</td>\n",
       "      <td>216200</td>\n",
       "      <td>0</td>\n",
       "    </tr>\n",
       "    <tr>\n",
       "      <th>33</th>\n",
       "      <td>34</td>\n",
       "      <td>0</td>\n",
       "      <td>0</td>\n",
       "      <td>0</td>\n",
       "      <td>1</td>\n",
       "      <td>0</td>\n",
       "      <td>-0.64910</td>\n",
       "      <td>-0.56810</td>\n",
       "      <td>0.505900</td>\n",
       "      <td>0.5699</td>\n",
       "      <td>216200</td>\n",
       "      <td>0</td>\n",
       "    </tr>\n",
       "    <tr>\n",
       "      <th>34</th>\n",
       "      <td>35</td>\n",
       "      <td>0</td>\n",
       "      <td>0</td>\n",
       "      <td>0</td>\n",
       "      <td>1</td>\n",
       "      <td>0</td>\n",
       "      <td>-0.45530</td>\n",
       "      <td>-0.15200</td>\n",
       "      <td>0.877300</td>\n",
       "      <td>0.5464</td>\n",
       "      <td>216200</td>\n",
       "      <td>0</td>\n",
       "    </tr>\n",
       "    <tr>\n",
       "      <th>35</th>\n",
       "      <td>36</td>\n",
       "      <td>0</td>\n",
       "      <td>0</td>\n",
       "      <td>0</td>\n",
       "      <td>1</td>\n",
       "      <td>0</td>\n",
       "      <td>-0.94850</td>\n",
       "      <td>-0.28320</td>\n",
       "      <td>-0.142200</td>\n",
       "      <td>0.2413</td>\n",
       "      <td>216200</td>\n",
       "      <td>0</td>\n",
       "    </tr>\n",
       "    <tr>\n",
       "      <th>36</th>\n",
       "      <td>37</td>\n",
       "      <td>0</td>\n",
       "      <td>0</td>\n",
       "      <td>0</td>\n",
       "      <td>1</td>\n",
       "      <td>0</td>\n",
       "      <td>0.77520</td>\n",
       "      <td>0.58060</td>\n",
       "      <td>-0.248800</td>\n",
       "      <td>0.1083</td>\n",
       "      <td>216200</td>\n",
       "      <td>0</td>\n",
       "    </tr>\n",
       "    <tr>\n",
       "      <th>37</th>\n",
       "      <td>38</td>\n",
       "      <td>0</td>\n",
       "      <td>0</td>\n",
       "      <td>0</td>\n",
       "      <td>1</td>\n",
       "      <td>0</td>\n",
       "      <td>0.54700</td>\n",
       "      <td>-0.56120</td>\n",
       "      <td>-0.621200</td>\n",
       "      <td>0.4730</td>\n",
       "      <td>216200</td>\n",
       "      <td>0</td>\n",
       "    </tr>\n",
       "    <tr>\n",
       "      <th>38</th>\n",
       "      <td>39</td>\n",
       "      <td>0</td>\n",
       "      <td>0</td>\n",
       "      <td>0</td>\n",
       "      <td>1</td>\n",
       "      <td>0</td>\n",
       "      <td>0.54220</td>\n",
       "      <td>0.58280</td>\n",
       "      <td>-0.605300</td>\n",
       "      <td>0.3725</td>\n",
       "      <td>216200</td>\n",
       "      <td>0</td>\n",
       "    </tr>\n",
       "    <tr>\n",
       "      <th>39</th>\n",
       "      <td>40</td>\n",
       "      <td>0</td>\n",
       "      <td>0</td>\n",
       "      <td>0</td>\n",
       "      <td>1</td>\n",
       "      <td>0</td>\n",
       "      <td>0.74290</td>\n",
       "      <td>0.38720</td>\n",
       "      <td>-0.546000</td>\n",
       "      <td>0.3166</td>\n",
       "      <td>216200</td>\n",
       "      <td>0</td>\n",
       "    </tr>\n",
       "    <tr>\n",
       "      <th>40</th>\n",
       "      <td>41</td>\n",
       "      <td>0</td>\n",
       "      <td>0</td>\n",
       "      <td>0</td>\n",
       "      <td>1</td>\n",
       "      <td>0</td>\n",
       "      <td>-0.23620</td>\n",
       "      <td>-0.53620</td>\n",
       "      <td>-0.810400</td>\n",
       "      <td>0.3456</td>\n",
       "      <td>216200</td>\n",
       "      <td>0</td>\n",
       "    </tr>\n",
       "    <tr>\n",
       "      <th>41</th>\n",
       "      <td>42</td>\n",
       "      <td>0</td>\n",
       "      <td>0</td>\n",
       "      <td>0</td>\n",
       "      <td>1</td>\n",
       "      <td>0</td>\n",
       "      <td>0.20950</td>\n",
       "      <td>-0.96030</td>\n",
       "      <td>-0.184300</td>\n",
       "      <td>0.2558</td>\n",
       "      <td>216200</td>\n",
       "      <td>0</td>\n",
       "    </tr>\n",
       "    <tr>\n",
       "      <th>42</th>\n",
       "      <td>43</td>\n",
       "      <td>0</td>\n",
       "      <td>0</td>\n",
       "      <td>0</td>\n",
       "      <td>1</td>\n",
       "      <td>0</td>\n",
       "      <td>-0.09737</td>\n",
       "      <td>0.96010</td>\n",
       "      <td>-0.262300</td>\n",
       "      <td>0.5475</td>\n",
       "      <td>216200</td>\n",
       "      <td>0</td>\n",
       "    </tr>\n",
       "    <tr>\n",
       "      <th>43</th>\n",
       "      <td>44</td>\n",
       "      <td>0</td>\n",
       "      <td>0</td>\n",
       "      <td>0</td>\n",
       "      <td>1</td>\n",
       "      <td>0</td>\n",
       "      <td>0.05820</td>\n",
       "      <td>-0.18770</td>\n",
       "      <td>0.980500</td>\n",
       "      <td>0.5413</td>\n",
       "      <td>216200</td>\n",
       "      <td>0</td>\n",
       "    </tr>\n",
       "    <tr>\n",
       "      <th>44</th>\n",
       "      <td>45</td>\n",
       "      <td>0</td>\n",
       "      <td>0</td>\n",
       "      <td>0</td>\n",
       "      <td>1</td>\n",
       "      <td>0</td>\n",
       "      <td>-0.36060</td>\n",
       "      <td>-0.30010</td>\n",
       "      <td>-0.883100</td>\n",
       "      <td>0.4061</td>\n",
       "      <td>216200</td>\n",
       "      <td>0</td>\n",
       "    </tr>\n",
       "    <tr>\n",
       "      <th>45</th>\n",
       "      <td>46</td>\n",
       "      <td>0</td>\n",
       "      <td>0</td>\n",
       "      <td>0</td>\n",
       "      <td>1</td>\n",
       "      <td>0</td>\n",
       "      <td>0.01408</td>\n",
       "      <td>-0.39620</td>\n",
       "      <td>-0.918100</td>\n",
       "      <td>0.2830</td>\n",
       "      <td>216200</td>\n",
       "      <td>0</td>\n",
       "    </tr>\n",
       "    <tr>\n",
       "      <th>46</th>\n",
       "      <td>47</td>\n",
       "      <td>0</td>\n",
       "      <td>0</td>\n",
       "      <td>0</td>\n",
       "      <td>1</td>\n",
       "      <td>0</td>\n",
       "      <td>-0.21590</td>\n",
       "      <td>0.79730</td>\n",
       "      <td>0.563600</td>\n",
       "      <td>0.5686</td>\n",
       "      <td>216200</td>\n",
       "      <td>0</td>\n",
       "    </tr>\n",
       "    <tr>\n",
       "      <th>47</th>\n",
       "      <td>48</td>\n",
       "      <td>0</td>\n",
       "      <td>0</td>\n",
       "      <td>0</td>\n",
       "      <td>1</td>\n",
       "      <td>0</td>\n",
       "      <td>-0.78360</td>\n",
       "      <td>0.01631</td>\n",
       "      <td>0.621100</td>\n",
       "      <td>0.5788</td>\n",
       "      <td>216200</td>\n",
       "      <td>0</td>\n",
       "    </tr>\n",
       "    <tr>\n",
       "      <th>48</th>\n",
       "      <td>49</td>\n",
       "      <td>0</td>\n",
       "      <td>0</td>\n",
       "      <td>0</td>\n",
       "      <td>1</td>\n",
       "      <td>0</td>\n",
       "      <td>0.81670</td>\n",
       "      <td>-0.45790</td>\n",
       "      <td>-0.351100</td>\n",
       "      <td>0.5215</td>\n",
       "      <td>216200</td>\n",
       "      <td>0</td>\n",
       "    </tr>\n",
       "    <tr>\n",
       "      <th>49</th>\n",
       "      <td>50</td>\n",
       "      <td>0</td>\n",
       "      <td>0</td>\n",
       "      <td>0</td>\n",
       "      <td>1</td>\n",
       "      <td>0</td>\n",
       "      <td>-0.23430</td>\n",
       "      <td>0.17520</td>\n",
       "      <td>0.956200</td>\n",
       "      <td>0.2931</td>\n",
       "      <td>216200</td>\n",
       "      <td>0</td>\n",
       "    </tr>\n",
       "  </tbody>\n",
       "</table>\n",
       "</div>"
      ],
      "text/plain": [
       "    nps  x  y  z  cell  surf        u        v         w  energy  weight  time\n",
       "0     1  0  0  0     1     0  0.66230  0.59630  0.453700  0.5261  216200     0\n",
       "1     2  0  0  0     1     0 -0.27750 -0.10280  0.955200  0.1430  216200     0\n",
       "2     3  0  0  0     1     0  0.98290 -0.17820 -0.046180  0.5181  216200     0\n",
       "3     4  0  0  0     1     0  0.87330 -0.48540 -0.040590  0.4002  216200     0\n",
       "4     6  0  0  0     1     0  0.03717  0.93620  0.349500  0.4257  216200     0\n",
       "5     5  0  0  0     1     0  0.95250  0.30040  0.050720  0.2648  216200     0\n",
       "6     7  0  0  0     1     0 -0.58430  0.10640  0.804500  0.4508  216200     0\n",
       "7     8  0  0  0     1     0 -0.29290 -0.76460 -0.574100  0.4951  216200     0\n",
       "8     9  0  0  0     1     0 -0.89880 -0.38150 -0.215800  0.5424  216200     0\n",
       "9    10  0  0  0     1     0  0.23640  0.90270 -0.359500  0.3966  216200     0\n",
       "10   11  0  0  0     1     0  0.08034 -0.14140  0.986700  0.3655  216200     0\n",
       "11   12  0  0  0     1     0  0.05009  0.25320  0.966100  0.4045  216200     0\n",
       "12   13  0  0  0     1     0  0.33710  0.36530  0.867700  0.3229  216200     0\n",
       "13   14  0  0  0     1     0 -0.44540 -0.88460 -0.138300  0.3812  216200     0\n",
       "14   15  0  0  0     1     0  0.92190  0.22860 -0.312700  0.5910  216200     0\n",
       "15   16  0  0  0     1     0  0.80490  0.46100  0.373500  0.5999  216200     0\n",
       "16   17  0  0  0     1     0 -0.69080  0.30570 -0.655300  0.1933  216200     0\n",
       "17   18  0  0  0     1     0 -0.64840 -0.53140  0.545100  0.4972  216200     0\n",
       "18   19  0  0  0     1     0 -0.61900  0.01220 -0.785300  0.4336  216200     0\n",
       "19   20  0  0  0     1     0  0.26160 -0.77620 -0.573700  0.5566  216200     0\n",
       "20   21  0  0  0     1     0 -0.72000  0.04026  0.692800  0.5495  216200     0\n",
       "21   22  0  0  0     1     0  0.77380 -0.06503  0.630000  0.4107  216200     0\n",
       "22   23  0  0  0     1     0 -0.71330 -0.37480 -0.592200  0.5287  216200     0\n",
       "23   24  0  0  0     1     0  0.10820 -0.93370  0.341400  0.4911  216200     0\n",
       "24   25  0  0  0     1     0  0.66130  0.75010 -0.003794  0.5212  216200     0\n",
       "25   26  0  0  0     1     0  0.63710 -0.38950  0.665100  0.3629  216200     0\n",
       "26   27  0  0  0     1     0 -0.60400  0.56990  0.557200  0.5300  216200     0\n",
       "27   28  0  0  0     1     0 -0.27830  0.33110  0.901600  0.2730  216200     0\n",
       "28   29  0  0  0     1     0 -0.59220 -0.19650 -0.781500  0.3572  216200     0\n",
       "29   30  0  0  0     1     0 -0.38730 -0.75360  0.531200  0.1363  216200     0\n",
       "30   31  0  0  0     1     0 -0.83320 -0.55070  0.050190  0.4976  216200     0\n",
       "31   32  0  0  0     1     0  0.68540 -0.49600 -0.533200  0.3980  216200     0\n",
       "32   33  0  0  0     1     0 -0.04367  0.37220 -0.927100  0.4071  216200     0\n",
       "33   34  0  0  0     1     0 -0.64910 -0.56810  0.505900  0.5699  216200     0\n",
       "34   35  0  0  0     1     0 -0.45530 -0.15200  0.877300  0.5464  216200     0\n",
       "35   36  0  0  0     1     0 -0.94850 -0.28320 -0.142200  0.2413  216200     0\n",
       "36   37  0  0  0     1     0  0.77520  0.58060 -0.248800  0.1083  216200     0\n",
       "37   38  0  0  0     1     0  0.54700 -0.56120 -0.621200  0.4730  216200     0\n",
       "38   39  0  0  0     1     0  0.54220  0.58280 -0.605300  0.3725  216200     0\n",
       "39   40  0  0  0     1     0  0.74290  0.38720 -0.546000  0.3166  216200     0\n",
       "40   41  0  0  0     1     0 -0.23620 -0.53620 -0.810400  0.3456  216200     0\n",
       "41   42  0  0  0     1     0  0.20950 -0.96030 -0.184300  0.2558  216200     0\n",
       "42   43  0  0  0     1     0 -0.09737  0.96010 -0.262300  0.5475  216200     0\n",
       "43   44  0  0  0     1     0  0.05820 -0.18770  0.980500  0.5413  216200     0\n",
       "44   45  0  0  0     1     0 -0.36060 -0.30010 -0.883100  0.4061  216200     0\n",
       "45   46  0  0  0     1     0  0.01408 -0.39620 -0.918100  0.2830  216200     0\n",
       "46   47  0  0  0     1     0 -0.21590  0.79730  0.563600  0.5686  216200     0\n",
       "47   48  0  0  0     1     0 -0.78360  0.01631  0.621100  0.5788  216200     0\n",
       "48   49  0  0  0     1     0  0.81670 -0.45790 -0.351100  0.5215  216200     0\n",
       "49   50  0  0  0     1     0 -0.23430  0.17520  0.956200  0.2931  216200     0"
      ]
     },
     "execution_count": 145,
     "metadata": {},
     "output_type": "execute_result"
    }
   ],
   "source": [
    "dory_photon_dist"
   ]
  },
  {
   "cell_type": "code",
   "execution_count": 146,
   "metadata": {
    "collapsed": false
   },
   "outputs": [
    {
     "data": {
      "image/png": "[encoded data removed]",
      "text/plain": [
       "<matplotlib.figure.Figure at 0x1122f4ad0>"
      ]
     },
     "metadata": {},
     "output_type": "display_data"
    }
   ],
   "source": [
    "bins = np.arange(0.1, 0.6, 0.05)\n",
    "bins = np.append(bins, np.arange(0.6, 1.5, 0.05))\n",
    "bins = np.append(bins, np.arange(1.5, 10.5, 0.5))\n",
    "plt.hist(dory_photon_dist['energy'], bins=bins)\n",
    "plt.axvline(0.1, color=\"r\", linestyle='dotted')\n",
    "plt.axvline(0.6, color=\"r\", linestyle='dotted')\n",
    "plt.axvline(1.5, color=\"r\", linestyle='dotted')\n",
    "plt.axvline(10.5, color=\"r\", linestyle='dotted')\n",
    "x1 = np.linspace(0.1, 0.6, 1000)\n",
    "x2 = np.linspace(0.6, 1.5, 1000)\n",
    "x3 = np.linspace(1.5, 10.5, 1000)\n",
    "plt.plot(x1, [6.6 for x in x1], \"g--\")\n",
    "plt.plot(x2, med_erg(x2), \"g--\")\n",
    "plt.plot(x3, high_erg(x3), \"g--\")\n",
    "plt.show()"
   ]
  },
  {
   "cell_type": "markdown",
   "metadata": {},
   "source": [
    "# Neutrons"
   ]
  },
  {
   "cell_type": "code",
   "execution_count": 137,
   "metadata": {
    "collapsed": true
   },
   "outputs": [],
   "source": [
    "neutron = pd.read_csv('neutron_data.csv')"
   ]
  },
  {
   "cell_type": "code",
   "execution_count": 141,
   "metadata": {
    "collapsed": false
   },
   "outputs": [
    {
     "data": {
      "image/png": "[encoded data removed]",
      "text/plain": [
       "<matplotlib.figure.Figure at 0x112516d90>"
      ]
     },
     "metadata": {},
     "output_type": "display_data"
    }
   ],
   "source": [
    "plt.errorbar(neutron['time'], neutron['counts'], neutron['counts']*neutron['error'])\n",
    "plt.show()"
   ]
  },
  {
   "cell_type": "code",
   "execution_count": 166,
   "metadata": {
    "collapsed": false
   },
   "outputs": [
    {
     "data": {
      "text/plain": [
       "0         0.00000\n",
       "1     92765.00000\n",
       "2      9318.58000\n",
       "3      8566.99000\n",
       "4      7755.07000\n",
       "5      7067.05000\n",
       "6      6467.46000\n",
       "7      6039.77000\n",
       "8      5425.48000\n",
       "9      4997.36000\n",
       "10     4561.67000\n",
       "11     4191.49000\n",
       "12     3807.91000\n",
       "13     3489.41000\n",
       "14     3221.51000\n",
       "15     2923.12000\n",
       "16     2685.06000\n",
       "17     2460.19000\n",
       "18     2239.21000\n",
       "19     2043.96000\n",
       "20    15210.50000\n",
       "21     8770.24000\n",
       "22     5145.04000\n",
       "23     2996.21000\n",
       "24     1683.08000\n",
       "25      999.60100\n",
       "26      579.91100\n",
       "27      342.49800\n",
       "28      191.79000\n",
       "29      116.76100\n",
       "30       65.08320\n",
       "31       38.70400\n",
       "32       22.27100\n",
       "33       13.62210\n",
       "34       10.37870\n",
       "35        6.70293\n",
       "36        3.45957\n",
       "37        1.29734\n",
       "Name: prob, dtype: float64"
      ]
     },
     "execution_count": 166,
     "metadata": {},
     "output_type": "execute_result"
    }
   ],
   "source": [
    "e_check = pd.read_csv('energyproberror.dat', sep=r'\\s*')\n",
    "e_check['prob']"
   ]
  },
  {
   "cell_type": "code",
   "execution_count": 165,
   "metadata": {
    "collapsed": false
   },
   "outputs": [
    {
     "data": {
      "image/png": "[encoded data removed]",
      "text/plain": [
       "<matplotlib.figure.Figure at 0x112f59e90>"
      ]
     },
     "metadata": {},
     "output_type": "display_data"
    }
   ],
   "source": [
    "plt.figure()\n",
    "plt.subplot(111)\n",
    "plt.plot(e_check['energy'], e_check['prob'])\n",
    "plt.show()"
   ]
  },
  {
   "cell_type": "code",
   "execution_count": 167,
   "metadata": {
    "collapsed": false
   },
   "outputs": [
    {
     "data": {
      "text/plain": [
       "[<matplotlib.lines.Line2D at 0x11230cc50>,\n",
       " <matplotlib.lines.Line2D at 0x1124689d0>,\n",
       " <matplotlib.lines.Line2D at 0x112468310>]"
      ]
     },
     "execution_count": 167,
     "metadata": {},
     "output_type": "execute_result"
    },
    {
     "data": {
      "image/png": "[encoded data removed]",
      "text/plain": [
       "<matplotlib.figure.Figure at 0x112aee490>"
      ]
     },
     "metadata": {},
     "output_type": "display_data"
    }
   ],
   "source": [
    "plt.plot(e_check)"
   ]
  },
  {
   "cell_type": "code",
   "execution_count": 171,
   "metadata": {
    "collapsed": false
   },
   "outputs": [
    {
     "data": {
      "image/png": "[encoded data removed]",
      "text/plain": [
       "<matplotlib.figure.Figure at 0x1124882d0>"
      ]
     },
     "metadata": {},
     "output_type": "display_data"
    }
   ],
   "source": [
    "p = np.loadtxt('energyproberror.dat')\n",
    "plt.plot(p[:,0], p[:,1])\n",
    "plt.show()"
   ]
  },
  {
   "cell_type": "code",
   "execution_count": 169,
   "metadata": {
    "collapsed": false
   },
   "outputs": [
    {
     "data": {
      "text/plain": [
       "array([[  1.00000000e-01,   0.00000000e+00,   0.00000000e+00],\n",
       "       [  6.00000000e-01,   9.27650000e+04,   1.20000000e-03],\n",
       "       [  6.50000000e-01,   9.31858000e+03,   4.70000000e-03],\n",
       "       [  7.00000000e-01,   8.56699000e+03,   4.90000000e-03],\n",
       "       [  7.50000000e-01,   7.75507000e+03,   5.20000000e-03],\n",
       "       [  8.00000000e-01,   7.06705000e+03,   5.40000000e-03],\n",
       "       [  8.50000000e-01,   6.46746000e+03,   5.70000000e-03],\n",
       "       [  9.00000000e-01,   6.03977000e+03,   5.90000000e-03],\n",
       "       [  9.50000000e-01,   5.42548000e+03,   6.20000000e-03],\n",
       "       [  1.00000000e+00,   4.99736000e+03,   6.50000000e-03],\n",
       "       [  1.05000000e+00,   4.56167000e+03,   6.80000000e-03],\n",
       "       [  1.10000000e+00,   4.19149000e+03,   7.10000000e-03],\n",
       "       [  1.15000000e+00,   3.80791000e+03,   7.50000000e-03],\n",
       "       [  1.20000000e+00,   3.48941000e+03,   7.80000000e-03],\n",
       "       [  1.25000000e+00,   3.22151000e+03,   8.10000000e-03],\n",
       "       [  1.30000000e+00,   2.92312000e+03,   8.50000000e-03],\n",
       "       [  1.35000000e+00,   2.68506000e+03,   8.90000000e-03],\n",
       "       [  1.40000000e+00,   2.46019000e+03,   9.30000000e-03],\n",
       "       [  1.45000000e+00,   2.23921000e+03,   9.80000000e-03],\n",
       "       [  1.50000000e+00,   2.04396000e+03,   1.02000000e-02],\n",
       "       [  2.00000000e+00,   1.52105000e+04,   3.60000000e-03],\n",
       "       [  2.50000000e+00,   8.77024000e+03,   4.90000000e-03],\n",
       "       [  3.00000000e+00,   5.14504000e+03,   6.40000000e-03],\n",
       "       [  3.50000000e+00,   2.99621000e+03,   8.40000000e-03],\n",
       "       [  4.00000000e+00,   1.68308000e+03,   1.13000000e-02],\n",
       "       [  4.50000000e+00,   9.99601000e+02,   1.47000000e-02],\n",
       "       [  5.00000000e+00,   5.79911000e+02,   1.93000000e-02],\n",
       "       [  5.50000000e+00,   3.42498000e+02,   2.51000000e-02],\n",
       "       [  6.00000000e+00,   1.91790000e+02,   3.36000000e-02],\n",
       "       [  6.50000000e+00,   1.16761000e+02,   4.30000000e-02],\n",
       "       [  7.00000000e+00,   6.50832000e+01,   5.76000000e-02],\n",
       "       [  7.50000000e+00,   3.87040000e+01,   7.47000000e-02],\n",
       "       [  8.00000000e+00,   2.22710000e+01,   9.85000000e-02],\n",
       "       [  8.50000000e+00,   1.36221000e+01,   1.26000000e-01],\n",
       "       [  9.00000000e+00,   1.03787000e+01,   1.44300000e-01],\n",
       "       [  9.50000000e+00,   6.70293000e+00,   1.79600000e-01],\n",
       "       [  1.00000000e+01,   3.45957000e+00,   2.50000000e-01],\n",
       "       [  1.05000000e+01,   1.29734000e+00,   4.08200000e-01]])"
      ]
     },
     "execution_count": 169,
     "metadata": {},
     "output_type": "execute_result"
    }
   ],
   "source": [
    "p"
   ]
  },
  {
   "cell_type": "code",
   "execution_count": null,
   "metadata": {
    "collapsed": true
   },
   "outputs": [],
   "source": []
  }
 ],
 "metadata": {
  "anaconda-cloud": {},
  "kernelspec": {
   "display_name": "Python [conda env:nuc]",
   "language": "python",
   "name": "conda-env-nuc-py"
  },
  "language_info": {
   "codemirror_mode": {
    "name": "ipython",
    "version": 2
   },
   "file_extension": ".py",
   "mimetype": "text/x-python",
   "name": "python",
   "nbconvert_exporter": "python",
   "pygments_lexer": "ipython2",
   "version": "2.7.12"
  },
  "latex_envs": {
   "bibliofile": "biblio.bib",
   "cite_by": "apalike",
   "current_citInitial": 1,
   "eqLabelWithNumbers": true,
   "eqNumInitial": 0
  }
 },
 "nbformat": 4,
 "nbformat_minor": 1
}
