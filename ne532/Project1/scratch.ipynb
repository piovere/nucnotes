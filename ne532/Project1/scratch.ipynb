{
 "cells": [
  {
   "cell_type": "code",
   "execution_count": 83,
   "metadata": {
    "collapsed": false
   },
   "outputs": [],
   "source": [
    "%matplotlib inline\n",
    "import matplotlib.pyplot as plt\n",
    "from pyne import material\n",
    "from pyne.material import MaterialLibrary\n",
    "from pyne import nuc_data\n",
    "mats = MaterialLibrary(nuc_data, datapath='/material_library/materials', nucpath='/material_library/nucid')"
   ]
  },
  {
   "cell_type": "code",
   "execution_count": 84,
   "metadata": {
    "collapsed": false
   },
   "outputs": [],
   "source": [
    "w = mats['Water, Liquid']"
   ]
  },
  {
   "cell_type": "code",
   "execution_count": 85,
   "metadata": {
    "collapsed": false
   },
   "outputs": [
    {
     "data": {
      "text/plain": [
       "u'C name: Water, Liquid\\nC density = 1.0\\nm?\\n     1001 -1.1187e-01\\n     1002 -2.5713e-05\\n     8016 -8.8570e-01\\n     8017 -3.5857e-04\\n     8018 -2.0482e-03\\n'"
      ]
     },
     "execution_count": 85,
     "metadata": {},
     "output_type": "execute_result"
    }
   ],
   "source": [
    "w.mcnp()"
   ]
  },
  {
   "cell_type": "code",
   "execution_count": 86,
   "metadata": {
    "collapsed": false
   },
   "outputs": [
    {
     "data": {
      "text/plain": [
       "u'C name: Air (dry, near sea level)\\nC density = 0.0\\nm?\\n     6012 -1.2256e-04\\n     6013 -1.4365e-06\\n     7014 -7.5232e-01\\n     7015 -2.9442e-03\\n     8016 -2.3115e-01\\n     8017 -9.3580e-05\\n     8018 -5.3454e-04\\n     18036 -3.8527e-05\\n     18038 -7.6673e-06\\n     18040 -1.2781e-02\\n'"
      ]
     },
     "execution_count": 86,
     "metadata": {},
     "output_type": "execute_result"
    }
   ],
   "source": [
    "a = mats[\"Air (dry, near sea level)\"]\n",
    "a.mcnp()"
   ]
  },
  {
   "cell_type": "markdown",
   "metadata": {},
   "source": [
    "# Energy bins"
   ]
  },
  {
   "cell_type": "markdown",
   "metadata": {},
   "source": [
    "## 0.6 - 1.5 MeV"
   ]
  },
  {
   "cell_type": "code",
   "execution_count": 87,
   "metadata": {
    "collapsed": true
   },
   "outputs": [],
   "source": [
    "import numpy as np"
   ]
  },
  {
   "cell_type": "code",
   "execution_count": 88,
   "metadata": {
    "collapsed": false
   },
   "outputs": [],
   "source": [
    "def med_erg(e):\n",
    "    return 20.2 * np.exp(-1.78 * e)"
   ]
  },
  {
   "cell_type": "code",
   "execution_count": 173,
   "metadata": {
    "collapsed": false
   },
   "outputs": [
    {
     "data": {
      "text/plain": [
       "6.3514466408012336"
      ]
     },
     "execution_count": 173,
     "metadata": {},
     "output_type": "execute_result"
    }
   ],
   "source": [
    "med_erg(0.65)"
   ]
  },
  {
   "cell_type": "code",
   "execution_count": 90,
   "metadata": {
    "collapsed": false
   },
   "outputs": [
    {
     "data": {
      "text/plain": [
       "1.5291050114426159"
      ]
     },
     "execution_count": 90,
     "metadata": {},
     "output_type": "execute_result"
    }
   ],
   "source": [
    "med_erg(1.5-0.05)"
   ]
  },
  {
   "cell_type": "markdown",
   "metadata": {},
   "source": [
    "## 1.5 - 10.5 MeV"
   ]
  },
  {
   "cell_type": "code",
   "execution_count": 91,
   "metadata": {
    "collapsed": true
   },
   "outputs": [],
   "source": [
    "def high_erg(e):\n",
    "    return 7.2 * np.exp(-1.09 * e)"
   ]
  },
  {
   "cell_type": "code",
   "execution_count": 172,
   "metadata": {
    "collapsed": false
   },
   "outputs": [
    {
     "data": {
      "text/plain": [
       "0.81389902061123887"
      ]
     },
     "execution_count": 172,
     "metadata": {},
     "output_type": "execute_result"
    }
   ],
   "source": [
    "high_erg(2.0)"
   ]
  },
  {
   "cell_type": "code",
   "execution_count": 93,
   "metadata": {
    "collapsed": false
   },
   "outputs": [
    {
     "data": {
      "text/plain": [
       "7.7060558285406563e-05"
      ]
     },
     "execution_count": 93,
     "metadata": {},
     "output_type": "execute_result"
    }
   ],
   "source": [
    "high_erg(10.5)"
   ]
  },
  {
   "cell_type": "code",
   "execution_count": 94,
   "metadata": {
    "collapsed": false
   },
   "outputs": [
    {
     "data": {
      "image/png": "[encoded data removed]",
      "text/plain": [
       "<matplotlib.figure.Figure at 0x112cbed10>"
      ]
     },
     "metadata": {},
     "output_type": "display_data"
    }
   ],
   "source": [
    "x = np.linspace(1.5, 10.5, 18)\n",
    "plt.plot(x, np.log10(high_erg(x)))\n",
    "plt.plot(x, [np.log10(high_erg(xi)) for xi in x], \"x\")\n",
    "plt.show()"
   ]
  },
  {
   "cell_type": "markdown",
   "metadata": {
    "collapsed": true
   },
   "source": [
    "# How many photons correspond to 1e5 n/s?"
   ]
  },
  {
   "cell_type": "code",
   "execution_count": 95,
   "metadata": {
    "collapsed": true
   },
   "outputs": [],
   "source": [
    "n_per_s = 1e5\n",
    "n_per_fission = 3.76\n",
    "fission_per_s = n_per_s / n_per_fission\n",
    "g_per_fission = 8.13\n",
    "g_per_s = g_per_fission * fission_per_s"
   ]
  },
  {
   "cell_type": "code",
   "execution_count": 96,
   "metadata": {
    "collapsed": false
   },
   "outputs": [
    {
     "data": {
      "text/plain": [
       "216223.40425531918"
      ]
     },
     "execution_count": 96,
     "metadata": {},
     "output_type": "execute_result"
    }
   ],
   "source": [
    "g_per_s"
   ]
  },
  {
   "cell_type": "code",
   "execution_count": 97,
   "metadata": {
    "collapsed": false
   },
   "outputs": [],
   "source": [
    "g_per_shake = g_per_s * 1e-8 # (g / s * s / shake)"
   ]
  },
  {
   "cell_type": "code",
   "execution_count": 98,
   "metadata": {
    "collapsed": false
   },
   "outputs": [
    {
     "data": {
      "text/plain": [
       "0.0021622340425531917"
      ]
     },
     "execution_count": 98,
     "metadata": {},
     "output_type": "execute_result"
    }
   ],
   "source": [
    "g_per_shake"
   ]
  },
  {
   "cell_type": "code",
   "execution_count": 99,
   "metadata": {
    "collapsed": true
   },
   "outputs": [],
   "source": [
    "import pandas as pd"
   ]
  },
  {
   "cell_type": "code",
   "execution_count": 110,
   "metadata": {
    "collapsed": false
   },
   "outputs": [],
   "source": [
    "photon_time = pd.read_csv('photon_data.tsv', sep=r'\\s*')"
   ]
  },
  {
   "cell_type": "code",
   "execution_count": 101,
   "metadata": {
    "collapsed": false
   },
   "outputs": [
    {
     "data": {
      "image/png": "[encoded data removed]",
      "text/plain": [
       "<matplotlib.figure.Figure at 0x11230e710>"
      ]
     },
     "metadata": {},
     "output_type": "display_data"
    }
   ],
   "source": [
    "plt.errorbar(photon_time[\"Time\"], photon_time[\"Tally\"], photon_time[\"Error\"] * photon_time[\"Tally\"], fmt=\"*\")\n",
    "plt.title(\"Photons crossing sphere vs. Time (shakes)\")\n",
    "plt.xlabel(\"Time (shakes)\")\n",
    "#plt.ylim([0.,1.05])\n",
    "plt.show()"
   ]
  },
  {
   "cell_type": "markdown",
   "metadata": {},
   "source": [
    "# Photon stupid check table 110"
   ]
  },
  {
   "cell_type": "code",
   "execution_count": 102,
   "metadata": {
    "collapsed": true
   },
   "outputs": [],
   "source": [
    "import numpy as np"
   ]
  },
  {
   "cell_type": "code",
   "execution_count": 103,
   "metadata": {
    "collapsed": false
   },
   "outputs": [],
   "source": [
    "photon_dist = pd.read_csv('photon_table_110.tsv', sep=r'\\s*')"
   ]
  },
  {
   "cell_type": "code",
   "execution_count": 181,
   "metadata": {
    "collapsed": false
   },
   "outputs": [
    {
     "data": {
      "image/png": "[encoded data removed]",
      "text/plain": [
       "<matplotlib.figure.Figure at 0x112ec0250>"
      ]
     },
     "metadata": {},
     "output_type": "display_data"
    }
   ],
   "source": [
    "bins = np.arange(0.1, 0.6, 0.05)\n",
    "bins = np.append(bins, np.arange(0.6, 1.5, 0.05))\n",
    "bins = np.append(bins, np.arange(1.5, 10.5, 0.5))\n",
    "plt.hist(photon_dist['energy'], bins=bins)\n",
    "plt.axvline(0.1, color=\"r\", linestyle='dotted')\n",
    "plt.axvline(0.6, color=\"r\", linestyle='dotted')\n",
    "plt.axvline(1.5, color=\"r\", linestyle='dotted')\n",
    "plt.axvline(10.5, color=\"r\", linestyle='dotted')\n",
    "x1 = np.linspace(0.1, 0.6, 1000)\n",
    "x2 = np.linspace(0.6, 1.5, 1000)\n",
    "x3 = np.linspace(1.5, 10.5, 1000)\n",
    "plt.plot(x1, [6.6 for x in x1], \"g--\")\n",
    "plt.plot(x2, med_erg(x2), \"g--\")\n",
    "plt.plot(x3, high_erg(x3), \"g--\")\n",
    "plt.savefig('bigplot.png', dpi=700)\n",
    "plt.show()"
   ]
  },
  {
   "cell_type": "code",
   "execution_count": 105,
   "metadata": {
    "collapsed": false
   },
   "outputs": [
    {
     "data": {
      "text/plain": [
       "3.1144654558988139"
      ]
     },
     "execution_count": 105,
     "metadata": {},
     "output_type": "execute_result"
    }
   ],
   "source": [
    "-20.2 / 1.78 * (np.exp(-1.78*1.5) - np.exp(-1.78*0.6))"
   ]
  },
  {
   "cell_type": "code",
   "execution_count": 106,
   "metadata": {
    "collapsed": false
   },
   "outputs": [
    {
     "data": {
      "text/plain": [
       "1.2876880851337871"
      ]
     },
     "execution_count": 106,
     "metadata": {},
     "output_type": "execute_result"
    }
   ],
   "source": [
    "-7.2 / 1.09 * (np.exp(-1.09*10.5) - np.exp(-1.09*1.5))"
   ]
  },
  {
   "cell_type": "markdown",
   "metadata": {},
   "source": [
    "# Neutrons"
   ]
  },
  {
   "cell_type": "code",
   "execution_count": 137,
   "metadata": {
    "collapsed": true
   },
   "outputs": [],
   "source": [
    "neutron = pd.read_csv('neutron_data.csv')"
   ]
  },
  {
   "cell_type": "code",
   "execution_count": 194,
   "metadata": {
    "collapsed": false
   },
   "outputs": [
    {
     "data": {
      "image/png": "[encoded data removed]",
      "text/plain": [
       "<matplotlib.figure.Figure at 0x112c6add0>"
      ]
     },
     "metadata": {},
     "output_type": "display_data"
    }
   ],
   "source": [
    "plt.errorbar(neutron['time'], neutron['counts'], neutron['counts']*neutron['error'], fmt='.')\n",
    "plt.xlabel(\"Time (shakes)\")\n",
    "plt.ylabel(\"Neutrons leaving sphere\")\n",
    "plt.title(\"Neutrons crossing sphere (outbound) vs. time\")\n",
    "plt.show()\n",
    "plt.s"
   ]
  },
  {
   "cell_type": "code",
   "execution_count": 220,
   "metadata": {
    "collapsed": false
   },
   "outputs": [
    {
     "data": {
      "text/html": [
       "<div>\n",
       "<table border=\"1\" class=\"dataframe\">\n",
       "  <thead>\n",
       "    <tr style=\"text-align: right;\">\n",
       "      <th></th>\n",
       "      <th>energy_high</th>\n",
       "      <th>particles</th>\n",
       "      <th>error</th>\n",
       "      <th>energy_low</th>\n",
       "    </tr>\n",
       "  </thead>\n",
       "  <tbody>\n",
       "    <tr>\n",
       "      <th>0</th>\n",
       "      <td>0.10</td>\n",
       "      <td>113517.000</td>\n",
       "      <td>0.0748</td>\n",
       "      <td>0.00</td>\n",
       "    </tr>\n",
       "    <tr>\n",
       "      <th>1</th>\n",
       "      <td>0.60</td>\n",
       "      <td>201520.000</td>\n",
       "      <td>0.0382</td>\n",
       "      <td>0.10</td>\n",
       "    </tr>\n",
       "    <tr>\n",
       "      <th>2</th>\n",
       "      <td>0.65</td>\n",
       "      <td>10811.200</td>\n",
       "      <td>0.1378</td>\n",
       "      <td>0.60</td>\n",
       "    </tr>\n",
       "    <tr>\n",
       "      <th>3</th>\n",
       "      <td>0.70</td>\n",
       "      <td>11892.300</td>\n",
       "      <td>0.1311</td>\n",
       "      <td>0.65</td>\n",
       "    </tr>\n",
       "    <tr>\n",
       "      <th>4</th>\n",
       "      <td>0.75</td>\n",
       "      <td>8865.160</td>\n",
       "      <td>0.1529</td>\n",
       "      <td>0.70</td>\n",
       "    </tr>\n",
       "    <tr>\n",
       "      <th>5</th>\n",
       "      <td>0.80</td>\n",
       "      <td>9081.380</td>\n",
       "      <td>0.1510</td>\n",
       "      <td>0.75</td>\n",
       "    </tr>\n",
       "    <tr>\n",
       "      <th>6</th>\n",
       "      <td>0.85</td>\n",
       "      <td>6270.480</td>\n",
       "      <td>0.1830</td>\n",
       "      <td>0.80</td>\n",
       "    </tr>\n",
       "    <tr>\n",
       "      <th>7</th>\n",
       "      <td>0.90</td>\n",
       "      <td>7135.370</td>\n",
       "      <td>0.1712</td>\n",
       "      <td>0.85</td>\n",
       "    </tr>\n",
       "    <tr>\n",
       "      <th>8</th>\n",
       "      <td>0.95</td>\n",
       "      <td>5621.810</td>\n",
       "      <td>0.1935</td>\n",
       "      <td>0.90</td>\n",
       "    </tr>\n",
       "    <tr>\n",
       "      <th>9</th>\n",
       "      <td>1.00</td>\n",
       "      <td>6486.700</td>\n",
       "      <td>0.1798</td>\n",
       "      <td>0.95</td>\n",
       "    </tr>\n",
       "    <tr>\n",
       "      <th>10</th>\n",
       "      <td>1.05</td>\n",
       "      <td>6270.480</td>\n",
       "      <td>0.1830</td>\n",
       "      <td>1.00</td>\n",
       "    </tr>\n",
       "    <tr>\n",
       "      <th>11</th>\n",
       "      <td>1.10</td>\n",
       "      <td>4756.910</td>\n",
       "      <td>0.2108</td>\n",
       "      <td>1.05</td>\n",
       "    </tr>\n",
       "    <tr>\n",
       "      <th>12</th>\n",
       "      <td>1.15</td>\n",
       "      <td>3243.350</td>\n",
       "      <td>0.2563</td>\n",
       "      <td>1.10</td>\n",
       "    </tr>\n",
       "    <tr>\n",
       "      <th>13</th>\n",
       "      <td>1.20</td>\n",
       "      <td>4973.140</td>\n",
       "      <td>0.2061</td>\n",
       "      <td>1.15</td>\n",
       "    </tr>\n",
       "    <tr>\n",
       "      <th>14</th>\n",
       "      <td>1.25</td>\n",
       "      <td>4108.240</td>\n",
       "      <td>0.2272</td>\n",
       "      <td>1.20</td>\n",
       "    </tr>\n",
       "    <tr>\n",
       "      <th>15</th>\n",
       "      <td>1.30</td>\n",
       "      <td>3675.800</td>\n",
       "      <td>0.2405</td>\n",
       "      <td>1.25</td>\n",
       "    </tr>\n",
       "    <tr>\n",
       "      <th>16</th>\n",
       "      <td>1.35</td>\n",
       "      <td>2594.680</td>\n",
       "      <td>0.2869</td>\n",
       "      <td>1.30</td>\n",
       "    </tr>\n",
       "    <tr>\n",
       "      <th>17</th>\n",
       "      <td>1.40</td>\n",
       "      <td>2810.900</td>\n",
       "      <td>0.2755</td>\n",
       "      <td>1.35</td>\n",
       "    </tr>\n",
       "    <tr>\n",
       "      <th>18</th>\n",
       "      <td>1.45</td>\n",
       "      <td>3892.020</td>\n",
       "      <td>0.2336</td>\n",
       "      <td>1.40</td>\n",
       "    </tr>\n",
       "    <tr>\n",
       "      <th>19</th>\n",
       "      <td>1.50</td>\n",
       "      <td>2162.230</td>\n",
       "      <td>0.3146</td>\n",
       "      <td>1.45</td>\n",
       "    </tr>\n",
       "    <tr>\n",
       "      <th>20</th>\n",
       "      <td>2.00</td>\n",
       "      <td>648.670</td>\n",
       "      <td>0.5765</td>\n",
       "      <td>1.50</td>\n",
       "    </tr>\n",
       "    <tr>\n",
       "      <th>21</th>\n",
       "      <td>2.50</td>\n",
       "      <td>1297.340</td>\n",
       "      <td>0.4070</td>\n",
       "      <td>2.00</td>\n",
       "    </tr>\n",
       "    <tr>\n",
       "      <th>22</th>\n",
       "      <td>3.00</td>\n",
       "      <td>216.223</td>\n",
       "      <td>0.9995</td>\n",
       "      <td>2.50</td>\n",
       "    </tr>\n",
       "    <tr>\n",
       "      <th>23</th>\n",
       "      <td>3.50</td>\n",
       "      <td>864.894</td>\n",
       "      <td>0.4990</td>\n",
       "      <td>3.00</td>\n",
       "    </tr>\n",
       "    <tr>\n",
       "      <th>24</th>\n",
       "      <td>4.00</td>\n",
       "      <td>216.223</td>\n",
       "      <td>0.9995</td>\n",
       "      <td>3.50</td>\n",
       "    </tr>\n",
       "    <tr>\n",
       "      <th>25</th>\n",
       "      <td>4.50</td>\n",
       "      <td>0.000</td>\n",
       "      <td>0.0000</td>\n",
       "      <td>4.00</td>\n",
       "    </tr>\n",
       "    <tr>\n",
       "      <th>26</th>\n",
       "      <td>5.00</td>\n",
       "      <td>0.000</td>\n",
       "      <td>0.0000</td>\n",
       "      <td>4.50</td>\n",
       "    </tr>\n",
       "    <tr>\n",
       "      <th>27</th>\n",
       "      <td>5.50</td>\n",
       "      <td>216.223</td>\n",
       "      <td>0.9995</td>\n",
       "      <td>5.00</td>\n",
       "    </tr>\n",
       "    <tr>\n",
       "      <th>28</th>\n",
       "      <td>6.00</td>\n",
       "      <td>0.000</td>\n",
       "      <td>0.0000</td>\n",
       "      <td>5.50</td>\n",
       "    </tr>\n",
       "    <tr>\n",
       "      <th>29</th>\n",
       "      <td>6.50</td>\n",
       "      <td>0.000</td>\n",
       "      <td>0.0000</td>\n",
       "      <td>6.00</td>\n",
       "    </tr>\n",
       "    <tr>\n",
       "      <th>30</th>\n",
       "      <td>7.00</td>\n",
       "      <td>0.000</td>\n",
       "      <td>0.0000</td>\n",
       "      <td>6.50</td>\n",
       "    </tr>\n",
       "    <tr>\n",
       "      <th>31</th>\n",
       "      <td>7.50</td>\n",
       "      <td>0.000</td>\n",
       "      <td>0.0000</td>\n",
       "      <td>7.00</td>\n",
       "    </tr>\n",
       "    <tr>\n",
       "      <th>32</th>\n",
       "      <td>8.00</td>\n",
       "      <td>0.000</td>\n",
       "      <td>0.0000</td>\n",
       "      <td>7.50</td>\n",
       "    </tr>\n",
       "    <tr>\n",
       "      <th>33</th>\n",
       "      <td>8.50</td>\n",
       "      <td>0.000</td>\n",
       "      <td>0.0000</td>\n",
       "      <td>8.00</td>\n",
       "    </tr>\n",
       "    <tr>\n",
       "      <th>34</th>\n",
       "      <td>9.00</td>\n",
       "      <td>0.000</td>\n",
       "      <td>0.0000</td>\n",
       "      <td>8.50</td>\n",
       "    </tr>\n",
       "    <tr>\n",
       "      <th>35</th>\n",
       "      <td>9.50</td>\n",
       "      <td>0.000</td>\n",
       "      <td>0.0000</td>\n",
       "      <td>9.00</td>\n",
       "    </tr>\n",
       "    <tr>\n",
       "      <th>36</th>\n",
       "      <td>10.00</td>\n",
       "      <td>0.000</td>\n",
       "      <td>0.0000</td>\n",
       "      <td>9.50</td>\n",
       "    </tr>\n",
       "    <tr>\n",
       "      <th>37</th>\n",
       "      <td>10.50</td>\n",
       "      <td>0.000</td>\n",
       "      <td>0.0000</td>\n",
       "      <td>10.00</td>\n",
       "    </tr>\n",
       "  </tbody>\n",
       "</table>\n",
       "</div>"
      ],
      "text/plain": [
       "    energy_high   particles   error  energy_low\n",
       "0          0.10  113517.000  0.0748        0.00\n",
       "1          0.60  201520.000  0.0382        0.10\n",
       "2          0.65   10811.200  0.1378        0.60\n",
       "3          0.70   11892.300  0.1311        0.65\n",
       "4          0.75    8865.160  0.1529        0.70\n",
       "5          0.80    9081.380  0.1510        0.75\n",
       "6          0.85    6270.480  0.1830        0.80\n",
       "7          0.90    7135.370  0.1712        0.85\n",
       "8          0.95    5621.810  0.1935        0.90\n",
       "9          1.00    6486.700  0.1798        0.95\n",
       "10         1.05    6270.480  0.1830        1.00\n",
       "11         1.10    4756.910  0.2108        1.05\n",
       "12         1.15    3243.350  0.2563        1.10\n",
       "13         1.20    4973.140  0.2061        1.15\n",
       "14         1.25    4108.240  0.2272        1.20\n",
       "15         1.30    3675.800  0.2405        1.25\n",
       "16         1.35    2594.680  0.2869        1.30\n",
       "17         1.40    2810.900  0.2755        1.35\n",
       "18         1.45    3892.020  0.2336        1.40\n",
       "19         1.50    2162.230  0.3146        1.45\n",
       "20         2.00     648.670  0.5765        1.50\n",
       "21         2.50    1297.340  0.4070        2.00\n",
       "22         3.00     216.223  0.9995        2.50\n",
       "23         3.50     864.894  0.4990        3.00\n",
       "24         4.00     216.223  0.9995        3.50\n",
       "25         4.50       0.000  0.0000        4.00\n",
       "26         5.00       0.000  0.0000        4.50\n",
       "27         5.50     216.223  0.9995        5.00\n",
       "28         6.00       0.000  0.0000        5.50\n",
       "29         6.50       0.000  0.0000        6.00\n",
       "30         7.00       0.000  0.0000        6.50\n",
       "31         7.50       0.000  0.0000        7.00\n",
       "32         8.00       0.000  0.0000        7.50\n",
       "33         8.50       0.000  0.0000        8.00\n",
       "34         9.00       0.000  0.0000        8.50\n",
       "35         9.50       0.000  0.0000        9.00\n",
       "36        10.00       0.000  0.0000        9.50\n",
       "37        10.50       0.000  0.0000       10.00"
      ]
     },
     "execution_count": 220,
     "metadata": {},
     "output_type": "execute_result"
    }
   ],
   "source": [
    "e_check = pd.read_csv('energyproberror.dat', sep=r'\\s*')\n",
    "#e_check['energy_low'] = e_check.loc['energy_high'].shift(1)\n",
    "e_check['energy_low'] = e_check.loc[:,'energy_high'].shift(1)\n",
    "e_check.loc[0,'energy_low']=0.\n",
    "e_check"
   ]
  },
  {
   "cell_type": "code",
   "execution_count": 213,
   "metadata": {
    "collapsed": false
   },
   "outputs": [
    {
     "data": {
      "image/png": "[encoded data removed]",
      "text/plain": [
       "<matplotlib.figure.Figure at 0x1129df850>"
      ]
     },
     "metadata": {},
     "output_type": "display_data"
    }
   ],
   "source": [
    "plt.figure()\n",
    "plt.subplot(111)\n",
    "plt.errorbar(e_check['energy_high'], e_check['particles'], e_check['particles'] * e_check['error'])\n",
    "plt.yscale('log')\n",
    "x1=np.linspace(0.1 , 0.6, 1000)\n",
    "x2=np.linspace(0.6, 1.5, 1000)\n",
    "x3=np.linspace(1.5, 10.5, 1000)\n",
    "plt.plot(x1, [6.6 for x in x1], 'r--')\n",
    "plt.plot(x2, med_erg(x2), 'r--')\n",
    "plt.plot(x3, high_erg(x3), 'r--')\n",
    "plt.show()"
   ]
  },
  {
   "cell_type": "code",
   "execution_count": 207,
   "metadata": {
    "collapsed": false
   },
   "outputs": [
    {
     "data": {
      "image/png": "[encoded data removed]",
      "text/plain": [
       "<matplotlib.figure.Figure at 0x112b730d0>"
      ]
     },
     "metadata": {},
     "output_type": "display_data"
    }
   ],
   "source": [
    "p = np.loadtxt('energyproberror.dat')\n",
    "plt.plot(p[0:2,0], p[0:2,1], '-o')\n",
    "plt.plot(p[2:19,0], p[2:19,1], '-o')\n",
    "plt.plot(p[20:,0], p[20:,1], '-o')\n",
    "plt.yscale('log')\n",
    "plt.show()"
   ]
  },
  {
   "cell_type": "code",
   "execution_count": 199,
   "metadata": {
    "collapsed": false
   },
   "outputs": [
    {
     "data": {
      "text/plain": [
       "array([[  1.00000000e-01,   1.13517000e+05,   7.48000000e-02],\n",
       "       [  6.00000000e-01,   2.01520000e+05,   3.82000000e-02],\n",
       "       [  6.50000000e-01,   1.08112000e+04,   1.37800000e-01],\n",
       "       [  7.00000000e-01,   1.18923000e+04,   1.31100000e-01],\n",
       "       [  7.50000000e-01,   8.86516000e+03,   1.52900000e-01],\n",
       "       [  8.00000000e-01,   9.08138000e+03,   1.51000000e-01],\n",
       "       [  8.50000000e-01,   6.27048000e+03,   1.83000000e-01],\n",
       "       [  9.00000000e-01,   7.13537000e+03,   1.71200000e-01],\n",
       "       [  9.50000000e-01,   5.62181000e+03,   1.93500000e-01],\n",
       "       [  1.00000000e+00,   6.48670000e+03,   1.79800000e-01],\n",
       "       [  1.05000000e+00,   6.27048000e+03,   1.83000000e-01],\n",
       "       [  1.10000000e+00,   4.75691000e+03,   2.10800000e-01],\n",
       "       [  1.15000000e+00,   3.24335000e+03,   2.56300000e-01],\n",
       "       [  1.20000000e+00,   4.97314000e+03,   2.06100000e-01],\n",
       "       [  1.25000000e+00,   4.10824000e+03,   2.27200000e-01],\n",
       "       [  1.30000000e+00,   3.67580000e+03,   2.40500000e-01],\n",
       "       [  1.35000000e+00,   2.59468000e+03,   2.86900000e-01],\n",
       "       [  1.40000000e+00,   2.81090000e+03,   2.75500000e-01],\n",
       "       [  1.45000000e+00,   3.89202000e+03,   2.33600000e-01],\n",
       "       [  1.50000000e+00,   2.16223000e+03,   3.14600000e-01],\n",
       "       [  2.00000000e+00,   6.48670000e+02,   5.76500000e-01],\n",
       "       [  2.50000000e+00,   1.29734000e+03,   4.07000000e-01],\n",
       "       [  3.00000000e+00,   2.16223000e+02,   9.99500000e-01],\n",
       "       [  3.50000000e+00,   8.64894000e+02,   4.99000000e-01],\n",
       "       [  4.00000000e+00,   2.16223000e+02,   9.99500000e-01],\n",
       "       [  4.50000000e+00,   0.00000000e+00,   0.00000000e+00],\n",
       "       [  5.00000000e+00,   0.00000000e+00,   0.00000000e+00],\n",
       "       [  5.50000000e+00,   2.16223000e+02,   9.99500000e-01],\n",
       "       [  6.00000000e+00,   0.00000000e+00,   0.00000000e+00],\n",
       "       [  6.50000000e+00,   0.00000000e+00,   0.00000000e+00],\n",
       "       [  7.00000000e+00,   0.00000000e+00,   0.00000000e+00],\n",
       "       [  7.50000000e+00,   0.00000000e+00,   0.00000000e+00],\n",
       "       [  8.00000000e+00,   0.00000000e+00,   0.00000000e+00],\n",
       "       [  8.50000000e+00,   0.00000000e+00,   0.00000000e+00],\n",
       "       [  9.00000000e+00,   0.00000000e+00,   0.00000000e+00],\n",
       "       [  9.50000000e+00,   0.00000000e+00,   0.00000000e+00],\n",
       "       [  1.00000000e+01,   0.00000000e+00,   0.00000000e+00],\n",
       "       [  1.05000000e+01,   0.00000000e+00,   0.00000000e+00]])"
      ]
     },
     "execution_count": 199,
     "metadata": {},
     "output_type": "execute_result"
    }
   ],
   "source": [
    "p"
   ]
  },
  {
   "cell_type": "code",
   "execution_count": 189,
   "metadata": {
    "collapsed": false
   },
   "outputs": [
    {
     "data": {
      "text/plain": [
       "0.81389902061123887"
      ]
     },
     "execution_count": 189,
     "metadata": {},
     "output_type": "execute_result"
    }
   ],
   "source": [
    "high_erg(2.0)"
   ]
  },
  {
   "cell_type": "code",
   "execution_count": 180,
   "metadata": {
    "collapsed": false
   },
   "outputs": [
    {
     "data": {
      "text/plain": [
       "1.3988949512487889"
      ]
     },
     "execution_count": 180,
     "metadata": {},
     "output_type": "execute_result"
    }
   ],
   "source": [
    "med_erg(1.5)"
   ]
  },
  {
   "cell_type": "code",
   "execution_count": 188,
   "metadata": {
    "collapsed": false
   },
   "outputs": [
    {
     "data": {
      "text/plain": [
       "6.3514466408012336"
      ]
     },
     "execution_count": 188,
     "metadata": {},
     "output_type": "execute_result"
    }
   ],
   "source": [
    "med_erg(0.65)"
   ]
  },
  {
   "cell_type": "markdown",
   "metadata": {},
   "source": [
    "# Energy Ranges"
   ]
  },
  {
   "cell_type": "markdown",
   "metadata": {},
   "source": [
    "## Low energy"
   ]
  },
  {
   "cell_type": "code",
   "execution_count": 241,
   "metadata": {
    "collapsed": false
   },
   "outputs": [
    {
     "name": "stdout",
     "output_type": "stream",
     "text": [
      "[ 0.15  0.2   0.25  0.3   0.35  0.4   0.45  0.5   0.55  0.6 ]\n"
     ]
    }
   ],
   "source": [
    "el_low = np.arange(0.1, 0.6, 0.05)\n",
    "el_high = np.arange(0.15, 0.65, 0.05)\n",
    "print el_high"
   ]
  },
  {
   "cell_type": "code",
   "execution_count": 243,
   "metadata": {
    "collapsed": false
   },
   "outputs": [
    {
     "name": "stdout",
     "output_type": "stream",
     "text": [
      "[ 0.33  0.33  0.33  0.33  0.33  0.33  0.33  0.33  0.33  0.33]\n"
     ]
    }
   ],
   "source": [
    "print 6.6*(el_high - el_low)"
   ]
  },
  {
   "cell_type": "markdown",
   "metadata": {},
   "source": [
    "## Medium Energy"
   ]
  },
  {
   "cell_type": "code",
   "execution_count": 235,
   "metadata": {
    "collapsed": false
   },
   "outputs": [
    {
     "name": "stdout",
     "output_type": "stream",
     "text": [
      "[ 0.65  0.7   0.75  0.8   0.85  0.9   0.95  1.    1.05  1.1   1.15  1.2\n",
      "  1.25  1.3   1.35  1.4   1.45  1.5 ]\n"
     ]
    }
   ],
   "source": [
    "em_low = np.arange(0.6, 1.5, 0.05)\n",
    "em_high = np.arange(0.65, 1.55, 0.05)\n",
    "print em_high"
   ]
  },
  {
   "cell_type": "code",
   "execution_count": 242,
   "metadata": {
    "collapsed": false
   },
   "outputs": [
    {
     "name": "stdout",
     "output_type": "stream",
     "text": [
      "[ 0.02955984  0.02704269  0.02473989  0.02263317  0.02070586  0.01894266\n",
      "  0.01732961  0.01585392  0.01450389  0.01326882  0.01213892  0.01110524\n",
      "  0.01015958  0.00929444  0.00850298  0.00777891  0.0071165   0.0065105 ]\n"
     ]
    }
   ],
   "source": [
    "print (med_erg(em_low) - med_erg(em_high))*(em_high - em_low)"
   ]
  },
  {
   "cell_type": "markdown",
   "metadata": {},
   "source": [
    "## High Energy"
   ]
  },
  {
   "cell_type": "code",
   "execution_count": 239,
   "metadata": {
    "collapsed": false
   },
   "outputs": [
    {
     "name": "stdout",
     "output_type": "stream",
     "text": [
      "[  2.    2.5   3.    3.5   4.    4.5   5.    5.5   6.    6.5   7.    7.5\n",
      "   8.    8.5   9.    9.5  10.   10.5]\n"
     ]
    }
   ],
   "source": [
    "eh_low = np.arange(1.5, 10.5, 0.5)\n",
    "eh_high = np.arange(2.0, 11.0, 0.5)\n",
    "print eh_high"
   ]
  },
  {
   "cell_type": "code",
   "execution_count": 245,
   "metadata": {
    "collapsed": false
   },
   "outputs": [
    {
     "name": "stdout",
     "output_type": "stream",
     "text": [
      "[  2.94879026e-01   1.70983181e-01   9.91431923e-02   5.74873654e-02\n",
      "   3.33335765e-02   1.93282004e-02   1.12072982e-02   6.49845978e-03\n",
      "   3.76807851e-03   2.18488936e-03   1.26689014e-03   7.34595841e-04\n",
      "   4.25949362e-04   2.46983238e-04   1.43211201e-04   8.30398382e-05\n",
      "   4.81499679e-05   2.79193632e-05]\n"
     ]
    }
   ],
   "source": [
    "print (high_erg(eh_low) - high_erg(eh_high)) * (eh_high - eh_low)"
   ]
  },
  {
   "cell_type": "code",
   "execution_count": 248,
   "metadata": {
    "collapsed": true
   },
   "outputs": [],
   "source": [
    "def me_int(i1, i2):\n",
    "    return -20.2 / 1.78 * (np.exp(-1.78 * i2) - np.exp(-1.78 * i1))"
   ]
  },
  {
   "cell_type": "code",
   "execution_count": 250,
   "metadata": {
    "collapsed": false
   },
   "outputs": [
    {
     "name": "stdout",
     "output_type": "stream",
     "text": [
      "[ 0.33213305  0.30385045  0.27797624  0.25430533  0.23265011  0.21283892\n",
      "  0.19471474  0.17813392  0.16296503  0.14908784  0.13639235  0.12477793\n",
      "  0.11415254  0.10443195  0.0955391   0.08740353  0.07996073  0.07315172]\n"
     ]
    }
   ],
   "source": [
    "print me_int(em_low, em_high)"
   ]
  },
  {
   "cell_type": "code",
   "execution_count": 251,
   "metadata": {
    "collapsed": true
   },
   "outputs": [],
   "source": [
    "def he_int(i1, i2):\n",
    "    return -7.2 / 1.09 * (np.exp(-1.09 * i2) - np.exp(-1.09 * i1))"
   ]
  },
  {
   "cell_type": "code",
   "execution_count": 253,
   "metadata": {
    "collapsed": false
   },
   "outputs": [
    {
     "name": "stdout",
     "output_type": "stream",
     "text": [
      "[  5.41062434e-01   3.13730606e-01   1.81914114e-01   1.05481404e-01\n",
      "   6.11625257e-02   3.54645880e-02   2.05638499e-02   1.19237794e-02\n",
      "   6.91390552e-03   4.00897131e-03   2.32456907e-03   1.34788228e-03\n",
      "   7.81558463e-04   4.53180253e-04   2.62772846e-04   1.52366676e-04\n",
      "   8.83485649e-05   5.12281894e-05]\n"
     ]
    }
   ],
   "source": [
    "print he_int(eh_low, eh_high)"
   ]
  },
  {
   "cell_type": "code",
   "execution_count": 259,
   "metadata": {
    "collapsed": false
   },
   "outputs": [
    {
     "data": {
      "text/html": [
       "<div>\n",
       "<table border=\"1\" class=\"dataframe\">\n",
       "  <thead>\n",
       "    <tr style=\"text-align: right;\">\n",
       "      <th></th>\n",
       "      <th>bin</th>\n",
       "      <th>energy_high</th>\n",
       "      <th>cdf</th>\n",
       "      <th>pdf</th>\n",
       "      <th>energy_low</th>\n",
       "    </tr>\n",
       "  </thead>\n",
       "  <tbody>\n",
       "    <tr>\n",
       "      <th>0</th>\n",
       "      <td>1</td>\n",
       "      <td>0.10</td>\n",
       "      <td>0.000000</td>\n",
       "      <td>0.000000</td>\n",
       "      <td>0.00</td>\n",
       "    </tr>\n",
       "    <tr>\n",
       "      <th>1</th>\n",
       "      <td>2</td>\n",
       "      <td>0.15</td>\n",
       "      <td>0.042845</td>\n",
       "      <td>0.042845</td>\n",
       "      <td>0.10</td>\n",
       "    </tr>\n",
       "    <tr>\n",
       "      <th>2</th>\n",
       "      <td>3</td>\n",
       "      <td>0.20</td>\n",
       "      <td>0.085690</td>\n",
       "      <td>0.042845</td>\n",
       "      <td>0.15</td>\n",
       "    </tr>\n",
       "    <tr>\n",
       "      <th>3</th>\n",
       "      <td>4</td>\n",
       "      <td>0.25</td>\n",
       "      <td>0.128535</td>\n",
       "      <td>0.042845</td>\n",
       "      <td>0.20</td>\n",
       "    </tr>\n",
       "    <tr>\n",
       "      <th>4</th>\n",
       "      <td>5</td>\n",
       "      <td>0.30</td>\n",
       "      <td>0.171381</td>\n",
       "      <td>0.042845</td>\n",
       "      <td>0.25</td>\n",
       "    </tr>\n",
       "    <tr>\n",
       "      <th>5</th>\n",
       "      <td>6</td>\n",
       "      <td>0.35</td>\n",
       "      <td>0.214226</td>\n",
       "      <td>0.042845</td>\n",
       "      <td>0.30</td>\n",
       "    </tr>\n",
       "    <tr>\n",
       "      <th>6</th>\n",
       "      <td>7</td>\n",
       "      <td>0.40</td>\n",
       "      <td>0.257071</td>\n",
       "      <td>0.042845</td>\n",
       "      <td>0.35</td>\n",
       "    </tr>\n",
       "    <tr>\n",
       "      <th>7</th>\n",
       "      <td>8</td>\n",
       "      <td>0.45</td>\n",
       "      <td>0.299916</td>\n",
       "      <td>0.042845</td>\n",
       "      <td>0.40</td>\n",
       "    </tr>\n",
       "    <tr>\n",
       "      <th>8</th>\n",
       "      <td>9</td>\n",
       "      <td>0.50</td>\n",
       "      <td>0.342761</td>\n",
       "      <td>0.042845</td>\n",
       "      <td>0.45</td>\n",
       "    </tr>\n",
       "    <tr>\n",
       "      <th>9</th>\n",
       "      <td>10</td>\n",
       "      <td>0.55</td>\n",
       "      <td>0.385606</td>\n",
       "      <td>0.042845</td>\n",
       "      <td>0.50</td>\n",
       "    </tr>\n",
       "    <tr>\n",
       "      <th>10</th>\n",
       "      <td>11</td>\n",
       "      <td>0.60</td>\n",
       "      <td>0.428452</td>\n",
       "      <td>0.042845</td>\n",
       "      <td>0.55</td>\n",
       "    </tr>\n",
       "    <tr>\n",
       "      <th>11</th>\n",
       "      <td>12</td>\n",
       "      <td>0.65</td>\n",
       "      <td>0.471574</td>\n",
       "      <td>0.043122</td>\n",
       "      <td>0.60</td>\n",
       "    </tr>\n",
       "    <tr>\n",
       "      <th>12</th>\n",
       "      <td>13</td>\n",
       "      <td>0.70</td>\n",
       "      <td>0.511024</td>\n",
       "      <td>0.039450</td>\n",
       "      <td>0.65</td>\n",
       "    </tr>\n",
       "    <tr>\n",
       "      <th>13</th>\n",
       "      <td>14</td>\n",
       "      <td>0.75</td>\n",
       "      <td>0.547115</td>\n",
       "      <td>0.036091</td>\n",
       "      <td>0.70</td>\n",
       "    </tr>\n",
       "    <tr>\n",
       "      <th>14</th>\n",
       "      <td>15</td>\n",
       "      <td>0.80</td>\n",
       "      <td>0.580132</td>\n",
       "      <td>0.033017</td>\n",
       "      <td>0.75</td>\n",
       "    </tr>\n",
       "    <tr>\n",
       "      <th>15</th>\n",
       "      <td>16</td>\n",
       "      <td>0.85</td>\n",
       "      <td>0.610338</td>\n",
       "      <td>0.030206</td>\n",
       "      <td>0.80</td>\n",
       "    </tr>\n",
       "    <tr>\n",
       "      <th>16</th>\n",
       "      <td>17</td>\n",
       "      <td>0.90</td>\n",
       "      <td>0.637972</td>\n",
       "      <td>0.027634</td>\n",
       "      <td>0.85</td>\n",
       "    </tr>\n",
       "    <tr>\n",
       "      <th>17</th>\n",
       "      <td>18</td>\n",
       "      <td>0.95</td>\n",
       "      <td>0.663252</td>\n",
       "      <td>0.025281</td>\n",
       "      <td>0.90</td>\n",
       "    </tr>\n",
       "    <tr>\n",
       "      <th>18</th>\n",
       "      <td>19</td>\n",
       "      <td>1.00</td>\n",
       "      <td>0.686380</td>\n",
       "      <td>0.023128</td>\n",
       "      <td>0.95</td>\n",
       "    </tr>\n",
       "    <tr>\n",
       "      <th>19</th>\n",
       "      <td>20</td>\n",
       "      <td>1.05</td>\n",
       "      <td>0.707538</td>\n",
       "      <td>0.021158</td>\n",
       "      <td>1.00</td>\n",
       "    </tr>\n",
       "    <tr>\n",
       "      <th>20</th>\n",
       "      <td>21</td>\n",
       "      <td>1.10</td>\n",
       "      <td>0.726895</td>\n",
       "      <td>0.019357</td>\n",
       "      <td>1.05</td>\n",
       "    </tr>\n",
       "    <tr>\n",
       "      <th>21</th>\n",
       "      <td>22</td>\n",
       "      <td>1.15</td>\n",
       "      <td>0.744603</td>\n",
       "      <td>0.017708</td>\n",
       "      <td>1.10</td>\n",
       "    </tr>\n",
       "    <tr>\n",
       "      <th>22</th>\n",
       "      <td>23</td>\n",
       "      <td>1.20</td>\n",
       "      <td>0.760804</td>\n",
       "      <td>0.016200</td>\n",
       "      <td>1.15</td>\n",
       "    </tr>\n",
       "    <tr>\n",
       "      <th>23</th>\n",
       "      <td>24</td>\n",
       "      <td>1.25</td>\n",
       "      <td>0.775624</td>\n",
       "      <td>0.014821</td>\n",
       "      <td>1.20</td>\n",
       "    </tr>\n",
       "    <tr>\n",
       "      <th>24</th>\n",
       "      <td>25</td>\n",
       "      <td>1.30</td>\n",
       "      <td>0.789183</td>\n",
       "      <td>0.013559</td>\n",
       "      <td>1.25</td>\n",
       "    </tr>\n",
       "    <tr>\n",
       "      <th>25</th>\n",
       "      <td>26</td>\n",
       "      <td>1.35</td>\n",
       "      <td>0.801587</td>\n",
       "      <td>0.012404</td>\n",
       "      <td>1.30</td>\n",
       "    </tr>\n",
       "    <tr>\n",
       "      <th>26</th>\n",
       "      <td>27</td>\n",
       "      <td>1.40</td>\n",
       "      <td>0.812935</td>\n",
       "      <td>0.011348</td>\n",
       "      <td>1.35</td>\n",
       "    </tr>\n",
       "    <tr>\n",
       "      <th>27</th>\n",
       "      <td>28</td>\n",
       "      <td>1.45</td>\n",
       "      <td>0.823317</td>\n",
       "      <td>0.010382</td>\n",
       "      <td>1.40</td>\n",
       "    </tr>\n",
       "    <tr>\n",
       "      <th>28</th>\n",
       "      <td>29</td>\n",
       "      <td>1.50</td>\n",
       "      <td>0.832815</td>\n",
       "      <td>0.009498</td>\n",
       "      <td>1.45</td>\n",
       "    </tr>\n",
       "    <tr>\n",
       "      <th>29</th>\n",
       "      <td>30</td>\n",
       "      <td>2.00</td>\n",
       "      <td>0.903063</td>\n",
       "      <td>0.070248</td>\n",
       "      <td>1.50</td>\n",
       "    </tr>\n",
       "    <tr>\n",
       "      <th>30</th>\n",
       "      <td>31</td>\n",
       "      <td>2.50</td>\n",
       "      <td>0.943796</td>\n",
       "      <td>0.040733</td>\n",
       "      <td>2.00</td>\n",
       "    </tr>\n",
       "    <tr>\n",
       "      <th>31</th>\n",
       "      <td>32</td>\n",
       "      <td>3.00</td>\n",
       "      <td>0.967414</td>\n",
       "      <td>0.023619</td>\n",
       "      <td>2.50</td>\n",
       "    </tr>\n",
       "    <tr>\n",
       "      <th>32</th>\n",
       "      <td>33</td>\n",
       "      <td>3.50</td>\n",
       "      <td>0.981109</td>\n",
       "      <td>0.013695</td>\n",
       "      <td>3.00</td>\n",
       "    </tr>\n",
       "    <tr>\n",
       "      <th>33</th>\n",
       "      <td>34</td>\n",
       "      <td>4.00</td>\n",
       "      <td>0.989050</td>\n",
       "      <td>0.007941</td>\n",
       "      <td>3.50</td>\n",
       "    </tr>\n",
       "    <tr>\n",
       "      <th>34</th>\n",
       "      <td>35</td>\n",
       "      <td>4.50</td>\n",
       "      <td>0.993655</td>\n",
       "      <td>0.004605</td>\n",
       "      <td>4.00</td>\n",
       "    </tr>\n",
       "    <tr>\n",
       "      <th>35</th>\n",
       "      <td>36</td>\n",
       "      <td>5.00</td>\n",
       "      <td>0.996325</td>\n",
       "      <td>0.002670</td>\n",
       "      <td>4.50</td>\n",
       "    </tr>\n",
       "    <tr>\n",
       "      <th>36</th>\n",
       "      <td>37</td>\n",
       "      <td>5.50</td>\n",
       "      <td>0.997873</td>\n",
       "      <td>0.001548</td>\n",
       "      <td>5.00</td>\n",
       "    </tr>\n",
       "    <tr>\n",
       "      <th>37</th>\n",
       "      <td>38</td>\n",
       "      <td>6.00</td>\n",
       "      <td>0.998770</td>\n",
       "      <td>0.000898</td>\n",
       "      <td>5.50</td>\n",
       "    </tr>\n",
       "    <tr>\n",
       "      <th>38</th>\n",
       "      <td>39</td>\n",
       "      <td>6.50</td>\n",
       "      <td>0.999291</td>\n",
       "      <td>0.000521</td>\n",
       "      <td>6.00</td>\n",
       "    </tr>\n",
       "    <tr>\n",
       "      <th>39</th>\n",
       "      <td>40</td>\n",
       "      <td>7.00</td>\n",
       "      <td>0.999593</td>\n",
       "      <td>0.000302</td>\n",
       "      <td>6.50</td>\n",
       "    </tr>\n",
       "    <tr>\n",
       "      <th>40</th>\n",
       "      <td>41</td>\n",
       "      <td>7.50</td>\n",
       "      <td>0.999768</td>\n",
       "      <td>0.000175</td>\n",
       "      <td>7.00</td>\n",
       "    </tr>\n",
       "    <tr>\n",
       "      <th>41</th>\n",
       "      <td>42</td>\n",
       "      <td>8.00</td>\n",
       "      <td>0.999869</td>\n",
       "      <td>0.000101</td>\n",
       "      <td>7.50</td>\n",
       "    </tr>\n",
       "    <tr>\n",
       "      <th>42</th>\n",
       "      <td>43</td>\n",
       "      <td>8.50</td>\n",
       "      <td>0.999928</td>\n",
       "      <td>0.000059</td>\n",
       "      <td>8.00</td>\n",
       "    </tr>\n",
       "    <tr>\n",
       "      <th>43</th>\n",
       "      <td>44</td>\n",
       "      <td>9.00</td>\n",
       "      <td>0.999962</td>\n",
       "      <td>0.000034</td>\n",
       "      <td>8.50</td>\n",
       "    </tr>\n",
       "    <tr>\n",
       "      <th>44</th>\n",
       "      <td>45</td>\n",
       "      <td>9.50</td>\n",
       "      <td>0.999982</td>\n",
       "      <td>0.000020</td>\n",
       "      <td>9.00</td>\n",
       "    </tr>\n",
       "    <tr>\n",
       "      <th>45</th>\n",
       "      <td>46</td>\n",
       "      <td>10.00</td>\n",
       "      <td>0.999993</td>\n",
       "      <td>0.000011</td>\n",
       "      <td>9.50</td>\n",
       "    </tr>\n",
       "    <tr>\n",
       "      <th>46</th>\n",
       "      <td>47</td>\n",
       "      <td>10.50</td>\n",
       "      <td>1.000000</td>\n",
       "      <td>0.000007</td>\n",
       "      <td>10.00</td>\n",
       "    </tr>\n",
       "  </tbody>\n",
       "</table>\n",
       "</div>"
      ],
      "text/plain": [
       "    bin  energy_high       cdf       pdf  energy_low\n",
       "0     1         0.10  0.000000  0.000000        0.00\n",
       "1     2         0.15  0.042845  0.042845        0.10\n",
       "2     3         0.20  0.085690  0.042845        0.15\n",
       "3     4         0.25  0.128535  0.042845        0.20\n",
       "4     5         0.30  0.171381  0.042845        0.25\n",
       "5     6         0.35  0.214226  0.042845        0.30\n",
       "6     7         0.40  0.257071  0.042845        0.35\n",
       "7     8         0.45  0.299916  0.042845        0.40\n",
       "8     9         0.50  0.342761  0.042845        0.45\n",
       "9    10         0.55  0.385606  0.042845        0.50\n",
       "10   11         0.60  0.428452  0.042845        0.55\n",
       "11   12         0.65  0.471574  0.043122        0.60\n",
       "12   13         0.70  0.511024  0.039450        0.65\n",
       "13   14         0.75  0.547115  0.036091        0.70\n",
       "14   15         0.80  0.580132  0.033017        0.75\n",
       "15   16         0.85  0.610338  0.030206        0.80\n",
       "16   17         0.90  0.637972  0.027634        0.85\n",
       "17   18         0.95  0.663252  0.025281        0.90\n",
       "18   19         1.00  0.686380  0.023128        0.95\n",
       "19   20         1.05  0.707538  0.021158        1.00\n",
       "20   21         1.10  0.726895  0.019357        1.05\n",
       "21   22         1.15  0.744603  0.017708        1.10\n",
       "22   23         1.20  0.760804  0.016200        1.15\n",
       "23   24         1.25  0.775624  0.014821        1.20\n",
       "24   25         1.30  0.789183  0.013559        1.25\n",
       "25   26         1.35  0.801587  0.012404        1.30\n",
       "26   27         1.40  0.812935  0.011348        1.35\n",
       "27   28         1.45  0.823317  0.010382        1.40\n",
       "28   29         1.50  0.832815  0.009498        1.45\n",
       "29   30         2.00  0.903063  0.070248        1.50\n",
       "30   31         2.50  0.943796  0.040733        2.00\n",
       "31   32         3.00  0.967414  0.023619        2.50\n",
       "32   33         3.50  0.981109  0.013695        3.00\n",
       "33   34         4.00  0.989050  0.007941        3.50\n",
       "34   35         4.50  0.993655  0.004605        4.00\n",
       "35   36         5.00  0.996325  0.002670        4.50\n",
       "36   37         5.50  0.997873  0.001548        5.00\n",
       "37   38         6.00  0.998770  0.000898        5.50\n",
       "38   39         6.50  0.999291  0.000521        6.00\n",
       "39   40         7.00  0.999593  0.000302        6.50\n",
       "40   41         7.50  0.999768  0.000175        7.00\n",
       "41   42         8.00  0.999869  0.000101        7.50\n",
       "42   43         8.50  0.999928  0.000059        8.00\n",
       "43   44         9.00  0.999962  0.000034        8.50\n",
       "44   45         9.50  0.999982  0.000020        9.00\n",
       "45   46        10.00  0.999993  0.000011        9.50\n",
       "46   47        10.50  1.000000  0.000007       10.00"
      ]
     },
     "execution_count": 259,
     "metadata": {},
     "output_type": "execute_result"
    }
   ],
   "source": [
    "td = pd.read_clipboard()\n",
    "td['energy_low'] = td.loc[:,'energy_high'].shift(1)\n",
    "td.loc[0, 'energy_low'] = 0.\n",
    "td"
   ]
  },
  {
   "cell_type": "code",
   "execution_count": 277,
   "metadata": {
    "collapsed": false
   },
   "outputs": [
    {
     "data": {
      "image/png": "[encoded data removed]",
      "text/plain": [
       "<matplotlib.figure.Figure at 0x113114410>"
      ]
     },
     "metadata": {},
     "output_type": "display_data"
    }
   ],
   "source": [
    "import matplotlib.patches as patches\n",
    "f1 = plt.figure()\n",
    "ax1 = plt.subplot(111)\n",
    "for index, row in td.iterrows():\n",
    "    ax1.add_patch(\n",
    "        patches.Rectangle(\n",
    "            (row['energy_low'], 0.),\n",
    "            row['energy_high'] - row['energy_low'],\n",
    "            row['pdf']\n",
    "        )\n",
    "    )\n",
    "plt.yscale('log')\n",
    "plt.xlim([0., 11.])\n",
    "plt.plot(x1, [0.33 for x in x1], 'r--')\n",
    "plt.plot(x2, med_erg(x1), 'r--')\n",
    "plt.plot(x3, high_erg(x3), 'r--')\n",
    "plt.show()"
   ]
  },
  {
   "cell_type": "code",
   "execution_count": 267,
   "metadata": {
    "collapsed": false
   },
   "outputs": [
    {
     "name": "stdout",
     "output_type": "stream",
     "text": [
      "4.0\n",
      "0.25\n",
      "0.1285355\n",
      "0.04284516\n",
      "0.2\n"
     ]
    }
   ],
   "source": [
    "for i in td.loc[3]:\n",
    "    print i"
   ]
  },
  {
   "cell_type": "code",
   "execution_count": null,
   "metadata": {
    "collapsed": true
   },
   "outputs": [],
   "source": []
  }
 ],
 "metadata": {
  "anaconda-cloud": {},
  "kernelspec": {
   "display_name": "Python [conda env:nuc]",
   "language": "python",
   "name": "conda-env-nuc-py"
  },
  "language_info": {
   "codemirror_mode": {
    "name": "ipython",
    "version": 2
   },
   "file_extension": ".py",
   "mimetype": "text/x-python",
   "name": "python",
   "nbconvert_exporter": "python",
   "pygments_lexer": "ipython2",
   "version": "2.7.12"
  },
  "latex_envs": {
   "bibliofile": "biblio.bib",
   "cite_by": "apalike",
   "current_citInitial": 1,
   "eqLabelWithNumbers": true,
   "eqNumInitial": 0
  }
 },
 "nbformat": 4,
 "nbformat_minor": 1
}
