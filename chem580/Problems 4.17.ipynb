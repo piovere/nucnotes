{
 "cells": [
  {
   "cell_type": "code",
   "execution_count": 2,
   "metadata": {
    "collapsed": true
   },
   "outputs": [],
   "source": [
    "from __future__ import division\n",
    "import numpy as np\n",
    "from uncertainties import ufloat\n",
    "from uncertainties.umath import *"
   ]
  },
  {
   "cell_type": "markdown",
   "metadata": {},
   "source": [
    "# Part A"
   ]
  },
  {
   "cell_type": "code",
   "execution_count": 4,
   "metadata": {
    "collapsed": true
   },
   "outputs": [],
   "source": [
    "sample_counts = ufloat(4170, 4170 ** 0.5)\n",
    "sample_time = 21 # minutes\n",
    "bg_counts = ufloat(292, 292 ** 0.5)\n",
    "bg_time = 11 # minutes"
   ]
  },
  {
   "cell_type": "code",
   "execution_count": 5,
   "metadata": {
    "collapsed": true
   },
   "outputs": [],
   "source": [
    "sample_cpm = sample_counts / sample_time - bg_counts / bg_time"
   ]
  },
  {
   "cell_type": "code",
   "execution_count": 6,
   "metadata": {
    "collapsed": false
   },
   "outputs": [
    {
     "name": "stdout",
     "output_type": "stream",
     "text": [
      "172.0+/-3.4\n"
     ]
    }
   ],
   "source": [
    "print(sample_cpm)"
   ]
  },
  {
   "cell_type": "markdown",
   "metadata": {},
   "source": [
    "# Part B"
   ]
  },
  {
   "cell_type": "code",
   "execution_count": 9,
   "metadata": {
    "collapsed": false
   },
   "outputs": [],
   "source": [
    "reliable_error = 1.65 * sample_cpm.std_dev\n",
    "three_d_error = 3.0 * sample_cpm.std_dev"
   ]
  },
  {
   "cell_type": "code",
   "execution_count": 10,
   "metadata": {
    "collapsed": false
   },
   "outputs": [
    {
     "name": "stdout",
     "output_type": "stream",
     "text": [
      "Reliable error: 5.68448479169\n",
      "Three-D error: 10.335426894\n"
     ]
    }
   ],
   "source": [
    "print(\"Reliable error: {0}\".format(reliable_error))\n",
    "print(\"Three-D error: {0}\".format(three_d_error))"
   ]
  },
  {
   "cell_type": "markdown",
   "metadata": {},
   "source": [
    "# Part C"
   ]
  },
  {
   "cell_type": "code",
   "execution_count": 11,
   "metadata": {
    "collapsed": true
   },
   "outputs": [],
   "source": [
    "ratio = ((sample_counts / sample_time) / (bg_counts / bg_time)) ** 0.5"
   ]
  },
  {
   "cell_type": "code",
   "execution_count": 12,
   "metadata": {
    "collapsed": false
   },
   "outputs": [
    {
     "name": "stdout",
     "output_type": "stream",
     "text": [
      "Optimal Counting Ratio: 2.74+/-0.08\n"
     ]
    }
   ],
   "source": [
    "print(\"Optimal Counting Ratio: {0}\".format(ratio))"
   ]
  },
  {
   "cell_type": "markdown",
   "metadata": {},
   "source": [
    "# Part D"
   ]
  },
  {
   "cell_type": "markdown",
   "metadata": {},
   "source": [
    "\\begin{align}\n",
    "    t_{total} &= t_s + t_b \\\\\n",
    "    &= t_b \\frac{t_s}{t_b} + t_b \\\\\n",
    "    &= t_b \\left( \\frac{t_s}{t_b} + 1 \\right) \\\\\n",
    "    t_b &= \\frac{t_{total}}{\\frac{t_s}{t_b} + 1}\n",
    "\\end{align}"
   ]
  },
  {
   "cell_type": "code",
   "execution_count": 16,
   "metadata": {
    "collapsed": true
   },
   "outputs": [],
   "source": [
    "background_time = 30 / (ratio + 1)\n",
    "sample_time = 30 - background_time"
   ]
  },
  {
   "cell_type": "code",
   "execution_count": 18,
   "metadata": {
    "collapsed": false
   },
   "outputs": [
    {
     "name": "stdout",
     "output_type": "stream",
     "text": [
      "Background time: 8.03+/-0.18 minutes\n",
      "Sample time: 21.97+/-0.18 minutes\n"
     ]
    }
   ],
   "source": [
    "print(\"Background time: {0} minutes\".format(background_time))\n",
    "print(\"Sample time: {0} minutes\".format(sample_time))"
   ]
  },
  {
   "cell_type": "markdown",
   "metadata": {},
   "source": [
    "# Part E"
   ]
  },
  {
   "cell_type": "code",
   "execution_count": 19,
   "metadata": {
    "collapsed": true
   },
   "outputs": [],
   "source": [
    "sampleX = ufloat(7412, 7412 ** 0.5)\n",
    "timeX = 4\n",
    "sampleY = ufloat(3916, 3916 ** 0.5)\n",
    "timeY = 5\n",
    "bgc = ufloat(615, 615 ** 0.5)\n",
    "bgt = 6"
   ]
  },
  {
   "cell_type": "markdown",
   "metadata": {},
   "source": [
    "## E.1"
   ]
  },
  {
   "cell_type": "code",
   "execution_count": 21,
   "metadata": {
    "collapsed": false
   },
   "outputs": [
    {
     "name": "stdout",
     "output_type": "stream",
     "text": [
      "1750+/-22cpm\n"
     ]
    }
   ],
   "source": [
    "ax = sampleX / timeX - bgc / bgt\n",
    "print(\"{0}cpm\".format(ax))"
   ]
  },
  {
   "cell_type": "markdown",
   "metadata": {},
   "source": [
    "## E.2"
   ]
  },
  {
   "cell_type": "code",
   "execution_count": 23,
   "metadata": {
    "collapsed": false
   },
   "outputs": [
    {
     "name": "stdout",
     "output_type": "stream",
     "text": [
      "681+/-13cpm\n"
     ]
    }
   ],
   "source": [
    "ay = sampleY / timeY - bgc / bgt\n",
    "print(\"{0}cpm\".format(ay))"
   ]
  },
  {
   "cell_type": "markdown",
   "metadata": {},
   "source": [
    "## E.3"
   ]
  },
  {
   "cell_type": "code",
   "execution_count": 24,
   "metadata": {
    "collapsed": false
   },
   "outputs": [
    {
     "name": "stdout",
     "output_type": "stream",
     "text": [
      "The ratio is: 2.57+/-0.06\n"
     ]
    }
   ],
   "source": [
    "xovery = ax / ay\n",
    "print(\"The ratio is: {}\".format(xovery))"
   ]
  },
  {
   "cell_type": "code",
   "execution_count": null,
   "metadata": {
    "collapsed": true
   },
   "outputs": [],
   "source": []
  }
 ],
 "metadata": {
  "anaconda-cloud": {},
  "kernelspec": {
   "display_name": "Python [conda env:nuc]",
   "language": "python",
   "name": "conda-env-nuc-py"
  },
  "language_info": {
   "codemirror_mode": {
    "name": "ipython",
    "version": 2
   },
   "file_extension": ".py",
   "mimetype": "text/x-python",
   "name": "python",
   "nbconvert_exporter": "python",
   "pygments_lexer": "ipython2",
   "version": "2.7.13"
  }
 },
 "nbformat": 4,
 "nbformat_minor": 2
}
