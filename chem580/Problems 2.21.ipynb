{
 "cells": [
  {
   "cell_type": "code",
   "execution_count": 45,
   "metadata": {
    "collapsed": true
   },
   "outputs": [],
   "source": [
    "%matplotlib inline\n",
    "import matplotlib.pyplot as plt\n",
    "import numpy as np\n",
    "from IPython.display import display, Math, Latex"
   ]
  },
  {
   "cell_type": "markdown",
   "metadata": {},
   "source": [
    "# Section 2.21 Problems"
   ]
  },
  {
   "cell_type": "markdown",
   "metadata": {},
   "source": [
    "## Problem A"
   ]
  },
  {
   "cell_type": "markdown",
   "metadata": {},
   "source": [
    "Consider these data for the decay of a nuclide 0.0d:7493dpm, 4:5507, 8:4047, 17:2024, 25:1093, 38:402, 47:201, 83:13, 100:3. Plot these data on a linear graph..."
   ]
  },
  {
   "cell_type": "code",
   "execution_count": 2,
   "metadata": {
    "collapsed": true
   },
   "outputs": [],
   "source": [
    "data = np.array([\n",
    "        [0.0, 7493],\n",
    "        [4, 5507],\n",
    "        [8, 4047],\n",
    "        [17, 2024],\n",
    "        [25, 1093],\n",
    "        [38, 402],\n",
    "        [47, 201],\n",
    "        [83, 13],\n",
    "        [100, 3]\n",
    "    ])"
   ]
  },
  {
   "cell_type": "code",
   "execution_count": 5,
   "metadata": {
    "collapsed": false
   },
   "outputs": [
    {
     "data": {
      "image/png": "[encoded data removed]",
      "text/plain": [
       "<matplotlib.figure.Figure at 0x104773f10>"
      ]
     },
     "metadata": {},
     "output_type": "display_data"
    }
   ],
   "source": [
    "plt.plot(data[:,0], data[:,1])\n",
    "plt.show()"
   ]
  },
  {
   "cell_type": "markdown",
   "metadata": {},
   "source": [
    "...then on a three-cycle, semi-log graph..."
   ]
  },
  {
   "cell_type": "code",
   "execution_count": 79,
   "metadata": {
    "collapsed": false
   },
   "outputs": [
    {
     "data": {
      "image/png": "[encoded data removed]",
      "text/plain": [
       "<matplotlib.figure.Figure at 0x10e20b890>"
      ]
     },
     "metadata": {},
     "output_type": "display_data"
    }
   ],
   "source": [
    "plt.plot(data[:,0], data[:,1], 'b+-')\n",
    "plt.yscale('log')\n",
    "plt.ylim(10,1e4)\n",
    "plt.show()"
   ]
  },
  {
   "cell_type": "markdown",
   "metadata": {},
   "source": [
    "Calculate the slope..."
   ]
  },
  {
   "cell_type": "code",
   "execution_count": 22,
   "metadata": {
    "collapsed": false
   },
   "outputs": [
    {
     "data": {
      "text/plain": [
       "-0.033713230060329169"
      ]
     },
     "execution_count": 22,
     "metadata": {},
     "output_type": "execute_result"
    }
   ],
   "source": [
    "m = np.polyfit(data[:,0], np.log10(data[:,1]),1)[0]\n",
    "m"
   ]
  },
  {
   "cell_type": "markdown",
   "metadata": {},
   "source": [
    "...then $\\lambda$ in reciprocal days..."
   ]
  },
  {
   "cell_type": "code",
   "execution_count": 59,
   "metadata": {
    "collapsed": false
   },
   "outputs": [
    {
     "data": {
      "text/latex": [
       "$$0.07768 d^{-1}$$"
      ],
      "text/plain": [
       "<IPython.core.display.Math object>"
      ]
     },
     "metadata": {},
     "output_type": "display_data"
    }
   ],
   "source": [
    "l = m / -0.434\n",
    "display(Math(r\"{:.4G} d^{{-1}}\".format(l)))"
   ]
  },
  {
   "cell_type": "markdown",
   "metadata": {},
   "source": [
    "...then T in days..."
   ]
  },
  {
   "cell_type": "code",
   "execution_count": 60,
   "metadata": {
    "collapsed": false
   },
   "outputs": [
    {
     "data": {
      "text/latex": [
       "$$8.923 d$$"
      ],
      "text/plain": [
       "<IPython.core.display.Math object>"
      ]
     },
     "metadata": {},
     "output_type": "display_data"
    }
   ],
   "source": [
    "T = np.log(2.) / l\n",
    "display(Math(r\"{:.4G} d\".format(T)))"
   ]
  },
  {
   "cell_type": "markdown",
   "metadata": {},
   "source": [
    "Calculate $\\lambda$ in reciprocal seconds..."
   ]
  },
  {
   "cell_type": "code",
   "execution_count": 61,
   "metadata": {
    "collapsed": false
   },
   "outputs": [
    {
     "data": {
      "text/latex": [
       "$$8.991E-07 s^{-1}$$"
      ],
      "text/plain": [
       "<IPython.core.display.Math object>"
      ]
     },
     "metadata": {},
     "output_type": "display_data"
    }
   ],
   "source": [
    "l_sec = l/24./60./60.\n",
    "display(Math(r\"{:.4G} s^{{-1}}\".format(l_sec)))"
   ]
  },
  {
   "cell_type": "markdown",
   "metadata": {},
   "source": [
    "...and T in years"
   ]
  },
  {
   "cell_type": "code",
   "execution_count": 65,
   "metadata": {
    "collapsed": false
   },
   "outputs": [
    {
     "data": {
      "text/latex": [
       "$$0.02443 y$$"
      ],
      "text/plain": [
       "<IPython.core.display.Math object>"
      ]
     },
     "metadata": {},
     "output_type": "display_data"
    }
   ],
   "source": [
    "T_yr = T / 365.241\n",
    "display(Math(r\"{:.4G} y\".format(T_yr)))"
   ]
  },
  {
   "cell_type": "markdown",
   "metadata": {},
   "source": [
    "## Problem B"
   ]
  },
  {
   "cell_type": "markdown",
   "metadata": {},
   "source": [
    "Consider these data for the decay of a nuclide: (see below). Plot the data and ascertain the half-life in days"
   ]
  },
  {
   "cell_type": "code",
   "execution_count": 66,
   "metadata": {
    "collapsed": true
   },
   "outputs": [],
   "source": [
    "data_b = np.array([\n",
    "        [0.0, 8977],\n",
    "        [1, 7549],\n",
    "        [2, 6348],\n",
    "        [3, 5338],\n",
    "        [4, 4489],\n",
    "        [5, 3775],\n",
    "        [6, 3174],\n",
    "        [7, 2669]\n",
    "    ])"
   ]
  },
  {
   "cell_type": "code",
   "execution_count": 67,
   "metadata": {
    "collapsed": false
   },
   "outputs": [
    {
     "data": {
      "image/png": "[encoded data removed]",
      "text/plain": [
       "<matplotlib.figure.Figure at 0x10a643190>"
      ]
     },
     "metadata": {},
     "output_type": "display_data"
    }
   ],
   "source": [
    "plt.plot(data_b[:,0], data_b[:,1])\n",
    "plt.show()"
   ]
  },
  {
   "cell_type": "code",
   "execution_count": 77,
   "metadata": {
    "collapsed": false
   },
   "outputs": [
    {
     "data": {
      "image/png": "[encoded data removed]",
      "text/plain": [
       "<matplotlib.figure.Figure at 0x10de86e50>"
      ]
     },
     "metadata": {},
     "output_type": "display_data"
    }
   ],
   "source": [
    "plt.plot(data_b[:,0], data_b[:,1], 'b+-')\n",
    "plt.yscale('log')\n",
    "plt.show()"
   ]
  },
  {
   "cell_type": "code",
   "execution_count": 72,
   "metadata": {
    "collapsed": false
   },
   "outputs": [
    {
     "data": {
      "text/plain": [
       "-0.075253332439731688"
      ]
     },
     "execution_count": 72,
     "metadata": {},
     "output_type": "execute_result"
    }
   ],
   "source": [
    "m_b = np.polyfit(data_b[:,0], np.log10(data_b[:,1]),1)[0]\n",
    "m_b"
   ]
  },
  {
   "cell_type": "code",
   "execution_count": 75,
   "metadata": {
    "collapsed": false
   },
   "outputs": [
    {
     "data": {
      "text/latex": [
       "$$3.998 d$$"
      ],
      "text/plain": [
       "<IPython.core.display.Math object>"
      ]
     },
     "metadata": {},
     "output_type": "display_data"
    }
   ],
   "source": [
    "l_b = m_b / -0.434\n",
    "T_b = np.log(2.) / l_b\n",
    "display(Math(r\"{:.4G} d\".format(T_b)))"
   ]
  },
  {
   "cell_type": "markdown",
   "metadata": {},
   "source": [
    "## Problem C"
   ]
  },
  {
   "cell_type": "markdown",
   "metadata": {},
   "source": [
    "The T of $^{65}$Zn is 245 d. Starting with 14000 d/m, calculate the activity after 71d, 163d, 491d, 4y."
   ]
  },
  {
   "cell_type": "code",
   "execution_count": 80,
   "metadata": {
    "collapsed": true
   },
   "outputs": [],
   "source": [
    "def activity(t, initial=14000, half_life=245):\n",
    "    l = np.log(2) / half_life\n",
    "    return initial * np.exp(-l * t)"
   ]
  },
  {
   "cell_type": "code",
   "execution_count": 95,
   "metadata": {
    "collapsed": false
   },
   "outputs": [
    {
     "name": "stdout",
     "output_type": "stream",
     "text": [
      "[ 11452.2487244    8827.7685173    3490.1118916     224.41430624] (d/m)\n"
     ]
    }
   ],
   "source": [
    "time_array = np.array([71, 163, 491, 4 * 365.241])\n",
    "print(\"{} (d/m)\".format(activity(time_array)))"
   ]
  },
  {
   "cell_type": "markdown",
   "metadata": {},
   "source": [
    "## Problem D"
   ]
  },
  {
   "cell_type": "markdown",
   "metadata": {},
   "source": [
    "The T of $^{100}$Rh is 20.0 h. Suppose you have 16740 d/m. What had the d/m been back at 9h, 17h, 43h, 98h?"
   ]
  },
  {
   "cell_type": "code",
   "execution_count": 88,
   "metadata": {
    "collapsed": true
   },
   "outputs": [],
   "source": [
    "time_array_d = np.array([-9, -14, -43, -98])"
   ]
  },
  {
   "cell_type": "code",
   "execution_count": 94,
   "metadata": {
    "collapsed": false
   },
   "outputs": [
    {
     "name": "stdout",
     "output_type": "stream",
     "text": [
      "[  22867.51389807   27194.21023001   74296.77184966  499807.11290644] (d/m)\n"
     ]
    }
   ],
   "source": [
    "print(\"{} (d/m)\".format(activity(time_array_d, 16740, 20)))"
   ]
  },
  {
   "cell_type": "markdown",
   "metadata": {},
   "source": [
    "## Problem E"
   ]
  },
  {
   "cell_type": "markdown",
   "metadata": {},
   "source": [
    "The T of $^{24}$Na is 15h. How long will it take an activity of 10000 d/m to drop to 4716 d/m, 735 d/m, 0.5 d/m?"
   ]
  },
  {
   "cell_type": "code",
   "execution_count": 92,
   "metadata": {
    "collapsed": true
   },
   "outputs": [],
   "source": [
    "from __future__ import division\n",
    "def decay_time(initial, final, half_life):\n",
    "    l = np.log(2) / half_life\n",
    "    return -(1. / l) * np.log(final / initial)"
   ]
  },
  {
   "cell_type": "code",
   "execution_count": 96,
   "metadata": {
    "collapsed": false
   },
   "outputs": [
    {
     "name": "stdout",
     "output_type": "stream",
     "text": [
      "[  16.26546565   56.4916791   214.31568569] (h)\n"
     ]
    }
   ],
   "source": [
    "final_activity_e = np.array([4716, 735, 0.5])\n",
    "print(\"{} (h)\".format(decay_time(10000, final_activity_e, 15)))"
   ]
  },
  {
   "cell_type": "markdown",
   "metadata": {},
   "source": [
    "## Problem F"
   ]
  },
  {
   "cell_type": "markdown",
   "metadata": {},
   "source": [
    "Nine grams of NdF$_3$, $^{144}$Nd, give 6 c/m with a 40% efficient detector. Calculate T in y."
   ]
  },
  {
   "cell_type": "code",
   "execution_count": 113,
   "metadata": {
    "collapsed": false
   },
   "outputs": [
    {
     "name": "stdout",
     "output_type": "stream",
     "text": [
      "15.0\n"
     ]
    }
   ],
   "source": [
    "activity_f = 6 / 0.4\n",
    "print(activity_f)\n",
    "mass_Nd_144 = 143.9100873\n",
    "mass_F = 18.998440"
   ]
  },
  {
   "cell_type": "code",
   "execution_count": 114,
   "metadata": {
    "collapsed": false
   },
   "outputs": [],
   "source": [
    "number_of_particles_f = 9. / (mass_Nd_144 + mass_F) * 6.022e23"
   ]
  },
  {
   "cell_type": "markdown",
   "metadata": {},
   "source": [
    "$A=\\lambda N$, $T=\\frac{\\ln2}{\\lambda}$"
   ]
  },
  {
   "cell_type": "code",
   "execution_count": 115,
   "metadata": {
    "collapsed": false
   },
   "outputs": [
    {
     "data": {
      "text/plain": [
       "1.5373531602720436e+21"
      ]
     },
     "execution_count": 115,
     "metadata": {},
     "output_type": "execute_result"
    }
   ],
   "source": [
    "half_life_in_minutes = np.log(2.) / (activity_f / number_of_particles_f)\n",
    "half_life_in_minutes"
   ]
  },
  {
   "cell_type": "markdown",
   "metadata": {},
   "source": [
    "Convert from minutes to years"
   ]
  },
  {
   "cell_type": "code",
   "execution_count": 116,
   "metadata": {
    "collapsed": false
   },
   "outputs": [
    {
     "name": "stdout",
     "output_type": "stream",
     "text": [
      "2.92302E+15\n"
     ]
    }
   ],
   "source": [
    "half_life_in_years = half_life_in_minutes / 60. / 24. / 365.241\n",
    "print(\"{:4G}\".format(half_life_in_years))"
   ]
  },
  {
   "cell_type": "markdown",
   "metadata": {},
   "source": [
    "## Problem G"
   ]
  },
  {
   "cell_type": "markdown",
   "metadata": {},
   "source": [
    "Plot a secular equilibrium graph for the first two members of the $^{237}$Np series."
   ]
  },
  {
   "cell_type": "code",
   "execution_count": 119,
   "metadata": {
    "collapsed": true
   },
   "outputs": [],
   "source": [
    "def activity_g_np(t, initial=1e5, half_life=2.144e6):\n",
    "    l = np.log(2) / half_life\n",
    "    return initial * np.exp(-l * t)\n",
    "\n",
    "def activity_g_pa(t, initial=0, half_life=26.975/365.241):\n",
    "    l = np.log(2) / half_life\n",
    "    a = activity_g_np(t) * (1 - np.exp(-l * t))\n",
    "    return a\n",
    "\n",
    "def activity_g_total(t):\n",
    "    return activity_g_np(t) + activity_g_pa(t)"
   ]
  },
  {
   "cell_type": "code",
   "execution_count": 124,
   "metadata": {
    "collapsed": false
   },
   "outputs": [
    {
     "data": {
      "image/png": "[encoded data removed]",
      "text/plain": [
       "<matplotlib.figure.Figure at 0x10e247dd0>"
      ]
     },
     "metadata": {},
     "output_type": "display_data"
    }
   ],
   "source": [
    "t_range = np.linspace(0,10*26.975/365.241,1e5)\n",
    "plt.plot(t_range, activity_g_np(t_range), label=r'$^{237}$Np')\n",
    "plt.plot(t_range, activity_g_pa(t_range), label=r'$^{233}$Pa')\n",
    "plt.plot(t_range, activity_g_total(t_range), label='Total')\n",
    "plt.yscale('log')\n",
    "plt.legend(loc=\"lower right\")\n",
    "plt.show()"
   ]
  },
  {
   "cell_type": "markdown",
   "metadata": {},
   "source": [
    "## Problem H"
   ]
  },
  {
   "cell_type": "markdown",
   "metadata": {},
   "source": [
    "Look up an appropriate decay chain and plot a transient equilibrium diagram."
   ]
  },
  {
   "cell_type": "markdown",
   "metadata": {},
   "source": [
    "The decay of $^{140}$Ba (T=12.8d) to $^{140}$La (T=40h)"
   ]
  },
  {
   "cell_type": "code",
   "execution_count": 142,
   "metadata": {
    "collapsed": true
   },
   "outputs": [],
   "source": [
    "def activity_h_ba(t, initial=1e5, half_life=12.8):\n",
    "    l = np.log(2) / half_life\n",
    "    return initial * np.exp(-l * t)\n",
    "\n",
    "def activity_h_la(t, initial=0, half_life=40./24):\n",
    "    l_d = np.log(2) / half_life\n",
    "    l_p = np.log(2) / (12.8)\n",
    "    a_1 = l_d / (l_d - l_p) * 1e5\n",
    "    a_2 = (np.exp(-l_p * t) - np.exp(-l_d * t))\n",
    "    return a_1 * a_2\n",
    "\n",
    "def activity_h_total(t):\n",
    "    return activity_h_ba(t) + activity_h_la(t)"
   ]
  },
  {
   "cell_type": "code",
   "execution_count": 159,
   "metadata": {
    "collapsed": false
   },
   "outputs": [
    {
     "data": {
      "image/png": "[encoded data removed]",
      "text/plain": [
       "<matplotlib.figure.Figure at 0x10d490390>"
      ]
     },
     "metadata": {},
     "output_type": "display_data"
    }
   ],
   "source": [
    "t_range = np.linspace(0,12.8*4,1e5)\n",
    "plt.plot(t_range, activity_h_ba(t_range), label=r'$^{140}$Ba')\n",
    "plt.plot(t_range, activity_h_la(t_range), label=r'$^{140}$La')\n",
    "plt.plot(t_range, activity_h_total(t_range), label=\"Total\")\n",
    "plt.yscale('log')\n",
    "plt.ylim(1e3,1e6)\n",
    "plt.legend(loc='upper right')\n",
    "plt.show()"
   ]
  },
  {
   "cell_type": "markdown",
   "metadata": {},
   "source": [
    "## Problem I"
   ]
  },
  {
   "cell_type": "markdown",
   "metadata": {},
   "source": [
    "Look up an appropriate decay chain and plot a no equilibrium diagram"
   ]
  },
  {
   "cell_type": "markdown",
   "metadata": {},
   "source": [
    "The decay of $^{131}$Te (T=25.0 m) to $^{131}$I (T=8.02070 d)"
   ]
  },
  {
   "cell_type": "code",
   "execution_count": 183,
   "metadata": {
    "collapsed": true
   },
   "outputs": [],
   "source": [
    "def activity_i_te(t, initial=1e5, half_life=25.0):\n",
    "    l = np.log(2) / half_life\n",
    "    return initial * np.exp(-l * t)\n",
    "\n",
    "def activity_i_i(t, initial=0, half_life=8.02070*24*60):\n",
    "    l_d = np.log(2) / half_life\n",
    "    l_p = np.log(2) / (25.0)\n",
    "    a_1 = l_d / (l_d - l_p) * 1e5\n",
    "    a_2 = (np.exp(-l_p * t) - np.exp(-l_d * t))\n",
    "    return a_1 * a_2\n",
    "\n",
    "def activity_i_total(t):\n",
    "    return activity_i_te(t) + activity_i_i(t)"
   ]
  },
  {
   "cell_type": "code",
   "execution_count": 186,
   "metadata": {
    "collapsed": false
   },
   "outputs": [
    {
     "data": {
      "image/png": "[encoded data removed]",
      "text/plain": [
       "<matplotlib.figure.Figure at 0x10e3ac3d0>"
      ]
     },
     "metadata": {},
     "output_type": "display_data"
    }
   ],
   "source": [
    "t_range = np.linspace(0,500,1e5)\n",
    "plt.plot(t_range, activity_i_te(t_range), label=r'$^{131}$Te')\n",
    "plt.plot(t_range, activity_i_i(t_range), label=r'$^{131}$I')\n",
    "plt.plot(t_range, activity_i_total(t_range), label=\"Total\")\n",
    "plt.yscale('log')\n",
    "plt.ylim(1e2,1e5)\n",
    "plt.legend(loc='upper right')\n",
    "plt.show()"
   ]
  },
  {
   "cell_type": "code",
   "execution_count": null,
   "metadata": {
    "collapsed": true
   },
   "outputs": [],
   "source": []
  }
 ],
 "metadata": {
  "anaconda-cloud": {},
  "kernelspec": {
   "display_name": "Python [conda env:nuc]",
   "language": "python",
   "name": "conda-env-nuc-py"
  },
  "language_info": {
   "codemirror_mode": {
    "name": "ipython",
    "version": 2
   },
   "file_extension": ".py",
   "mimetype": "text/x-python",
   "name": "python",
   "nbconvert_exporter": "python",
   "pygments_lexer": "ipython2",
   "version": "2.7.12"
  },
  "latex_envs": {
   "bibliofile": "biblio.bib",
   "cite_by": "apalike",
   "current_citInitial": 1,
   "eqLabelWithNumbers": true,
   "eqNumInitial": 0
  }
 },
 "nbformat": 4,
 "nbformat_minor": 1
}
